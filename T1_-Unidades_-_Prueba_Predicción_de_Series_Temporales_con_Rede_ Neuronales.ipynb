{
 "cells": [
  {
   "cell_type": "markdown",
   "metadata": {},
   "source": [
    "# Predicción de Series Temporales con Redes Neuronales"
   ]
  },
  {
   "cell_type": "markdown",
   "metadata": {},
   "source": [
    "## Usaremos Keras y Tensorflow"
   ]
  },
  {
   "cell_type": "markdown",
   "metadata": {},
   "source": [
    "Usaremos una arquitectura sencilla de red neuronal FeedForward (también llamada MLP por sus siglas Multi-Layered Perceptron), con pocas neuronas y como método de activación tangente hiperbólica pues entregaremos valores transformados entre -1 y 1"
   ]
  },
  {
   "cell_type": "code",
   "execution_count": 1,
   "metadata": {},
   "outputs": [
    {
     "name": "stderr",
     "output_type": "stream",
     "text": [
      "Using TensorFlow backend.\n"
     ]
    }
   ],
   "source": [
    "import pandas as pd\n",
    "import numpy as np\n",
    "import matplotlib.pylab as plt\n",
    "%matplotlib inline\n",
    "plt.rcParams['figure.figsize'] = (16, 9)\n",
    "plt.style.use('fast')\n",
    "import datetime\n",
    "\n",
    "from keras.models import Sequential\n",
    "from keras.layers import Dense,Activation,Flatten\n",
    "from sklearn.preprocessing import MinMaxScaler\n",
    " "
   ]
  },
  {
   "cell_type": "markdown",
   "metadata": {},
   "source": [
    "### Cargamos nuestro Dataset"
   ]
  },
  {
   "cell_type": "code",
   "execution_count": 2,
   "metadata": {},
   "outputs": [
    {
     "data": {
      "text/html": [
       "<div>\n",
       "<style scoped>\n",
       "    .dataframe tbody tr th:only-of-type {\n",
       "        vertical-align: middle;\n",
       "    }\n",
       "\n",
       "    .dataframe tbody tr th {\n",
       "        vertical-align: top;\n",
       "    }\n",
       "\n",
       "    .dataframe thead th {\n",
       "        text-align: right;\n",
       "    }\n",
       "</style>\n",
       "<table border=\"1\" class=\"dataframe\">\n",
       "  <thead>\n",
       "    <tr style=\"text-align: right;\">\n",
       "      <th></th>\n",
       "      <th>unidades</th>\n",
       "    </tr>\n",
       "    <tr>\n",
       "      <th>fecha</th>\n",
       "      <th></th>\n",
       "    </tr>\n",
       "  </thead>\n",
       "  <tbody>\n",
       "    <tr>\n",
       "      <th>2018-04-04</th>\n",
       "      <td>118</td>\n",
       "    </tr>\n",
       "    <tr>\n",
       "      <th>2018-04-05</th>\n",
       "      <td>33</td>\n",
       "    </tr>\n",
       "    <tr>\n",
       "      <th>2018-04-06</th>\n",
       "      <td>67</td>\n",
       "    </tr>\n",
       "    <tr>\n",
       "      <th>2018-04-07</th>\n",
       "      <td>228</td>\n",
       "    </tr>\n",
       "    <tr>\n",
       "      <th>2018-04-08</th>\n",
       "      <td>200</td>\n",
       "    </tr>\n",
       "  </tbody>\n",
       "</table>\n",
       "</div>"
      ],
      "text/plain": [
       "            unidades\n",
       "fecha               \n",
       "2018-04-04       118\n",
       "2018-04-05        33\n",
       "2018-04-06        67\n",
       "2018-04-07       228\n",
       "2018-04-08       200"
      ]
     },
     "execution_count": 2,
     "metadata": {},
     "output_type": "execute_result"
    }
   ],
   "source": [
    "df = pd.read_csv('Prueba_Unidades.csv', parse_dates=[0], header=None, index_col=0, names=['fecha','unidades'])\n",
    "df.head()"
   ]
  },
  {
   "cell_type": "code",
   "execution_count": 3,
   "metadata": {},
   "outputs": [
    {
     "name": "stdout",
     "output_type": "stream",
     "text": [
      "2018-04-04 00:00:00\n",
      "2019-06-21 00:00:00\n"
     ]
    }
   ],
   "source": [
    "print(df.index.min())\n",
    "print(df.index.max())"
   ]
  },
  {
   "cell_type": "code",
   "execution_count": 4,
   "metadata": {},
   "outputs": [
    {
     "name": "stdout",
     "output_type": "stream",
     "text": [
      "241\n",
      "170\n"
     ]
    }
   ],
   "source": [
    "print(len(df['2018']))\n",
    "print(len(df['2019']))"
   ]
  },
  {
   "cell_type": "code",
   "execution_count": 5,
   "metadata": {},
   "outputs": [
    {
     "data": {
      "text/html": [
       "<div>\n",
       "<style scoped>\n",
       "    .dataframe tbody tr th:only-of-type {\n",
       "        vertical-align: middle;\n",
       "    }\n",
       "\n",
       "    .dataframe tbody tr th {\n",
       "        vertical-align: top;\n",
       "    }\n",
       "\n",
       "    .dataframe thead th {\n",
       "        text-align: right;\n",
       "    }\n",
       "</style>\n",
       "<table border=\"1\" class=\"dataframe\">\n",
       "  <thead>\n",
       "    <tr style=\"text-align: right;\">\n",
       "      <th></th>\n",
       "      <th>unidades</th>\n",
       "    </tr>\n",
       "  </thead>\n",
       "  <tbody>\n",
       "    <tr>\n",
       "      <th>count</th>\n",
       "      <td>411.000000</td>\n",
       "    </tr>\n",
       "    <tr>\n",
       "      <th>mean</th>\n",
       "      <td>1215.442822</td>\n",
       "    </tr>\n",
       "    <tr>\n",
       "      <th>std</th>\n",
       "      <td>2411.684449</td>\n",
       "    </tr>\n",
       "    <tr>\n",
       "      <th>min</th>\n",
       "      <td>1.000000</td>\n",
       "    </tr>\n",
       "    <tr>\n",
       "      <th>25%</th>\n",
       "      <td>170.500000</td>\n",
       "    </tr>\n",
       "    <tr>\n",
       "      <th>50%</th>\n",
       "      <td>490.000000</td>\n",
       "    </tr>\n",
       "    <tr>\n",
       "      <th>75%</th>\n",
       "      <td>1175.000000</td>\n",
       "    </tr>\n",
       "    <tr>\n",
       "      <th>max</th>\n",
       "      <td>16614.000000</td>\n",
       "    </tr>\n",
       "  </tbody>\n",
       "</table>\n",
       "</div>"
      ],
      "text/plain": [
       "           unidades\n",
       "count    411.000000\n",
       "mean    1215.442822\n",
       "std     2411.684449\n",
       "min        1.000000\n",
       "25%      170.500000\n",
       "50%      490.000000\n",
       "75%     1175.000000\n",
       "max    16614.000000"
      ]
     },
     "execution_count": 5,
     "metadata": {},
     "output_type": "execute_result"
    }
   ],
   "source": [
    "df.describe()"
   ]
  },
  {
   "cell_type": "code",
   "execution_count": 6,
   "metadata": {},
   "outputs": [
    {
     "data": {
      "text/html": [
       "<div>\n",
       "<style scoped>\n",
       "    .dataframe tbody tr th:only-of-type {\n",
       "        vertical-align: middle;\n",
       "    }\n",
       "\n",
       "    .dataframe tbody tr th {\n",
       "        vertical-align: top;\n",
       "    }\n",
       "\n",
       "    .dataframe thead th {\n",
       "        text-align: right;\n",
       "    }\n",
       "</style>\n",
       "<table border=\"1\" class=\"dataframe\">\n",
       "  <thead>\n",
       "    <tr style=\"text-align: right;\">\n",
       "      <th></th>\n",
       "      <th>unidades</th>\n",
       "    </tr>\n",
       "    <tr>\n",
       "      <th>fecha</th>\n",
       "      <th></th>\n",
       "    </tr>\n",
       "  </thead>\n",
       "  <tbody>\n",
       "    <tr>\n",
       "      <th>2018-04-30</th>\n",
       "      <td>239.777778</td>\n",
       "    </tr>\n",
       "    <tr>\n",
       "      <th>2018-05-31</th>\n",
       "      <td>3063.375000</td>\n",
       "    </tr>\n",
       "    <tr>\n",
       "      <th>2018-06-30</th>\n",
       "      <td>783.800000</td>\n",
       "    </tr>\n",
       "    <tr>\n",
       "      <th>2018-07-31</th>\n",
       "      <td>768.703704</td>\n",
       "    </tr>\n",
       "    <tr>\n",
       "      <th>2018-08-31</th>\n",
       "      <td>1054.962963</td>\n",
       "    </tr>\n",
       "    <tr>\n",
       "      <th>2018-09-30</th>\n",
       "      <td>722.000000</td>\n",
       "    </tr>\n",
       "    <tr>\n",
       "      <th>2018-10-31</th>\n",
       "      <td>1945.517241</td>\n",
       "    </tr>\n",
       "    <tr>\n",
       "      <th>2018-11-30</th>\n",
       "      <td>1530.148148</td>\n",
       "    </tr>\n",
       "    <tr>\n",
       "      <th>2018-12-31</th>\n",
       "      <td>918.206897</td>\n",
       "    </tr>\n",
       "    <tr>\n",
       "      <th>2019-01-31</th>\n",
       "      <td>813.516129</td>\n",
       "    </tr>\n",
       "    <tr>\n",
       "      <th>2019-02-28</th>\n",
       "      <td>938.678571</td>\n",
       "    </tr>\n",
       "    <tr>\n",
       "      <th>2019-03-31</th>\n",
       "      <td>972.586207</td>\n",
       "    </tr>\n",
       "    <tr>\n",
       "      <th>2019-04-30</th>\n",
       "      <td>408.233333</td>\n",
       "    </tr>\n",
       "    <tr>\n",
       "      <th>2019-05-31</th>\n",
       "      <td>2760.612903</td>\n",
       "    </tr>\n",
       "    <tr>\n",
       "      <th>2019-06-30</th>\n",
       "      <td>1431.000000</td>\n",
       "    </tr>\n",
       "  </tbody>\n",
       "</table>\n",
       "</div>"
      ],
      "text/plain": [
       "               unidades\n",
       "fecha                  \n",
       "2018-04-30   239.777778\n",
       "2018-05-31  3063.375000\n",
       "2018-06-30   783.800000\n",
       "2018-07-31   768.703704\n",
       "2018-08-31  1054.962963\n",
       "2018-09-30   722.000000\n",
       "2018-10-31  1945.517241\n",
       "2018-11-30  1530.148148\n",
       "2018-12-31   918.206897\n",
       "2019-01-31   813.516129\n",
       "2019-02-28   938.678571\n",
       "2019-03-31   972.586207\n",
       "2019-04-30   408.233333\n",
       "2019-05-31  2760.612903\n",
       "2019-06-30  1431.000000"
      ]
     },
     "execution_count": 6,
     "metadata": {},
     "output_type": "execute_result"
    }
   ],
   "source": [
    "meses =df.resample('M').mean()\n",
    "meses"
   ]
  },
  {
   "cell_type": "markdown",
   "metadata": {},
   "source": [
    "## Visualizaciones"
   ]
  },
  {
   "cell_type": "code",
   "execution_count": 7,
   "metadata": {},
   "outputs": [
    {
     "data": {
      "text/plain": [
       "[<matplotlib.lines.Line2D at 0x1adf243ca88>]"
      ]
     },
     "execution_count": 7,
     "metadata": {},
     "output_type": "execute_result"
    },
    {
     "data": {
      "image/png": "[encoded data removed]",
      "text/plain": [
       "<Figure size 432x288 with 1 Axes>"
      ]
     },
     "metadata": {
      "needs_background": "light"
     },
     "output_type": "display_data"
    }
   ],
   "source": [
    "plt.plot(meses['2018'].values) # en azul\n",
    "plt.plot(meses['2019'].values) # en naranja"
   ]
  },
  {
   "cell_type": "code",
   "execution_count": 8,
   "metadata": {},
   "outputs": [
    {
     "data": {
      "text/plain": [
       "[<matplotlib.lines.Line2D at 0x1adf2571988>]"
      ]
     },
     "execution_count": 8,
     "metadata": {},
     "output_type": "execute_result"
    },
    {
     "data": {
      "image/png": "[encoded data removed]",
      "text/plain": [
       "<Figure size 432x288 with 1 Axes>"
      ]
     },
     "metadata": {
      "needs_background": "light"
     },
     "output_type": "display_data"
    }
   ],
   "source": [
    "ver_2018 = df['2018-04-01':'2018-06-01']  # en azul\n",
    "plt.plot(ver_2018.values)\n",
    "ver_2019 = df['2019-04-01':'2019-06-01'] # en naranja\n",
    "plt.plot(ver_2019.values)"
   ]
  },
  {
   "cell_type": "markdown",
   "metadata": {},
   "source": [
    "## Preprocesado de los datos"
   ]
  },
  {
   "cell_type": "markdown",
   "metadata": {},
   "source": [
    "### Pronóstico de unidades Diarias con Redes Neuronal\n",
    "\n",
    "Lo que haremos es tomar nuestra serie temporal y la convertiremos en un «problema de tipo supervisado« para poder alimentar nuestra red neuronal y poder entrenarla con backpropagation"
   ]
  },
  {
   "cell_type": "code",
   "execution_count": 9,
   "metadata": {},
   "outputs": [],
   "source": [
    "# Lo que haremos -en este ejemplo- es tomar los 7 días previos para «obtener» el octavo\n",
    "# Entradas: serán «7 columnas» que representan las unidades en unidades de los 7 días anteriores.\n",
    "# Salida: El valor del «8vo día». Es decir, las unidades (en unidades) de ese día"
   ]
  },
  {
   "cell_type": "code",
   "execution_count": 10,
   "metadata": {},
   "outputs": [
    {
     "data": {
      "text/html": [
       "<div>\n",
       "<style scoped>\n",
       "    .dataframe tbody tr th:only-of-type {\n",
       "        vertical-align: middle;\n",
       "    }\n",
       "\n",
       "    .dataframe tbody tr th {\n",
       "        vertical-align: top;\n",
       "    }\n",
       "\n",
       "    .dataframe thead th {\n",
       "        text-align: right;\n",
       "    }\n",
       "</style>\n",
       "<table border=\"1\" class=\"dataframe\">\n",
       "  <thead>\n",
       "    <tr style=\"text-align: right;\">\n",
       "      <th></th>\n",
       "      <th>var1(t-7)</th>\n",
       "      <th>var1(t-6)</th>\n",
       "      <th>var1(t-5)</th>\n",
       "      <th>var1(t-4)</th>\n",
       "      <th>var1(t-3)</th>\n",
       "      <th>var1(t-2)</th>\n",
       "      <th>var1(t-1)</th>\n",
       "      <th>var1(t)</th>\n",
       "    </tr>\n",
       "  </thead>\n",
       "  <tbody>\n",
       "    <tr>\n",
       "      <th>7</th>\n",
       "      <td>-0.985915</td>\n",
       "      <td>-0.996148</td>\n",
       "      <td>-0.992054</td>\n",
       "      <td>-0.972672</td>\n",
       "      <td>-0.976043</td>\n",
       "      <td>-0.960874</td>\n",
       "      <td>-0.952688</td>\n",
       "      <td>-0.966051</td>\n",
       "    </tr>\n",
       "    <tr>\n",
       "      <th>8</th>\n",
       "      <td>-0.996148</td>\n",
       "      <td>-0.992054</td>\n",
       "      <td>-0.972672</td>\n",
       "      <td>-0.976043</td>\n",
       "      <td>-0.960874</td>\n",
       "      <td>-0.952688</td>\n",
       "      <td>-0.966051</td>\n",
       "      <td>-0.970866</td>\n",
       "    </tr>\n",
       "    <tr>\n",
       "      <th>9</th>\n",
       "      <td>-0.992054</td>\n",
       "      <td>-0.972672</td>\n",
       "      <td>-0.976043</td>\n",
       "      <td>-0.960874</td>\n",
       "      <td>-0.952688</td>\n",
       "      <td>-0.966051</td>\n",
       "      <td>-0.970866</td>\n",
       "      <td>-0.946668</td>\n",
       "    </tr>\n",
       "    <tr>\n",
       "      <th>10</th>\n",
       "      <td>-0.972672</td>\n",
       "      <td>-0.976043</td>\n",
       "      <td>-0.960874</td>\n",
       "      <td>-0.952688</td>\n",
       "      <td>-0.966051</td>\n",
       "      <td>-0.970866</td>\n",
       "      <td>-0.946668</td>\n",
       "      <td>-0.950641</td>\n",
       "    </tr>\n",
       "    <tr>\n",
       "      <th>11</th>\n",
       "      <td>-0.976043</td>\n",
       "      <td>-0.960874</td>\n",
       "      <td>-0.952688</td>\n",
       "      <td>-0.966051</td>\n",
       "      <td>-0.970866</td>\n",
       "      <td>-0.946668</td>\n",
       "      <td>-0.950641</td>\n",
       "      <td>-0.939686</td>\n",
       "    </tr>\n",
       "  </tbody>\n",
       "</table>\n",
       "</div>"
      ],
      "text/plain": [
       "    var1(t-7)  var1(t-6)  var1(t-5)  var1(t-4)  var1(t-3)  var1(t-2)  \\\n",
       "7   -0.985915  -0.996148  -0.992054  -0.972672  -0.976043  -0.960874   \n",
       "8   -0.996148  -0.992054  -0.972672  -0.976043  -0.960874  -0.952688   \n",
       "9   -0.992054  -0.972672  -0.976043  -0.960874  -0.952688  -0.966051   \n",
       "10  -0.972672  -0.976043  -0.960874  -0.952688  -0.966051  -0.970866   \n",
       "11  -0.976043  -0.960874  -0.952688  -0.966051  -0.970866  -0.946668   \n",
       "\n",
       "    var1(t-1)   var1(t)  \n",
       "7   -0.952688 -0.966051  \n",
       "8   -0.966051 -0.970866  \n",
       "9   -0.970866 -0.946668  \n",
       "10  -0.946668 -0.950641  \n",
       "11  -0.950641 -0.939686  "
      ]
     },
     "execution_count": 10,
     "metadata": {},
     "output_type": "execute_result"
    }
   ],
   "source": [
    "# utilizamos el MinMaxScaler para transformar el rango de nuestros valores entre -1 y 1\n",
    "PASOS=7\n",
    " \n",
    "# convert series to supervised learning\n",
    "def series_to_supervised(data, n_in=1, n_out=1, dropnan=True):\n",
    "    n_vars = 1 if type(data) is list else data.shape[1]\n",
    "    df = pd.DataFrame(data)\n",
    "    cols, names = list(), list()\n",
    "    # input sequence (t-n, ... t-1)\n",
    "    for i in range(n_in, 0, -1):\n",
    "        cols.append(df.shift(i))\n",
    "        names += [('var%d(t-%d)' % (j+1, i)) for j in range(n_vars)]\n",
    "    # forecast sequence (t, t+1, ... t+n)\n",
    "    for i in range(0, n_out):\n",
    "        cols.append(df.shift(-i))\n",
    "        if i == 0:\n",
    "            names += [('var%d(t)' % (j+1)) for j in range(n_vars)]\n",
    "        else:\n",
    "            names += [('var%d(t+%d)' % (j+1, i)) for j in range(n_vars)]\n",
    "    # put it all together\n",
    "    agg = pd.concat(cols, axis=1)\n",
    "    agg.columns = names\n",
    "    # drop rows with NaN values\n",
    "    if dropnan:\n",
    "        agg.dropna(inplace=True)\n",
    "    return agg\n",
    " \n",
    "# load dataset\n",
    "values = df.values\n",
    "# ensure all data is float\n",
    "values = values.astype('float32')\n",
    "# normalize features\n",
    "scaler = MinMaxScaler(feature_range=(-1, 1))\n",
    "values=values.reshape(-1, 1) # esto lo hacemos porque tenemos 1 sola dimension\n",
    "scaled = scaler.fit_transform(values)\n",
    "# frame as supervised learning\n",
    "reframed = series_to_supervised(scaled, PASOS, 1)\n",
    "reframed.head()"
   ]
  },
  {
   "cell_type": "code",
   "execution_count": 11,
   "metadata": {},
   "outputs": [],
   "source": [
    "# Usaremos como entradas las columnas encabezadas como var1(t-7) a (t-1) y nuestra salida\n",
    "# (lo que sería el valor «Y» de la función) será el var1(t) -la última columna-"
   ]
  },
  {
   "cell_type": "markdown",
   "metadata": {},
   "source": [
    "# Creamos la Red Neuronal Artificial\n",
    "\n",
    "## Dividimos en set de Entrenamiento y Validación\n",
    "Antes de crear la red neuronal, subdividiremos nuestro conjunto de datos en train y en validación. ATENCIÓN, algo importante de este procedimiento, a diferencia de en otros problemas en los que podemos «mezclar» los datos de entrada, es que en este caso nos importa mantener el orden en el que alimentaremos la red. Por lo tanto, haremos una subdivisión de los primeros 567 días consecutivos para entrenamiento de la red y los siguientes 30 para su validación."
   ]
  },
  {
   "cell_type": "code",
   "execution_count": 12,
   "metadata": {},
   "outputs": [
    {
     "name": "stdout",
     "output_type": "stream",
     "text": [
      "(365, 1, 7) (365,) (39, 1, 7) (39,)\n"
     ]
    }
   ],
   "source": [
    "# split into train and test sets\n",
    "values = reframed.values\n",
    "n_train_days = 402 - (30+PASOS)\n",
    "train = values[:n_train_days, :]\n",
    "test = values[n_train_days:, :]\n",
    "# split into input and outputs\n",
    "x_train, y_train = train[:, :-1], train[:, -1]\n",
    "x_val, y_val = test[:, :-1], test[:, -1]\n",
    "# reshape input to be 3D [samples, timesteps, features]\n",
    "x_train = x_train.reshape((x_train.shape[0], 1, x_train.shape[1]))\n",
    "x_val = x_val.reshape((x_val.shape[0], 1, x_val.shape[1]))\n",
    "print(x_train.shape, y_train.shape, x_val.shape, y_val.shape)"
   ]
  },
  {
   "cell_type": "markdown",
   "metadata": {},
   "source": [
    "## Utilizaremos una Red \"normal\" Feedforward\n",
    "\n",
    "#### La arquitectura de la red neuronal será:\n",
    "\n",
    "Entrada 7 inputs, como dijimos antes\n",
    "1 capa oculta con 7 neuronas (este valor lo escogí yo, pero se puede variar)\n",
    "La salida será 1 sola neurona\n",
    "Como función de activación utilizamos tangente hiperbólica puesto que utilizaremos valores entre -1 y 1.\n",
    "Utilizaremos como optimizador Adam y métrica de pérdida (loss) Mean Absolute Error\n",
    "Como la predicción será un valor continuo y no discreto, para calcular el Acuracy utilizaremos Mean Squared Error y para saber si mejora con el entrenamiento se debería ir reduciendo con las EPOCHS."
   ]
  },
  {
   "cell_type": "code",
   "execution_count": 13,
   "metadata": {},
   "outputs": [],
   "source": [
    "def crear_modeloFF():\n",
    "    model = Sequential() \n",
    "    model.add(Dense(PASOS, input_shape=(1,PASOS),activation='tanh'))\n",
    "    model.add(Flatten())\n",
    "    model.add(Dense(1, activation='tanh'))\n",
    "    model.compile(loss='mean_absolute_error',optimizer='Adam',metrics=[\"mse\"])\n",
    "    model.summary()\n",
    "    return model"
   ]
  },
  {
   "cell_type": "markdown",
   "metadata": {},
   "source": [
    "   ## Entrenamiento y Resultados"
   ]
  },
  {
   "cell_type": "code",
   "execution_count": 14,
   "metadata": {},
   "outputs": [
    {
     "name": "stderr",
     "output_type": "stream",
     "text": [
      "WARNING: Logging before flag parsing goes to stderr.\n",
      "W0826 01:21:38.413880  9876 deprecation_wrapper.py:119] From C:\\Users\\hmarq\\Anaconda3\\envs\\Pippo\\lib\\site-packages\\keras\\backend\\tensorflow_backend.py:74: The name tf.get_default_graph is deprecated. Please use tf.compat.v1.get_default_graph instead.\n",
      "\n",
      "W0826 01:21:38.543277  9876 deprecation_wrapper.py:119] From C:\\Users\\hmarq\\Anaconda3\\envs\\Pippo\\lib\\site-packages\\keras\\backend\\tensorflow_backend.py:517: The name tf.placeholder is deprecated. Please use tf.compat.v1.placeholder instead.\n",
      "\n",
      "W0826 01:21:38.559278  9876 deprecation_wrapper.py:119] From C:\\Users\\hmarq\\Anaconda3\\envs\\Pippo\\lib\\site-packages\\keras\\backend\\tensorflow_backend.py:4138: The name tf.random_uniform is deprecated. Please use tf.random.uniform instead.\n",
      "\n",
      "W0826 01:21:38.863293  9876 deprecation_wrapper.py:119] From C:\\Users\\hmarq\\Anaconda3\\envs\\Pippo\\lib\\site-packages\\keras\\optimizers.py:790: The name tf.train.Optimizer is deprecated. Please use tf.compat.v1.train.Optimizer instead.\n",
      "\n"
     ]
    },
    {
     "name": "stdout",
     "output_type": "stream",
     "text": [
      "_________________________________________________________________\n",
      "Layer (type)                 Output Shape              Param #   \n",
      "=================================================================\n",
      "dense_1 (Dense)              (None, 1, 7)              56        \n",
      "_________________________________________________________________\n",
      "flatten_1 (Flatten)          (None, 7)                 0         \n",
      "_________________________________________________________________\n",
      "dense_2 (Dense)              (None, 1)                 8         \n",
      "=================================================================\n",
      "Total params: 64\n",
      "Trainable params: 64\n",
      "Non-trainable params: 0\n",
      "_________________________________________________________________\n"
     ]
    },
    {
     "name": "stderr",
     "output_type": "stream",
     "text": [
      "W0826 01:21:39.807447  9876 deprecation_wrapper.py:119] From C:\\Users\\hmarq\\Anaconda3\\envs\\Pippo\\lib\\site-packages\\keras\\backend\\tensorflow_backend.py:986: The name tf.assign_add is deprecated. Please use tf.compat.v1.assign_add instead.\n",
      "\n",
      "W0826 01:21:40.384493  9876 deprecation_wrapper.py:119] From C:\\Users\\hmarq\\Anaconda3\\envs\\Pippo\\lib\\site-packages\\keras\\backend\\tensorflow_backend.py:973: The name tf.assign is deprecated. Please use tf.compat.v1.assign instead.\n",
      "\n"
     ]
    },
    {
     "name": "stdout",
     "output_type": "stream",
     "text": [
      "Train on 365 samples, validate on 39 samples\n",
      "Epoch 1/40\n",
      "365/365 [==============================] - 4s 11ms/step - loss: 0.6059 - mean_squared_error: 0.4507 - val_loss: 0.3509 - val_mean_squared_error: 0.2428\n",
      "Epoch 2/40\n",
      "365/365 [==============================] - 0s 591us/step - loss: 0.2022 - mean_squared_error: 0.0992 - val_loss: 0.2715 - val_mean_squared_error: 0.2176\n",
      "Epoch 3/40\n",
      "365/365 [==============================] - 0s 762us/step - loss: 0.1355 - mean_squared_error: 0.0829 - val_loss: 0.2725 - val_mean_squared_error: 0.2196\n",
      "Epoch 4/40\n",
      "365/365 [==============================] - 1s 1ms/step - loss: 0.1234 - mean_squared_error: 0.0825 - val_loss: 0.2729 - val_mean_squared_error: 0.2172\n",
      "Epoch 5/40\n",
      "365/365 [==============================] - 0s 803us/step - loss: 0.1197 - mean_squared_error: 0.0820 - val_loss: 0.2716 - val_mean_squared_error: 0.2143\n",
      "Epoch 6/40\n",
      "365/365 [==============================] - 0s 716us/step - loss: 0.1179 - mean_squared_error: 0.0817 - val_loss: 0.2698 - val_mean_squared_error: 0.2113\n",
      "Epoch 7/40\n",
      "365/365 [==============================] - 0s 614us/step - loss: 0.1165 - mean_squared_error: 0.0809 - val_loss: 0.2667 - val_mean_squared_error: 0.2070\n",
      "Epoch 8/40\n",
      "365/365 [==============================] - 0s 556us/step - loss: 0.1154 - mean_squared_error: 0.0800 - val_loss: 0.2629 - val_mean_squared_error: 0.2023\n",
      "Epoch 9/40\n",
      "365/365 [==============================] - 0s 599us/step - loss: 0.1145 - mean_squared_error: 0.0791 - val_loss: 0.2587 - val_mean_squared_error: 0.1970\n",
      "Epoch 10/40\n",
      "365/365 [==============================] - 0s 637us/step - loss: 0.1136 - mean_squared_error: 0.0778 - val_loss: 0.2549 - val_mean_squared_error: 0.1925\n",
      "Epoch 11/40\n",
      "365/365 [==============================] - 0s 599us/step - loss: 0.1128 - mean_squared_error: 0.0769 - val_loss: 0.2505 - val_mean_squared_error: 0.1874\n",
      "Epoch 12/40\n",
      "365/365 [==============================] - 0s 618us/step - loss: 0.1120 - mean_squared_error: 0.0754 - val_loss: 0.2470 - val_mean_squared_error: 0.1833\n",
      "Epoch 13/40\n",
      "365/365 [==============================] - 0s 557us/step - loss: 0.1111 - mean_squared_error: 0.0741 - val_loss: 0.2417 - val_mean_squared_error: 0.1770\n",
      "Epoch 14/40\n",
      "365/365 [==============================] - 0s 585us/step - loss: 0.1103 - mean_squared_error: 0.0728 - val_loss: 0.2373 - val_mean_squared_error: 0.1720\n",
      "Epoch 15/40\n",
      "365/365 [==============================] - 0s 556us/step - loss: 0.1094 - mean_squared_error: 0.0718 - val_loss: 0.2341 - val_mean_squared_error: 0.1681\n",
      "Epoch 16/40\n",
      "365/365 [==============================] - 0s 645us/step - loss: 0.1085 - mean_squared_error: 0.0702 - val_loss: 0.2294 - val_mean_squared_error: 0.1608\n",
      "Epoch 17/40\n",
      "365/365 [==============================] - 0s 741us/step - loss: 0.1076 - mean_squared_error: 0.0685 - val_loss: 0.2264 - val_mean_squared_error: 0.1563\n",
      "Epoch 18/40\n",
      "365/365 [==============================] - 0s 799us/step - loss: 0.1067 - mean_squared_error: 0.0670 - val_loss: 0.2224 - val_mean_squared_error: 0.1504\n",
      "Epoch 19/40\n",
      "365/365 [==============================] - 0s 790us/step - loss: 0.1057 - mean_squared_error: 0.0651 - val_loss: 0.2173 - val_mean_squared_error: 0.1419\n",
      "Epoch 20/40\n",
      "365/365 [==============================] - 0s 588us/step - loss: 0.1046 - mean_squared_error: 0.0627 - val_loss: 0.2120 - val_mean_squared_error: 0.1332\n",
      "Epoch 21/40\n",
      "365/365 [==============================] - 0s 685us/step - loss: 0.1035 - mean_squared_error: 0.0601 - val_loss: 0.2045 - val_mean_squared_error: 0.1208\n",
      "Epoch 22/40\n",
      "365/365 [==============================] - 0s 593us/step - loss: 0.1020 - mean_squared_error: 0.0582 - val_loss: 0.2007 - val_mean_squared_error: 0.1153\n",
      "Epoch 23/40\n",
      "365/365 [==============================] - 0s 642us/step - loss: 0.1004 - mean_squared_error: 0.0543 - val_loss: 0.1910 - val_mean_squared_error: 0.0999\n",
      "Epoch 24/40\n",
      "365/365 [==============================] - 0s 683us/step - loss: 0.0986 - mean_squared_error: 0.0519 - val_loss: 0.1841 - val_mean_squared_error: 0.0900\n",
      "Epoch 25/40\n",
      "365/365 [==============================] - 0s 599us/step - loss: 0.0968 - mean_squared_error: 0.0499 - val_loss: 0.1762 - val_mean_squared_error: 0.0795\n",
      "Epoch 26/40\n",
      "365/365 [==============================] - 0s 598us/step - loss: 0.0949 - mean_squared_error: 0.0482 - val_loss: 0.1666 - val_mean_squared_error: 0.0671\n",
      "Epoch 27/40\n",
      "365/365 [==============================] - 0s 514us/step - loss: 0.0930 - mean_squared_error: 0.0457 - val_loss: 0.1575 - val_mean_squared_error: 0.0569\n",
      "Epoch 28/40\n",
      "365/365 [==============================] - 0s 557us/step - loss: 0.0917 - mean_squared_error: 0.0453 - val_loss: 0.1507 - val_mean_squared_error: 0.0495\n",
      "Epoch 29/40\n",
      "365/365 [==============================] - 0s 608us/step - loss: 0.0904 - mean_squared_error: 0.0448 - val_loss: 0.1468 - val_mean_squared_error: 0.0457\n",
      "Epoch 30/40\n",
      "365/365 [==============================] - 0s 599us/step - loss: 0.0896 - mean_squared_error: 0.0445 - val_loss: 0.1429 - val_mean_squared_error: 0.0429\n",
      "Epoch 31/40\n",
      "365/365 [==============================] - 0s 591us/step - loss: 0.0892 - mean_squared_error: 0.0443 - val_loss: 0.1368 - val_mean_squared_error: 0.0390\n",
      "Epoch 32/40\n",
      "365/365 [==============================] - 0s 599us/step - loss: 0.0888 - mean_squared_error: 0.0438 - val_loss: 0.1361 - val_mean_squared_error: 0.0386\n",
      "Epoch 33/40\n",
      "365/365 [==============================] - 0s 640us/step - loss: 0.0882 - mean_squared_error: 0.0441 - val_loss: 0.1334 - val_mean_squared_error: 0.0371\n",
      "Epoch 34/40\n",
      "365/365 [==============================] - 0s 685us/step - loss: 0.0879 - mean_squared_error: 0.0437 - val_loss: 0.1320 - val_mean_squared_error: 0.0366\n",
      "Epoch 35/40\n",
      "365/365 [==============================] - 0s 689us/step - loss: 0.0880 - mean_squared_error: 0.0442 - val_loss: 0.1284 - val_mean_squared_error: 0.0340\n",
      "Epoch 36/40\n",
      "365/365 [==============================] - 0s 728us/step - loss: 0.0874 - mean_squared_error: 0.0437 - val_loss: 0.1285 - val_mean_squared_error: 0.0341\n",
      "Epoch 37/40\n",
      "365/365 [==============================] - 0s 661us/step - loss: 0.0877 - mean_squared_error: 0.0444 - val_loss: 0.1306 - val_mean_squared_error: 0.0355\n",
      "Epoch 38/40\n",
      "365/365 [==============================] - 0s 642us/step - loss: 0.0872 - mean_squared_error: 0.0439 - val_loss: 0.1280 - val_mean_squared_error: 0.0336\n",
      "Epoch 39/40\n",
      "365/365 [==============================] - 0s 704us/step - loss: 0.0867 - mean_squared_error: 0.0438 - val_loss: 0.1275 - val_mean_squared_error: 0.0329\n",
      "Epoch 40/40\n",
      "365/365 [==============================] - 0s 667us/step - loss: 0.0867 - mean_squared_error: 0.0437 - val_loss: 0.1261 - val_mean_squared_error: 0.0320\n"
     ]
    }
   ],
   "source": [
    "# En pocos segundos vemos una reducción del valor de pérdida tanto del set de entrenamiento como del de validación. \n",
    "# original EPOCHS = 40, luego voy modificando\n",
    "EPOCHS=40\n",
    " \n",
    "model = crear_modeloFF()\n",
    " \n",
    "history=model.fit(x_train,y_train,epochs=EPOCHS,validation_data=(x_val,y_val),batch_size=PASOS)"
   ]
  },
  {
   "cell_type": "code",
   "execution_count": 15,
   "metadata": {},
   "outputs": [],
   "source": [
    "# Visualizamos al conjunto de validación (recordemos que eran 30 días)"
   ]
  },
  {
   "cell_type": "markdown",
   "metadata": {},
   "source": [
    "## Visualizamos Resultados"
   ]
  },
  {
   "cell_type": "code",
   "execution_count": 16,
   "metadata": {
    "scrolled": false
   },
   "outputs": [
    {
     "name": "stdout",
     "output_type": "stream",
     "text": [
      "39\n"
     ]
    },
    {
     "data": {
      "image/png": "[encoded data removed]",
      "text/plain": [
       "<Figure size 432x288 with 1 Axes>"
      ]
     },
     "metadata": {
      "needs_background": "light"
     },
     "output_type": "display_data"
    }
   ],
   "source": [
    "results=model.predict(x_val)\n",
    "print( len(results) )\n",
    "plt.scatter(range(len(y_val)),y_val,c='g')\n",
    "plt.scatter(range(len(results)),results,c='r')\n",
    "plt.title('validate')\n",
    "plt.show()"
   ]
  },
  {
   "cell_type": "markdown",
   "metadata": {},
   "source": [
    "En la gráfica vemos que los puntitos verdes intentan aproximarse a los rojos. Cuanto más cerca ó superpuestos mejor. TIP: Si aumentamos la cantidad de EPOCHS mejora cada vez más."
   ]
  },
  {
   "cell_type": "code",
   "execution_count": 17,
   "metadata": {
    "scrolled": true
   },
   "outputs": [
    {
     "data": {
      "image/png": "[encoded data removed]",
      "text/plain": [
       "<Figure size 432x288 with 1 Axes>"
      ]
     },
     "metadata": {
      "needs_background": "light"
     },
     "output_type": "display_data"
    }
   ],
   "source": [
    "plt.plot(history.history['loss'])\n",
    "plt.title('loss')\n",
    "plt.plot(history.history['val_loss'])\n",
    "plt.title('validate loss')\n",
    "plt.show()"
   ]
  },
  {
   "cell_type": "markdown",
   "metadata": {},
   "source": [
    "Modelo 1) ST1: En azul el Entrenamiento y naranja el set de Validación."
   ]
  },
  {
   "cell_type": "code",
   "execution_count": 18,
   "metadata": {},
   "outputs": [
    {
     "data": {
      "image/png": "[encoded data removed]",
      "text/plain": [
       "<Figure size 432x288 with 1 Axes>"
      ]
     },
     "metadata": {
      "needs_background": "light"
     },
     "output_type": "display_data"
    }
   ],
   "source": [
    "plt.title('Accuracy')\n",
    "plt.plot(history.history['mean_squared_error'])\n",
    "plt.show()"
   ]
  },
  {
   "cell_type": "code",
   "execution_count": 19,
   "metadata": {},
   "outputs": [],
   "source": [
    "# En la gráfica vemos que los puntitos verdes intentan aproximarse a los rojos. Cuanto más cerca ó superpuestos mejor. \n",
    "# TIP: Si aumentamos la cantidad de EPOCHS mejora cada vez más."
   ]
  },
  {
   "cell_type": "code",
   "execution_count": 20,
   "metadata": {},
   "outputs": [],
   "source": [
    "# Veamos y comparemos también cómo disminuye el LOSS tanto en el conjunto de train como el de Validate, esto es bueno\n",
    "# ya que indica que el modelo está aprendiendo. A su vez pareciera no haber overfitting, pues las curvas de train y validate\n",
    "# son distintas."
   ]
  },
  {
   "cell_type": "code",
   "execution_count": 21,
   "metadata": {},
   "outputs": [
    {
     "data": {
      "text/html": [
       "<div>\n",
       "<style scoped>\n",
       "    .dataframe tbody tr th:only-of-type {\n",
       "        vertical-align: middle;\n",
       "    }\n",
       "\n",
       "    .dataframe tbody tr th {\n",
       "        vertical-align: top;\n",
       "    }\n",
       "\n",
       "    .dataframe thead th {\n",
       "        text-align: right;\n",
       "    }\n",
       "</style>\n",
       "<table border=\"1\" class=\"dataframe\">\n",
       "  <thead>\n",
       "    <tr style=\"text-align: right;\">\n",
       "      <th></th>\n",
       "      <th>real</th>\n",
       "      <th>prediccion</th>\n",
       "      <th>diferencia</th>\n",
       "    </tr>\n",
       "  </thead>\n",
       "  <tbody>\n",
       "    <tr>\n",
       "      <th>0</th>\n",
       "      <td>12657.000000</td>\n",
       "      <td>13628.933594</td>\n",
       "      <td>-971.933594</td>\n",
       "    </tr>\n",
       "    <tr>\n",
       "      <th>1</th>\n",
       "      <td>16324.000000</td>\n",
       "      <td>12598.520508</td>\n",
       "      <td>3725.479492</td>\n",
       "    </tr>\n",
       "    <tr>\n",
       "      <th>2</th>\n",
       "      <td>8789.000000</td>\n",
       "      <td>8382.088867</td>\n",
       "      <td>406.911133</td>\n",
       "    </tr>\n",
       "    <tr>\n",
       "      <th>3</th>\n",
       "      <td>4442.000000</td>\n",
       "      <td>4118.960938</td>\n",
       "      <td>323.039062</td>\n",
       "    </tr>\n",
       "    <tr>\n",
       "      <th>4</th>\n",
       "      <td>2878.999756</td>\n",
       "      <td>271.871613</td>\n",
       "      <td>2607.128174</td>\n",
       "    </tr>\n",
       "  </tbody>\n",
       "</table>\n",
       "</div>"
      ],
      "text/plain": [
       "           real    prediccion   diferencia\n",
       "0  12657.000000  13628.933594  -971.933594\n",
       "1  16324.000000  12598.520508  3725.479492\n",
       "2   8789.000000   8382.088867   406.911133\n",
       "3   4442.000000   4118.960938   323.039062\n",
       "4   2878.999756    271.871613  2607.128174"
      ]
     },
     "execution_count": 21,
     "metadata": {},
     "output_type": "execute_result"
    }
   ],
   "source": [
    "compara = pd.DataFrame(np.array([y_val, [x[0] for x in results]])).transpose()\n",
    "compara.columns = ['real', 'prediccion']\n",
    "\n",
    "inverted = scaler.inverse_transform(compara.values)\n",
    "\n",
    "compara2 = pd.DataFrame(inverted)\n",
    "compara2.columns = ['real', 'prediccion']\n",
    "compara2['diferencia'] = compara2['real'] - compara2['prediccion']\n",
    "compara2.head()"
   ]
  },
  {
   "cell_type": "code",
   "execution_count": 22,
   "metadata": {},
   "outputs": [
    {
     "data": {
      "text/html": [
       "<div>\n",
       "<style scoped>\n",
       "    .dataframe tbody tr th:only-of-type {\n",
       "        vertical-align: middle;\n",
       "    }\n",
       "\n",
       "    .dataframe tbody tr th {\n",
       "        vertical-align: top;\n",
       "    }\n",
       "\n",
       "    .dataframe thead th {\n",
       "        text-align: right;\n",
       "    }\n",
       "</style>\n",
       "<table border=\"1\" class=\"dataframe\">\n",
       "  <thead>\n",
       "    <tr style=\"text-align: right;\">\n",
       "      <th></th>\n",
       "      <th>real</th>\n",
       "      <th>prediccion</th>\n",
       "      <th>diferencia</th>\n",
       "    </tr>\n",
       "  </thead>\n",
       "  <tbody>\n",
       "    <tr>\n",
       "      <th>count</th>\n",
       "      <td>39.000000</td>\n",
       "      <td>39.000000</td>\n",
       "      <td>39.000000</td>\n",
       "    </tr>\n",
       "    <tr>\n",
       "      <th>mean</th>\n",
       "      <td>2472.461426</td>\n",
       "      <td>1627.969604</td>\n",
       "      <td>844.492065</td>\n",
       "    </tr>\n",
       "    <tr>\n",
       "      <th>std</th>\n",
       "      <td>3315.075195</td>\n",
       "      <td>3039.557129</td>\n",
       "      <td>1237.449097</td>\n",
       "    </tr>\n",
       "    <tr>\n",
       "      <th>min</th>\n",
       "      <td>88.999756</td>\n",
       "      <td>271.871613</td>\n",
       "      <td>-971.933594</td>\n",
       "    </tr>\n",
       "    <tr>\n",
       "      <th>25%</th>\n",
       "      <td>742.500061</td>\n",
       "      <td>498.548218</td>\n",
       "      <td>-75.519760</td>\n",
       "    </tr>\n",
       "    <tr>\n",
       "      <th>50%</th>\n",
       "      <td>1612.999878</td>\n",
       "      <td>630.919983</td>\n",
       "      <td>437.450439</td>\n",
       "    </tr>\n",
       "    <tr>\n",
       "      <th>75%</th>\n",
       "      <td>3016.000000</td>\n",
       "      <td>993.318024</td>\n",
       "      <td>1296.430786</td>\n",
       "    </tr>\n",
       "    <tr>\n",
       "      <th>max</th>\n",
       "      <td>16324.000000</td>\n",
       "      <td>13628.933594</td>\n",
       "      <td>4212.422852</td>\n",
       "    </tr>\n",
       "  </tbody>\n",
       "</table>\n",
       "</div>"
      ],
      "text/plain": [
       "               real    prediccion   diferencia\n",
       "count     39.000000     39.000000    39.000000\n",
       "mean    2472.461426   1627.969604   844.492065\n",
       "std     3315.075195   3039.557129  1237.449097\n",
       "min       88.999756    271.871613  -971.933594\n",
       "25%      742.500061    498.548218   -75.519760\n",
       "50%     1612.999878    630.919983   437.450439\n",
       "75%     3016.000000    993.318024  1296.430786\n",
       "max    16324.000000  13628.933594  4212.422852"
      ]
     },
     "execution_count": 22,
     "metadata": {},
     "output_type": "execute_result"
    }
   ],
   "source": [
    "compara2.describe()"
   ]
  },
  {
   "cell_type": "code",
   "execution_count": 23,
   "metadata": {},
   "outputs": [
    {
     "data": {
      "text/plain": [
       "<matplotlib.axes._subplots.AxesSubplot at 0x1adf251ea88>"
      ]
     },
     "execution_count": 23,
     "metadata": {},
     "output_type": "execute_result"
    },
    {
     "data": {
      "image/png": "[encoded data removed]",
      "text/plain": [
       "<Figure size 432x288 with 1 Axes>"
      ]
     },
     "metadata": {
      "needs_background": "light"
     },
     "output_type": "display_data"
    }
   ],
   "source": [
    "compara2['real'].plot()\n",
    "compara2['prediccion'].plot()"
   ]
  },
  {
   "cell_type": "markdown",
   "metadata": {},
   "source": [
    "# Predicción\n",
    "\n",
    "## Pronóstico de unidades futuras\n",
    "Ahora que tenemos nuestra red y -suponiendo que realizamos los 7 pasos del ML– la damos por buena, probaremos a realizar una nueva predicción, en este caso, usaremos los últimos días de Mayo 2019 para calcular la primer semana de Junio. Veamos:"
   ]
  },
  {
   "cell_type": "code",
   "execution_count": 24,
   "metadata": {},
   "outputs": [
    {
     "data": {
      "text/html": [
       "<div>\n",
       "<style scoped>\n",
       "    .dataframe tbody tr th:only-of-type {\n",
       "        vertical-align: middle;\n",
       "    }\n",
       "\n",
       "    .dataframe tbody tr th {\n",
       "        vertical-align: top;\n",
       "    }\n",
       "\n",
       "    .dataframe thead th {\n",
       "        text-align: right;\n",
       "    }\n",
       "</style>\n",
       "<table border=\"1\" class=\"dataframe\">\n",
       "  <thead>\n",
       "    <tr style=\"text-align: right;\">\n",
       "      <th></th>\n",
       "      <th>unidades</th>\n",
       "    </tr>\n",
       "    <tr>\n",
       "      <th>fecha</th>\n",
       "      <th></th>\n",
       "    </tr>\n",
       "  </thead>\n",
       "  <tbody>\n",
       "    <tr>\n",
       "      <th>2019-05-16</th>\n",
       "      <td>8789</td>\n",
       "    </tr>\n",
       "    <tr>\n",
       "      <th>2019-05-17</th>\n",
       "      <td>4442</td>\n",
       "    </tr>\n",
       "    <tr>\n",
       "      <th>2019-05-18</th>\n",
       "      <td>2879</td>\n",
       "    </tr>\n",
       "    <tr>\n",
       "      <th>2019-05-19</th>\n",
       "      <td>4560</td>\n",
       "    </tr>\n",
       "    <tr>\n",
       "      <th>2019-05-20</th>\n",
       "      <td>3153</td>\n",
       "    </tr>\n",
       "    <tr>\n",
       "      <th>2019-05-21</th>\n",
       "      <td>696</td>\n",
       "    </tr>\n",
       "    <tr>\n",
       "      <th>2019-05-22</th>\n",
       "      <td>888</td>\n",
       "    </tr>\n",
       "    <tr>\n",
       "      <th>2019-05-23</th>\n",
       "      <td>900</td>\n",
       "    </tr>\n",
       "    <tr>\n",
       "      <th>2019-05-24</th>\n",
       "      <td>3477</td>\n",
       "    </tr>\n",
       "    <tr>\n",
       "      <th>2019-05-25</th>\n",
       "      <td>2239</td>\n",
       "    </tr>\n",
       "    <tr>\n",
       "      <th>2019-05-26</th>\n",
       "      <td>2486</td>\n",
       "    </tr>\n",
       "    <tr>\n",
       "      <th>2019-05-27</th>\n",
       "      <td>1150</td>\n",
       "    </tr>\n",
       "    <tr>\n",
       "      <th>2019-05-28</th>\n",
       "      <td>154</td>\n",
       "    </tr>\n",
       "    <tr>\n",
       "      <th>2019-05-29</th>\n",
       "      <td>1139</td>\n",
       "    </tr>\n",
       "    <tr>\n",
       "      <th>2019-05-30</th>\n",
       "      <td>353</td>\n",
       "    </tr>\n",
       "    <tr>\n",
       "      <th>2019-05-31</th>\n",
       "      <td>89</td>\n",
       "    </tr>\n",
       "  </tbody>\n",
       "</table>\n",
       "</div>"
      ],
      "text/plain": [
       "            unidades\n",
       "fecha               \n",
       "2019-05-16      8789\n",
       "2019-05-17      4442\n",
       "2019-05-18      2879\n",
       "2019-05-19      4560\n",
       "2019-05-20      3153\n",
       "2019-05-21       696\n",
       "2019-05-22       888\n",
       "2019-05-23       900\n",
       "2019-05-24      3477\n",
       "2019-05-25      2239\n",
       "2019-05-26      2486\n",
       "2019-05-27      1150\n",
       "2019-05-28       154\n",
       "2019-05-29      1139\n",
       "2019-05-30       353\n",
       "2019-05-31        89"
      ]
     },
     "execution_count": 24,
     "metadata": {},
     "output_type": "execute_result"
    }
   ],
   "source": [
    "ultimosDias = df['2019-05-16':'2019-05-31']\n",
    "ultimosDias"
   ]
  },
  {
   "cell_type": "markdown",
   "metadata": {},
   "source": [
    "## Preparamos los datos para Test\n",
    "\n",
    "Y ahora seguiremos el mismo preprocesado de datos que hicimos para el entrenamiento: escalando los valores, llamando a la función series_to_supervised pero esta vez sin incluir la columna de salida «Y» pues es la que queremos hallar. Por eso, verán en el código que hacemos drop() de la última columna."
   ]
  },
  {
   "cell_type": "code",
   "execution_count": 25,
   "metadata": {},
   "outputs": [
    {
     "data": {
      "text/html": [
       "<div>\n",
       "<style scoped>\n",
       "    .dataframe tbody tr th:only-of-type {\n",
       "        vertical-align: middle;\n",
       "    }\n",
       "\n",
       "    .dataframe tbody tr th {\n",
       "        vertical-align: top;\n",
       "    }\n",
       "\n",
       "    .dataframe thead th {\n",
       "        text-align: right;\n",
       "    }\n",
       "</style>\n",
       "<table border=\"1\" class=\"dataframe\">\n",
       "  <thead>\n",
       "    <tr style=\"text-align: right;\">\n",
       "      <th></th>\n",
       "      <th>var1(t-7)</th>\n",
       "      <th>var1(t-6)</th>\n",
       "      <th>var1(t-5)</th>\n",
       "      <th>var1(t-4)</th>\n",
       "      <th>var1(t-3)</th>\n",
       "      <th>var1(t-2)</th>\n",
       "      <th>var1(t-1)</th>\n",
       "    </tr>\n",
       "  </thead>\n",
       "  <tbody>\n",
       "    <tr>\n",
       "      <th>7</th>\n",
       "      <td>1.000000</td>\n",
       "      <td>0.000690</td>\n",
       "      <td>-0.358621</td>\n",
       "      <td>0.027816</td>\n",
       "      <td>-0.295632</td>\n",
       "      <td>-0.860460</td>\n",
       "      <td>-0.816322</td>\n",
       "    </tr>\n",
       "    <tr>\n",
       "      <th>8</th>\n",
       "      <td>0.000690</td>\n",
       "      <td>-0.358621</td>\n",
       "      <td>0.027816</td>\n",
       "      <td>-0.295632</td>\n",
       "      <td>-0.860460</td>\n",
       "      <td>-0.816322</td>\n",
       "      <td>-0.813563</td>\n",
       "    </tr>\n",
       "    <tr>\n",
       "      <th>9</th>\n",
       "      <td>-0.358621</td>\n",
       "      <td>0.027816</td>\n",
       "      <td>-0.295632</td>\n",
       "      <td>-0.860460</td>\n",
       "      <td>-0.816322</td>\n",
       "      <td>-0.813563</td>\n",
       "      <td>-0.221149</td>\n",
       "    </tr>\n",
       "    <tr>\n",
       "      <th>10</th>\n",
       "      <td>0.027816</td>\n",
       "      <td>-0.295632</td>\n",
       "      <td>-0.860460</td>\n",
       "      <td>-0.816322</td>\n",
       "      <td>-0.813563</td>\n",
       "      <td>-0.221149</td>\n",
       "      <td>-0.505747</td>\n",
       "    </tr>\n",
       "    <tr>\n",
       "      <th>11</th>\n",
       "      <td>-0.295632</td>\n",
       "      <td>-0.860460</td>\n",
       "      <td>-0.816322</td>\n",
       "      <td>-0.813563</td>\n",
       "      <td>-0.221149</td>\n",
       "      <td>-0.505747</td>\n",
       "      <td>-0.448965</td>\n",
       "    </tr>\n",
       "    <tr>\n",
       "      <th>12</th>\n",
       "      <td>-0.860460</td>\n",
       "      <td>-0.816322</td>\n",
       "      <td>-0.813563</td>\n",
       "      <td>-0.221149</td>\n",
       "      <td>-0.505747</td>\n",
       "      <td>-0.448965</td>\n",
       "      <td>-0.756092</td>\n",
       "    </tr>\n",
       "    <tr>\n",
       "      <th>13</th>\n",
       "      <td>-0.816322</td>\n",
       "      <td>-0.813563</td>\n",
       "      <td>-0.221149</td>\n",
       "      <td>-0.505747</td>\n",
       "      <td>-0.448965</td>\n",
       "      <td>-0.756092</td>\n",
       "      <td>-0.985057</td>\n",
       "    </tr>\n",
       "  </tbody>\n",
       "</table>\n",
       "</div>"
      ],
      "text/plain": [
       "    var1(t-7)  var1(t-6)  var1(t-5)  var1(t-4)  var1(t-3)  var1(t-2)  \\\n",
       "7    1.000000   0.000690  -0.358621   0.027816  -0.295632  -0.860460   \n",
       "8    0.000690  -0.358621   0.027816  -0.295632  -0.860460  -0.816322   \n",
       "9   -0.358621   0.027816  -0.295632  -0.860460  -0.816322  -0.813563   \n",
       "10   0.027816  -0.295632  -0.860460  -0.816322  -0.813563  -0.221149   \n",
       "11  -0.295632  -0.860460  -0.816322  -0.813563  -0.221149  -0.505747   \n",
       "12  -0.860460  -0.816322  -0.813563  -0.221149  -0.505747  -0.448965   \n",
       "13  -0.816322  -0.813563  -0.221149  -0.505747  -0.448965  -0.756092   \n",
       "\n",
       "    var1(t-1)  \n",
       "7   -0.816322  \n",
       "8   -0.813563  \n",
       "9   -0.221149  \n",
       "10  -0.505747  \n",
       "11  -0.448965  \n",
       "12  -0.756092  \n",
       "13  -0.985057  "
      ]
     },
     "execution_count": 25,
     "metadata": {},
     "output_type": "execute_result"
    }
   ],
   "source": [
    "values = ultimosDias.values\n",
    "values = values.astype('float32')\n",
    "# normalize features\n",
    "values=values.reshape(-1, 1) # esto lo hacemos porque tenemos 1 sola dimension\n",
    "scaled = scaler.fit_transform(values)\n",
    "reframed = series_to_supervised(scaled, PASOS, 1)\n",
    "reframed.drop(reframed.columns[[7]], axis=1, inplace=True)\n",
    "reframed.head(7)"
   ]
  },
  {
   "cell_type": "markdown",
   "metadata": {},
   "source": [
    "De este conjunto «ultimosDias» tomamos sólo la última fila, pues es la que correspondería a la última semana de Mayo y la dejamos en el formato correcto para la red neuronal con reshape:"
   ]
  },
  {
   "cell_type": "code",
   "execution_count": 26,
   "metadata": {},
   "outputs": [
    {
     "data": {
      "text/plain": [
       "array([[[-0.81632185, -0.8135632 , -0.22114944, -0.50574714,\n",
       "         -0.4489655 , -0.75609195, -0.9850575 ]],\n",
       "\n",
       "       [[-0.8135632 , -0.22114944, -0.50574714, -0.4489655 ,\n",
       "         -0.75609195, -0.9850575 , -0.7586207 ]],\n",
       "\n",
       "       [[-0.22114944, -0.50574714, -0.4489655 , -0.75609195,\n",
       "         -0.9850575 , -0.7586207 , -0.9393103 ]]], dtype=float32)"
      ]
     },
     "execution_count": 26,
     "metadata": {},
     "output_type": "execute_result"
    }
   ],
   "source": [
    "values = reframed.values\n",
    "x_test = values[6:, :]\n",
    "x_test = x_test.reshape((x_test.shape[0], 1, x_test.shape[1]))\n",
    "x_test"
   ]
  },
  {
   "cell_type": "markdown",
   "metadata": {},
   "source": [
    "Ahora crearemos una función para ir «rellenando» el desplazamiento que hacemos por cada predicción. Esto es porque queremos predecir los 7 primeros días de Junio. Entonces para el 1 de Junio, ya tenemos el set con los últimos 7 días de Mayo. Pero para pronosticar el 2 de Junio necesitamos los 7 días anteriores que INCLUYEN al 1 de Junio y ese valor, lo obtenemos en nuestra predicción anterior. Y así hasta el 7 de Junio."
   ]
  },
  {
   "cell_type": "code",
   "execution_count": 27,
   "metadata": {},
   "outputs": [],
   "source": [
    "def agregarNuevoValor(x_test,nuevoValor):\n",
    "    for i in range(x_test.shape[2]-1):\n",
    "        x_test[0][0][i] = x_test[0][0][i+1]\n",
    "    x_test[0][0][x_test.shape[2]-1]=nuevoValor\n",
    "    return x_test\n",
    " "
   ]
  },
  {
   "cell_type": "markdown",
   "metadata": {},
   "source": [
    "## Pronóstico para la \"próxima semana\""
   ]
  },
  {
   "cell_type": "code",
   "execution_count": 28,
   "metadata": {},
   "outputs": [
    {
     "name": "stdout",
     "output_type": "stream",
     "text": [
      "[[[-0.81632185 -0.8135632  -0.22114944 -0.50574714 -0.4489655\n",
      "   -0.75609195 -0.9850575 ]]\n",
      "\n",
      " [[-0.8135632  -0.22114944 -0.50574714 -0.4489655  -0.75609195\n",
      "   -0.9850575  -0.7586207 ]]\n",
      "\n",
      " [[-0.22114944 -0.50574714 -0.4489655  -0.75609195 -0.9850575\n",
      "   -0.7586207  -0.9393103 ]]]\n",
      "[[[-0.8135632  -0.22114944 -0.50574714 -0.4489655  -0.75609195\n",
      "   -0.9850575  -0.9643803 ]]\n",
      "\n",
      " [[-0.8135632  -0.22114944 -0.50574714 -0.4489655  -0.75609195\n",
      "   -0.9850575  -0.7586207 ]]\n",
      "\n",
      " [[-0.22114944 -0.50574714 -0.4489655  -0.75609195 -0.9850575\n",
      "   -0.7586207  -0.9393103 ]]]\n",
      "[[[-0.22114944 -0.50574714 -0.4489655  -0.75609195 -0.9850575\n",
      "   -0.9643803  -0.95667493]]\n",
      "\n",
      " [[-0.8135632  -0.22114944 -0.50574714 -0.4489655  -0.75609195\n",
      "   -0.9850575  -0.7586207 ]]\n",
      "\n",
      " [[-0.22114944 -0.50574714 -0.4489655  -0.75609195 -0.9850575\n",
      "   -0.7586207  -0.9393103 ]]]\n",
      "[[[-0.50574714 -0.4489655  -0.75609195 -0.9850575  -0.9643803\n",
      "   -0.95667493 -0.9168126 ]]\n",
      "\n",
      " [[-0.8135632  -0.22114944 -0.50574714 -0.4489655  -0.75609195\n",
      "   -0.9850575  -0.7586207 ]]\n",
      "\n",
      " [[-0.22114944 -0.50574714 -0.4489655  -0.75609195 -0.9850575\n",
      "   -0.7586207  -0.9393103 ]]]\n",
      "[[[-0.4489655  -0.75609195 -0.9850575  -0.9643803  -0.95667493\n",
      "   -0.9168126  -0.93197405]]\n",
      "\n",
      " [[-0.8135632  -0.22114944 -0.50574714 -0.4489655  -0.75609195\n",
      "   -0.9850575  -0.7586207 ]]\n",
      "\n",
      " [[-0.22114944 -0.50574714 -0.4489655  -0.75609195 -0.9850575\n",
      "   -0.7586207  -0.9393103 ]]]\n",
      "[[[-0.75609195 -0.9850575  -0.9643803  -0.95667493 -0.9168126\n",
      "   -0.93197405 -0.9203441 ]]\n",
      "\n",
      " [[-0.8135632  -0.22114944 -0.50574714 -0.4489655  -0.75609195\n",
      "   -0.9850575  -0.7586207 ]]\n",
      "\n",
      " [[-0.22114944 -0.50574714 -0.4489655  -0.75609195 -0.9850575\n",
      "   -0.7586207  -0.9393103 ]]]\n",
      "[[[-0.9850575  -0.9643803  -0.95667493 -0.9168126  -0.93197405\n",
      "   -0.9203441  -0.9315891 ]]\n",
      "\n",
      " [[-0.8135632  -0.22114944 -0.50574714 -0.4489655  -0.75609195\n",
      "   -0.9850575  -0.7586207 ]]\n",
      "\n",
      " [[-0.22114944 -0.50574714 -0.4489655  -0.75609195 -0.9850575\n",
      "   -0.7586207  -0.9393103 ]]]\n"
     ]
    }
   ],
   "source": [
    "results=[]\n",
    "for i in range(7):\n",
    "    parcial=model.predict(x_test)\n",
    "    results.append(parcial[0])\n",
    "    print(x_test)\n",
    "    x_test=agregarNuevoValor(x_test,parcial[0])"
   ]
  },
  {
   "cell_type": "markdown",
   "metadata": {},
   "source": [
    "## Re-Convertimos los resultados\n",
    "\n",
    "Ya casi lo tenemos… Ahora las predicciones están en el dominio del -1 al 1 y nosotros lo queremos en nuestra escala «real» de unidades vendidas. Entonces vamos a «re-transformar» los datos con el objeto «scaler» que creamos antes."
   ]
  },
  {
   "cell_type": "code",
   "execution_count": 29,
   "metadata": {},
   "outputs": [
    {
     "data": {
      "text/plain": [
       "array([[243.94559344],\n",
       "       [277.46404161],\n",
       "       [450.86519613],\n",
       "       [384.91286888],\n",
       "       [435.50310342],\n",
       "       [386.58730042],\n",
       "       [331.67667987]])"
      ]
     },
     "execution_count": 29,
     "metadata": {},
     "output_type": "execute_result"
    }
   ],
   "source": [
    "adimen = [x for x in results]    \n",
    "inverted = scaler.inverse_transform(adimen)\n",
    "inverted"
   ]
  },
  {
   "cell_type": "markdown",
   "metadata": {},
   "source": [
    "## Visualizamos el pronóstico\n",
    "\n",
    "Ya podemos crear un nuevo DataFrame Pandas por si quisiéramos guardar un nuevo csv con el pronóstico. Y lo visualizamos."
   ]
  },
  {
   "cell_type": "code",
   "execution_count": 30,
   "metadata": {},
   "outputs": [
    {
     "data": {
      "image/png": "[encoded data removed]",
      "text/plain": [
       "<Figure size 432x288 with 1 Axes>"
      ]
     },
     "metadata": {
      "needs_background": "light"
     },
     "output_type": "display_data"
    }
   ],
   "source": [
    "prediccion1SemanaJunio = pd.DataFrame(inverted)\n",
    "prediccion1SemanaJunio.columns = ['pronostico']\n",
    "prediccion1SemanaJunio.plot()\n",
    "prediccion1SemanaJunio.to_csv('pronostico_simple_U.csv')"
   ]
  },
  {
   "cell_type": "code",
   "execution_count": 31,
   "metadata": {},
   "outputs": [
    {
     "data": {
      "text/html": [
       "<div>\n",
       "<style scoped>\n",
       "    .dataframe tbody tr th:only-of-type {\n",
       "        vertical-align: middle;\n",
       "    }\n",
       "\n",
       "    .dataframe tbody tr th {\n",
       "        vertical-align: top;\n",
       "    }\n",
       "\n",
       "    .dataframe thead th {\n",
       "        text-align: right;\n",
       "    }\n",
       "</style>\n",
       "<table border=\"1\" class=\"dataframe\">\n",
       "  <thead>\n",
       "    <tr style=\"text-align: right;\">\n",
       "      <th></th>\n",
       "      <th>pronostico</th>\n",
       "    </tr>\n",
       "  </thead>\n",
       "  <tbody>\n",
       "    <tr>\n",
       "      <th>0</th>\n",
       "      <td>243.945593</td>\n",
       "    </tr>\n",
       "    <tr>\n",
       "      <th>1</th>\n",
       "      <td>277.464042</td>\n",
       "    </tr>\n",
       "    <tr>\n",
       "      <th>2</th>\n",
       "      <td>450.865196</td>\n",
       "    </tr>\n",
       "    <tr>\n",
       "      <th>3</th>\n",
       "      <td>384.912869</td>\n",
       "    </tr>\n",
       "    <tr>\n",
       "      <th>4</th>\n",
       "      <td>435.503103</td>\n",
       "    </tr>\n",
       "    <tr>\n",
       "      <th>5</th>\n",
       "      <td>386.587300</td>\n",
       "    </tr>\n",
       "    <tr>\n",
       "      <th>6</th>\n",
       "      <td>331.676680</td>\n",
       "    </tr>\n",
       "  </tbody>\n",
       "</table>\n",
       "</div>"
      ],
      "text/plain": [
       "   pronostico\n",
       "0  243.945593\n",
       "1  277.464042\n",
       "2  450.865196\n",
       "3  384.912869\n",
       "4  435.503103\n",
       "5  386.587300\n",
       "6  331.676680"
      ]
     },
     "execution_count": 31,
     "metadata": {},
     "output_type": "execute_result"
    }
   ],
   "source": [
    "prediccion1SemanaJunio"
   ]
  },
  {
   "cell_type": "markdown",
   "metadata": {},
   "source": [
    "A partir de los últimos 7 días de Mayo 2019 y utilizando nuestra red neuronal, hicimos el siguiente pronóstico de venta de unidades para la primer semana de Junio."
   ]
  },
  {
   "cell_type": "markdown",
   "metadata": {},
   "source": [
    "Para Probar, alterando parámetros del ejercicio:\n",
    "\n",
    "Variar la cantidad de EPOCHS Probar otro optimizador distinto a Adam, ó configurar valores distintos de Learning Rate. Cambiar la arquitectura de la Red Neuronal: Cambiar la cantidad de Neuronas de la capa oculta. Agregar más capas ocultas Probar utilizando más de 7 días previos para predecir. O probar con menos días. Se puede intentar predecir más de 1 día por vez (sin iterar el resultado como hice con la función agregarNuevoValor() )"
   ]
  },
  {
   "cell_type": "markdown",
   "metadata": {},
   "source": [
    "## Agregamos el resultado en el dataset"
   ]
  },
  {
   "cell_type": "code",
   "execution_count": 32,
   "metadata": {},
   "outputs": [
    {
     "name": "stdout",
     "output_type": "stream",
     "text": [
      "243.94559344243908\n",
      "277.4640416149789\n",
      "450.8651961335093\n",
      "384.9128688753044\n",
      "435.5031034181752\n",
      "386.58730042276727\n",
      "331.6766798663669\n"
     ]
    },
    {
     "name": "stderr",
     "output_type": "stream",
     "text": [
      "C:\\Users\\hmarq\\Anaconda3\\envs\\Pippo\\lib\\site-packages\\pandas\\core\\indexing.py:202: SettingWithCopyWarning: \n",
      "A value is trying to be set on a copy of a slice from a DataFrame\n",
      "\n",
      "See the caveats in the documentation: http://pandas.pydata.org/pandas-docs/stable/user_guide/indexing.html#returning-a-view-versus-a-copy\n",
      "  self._setitem_with_indexer(indexer, value)\n"
     ]
    },
    {
     "data": {
      "text/html": [
       "<div>\n",
       "<style scoped>\n",
       "    .dataframe tbody tr th:only-of-type {\n",
       "        vertical-align: middle;\n",
       "    }\n",
       "\n",
       "    .dataframe tbody tr th {\n",
       "        vertical-align: top;\n",
       "    }\n",
       "\n",
       "    .dataframe thead th {\n",
       "        text-align: right;\n",
       "    }\n",
       "</style>\n",
       "<table border=\"1\" class=\"dataframe\">\n",
       "  <thead>\n",
       "    <tr style=\"text-align: right;\">\n",
       "      <th></th>\n",
       "      <th>unidades</th>\n",
       "    </tr>\n",
       "    <tr>\n",
       "      <th>fecha</th>\n",
       "      <th></th>\n",
       "    </tr>\n",
       "  </thead>\n",
       "  <tbody>\n",
       "    <tr>\n",
       "      <th>2019-05-25 00:00:00</th>\n",
       "      <td>2239.000000</td>\n",
       "    </tr>\n",
       "    <tr>\n",
       "      <th>2019-05-26 00:00:00</th>\n",
       "      <td>2486.000000</td>\n",
       "    </tr>\n",
       "    <tr>\n",
       "      <th>2019-05-27 00:00:00</th>\n",
       "      <td>1150.000000</td>\n",
       "    </tr>\n",
       "    <tr>\n",
       "      <th>2019-05-28 00:00:00</th>\n",
       "      <td>154.000000</td>\n",
       "    </tr>\n",
       "    <tr>\n",
       "      <th>2019-05-29 00:00:00</th>\n",
       "      <td>1139.000000</td>\n",
       "    </tr>\n",
       "    <tr>\n",
       "      <th>2019-05-30 00:00:00</th>\n",
       "      <td>353.000000</td>\n",
       "    </tr>\n",
       "    <tr>\n",
       "      <th>2019-05-31 00:00:00</th>\n",
       "      <td>89.000000</td>\n",
       "    </tr>\n",
       "    <tr>\n",
       "      <th>2019-06-01 00:00:00</th>\n",
       "      <td>243.945593</td>\n",
       "    </tr>\n",
       "    <tr>\n",
       "      <th>2019-06-02 00:00:00</th>\n",
       "      <td>277.464042</td>\n",
       "    </tr>\n",
       "    <tr>\n",
       "      <th>2019-06-03 00:00:00</th>\n",
       "      <td>450.865196</td>\n",
       "    </tr>\n",
       "    <tr>\n",
       "      <th>2019-06-04 00:00:00</th>\n",
       "      <td>384.912869</td>\n",
       "    </tr>\n",
       "    <tr>\n",
       "      <th>2019-06-05 00:00:00</th>\n",
       "      <td>435.503103</td>\n",
       "    </tr>\n",
       "    <tr>\n",
       "      <th>2019-06-06 00:00:00</th>\n",
       "      <td>386.587300</td>\n",
       "    </tr>\n",
       "    <tr>\n",
       "      <th>2019-06-07 00:00:00</th>\n",
       "      <td>331.676680</td>\n",
       "    </tr>\n",
       "  </tbody>\n",
       "</table>\n",
       "</div>"
      ],
      "text/plain": [
       "                        unidades\n",
       "fecha                           \n",
       "2019-05-25 00:00:00  2239.000000\n",
       "2019-05-26 00:00:00  2486.000000\n",
       "2019-05-27 00:00:00  1150.000000\n",
       "2019-05-28 00:00:00   154.000000\n",
       "2019-05-29 00:00:00  1139.000000\n",
       "2019-05-30 00:00:00   353.000000\n",
       "2019-05-31 00:00:00    89.000000\n",
       "2019-06-01 00:00:00   243.945593\n",
       "2019-06-02 00:00:00   277.464042\n",
       "2019-06-03 00:00:00   450.865196\n",
       "2019-06-04 00:00:00   384.912869\n",
       "2019-06-05 00:00:00   435.503103\n",
       "2019-06-06 00:00:00   386.587300\n",
       "2019-06-07 00:00:00   331.676680"
      ]
     },
     "execution_count": 32,
     "metadata": {},
     "output_type": "execute_result"
    }
   ],
   "source": [
    "i=0\n",
    "for fila in prediccion1SemanaJunio.pronostico:\n",
    "    i=i+1\n",
    "    ultimosDias.loc['2019-06-0' + str(i) + ' 00:00:00'] = fila\n",
    "    print(fila)\n",
    "ultimosDias.tail(14)"
   ]
  }
 ],
 "metadata": {
  "kernelspec": {
   "display_name": "Python 3",
   "language": "python",
   "name": "python3"
  },
  "language_info": {
   "codemirror_mode": {
    "name": "ipython",
    "version": 3
   },
   "file_extension": ".py",
   "mimetype": "text/x-python",
   "name": "python",
   "nbconvert_exporter": "python",
   "pygments_lexer": "ipython3",
   "version": "3.7.4"
  }
 },
 "nbformat": 4,
 "nbformat_minor": 2
}
