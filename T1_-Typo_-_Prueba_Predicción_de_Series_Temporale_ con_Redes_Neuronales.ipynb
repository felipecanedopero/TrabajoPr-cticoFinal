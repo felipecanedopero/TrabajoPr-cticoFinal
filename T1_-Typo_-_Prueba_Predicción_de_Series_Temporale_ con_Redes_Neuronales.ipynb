{
 "cells": [
  {
   "cell_type": "markdown",
   "metadata": {},
   "source": [
    "# Predicción de Series Temporales con Redes Neuronales"
   ]
  },
  {
   "cell_type": "markdown",
   "metadata": {},
   "source": [
    "## Usaremos Keras y Tensorflow"
   ]
  },
  {
   "cell_type": "markdown",
   "metadata": {},
   "source": [
    "Usaremos una arquitectura sencilla de red neuronal FeedForward (también llamada MLP por sus siglas Multi-Layered Perceptron), con pocas neuronas y como método de activación tangente hiperbólica pues entregaremos valores transformados entre -1 y 1"
   ]
  },
  {
   "cell_type": "code",
   "execution_count": 1,
   "metadata": {},
   "outputs": [
    {
     "name": "stderr",
     "output_type": "stream",
     "text": [
      "Using TensorFlow backend.\n"
     ]
    }
   ],
   "source": [
    "import pandas as pd\n",
    "import numpy as np\n",
    "import matplotlib.pylab as plt\n",
    "%matplotlib inline\n",
    "plt.rcParams['figure.figsize'] = (16, 9)\n",
    "plt.style.use('fast')\n",
    "import datetime\n",
    "\n",
    "from keras.models import Sequential\n",
    "from keras.layers import Dense,Activation,Flatten\n",
    "from sklearn.preprocessing import MinMaxScaler\n",
    " "
   ]
  },
  {
   "cell_type": "markdown",
   "metadata": {},
   "source": [
    "### Cargamos nuestro Dataset"
   ]
  },
  {
   "cell_type": "code",
   "execution_count": 2,
   "metadata": {},
   "outputs": [
    {
     "data": {
      "text/html": [
       "<div>\n",
       "<style scoped>\n",
       "    .dataframe tbody tr th:only-of-type {\n",
       "        vertical-align: middle;\n",
       "    }\n",
       "\n",
       "    .dataframe tbody tr th {\n",
       "        vertical-align: top;\n",
       "    }\n",
       "\n",
       "    .dataframe thead th {\n",
       "        text-align: right;\n",
       "    }\n",
       "</style>\n",
       "<table border=\"1\" class=\"dataframe\">\n",
       "  <thead>\n",
       "    <tr style=\"text-align: right;\">\n",
       "      <th></th>\n",
       "      <th>unidades</th>\n",
       "    </tr>\n",
       "    <tr>\n",
       "      <th>fecha</th>\n",
       "      <th></th>\n",
       "    </tr>\n",
       "  </thead>\n",
       "  <tbody>\n",
       "    <tr>\n",
       "      <th>2018-04-04</th>\n",
       "      <td>46</td>\n",
       "    </tr>\n",
       "    <tr>\n",
       "      <th>2018-04-05</th>\n",
       "      <td>14</td>\n",
       "    </tr>\n",
       "    <tr>\n",
       "      <th>2018-04-06</th>\n",
       "      <td>26</td>\n",
       "    </tr>\n",
       "    <tr>\n",
       "      <th>2018-04-07</th>\n",
       "      <td>39</td>\n",
       "    </tr>\n",
       "    <tr>\n",
       "      <th>2018-04-08</th>\n",
       "      <td>36</td>\n",
       "    </tr>\n",
       "  </tbody>\n",
       "</table>\n",
       "</div>"
      ],
      "text/plain": [
       "            unidades\n",
       "fecha               \n",
       "2018-04-04        46\n",
       "2018-04-05        14\n",
       "2018-04-06        26\n",
       "2018-04-07        39\n",
       "2018-04-08        36"
      ]
     },
     "execution_count": 2,
     "metadata": {},
     "output_type": "execute_result"
    }
   ],
   "source": [
    "df = pd.read_csv('Prueba_Type.csv', parse_dates=[0], header=None, index_col=0, names=['fecha','unidades'])\n",
    "df.head()"
   ]
  },
  {
   "cell_type": "code",
   "execution_count": 3,
   "metadata": {},
   "outputs": [
    {
     "name": "stdout",
     "output_type": "stream",
     "text": [
      "2018-04-04 00:00:00\n",
      "2019-06-21 00:00:00\n"
     ]
    }
   ],
   "source": [
    "print(df.index.min())\n",
    "print(df.index.max())"
   ]
  },
  {
   "cell_type": "code",
   "execution_count": 4,
   "metadata": {},
   "outputs": [
    {
     "name": "stdout",
     "output_type": "stream",
     "text": [
      "232\n",
      "166\n"
     ]
    }
   ],
   "source": [
    "print(len(df['2018']))\n",
    "print(len(df['2019']))"
   ]
  },
  {
   "cell_type": "code",
   "execution_count": 5,
   "metadata": {},
   "outputs": [
    {
     "data": {
      "text/html": [
       "<div>\n",
       "<style scoped>\n",
       "    .dataframe tbody tr th:only-of-type {\n",
       "        vertical-align: middle;\n",
       "    }\n",
       "\n",
       "    .dataframe tbody tr th {\n",
       "        vertical-align: top;\n",
       "    }\n",
       "\n",
       "    .dataframe thead th {\n",
       "        text-align: right;\n",
       "    }\n",
       "</style>\n",
       "<table border=\"1\" class=\"dataframe\">\n",
       "  <thead>\n",
       "    <tr style=\"text-align: right;\">\n",
       "      <th></th>\n",
       "      <th>unidades</th>\n",
       "    </tr>\n",
       "  </thead>\n",
       "  <tbody>\n",
       "    <tr>\n",
       "      <th>count</th>\n",
       "      <td>398.000000</td>\n",
       "    </tr>\n",
       "    <tr>\n",
       "      <th>mean</th>\n",
       "      <td>391.613065</td>\n",
       "    </tr>\n",
       "    <tr>\n",
       "      <th>std</th>\n",
       "      <td>839.427291</td>\n",
       "    </tr>\n",
       "    <tr>\n",
       "      <th>min</th>\n",
       "      <td>1.000000</td>\n",
       "    </tr>\n",
       "    <tr>\n",
       "      <th>25%</th>\n",
       "      <td>39.000000</td>\n",
       "    </tr>\n",
       "    <tr>\n",
       "      <th>50%</th>\n",
       "      <td>130.000000</td>\n",
       "    </tr>\n",
       "    <tr>\n",
       "      <th>75%</th>\n",
       "      <td>326.500000</td>\n",
       "    </tr>\n",
       "    <tr>\n",
       "      <th>max</th>\n",
       "      <td>6254.000000</td>\n",
       "    </tr>\n",
       "  </tbody>\n",
       "</table>\n",
       "</div>"
      ],
      "text/plain": [
       "          unidades\n",
       "count   398.000000\n",
       "mean    391.613065\n",
       "std     839.427291\n",
       "min       1.000000\n",
       "25%      39.000000\n",
       "50%     130.000000\n",
       "75%     326.500000\n",
       "max    6254.000000"
      ]
     },
     "execution_count": 5,
     "metadata": {},
     "output_type": "execute_result"
    }
   ],
   "source": [
    "df.describe()"
   ]
  },
  {
   "cell_type": "code",
   "execution_count": 6,
   "metadata": {},
   "outputs": [
    {
     "data": {
      "text/html": [
       "<div>\n",
       "<style scoped>\n",
       "    .dataframe tbody tr th:only-of-type {\n",
       "        vertical-align: middle;\n",
       "    }\n",
       "\n",
       "    .dataframe tbody tr th {\n",
       "        vertical-align: top;\n",
       "    }\n",
       "\n",
       "    .dataframe thead th {\n",
       "        text-align: right;\n",
       "    }\n",
       "</style>\n",
       "<table border=\"1\" class=\"dataframe\">\n",
       "  <thead>\n",
       "    <tr style=\"text-align: right;\">\n",
       "      <th></th>\n",
       "      <th>unidades</th>\n",
       "    </tr>\n",
       "    <tr>\n",
       "      <th>fecha</th>\n",
       "      <th></th>\n",
       "    </tr>\n",
       "  </thead>\n",
       "  <tbody>\n",
       "    <tr>\n",
       "      <th>2018-04-30</th>\n",
       "      <td>55.777778</td>\n",
       "    </tr>\n",
       "    <tr>\n",
       "      <th>2018-05-31</th>\n",
       "      <td>1080.875000</td>\n",
       "    </tr>\n",
       "    <tr>\n",
       "      <th>2018-06-30</th>\n",
       "      <td>266.869565</td>\n",
       "    </tr>\n",
       "    <tr>\n",
       "      <th>2018-07-31</th>\n",
       "      <td>222.555556</td>\n",
       "    </tr>\n",
       "    <tr>\n",
       "      <th>2018-08-31</th>\n",
       "      <td>355.480000</td>\n",
       "    </tr>\n",
       "    <tr>\n",
       "      <th>2018-09-30</th>\n",
       "      <td>237.760000</td>\n",
       "    </tr>\n",
       "    <tr>\n",
       "      <th>2018-10-31</th>\n",
       "      <td>635.862069</td>\n",
       "    </tr>\n",
       "    <tr>\n",
       "      <th>2018-11-30</th>\n",
       "      <td>379.111111</td>\n",
       "    </tr>\n",
       "    <tr>\n",
       "      <th>2018-12-31</th>\n",
       "      <td>307.560000</td>\n",
       "    </tr>\n",
       "    <tr>\n",
       "      <th>2019-01-31</th>\n",
       "      <td>205.258065</td>\n",
       "    </tr>\n",
       "    <tr>\n",
       "      <th>2019-02-28</th>\n",
       "      <td>225.357143</td>\n",
       "    </tr>\n",
       "    <tr>\n",
       "      <th>2019-03-31</th>\n",
       "      <td>195.851852</td>\n",
       "    </tr>\n",
       "    <tr>\n",
       "      <th>2019-04-30</th>\n",
       "      <td>206.964286</td>\n",
       "    </tr>\n",
       "    <tr>\n",
       "      <th>2019-05-31</th>\n",
       "      <td>905.000000</td>\n",
       "    </tr>\n",
       "    <tr>\n",
       "      <th>2019-06-30</th>\n",
       "      <td>631.476190</td>\n",
       "    </tr>\n",
       "  </tbody>\n",
       "</table>\n",
       "</div>"
      ],
      "text/plain": [
       "               unidades\n",
       "fecha                  \n",
       "2018-04-30    55.777778\n",
       "2018-05-31  1080.875000\n",
       "2018-06-30   266.869565\n",
       "2018-07-31   222.555556\n",
       "2018-08-31   355.480000\n",
       "2018-09-30   237.760000\n",
       "2018-10-31   635.862069\n",
       "2018-11-30   379.111111\n",
       "2018-12-31   307.560000\n",
       "2019-01-31   205.258065\n",
       "2019-02-28   225.357143\n",
       "2019-03-31   195.851852\n",
       "2019-04-30   206.964286\n",
       "2019-05-31   905.000000\n",
       "2019-06-30   631.476190"
      ]
     },
     "execution_count": 6,
     "metadata": {},
     "output_type": "execute_result"
    }
   ],
   "source": [
    "meses =df.resample('M').mean()\n",
    "meses"
   ]
  },
  {
   "cell_type": "markdown",
   "metadata": {},
   "source": [
    "## Visualizaciones"
   ]
  },
  {
   "cell_type": "code",
   "execution_count": 7,
   "metadata": {},
   "outputs": [
    {
     "data": {
      "text/plain": [
       "[<matplotlib.lines.Line2D at 0x2dbde4e6288>]"
      ]
     },
     "execution_count": 7,
     "metadata": {},
     "output_type": "execute_result"
    },
    {
     "data": {
      "image/png": "[encoded data removed]",
      "text/plain": [
       "<Figure size 432x288 with 1 Axes>"
      ]
     },
     "metadata": {
      "needs_background": "light"
     },
     "output_type": "display_data"
    }
   ],
   "source": [
    "plt.plot(meses['2018'].values) # en azul\n",
    "plt.plot(meses['2019'].values) # en naranja"
   ]
  },
  {
   "cell_type": "code",
   "execution_count": 8,
   "metadata": {},
   "outputs": [
    {
     "data": {
      "text/plain": [
       "[<matplotlib.lines.Line2D at 0x2dbde60c908>]"
      ]
     },
     "execution_count": 8,
     "metadata": {},
     "output_type": "execute_result"
    },
    {
     "data": {
      "image/png": "[encoded data removed]",
      "text/plain": [
       "<Figure size 432x288 with 1 Axes>"
      ]
     },
     "metadata": {
      "needs_background": "light"
     },
     "output_type": "display_data"
    }
   ],
   "source": [
    "ver_2018 = df['2018-04-01':'2018-06-01']  # en azul\n",
    "plt.plot(ver_2018.values)\n",
    "ver_2019 = df['2019-04-01':'2019-06-01'] # en naranja\n",
    "plt.plot(ver_2019.values)"
   ]
  },
  {
   "cell_type": "markdown",
   "metadata": {},
   "source": [
    "## Preprocesado de los datos"
   ]
  },
  {
   "cell_type": "markdown",
   "metadata": {},
   "source": [
    "### Pronóstico de unidades Diarias con Redes Neuronal\n",
    "\n",
    "Lo que haremos es tomar nuestra serie temporal y la convertiremos en un «problema de tipo supervisado« para poder alimentar nuestra red neuronal y poder entrenarla con backpropagation"
   ]
  },
  {
   "cell_type": "code",
   "execution_count": 9,
   "metadata": {},
   "outputs": [],
   "source": [
    "# Lo que haremos -en este ejemplo- es tomar los 7 días previos para «obtener» el octavo\n",
    "# Entradas: serán «7 columnas» que representan las unidades en unidades de los 7 días anteriores.\n",
    "# Salida: El valor del «8vo día». Es decir, las unidades (en unidades) de ese día"
   ]
  },
  {
   "cell_type": "code",
   "execution_count": 10,
   "metadata": {},
   "outputs": [
    {
     "data": {
      "text/html": [
       "<div>\n",
       "<style scoped>\n",
       "    .dataframe tbody tr th:only-of-type {\n",
       "        vertical-align: middle;\n",
       "    }\n",
       "\n",
       "    .dataframe tbody tr th {\n",
       "        vertical-align: top;\n",
       "    }\n",
       "\n",
       "    .dataframe thead th {\n",
       "        text-align: right;\n",
       "    }\n",
       "</style>\n",
       "<table border=\"1\" class=\"dataframe\">\n",
       "  <thead>\n",
       "    <tr style=\"text-align: right;\">\n",
       "      <th></th>\n",
       "      <th>var1(t-7)</th>\n",
       "      <th>var1(t-6)</th>\n",
       "      <th>var1(t-5)</th>\n",
       "      <th>var1(t-4)</th>\n",
       "      <th>var1(t-3)</th>\n",
       "      <th>var1(t-2)</th>\n",
       "      <th>var1(t-1)</th>\n",
       "      <th>var1(t)</th>\n",
       "    </tr>\n",
       "  </thead>\n",
       "  <tbody>\n",
       "    <tr>\n",
       "      <th>7</th>\n",
       "      <td>-0.985607</td>\n",
       "      <td>-0.995842</td>\n",
       "      <td>-0.992004</td>\n",
       "      <td>-0.987846</td>\n",
       "      <td>-0.988805</td>\n",
       "      <td>-0.965457</td>\n",
       "      <td>-0.972173</td>\n",
       "      <td>-0.972493</td>\n",
       "    </tr>\n",
       "    <tr>\n",
       "      <th>8</th>\n",
       "      <td>-0.995842</td>\n",
       "      <td>-0.992004</td>\n",
       "      <td>-0.987846</td>\n",
       "      <td>-0.988805</td>\n",
       "      <td>-0.965457</td>\n",
       "      <td>-0.972173</td>\n",
       "      <td>-0.972493</td>\n",
       "      <td>-0.979210</td>\n",
       "    </tr>\n",
       "    <tr>\n",
       "      <th>9</th>\n",
       "      <td>-0.992004</td>\n",
       "      <td>-0.987846</td>\n",
       "      <td>-0.988805</td>\n",
       "      <td>-0.965457</td>\n",
       "      <td>-0.972173</td>\n",
       "      <td>-0.972493</td>\n",
       "      <td>-0.979210</td>\n",
       "      <td>-0.967695</td>\n",
       "    </tr>\n",
       "    <tr>\n",
       "      <th>10</th>\n",
       "      <td>-0.987846</td>\n",
       "      <td>-0.988805</td>\n",
       "      <td>-0.965457</td>\n",
       "      <td>-0.972173</td>\n",
       "      <td>-0.972493</td>\n",
       "      <td>-0.979210</td>\n",
       "      <td>-0.967695</td>\n",
       "      <td>-0.966096</td>\n",
       "    </tr>\n",
       "    <tr>\n",
       "      <th>11</th>\n",
       "      <td>-0.988805</td>\n",
       "      <td>-0.965457</td>\n",
       "      <td>-0.972173</td>\n",
       "      <td>-0.972493</td>\n",
       "      <td>-0.979210</td>\n",
       "      <td>-0.967695</td>\n",
       "      <td>-0.966096</td>\n",
       "      <td>-0.955221</td>\n",
       "    </tr>\n",
       "  </tbody>\n",
       "</table>\n",
       "</div>"
      ],
      "text/plain": [
       "    var1(t-7)  var1(t-6)  var1(t-5)  var1(t-4)  var1(t-3)  var1(t-2)  \\\n",
       "7   -0.985607  -0.995842  -0.992004  -0.987846  -0.988805  -0.965457   \n",
       "8   -0.995842  -0.992004  -0.987846  -0.988805  -0.965457  -0.972173   \n",
       "9   -0.992004  -0.987846  -0.988805  -0.965457  -0.972173  -0.972493   \n",
       "10  -0.987846  -0.988805  -0.965457  -0.972173  -0.972493  -0.979210   \n",
       "11  -0.988805  -0.965457  -0.972173  -0.972493  -0.979210  -0.967695   \n",
       "\n",
       "    var1(t-1)   var1(t)  \n",
       "7   -0.972173 -0.972493  \n",
       "8   -0.972493 -0.979210  \n",
       "9   -0.979210 -0.967695  \n",
       "10  -0.967695 -0.966096  \n",
       "11  -0.966096 -0.955221  "
      ]
     },
     "execution_count": 10,
     "metadata": {},
     "output_type": "execute_result"
    }
   ],
   "source": [
    "# utilizamos el MinMaxScaler para transformar el rango de nuestros valores entre -1 y 1\n",
    "PASOS=7\n",
    " \n",
    "# convert series to supervised learning\n",
    "def series_to_supervised(data, n_in=1, n_out=1, dropnan=True):\n",
    "    n_vars = 1 if type(data) is list else data.shape[1]\n",
    "    df = pd.DataFrame(data)\n",
    "    cols, names = list(), list()\n",
    "    # input sequence (t-n, ... t-1)\n",
    "    for i in range(n_in, 0, -1):\n",
    "        cols.append(df.shift(i))\n",
    "        names += [('var%d(t-%d)' % (j+1, i)) for j in range(n_vars)]\n",
    "    # forecast sequence (t, t+1, ... t+n)\n",
    "    for i in range(0, n_out):\n",
    "        cols.append(df.shift(-i))\n",
    "        if i == 0:\n",
    "            names += [('var%d(t)' % (j+1)) for j in range(n_vars)]\n",
    "        else:\n",
    "            names += [('var%d(t+%d)' % (j+1, i)) for j in range(n_vars)]\n",
    "    # put it all together\n",
    "    agg = pd.concat(cols, axis=1)\n",
    "    agg.columns = names\n",
    "    # drop rows with NaN values\n",
    "    if dropnan:\n",
    "        agg.dropna(inplace=True)\n",
    "    return agg\n",
    " \n",
    "# load dataset\n",
    "values = df.values\n",
    "# ensure all data is float\n",
    "values = values.astype('float32')\n",
    "# normalize features\n",
    "scaler = MinMaxScaler(feature_range=(-1, 1))\n",
    "values=values.reshape(-1, 1) # esto lo hacemos porque tenemos 1 sola dimension\n",
    "scaled = scaler.fit_transform(values)\n",
    "# frame as supervised learning\n",
    "reframed = series_to_supervised(scaled, PASOS, 1)\n",
    "reframed.head()"
   ]
  },
  {
   "cell_type": "code",
   "execution_count": 11,
   "metadata": {},
   "outputs": [],
   "source": [
    "# Usaremos como entradas las columnas encabezadas como var1(t-7) a (t-1) y nuestra salida\n",
    "# (lo que sería el valor «Y» de la función) será el var1(t) -la última columna-"
   ]
  },
  {
   "cell_type": "markdown",
   "metadata": {},
   "source": [
    "# Creamos la Red Neuronal Artificial\n",
    "\n",
    "## Dividimos en set de Entrenamiento y Validación\n",
    "Antes de crear la red neuronal, subdividiremos nuestro conjunto de datos en train y en validación. ATENCIÓN, algo importante de este procedimiento, a diferencia de en otros problemas en los que podemos «mezclar» los datos de entrada, es que en este caso nos importa mantener el orden en el que alimentaremos la red. Por lo tanto, haremos una subdivisión de los primeros 567 días consecutivos para entrenamiento de la red y los siguientes 30 para su validación."
   ]
  },
  {
   "cell_type": "code",
   "execution_count": 12,
   "metadata": {},
   "outputs": [
    {
     "name": "stdout",
     "output_type": "stream",
     "text": [
      "(352, 1, 7) (352,) (39, 1, 7) (39,)\n"
     ]
    }
   ],
   "source": [
    "# split into train and test sets\n",
    "values = reframed.values\n",
    "n_train_days = 389 - (30+PASOS)\n",
    "train = values[:n_train_days, :]\n",
    "test = values[n_train_days:, :]\n",
    "# split into input and outputs\n",
    "x_train, y_train = train[:, :-1], train[:, -1]\n",
    "x_val, y_val = test[:, :-1], test[:, -1]\n",
    "# reshape input to be 3D [samples, timesteps, features]\n",
    "x_train = x_train.reshape((x_train.shape[0], 1, x_train.shape[1]))\n",
    "x_val = x_val.reshape((x_val.shape[0], 1, x_val.shape[1]))\n",
    "print(x_train.shape, y_train.shape, x_val.shape, y_val.shape)"
   ]
  },
  {
   "cell_type": "markdown",
   "metadata": {},
   "source": [
    "## Utilizaremos una Red \"normal\" Feedforward\n",
    "\n",
    "#### La arquitectura de la red neuronal será:\n",
    "\n",
    "Entrada 7 inputs, como dijimos antes\n",
    "1 capa oculta con 7 neuronas (este valor lo escogí yo, pero se puede variar)\n",
    "La salida será 1 sola neurona\n",
    "Como función de activación utilizamos tangente hiperbólica puesto que utilizaremos valores entre -1 y 1.\n",
    "Utilizaremos como optimizador Adam y métrica de pérdida (loss) Mean Absolute Error\n",
    "Como la predicción será un valor continuo y no discreto, para calcular el Acuracy utilizaremos Mean Squared Error y para saber si mejora con el entrenamiento se debería ir reduciendo con las EPOCHS."
   ]
  },
  {
   "cell_type": "code",
   "execution_count": 13,
   "metadata": {},
   "outputs": [],
   "source": [
    "def crear_modeloFF():\n",
    "    model = Sequential() \n",
    "    model.add(Dense(PASOS, input_shape=(1,PASOS),activation='tanh'))\n",
    "    model.add(Flatten())\n",
    "    model.add(Dense(1, activation='tanh'))\n",
    "    model.compile(loss='mean_absolute_error',optimizer='Adam',metrics=[\"mse\"])\n",
    "    model.summary()\n",
    "    return model"
   ]
  },
  {
   "cell_type": "markdown",
   "metadata": {},
   "source": [
    "   ## Entrenamiento y Resultados"
   ]
  },
  {
   "cell_type": "code",
   "execution_count": 14,
   "metadata": {},
   "outputs": [
    {
     "name": "stderr",
     "output_type": "stream",
     "text": [
      "WARNING: Logging before flag parsing goes to stderr.\n",
      "W0826 01:25:01.094185   300 deprecation_wrapper.py:119] From C:\\Users\\hmarq\\Anaconda3\\envs\\Pippo\\lib\\site-packages\\keras\\backend\\tensorflow_backend.py:74: The name tf.get_default_graph is deprecated. Please use tf.compat.v1.get_default_graph instead.\n",
      "\n",
      "W0826 01:25:01.246182   300 deprecation_wrapper.py:119] From C:\\Users\\hmarq\\Anaconda3\\envs\\Pippo\\lib\\site-packages\\keras\\backend\\tensorflow_backend.py:517: The name tf.placeholder is deprecated. Please use tf.compat.v1.placeholder instead.\n",
      "\n",
      "W0826 01:25:01.260181   300 deprecation_wrapper.py:119] From C:\\Users\\hmarq\\Anaconda3\\envs\\Pippo\\lib\\site-packages\\keras\\backend\\tensorflow_backend.py:4138: The name tf.random_uniform is deprecated. Please use tf.random.uniform instead.\n",
      "\n",
      "W0826 01:25:01.518568   300 deprecation_wrapper.py:119] From C:\\Users\\hmarq\\Anaconda3\\envs\\Pippo\\lib\\site-packages\\keras\\optimizers.py:790: The name tf.train.Optimizer is deprecated. Please use tf.compat.v1.train.Optimizer instead.\n",
      "\n"
     ]
    },
    {
     "name": "stdout",
     "output_type": "stream",
     "text": [
      "_________________________________________________________________\n",
      "Layer (type)                 Output Shape              Param #   \n",
      "=================================================================\n",
      "dense_1 (Dense)              (None, 1, 7)              56        \n",
      "_________________________________________________________________\n",
      "flatten_1 (Flatten)          (None, 7)                 0         \n",
      "_________________________________________________________________\n",
      "dense_2 (Dense)              (None, 1)                 8         \n",
      "=================================================================\n",
      "Total params: 64\n",
      "Trainable params: 64\n",
      "Non-trainable params: 0\n",
      "_________________________________________________________________\n"
     ]
    },
    {
     "name": "stderr",
     "output_type": "stream",
     "text": [
      "W0826 01:25:02.320381   300 deprecation_wrapper.py:119] From C:\\Users\\hmarq\\Anaconda3\\envs\\Pippo\\lib\\site-packages\\keras\\backend\\tensorflow_backend.py:986: The name tf.assign_add is deprecated. Please use tf.compat.v1.assign_add instead.\n",
      "\n",
      "W0826 01:25:02.825992   300 deprecation_wrapper.py:119] From C:\\Users\\hmarq\\Anaconda3\\envs\\Pippo\\lib\\site-packages\\keras\\backend\\tensorflow_backend.py:973: The name tf.assign is deprecated. Please use tf.compat.v1.assign instead.\n",
      "\n"
     ]
    },
    {
     "name": "stdout",
     "output_type": "stream",
     "text": [
      "Train on 352 samples, validate on 39 samples\n",
      "Epoch 1/40\n",
      "352/352 [==============================] - 3s 10ms/step - loss: 0.3358 - mean_squared_error: 0.1761 - val_loss: 0.3194 - val_mean_squared_error: 0.2681\n",
      "Epoch 2/40\n",
      "352/352 [==============================] - 0s 732us/step - loss: 0.1446 - mean_squared_error: 0.0864 - val_loss: 0.3125 - val_mean_squared_error: 0.2620\n",
      "Epoch 3/40\n",
      "352/352 [==============================] - 0s 693us/step - loss: 0.1157 - mean_squared_error: 0.0831 - val_loss: 0.3111 - val_mean_squared_error: 0.2593\n",
      "Epoch 4/40\n",
      "352/352 [==============================] - 0s 738us/step - loss: 0.1095 - mean_squared_error: 0.0825 - val_loss: 0.3080 - val_mean_squared_error: 0.2542\n",
      "Epoch 5/40\n",
      "352/352 [==============================] - 0s 716us/step - loss: 0.1075 - mean_squared_error: 0.0811 - val_loss: 0.3047 - val_mean_squared_error: 0.2493\n",
      "Epoch 6/40\n",
      "352/352 [==============================] - 0s 724us/step - loss: 0.1064 - mean_squared_error: 0.0802 - val_loss: 0.3002 - val_mean_squared_error: 0.2430\n",
      "Epoch 7/40\n",
      "352/352 [==============================] - 0s 684us/step - loss: 0.1053 - mean_squared_error: 0.0786 - val_loss: 0.2964 - val_mean_squared_error: 0.2378\n",
      "Epoch 8/40\n",
      "352/352 [==============================] - 0s 750us/step - loss: 0.1044 - mean_squared_error: 0.0772 - val_loss: 0.2925 - val_mean_squared_error: 0.2327\n",
      "Epoch 9/40\n",
      "352/352 [==============================] - 0s 694us/step - loss: 0.1035 - mean_squared_error: 0.0759 - val_loss: 0.2876 - val_mean_squared_error: 0.2268\n",
      "Epoch 10/40\n",
      "352/352 [==============================] - 0s 761us/step - loss: 0.1026 - mean_squared_error: 0.0746 - val_loss: 0.2831 - val_mean_squared_error: 0.2216\n",
      "Epoch 11/40\n",
      "352/352 [==============================] - 0s 727us/step - loss: 0.1017 - mean_squared_error: 0.0733 - val_loss: 0.2776 - val_mean_squared_error: 0.2158\n",
      "Epoch 12/40\n",
      "352/352 [==============================] - 0s 756us/step - loss: 0.1007 - mean_squared_error: 0.0720 - val_loss: 0.2729 - val_mean_squared_error: 0.2110\n",
      "Epoch 13/40\n",
      "352/352 [==============================] - 0s 722us/step - loss: 0.0997 - mean_squared_error: 0.0707 - val_loss: 0.2681 - val_mean_squared_error: 0.2066\n",
      "Epoch 14/40\n",
      "352/352 [==============================] - 0s 787us/step - loss: 0.0989 - mean_squared_error: 0.0699 - val_loss: 0.2636 - val_mean_squared_error: 0.2026\n",
      "Epoch 15/40\n",
      "352/352 [==============================] - 0s 753us/step - loss: 0.0980 - mean_squared_error: 0.0688 - val_loss: 0.2597 - val_mean_squared_error: 0.1993\n",
      "Epoch 16/40\n",
      "352/352 [==============================] - 0s 753us/step - loss: 0.0974 - mean_squared_error: 0.0681 - val_loss: 0.2561 - val_mean_squared_error: 0.1966\n",
      "Epoch 17/40\n",
      "352/352 [==============================] - 0s 724us/step - loss: 0.0967 - mean_squared_error: 0.0673 - val_loss: 0.2525 - val_mean_squared_error: 0.1934\n",
      "Epoch 18/40\n",
      "352/352 [==============================] - 0s 727us/step - loss: 0.0960 - mean_squared_error: 0.0665 - val_loss: 0.2500 - val_mean_squared_error: 0.1905\n",
      "Epoch 19/40\n",
      "352/352 [==============================] - 0s 736us/step - loss: 0.0954 - mean_squared_error: 0.0660 - val_loss: 0.2480 - val_mean_squared_error: 0.1882\n",
      "Epoch 20/40\n",
      "352/352 [==============================] - 0s 699us/step - loss: 0.0949 - mean_squared_error: 0.0654 - val_loss: 0.2460 - val_mean_squared_error: 0.1861\n",
      "Epoch 21/40\n",
      "352/352 [==============================] - 0s 724us/step - loss: 0.0943 - mean_squared_error: 0.0649 - val_loss: 0.2442 - val_mean_squared_error: 0.1845\n",
      "Epoch 22/40\n",
      "352/352 [==============================] - 0s 719us/step - loss: 0.0938 - mean_squared_error: 0.0643 - val_loss: 0.2421 - val_mean_squared_error: 0.1826\n",
      "Epoch 23/40\n",
      "352/352 [==============================] - 0s 705us/step - loss: 0.0933 - mean_squared_error: 0.0639 - val_loss: 0.2405 - val_mean_squared_error: 0.1814\n",
      "Epoch 24/40\n",
      "352/352 [==============================] - 0s 705us/step - loss: 0.0928 - mean_squared_error: 0.0636 - val_loss: 0.2383 - val_mean_squared_error: 0.1792\n",
      "Epoch 25/40\n",
      "352/352 [==============================] - 0s 682us/step - loss: 0.0924 - mean_squared_error: 0.0629 - val_loss: 0.2364 - val_mean_squared_error: 0.1776\n",
      "Epoch 26/40\n",
      "352/352 [==============================] - 0s 778us/step - loss: 0.0920 - mean_squared_error: 0.0628 - val_loss: 0.2343 - val_mean_squared_error: 0.1759\n",
      "Epoch 27/40\n",
      "352/352 [==============================] - 0s 1ms/step - loss: 0.0916 - mean_squared_error: 0.0623 - val_loss: 0.2331 - val_mean_squared_error: 0.1747\n",
      "Epoch 28/40\n",
      "352/352 [==============================] - 0s 1ms/step - loss: 0.0912 - mean_squared_error: 0.0619 - val_loss: 0.2320 - val_mean_squared_error: 0.1721\n",
      "Epoch 29/40\n",
      "352/352 [==============================] - 0s 1ms/step - loss: 0.0909 - mean_squared_error: 0.0614 - val_loss: 0.2315 - val_mean_squared_error: 0.1705\n",
      "Epoch 30/40\n",
      "352/352 [==============================] - 0s 1ms/step - loss: 0.0907 - mean_squared_error: 0.0608 - val_loss: 0.2305 - val_mean_squared_error: 0.1683\n",
      "Epoch 31/40\n",
      "352/352 [==============================] - 0s 1ms/step - loss: 0.0905 - mean_squared_error: 0.0608 - val_loss: 0.2314 - val_mean_squared_error: 0.1687\n",
      "Epoch 32/40\n",
      "352/352 [==============================] - 0s 1ms/step - loss: 0.0902 - mean_squared_error: 0.0603 - val_loss: 0.2293 - val_mean_squared_error: 0.1647\n",
      "Epoch 33/40\n",
      "352/352 [==============================] - 0s 1ms/step - loss: 0.0901 - mean_squared_error: 0.0605 - val_loss: 0.2312 - val_mean_squared_error: 0.1672\n",
      "Epoch 34/40\n",
      "352/352 [==============================] - 0s 1ms/step - loss: 0.0899 - mean_squared_error: 0.0598 - val_loss: 0.2297 - val_mean_squared_error: 0.1646\n",
      "Epoch 35/40\n",
      "352/352 [==============================] - 0s 1ms/step - loss: 0.0897 - mean_squared_error: 0.0595 - val_loss: 0.2287 - val_mean_squared_error: 0.1628\n",
      "Epoch 36/40\n",
      "352/352 [==============================] - 0s 1ms/step - loss: 0.0896 - mean_squared_error: 0.0595 - val_loss: 0.2288 - val_mean_squared_error: 0.1627\n",
      "Epoch 37/40\n",
      "352/352 [==============================] - 0s 920us/step - loss: 0.0895 - mean_squared_error: 0.0589 - val_loss: 0.2251 - val_mean_squared_error: 0.1569\n",
      "Epoch 38/40\n",
      "352/352 [==============================] - 0s 1ms/step - loss: 0.0893 - mean_squared_error: 0.0576 - val_loss: 0.2252 - val_mean_squared_error: 0.1562\n",
      "Epoch 39/40\n",
      "352/352 [==============================] - 0s 991us/step - loss: 0.0891 - mean_squared_error: 0.0576 - val_loss: 0.2243 - val_mean_squared_error: 0.1542\n",
      "Epoch 40/40\n",
      "352/352 [==============================] - 0s 710us/step - loss: 0.0889 - mean_squared_error: 0.0575 - val_loss: 0.2231 - val_mean_squared_error: 0.1519\n"
     ]
    }
   ],
   "source": [
    "# En pocos segundos vemos una reducción del valor de pérdida tanto del set de entrenamiento como del de validación. \n",
    "# original EPOCHS = 40, luego voy modificando\n",
    "EPOCHS=40\n",
    " \n",
    "model = crear_modeloFF()\n",
    " \n",
    "history=model.fit(x_train,y_train,epochs=EPOCHS,validation_data=(x_val,y_val),batch_size=PASOS)"
   ]
  },
  {
   "cell_type": "code",
   "execution_count": 15,
   "metadata": {},
   "outputs": [],
   "source": [
    "# Visualizamos al conjunto de validación (recordemos que eran 30 días)"
   ]
  },
  {
   "cell_type": "markdown",
   "metadata": {},
   "source": [
    "## Visualizamos Resultados"
   ]
  },
  {
   "cell_type": "code",
   "execution_count": 16,
   "metadata": {
    "scrolled": false
   },
   "outputs": [
    {
     "name": "stdout",
     "output_type": "stream",
     "text": [
      "39\n"
     ]
    },
    {
     "data": {
      "image/png": "[encoded data removed]",
      "text/plain": [
       "<Figure size 432x288 with 1 Axes>"
      ]
     },
     "metadata": {
      "needs_background": "light"
     },
     "output_type": "display_data"
    }
   ],
   "source": [
    "results=model.predict(x_val)\n",
    "print( len(results) )\n",
    "plt.scatter(range(len(y_val)),y_val,c='g')\n",
    "plt.scatter(range(len(results)),results,c='r')\n",
    "plt.title('validate')\n",
    "plt.show()"
   ]
  },
  {
   "cell_type": "markdown",
   "metadata": {},
   "source": [
    "En la gráfica vemos que los puntitos verdes intentan aproximarse a los rojos. Cuanto más cerca ó superpuestos mejor. TIP: Si aumentamos la cantidad de EPOCHS mejora cada vez más."
   ]
  },
  {
   "cell_type": "code",
   "execution_count": 17,
   "metadata": {
    "scrolled": true
   },
   "outputs": [
    {
     "data": {
      "image/png": "[encoded data removed]",
      "text/plain": [
       "<Figure size 432x288 with 1 Axes>"
      ]
     },
     "metadata": {
      "needs_background": "light"
     },
     "output_type": "display_data"
    }
   ],
   "source": [
    "plt.plot(history.history['loss'])\n",
    "plt.title('loss')\n",
    "plt.plot(history.history['val_loss'])\n",
    "plt.title('validate loss')\n",
    "plt.show()"
   ]
  },
  {
   "cell_type": "markdown",
   "metadata": {},
   "source": [
    "Modelo 1) ST1: En azul el Entrenamiento y naranja el set de Validación."
   ]
  },
  {
   "cell_type": "code",
   "execution_count": 18,
   "metadata": {},
   "outputs": [
    {
     "data": {
      "image/png": "[encoded data removed]",
      "text/plain": [
       "<Figure size 432x288 with 1 Axes>"
      ]
     },
     "metadata": {
      "needs_background": "light"
     },
     "output_type": "display_data"
    }
   ],
   "source": [
    "plt.title('Accuracy')\n",
    "plt.plot(history.history['mean_squared_error'])\n",
    "plt.show()"
   ]
  },
  {
   "cell_type": "code",
   "execution_count": 19,
   "metadata": {},
   "outputs": [],
   "source": [
    "# En la gráfica vemos que los puntitos verdes intentan aproximarse a los rojos. Cuanto más cerca ó superpuestos mejor. \n",
    "# TIP: Si aumentamos la cantidad de EPOCHS mejora cada vez más."
   ]
  },
  {
   "cell_type": "code",
   "execution_count": 20,
   "metadata": {},
   "outputs": [],
   "source": [
    "# Veamos y comparemos también cómo disminuye el LOSS tanto en el conjunto de train como el de Validate, esto es bueno\n",
    "# ya que indica que el modelo está aprendiendo. A su vez pareciera no haber overfitting, pues las curvas de train y validate\n",
    "# son distintas."
   ]
  },
  {
   "cell_type": "code",
   "execution_count": 21,
   "metadata": {},
   "outputs": [
    {
     "data": {
      "text/html": [
       "<div>\n",
       "<style scoped>\n",
       "    .dataframe tbody tr th:only-of-type {\n",
       "        vertical-align: middle;\n",
       "    }\n",
       "\n",
       "    .dataframe tbody tr th {\n",
       "        vertical-align: top;\n",
       "    }\n",
       "\n",
       "    .dataframe thead th {\n",
       "        text-align: right;\n",
       "    }\n",
       "</style>\n",
       "<table border=\"1\" class=\"dataframe\">\n",
       "  <thead>\n",
       "    <tr style=\"text-align: right;\">\n",
       "      <th></th>\n",
       "      <th>real</th>\n",
       "      <th>prediccion</th>\n",
       "      <th>diferencia</th>\n",
       "    </tr>\n",
       "  </thead>\n",
       "  <tbody>\n",
       "    <tr>\n",
       "      <th>0</th>\n",
       "      <td>3802.999756</td>\n",
       "      <td>374.005798</td>\n",
       "      <td>3428.993896</td>\n",
       "    </tr>\n",
       "    <tr>\n",
       "      <th>1</th>\n",
       "      <td>6253.999512</td>\n",
       "      <td>772.260559</td>\n",
       "      <td>5481.738770</td>\n",
       "    </tr>\n",
       "    <tr>\n",
       "      <th>2</th>\n",
       "      <td>3084.000000</td>\n",
       "      <td>1629.807495</td>\n",
       "      <td>1454.192505</td>\n",
       "    </tr>\n",
       "    <tr>\n",
       "      <th>3</th>\n",
       "      <td>1017.000061</td>\n",
       "      <td>1090.999756</td>\n",
       "      <td>-73.999695</td>\n",
       "    </tr>\n",
       "    <tr>\n",
       "      <th>4</th>\n",
       "      <td>637.000000</td>\n",
       "      <td>737.012817</td>\n",
       "      <td>-100.012817</td>\n",
       "    </tr>\n",
       "  </tbody>\n",
       "</table>\n",
       "</div>"
      ],
      "text/plain": [
       "          real   prediccion   diferencia\n",
       "0  3802.999756   374.005798  3428.993896\n",
       "1  6253.999512   772.260559  5481.738770\n",
       "2  3084.000000  1629.807495  1454.192505\n",
       "3  1017.000061  1090.999756   -73.999695\n",
       "4   637.000000   737.012817  -100.012817"
      ]
     },
     "execution_count": 21,
     "metadata": {},
     "output_type": "execute_result"
    }
   ],
   "source": [
    "compara = pd.DataFrame(np.array([y_val, [x[0] for x in results]])).transpose()\n",
    "compara.columns = ['real', 'prediccion']\n",
    "\n",
    "inverted = scaler.inverse_transform(compara.values)\n",
    "\n",
    "compara2 = pd.DataFrame(inverted)\n",
    "compara2.columns = ['real', 'prediccion']\n",
    "compara2['diferencia'] = compara2['real'] - compara2['prediccion']\n",
    "compara2.head()"
   ]
  },
  {
   "cell_type": "code",
   "execution_count": 22,
   "metadata": {},
   "outputs": [
    {
     "data": {
      "text/html": [
       "<div>\n",
       "<style scoped>\n",
       "    .dataframe tbody tr th:only-of-type {\n",
       "        vertical-align: middle;\n",
       "    }\n",
       "\n",
       "    .dataframe tbody tr th {\n",
       "        vertical-align: top;\n",
       "    }\n",
       "\n",
       "    .dataframe thead th {\n",
       "        text-align: right;\n",
       "    }\n",
       "</style>\n",
       "<table border=\"1\" class=\"dataframe\">\n",
       "  <thead>\n",
       "    <tr style=\"text-align: right;\">\n",
       "      <th></th>\n",
       "      <th>real</th>\n",
       "      <th>prediccion</th>\n",
       "      <th>diferencia</th>\n",
       "    </tr>\n",
       "  </thead>\n",
       "  <tbody>\n",
       "    <tr>\n",
       "      <th>count</th>\n",
       "      <td>39.000000</td>\n",
       "      <td>39.000000</td>\n",
       "      <td>39.000000</td>\n",
       "    </tr>\n",
       "    <tr>\n",
       "      <th>mean</th>\n",
       "      <td>896.128235</td>\n",
       "      <td>308.118317</td>\n",
       "      <td>588.009949</td>\n",
       "    </tr>\n",
       "    <tr>\n",
       "      <th>std</th>\n",
       "      <td>1198.364990</td>\n",
       "      <td>337.714752</td>\n",
       "      <td>1080.999878</td>\n",
       "    </tr>\n",
       "    <tr>\n",
       "      <th>min</th>\n",
       "      <td>9.999938</td>\n",
       "      <td>114.273346</td>\n",
       "      <td>-686.844238</td>\n",
       "    </tr>\n",
       "    <tr>\n",
       "      <th>25%</th>\n",
       "      <td>120.499992</td>\n",
       "      <td>141.175209</td>\n",
       "      <td>-94.560459</td>\n",
       "    </tr>\n",
       "    <tr>\n",
       "      <th>50%</th>\n",
       "      <td>637.000000</td>\n",
       "      <td>151.984665</td>\n",
       "      <td>368.273163</td>\n",
       "    </tr>\n",
       "    <tr>\n",
       "      <th>75%</th>\n",
       "      <td>1099.500092</td>\n",
       "      <td>236.244972</td>\n",
       "      <td>760.711609</td>\n",
       "    </tr>\n",
       "    <tr>\n",
       "      <th>max</th>\n",
       "      <td>6253.999512</td>\n",
       "      <td>1629.807495</td>\n",
       "      <td>5481.738770</td>\n",
       "    </tr>\n",
       "  </tbody>\n",
       "</table>\n",
       "</div>"
      ],
      "text/plain": [
       "              real   prediccion   diferencia\n",
       "count    39.000000    39.000000    39.000000\n",
       "mean    896.128235   308.118317   588.009949\n",
       "std    1198.364990   337.714752  1080.999878\n",
       "min       9.999938   114.273346  -686.844238\n",
       "25%     120.499992   141.175209   -94.560459\n",
       "50%     637.000000   151.984665   368.273163\n",
       "75%    1099.500092   236.244972   760.711609\n",
       "max    6253.999512  1629.807495  5481.738770"
      ]
     },
     "execution_count": 22,
     "metadata": {},
     "output_type": "execute_result"
    }
   ],
   "source": [
    "compara2.describe()"
   ]
  },
  {
   "cell_type": "code",
   "execution_count": 23,
   "metadata": {},
   "outputs": [
    {
     "data": {
      "text/plain": [
       "<matplotlib.axes._subplots.AxesSubplot at 0x2dbde605588>"
      ]
     },
     "execution_count": 23,
     "metadata": {},
     "output_type": "execute_result"
    },
    {
     "data": {
      "image/png": "[encoded data removed]",
      "text/plain": [
       "<Figure size 432x288 with 1 Axes>"
      ]
     },
     "metadata": {
      "needs_background": "light"
     },
     "output_type": "display_data"
    }
   ],
   "source": [
    "compara2['real'].plot()\n",
    "compara2['prediccion'].plot()"
   ]
  },
  {
   "cell_type": "markdown",
   "metadata": {},
   "source": [
    "# Predicción\n",
    "\n",
    "## Pronóstico de unidades futuras\n",
    "Ahora que tenemos nuestra red y -suponiendo que realizamos los 7 pasos del ML– la damos por buena, probaremos a realizar una nueva predicción, en este caso, usaremos los últimos días de Mayo 2019 para calcular la primer semana de Junio. Veamos:"
   ]
  },
  {
   "cell_type": "code",
   "execution_count": 24,
   "metadata": {},
   "outputs": [
    {
     "data": {
      "text/html": [
       "<div>\n",
       "<style scoped>\n",
       "    .dataframe tbody tr th:only-of-type {\n",
       "        vertical-align: middle;\n",
       "    }\n",
       "\n",
       "    .dataframe tbody tr th {\n",
       "        vertical-align: top;\n",
       "    }\n",
       "\n",
       "    .dataframe thead th {\n",
       "        text-align: right;\n",
       "    }\n",
       "</style>\n",
       "<table border=\"1\" class=\"dataframe\">\n",
       "  <thead>\n",
       "    <tr style=\"text-align: right;\">\n",
       "      <th></th>\n",
       "      <th>unidades</th>\n",
       "    </tr>\n",
       "    <tr>\n",
       "      <th>fecha</th>\n",
       "      <th></th>\n",
       "    </tr>\n",
       "  </thead>\n",
       "  <tbody>\n",
       "    <tr>\n",
       "      <th>2019-05-16</th>\n",
       "      <td>3084</td>\n",
       "    </tr>\n",
       "    <tr>\n",
       "      <th>2019-05-17</th>\n",
       "      <td>1017</td>\n",
       "    </tr>\n",
       "    <tr>\n",
       "      <th>2019-05-18</th>\n",
       "      <td>637</td>\n",
       "    </tr>\n",
       "    <tr>\n",
       "      <th>2019-05-19</th>\n",
       "      <td>1567</td>\n",
       "    </tr>\n",
       "    <tr>\n",
       "      <th>2019-05-20</th>\n",
       "      <td>1271</td>\n",
       "    </tr>\n",
       "    <tr>\n",
       "      <th>2019-05-21</th>\n",
       "      <td>171</td>\n",
       "    </tr>\n",
       "    <tr>\n",
       "      <th>2019-05-22</th>\n",
       "      <td>207</td>\n",
       "    </tr>\n",
       "    <tr>\n",
       "      <th>2019-05-23</th>\n",
       "      <td>263</td>\n",
       "    </tr>\n",
       "    <tr>\n",
       "      <th>2019-05-24</th>\n",
       "      <td>1182</td>\n",
       "    </tr>\n",
       "    <tr>\n",
       "      <th>2019-05-25</th>\n",
       "      <td>823</td>\n",
       "    </tr>\n",
       "    <tr>\n",
       "      <th>2019-05-26</th>\n",
       "      <td>971</td>\n",
       "    </tr>\n",
       "    <tr>\n",
       "      <th>2019-05-27</th>\n",
       "      <td>358</td>\n",
       "    </tr>\n",
       "    <tr>\n",
       "      <th>2019-05-28</th>\n",
       "      <td>28</td>\n",
       "    </tr>\n",
       "    <tr>\n",
       "      <th>2019-05-29</th>\n",
       "      <td>23</td>\n",
       "    </tr>\n",
       "    <tr>\n",
       "      <th>2019-05-30</th>\n",
       "      <td>10</td>\n",
       "    </tr>\n",
       "    <tr>\n",
       "      <th>2019-05-31</th>\n",
       "      <td>19</td>\n",
       "    </tr>\n",
       "  </tbody>\n",
       "</table>\n",
       "</div>"
      ],
      "text/plain": [
       "            unidades\n",
       "fecha               \n",
       "2019-05-16      3084\n",
       "2019-05-17      1017\n",
       "2019-05-18       637\n",
       "2019-05-19      1567\n",
       "2019-05-20      1271\n",
       "2019-05-21       171\n",
       "2019-05-22       207\n",
       "2019-05-23       263\n",
       "2019-05-24      1182\n",
       "2019-05-25       823\n",
       "2019-05-26       971\n",
       "2019-05-27       358\n",
       "2019-05-28        28\n",
       "2019-05-29        23\n",
       "2019-05-30        10\n",
       "2019-05-31        19"
      ]
     },
     "execution_count": 24,
     "metadata": {},
     "output_type": "execute_result"
    }
   ],
   "source": [
    "ultimosDias = df['2019-05-16':'2019-05-31']\n",
    "ultimosDias"
   ]
  },
  {
   "cell_type": "markdown",
   "metadata": {},
   "source": [
    "## Preparamos los datos para Test\n",
    "\n",
    "Y ahora seguiremos el mismo preprocesado de datos que hicimos para el entrenamiento: escalando los valores, llamando a la función series_to_supervised pero esta vez sin incluir la columna de salida «Y» pues es la que queremos hallar. Por eso, verán en el código que hacemos drop() de la última columna."
   ]
  },
  {
   "cell_type": "code",
   "execution_count": 25,
   "metadata": {},
   "outputs": [
    {
     "data": {
      "text/html": [
       "<div>\n",
       "<style scoped>\n",
       "    .dataframe tbody tr th:only-of-type {\n",
       "        vertical-align: middle;\n",
       "    }\n",
       "\n",
       "    .dataframe tbody tr th {\n",
       "        vertical-align: top;\n",
       "    }\n",
       "\n",
       "    .dataframe thead th {\n",
       "        text-align: right;\n",
       "    }\n",
       "</style>\n",
       "<table border=\"1\" class=\"dataframe\">\n",
       "  <thead>\n",
       "    <tr style=\"text-align: right;\">\n",
       "      <th></th>\n",
       "      <th>var1(t-7)</th>\n",
       "      <th>var1(t-6)</th>\n",
       "      <th>var1(t-5)</th>\n",
       "      <th>var1(t-4)</th>\n",
       "      <th>var1(t-3)</th>\n",
       "      <th>var1(t-2)</th>\n",
       "      <th>var1(t-1)</th>\n",
       "    </tr>\n",
       "  </thead>\n",
       "  <tbody>\n",
       "    <tr>\n",
       "      <th>7</th>\n",
       "      <td>1.000000</td>\n",
       "      <td>-0.344828</td>\n",
       "      <td>-0.592062</td>\n",
       "      <td>0.013012</td>\n",
       "      <td>-0.179571</td>\n",
       "      <td>-0.895250</td>\n",
       "      <td>-0.871828</td>\n",
       "    </tr>\n",
       "    <tr>\n",
       "      <th>8</th>\n",
       "      <td>-0.344828</td>\n",
       "      <td>-0.592062</td>\n",
       "      <td>0.013012</td>\n",
       "      <td>-0.179571</td>\n",
       "      <td>-0.895250</td>\n",
       "      <td>-0.871828</td>\n",
       "      <td>-0.835394</td>\n",
       "    </tr>\n",
       "    <tr>\n",
       "      <th>9</th>\n",
       "      <td>-0.592062</td>\n",
       "      <td>0.013012</td>\n",
       "      <td>-0.179571</td>\n",
       "      <td>-0.895250</td>\n",
       "      <td>-0.871828</td>\n",
       "      <td>-0.835394</td>\n",
       "      <td>-0.237476</td>\n",
       "    </tr>\n",
       "    <tr>\n",
       "      <th>10</th>\n",
       "      <td>0.013012</td>\n",
       "      <td>-0.179571</td>\n",
       "      <td>-0.895250</td>\n",
       "      <td>-0.871828</td>\n",
       "      <td>-0.835394</td>\n",
       "      <td>-0.237476</td>\n",
       "      <td>-0.471048</td>\n",
       "    </tr>\n",
       "    <tr>\n",
       "      <th>11</th>\n",
       "      <td>-0.179571</td>\n",
       "      <td>-0.895250</td>\n",
       "      <td>-0.871828</td>\n",
       "      <td>-0.835394</td>\n",
       "      <td>-0.237476</td>\n",
       "      <td>-0.471048</td>\n",
       "      <td>-0.374756</td>\n",
       "    </tr>\n",
       "    <tr>\n",
       "      <th>12</th>\n",
       "      <td>-0.895250</td>\n",
       "      <td>-0.871828</td>\n",
       "      <td>-0.835394</td>\n",
       "      <td>-0.237476</td>\n",
       "      <td>-0.471048</td>\n",
       "      <td>-0.374756</td>\n",
       "      <td>-0.773585</td>\n",
       "    </tr>\n",
       "    <tr>\n",
       "      <th>13</th>\n",
       "      <td>-0.871828</td>\n",
       "      <td>-0.835394</td>\n",
       "      <td>-0.237476</td>\n",
       "      <td>-0.471048</td>\n",
       "      <td>-0.374756</td>\n",
       "      <td>-0.773585</td>\n",
       "      <td>-0.988289</td>\n",
       "    </tr>\n",
       "  </tbody>\n",
       "</table>\n",
       "</div>"
      ],
      "text/plain": [
       "    var1(t-7)  var1(t-6)  var1(t-5)  var1(t-4)  var1(t-3)  var1(t-2)  \\\n",
       "7    1.000000  -0.344828  -0.592062   0.013012  -0.179571  -0.895250   \n",
       "8   -0.344828  -0.592062   0.013012  -0.179571  -0.895250  -0.871828   \n",
       "9   -0.592062   0.013012  -0.179571  -0.895250  -0.871828  -0.835394   \n",
       "10   0.013012  -0.179571  -0.895250  -0.871828  -0.835394  -0.237476   \n",
       "11  -0.179571  -0.895250  -0.871828  -0.835394  -0.237476  -0.471048   \n",
       "12  -0.895250  -0.871828  -0.835394  -0.237476  -0.471048  -0.374756   \n",
       "13  -0.871828  -0.835394  -0.237476  -0.471048  -0.374756  -0.773585   \n",
       "\n",
       "    var1(t-1)  \n",
       "7   -0.871828  \n",
       "8   -0.835394  \n",
       "9   -0.237476  \n",
       "10  -0.471048  \n",
       "11  -0.374756  \n",
       "12  -0.773585  \n",
       "13  -0.988289  "
      ]
     },
     "execution_count": 25,
     "metadata": {},
     "output_type": "execute_result"
    }
   ],
   "source": [
    "values = ultimosDias.values\n",
    "values = values.astype('float32')\n",
    "# normalize features\n",
    "values=values.reshape(-1, 1) # esto lo hacemos porque tenemos 1 sola dimension\n",
    "scaled = scaler.fit_transform(values)\n",
    "reframed = series_to_supervised(scaled, PASOS, 1)\n",
    "reframed.drop(reframed.columns[[7]], axis=1, inplace=True)\n",
    "reframed.head(7)"
   ]
  },
  {
   "cell_type": "markdown",
   "metadata": {},
   "source": [
    "De este conjunto «ultimosDias» tomamos sólo la última fila, pues es la que correspondería a la última semana de Mayo y la dejamos en el formato correcto para la red neuronal con reshape:"
   ]
  },
  {
   "cell_type": "code",
   "execution_count": 26,
   "metadata": {},
   "outputs": [
    {
     "data": {
      "text/plain": [
       "array([[[-0.87182826, -0.83539367, -0.23747557, -0.47104752,\n",
       "         -0.37475604, -0.7735849 , -0.9882889 ]],\n",
       "\n",
       "       [[-0.83539367, -0.23747557, -0.47104752, -0.37475604,\n",
       "         -0.7735849 , -0.9882889 , -0.991542  ]],\n",
       "\n",
       "       [[-0.23747557, -0.47104752, -0.37475604, -0.7735849 ,\n",
       "         -0.9882889 , -0.991542  , -1.        ]]], dtype=float32)"
      ]
     },
     "execution_count": 26,
     "metadata": {},
     "output_type": "execute_result"
    }
   ],
   "source": [
    "values = reframed.values\n",
    "x_test = values[6:, :]\n",
    "x_test = x_test.reshape((x_test.shape[0], 1, x_test.shape[1]))\n",
    "x_test"
   ]
  },
  {
   "cell_type": "markdown",
   "metadata": {},
   "source": [
    "Ahora crearemos una función para ir «rellenando» el desplazamiento que hacemos por cada predicción. Esto es porque queremos predecir los 7 primeros días de Junio. Entonces para el 1 de Junio, ya tenemos el set con los últimos 7 días de Mayo. Pero para pronosticar el 2 de Junio necesitamos los 7 días anteriores que INCLUYEN al 1 de Junio y ese valor, lo obtenemos en nuestra predicción anterior. Y así hasta el 7 de Junio."
   ]
  },
  {
   "cell_type": "code",
   "execution_count": 27,
   "metadata": {},
   "outputs": [],
   "source": [
    "def agregarNuevoValor(x_test,nuevoValor):\n",
    "    for i in range(x_test.shape[2]-1):\n",
    "        x_test[0][0][i] = x_test[0][0][i+1]\n",
    "    x_test[0][0][x_test.shape[2]-1]=nuevoValor\n",
    "    return x_test\n",
    " "
   ]
  },
  {
   "cell_type": "markdown",
   "metadata": {},
   "source": [
    "## Pronóstico para la \"próxima semana\""
   ]
  },
  {
   "cell_type": "code",
   "execution_count": 28,
   "metadata": {},
   "outputs": [
    {
     "name": "stdout",
     "output_type": "stream",
     "text": [
      "[[[-0.87182826 -0.83539367 -0.23747557 -0.47104752 -0.37475604\n",
      "   -0.7735849  -0.9882889 ]]\n",
      "\n",
      " [[-0.83539367 -0.23747557 -0.47104752 -0.37475604 -0.7735849\n",
      "   -0.9882889  -0.991542  ]]\n",
      "\n",
      " [[-0.23747557 -0.47104752 -0.37475604 -0.7735849  -0.9882889\n",
      "   -0.991542   -1.        ]]]\n",
      "[[[-0.83539367 -0.23747557 -0.47104752 -0.37475604 -0.7735849\n",
      "   -0.9882889  -0.957446  ]]\n",
      "\n",
      " [[-0.83539367 -0.23747557 -0.47104752 -0.37475604 -0.7735849\n",
      "   -0.9882889  -0.991542  ]]\n",
      "\n",
      " [[-0.23747557 -0.47104752 -0.37475604 -0.7735849  -0.9882889\n",
      "   -0.991542   -1.        ]]]\n",
      "[[[-0.23747557 -0.47104752 -0.37475604 -0.7735849  -0.9882889\n",
      "   -0.957446   -0.9311398 ]]\n",
      "\n",
      " [[-0.83539367 -0.23747557 -0.47104752 -0.37475604 -0.7735849\n",
      "   -0.9882889  -0.991542  ]]\n",
      "\n",
      " [[-0.23747557 -0.47104752 -0.37475604 -0.7735849  -0.9882889\n",
      "   -0.991542   -1.        ]]]\n",
      "[[[-0.47104752 -0.37475604 -0.7735849  -0.9882889  -0.957446\n",
      "   -0.9311398  -0.9546705 ]]\n",
      "\n",
      " [[-0.83539367 -0.23747557 -0.47104752 -0.37475604 -0.7735849\n",
      "   -0.9882889  -0.991542  ]]\n",
      "\n",
      " [[-0.23747557 -0.47104752 -0.37475604 -0.7735849  -0.9882889\n",
      "   -0.991542   -1.        ]]]\n",
      "[[[-0.37475604 -0.7735849  -0.9882889  -0.957446   -0.9311398\n",
      "   -0.9546705  -0.9442136 ]]\n",
      "\n",
      " [[-0.83539367 -0.23747557 -0.47104752 -0.37475604 -0.7735849\n",
      "   -0.9882889  -0.991542  ]]\n",
      "\n",
      " [[-0.23747557 -0.47104752 -0.37475604 -0.7735849  -0.9882889\n",
      "   -0.991542   -1.        ]]]\n",
      "[[[-0.7735849  -0.9882889  -0.957446   -0.9311398  -0.9546705\n",
      "   -0.9442136  -0.9535453 ]]\n",
      "\n",
      " [[-0.83539367 -0.23747557 -0.47104752 -0.37475604 -0.7735849\n",
      "   -0.9882889  -0.991542  ]]\n",
      "\n",
      " [[-0.23747557 -0.47104752 -0.37475604 -0.7735849  -0.9882889\n",
      "   -0.991542   -1.        ]]]\n",
      "[[[-0.9882889  -0.957446   -0.9311398  -0.9546705  -0.9442136\n",
      "   -0.9535453  -0.9617281 ]]\n",
      "\n",
      " [[-0.83539367 -0.23747557 -0.47104752 -0.37475604 -0.7735849\n",
      "   -0.9882889  -0.991542  ]]\n",
      "\n",
      " [[-0.23747557 -0.47104752 -0.37475604 -0.7735849  -0.9882889\n",
      "   -0.991542   -1.        ]]]\n"
     ]
    }
   ],
   "source": [
    "results=[]\n",
    "for i in range(7):\n",
    "    parcial=model.predict(x_test)\n",
    "    results.append(parcial[0])\n",
    "    print(x_test)\n",
    "    x_test=agregarNuevoValor(x_test,parcial[0])"
   ]
  },
  {
   "cell_type": "markdown",
   "metadata": {},
   "source": [
    "## Re-Convertimos los resultados\n",
    "\n",
    "Ya casi lo tenemos… Ahora las predicciones están en el dominio del -1 al 1 y nosotros lo queremos en nuestra escala «real» de unidades vendidas. Entonces vamos a «re-transformar» los datos con el objeto «scaler» que creamos antes."
   ]
  },
  {
   "cell_type": "code",
   "execution_count": 29,
   "metadata": {},
   "outputs": [
    {
     "data": {
      "text/plain": [
       "array([[ 75.40556405],\n",
       "       [115.83811886],\n",
       "       [ 79.67149248],\n",
       "       [ 95.74368586],\n",
       "       [ 81.40095016],\n",
       "       [ 68.82395061],\n",
       "       [ 68.31559376]])"
      ]
     },
     "execution_count": 29,
     "metadata": {},
     "output_type": "execute_result"
    }
   ],
   "source": [
    "adimen = [x for x in results]    \n",
    "inverted = scaler.inverse_transform(adimen)\n",
    "inverted"
   ]
  },
  {
   "cell_type": "markdown",
   "metadata": {},
   "source": [
    "## Visualizamos el pronóstico\n",
    "\n",
    "Ya podemos crear un nuevo DataFrame Pandas por si quisiéramos guardar un nuevo csv con el pronóstico. Y lo visualizamos."
   ]
  },
  {
   "cell_type": "code",
   "execution_count": 30,
   "metadata": {},
   "outputs": [
    {
     "data": {
      "image/png": "[encoded data removed]",
      "text/plain": [
       "<Figure size 432x288 with 1 Axes>"
      ]
     },
     "metadata": {
      "needs_background": "light"
     },
     "output_type": "display_data"
    }
   ],
   "source": [
    "prediccion1SemanaJunio = pd.DataFrame(inverted)\n",
    "prediccion1SemanaJunio.columns = ['pronostico']\n",
    "prediccion1SemanaJunio.plot()\n",
    "prediccion1SemanaJunio.to_csv('pronostico_simple_T.csv')"
   ]
  },
  {
   "cell_type": "code",
   "execution_count": 31,
   "metadata": {},
   "outputs": [
    {
     "data": {
      "text/html": [
       "<div>\n",
       "<style scoped>\n",
       "    .dataframe tbody tr th:only-of-type {\n",
       "        vertical-align: middle;\n",
       "    }\n",
       "\n",
       "    .dataframe tbody tr th {\n",
       "        vertical-align: top;\n",
       "    }\n",
       "\n",
       "    .dataframe thead th {\n",
       "        text-align: right;\n",
       "    }\n",
       "</style>\n",
       "<table border=\"1\" class=\"dataframe\">\n",
       "  <thead>\n",
       "    <tr style=\"text-align: right;\">\n",
       "      <th></th>\n",
       "      <th>pronostico</th>\n",
       "    </tr>\n",
       "  </thead>\n",
       "  <tbody>\n",
       "    <tr>\n",
       "      <th>0</th>\n",
       "      <td>75.405564</td>\n",
       "    </tr>\n",
       "    <tr>\n",
       "      <th>1</th>\n",
       "      <td>115.838119</td>\n",
       "    </tr>\n",
       "    <tr>\n",
       "      <th>2</th>\n",
       "      <td>79.671492</td>\n",
       "    </tr>\n",
       "    <tr>\n",
       "      <th>3</th>\n",
       "      <td>95.743686</td>\n",
       "    </tr>\n",
       "    <tr>\n",
       "      <th>4</th>\n",
       "      <td>81.400950</td>\n",
       "    </tr>\n",
       "    <tr>\n",
       "      <th>5</th>\n",
       "      <td>68.823951</td>\n",
       "    </tr>\n",
       "    <tr>\n",
       "      <th>6</th>\n",
       "      <td>68.315594</td>\n",
       "    </tr>\n",
       "  </tbody>\n",
       "</table>\n",
       "</div>"
      ],
      "text/plain": [
       "   pronostico\n",
       "0   75.405564\n",
       "1  115.838119\n",
       "2   79.671492\n",
       "3   95.743686\n",
       "4   81.400950\n",
       "5   68.823951\n",
       "6   68.315594"
      ]
     },
     "execution_count": 31,
     "metadata": {},
     "output_type": "execute_result"
    }
   ],
   "source": [
    "prediccion1SemanaJunio"
   ]
  },
  {
   "cell_type": "markdown",
   "metadata": {},
   "source": [
    "A partir de los últimos 7 días de Mayo 2019 y utilizando nuestra red neuronal, hicimos el siguiente pronóstico de venta de unidades para la primer semana de Junio."
   ]
  },
  {
   "cell_type": "markdown",
   "metadata": {},
   "source": [
    "Para Probar, alterando parámetros del ejercicio:\n",
    "\n",
    "Variar la cantidad de EPOCHS Probar otro optimizador distinto a Adam, ó configurar valores distintos de Learning Rate. Cambiar la arquitectura de la Red Neuronal: Cambiar la cantidad de Neuronas de la capa oculta. Agregar más capas ocultas Probar utilizando más de 7 días previos para predecir. O probar con menos días. Se puede intentar predecir más de 1 día por vez (sin iterar el resultado como hice con la función agregarNuevoValor() )"
   ]
  },
  {
   "cell_type": "markdown",
   "metadata": {},
   "source": [
    "## Agregamos el resultado en el dataset"
   ]
  },
  {
   "cell_type": "code",
   "execution_count": 32,
   "metadata": {},
   "outputs": [
    {
     "name": "stdout",
     "output_type": "stream",
     "text": [
      "75.40556405375283\n",
      "115.8381188551965\n",
      "79.67149247767888\n",
      "95.7436858613\n",
      "81.40095015591095\n",
      "68.8239506137937\n",
      "68.31559376155778\n"
     ]
    },
    {
     "name": "stderr",
     "output_type": "stream",
     "text": [
      "C:\\Users\\hmarq\\Anaconda3\\envs\\Pippo\\lib\\site-packages\\pandas\\core\\indexing.py:202: SettingWithCopyWarning: \n",
      "A value is trying to be set on a copy of a slice from a DataFrame\n",
      "\n",
      "See the caveats in the documentation: http://pandas.pydata.org/pandas-docs/stable/user_guide/indexing.html#returning-a-view-versus-a-copy\n",
      "  self._setitem_with_indexer(indexer, value)\n"
     ]
    },
    {
     "data": {
      "text/html": [
       "<div>\n",
       "<style scoped>\n",
       "    .dataframe tbody tr th:only-of-type {\n",
       "        vertical-align: middle;\n",
       "    }\n",
       "\n",
       "    .dataframe tbody tr th {\n",
       "        vertical-align: top;\n",
       "    }\n",
       "\n",
       "    .dataframe thead th {\n",
       "        text-align: right;\n",
       "    }\n",
       "</style>\n",
       "<table border=\"1\" class=\"dataframe\">\n",
       "  <thead>\n",
       "    <tr style=\"text-align: right;\">\n",
       "      <th></th>\n",
       "      <th>unidades</th>\n",
       "    </tr>\n",
       "    <tr>\n",
       "      <th>fecha</th>\n",
       "      <th></th>\n",
       "    </tr>\n",
       "  </thead>\n",
       "  <tbody>\n",
       "    <tr>\n",
       "      <th>2019-05-25 00:00:00</th>\n",
       "      <td>823.000000</td>\n",
       "    </tr>\n",
       "    <tr>\n",
       "      <th>2019-05-26 00:00:00</th>\n",
       "      <td>971.000000</td>\n",
       "    </tr>\n",
       "    <tr>\n",
       "      <th>2019-05-27 00:00:00</th>\n",
       "      <td>358.000000</td>\n",
       "    </tr>\n",
       "    <tr>\n",
       "      <th>2019-05-28 00:00:00</th>\n",
       "      <td>28.000000</td>\n",
       "    </tr>\n",
       "    <tr>\n",
       "      <th>2019-05-29 00:00:00</th>\n",
       "      <td>23.000000</td>\n",
       "    </tr>\n",
       "    <tr>\n",
       "      <th>2019-05-30 00:00:00</th>\n",
       "      <td>10.000000</td>\n",
       "    </tr>\n",
       "    <tr>\n",
       "      <th>2019-05-31 00:00:00</th>\n",
       "      <td>19.000000</td>\n",
       "    </tr>\n",
       "    <tr>\n",
       "      <th>2019-06-01 00:00:00</th>\n",
       "      <td>75.405564</td>\n",
       "    </tr>\n",
       "    <tr>\n",
       "      <th>2019-06-02 00:00:00</th>\n",
       "      <td>115.838119</td>\n",
       "    </tr>\n",
       "    <tr>\n",
       "      <th>2019-06-03 00:00:00</th>\n",
       "      <td>79.671492</td>\n",
       "    </tr>\n",
       "    <tr>\n",
       "      <th>2019-06-04 00:00:00</th>\n",
       "      <td>95.743686</td>\n",
       "    </tr>\n",
       "    <tr>\n",
       "      <th>2019-06-05 00:00:00</th>\n",
       "      <td>81.400950</td>\n",
       "    </tr>\n",
       "    <tr>\n",
       "      <th>2019-06-06 00:00:00</th>\n",
       "      <td>68.823951</td>\n",
       "    </tr>\n",
       "    <tr>\n",
       "      <th>2019-06-07 00:00:00</th>\n",
       "      <td>68.315594</td>\n",
       "    </tr>\n",
       "  </tbody>\n",
       "</table>\n",
       "</div>"
      ],
      "text/plain": [
       "                       unidades\n",
       "fecha                          \n",
       "2019-05-25 00:00:00  823.000000\n",
       "2019-05-26 00:00:00  971.000000\n",
       "2019-05-27 00:00:00  358.000000\n",
       "2019-05-28 00:00:00   28.000000\n",
       "2019-05-29 00:00:00   23.000000\n",
       "2019-05-30 00:00:00   10.000000\n",
       "2019-05-31 00:00:00   19.000000\n",
       "2019-06-01 00:00:00   75.405564\n",
       "2019-06-02 00:00:00  115.838119\n",
       "2019-06-03 00:00:00   79.671492\n",
       "2019-06-04 00:00:00   95.743686\n",
       "2019-06-05 00:00:00   81.400950\n",
       "2019-06-06 00:00:00   68.823951\n",
       "2019-06-07 00:00:00   68.315594"
      ]
     },
     "execution_count": 32,
     "metadata": {},
     "output_type": "execute_result"
    }
   ],
   "source": [
    "i=0\n",
    "for fila in prediccion1SemanaJunio.pronostico:\n",
    "    i=i+1\n",
    "    ultimosDias.loc['2019-06-0' + str(i) + ' 00:00:00'] = fila\n",
    "    print(fila)\n",
    "ultimosDias.tail(14)"
   ]
  }
 ],
 "metadata": {
  "kernelspec": {
   "display_name": "Python 3",
   "language": "python",
   "name": "python3"
  },
  "language_info": {
   "codemirror_mode": {
    "name": "ipython",
    "version": 3
   },
   "file_extension": ".py",
   "mimetype": "text/x-python",
   "name": "python",
   "nbconvert_exporter": "python",
   "pygments_lexer": "ipython3",
   "version": "3.7.4"
  }
 },
 "nbformat": 4,
 "nbformat_minor": 2
}
