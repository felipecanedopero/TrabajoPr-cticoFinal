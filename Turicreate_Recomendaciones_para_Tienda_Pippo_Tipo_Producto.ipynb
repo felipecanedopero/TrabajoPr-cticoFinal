{
 "cells": [
  {
   "cell_type": "markdown",
   "metadata": {
    "colab_type": "text",
    "id": "jMywQN4Elnxo"
   },
   "source": [
    "# Recomendación para datos de compra, con Tipo de Producto\n",
    "\n",
    "## La meta\n",
    "\n",
    "Al resolver estos problemas, crearemos modelos de filtrado colaborativos para recomendar productos a los clientes utilizando datos de compra. En particular, cubriremos en detalle el proceso paso a paso en la construcción de un sistema de recomendación con Python y el módulo de aprendizaje automático Turicreate. Estos pasos incluyen:\n",
    "\n",
    "#### Transformando y normalizando datos\n",
    "\n",
    "#### Modelos de entrenamiento\n",
    "\n",
    "#### Evaluación del desempeño del modelo\n",
    "\n",
    "#### Seleccionando el modelo óptimo\n",
    "\n",
    "#### Descripción del producto\n",
    "\n",
    "La herramienta también podrá buscar una lista de recomendaciones basada en un usuario específico, de modo que:\n",
    "\n",
    "#### Entrada: ID del cliente\n",
    "\n",
    "#### Devoluciones: lista clasificada de artículos (ID de producto), que es más probable que el usuario quiera poner en su \"cesta\" (vacía)\n",
    "\n",
    "\n",
    "## 1. Obtención de librerías necesarias"
   ]
  },
  {
   "cell_type": "code",
   "execution_count": 0,
   "metadata": {
    "colab": {},
    "colab_type": "code",
    "id": "y92Uu6DLlnxw"
   },
   "outputs": [],
   "source": [
    "%load_ext autoreload\n",
    "%autoreload 2\n",
    "\n",
    "import pandas as pd\n",
    "import numpy as np\n",
    "import time\n",
    "import turicreate as tc\n",
    "from sklearn.model_selection import cross_validate\n",
    "from sklearn.model_selection import train_test_split\n",
    "\n",
    "import sys\n",
    "sys.path.append(\"..\")"
   ]
  },
  {
   "cell_type": "markdown",
   "metadata": {
    "colab_type": "text",
    "id": "3KYMZuDglnyA"
   },
   "source": [
    "## 2. Obtención de los datos"
   ]
  },
  {
   "cell_type": "code",
   "execution_count": 0,
   "metadata": {
    "colab": {},
    "colab_type": "code",
    "id": "VhQL632blnyD"
   },
   "outputs": [],
   "source": [
    "#Usaremos los datos de los clientes que repiten compras a lo largo del año analizado\n",
    "data = pd.read_csv('DataTypo.csv')\n",
    "#Elimino la columna Unnamed: 0\n",
    "data.drop(['Unnamed: 0'], axis=1, inplace=True)"
   ]
  },
  {
   "cell_type": "code",
   "execution_count": 3,
   "metadata": {
    "colab": {
     "base_uri": "https://localhost:8080/",
     "height": 34
    },
    "colab_type": "code",
    "id": "5gOrsWj6lnyQ",
    "outputId": "bf643be6-9d0b-4cd8-cd58-a31608df1b71"
   },
   "outputs": [
    {
     "data": {
      "text/plain": [
       "(246858, 3)"
      ]
     },
     "execution_count": 3,
     "metadata": {
      "tags": []
     },
     "output_type": "execute_result"
    }
   ],
   "source": [
    "data.shape"
   ]
  },
  {
   "cell_type": "markdown",
   "metadata": {
    "colab_type": "text",
    "id": "gfs5D7zWlnyk"
   },
   "source": [
    "## 3. Preparacion de Datos\n",
    "\n",
    "Nuestro objetivo aquí es dividir cada lista de artículos en la columna de productos en filas y contar la cantidad de productos comprados por un usuario\n",
    "\n",
    "### 3.1. Crear datos con usuario, elemento y campo de destino."
   ]
  },
  {
   "cell_type": "markdown",
   "metadata": {
    "colab_type": "text",
    "id": "Fdun8aFglnyn"
   },
   "source": [
    "Chequeo si los datos importados llegan de acuerdo como lo pide el modelo usado.\n",
    "\n",
    "Se adecuo en el notebook de preparacion de datos. Esta tabla será una entrada para nuestro modelado posterior"
   ]
  },
  {
   "cell_type": "code",
   "execution_count": 4,
   "metadata": {
    "colab": {
     "base_uri": "https://localhost:8080/",
     "height": 153
    },
    "colab_type": "code",
    "id": "P6aGWvpklnyq",
    "outputId": "c5d0d8b2-f065-46a5-c668-551d78e728c8"
   },
   "outputs": [
    {
     "name": "stdout",
     "output_type": "stream",
     "text": [
      "<class 'pandas.core.frame.DataFrame'>\n",
      "RangeIndex: 246858 entries, 0 to 246857\n",
      "Data columns (total 3 columns):\n",
      "customerId        246858 non-null int64\n",
      "productId         246858 non-null object\n",
      "purchase_count    246858 non-null int64\n",
      "dtypes: int64(2), object(1)\n",
      "memory usage: 5.7+ MB\n"
     ]
    }
   ],
   "source": [
    "data.info()"
   ]
  },
  {
   "cell_type": "code",
   "execution_count": 5,
   "metadata": {
    "colab": {
     "base_uri": "https://localhost:8080/",
     "height": 204
    },
    "colab_type": "code",
    "id": "-nv3aI4Wlny3",
    "outputId": "e53662c7-eedf-4ceb-fdf1-03f52effa3dd"
   },
   "outputs": [
    {
     "data": {
      "text/html": [
       "<div>\n",
       "<style scoped>\n",
       "    .dataframe tbody tr th:only-of-type {\n",
       "        vertical-align: middle;\n",
       "    }\n",
       "\n",
       "    .dataframe tbody tr th {\n",
       "        vertical-align: top;\n",
       "    }\n",
       "\n",
       "    .dataframe thead th {\n",
       "        text-align: right;\n",
       "    }\n",
       "</style>\n",
       "<table border=\"1\" class=\"dataframe\">\n",
       "  <thead>\n",
       "    <tr style=\"text-align: right;\">\n",
       "      <th></th>\n",
       "      <th>customerId</th>\n",
       "      <th>productId</th>\n",
       "      <th>purchase_count</th>\n",
       "    </tr>\n",
       "  </thead>\n",
       "  <tbody>\n",
       "    <tr>\n",
       "      <th>225190</th>\n",
       "      <td>127041</td>\n",
       "      <td>Toallas y Toallones</td>\n",
       "      <td>1</td>\n",
       "    </tr>\n",
       "    <tr>\n",
       "      <th>191291</th>\n",
       "      <td>93247</td>\n",
       "      <td>Acolchados y Frazadas</td>\n",
       "      <td>1</td>\n",
       "    </tr>\n",
       "    <tr>\n",
       "      <th>25494</th>\n",
       "      <td>8055</td>\n",
       "      <td>Toallas y Toallones</td>\n",
       "      <td>1</td>\n",
       "    </tr>\n",
       "    <tr>\n",
       "      <th>150494</th>\n",
       "      <td>64596</td>\n",
       "      <td>Mantelería</td>\n",
       "      <td>1</td>\n",
       "    </tr>\n",
       "    <tr>\n",
       "      <th>222860</th>\n",
       "      <td>124329</td>\n",
       "      <td>Toallas y Toallones</td>\n",
       "      <td>1</td>\n",
       "    </tr>\n",
       "  </tbody>\n",
       "</table>\n",
       "</div>"
      ],
      "text/plain": [
       "        customerId              productId  purchase_count\n",
       "225190      127041    Toallas y Toallones               1\n",
       "191291       93247  Acolchados y Frazadas               1\n",
       "25494         8055    Toallas y Toallones               1\n",
       "150494       64596             Mantelería               1\n",
       "222860      124329    Toallas y Toallones               1"
      ]
     },
     "execution_count": 5,
     "metadata": {
      "tags": []
     },
     "output_type": "execute_result"
    }
   ],
   "source": [
    "data.sample(5)"
   ]
  },
  {
   "cell_type": "code",
   "execution_count": 6,
   "metadata": {
    "colab": {
     "base_uri": "https://localhost:8080/",
     "height": 204
    },
    "colab_type": "code",
    "id": "vI22Csmjqseg",
    "outputId": "ddbb94cd-5b1f-4a93-b807-27cf2486a503"
   },
   "outputs": [
    {
     "data": {
      "text/html": [
       "<div>\n",
       "<style scoped>\n",
       "    .dataframe tbody tr th:only-of-type {\n",
       "        vertical-align: middle;\n",
       "    }\n",
       "\n",
       "    .dataframe tbody tr th {\n",
       "        vertical-align: top;\n",
       "    }\n",
       "\n",
       "    .dataframe thead th {\n",
       "        text-align: right;\n",
       "    }\n",
       "</style>\n",
       "<table border=\"1\" class=\"dataframe\">\n",
       "  <thead>\n",
       "    <tr style=\"text-align: right;\">\n",
       "      <th></th>\n",
       "      <th>user_id</th>\n",
       "    </tr>\n",
       "  </thead>\n",
       "  <tbody>\n",
       "    <tr>\n",
       "      <th>21710</th>\n",
       "      <td>64358</td>\n",
       "    </tr>\n",
       "    <tr>\n",
       "      <th>30654</th>\n",
       "      <td>102849</td>\n",
       "    </tr>\n",
       "    <tr>\n",
       "      <th>16426</th>\n",
       "      <td>45849</td>\n",
       "    </tr>\n",
       "    <tr>\n",
       "      <th>15010</th>\n",
       "      <td>41245</td>\n",
       "    </tr>\n",
       "    <tr>\n",
       "      <th>38777</th>\n",
       "      <td>156737</td>\n",
       "    </tr>\n",
       "  </tbody>\n",
       "</table>\n",
       "</div>"
      ],
      "text/plain": [
       "       user_id\n",
       "21710    64358\n",
       "30654   102849\n",
       "16426    45849\n",
       "15010    41245\n",
       "38777   156737"
      ]
     },
     "execution_count": 6,
     "metadata": {
      "tags": []
     },
     "output_type": "execute_result"
    }
   ],
   "source": [
    "#Sobre el Dataframe creado, generamos un subdataframe con los códigos de clientes:\n",
    "customers = pd.DataFrame(data['customerId'].unique(), columns=['user_id'])\n",
    "customers.sample(5)"
   ]
  },
  {
   "cell_type": "markdown",
   "metadata": {
    "colab_type": "text",
    "id": "C5aafr0-lnzD"
   },
   "source": [
    "### 3.2. Crear dummy\n",
    "\n",
    "¿Por qué crear un dummy en lugar de normalizarlo? Normalizar el recuento de compras, por ejemplo, por cada usuario, no funcionaría porque los clientes pueden tener diferentes frecuencias de compra y no tienen el mismo gusto. Sin embargo, podemos normalizar los artículos por frecuencia de compra en todos los usuarios, lo que se hace en la sección 3.3. "
   ]
  },
  {
   "cell_type": "code",
   "execution_count": 0,
   "metadata": {
    "colab": {},
    "colab_type": "code",
    "id": "6tH8COc9lnzH"
   },
   "outputs": [],
   "source": [
    "def create_data_dummy(data):\n",
    "    data_dummy = data.copy()\n",
    "    data_dummy['purchase_dummy'] = 1\n",
    "    return data_dummy"
   ]
  },
  {
   "cell_type": "code",
   "execution_count": 0,
   "metadata": {
    "colab": {},
    "colab_type": "code",
    "id": "eTYC8QYblnzV"
   },
   "outputs": [],
   "source": [
    "data_dummy = create_data_dummy(data)"
   ]
  },
  {
   "cell_type": "markdown",
   "metadata": {
    "colab_type": "text",
    "id": "ri9QY4xLlnzh"
   },
   "source": [
    "### 3.3. Normalizar los items entre los usuarios"
   ]
  },
  {
   "cell_type": "code",
   "execution_count": 9,
   "metadata": {
    "colab": {
     "base_uri": "https://localhost:8080/",
     "height": 289
    },
    "colab_type": "code",
    "id": "175lBjCRlnzl",
    "outputId": "39a869fd-33c1-46ea-c68d-1e8aa611eda2"
   },
   "outputs": [
    {
     "name": "stdout",
     "output_type": "stream",
     "text": [
      "(39037, 27)\n"
     ]
    },
    {
     "data": {
      "text/html": [
       "<div>\n",
       "<style scoped>\n",
       "    .dataframe tbody tr th:only-of-type {\n",
       "        vertical-align: middle;\n",
       "    }\n",
       "\n",
       "    .dataframe tbody tr th {\n",
       "        vertical-align: top;\n",
       "    }\n",
       "\n",
       "    .dataframe thead th {\n",
       "        text-align: right;\n",
       "    }\n",
       "</style>\n",
       "<table border=\"1\" class=\"dataframe\">\n",
       "  <thead>\n",
       "    <tr style=\"text-align: right;\">\n",
       "      <th>productId</th>\n",
       "      <th>Accesorios</th>\n",
       "      <th>Acolchados y Frazadas</th>\n",
       "      <th>Adornos</th>\n",
       "      <th>Alfombras</th>\n",
       "      <th>Almohadas</th>\n",
       "      <th>Almohadones</th>\n",
       "      <th>Aromatizadores</th>\n",
       "      <th>Bandejas</th>\n",
       "      <th>Bebé</th>\n",
       "      <th>Cajas y Cajones</th>\n",
       "      <th>Cama</th>\n",
       "      <th>Cortinas</th>\n",
       "      <th>Guardado</th>\n",
       "      <th>Jabones y Jaboneras</th>\n",
       "      <th>Jardín</th>\n",
       "      <th>Lonas</th>\n",
       "      <th>Mantelería</th>\n",
       "      <th>Muebles</th>\n",
       "      <th>Para Dormir</th>\n",
       "      <th>Para Trabajo</th>\n",
       "      <th>Para Uso</th>\n",
       "      <th>Placard</th>\n",
       "      <th>Sillas</th>\n",
       "      <th>Sábanas</th>\n",
       "      <th>Toallas y Toallones</th>\n",
       "      <th>Vajilla</th>\n",
       "      <th>Velas</th>\n",
       "    </tr>\n",
       "    <tr>\n",
       "      <th>customerId</th>\n",
       "      <th></th>\n",
       "      <th></th>\n",
       "      <th></th>\n",
       "      <th></th>\n",
       "      <th></th>\n",
       "      <th></th>\n",
       "      <th></th>\n",
       "      <th></th>\n",
       "      <th></th>\n",
       "      <th></th>\n",
       "      <th></th>\n",
       "      <th></th>\n",
       "      <th></th>\n",
       "      <th></th>\n",
       "      <th></th>\n",
       "      <th></th>\n",
       "      <th></th>\n",
       "      <th></th>\n",
       "      <th></th>\n",
       "      <th></th>\n",
       "      <th></th>\n",
       "      <th></th>\n",
       "      <th></th>\n",
       "      <th></th>\n",
       "      <th></th>\n",
       "      <th></th>\n",
       "      <th></th>\n",
       "    </tr>\n",
       "  </thead>\n",
       "  <tbody>\n",
       "    <tr>\n",
       "      <th>98550</th>\n",
       "      <td>NaN</td>\n",
       "      <td>NaN</td>\n",
       "      <td>NaN</td>\n",
       "      <td>NaN</td>\n",
       "      <td>NaN</td>\n",
       "      <td>NaN</td>\n",
       "      <td>NaN</td>\n",
       "      <td>NaN</td>\n",
       "      <td>NaN</td>\n",
       "      <td>NaN</td>\n",
       "      <td>NaN</td>\n",
       "      <td>NaN</td>\n",
       "      <td>NaN</td>\n",
       "      <td>NaN</td>\n",
       "      <td>NaN</td>\n",
       "      <td>NaN</td>\n",
       "      <td>NaN</td>\n",
       "      <td>NaN</td>\n",
       "      <td>NaN</td>\n",
       "      <td>NaN</td>\n",
       "      <td>NaN</td>\n",
       "      <td>2.5</td>\n",
       "      <td>NaN</td>\n",
       "      <td>1.0</td>\n",
       "      <td>NaN</td>\n",
       "      <td>NaN</td>\n",
       "      <td>NaN</td>\n",
       "    </tr>\n",
       "    <tr>\n",
       "      <th>28419</th>\n",
       "      <td>NaN</td>\n",
       "      <td>1.0</td>\n",
       "      <td>NaN</td>\n",
       "      <td>NaN</td>\n",
       "      <td>NaN</td>\n",
       "      <td>1.000000</td>\n",
       "      <td>NaN</td>\n",
       "      <td>NaN</td>\n",
       "      <td>NaN</td>\n",
       "      <td>NaN</td>\n",
       "      <td>NaN</td>\n",
       "      <td>1.0</td>\n",
       "      <td>NaN</td>\n",
       "      <td>NaN</td>\n",
       "      <td>NaN</td>\n",
       "      <td>NaN</td>\n",
       "      <td>NaN</td>\n",
       "      <td>NaN</td>\n",
       "      <td>NaN</td>\n",
       "      <td>NaN</td>\n",
       "      <td>NaN</td>\n",
       "      <td>NaN</td>\n",
       "      <td>NaN</td>\n",
       "      <td>NaN</td>\n",
       "      <td>NaN</td>\n",
       "      <td>NaN</td>\n",
       "      <td>NaN</td>\n",
       "    </tr>\n",
       "    <tr>\n",
       "      <th>157540</th>\n",
       "      <td>NaN</td>\n",
       "      <td>NaN</td>\n",
       "      <td>NaN</td>\n",
       "      <td>NaN</td>\n",
       "      <td>NaN</td>\n",
       "      <td>NaN</td>\n",
       "      <td>NaN</td>\n",
       "      <td>NaN</td>\n",
       "      <td>NaN</td>\n",
       "      <td>NaN</td>\n",
       "      <td>NaN</td>\n",
       "      <td>NaN</td>\n",
       "      <td>NaN</td>\n",
       "      <td>NaN</td>\n",
       "      <td>NaN</td>\n",
       "      <td>NaN</td>\n",
       "      <td>NaN</td>\n",
       "      <td>NaN</td>\n",
       "      <td>NaN</td>\n",
       "      <td>NaN</td>\n",
       "      <td>NaN</td>\n",
       "      <td>NaN</td>\n",
       "      <td>NaN</td>\n",
       "      <td>1.0</td>\n",
       "      <td>1.75</td>\n",
       "      <td>NaN</td>\n",
       "      <td>NaN</td>\n",
       "    </tr>\n",
       "    <tr>\n",
       "      <th>80683</th>\n",
       "      <td>NaN</td>\n",
       "      <td>NaN</td>\n",
       "      <td>NaN</td>\n",
       "      <td>NaN</td>\n",
       "      <td>NaN</td>\n",
       "      <td>1.000000</td>\n",
       "      <td>NaN</td>\n",
       "      <td>NaN</td>\n",
       "      <td>NaN</td>\n",
       "      <td>NaN</td>\n",
       "      <td>NaN</td>\n",
       "      <td>NaN</td>\n",
       "      <td>NaN</td>\n",
       "      <td>NaN</td>\n",
       "      <td>NaN</td>\n",
       "      <td>NaN</td>\n",
       "      <td>NaN</td>\n",
       "      <td>NaN</td>\n",
       "      <td>NaN</td>\n",
       "      <td>NaN</td>\n",
       "      <td>NaN</td>\n",
       "      <td>NaN</td>\n",
       "      <td>NaN</td>\n",
       "      <td>1.0</td>\n",
       "      <td>NaN</td>\n",
       "      <td>NaN</td>\n",
       "      <td>NaN</td>\n",
       "    </tr>\n",
       "    <tr>\n",
       "      <th>96841</th>\n",
       "      <td>NaN</td>\n",
       "      <td>NaN</td>\n",
       "      <td>NaN</td>\n",
       "      <td>NaN</td>\n",
       "      <td>1.0</td>\n",
       "      <td>1.666667</td>\n",
       "      <td>NaN</td>\n",
       "      <td>NaN</td>\n",
       "      <td>NaN</td>\n",
       "      <td>NaN</td>\n",
       "      <td>NaN</td>\n",
       "      <td>1.0</td>\n",
       "      <td>NaN</td>\n",
       "      <td>NaN</td>\n",
       "      <td>NaN</td>\n",
       "      <td>NaN</td>\n",
       "      <td>NaN</td>\n",
       "      <td>NaN</td>\n",
       "      <td>NaN</td>\n",
       "      <td>NaN</td>\n",
       "      <td>NaN</td>\n",
       "      <td>NaN</td>\n",
       "      <td>NaN</td>\n",
       "      <td>1.0</td>\n",
       "      <td>1.00</td>\n",
       "      <td>NaN</td>\n",
       "      <td>NaN</td>\n",
       "    </tr>\n",
       "  </tbody>\n",
       "</table>\n",
       "</div>"
      ],
      "text/plain": [
       "productId   Accesorios  Acolchados y Frazadas  ...  Vajilla  Velas\n",
       "customerId                                     ...                \n",
       "98550              NaN                    NaN  ...      NaN    NaN\n",
       "28419              NaN                    1.0  ...      NaN    NaN\n",
       "157540             NaN                    NaN  ...      NaN    NaN\n",
       "80683              NaN                    NaN  ...      NaN    NaN\n",
       "96841              NaN                    NaN  ...      NaN    NaN\n",
       "\n",
       "[5 rows x 27 columns]"
      ]
     },
     "execution_count": 9,
     "metadata": {
      "tags": []
     },
     "output_type": "execute_result"
    }
   ],
   "source": [
    "# Para hacer esto, normalizamos la frecuencia de compra de cada artículo entre los usuarios creando primero un artículo\n",
    "# de usuario matriz de la siguiente manera\n",
    "df_matrix = pd.pivot_table(data, values='purchase_count', index='customerId', columns='productId')\n",
    "print(df_matrix.shape)\n",
    "df_matrix.sample(5)"
   ]
  },
  {
   "cell_type": "code",
   "execution_count": 10,
   "metadata": {
    "colab": {
     "base_uri": "https://localhost:8080/",
     "height": 289
    },
    "colab_type": "code",
    "id": "XM7x5w4Blnzw",
    "outputId": "31ee4cb0-36ea-4020-fe3e-46b304074bc4"
   },
   "outputs": [
    {
     "name": "stdout",
     "output_type": "stream",
     "text": [
      "(39037, 27)\n"
     ]
    },
    {
     "data": {
      "text/html": [
       "<div>\n",
       "<style scoped>\n",
       "    .dataframe tbody tr th:only-of-type {\n",
       "        vertical-align: middle;\n",
       "    }\n",
       "\n",
       "    .dataframe tbody tr th {\n",
       "        vertical-align: top;\n",
       "    }\n",
       "\n",
       "    .dataframe thead th {\n",
       "        text-align: right;\n",
       "    }\n",
       "</style>\n",
       "<table border=\"1\" class=\"dataframe\">\n",
       "  <thead>\n",
       "    <tr style=\"text-align: right;\">\n",
       "      <th>productId</th>\n",
       "      <th>Accesorios</th>\n",
       "      <th>Acolchados y Frazadas</th>\n",
       "      <th>Adornos</th>\n",
       "      <th>Alfombras</th>\n",
       "      <th>Almohadas</th>\n",
       "      <th>Almohadones</th>\n",
       "      <th>Aromatizadores</th>\n",
       "      <th>Bandejas</th>\n",
       "      <th>Bebé</th>\n",
       "      <th>Cajas y Cajones</th>\n",
       "      <th>Cama</th>\n",
       "      <th>Cortinas</th>\n",
       "      <th>Guardado</th>\n",
       "      <th>Jabones y Jaboneras</th>\n",
       "      <th>Jardín</th>\n",
       "      <th>Lonas</th>\n",
       "      <th>Mantelería</th>\n",
       "      <th>Muebles</th>\n",
       "      <th>Para Dormir</th>\n",
       "      <th>Para Trabajo</th>\n",
       "      <th>Para Uso</th>\n",
       "      <th>Placard</th>\n",
       "      <th>Sillas</th>\n",
       "      <th>Sábanas</th>\n",
       "      <th>Toallas y Toallones</th>\n",
       "      <th>Vajilla</th>\n",
       "      <th>Velas</th>\n",
       "    </tr>\n",
       "    <tr>\n",
       "      <th>customerId</th>\n",
       "      <th></th>\n",
       "      <th></th>\n",
       "      <th></th>\n",
       "      <th></th>\n",
       "      <th></th>\n",
       "      <th></th>\n",
       "      <th></th>\n",
       "      <th></th>\n",
       "      <th></th>\n",
       "      <th></th>\n",
       "      <th></th>\n",
       "      <th></th>\n",
       "      <th></th>\n",
       "      <th></th>\n",
       "      <th></th>\n",
       "      <th></th>\n",
       "      <th></th>\n",
       "      <th></th>\n",
       "      <th></th>\n",
       "      <th></th>\n",
       "      <th></th>\n",
       "      <th></th>\n",
       "      <th></th>\n",
       "      <th></th>\n",
       "      <th></th>\n",
       "      <th></th>\n",
       "      <th></th>\n",
       "    </tr>\n",
       "  </thead>\n",
       "  <tbody>\n",
       "    <tr>\n",
       "      <th>21226</th>\n",
       "      <td>NaN</td>\n",
       "      <td>0.0</td>\n",
       "      <td>NaN</td>\n",
       "      <td>0.285714</td>\n",
       "      <td>NaN</td>\n",
       "      <td>NaN</td>\n",
       "      <td>NaN</td>\n",
       "      <td>NaN</td>\n",
       "      <td>NaN</td>\n",
       "      <td>NaN</td>\n",
       "      <td>NaN</td>\n",
       "      <td>NaN</td>\n",
       "      <td>NaN</td>\n",
       "      <td>NaN</td>\n",
       "      <td>NaN</td>\n",
       "      <td>NaN</td>\n",
       "      <td>NaN</td>\n",
       "      <td>NaN</td>\n",
       "      <td>NaN</td>\n",
       "      <td>NaN</td>\n",
       "      <td>NaN</td>\n",
       "      <td>NaN</td>\n",
       "      <td>NaN</td>\n",
       "      <td>0.0</td>\n",
       "      <td>NaN</td>\n",
       "      <td>NaN</td>\n",
       "      <td>NaN</td>\n",
       "    </tr>\n",
       "    <tr>\n",
       "      <th>68491</th>\n",
       "      <td>NaN</td>\n",
       "      <td>NaN</td>\n",
       "      <td>NaN</td>\n",
       "      <td>NaN</td>\n",
       "      <td>NaN</td>\n",
       "      <td>0.000000</td>\n",
       "      <td>NaN</td>\n",
       "      <td>NaN</td>\n",
       "      <td>NaN</td>\n",
       "      <td>NaN</td>\n",
       "      <td>NaN</td>\n",
       "      <td>NaN</td>\n",
       "      <td>NaN</td>\n",
       "      <td>NaN</td>\n",
       "      <td>NaN</td>\n",
       "      <td>NaN</td>\n",
       "      <td>0.0</td>\n",
       "      <td>NaN</td>\n",
       "      <td>NaN</td>\n",
       "      <td>NaN</td>\n",
       "      <td>NaN</td>\n",
       "      <td>NaN</td>\n",
       "      <td>NaN</td>\n",
       "      <td>0.0</td>\n",
       "      <td>NaN</td>\n",
       "      <td>NaN</td>\n",
       "      <td>NaN</td>\n",
       "    </tr>\n",
       "    <tr>\n",
       "      <th>21523</th>\n",
       "      <td>NaN</td>\n",
       "      <td>0.0</td>\n",
       "      <td>NaN</td>\n",
       "      <td>NaN</td>\n",
       "      <td>NaN</td>\n",
       "      <td>0.027778</td>\n",
       "      <td>NaN</td>\n",
       "      <td>NaN</td>\n",
       "      <td>NaN</td>\n",
       "      <td>NaN</td>\n",
       "      <td>NaN</td>\n",
       "      <td>NaN</td>\n",
       "      <td>NaN</td>\n",
       "      <td>NaN</td>\n",
       "      <td>NaN</td>\n",
       "      <td>NaN</td>\n",
       "      <td>NaN</td>\n",
       "      <td>NaN</td>\n",
       "      <td>NaN</td>\n",
       "      <td>NaN</td>\n",
       "      <td>NaN</td>\n",
       "      <td>NaN</td>\n",
       "      <td>NaN</td>\n",
       "      <td>0.0</td>\n",
       "      <td>NaN</td>\n",
       "      <td>NaN</td>\n",
       "      <td>NaN</td>\n",
       "    </tr>\n",
       "    <tr>\n",
       "      <th>69224</th>\n",
       "      <td>NaN</td>\n",
       "      <td>0.0</td>\n",
       "      <td>NaN</td>\n",
       "      <td>NaN</td>\n",
       "      <td>NaN</td>\n",
       "      <td>0.055556</td>\n",
       "      <td>NaN</td>\n",
       "      <td>NaN</td>\n",
       "      <td>NaN</td>\n",
       "      <td>NaN</td>\n",
       "      <td>NaN</td>\n",
       "      <td>NaN</td>\n",
       "      <td>NaN</td>\n",
       "      <td>NaN</td>\n",
       "      <td>NaN</td>\n",
       "      <td>NaN</td>\n",
       "      <td>NaN</td>\n",
       "      <td>NaN</td>\n",
       "      <td>NaN</td>\n",
       "      <td>NaN</td>\n",
       "      <td>NaN</td>\n",
       "      <td>NaN</td>\n",
       "      <td>NaN</td>\n",
       "      <td>NaN</td>\n",
       "      <td>NaN</td>\n",
       "      <td>NaN</td>\n",
       "      <td>NaN</td>\n",
       "    </tr>\n",
       "    <tr>\n",
       "      <th>121343</th>\n",
       "      <td>NaN</td>\n",
       "      <td>NaN</td>\n",
       "      <td>NaN</td>\n",
       "      <td>NaN</td>\n",
       "      <td>NaN</td>\n",
       "      <td>NaN</td>\n",
       "      <td>NaN</td>\n",
       "      <td>NaN</td>\n",
       "      <td>NaN</td>\n",
       "      <td>NaN</td>\n",
       "      <td>NaN</td>\n",
       "      <td>NaN</td>\n",
       "      <td>NaN</td>\n",
       "      <td>NaN</td>\n",
       "      <td>NaN</td>\n",
       "      <td>NaN</td>\n",
       "      <td>NaN</td>\n",
       "      <td>NaN</td>\n",
       "      <td>NaN</td>\n",
       "      <td>NaN</td>\n",
       "      <td>NaN</td>\n",
       "      <td>NaN</td>\n",
       "      <td>NaN</td>\n",
       "      <td>0.0</td>\n",
       "      <td>0.0</td>\n",
       "      <td>NaN</td>\n",
       "      <td>NaN</td>\n",
       "    </tr>\n",
       "  </tbody>\n",
       "</table>\n",
       "</div>"
      ],
      "text/plain": [
       "productId   Accesorios  Acolchados y Frazadas  ...  Vajilla  Velas\n",
       "customerId                                     ...                \n",
       "21226              NaN                    0.0  ...      NaN    NaN\n",
       "68491              NaN                    NaN  ...      NaN    NaN\n",
       "21523              NaN                    0.0  ...      NaN    NaN\n",
       "69224              NaN                    0.0  ...      NaN    NaN\n",
       "121343             NaN                    NaN  ...      NaN    NaN\n",
       "\n",
       "[5 rows x 27 columns]"
      ]
     },
     "execution_count": 10,
     "metadata": {
      "tags": []
     },
     "output_type": "execute_result"
    }
   ],
   "source": [
    "df_matrix_norm = (df_matrix-df_matrix.min())/(df_matrix.max()-df_matrix.min())\n",
    "print(df_matrix_norm.shape)\n",
    "df_matrix_norm.sample(5)"
   ]
  },
  {
   "cell_type": "code",
   "execution_count": 11,
   "metadata": {
    "colab": {
     "base_uri": "https://localhost:8080/",
     "height": 221
    },
    "colab_type": "code",
    "id": "h3ZM3gqfln0C",
    "outputId": "e6084717-e2c5-4a35-ed70-5dd4d81b7121"
   },
   "outputs": [
    {
     "name": "stdout",
     "output_type": "stream",
     "text": [
      "(118807, 3)\n"
     ]
    },
    {
     "data": {
      "text/html": [
       "<div>\n",
       "<style scoped>\n",
       "    .dataframe tbody tr th:only-of-type {\n",
       "        vertical-align: middle;\n",
       "    }\n",
       "\n",
       "    .dataframe tbody tr th {\n",
       "        vertical-align: top;\n",
       "    }\n",
       "\n",
       "    .dataframe thead th {\n",
       "        text-align: right;\n",
       "    }\n",
       "</style>\n",
       "<table border=\"1\" class=\"dataframe\">\n",
       "  <thead>\n",
       "    <tr style=\"text-align: right;\">\n",
       "      <th></th>\n",
       "      <th>customerId</th>\n",
       "      <th>productId</th>\n",
       "      <th>scaled_purchase_freq</th>\n",
       "    </tr>\n",
       "  </thead>\n",
       "  <tbody>\n",
       "    <tr>\n",
       "      <th>14</th>\n",
       "      <td>37</td>\n",
       "      <td>Accesorios</td>\n",
       "      <td>0.0</td>\n",
       "    </tr>\n",
       "    <tr>\n",
       "      <th>29</th>\n",
       "      <td>83</td>\n",
       "      <td>Accesorios</td>\n",
       "      <td>0.0</td>\n",
       "    </tr>\n",
       "    <tr>\n",
       "      <th>30</th>\n",
       "      <td>85</td>\n",
       "      <td>Accesorios</td>\n",
       "      <td>0.0</td>\n",
       "    </tr>\n",
       "    <tr>\n",
       "      <th>41</th>\n",
       "      <td>124</td>\n",
       "      <td>Accesorios</td>\n",
       "      <td>0.0</td>\n",
       "    </tr>\n",
       "    <tr>\n",
       "      <th>51</th>\n",
       "      <td>153</td>\n",
       "      <td>Accesorios</td>\n",
       "      <td>0.0</td>\n",
       "    </tr>\n",
       "  </tbody>\n",
       "</table>\n",
       "</div>"
      ],
      "text/plain": [
       "    customerId   productId  scaled_purchase_freq\n",
       "14          37  Accesorios                   0.0\n",
       "29          83  Accesorios                   0.0\n",
       "30          85  Accesorios                   0.0\n",
       "41         124  Accesorios                   0.0\n",
       "51         153  Accesorios                   0.0"
      ]
     },
     "execution_count": 11,
     "metadata": {
      "tags": []
     },
     "output_type": "execute_result"
    }
   ],
   "source": [
    "# crear una tabla para ingresar al modelado  \n",
    "d = df_matrix_norm.reset_index() \n",
    "d.index.names = ['scaled_purchase_freq'] \n",
    "data_norm = pd.melt(d, id_vars=['customerId'], value_name='scaled_purchase_freq').dropna()\n",
    "print(data_norm.shape)\n",
    "data_norm.head()"
   ]
  },
  {
   "cell_type": "code",
   "execution_count": 0,
   "metadata": {
    "colab": {},
    "colab_type": "code",
    "id": "XCskIN-uln0R"
   },
   "outputs": [],
   "source": [
    "# Los pasos anteriores se pueden combinar con una función definida a continuación:\n",
    "def normalize_data(data):\n",
    "    df_matrix = pd.pivot_table(data, values='purchase_count', index='customerId', columns='productId')\n",
    "    df_matrix_norm = (df_matrix-df_matrix.min())/(df_matrix.max()-df_matrix.min())\n",
    "    d = df_matrix_norm.reset_index()\n",
    "    d.index.names = ['scaled_purchase_freq']\n",
    "    return pd.melt(d, id_vars=['customerId'], value_name='scaled_purchase_freq').dropna()\n",
    "# En este paso, hemos normalizado su historial de compras, de 0 a 1 (donde 1 es la mayor cantidad de compras para \n",
    "# un artículo y 0 es 0 recuento de compras para ese artículo)."
   ]
  },
  {
   "cell_type": "markdown",
   "metadata": {
    "colab_type": "text",
    "id": "xBAVGY0Kln0c"
   },
   "source": [
    "## 4. Split train and test set\n",
    "\n",
    "Dividir los datos en conjuntos de entrenamiento y prueba es una parte importante de la evaluación del modelado predictivo, en este caso un modelo de filtrado colaborativo. Por lo general, utilizamos una porción más grande de los datos para capacitación y una porción más pequeña para pruebas.\n",
    "Utilizamos la proporción 80:20 para nuestro tamaño de conjunto de prueba de entrenamiento.\n"
   ]
  },
  {
   "cell_type": "code",
   "execution_count": 13,
   "metadata": {
    "colab": {
     "base_uri": "https://localhost:8080/",
     "height": 34
    },
    "colab_type": "code",
    "id": "RF759csiln0g",
    "outputId": "daba82f3-d571-4d96-94ac-73d9ae4ea366"
   },
   "outputs": [
    {
     "name": "stdout",
     "output_type": "stream",
     "text": [
      "(197486, 3) (49372, 3)\n"
     ]
    }
   ],
   "source": [
    "train, test = train_test_split(data, test_size = .2)\n",
    "print(train.shape, test.shape)"
   ]
  },
  {
   "cell_type": "code",
   "execution_count": 0,
   "metadata": {
    "colab": {},
    "colab_type": "code",
    "id": "RbWmv0LWln0t"
   },
   "outputs": [],
   "source": [
    "def split_data(data):\n",
    "    '''\n",
    "    Divide el conjunto de datos en el conjunto de entrenamiento y prueba..\n",
    "    \n",
    "    Args:\n",
    "        data (pandas.DataFrame)\n",
    "        \n",
    "    Returns\n",
    "        train_data (tc.SFrame)\n",
    "        test_data (tc.SFrame)\n",
    "    '''\n",
    "    train, test = train_test_split(data, test_size = .2)\n",
    "    train_data = tc.SFrame(train)\n",
    "    test_data = tc.SFrame(test)\n",
    "    return train_data, test_data"
   ]
  },
  {
   "cell_type": "code",
   "execution_count": 0,
   "metadata": {
    "colab": {},
    "colab_type": "code",
    "id": "e1IDeaVUln08"
   },
   "outputs": [],
   "source": [
    "# Ahora que tenemos tres conjuntos de datos con recuentos de compras, ficticios de compra y recuentos de compras\n",
    "# a escala, nos gustaría dividir cada uno para modelar.\n",
    "train_data, test_data = split_data(data)\n",
    "train_data_dummy, test_data_dummy = split_data(data_dummy)\n",
    "train_data_norm, test_data_norm = split_data(data_norm)"
   ]
  },
  {
   "cell_type": "markdown",
   "metadata": {
    "colab_type": "text",
    "id": "qIIkfTpIln1Z"
   },
   "source": [
    "## 5. Definir modelos usando la biblioteca Turicreate\n",
    "\n",
    "Antes de ejecutar un enfoque más complicado, como el filtrado colaborativo, debemos ejecutar un modelo de referencia para comparar y evaluar modelos. Dado que la línea de base generalmente usa un enfoque muy simple, las técnicas utilizadas más allá de este enfoque deben elegirse si muestran una precisión y complejidad relativamente mejores. En este caso, utilizaremos el modelo de popularidad."
   ]
  },
  {
   "cell_type": "code",
   "execution_count": 0,
   "metadata": {
    "colab": {},
    "colab_type": "code",
    "id": "cUZi71sIln1d"
   },
   "outputs": [],
   "source": [
    "# variables constantes para definir nombres de campo incluyen:\n",
    "user_id = 'customerId'\n",
    "item_id = 'productId'\n",
    "users_to_recommend = list(data.customerId.unique())\n",
    "n_rec = 10 # número de artículos para recomendar\n",
    "n_display = 30 # para mostrar las primeras filas en un conjunto de datos de salida"
   ]
  },
  {
   "cell_type": "code",
   "execution_count": 0,
   "metadata": {
    "colab": {},
    "colab_type": "code",
    "id": "hsy7M7dmln1o"
   },
   "outputs": [],
   "source": [
    "def model(train_data, name, user_id, item_id, target, users_to_recommend, n_rec, n_display):\n",
    "    if name == 'popularity':\n",
    "        model = tc.popularity_recommender.create(train_data, \n",
    "                                                    user_id=user_id, \n",
    "                                                    item_id=item_id, \n",
    "                                                    target=target)\n",
    "    elif name == 'cosine':\n",
    "        model = tc.item_similarity_recommender.create(train_data, \n",
    "                                                    user_id=user_id, \n",
    "                                                    item_id=item_id, \n",
    "                                                    target=target, \n",
    "                                                    similarity_type='cosine')\n",
    "    elif name == 'pearson':\n",
    "        model = tc.item_similarity_recommender.create(train_data, \n",
    "                                                    user_id=user_id, \n",
    "                                                    item_id=item_id, \n",
    "                                                    target=target, \n",
    "                                                    similarity_type='pearson')\n",
    "    recom = model.recommend(users=users_to_recommend, k=n_rec)\n",
    "    recom.print_rows(n_display)\n",
    "    return model"
   ]
  },
  {
   "cell_type": "markdown",
   "metadata": {
    "colab_type": "text",
    "id": "jNomxf34ln1-"
   },
   "source": [
    "## 6. Modelo de popularidad como línea de base\n",
    "\n",
    "El modelo de popularidad toma los artículos más populares como recomendación. Estos artículos son productos con el mayor número de ventas entre clientes."
   ]
  },
  {
   "cell_type": "code",
   "execution_count": 18,
   "metadata": {
    "colab": {
     "base_uri": "https://localhost:8080/",
     "height": 1000
    },
    "colab_type": "code",
    "id": "egtec227ln2G",
    "outputId": "0e4473ce-516d-442e-f11e-2ad4f4e2d0e0"
   },
   "outputs": [
    {
     "data": {
      "text/html": [
       "<pre>Preparing data set.</pre>"
      ],
      "text/plain": [
       "Preparing data set."
      ]
     },
     "metadata": {
      "tags": []
     },
     "output_type": "display_data"
    },
    {
     "data": {
      "text/html": [
       "<pre>    Data has 197486 observations with 39015 users and 27 items.</pre>"
      ],
      "text/plain": [
       "    Data has 197486 observations with 39015 users and 27 items."
      ]
     },
     "metadata": {
      "tags": []
     },
     "output_type": "display_data"
    },
    {
     "data": {
      "text/html": [
       "<pre>    Data prepared in: 0.287665s</pre>"
      ],
      "text/plain": [
       "    Data prepared in: 0.287665s"
      ]
     },
     "metadata": {
      "tags": []
     },
     "output_type": "display_data"
    },
    {
     "data": {
      "text/html": [
       "<pre>197486 observations to process; with 27 unique items.</pre>"
      ],
      "text/plain": [
       "197486 observations to process; with 27 unique items."
      ]
     },
     "metadata": {
      "tags": []
     },
     "output_type": "display_data"
    },
    {
     "data": {
      "text/html": [
       "<pre>recommendations finished on 1000/39037 queries. users per second: 157257</pre>"
      ],
      "text/plain": [
       "recommendations finished on 1000/39037 queries. users per second: 157257"
      ]
     },
     "metadata": {
      "tags": []
     },
     "output_type": "display_data"
    },
    {
     "data": {
      "text/html": [
       "<pre>recommendations finished on 2000/39037 queries. users per second: 157456</pre>"
      ],
      "text/plain": [
       "recommendations finished on 2000/39037 queries. users per second: 157456"
      ]
     },
     "metadata": {
      "tags": []
     },
     "output_type": "display_data"
    },
    {
     "data": {
      "text/html": [
       "<pre>recommendations finished on 3000/39037 queries. users per second: 175521</pre>"
      ],
      "text/plain": [
       "recommendations finished on 3000/39037 queries. users per second: 175521"
      ]
     },
     "metadata": {
      "tags": []
     },
     "output_type": "display_data"
    },
    {
     "data": {
      "text/html": [
       "<pre>recommendations finished on 4000/39037 queries. users per second: 171123</pre>"
      ],
      "text/plain": [
       "recommendations finished on 4000/39037 queries. users per second: 171123"
      ]
     },
     "metadata": {
      "tags": []
     },
     "output_type": "display_data"
    },
    {
     "data": {
      "text/html": [
       "<pre>recommendations finished on 5000/39037 queries. users per second: 180005</pre>"
      ],
      "text/plain": [
       "recommendations finished on 5000/39037 queries. users per second: 180005"
      ]
     },
     "metadata": {
      "tags": []
     },
     "output_type": "display_data"
    },
    {
     "data": {
      "text/html": [
       "<pre>recommendations finished on 6000/39037 queries. users per second: 178354</pre>"
      ],
      "text/plain": [
       "recommendations finished on 6000/39037 queries. users per second: 178354"
      ]
     },
     "metadata": {
      "tags": []
     },
     "output_type": "display_data"
    },
    {
     "data": {
      "text/html": [
       "<pre>recommendations finished on 7000/39037 queries. users per second: 179847</pre>"
      ],
      "text/plain": [
       "recommendations finished on 7000/39037 queries. users per second: 179847"
      ]
     },
     "metadata": {
      "tags": []
     },
     "output_type": "display_data"
    },
    {
     "data": {
      "text/html": [
       "<pre>recommendations finished on 8000/39037 queries. users per second: 178082</pre>"
      ],
      "text/plain": [
       "recommendations finished on 8000/39037 queries. users per second: 178082"
      ]
     },
     "metadata": {
      "tags": []
     },
     "output_type": "display_data"
    },
    {
     "data": {
      "text/html": [
       "<pre>recommendations finished on 9000/39037 queries. users per second: 183161</pre>"
      ],
      "text/plain": [
       "recommendations finished on 9000/39037 queries. users per second: 183161"
      ]
     },
     "metadata": {
      "tags": []
     },
     "output_type": "display_data"
    },
    {
     "data": {
      "text/html": [
       "<pre>recommendations finished on 10000/39037 queries. users per second: 183227</pre>"
      ],
      "text/plain": [
       "recommendations finished on 10000/39037 queries. users per second: 183227"
      ]
     },
     "metadata": {
      "tags": []
     },
     "output_type": "display_data"
    },
    {
     "data": {
      "text/html": [
       "<pre>recommendations finished on 11000/39037 queries. users per second: 185955</pre>"
      ],
      "text/plain": [
       "recommendations finished on 11000/39037 queries. users per second: 185955"
      ]
     },
     "metadata": {
      "tags": []
     },
     "output_type": "display_data"
    },
    {
     "data": {
      "text/html": [
       "<pre>recommendations finished on 12000/39037 queries. users per second: 183871</pre>"
      ],
      "text/plain": [
       "recommendations finished on 12000/39037 queries. users per second: 183871"
      ]
     },
     "metadata": {
      "tags": []
     },
     "output_type": "display_data"
    },
    {
     "data": {
      "text/html": [
       "<pre>recommendations finished on 13000/39037 queries. users per second: 183538</pre>"
      ],
      "text/plain": [
       "recommendations finished on 13000/39037 queries. users per second: 183538"
      ]
     },
     "metadata": {
      "tags": []
     },
     "output_type": "display_data"
    },
    {
     "data": {
      "text/html": [
       "<pre>recommendations finished on 14000/39037 queries. users per second: 179166</pre>"
      ],
      "text/plain": [
       "recommendations finished on 14000/39037 queries. users per second: 179166"
      ]
     },
     "metadata": {
      "tags": []
     },
     "output_type": "display_data"
    },
    {
     "data": {
      "text/html": [
       "<pre>recommendations finished on 15000/39037 queries. users per second: 177641</pre>"
      ],
      "text/plain": [
       "recommendations finished on 15000/39037 queries. users per second: 177641"
      ]
     },
     "metadata": {
      "tags": []
     },
     "output_type": "display_data"
    },
    {
     "data": {
      "text/html": [
       "<pre>recommendations finished on 16000/39037 queries. users per second: 177450</pre>"
      ],
      "text/plain": [
       "recommendations finished on 16000/39037 queries. users per second: 177450"
      ]
     },
     "metadata": {
      "tags": []
     },
     "output_type": "display_data"
    },
    {
     "data": {
      "text/html": [
       "<pre>recommendations finished on 17000/39037 queries. users per second: 174293</pre>"
      ],
      "text/plain": [
       "recommendations finished on 17000/39037 queries. users per second: 174293"
      ]
     },
     "metadata": {
      "tags": []
     },
     "output_type": "display_data"
    },
    {
     "data": {
      "text/html": [
       "<pre>recommendations finished on 18000/39037 queries. users per second: 177560</pre>"
      ],
      "text/plain": [
       "recommendations finished on 18000/39037 queries. users per second: 177560"
      ]
     },
     "metadata": {
      "tags": []
     },
     "output_type": "display_data"
    },
    {
     "data": {
      "text/html": [
       "<pre>recommendations finished on 19000/39037 queries. users per second: 180047</pre>"
      ],
      "text/plain": [
       "recommendations finished on 19000/39037 queries. users per second: 180047"
      ]
     },
     "metadata": {
      "tags": []
     },
     "output_type": "display_data"
    },
    {
     "data": {
      "text/html": [
       "<pre>recommendations finished on 20000/39037 queries. users per second: 177783</pre>"
      ],
      "text/plain": [
       "recommendations finished on 20000/39037 queries. users per second: 177783"
      ]
     },
     "metadata": {
      "tags": []
     },
     "output_type": "display_data"
    },
    {
     "data": {
      "text/html": [
       "<pre>recommendations finished on 21000/39037 queries. users per second: 177833</pre>"
      ],
      "text/plain": [
       "recommendations finished on 21000/39037 queries. users per second: 177833"
      ]
     },
     "metadata": {
      "tags": []
     },
     "output_type": "display_data"
    },
    {
     "data": {
      "text/html": [
       "<pre>recommendations finished on 22000/39037 queries. users per second: 178901</pre>"
      ],
      "text/plain": [
       "recommendations finished on 22000/39037 queries. users per second: 178901"
      ]
     },
     "metadata": {
      "tags": []
     },
     "output_type": "display_data"
    },
    {
     "data": {
      "text/html": [
       "<pre>recommendations finished on 23000/39037 queries. users per second: 178284</pre>"
      ],
      "text/plain": [
       "recommendations finished on 23000/39037 queries. users per second: 178284"
      ]
     },
     "metadata": {
      "tags": []
     },
     "output_type": "display_data"
    },
    {
     "data": {
      "text/html": [
       "<pre>recommendations finished on 24000/39037 queries. users per second: 175395</pre>"
      ],
      "text/plain": [
       "recommendations finished on 24000/39037 queries. users per second: 175395"
      ]
     },
     "metadata": {
      "tags": []
     },
     "output_type": "display_data"
    },
    {
     "data": {
      "text/html": [
       "<pre>recommendations finished on 25000/39037 queries. users per second: 176061</pre>"
      ],
      "text/plain": [
       "recommendations finished on 25000/39037 queries. users per second: 176061"
      ]
     },
     "metadata": {
      "tags": []
     },
     "output_type": "display_data"
    },
    {
     "data": {
      "text/html": [
       "<pre>recommendations finished on 26000/39037 queries. users per second: 171645</pre>"
      ],
      "text/plain": [
       "recommendations finished on 26000/39037 queries. users per second: 171645"
      ]
     },
     "metadata": {
      "tags": []
     },
     "output_type": "display_data"
    },
    {
     "data": {
      "text/html": [
       "<pre>recommendations finished on 27000/39037 queries. users per second: 174938</pre>"
      ],
      "text/plain": [
       "recommendations finished on 27000/39037 queries. users per second: 174938"
      ]
     },
     "metadata": {
      "tags": []
     },
     "output_type": "display_data"
    },
    {
     "data": {
      "text/html": [
       "<pre>recommendations finished on 28000/39037 queries. users per second: 177969</pre>"
      ],
      "text/plain": [
       "recommendations finished on 28000/39037 queries. users per second: 177969"
      ]
     },
     "metadata": {
      "tags": []
     },
     "output_type": "display_data"
    },
    {
     "data": {
      "text/html": [
       "<pre>recommendations finished on 29000/39037 queries. users per second: 177651</pre>"
      ],
      "text/plain": [
       "recommendations finished on 29000/39037 queries. users per second: 177651"
      ]
     },
     "metadata": {
      "tags": []
     },
     "output_type": "display_data"
    },
    {
     "data": {
      "text/html": [
       "<pre>recommendations finished on 30000/39037 queries. users per second: 179878</pre>"
      ],
      "text/plain": [
       "recommendations finished on 30000/39037 queries. users per second: 179878"
      ]
     },
     "metadata": {
      "tags": []
     },
     "output_type": "display_data"
    },
    {
     "data": {
      "text/html": [
       "<pre>recommendations finished on 31000/39037 queries. users per second: 178873</pre>"
      ],
      "text/plain": [
       "recommendations finished on 31000/39037 queries. users per second: 178873"
      ]
     },
     "metadata": {
      "tags": []
     },
     "output_type": "display_data"
    },
    {
     "data": {
      "text/html": [
       "<pre>recommendations finished on 32000/39037 queries. users per second: 181319</pre>"
      ],
      "text/plain": [
       "recommendations finished on 32000/39037 queries. users per second: 181319"
      ]
     },
     "metadata": {
      "tags": []
     },
     "output_type": "display_data"
    },
    {
     "data": {
      "text/html": [
       "<pre>recommendations finished on 33000/39037 queries. users per second: 183315</pre>"
      ],
      "text/plain": [
       "recommendations finished on 33000/39037 queries. users per second: 183315"
      ]
     },
     "metadata": {
      "tags": []
     },
     "output_type": "display_data"
    },
    {
     "data": {
      "text/html": [
       "<pre>recommendations finished on 34000/39037 queries. users per second: 185686</pre>"
      ],
      "text/plain": [
       "recommendations finished on 34000/39037 queries. users per second: 185686"
      ]
     },
     "metadata": {
      "tags": []
     },
     "output_type": "display_data"
    },
    {
     "data": {
      "text/html": [
       "<pre>recommendations finished on 35000/39037 queries. users per second: 187062</pre>"
      ],
      "text/plain": [
       "recommendations finished on 35000/39037 queries. users per second: 187062"
      ]
     },
     "metadata": {
      "tags": []
     },
     "output_type": "display_data"
    },
    {
     "data": {
      "text/html": [
       "<pre>recommendations finished on 36000/39037 queries. users per second: 188896</pre>"
      ],
      "text/plain": [
       "recommendations finished on 36000/39037 queries. users per second: 188896"
      ]
     },
     "metadata": {
      "tags": []
     },
     "output_type": "display_data"
    },
    {
     "data": {
      "text/html": [
       "<pre>recommendations finished on 37000/39037 queries. users per second: 174777</pre>"
      ],
      "text/plain": [
       "recommendations finished on 37000/39037 queries. users per second: 174777"
      ]
     },
     "metadata": {
      "tags": []
     },
     "output_type": "display_data"
    },
    {
     "data": {
      "text/html": [
       "<pre>recommendations finished on 38000/39037 queries. users per second: 175663</pre>"
      ],
      "text/plain": [
       "recommendations finished on 38000/39037 queries. users per second: 175663"
      ]
     },
     "metadata": {
      "tags": []
     },
     "output_type": "display_data"
    },
    {
     "data": {
      "text/html": [
       "<pre>recommendations finished on 39000/39037 queries. users per second: 178138</pre>"
      ],
      "text/plain": [
       "recommendations finished on 39000/39037 queries. users per second: 178138"
      ]
     },
     "metadata": {
      "tags": []
     },
     "output_type": "display_data"
    },
    {
     "name": "stdout",
     "output_type": "stream",
     "text": [
      "+------------+---------------------+--------------------+------+\n",
      "| customerId |      productId      |       score        | rank |\n",
      "+------------+---------------------+--------------------+------+\n",
      "|     0      |   Cajas y Cajones   | 1.9313186813186813 |  1   |\n",
      "|     0      |       Muebles       | 1.6529051987767585 |  2   |\n",
      "|     0      |      Almohadas      | 1.5980458986593955 |  3   |\n",
      "|     0      |     Almohadones     | 1.484428319982758  |  4   |\n",
      "|     0      |        Sillas       | 1.3129032258064517 |  5   |\n",
      "|     0      |      Mantelería     | 1.312883435582822  |  6   |\n",
      "|     0      |       Placard       | 1.2700822264389626 |  7   |\n",
      "|     0      |       Cortinas      | 1.201544774318127  |  8   |\n",
      "|     0      | Jabones y Jaboneras | 1.1692307692307693 |  9   |\n",
      "|     0      |        Jardín       | 1.1608391608391608 |  10  |\n",
      "|     2      |   Cajas y Cajones   | 1.9313186813186813 |  1   |\n",
      "|     2      |       Muebles       | 1.6529051987767585 |  2   |\n",
      "|     2      |      Almohadas      | 1.5980458986593955 |  3   |\n",
      "|     2      |     Almohadones     | 1.484428319982758  |  4   |\n",
      "|     2      |        Sillas       | 1.3129032258064517 |  5   |\n",
      "|     2      |      Mantelería     | 1.312883435582822  |  6   |\n",
      "|     2      |       Placard       | 1.2700822264389626 |  7   |\n",
      "|     2      |       Cortinas      | 1.201544774318127  |  8   |\n",
      "|     2      | Jabones y Jaboneras | 1.1692307692307693 |  9   |\n",
      "|     2      |        Jardín       | 1.1608391608391608 |  10  |\n",
      "|     5      |   Cajas y Cajones   | 1.9313186813186813 |  1   |\n",
      "|     5      |       Muebles       | 1.6529051987767585 |  2   |\n",
      "|     5      |      Almohadas      | 1.5980458986593955 |  3   |\n",
      "|     5      |     Almohadones     | 1.484428319982758  |  4   |\n",
      "|     5      |        Sillas       | 1.3129032258064517 |  5   |\n",
      "|     5      |      Mantelería     | 1.312883435582822  |  6   |\n",
      "|     5      |       Placard       | 1.2700822264389626 |  7   |\n",
      "|     5      | Toallas y Toallones | 1.2178086445893679 |  8   |\n",
      "|     5      |       Cortinas      | 1.201544774318127  |  9   |\n",
      "|     5      | Jabones y Jaboneras | 1.1692307692307693 |  10  |\n",
      "+------------+---------------------+--------------------+------+\n",
      "[390370 rows x 4 columns]\n",
      "\n"
     ]
    },
    {
     "data": {
      "text/plain": [
       "Class                            : PopularityRecommender\n",
       "\n",
       "Schema\n",
       "------\n",
       "User ID                          : customerId\n",
       "Item ID                          : productId\n",
       "Target                           : purchase_count\n",
       "Additional observation features  : 0\n",
       "User side features               : []\n",
       "Item side features               : []\n",
       "\n",
       "Statistics\n",
       "----------\n",
       "Number of observations           : 197486\n",
       "Number of users                  : 39015\n",
       "Number of items                  : 27\n",
       "\n",
       "Training summary\n",
       "----------------\n",
       "Training time                    : 0.0199\n",
       "\n",
       "Model Parameters\n",
       "----------------\n",
       "Model class                      : PopularityRecommender"
      ]
     },
     "execution_count": 18,
     "metadata": {
      "tags": []
     },
     "output_type": "execute_result"
    }
   ],
   "source": [
    "# i. Usando el conteo de compras\n",
    "name = 'popularity'\n",
    "target = 'purchase_count'\n",
    "popularity = model(train_data, name, user_id, item_id, target, users_to_recommend, n_rec, n_display)\n",
    "popularity"
   ]
  },
  {
   "cell_type": "code",
   "execution_count": 19,
   "metadata": {
    "colab": {
     "base_uri": "https://localhost:8080/",
     "height": 1000
    },
    "colab_type": "code",
    "id": "Z8g0SO-Cln2T",
    "outputId": "d427be35-8c0b-4005-ed9e-2400dbb0711e"
   },
   "outputs": [
    {
     "data": {
      "text/html": [
       "<pre>Warning: Ignoring columns purchase_count;</pre>"
      ],
      "text/plain": [
       "Warning: Ignoring columns purchase_count;"
      ]
     },
     "metadata": {
      "tags": []
     },
     "output_type": "display_data"
    },
    {
     "data": {
      "text/html": [
       "<pre>    To use these columns in scoring predictions, use a model that allows the use of additional features.</pre>"
      ],
      "text/plain": [
       "    To use these columns in scoring predictions, use a model that allows the use of additional features."
      ]
     },
     "metadata": {
      "tags": []
     },
     "output_type": "display_data"
    },
    {
     "data": {
      "text/html": [
       "<pre>Preparing data set.</pre>"
      ],
      "text/plain": [
       "Preparing data set."
      ]
     },
     "metadata": {
      "tags": []
     },
     "output_type": "display_data"
    },
    {
     "data": {
      "text/html": [
       "<pre>    Data has 197486 observations with 39017 users and 27 items.</pre>"
      ],
      "text/plain": [
       "    Data has 197486 observations with 39017 users and 27 items."
      ]
     },
     "metadata": {
      "tags": []
     },
     "output_type": "display_data"
    },
    {
     "data": {
      "text/html": [
       "<pre>    Data prepared in: 0.230341s</pre>"
      ],
      "text/plain": [
       "    Data prepared in: 0.230341s"
      ]
     },
     "metadata": {
      "tags": []
     },
     "output_type": "display_data"
    },
    {
     "data": {
      "text/html": [
       "<pre>197486 observations to process; with 27 unique items.</pre>"
      ],
      "text/plain": [
       "197486 observations to process; with 27 unique items."
      ]
     },
     "metadata": {
      "tags": []
     },
     "output_type": "display_data"
    },
    {
     "data": {
      "text/html": [
       "<pre>recommendations finished on 1000/39037 queries. users per second: 108660</pre>"
      ],
      "text/plain": [
       "recommendations finished on 1000/39037 queries. users per second: 108660"
      ]
     },
     "metadata": {
      "tags": []
     },
     "output_type": "display_data"
    },
    {
     "data": {
      "text/html": [
       "<pre>recommendations finished on 2000/39037 queries. users per second: 127121</pre>"
      ],
      "text/plain": [
       "recommendations finished on 2000/39037 queries. users per second: 127121"
      ]
     },
     "metadata": {
      "tags": []
     },
     "output_type": "display_data"
    },
    {
     "data": {
      "text/html": [
       "<pre>recommendations finished on 3000/39037 queries. users per second: 144030</pre>"
      ],
      "text/plain": [
       "recommendations finished on 3000/39037 queries. users per second: 144030"
      ]
     },
     "metadata": {
      "tags": []
     },
     "output_type": "display_data"
    },
    {
     "data": {
      "text/html": [
       "<pre>recommendations finished on 4000/39037 queries. users per second: 151435</pre>"
      ],
      "text/plain": [
       "recommendations finished on 4000/39037 queries. users per second: 151435"
      ]
     },
     "metadata": {
      "tags": []
     },
     "output_type": "display_data"
    },
    {
     "data": {
      "text/html": [
       "<pre>recommendations finished on 5000/39037 queries. users per second: 154976</pre>"
      ],
      "text/plain": [
       "recommendations finished on 5000/39037 queries. users per second: 154976"
      ]
     },
     "metadata": {
      "tags": []
     },
     "output_type": "display_data"
    },
    {
     "data": {
      "text/html": [
       "<pre>recommendations finished on 6000/39037 queries. users per second: 158199</pre>"
      ],
      "text/plain": [
       "recommendations finished on 6000/39037 queries. users per second: 158199"
      ]
     },
     "metadata": {
      "tags": []
     },
     "output_type": "display_data"
    },
    {
     "data": {
      "text/html": [
       "<pre>recommendations finished on 7000/39037 queries. users per second: 163403</pre>"
      ],
      "text/plain": [
       "recommendations finished on 7000/39037 queries. users per second: 163403"
      ]
     },
     "metadata": {
      "tags": []
     },
     "output_type": "display_data"
    },
    {
     "data": {
      "text/html": [
       "<pre>recommendations finished on 8000/39037 queries. users per second: 165313</pre>"
      ],
      "text/plain": [
       "recommendations finished on 8000/39037 queries. users per second: 165313"
      ]
     },
     "metadata": {
      "tags": []
     },
     "output_type": "display_data"
    },
    {
     "data": {
      "text/html": [
       "<pre>recommendations finished on 9000/39037 queries. users per second: 168852</pre>"
      ],
      "text/plain": [
       "recommendations finished on 9000/39037 queries. users per second: 168852"
      ]
     },
     "metadata": {
      "tags": []
     },
     "output_type": "display_data"
    },
    {
     "data": {
      "text/html": [
       "<pre>recommendations finished on 10000/39037 queries. users per second: 172061</pre>"
      ],
      "text/plain": [
       "recommendations finished on 10000/39037 queries. users per second: 172061"
      ]
     },
     "metadata": {
      "tags": []
     },
     "output_type": "display_data"
    },
    {
     "data": {
      "text/html": [
       "<pre>recommendations finished on 11000/39037 queries. users per second: 173622</pre>"
      ],
      "text/plain": [
       "recommendations finished on 11000/39037 queries. users per second: 173622"
      ]
     },
     "metadata": {
      "tags": []
     },
     "output_type": "display_data"
    },
    {
     "data": {
      "text/html": [
       "<pre>recommendations finished on 12000/39037 queries. users per second: 173003</pre>"
      ],
      "text/plain": [
       "recommendations finished on 12000/39037 queries. users per second: 173003"
      ]
     },
     "metadata": {
      "tags": []
     },
     "output_type": "display_data"
    },
    {
     "data": {
      "text/html": [
       "<pre>recommendations finished on 13000/39037 queries. users per second: 173336</pre>"
      ],
      "text/plain": [
       "recommendations finished on 13000/39037 queries. users per second: 173336"
      ]
     },
     "metadata": {
      "tags": []
     },
     "output_type": "display_data"
    },
    {
     "data": {
      "text/html": [
       "<pre>recommendations finished on 14000/39037 queries. users per second: 174969</pre>"
      ],
      "text/plain": [
       "recommendations finished on 14000/39037 queries. users per second: 174969"
      ]
     },
     "metadata": {
      "tags": []
     },
     "output_type": "display_data"
    },
    {
     "data": {
      "text/html": [
       "<pre>recommendations finished on 15000/39037 queries. users per second: 179055</pre>"
      ],
      "text/plain": [
       "recommendations finished on 15000/39037 queries. users per second: 179055"
      ]
     },
     "metadata": {
      "tags": []
     },
     "output_type": "display_data"
    },
    {
     "data": {
      "text/html": [
       "<pre>recommendations finished on 16000/39037 queries. users per second: 178037</pre>"
      ],
      "text/plain": [
       "recommendations finished on 16000/39037 queries. users per second: 178037"
      ]
     },
     "metadata": {
      "tags": []
     },
     "output_type": "display_data"
    },
    {
     "data": {
      "text/html": [
       "<pre>recommendations finished on 17000/39037 queries. users per second: 180389</pre>"
      ],
      "text/plain": [
       "recommendations finished on 17000/39037 queries. users per second: 180389"
      ]
     },
     "metadata": {
      "tags": []
     },
     "output_type": "display_data"
    },
    {
     "data": {
      "text/html": [
       "<pre>recommendations finished on 18000/39037 queries. users per second: 179996</pre>"
      ],
      "text/plain": [
       "recommendations finished on 18000/39037 queries. users per second: 179996"
      ]
     },
     "metadata": {
      "tags": []
     },
     "output_type": "display_data"
    },
    {
     "data": {
      "text/html": [
       "<pre>recommendations finished on 19000/39037 queries. users per second: 181051</pre>"
      ],
      "text/plain": [
       "recommendations finished on 19000/39037 queries. users per second: 181051"
      ]
     },
     "metadata": {
      "tags": []
     },
     "output_type": "display_data"
    },
    {
     "data": {
      "text/html": [
       "<pre>recommendations finished on 20000/39037 queries. users per second: 182448</pre>"
      ],
      "text/plain": [
       "recommendations finished on 20000/39037 queries. users per second: 182448"
      ]
     },
     "metadata": {
      "tags": []
     },
     "output_type": "display_data"
    },
    {
     "data": {
      "text/html": [
       "<pre>recommendations finished on 21000/39037 queries. users per second: 182493</pre>"
      ],
      "text/plain": [
       "recommendations finished on 21000/39037 queries. users per second: 182493"
      ]
     },
     "metadata": {
      "tags": []
     },
     "output_type": "display_data"
    },
    {
     "data": {
      "text/html": [
       "<pre>recommendations finished on 22000/39037 queries. users per second: 185872</pre>"
      ],
      "text/plain": [
       "recommendations finished on 22000/39037 queries. users per second: 185872"
      ]
     },
     "metadata": {
      "tags": []
     },
     "output_type": "display_data"
    },
    {
     "data": {
      "text/html": [
       "<pre>recommendations finished on 23000/39037 queries. users per second: 185863</pre>"
      ],
      "text/plain": [
       "recommendations finished on 23000/39037 queries. users per second: 185863"
      ]
     },
     "metadata": {
      "tags": []
     },
     "output_type": "display_data"
    },
    {
     "data": {
      "text/html": [
       "<pre>recommendations finished on 24000/39037 queries. users per second: 187642</pre>"
      ],
      "text/plain": [
       "recommendations finished on 24000/39037 queries. users per second: 187642"
      ]
     },
     "metadata": {
      "tags": []
     },
     "output_type": "display_data"
    },
    {
     "data": {
      "text/html": [
       "<pre>recommendations finished on 25000/39037 queries. users per second: 188338</pre>"
      ],
      "text/plain": [
       "recommendations finished on 25000/39037 queries. users per second: 188338"
      ]
     },
     "metadata": {
      "tags": []
     },
     "output_type": "display_data"
    },
    {
     "data": {
      "text/html": [
       "<pre>recommendations finished on 26000/39037 queries. users per second: 188579</pre>"
      ],
      "text/plain": [
       "recommendations finished on 26000/39037 queries. users per second: 188579"
      ]
     },
     "metadata": {
      "tags": []
     },
     "output_type": "display_data"
    },
    {
     "data": {
      "text/html": [
       "<pre>recommendations finished on 27000/39037 queries. users per second: 179186</pre>"
      ],
      "text/plain": [
       "recommendations finished on 27000/39037 queries. users per second: 179186"
      ]
     },
     "metadata": {
      "tags": []
     },
     "output_type": "display_data"
    },
    {
     "data": {
      "text/html": [
       "<pre>recommendations finished on 28000/39037 queries. users per second: 165703</pre>"
      ],
      "text/plain": [
       "recommendations finished on 28000/39037 queries. users per second: 165703"
      ]
     },
     "metadata": {
      "tags": []
     },
     "output_type": "display_data"
    },
    {
     "data": {
      "text/html": [
       "<pre>recommendations finished on 29000/39037 queries. users per second: 164603</pre>"
      ],
      "text/plain": [
       "recommendations finished on 29000/39037 queries. users per second: 164603"
      ]
     },
     "metadata": {
      "tags": []
     },
     "output_type": "display_data"
    },
    {
     "data": {
      "text/html": [
       "<pre>recommendations finished on 30000/39037 queries. users per second: 164260</pre>"
      ],
      "text/plain": [
       "recommendations finished on 30000/39037 queries. users per second: 164260"
      ]
     },
     "metadata": {
      "tags": []
     },
     "output_type": "display_data"
    },
    {
     "data": {
      "text/html": [
       "<pre>recommendations finished on 31000/39037 queries. users per second: 165210</pre>"
      ],
      "text/plain": [
       "recommendations finished on 31000/39037 queries. users per second: 165210"
      ]
     },
     "metadata": {
      "tags": []
     },
     "output_type": "display_data"
    },
    {
     "data": {
      "text/html": [
       "<pre>recommendations finished on 32000/39037 queries. users per second: 166148</pre>"
      ],
      "text/plain": [
       "recommendations finished on 32000/39037 queries. users per second: 166148"
      ]
     },
     "metadata": {
      "tags": []
     },
     "output_type": "display_data"
    },
    {
     "data": {
      "text/html": [
       "<pre>recommendations finished on 33000/39037 queries. users per second: 167753</pre>"
      ],
      "text/plain": [
       "recommendations finished on 33000/39037 queries. users per second: 167753"
      ]
     },
     "metadata": {
      "tags": []
     },
     "output_type": "display_data"
    },
    {
     "data": {
      "text/html": [
       "<pre>recommendations finished on 34000/39037 queries. users per second: 169218</pre>"
      ],
      "text/plain": [
       "recommendations finished on 34000/39037 queries. users per second: 169218"
      ]
     },
     "metadata": {
      "tags": []
     },
     "output_type": "display_data"
    },
    {
     "data": {
      "text/html": [
       "<pre>recommendations finished on 35000/39037 queries. users per second: 171925</pre>"
      ],
      "text/plain": [
       "recommendations finished on 35000/39037 queries. users per second: 171925"
      ]
     },
     "metadata": {
      "tags": []
     },
     "output_type": "display_data"
    },
    {
     "data": {
      "text/html": [
       "<pre>recommendations finished on 36000/39037 queries. users per second: 174603</pre>"
      ],
      "text/plain": [
       "recommendations finished on 36000/39037 queries. users per second: 174603"
      ]
     },
     "metadata": {
      "tags": []
     },
     "output_type": "display_data"
    },
    {
     "data": {
      "text/html": [
       "<pre>recommendations finished on 37000/39037 queries. users per second: 172809</pre>"
      ],
      "text/plain": [
       "recommendations finished on 37000/39037 queries. users per second: 172809"
      ]
     },
     "metadata": {
      "tags": []
     },
     "output_type": "display_data"
    },
    {
     "data": {
      "text/html": [
       "<pre>recommendations finished on 38000/39037 queries. users per second: 170365</pre>"
      ],
      "text/plain": [
       "recommendations finished on 38000/39037 queries. users per second: 170365"
      ]
     },
     "metadata": {
      "tags": []
     },
     "output_type": "display_data"
    },
    {
     "data": {
      "text/html": [
       "<pre>recommendations finished on 39000/39037 queries. users per second: 169816</pre>"
      ],
      "text/plain": [
       "recommendations finished on 39000/39037 queries. users per second: 169816"
      ]
     },
     "metadata": {
      "tags": []
     },
     "output_type": "display_data"
    },
    {
     "name": "stdout",
     "output_type": "stream",
     "text": [
      "+------------+-----------------------+-------+------+\n",
      "| customerId |       productId       | score | rank |\n",
      "+------------+-----------------------+-------+------+\n",
      "|     0      |         Sillas        |  1.0  |  1   |\n",
      "|     0      |  Jabones y Jaboneras  |  1.0  |  2   |\n",
      "|     0      |       Accesorios      |  1.0  |  3   |\n",
      "|     0      |          Cama         |  1.0  |  4   |\n",
      "|     0      |        Cortinas       |  1.0  |  5   |\n",
      "|     0      |       Alfombras       |  1.0  |  6   |\n",
      "|     0      |       Mantelería      |  1.0  |  7   |\n",
      "|     0      | Acolchados y Frazadas |  1.0  |  8   |\n",
      "|     0      |       Almohadas       |  1.0  |  9   |\n",
      "|     0      |      Almohadones      |  1.0  |  10  |\n",
      "|     2      |  Jabones y Jaboneras  |  1.0  |  1   |\n",
      "|     2      |       Accesorios      |  1.0  |  2   |\n",
      "|     2      |          Cama         |  1.0  |  3   |\n",
      "|     2      |        Cortinas       |  1.0  |  4   |\n",
      "|     2      |       Alfombras       |  1.0  |  5   |\n",
      "|     2      |       Mantelería      |  1.0  |  6   |\n",
      "|     2      | Acolchados y Frazadas |  1.0  |  7   |\n",
      "|     2      |        Sábanas        |  1.0  |  8   |\n",
      "|     2      |       Almohadas       |  1.0  |  9   |\n",
      "|     2      |      Almohadones      |  1.0  |  10  |\n",
      "|     5      |  Jabones y Jaboneras  |  1.0  |  1   |\n",
      "|     5      |       Accesorios      |  1.0  |  2   |\n",
      "|     5      |          Cama         |  1.0  |  3   |\n",
      "|     5      |        Cortinas       |  1.0  |  4   |\n",
      "|     5      |       Alfombras       |  1.0  |  5   |\n",
      "|     5      |       Mantelería      |  1.0  |  6   |\n",
      "|     5      |  Toallas y Toallones  |  1.0  |  7   |\n",
      "|     5      | Acolchados y Frazadas |  1.0  |  8   |\n",
      "|     5      |       Almohadas       |  1.0  |  9   |\n",
      "|     5      |      Almohadones      |  1.0  |  10  |\n",
      "+------------+-----------------------+-------+------+\n",
      "[390370 rows x 4 columns]\n",
      "\n"
     ]
    },
    {
     "data": {
      "text/plain": [
       "Class                            : PopularityRecommender\n",
       "\n",
       "Schema\n",
       "------\n",
       "User ID                          : customerId\n",
       "Item ID                          : productId\n",
       "Target                           : purchase_dummy\n",
       "Additional observation features  : 0\n",
       "User side features               : []\n",
       "Item side features               : []\n",
       "\n",
       "Statistics\n",
       "----------\n",
       "Number of observations           : 197486\n",
       "Number of users                  : 39017\n",
       "Number of items                  : 27\n",
       "\n",
       "Training summary\n",
       "----------------\n",
       "Training time                    : 0.0168\n",
       "\n",
       "Model Parameters\n",
       "----------------\n",
       "Model class                      : PopularityRecommender"
      ]
     },
     "execution_count": 19,
     "metadata": {
      "tags": []
     },
     "output_type": "execute_result"
    }
   ],
   "source": [
    "# ii. Usando el dummy de compras\n",
    "name = 'popularity'\n",
    "target = 'purchase_dummy'\n",
    "pop_dummy = model(train_data_dummy, name, user_id, item_id, target, users_to_recommend, n_rec, n_display)\n",
    "pop_dummy"
   ]
  },
  {
   "cell_type": "code",
   "execution_count": 20,
   "metadata": {
    "colab": {
     "base_uri": "https://localhost:8080/",
     "height": 1000
    },
    "colab_type": "code",
    "id": "YDGrO5z3ln3F",
    "outputId": "99380104-5982-49de-94ab-3ae3959c1e63"
   },
   "outputs": [
    {
     "data": {
      "text/html": [
       "<pre>Preparing data set.</pre>"
      ],
      "text/plain": [
       "Preparing data set."
      ]
     },
     "metadata": {
      "tags": []
     },
     "output_type": "display_data"
    },
    {
     "data": {
      "text/html": [
       "<pre>    Data has 95045 observations with 37673 users and 27 items.</pre>"
      ],
      "text/plain": [
       "    Data has 95045 observations with 37673 users and 27 items."
      ]
     },
     "metadata": {
      "tags": []
     },
     "output_type": "display_data"
    },
    {
     "data": {
      "text/html": [
       "<pre>    Data prepared in: 0.131653s</pre>"
      ],
      "text/plain": [
       "    Data prepared in: 0.131653s"
      ]
     },
     "metadata": {
      "tags": []
     },
     "output_type": "display_data"
    },
    {
     "data": {
      "text/html": [
       "<pre>95045 observations to process; with 27 unique items.</pre>"
      ],
      "text/plain": [
       "95045 observations to process; with 27 unique items."
      ]
     },
     "metadata": {
      "tags": []
     },
     "output_type": "display_data"
    },
    {
     "data": {
      "text/html": [
       "<pre>recommendations finished on 1000/39037 queries. users per second: 66379</pre>"
      ],
      "text/plain": [
       "recommendations finished on 1000/39037 queries. users per second: 66379"
      ]
     },
     "metadata": {
      "tags": []
     },
     "output_type": "display_data"
    },
    {
     "data": {
      "text/html": [
       "<pre>recommendations finished on 2000/39037 queries. users per second: 96739.9</pre>"
      ],
      "text/plain": [
       "recommendations finished on 2000/39037 queries. users per second: 96739.9"
      ]
     },
     "metadata": {
      "tags": []
     },
     "output_type": "display_data"
    },
    {
     "data": {
      "text/html": [
       "<pre>recommendations finished on 3000/39037 queries. users per second: 115300</pre>"
      ],
      "text/plain": [
       "recommendations finished on 3000/39037 queries. users per second: 115300"
      ]
     },
     "metadata": {
      "tags": []
     },
     "output_type": "display_data"
    },
    {
     "data": {
      "text/html": [
       "<pre>recommendations finished on 4000/39037 queries. users per second: 130976</pre>"
      ],
      "text/plain": [
       "recommendations finished on 4000/39037 queries. users per second: 130976"
      ]
     },
     "metadata": {
      "tags": []
     },
     "output_type": "display_data"
    },
    {
     "data": {
      "text/html": [
       "<pre>recommendations finished on 5000/39037 queries. users per second: 146873</pre>"
      ],
      "text/plain": [
       "recommendations finished on 5000/39037 queries. users per second: 146873"
      ]
     },
     "metadata": {
      "tags": []
     },
     "output_type": "display_data"
    },
    {
     "data": {
      "text/html": [
       "<pre>recommendations finished on 6000/39037 queries. users per second: 136249</pre>"
      ],
      "text/plain": [
       "recommendations finished on 6000/39037 queries. users per second: 136249"
      ]
     },
     "metadata": {
      "tags": []
     },
     "output_type": "display_data"
    },
    {
     "data": {
      "text/html": [
       "<pre>recommendations finished on 7000/39037 queries. users per second: 134976</pre>"
      ],
      "text/plain": [
       "recommendations finished on 7000/39037 queries. users per second: 134976"
      ]
     },
     "metadata": {
      "tags": []
     },
     "output_type": "display_data"
    },
    {
     "data": {
      "text/html": [
       "<pre>recommendations finished on 8000/39037 queries. users per second: 139298</pre>"
      ],
      "text/plain": [
       "recommendations finished on 8000/39037 queries. users per second: 139298"
      ]
     },
     "metadata": {
      "tags": []
     },
     "output_type": "display_data"
    },
    {
     "data": {
      "text/html": [
       "<pre>recommendations finished on 9000/39037 queries. users per second: 145681</pre>"
      ],
      "text/plain": [
       "recommendations finished on 9000/39037 queries. users per second: 145681"
      ]
     },
     "metadata": {
      "tags": []
     },
     "output_type": "display_data"
    },
    {
     "data": {
      "text/html": [
       "<pre>recommendations finished on 10000/39037 queries. users per second: 149265</pre>"
      ],
      "text/plain": [
       "recommendations finished on 10000/39037 queries. users per second: 149265"
      ]
     },
     "metadata": {
      "tags": []
     },
     "output_type": "display_data"
    },
    {
     "data": {
      "text/html": [
       "<pre>recommendations finished on 11000/39037 queries. users per second: 154464</pre>"
      ],
      "text/plain": [
       "recommendations finished on 11000/39037 queries. users per second: 154464"
      ]
     },
     "metadata": {
      "tags": []
     },
     "output_type": "display_data"
    },
    {
     "data": {
      "text/html": [
       "<pre>recommendations finished on 12000/39037 queries. users per second: 155328</pre>"
      ],
      "text/plain": [
       "recommendations finished on 12000/39037 queries. users per second: 155328"
      ]
     },
     "metadata": {
      "tags": []
     },
     "output_type": "display_data"
    },
    {
     "data": {
      "text/html": [
       "<pre>recommendations finished on 13000/39037 queries. users per second: 158053</pre>"
      ],
      "text/plain": [
       "recommendations finished on 13000/39037 queries. users per second: 158053"
      ]
     },
     "metadata": {
      "tags": []
     },
     "output_type": "display_data"
    },
    {
     "data": {
      "text/html": [
       "<pre>recommendations finished on 14000/39037 queries. users per second: 161650</pre>"
      ],
      "text/plain": [
       "recommendations finished on 14000/39037 queries. users per second: 161650"
      ]
     },
     "metadata": {
      "tags": []
     },
     "output_type": "display_data"
    },
    {
     "data": {
      "text/html": [
       "<pre>recommendations finished on 15000/39037 queries. users per second: 163607</pre>"
      ],
      "text/plain": [
       "recommendations finished on 15000/39037 queries. users per second: 163607"
      ]
     },
     "metadata": {
      "tags": []
     },
     "output_type": "display_data"
    },
    {
     "data": {
      "text/html": [
       "<pre>recommendations finished on 16000/39037 queries. users per second: 165505</pre>"
      ],
      "text/plain": [
       "recommendations finished on 16000/39037 queries. users per second: 165505"
      ]
     },
     "metadata": {
      "tags": []
     },
     "output_type": "display_data"
    },
    {
     "data": {
      "text/html": [
       "<pre>recommendations finished on 17000/39037 queries. users per second: 169559</pre>"
      ],
      "text/plain": [
       "recommendations finished on 17000/39037 queries. users per second: 169559"
      ]
     },
     "metadata": {
      "tags": []
     },
     "output_type": "display_data"
    },
    {
     "data": {
      "text/html": [
       "<pre>recommendations finished on 18000/39037 queries. users per second: 173114</pre>"
      ],
      "text/plain": [
       "recommendations finished on 18000/39037 queries. users per second: 173114"
      ]
     },
     "metadata": {
      "tags": []
     },
     "output_type": "display_data"
    },
    {
     "data": {
      "text/html": [
       "<pre>recommendations finished on 19000/39037 queries. users per second: 169694</pre>"
      ],
      "text/plain": [
       "recommendations finished on 19000/39037 queries. users per second: 169694"
      ]
     },
     "metadata": {
      "tags": []
     },
     "output_type": "display_data"
    },
    {
     "data": {
      "text/html": [
       "<pre>recommendations finished on 20000/39037 queries. users per second: 172490</pre>"
      ],
      "text/plain": [
       "recommendations finished on 20000/39037 queries. users per second: 172490"
      ]
     },
     "metadata": {
      "tags": []
     },
     "output_type": "display_data"
    },
    {
     "data": {
      "text/html": [
       "<pre>recommendations finished on 21000/39037 queries. users per second: 176662</pre>"
      ],
      "text/plain": [
       "recommendations finished on 21000/39037 queries. users per second: 176662"
      ]
     },
     "metadata": {
      "tags": []
     },
     "output_type": "display_data"
    },
    {
     "data": {
      "text/html": [
       "<pre>recommendations finished on 22000/39037 queries. users per second: 170605</pre>"
      ],
      "text/plain": [
       "recommendations finished on 22000/39037 queries. users per second: 170605"
      ]
     },
     "metadata": {
      "tags": []
     },
     "output_type": "display_data"
    },
    {
     "data": {
      "text/html": [
       "<pre>recommendations finished on 23000/39037 queries. users per second: 171655</pre>"
      ],
      "text/plain": [
       "recommendations finished on 23000/39037 queries. users per second: 171655"
      ]
     },
     "metadata": {
      "tags": []
     },
     "output_type": "display_data"
    },
    {
     "data": {
      "text/html": [
       "<pre>recommendations finished on 24000/39037 queries. users per second: 173824</pre>"
      ],
      "text/plain": [
       "recommendations finished on 24000/39037 queries. users per second: 173824"
      ]
     },
     "metadata": {
      "tags": []
     },
     "output_type": "display_data"
    },
    {
     "data": {
      "text/html": [
       "<pre>recommendations finished on 25000/39037 queries. users per second: 174872</pre>"
      ],
      "text/plain": [
       "recommendations finished on 25000/39037 queries. users per second: 174872"
      ]
     },
     "metadata": {
      "tags": []
     },
     "output_type": "display_data"
    },
    {
     "data": {
      "text/html": [
       "<pre>recommendations finished on 26000/39037 queries. users per second: 171844</pre>"
      ],
      "text/plain": [
       "recommendations finished on 26000/39037 queries. users per second: 171844"
      ]
     },
     "metadata": {
      "tags": []
     },
     "output_type": "display_data"
    },
    {
     "data": {
      "text/html": [
       "<pre>recommendations finished on 27000/39037 queries. users per second: 171596</pre>"
      ],
      "text/plain": [
       "recommendations finished on 27000/39037 queries. users per second: 171596"
      ]
     },
     "metadata": {
      "tags": []
     },
     "output_type": "display_data"
    },
    {
     "data": {
      "text/html": [
       "<pre>recommendations finished on 28000/39037 queries. users per second: 172754</pre>"
      ],
      "text/plain": [
       "recommendations finished on 28000/39037 queries. users per second: 172754"
      ]
     },
     "metadata": {
      "tags": []
     },
     "output_type": "display_data"
    },
    {
     "data": {
      "text/html": [
       "<pre>recommendations finished on 29000/39037 queries. users per second: 174078</pre>"
      ],
      "text/plain": [
       "recommendations finished on 29000/39037 queries. users per second: 174078"
      ]
     },
     "metadata": {
      "tags": []
     },
     "output_type": "display_data"
    },
    {
     "data": {
      "text/html": [
       "<pre>recommendations finished on 30000/39037 queries. users per second: 175931</pre>"
      ],
      "text/plain": [
       "recommendations finished on 30000/39037 queries. users per second: 175931"
      ]
     },
     "metadata": {
      "tags": []
     },
     "output_type": "display_data"
    },
    {
     "data": {
      "text/html": [
       "<pre>recommendations finished on 31000/39037 queries. users per second: 174883</pre>"
      ],
      "text/plain": [
       "recommendations finished on 31000/39037 queries. users per second: 174883"
      ]
     },
     "metadata": {
      "tags": []
     },
     "output_type": "display_data"
    },
    {
     "data": {
      "text/html": [
       "<pre>recommendations finished on 32000/39037 queries. users per second: 172765</pre>"
      ],
      "text/plain": [
       "recommendations finished on 32000/39037 queries. users per second: 172765"
      ]
     },
     "metadata": {
      "tags": []
     },
     "output_type": "display_data"
    },
    {
     "data": {
      "text/html": [
       "<pre>recommendations finished on 33000/39037 queries. users per second: 172600</pre>"
      ],
      "text/plain": [
       "recommendations finished on 33000/39037 queries. users per second: 172600"
      ]
     },
     "metadata": {
      "tags": []
     },
     "output_type": "display_data"
    },
    {
     "data": {
      "text/html": [
       "<pre>recommendations finished on 34000/39037 queries. users per second: 173312</pre>"
      ],
      "text/plain": [
       "recommendations finished on 34000/39037 queries. users per second: 173312"
      ]
     },
     "metadata": {
      "tags": []
     },
     "output_type": "display_data"
    },
    {
     "data": {
      "text/html": [
       "<pre>recommendations finished on 35000/39037 queries. users per second: 172931</pre>"
      ],
      "text/plain": [
       "recommendations finished on 35000/39037 queries. users per second: 172931"
      ]
     },
     "metadata": {
      "tags": []
     },
     "output_type": "display_data"
    },
    {
     "data": {
      "text/html": [
       "<pre>recommendations finished on 36000/39037 queries. users per second: 172406</pre>"
      ],
      "text/plain": [
       "recommendations finished on 36000/39037 queries. users per second: 172406"
      ]
     },
     "metadata": {
      "tags": []
     },
     "output_type": "display_data"
    },
    {
     "data": {
      "text/html": [
       "<pre>recommendations finished on 37000/39037 queries. users per second: 172059</pre>"
      ],
      "text/plain": [
       "recommendations finished on 37000/39037 queries. users per second: 172059"
      ]
     },
     "metadata": {
      "tags": []
     },
     "output_type": "display_data"
    },
    {
     "data": {
      "text/html": [
       "<pre>recommendations finished on 38000/39037 queries. users per second: 172393</pre>"
      ],
      "text/plain": [
       "recommendations finished on 38000/39037 queries. users per second: 172393"
      ]
     },
     "metadata": {
      "tags": []
     },
     "output_type": "display_data"
    },
    {
     "data": {
      "text/html": [
       "<pre>recommendations finished on 39000/39037 queries. users per second: 172498</pre>"
      ],
      "text/plain": [
       "recommendations finished on 39000/39037 queries. users per second: 172498"
      ]
     },
     "metadata": {
      "tags": []
     },
     "output_type": "display_data"
    },
    {
     "name": "stdout",
     "output_type": "stream",
     "text": [
      "+------------+---------------------+----------------------+------+\n",
      "| customerId |      productId      |        score         | rank |\n",
      "+------------+---------------------+----------------------+------+\n",
      "|     0      |   Cajas y Cajones   | 0.11754385964912271  |  1   |\n",
      "|     0      |       Muebles       | 0.07593095130408606  |  2   |\n",
      "|     0      |        Velas        | 0.07377049180327869  |  3   |\n",
      "|     0      |      Almohadas      | 0.06645990892695326  |  4   |\n",
      "|     0      |     Almohadones     | 0.05361869125845879  |  5   |\n",
      "|     0      |        Sillas       | 0.05103244837758111  |  6   |\n",
      "|     0      |      Alfombras      | 0.04471881560048608  |  7   |\n",
      "|     0      |       Vajilla       |         0.04         |  8   |\n",
      "|     0      | Jabones y Jaboneras | 0.038083333333333344 |  9   |\n",
      "|     0      |      Mantelería     | 0.034567279542456586 |  10  |\n",
      "|     2      |   Cajas y Cajones   | 0.11754385964912271  |  1   |\n",
      "|     2      |       Muebles       | 0.07593095130408606  |  2   |\n",
      "|     2      |        Velas        | 0.07377049180327869  |  3   |\n",
      "|     2      |      Almohadas      | 0.06645990892695326  |  4   |\n",
      "|     2      |     Almohadones     | 0.05361869125845879  |  5   |\n",
      "|     2      |        Sillas       | 0.05103244837758111  |  6   |\n",
      "|     2      |      Alfombras      | 0.04471881560048608  |  7   |\n",
      "|     2      |       Vajilla       |         0.04         |  8   |\n",
      "|     2      | Jabones y Jaboneras | 0.038083333333333344 |  9   |\n",
      "|     2      |      Mantelería     | 0.034567279542456586 |  10  |\n",
      "|     5      |   Cajas y Cajones   | 0.11754385964912271  |  1   |\n",
      "|     5      |       Muebles       | 0.07593095130408606  |  2   |\n",
      "|     5      |        Velas        | 0.07377049180327869  |  3   |\n",
      "|     5      |      Almohadas      | 0.06645990892695326  |  4   |\n",
      "|     5      |     Almohadones     | 0.05361869125845879  |  5   |\n",
      "|     5      |        Sillas       | 0.05103244837758111  |  6   |\n",
      "|     5      |      Alfombras      | 0.04471881560048608  |  7   |\n",
      "|     5      |       Vajilla       |         0.04         |  8   |\n",
      "|     5      | Jabones y Jaboneras | 0.038083333333333344 |  9   |\n",
      "|     5      |      Mantelería     | 0.034567279542456586 |  10  |\n",
      "+------------+---------------------+----------------------+------+\n",
      "[390370 rows x 4 columns]\n",
      "\n"
     ]
    },
    {
     "data": {
      "text/plain": [
       "Class                            : PopularityRecommender\n",
       "\n",
       "Schema\n",
       "------\n",
       "User ID                          : customerId\n",
       "Item ID                          : productId\n",
       "Target                           : scaled_purchase_freq\n",
       "Additional observation features  : 0\n",
       "User side features               : []\n",
       "Item side features               : []\n",
       "\n",
       "Statistics\n",
       "----------\n",
       "Number of observations           : 95045\n",
       "Number of users                  : 37673\n",
       "Number of items                  : 27\n",
       "\n",
       "Training summary\n",
       "----------------\n",
       "Training time                    : 0.0091\n",
       "\n",
       "Model Parameters\n",
       "----------------\n",
       "Model class                      : PopularityRecommender"
      ]
     },
     "execution_count": 20,
     "metadata": {
      "tags": []
     },
     "output_type": "execute_result"
    }
   ],
   "source": [
    "# iii. Uso del recuento de compras escalado\n",
    "name = 'popularity'\n",
    "target = 'scaled_purchase_freq'\n",
    "pop_norm = model(train_data_norm, name, user_id, item_id, target, users_to_recommend, n_rec, n_display)\n",
    "pop_norm"
   ]
  },
  {
   "cell_type": "markdown",
   "metadata": {
    "colab_type": "text",
    "id": "l2FYvHO8ln3W"
   },
   "source": [
    "### 6.1. Resumen de referencia\n",
    "\n",
    "Una vez que creamos el modelo, predijimos los ítems de recomendación usando puntajes por popularidad. Como puede ver para los resultados de cada modelo anteriores, las filas muestran los primeros 30 registros de 1000 usuarios con 10 recomendaciones. Estos 30 registros incluyen 3 usuarios y sus elementos recomendados, junto con puntaje y rangos descendentes.\n",
    "En el resultado, aunque diferentes modelos tienen diferentes listas de recomendaciones, a cada usuario se le recomienda la misma lista de 10 elementos. Esto se debe a que la popularidad se calcula tomando los elementos más populares entre todos los usuarios.\n"
   ]
  },
  {
   "cell_type": "code",
   "execution_count": 21,
   "metadata": {
    "colab": {
     "base_uri": "https://localhost:8080/",
     "height": 0
    },
    "colab_type": "code",
    "id": "brLmO9I3ln3Y",
    "outputId": "cceda734-3a1b-4edb-fc51-a8e7716b274f"
   },
   "outputs": [
    {
     "data": {
      "text/plain": [
       "productId\n",
       "Cajas y Cajones          1.976623\n",
       "Muebles                  1.630667\n",
       "Almohadas                1.604447\n",
       "Almohadones              1.486637\n",
       "Sillas                   1.347682\n",
       "Mantelería               1.312388\n",
       "Placard                  1.261935\n",
       "Toallas y Toallones      1.217899\n",
       "Cortinas                 1.201928\n",
       "Jabones y Jaboneras      1.185644\n",
       "Alfombras                1.160571\n",
       "Jardín                   1.150000\n",
       "Aromatizadores           1.131490\n",
       "Para Trabajo             1.120930\n",
       "Adornos                  1.117708\n",
       "Velas                    1.100000\n",
       "Cama                     1.091594\n",
       "Accesorios               1.087013\n",
       "Acolchados y Frazadas    1.085906\n",
       "Lonas                    1.083676\n",
       "Name: purchase_count, dtype: float64"
      ]
     },
     "execution_count": 21,
     "metadata": {
      "tags": []
     },
     "output_type": "execute_result"
    }
   ],
   "source": [
    "train.groupby('productId')['purchase_count'].mean().sort_values(ascending=False).head(20)"
   ]
  },
  {
   "cell_type": "markdown",
   "metadata": {
    "colab_type": "text",
    "id": "jAgvqrGIln3k"
   },
   "source": [
    "## 7. Modelo de filtrado colaborativo\n",
    "\n",
    "En el filtrado colaborativo, recomendamos artículos basados en cómo usuarios similares compran artículos. Por ejemplo, si el cliente 1 y el cliente 2 compraron artículos similares, p. 1 compró X, Y, Z y 2 compró X, Y, recomendaríamos un artículo Z al cliente 2.\n",
    "\n",
    "### 7.1. Metodología\n",
    "\n",
    "\n",
    "Para definir la similitud entre los usuarios, utilizamos los siguientes pasos:\n",
    "1. Cree una matriz de elementos de usuario, donde los valores de índice representan ID de clientes únicos y los valores de columna representan ID de productos únicos\n",
    "2. Cree una matriz de similitud de artículo a artículo. La idea es calcular qué tan similar es un producto a otro producto. Hay varias formas de calcular esto. En los pasos 7.2 y 7.3, utilizamos la medida de similitud de coseno o de Pearson, respectivamente.\n",
    "Para calcular la similitud entre los productos X e Y, observe a todos los clientes que han calificado estos dos artículos. Por ejemplo, tanto X como Y han sido calificadas por los clientes 1 y 2.\n",
    "Luego creamos dos ítems-vectores, v1 para el ítem X y v2 para el ítem Y, en el espacio de usuario de (1, 2) y luego encontramos el coseno o el ángulo / distancia de Pearson entre estos vectores. Un ángulo cero o vectores superpuestos con un valor de coseno de 1 significa similitud total (o por usuario, en todos los elementos, hay la misma calificación) y un ángulo de 90 grados significaría un coseno de 0 o ninguna similitud.\n",
    "3. Para cada cliente, predecimos su probabilidad de comprar un producto (o su compra cuenta) para productos que no había comprado.\n",
    "Para nuestro ejemplo, calcularemos la calificación para el usuario 2 en el caso del elemento Z (elemento objetivo). Para calcular esto, sopesamos la medida de similitud calculada entre el artículo objetivo y otros artículos que el cliente ya ha comprado. El factor de ponderación es el recuento de compras otorgado por el usuario a los artículos que ya compró.\n",
    "Luego escalamos esta suma ponderada con la suma de las medidas de similitud para que la calificación calculada permanezca dentro de límites predefinidos. Por lo tanto, la calificación prevista para el elemento Z para el usuario 2 se calcularía utilizando medidas de similitud.\n"
   ]
  },
  {
   "attachments": {
    "image.png": {
     "image/png": "[encoded data removed]"
    }
   },
   "cell_type": "markdown",
   "metadata": {
    "colab_type": "text",
    "id": "_2j4sbfZln3n"
   },
   "source": [
    "### 7.2. Similitud de coseno\n",
    "\n",
    "La similitud es el coseno del ángulo entre los 2 vectores de los vectores ítems de A y B\n",
    "Se define por la siguiente fórmul\n",
    "![image.png](attachment:image.png)\n",
    "\n",
    "Más cerca de los vectores, más pequeño será el ángulo y más grande el coseno\n"
   ]
  },
  {
   "cell_type": "code",
   "execution_count": 22,
   "metadata": {
    "colab": {
     "base_uri": "https://localhost:8080/",
     "height": 0
    },
    "colab_type": "code",
    "id": "4itjYLblln3r",
    "outputId": "08d9a370-ab91-4868-886b-abb2a018aae4"
   },
   "outputs": [
    {
     "data": {
      "text/html": [
       "<pre>Preparing data set.</pre>"
      ],
      "text/plain": [
       "Preparing data set."
      ]
     },
     "metadata": {
      "tags": []
     },
     "output_type": "display_data"
    },
    {
     "data": {
      "text/html": [
       "<pre>    Data has 197486 observations with 39015 users and 27 items.</pre>"
      ],
      "text/plain": [
       "    Data has 197486 observations with 39015 users and 27 items."
      ]
     },
     "metadata": {
      "tags": []
     },
     "output_type": "display_data"
    },
    {
     "data": {
      "text/html": [
       "<pre>    Data prepared in: 0.213624s</pre>"
      ],
      "text/plain": [
       "    Data prepared in: 0.213624s"
      ]
     },
     "metadata": {
      "tags": []
     },
     "output_type": "display_data"
    },
    {
     "data": {
      "text/html": [
       "<pre>Training model from provided data.</pre>"
      ],
      "text/plain": [
       "Training model from provided data."
      ]
     },
     "metadata": {
      "tags": []
     },
     "output_type": "display_data"
    },
    {
     "data": {
      "text/html": [
       "<pre>Gathering per-item and per-user statistics.</pre>"
      ],
      "text/plain": [
       "Gathering per-item and per-user statistics."
      ]
     },
     "metadata": {
      "tags": []
     },
     "output_type": "display_data"
    },
    {
     "data": {
      "text/html": [
       "<pre>+--------------------------------+------------+</pre>"
      ],
      "text/plain": [
       "+--------------------------------+------------+"
      ]
     },
     "metadata": {
      "tags": []
     },
     "output_type": "display_data"
    },
    {
     "data": {
      "text/html": [
       "<pre>| Elapsed Time (Item Statistics) | % Complete |</pre>"
      ],
      "text/plain": [
       "| Elapsed Time (Item Statistics) | % Complete |"
      ]
     },
     "metadata": {
      "tags": []
     },
     "output_type": "display_data"
    },
    {
     "data": {
      "text/html": [
       "<pre>+--------------------------------+------------+</pre>"
      ],
      "text/plain": [
       "+--------------------------------+------------+"
      ]
     },
     "metadata": {
      "tags": []
     },
     "output_type": "display_data"
    },
    {
     "data": {
      "text/html": [
       "<pre>| 1.151ms                        | 2.5        |</pre>"
      ],
      "text/plain": [
       "| 1.151ms                        | 2.5        |"
      ]
     },
     "metadata": {
      "tags": []
     },
     "output_type": "display_data"
    },
    {
     "data": {
      "text/html": [
       "<pre>| 10.994ms                       | 100        |</pre>"
      ],
      "text/plain": [
       "| 10.994ms                       | 100        |"
      ]
     },
     "metadata": {
      "tags": []
     },
     "output_type": "display_data"
    },
    {
     "data": {
      "text/html": [
       "<pre>+--------------------------------+------------+</pre>"
      ],
      "text/plain": [
       "+--------------------------------+------------+"
      ]
     },
     "metadata": {
      "tags": []
     },
     "output_type": "display_data"
    },
    {
     "data": {
      "text/html": [
       "<pre>Setting up lookup tables.</pre>"
      ],
      "text/plain": [
       "Setting up lookup tables."
      ]
     },
     "metadata": {
      "tags": []
     },
     "output_type": "display_data"
    },
    {
     "data": {
      "text/html": [
       "<pre>Processing data in one pass using dense lookup tables.</pre>"
      ],
      "text/plain": [
       "Processing data in one pass using dense lookup tables."
      ]
     },
     "metadata": {
      "tags": []
     },
     "output_type": "display_data"
    },
    {
     "data": {
      "text/html": [
       "<pre>+-------------------------------------+------------------+-----------------+</pre>"
      ],
      "text/plain": [
       "+-------------------------------------+------------------+-----------------+"
      ]
     },
     "metadata": {
      "tags": []
     },
     "output_type": "display_data"
    },
    {
     "data": {
      "text/html": [
       "<pre>| Elapsed Time (Constructing Lookups) | Total % Complete | Items Processed |</pre>"
      ],
      "text/plain": [
       "| Elapsed Time (Constructing Lookups) | Total % Complete | Items Processed |"
      ]
     },
     "metadata": {
      "tags": []
     },
     "output_type": "display_data"
    },
    {
     "data": {
      "text/html": [
       "<pre>+-------------------------------------+------------------+-----------------+</pre>"
      ],
      "text/plain": [
       "+-------------------------------------+------------------+-----------------+"
      ]
     },
     "metadata": {
      "tags": []
     },
     "output_type": "display_data"
    },
    {
     "data": {
      "text/html": [
       "<pre>| 25.495ms                            | 0                | 0               |</pre>"
      ],
      "text/plain": [
       "| 25.495ms                            | 0                | 0               |"
      ]
     },
     "metadata": {
      "tags": []
     },
     "output_type": "display_data"
    },
    {
     "data": {
      "text/html": [
       "<pre>| 47.202ms                            | 100              | 27              |</pre>"
      ],
      "text/plain": [
       "| 47.202ms                            | 100              | 27              |"
      ]
     },
     "metadata": {
      "tags": []
     },
     "output_type": "display_data"
    },
    {
     "data": {
      "text/html": [
       "<pre>+-------------------------------------+------------------+-----------------+</pre>"
      ],
      "text/plain": [
       "+-------------------------------------+------------------+-----------------+"
      ]
     },
     "metadata": {
      "tags": []
     },
     "output_type": "display_data"
    },
    {
     "data": {
      "text/html": [
       "<pre>Finalizing lookup tables.</pre>"
      ],
      "text/plain": [
       "Finalizing lookup tables."
      ]
     },
     "metadata": {
      "tags": []
     },
     "output_type": "display_data"
    },
    {
     "data": {
      "text/html": [
       "<pre>Generating candidate set for working with new users.</pre>"
      ],
      "text/plain": [
       "Generating candidate set for working with new users."
      ]
     },
     "metadata": {
      "tags": []
     },
     "output_type": "display_data"
    },
    {
     "data": {
      "text/html": [
       "<pre>Finished training in 1.074s</pre>"
      ],
      "text/plain": [
       "Finished training in 1.074s"
      ]
     },
     "metadata": {
      "tags": []
     },
     "output_type": "display_data"
    },
    {
     "data": {
      "text/html": [
       "<pre>recommendations finished on 1000/39037 queries. users per second: 130124</pre>"
      ],
      "text/plain": [
       "recommendations finished on 1000/39037 queries. users per second: 130124"
      ]
     },
     "metadata": {
      "tags": []
     },
     "output_type": "display_data"
    },
    {
     "data": {
      "text/html": [
       "<pre>recommendations finished on 2000/39037 queries. users per second: 135373</pre>"
      ],
      "text/plain": [
       "recommendations finished on 2000/39037 queries. users per second: 135373"
      ]
     },
     "metadata": {
      "tags": []
     },
     "output_type": "display_data"
    },
    {
     "data": {
      "text/html": [
       "<pre>recommendations finished on 3000/39037 queries. users per second: 145681</pre>"
      ],
      "text/plain": [
       "recommendations finished on 3000/39037 queries. users per second: 145681"
      ]
     },
     "metadata": {
      "tags": []
     },
     "output_type": "display_data"
    },
    {
     "data": {
      "text/html": [
       "<pre>recommendations finished on 4000/39037 queries. users per second: 152637</pre>"
      ],
      "text/plain": [
       "recommendations finished on 4000/39037 queries. users per second: 152637"
      ]
     },
     "metadata": {
      "tags": []
     },
     "output_type": "display_data"
    },
    {
     "data": {
      "text/html": [
       "<pre>recommendations finished on 5000/39037 queries. users per second: 148624</pre>"
      ],
      "text/plain": [
       "recommendations finished on 5000/39037 queries. users per second: 148624"
      ]
     },
     "metadata": {
      "tags": []
     },
     "output_type": "display_data"
    },
    {
     "data": {
      "text/html": [
       "<pre>recommendations finished on 6000/39037 queries. users per second: 148331</pre>"
      ],
      "text/plain": [
       "recommendations finished on 6000/39037 queries. users per second: 148331"
      ]
     },
     "metadata": {
      "tags": []
     },
     "output_type": "display_data"
    },
    {
     "data": {
      "text/html": [
       "<pre>recommendations finished on 7000/39037 queries. users per second: 149301</pre>"
      ],
      "text/plain": [
       "recommendations finished on 7000/39037 queries. users per second: 149301"
      ]
     },
     "metadata": {
      "tags": []
     },
     "output_type": "display_data"
    },
    {
     "data": {
      "text/html": [
       "<pre>recommendations finished on 8000/39037 queries. users per second: 153536</pre>"
      ],
      "text/plain": [
       "recommendations finished on 8000/39037 queries. users per second: 153536"
      ]
     },
     "metadata": {
      "tags": []
     },
     "output_type": "display_data"
    },
    {
     "data": {
      "text/html": [
       "<pre>recommendations finished on 9000/39037 queries. users per second: 152112</pre>"
      ],
      "text/plain": [
       "recommendations finished on 9000/39037 queries. users per second: 152112"
      ]
     },
     "metadata": {
      "tags": []
     },
     "output_type": "display_data"
    },
    {
     "data": {
      "text/html": [
       "<pre>recommendations finished on 10000/39037 queries. users per second: 151057</pre>"
      ],
      "text/plain": [
       "recommendations finished on 10000/39037 queries. users per second: 151057"
      ]
     },
     "metadata": {
      "tags": []
     },
     "output_type": "display_data"
    },
    {
     "data": {
      "text/html": [
       "<pre>recommendations finished on 11000/39037 queries. users per second: 153312</pre>"
      ],
      "text/plain": [
       "recommendations finished on 11000/39037 queries. users per second: 153312"
      ]
     },
     "metadata": {
      "tags": []
     },
     "output_type": "display_data"
    },
    {
     "data": {
      "text/html": [
       "<pre>recommendations finished on 12000/39037 queries. users per second: 154897</pre>"
      ],
      "text/plain": [
       "recommendations finished on 12000/39037 queries. users per second: 154897"
      ]
     },
     "metadata": {
      "tags": []
     },
     "output_type": "display_data"
    },
    {
     "data": {
      "text/html": [
       "<pre>recommendations finished on 13000/39037 queries. users per second: 155616</pre>"
      ],
      "text/plain": [
       "recommendations finished on 13000/39037 queries. users per second: 155616"
      ]
     },
     "metadata": {
      "tags": []
     },
     "output_type": "display_data"
    },
    {
     "data": {
      "text/html": [
       "<pre>recommendations finished on 14000/39037 queries. users per second: 156530</pre>"
      ],
      "text/plain": [
       "recommendations finished on 14000/39037 queries. users per second: 156530"
      ]
     },
     "metadata": {
      "tags": []
     },
     "output_type": "display_data"
    },
    {
     "data": {
      "text/html": [
       "<pre>recommendations finished on 15000/39037 queries. users per second: 156263</pre>"
      ],
      "text/plain": [
       "recommendations finished on 15000/39037 queries. users per second: 156263"
      ]
     },
     "metadata": {
      "tags": []
     },
     "output_type": "display_data"
    },
    {
     "data": {
      "text/html": [
       "<pre>recommendations finished on 16000/39037 queries. users per second: 157420</pre>"
      ],
      "text/plain": [
       "recommendations finished on 16000/39037 queries. users per second: 157420"
      ]
     },
     "metadata": {
      "tags": []
     },
     "output_type": "display_data"
    },
    {
     "data": {
      "text/html": [
       "<pre>recommendations finished on 17000/39037 queries. users per second: 157572</pre>"
      ],
      "text/plain": [
       "recommendations finished on 17000/39037 queries. users per second: 157572"
      ]
     },
     "metadata": {
      "tags": []
     },
     "output_type": "display_data"
    },
    {
     "data": {
      "text/html": [
       "<pre>recommendations finished on 18000/39037 queries. users per second: 151853</pre>"
      ],
      "text/plain": [
       "recommendations finished on 18000/39037 queries. users per second: 151853"
      ]
     },
     "metadata": {
      "tags": []
     },
     "output_type": "display_data"
    },
    {
     "data": {
      "text/html": [
       "<pre>recommendations finished on 19000/39037 queries. users per second: 152283</pre>"
      ],
      "text/plain": [
       "recommendations finished on 19000/39037 queries. users per second: 152283"
      ]
     },
     "metadata": {
      "tags": []
     },
     "output_type": "display_data"
    },
    {
     "data": {
      "text/html": [
       "<pre>recommendations finished on 20000/39037 queries. users per second: 152922</pre>"
      ],
      "text/plain": [
       "recommendations finished on 20000/39037 queries. users per second: 152922"
      ]
     },
     "metadata": {
      "tags": []
     },
     "output_type": "display_data"
    },
    {
     "data": {
      "text/html": [
       "<pre>recommendations finished on 21000/39037 queries. users per second: 154733</pre>"
      ],
      "text/plain": [
       "recommendations finished on 21000/39037 queries. users per second: 154733"
      ]
     },
     "metadata": {
      "tags": []
     },
     "output_type": "display_data"
    },
    {
     "data": {
      "text/html": [
       "<pre>recommendations finished on 22000/39037 queries. users per second: 154522</pre>"
      ],
      "text/plain": [
       "recommendations finished on 22000/39037 queries. users per second: 154522"
      ]
     },
     "metadata": {
      "tags": []
     },
     "output_type": "display_data"
    },
    {
     "data": {
      "text/html": [
       "<pre>recommendations finished on 23000/39037 queries. users per second: 155136</pre>"
      ],
      "text/plain": [
       "recommendations finished on 23000/39037 queries. users per second: 155136"
      ]
     },
     "metadata": {
      "tags": []
     },
     "output_type": "display_data"
    },
    {
     "data": {
      "text/html": [
       "<pre>recommendations finished on 24000/39037 queries. users per second: 154034</pre>"
      ],
      "text/plain": [
       "recommendations finished on 24000/39037 queries. users per second: 154034"
      ]
     },
     "metadata": {
      "tags": []
     },
     "output_type": "display_data"
    },
    {
     "data": {
      "text/html": [
       "<pre>recommendations finished on 25000/39037 queries. users per second: 155372</pre>"
      ],
      "text/plain": [
       "recommendations finished on 25000/39037 queries. users per second: 155372"
      ]
     },
     "metadata": {
      "tags": []
     },
     "output_type": "display_data"
    },
    {
     "data": {
      "text/html": [
       "<pre>recommendations finished on 26000/39037 queries. users per second: 155599</pre>"
      ],
      "text/plain": [
       "recommendations finished on 26000/39037 queries. users per second: 155599"
      ]
     },
     "metadata": {
      "tags": []
     },
     "output_type": "display_data"
    },
    {
     "data": {
      "text/html": [
       "<pre>recommendations finished on 27000/39037 queries. users per second: 155849</pre>"
      ],
      "text/plain": [
       "recommendations finished on 27000/39037 queries. users per second: 155849"
      ]
     },
     "metadata": {
      "tags": []
     },
     "output_type": "display_data"
    },
    {
     "data": {
      "text/html": [
       "<pre>recommendations finished on 28000/39037 queries. users per second: 156690</pre>"
      ],
      "text/plain": [
       "recommendations finished on 28000/39037 queries. users per second: 156690"
      ]
     },
     "metadata": {
      "tags": []
     },
     "output_type": "display_data"
    },
    {
     "data": {
      "text/html": [
       "<pre>recommendations finished on 29000/39037 queries. users per second: 155564</pre>"
      ],
      "text/plain": [
       "recommendations finished on 29000/39037 queries. users per second: 155564"
      ]
     },
     "metadata": {
      "tags": []
     },
     "output_type": "display_data"
    },
    {
     "data": {
      "text/html": [
       "<pre>recommendations finished on 30000/39037 queries. users per second: 153987</pre>"
      ],
      "text/plain": [
       "recommendations finished on 30000/39037 queries. users per second: 153987"
      ]
     },
     "metadata": {
      "tags": []
     },
     "output_type": "display_data"
    },
    {
     "data": {
      "text/html": [
       "<pre>recommendations finished on 31000/39037 queries. users per second: 154436</pre>"
      ],
      "text/plain": [
       "recommendations finished on 31000/39037 queries. users per second: 154436"
      ]
     },
     "metadata": {
      "tags": []
     },
     "output_type": "display_data"
    },
    {
     "data": {
      "text/html": [
       "<pre>recommendations finished on 32000/39037 queries. users per second: 154769</pre>"
      ],
      "text/plain": [
       "recommendations finished on 32000/39037 queries. users per second: 154769"
      ]
     },
     "metadata": {
      "tags": []
     },
     "output_type": "display_data"
    },
    {
     "data": {
      "text/html": [
       "<pre>recommendations finished on 33000/39037 queries. users per second: 152748</pre>"
      ],
      "text/plain": [
       "recommendations finished on 33000/39037 queries. users per second: 152748"
      ]
     },
     "metadata": {
      "tags": []
     },
     "output_type": "display_data"
    },
    {
     "data": {
      "text/html": [
       "<pre>recommendations finished on 34000/39037 queries. users per second: 152419</pre>"
      ],
      "text/plain": [
       "recommendations finished on 34000/39037 queries. users per second: 152419"
      ]
     },
     "metadata": {
      "tags": []
     },
     "output_type": "display_data"
    },
    {
     "data": {
      "text/html": [
       "<pre>recommendations finished on 35000/39037 queries. users per second: 152222</pre>"
      ],
      "text/plain": [
       "recommendations finished on 35000/39037 queries. users per second: 152222"
      ]
     },
     "metadata": {
      "tags": []
     },
     "output_type": "display_data"
    },
    {
     "data": {
      "text/html": [
       "<pre>recommendations finished on 36000/39037 queries. users per second: 152400</pre>"
      ],
      "text/plain": [
       "recommendations finished on 36000/39037 queries. users per second: 152400"
      ]
     },
     "metadata": {
      "tags": []
     },
     "output_type": "display_data"
    },
    {
     "data": {
      "text/html": [
       "<pre>recommendations finished on 37000/39037 queries. users per second: 151904</pre>"
      ],
      "text/plain": [
       "recommendations finished on 37000/39037 queries. users per second: 151904"
      ]
     },
     "metadata": {
      "tags": []
     },
     "output_type": "display_data"
    },
    {
     "data": {
      "text/html": [
       "<pre>recommendations finished on 38000/39037 queries. users per second: 152094</pre>"
      ],
      "text/plain": [
       "recommendations finished on 38000/39037 queries. users per second: 152094"
      ]
     },
     "metadata": {
      "tags": []
     },
     "output_type": "display_data"
    },
    {
     "data": {
      "text/html": [
       "<pre>recommendations finished on 39000/39037 queries. users per second: 151835</pre>"
      ],
      "text/plain": [
       "recommendations finished on 39000/39037 queries. users per second: 151835"
      ]
     },
     "metadata": {
      "tags": []
     },
     "output_type": "display_data"
    },
    {
     "name": "stdout",
     "output_type": "stream",
     "text": [
      "+------------+-----------------------+---------------------+------+\n",
      "| customerId |       productId       |        score        | rank |\n",
      "+------------+-----------------------+---------------------+------+\n",
      "|     0      | Acolchados y Frazadas |  0.4666981101036072 |  1   |\n",
      "|     0      |      Almohadones      |  0.3118313252925873 |  2   |\n",
      "|     0      |       Mantelería      | 0.25090357661247253 |  3   |\n",
      "|     0      |       Almohadas       | 0.20607823133468628 |  4   |\n",
      "|     0      |       Accesorios      | 0.18493062257766724 |  5   |\n",
      "|     0      |        Cortinas       | 0.17446818947792053 |  6   |\n",
      "|     0      |          Cama         | 0.17388072609901428 |  7   |\n",
      "|     0      |        Adornos        | 0.15600067377090454 |  8   |\n",
      "|     0      |      Para Dormir      | 0.12298816442489624 |  9   |\n",
      "|     0      |        Muebles        | 0.10421466827392578 |  10  |\n",
      "|     2      |        Sábanas        |  0.7932891845703125 |  1   |\n",
      "|     2      | Acolchados y Frazadas |  0.5939451456069946 |  2   |\n",
      "|     2      |       Mantelería      | 0.44811880588531494 |  3   |\n",
      "|     2      |      Almohadones      |  0.4380018711090088 |  4   |\n",
      "|     2      |       Accesorios      |  0.3531714677810669 |  5   |\n",
      "|     2      |       Almohadas       |  0.2925760746002197 |  6   |\n",
      "|     2      |        Cortinas       | 0.28106653690338135 |  7   |\n",
      "|     2      |          Cama         | 0.23629796504974365 |  8   |\n",
      "|     2      |        Adornos        | 0.22995948791503906 |  9   |\n",
      "|     2      |      Para Dormir      | 0.19982373714447021 |  10  |\n",
      "|     5      | Acolchados y Frazadas |  0.7043138146400452 |  1   |\n",
      "|     5      |  Toallas y Toallones  |  0.5553024411201477 |  2   |\n",
      "|     5      |      Almohadones      | 0.44179385900497437 |  3   |\n",
      "|     5      |       Almohadas       |  0.2897844910621643 |  4   |\n",
      "|     5      |       Mantelería      |  0.2884853482246399 |  5   |\n",
      "|     5      |          Cama         | 0.25190508365631104 |  6   |\n",
      "|     5      |        Cortinas       | 0.22197699546813965 |  7   |\n",
      "|     5      |        Adornos        | 0.21342992782592773 |  8   |\n",
      "|     5      |       Accesorios      | 0.19661343097686768 |  9   |\n",
      "|     5      |      Para Dormir      | 0.15529495477676392 |  10  |\n",
      "+------------+-----------------------+---------------------+------+\n",
      "[390370 rows x 4 columns]\n",
      "\n"
     ]
    },
    {
     "data": {
      "text/plain": [
       "Class                            : ItemSimilarityRecommender\n",
       "\n",
       "Schema\n",
       "------\n",
       "User ID                          : customerId\n",
       "Item ID                          : productId\n",
       "Target                           : purchase_count\n",
       "Additional observation features  : 0\n",
       "User side features               : []\n",
       "Item side features               : []\n",
       "\n",
       "Statistics\n",
       "----------\n",
       "Number of observations           : 197486\n",
       "Number of users                  : 39015\n",
       "Number of items                  : 27\n",
       "\n",
       "Training summary\n",
       "----------------\n",
       "Training time                    : 1.0741\n",
       "\n",
       "Model Parameters\n",
       "----------------\n",
       "Model class                      : ItemSimilarityRecommender\n",
       "threshold                        : 0.001\n",
       "similarity_type                  : cosine\n",
       "training_method                  : auto\n",
       "\n",
       "Other Settings\n",
       "--------------\n",
       "degree_approximation_threshold   : 4096\n",
       "max_data_passes                  : 4096\n",
       "max_item_neighborhood_size       : 64\n",
       "nearest_neighbors_interaction_proportion_threshold : 0.05\n",
       "seed_item_set_size               : 50\n",
       "sparse_density_estimation_sample_size : 4096\n",
       "target_memory_usage              : 8589934592"
      ]
     },
     "execution_count": 22,
     "metadata": {
      "tags": []
     },
     "output_type": "execute_result"
    }
   ],
   "source": [
    "# i. Usando el conteo de compras\n",
    "name = 'cosine'\n",
    "target = 'purchase_count'\n",
    "cos = model(train_data, name, user_id, item_id, target, users_to_recommend, n_rec, n_display)\n",
    "cos"
   ]
  },
  {
   "cell_type": "code",
   "execution_count": 23,
   "metadata": {
    "colab": {
     "base_uri": "https://localhost:8080/",
     "height": 0
    },
    "colab_type": "code",
    "id": "4_ErTOBjln32",
    "outputId": "ca61a66c-7a2a-4885-e250-43574a87a86c"
   },
   "outputs": [
    {
     "data": {
      "text/html": [
       "<pre>Warning: Ignoring columns purchase_count;</pre>"
      ],
      "text/plain": [
       "Warning: Ignoring columns purchase_count;"
      ]
     },
     "metadata": {
      "tags": []
     },
     "output_type": "display_data"
    },
    {
     "data": {
      "text/html": [
       "<pre>    To use these columns in scoring predictions, use a model that allows the use of additional features.</pre>"
      ],
      "text/plain": [
       "    To use these columns in scoring predictions, use a model that allows the use of additional features."
      ]
     },
     "metadata": {
      "tags": []
     },
     "output_type": "display_data"
    },
    {
     "data": {
      "text/html": [
       "<pre>Preparing data set.</pre>"
      ],
      "text/plain": [
       "Preparing data set."
      ]
     },
     "metadata": {
      "tags": []
     },
     "output_type": "display_data"
    },
    {
     "data": {
      "text/html": [
       "<pre>    Data has 197486 observations with 39017 users and 27 items.</pre>"
      ],
      "text/plain": [
       "    Data has 197486 observations with 39017 users and 27 items."
      ]
     },
     "metadata": {
      "tags": []
     },
     "output_type": "display_data"
    },
    {
     "data": {
      "text/html": [
       "<pre>    Data prepared in: 0.236754s</pre>"
      ],
      "text/plain": [
       "    Data prepared in: 0.236754s"
      ]
     },
     "metadata": {
      "tags": []
     },
     "output_type": "display_data"
    },
    {
     "data": {
      "text/html": [
       "<pre>Training model from provided data.</pre>"
      ],
      "text/plain": [
       "Training model from provided data."
      ]
     },
     "metadata": {
      "tags": []
     },
     "output_type": "display_data"
    },
    {
     "data": {
      "text/html": [
       "<pre>Gathering per-item and per-user statistics.</pre>"
      ],
      "text/plain": [
       "Gathering per-item and per-user statistics."
      ]
     },
     "metadata": {
      "tags": []
     },
     "output_type": "display_data"
    },
    {
     "data": {
      "text/html": [
       "<pre>+--------------------------------+------------+</pre>"
      ],
      "text/plain": [
       "+--------------------------------+------------+"
      ]
     },
     "metadata": {
      "tags": []
     },
     "output_type": "display_data"
    },
    {
     "data": {
      "text/html": [
       "<pre>| Elapsed Time (Item Statistics) | % Complete |</pre>"
      ],
      "text/plain": [
       "| Elapsed Time (Item Statistics) | % Complete |"
      ]
     },
     "metadata": {
      "tags": []
     },
     "output_type": "display_data"
    },
    {
     "data": {
      "text/html": [
       "<pre>+--------------------------------+------------+</pre>"
      ],
      "text/plain": [
       "+--------------------------------+------------+"
      ]
     },
     "metadata": {
      "tags": []
     },
     "output_type": "display_data"
    },
    {
     "data": {
      "text/html": [
       "<pre>| 977us                          | 2.5        |</pre>"
      ],
      "text/plain": [
       "| 977us                          | 2.5        |"
      ]
     },
     "metadata": {
      "tags": []
     },
     "output_type": "display_data"
    },
    {
     "data": {
      "text/html": [
       "<pre>| 16.711ms                       | 100        |</pre>"
      ],
      "text/plain": [
       "| 16.711ms                       | 100        |"
      ]
     },
     "metadata": {
      "tags": []
     },
     "output_type": "display_data"
    },
    {
     "data": {
      "text/html": [
       "<pre>+--------------------------------+------------+</pre>"
      ],
      "text/plain": [
       "+--------------------------------+------------+"
      ]
     },
     "metadata": {
      "tags": []
     },
     "output_type": "display_data"
    },
    {
     "data": {
      "text/html": [
       "<pre>Setting up lookup tables.</pre>"
      ],
      "text/plain": [
       "Setting up lookup tables."
      ]
     },
     "metadata": {
      "tags": []
     },
     "output_type": "display_data"
    },
    {
     "data": {
      "text/html": [
       "<pre>Processing data in one pass using dense lookup tables.</pre>"
      ],
      "text/plain": [
       "Processing data in one pass using dense lookup tables."
      ]
     },
     "metadata": {
      "tags": []
     },
     "output_type": "display_data"
    },
    {
     "data": {
      "text/html": [
       "<pre>+-------------------------------------+------------------+-----------------+</pre>"
      ],
      "text/plain": [
       "+-------------------------------------+------------------+-----------------+"
      ]
     },
     "metadata": {
      "tags": []
     },
     "output_type": "display_data"
    },
    {
     "data": {
      "text/html": [
       "<pre>| Elapsed Time (Constructing Lookups) | Total % Complete | Items Processed |</pre>"
      ],
      "text/plain": [
       "| Elapsed Time (Constructing Lookups) | Total % Complete | Items Processed |"
      ]
     },
     "metadata": {
      "tags": []
     },
     "output_type": "display_data"
    },
    {
     "data": {
      "text/html": [
       "<pre>+-------------------------------------+------------------+-----------------+</pre>"
      ],
      "text/plain": [
       "+-------------------------------------+------------------+-----------------+"
      ]
     },
     "metadata": {
      "tags": []
     },
     "output_type": "display_data"
    },
    {
     "data": {
      "text/html": [
       "<pre>| 22.363ms                            | 0                | 0               |</pre>"
      ],
      "text/plain": [
       "| 22.363ms                            | 0                | 0               |"
      ]
     },
     "metadata": {
      "tags": []
     },
     "output_type": "display_data"
    },
    {
     "data": {
      "text/html": [
       "<pre>| 36.836ms                            | 100              | 27              |</pre>"
      ],
      "text/plain": [
       "| 36.836ms                            | 100              | 27              |"
      ]
     },
     "metadata": {
      "tags": []
     },
     "output_type": "display_data"
    },
    {
     "data": {
      "text/html": [
       "<pre>+-------------------------------------+------------------+-----------------+</pre>"
      ],
      "text/plain": [
       "+-------------------------------------+------------------+-----------------+"
      ]
     },
     "metadata": {
      "tags": []
     },
     "output_type": "display_data"
    },
    {
     "data": {
      "text/html": [
       "<pre>Finalizing lookup tables.</pre>"
      ],
      "text/plain": [
       "Finalizing lookup tables."
      ]
     },
     "metadata": {
      "tags": []
     },
     "output_type": "display_data"
    },
    {
     "data": {
      "text/html": [
       "<pre>Generating candidate set for working with new users.</pre>"
      ],
      "text/plain": [
       "Generating candidate set for working with new users."
      ]
     },
     "metadata": {
      "tags": []
     },
     "output_type": "display_data"
    },
    {
     "data": {
      "text/html": [
       "<pre>Finished training in 0.067381s</pre>"
      ],
      "text/plain": [
       "Finished training in 0.067381s"
      ]
     },
     "metadata": {
      "tags": []
     },
     "output_type": "display_data"
    },
    {
     "data": {
      "text/html": [
       "<pre>recommendations finished on 1000/39037 queries. users per second: 110241</pre>"
      ],
      "text/plain": [
       "recommendations finished on 1000/39037 queries. users per second: 110241"
      ]
     },
     "metadata": {
      "tags": []
     },
     "output_type": "display_data"
    },
    {
     "data": {
      "text/html": [
       "<pre>recommendations finished on 2000/39037 queries. users per second: 126863</pre>"
      ],
      "text/plain": [
       "recommendations finished on 2000/39037 queries. users per second: 126863"
      ]
     },
     "metadata": {
      "tags": []
     },
     "output_type": "display_data"
    },
    {
     "data": {
      "text/html": [
       "<pre>recommendations finished on 3000/39037 queries. users per second: 137956</pre>"
      ],
      "text/plain": [
       "recommendations finished on 3000/39037 queries. users per second: 137956"
      ]
     },
     "metadata": {
      "tags": []
     },
     "output_type": "display_data"
    },
    {
     "data": {
      "text/html": [
       "<pre>recommendations finished on 4000/39037 queries. users per second: 150246</pre>"
      ],
      "text/plain": [
       "recommendations finished on 4000/39037 queries. users per second: 150246"
      ]
     },
     "metadata": {
      "tags": []
     },
     "output_type": "display_data"
    },
    {
     "data": {
      "text/html": [
       "<pre>recommendations finished on 5000/39037 queries. users per second: 149027</pre>"
      ],
      "text/plain": [
       "recommendations finished on 5000/39037 queries. users per second: 149027"
      ]
     },
     "metadata": {
      "tags": []
     },
     "output_type": "display_data"
    },
    {
     "data": {
      "text/html": [
       "<pre>recommendations finished on 6000/39037 queries. users per second: 147641</pre>"
      ],
      "text/plain": [
       "recommendations finished on 6000/39037 queries. users per second: 147641"
      ]
     },
     "metadata": {
      "tags": []
     },
     "output_type": "display_data"
    },
    {
     "data": {
      "text/html": [
       "<pre>recommendations finished on 7000/39037 queries. users per second: 150895</pre>"
      ],
      "text/plain": [
       "recommendations finished on 7000/39037 queries. users per second: 150895"
      ]
     },
     "metadata": {
      "tags": []
     },
     "output_type": "display_data"
    },
    {
     "data": {
      "text/html": [
       "<pre>recommendations finished on 8000/39037 queries. users per second: 153944</pre>"
      ],
      "text/plain": [
       "recommendations finished on 8000/39037 queries. users per second: 153944"
      ]
     },
     "metadata": {
      "tags": []
     },
     "output_type": "display_data"
    },
    {
     "data": {
      "text/html": [
       "<pre>recommendations finished on 9000/39037 queries. users per second: 153878</pre>"
      ],
      "text/plain": [
       "recommendations finished on 9000/39037 queries. users per second: 153878"
      ]
     },
     "metadata": {
      "tags": []
     },
     "output_type": "display_data"
    },
    {
     "data": {
      "text/html": [
       "<pre>recommendations finished on 10000/39037 queries. users per second: 155056</pre>"
      ],
      "text/plain": [
       "recommendations finished on 10000/39037 queries. users per second: 155056"
      ]
     },
     "metadata": {
      "tags": []
     },
     "output_type": "display_data"
    },
    {
     "data": {
      "text/html": [
       "<pre>recommendations finished on 11000/39037 queries. users per second: 155339</pre>"
      ],
      "text/plain": [
       "recommendations finished on 11000/39037 queries. users per second: 155339"
      ]
     },
     "metadata": {
      "tags": []
     },
     "output_type": "display_data"
    },
    {
     "data": {
      "text/html": [
       "<pre>recommendations finished on 12000/39037 queries. users per second: 156331</pre>"
      ],
      "text/plain": [
       "recommendations finished on 12000/39037 queries. users per second: 156331"
      ]
     },
     "metadata": {
      "tags": []
     },
     "output_type": "display_data"
    },
    {
     "data": {
      "text/html": [
       "<pre>recommendations finished on 13000/39037 queries. users per second: 158299</pre>"
      ],
      "text/plain": [
       "recommendations finished on 13000/39037 queries. users per second: 158299"
      ]
     },
     "metadata": {
      "tags": []
     },
     "output_type": "display_data"
    },
    {
     "data": {
      "text/html": [
       "<pre>recommendations finished on 14000/39037 queries. users per second: 158176</pre>"
      ],
      "text/plain": [
       "recommendations finished on 14000/39037 queries. users per second: 158176"
      ]
     },
     "metadata": {
      "tags": []
     },
     "output_type": "display_data"
    },
    {
     "data": {
      "text/html": [
       "<pre>recommendations finished on 15000/39037 queries. users per second: 159253</pre>"
      ],
      "text/plain": [
       "recommendations finished on 15000/39037 queries. users per second: 159253"
      ]
     },
     "metadata": {
      "tags": []
     },
     "output_type": "display_data"
    },
    {
     "data": {
      "text/html": [
       "<pre>recommendations finished on 16000/39037 queries. users per second: 158689</pre>"
      ],
      "text/plain": [
       "recommendations finished on 16000/39037 queries. users per second: 158689"
      ]
     },
     "metadata": {
      "tags": []
     },
     "output_type": "display_data"
    },
    {
     "data": {
      "text/html": [
       "<pre>recommendations finished on 17000/39037 queries. users per second: 159476</pre>"
      ],
      "text/plain": [
       "recommendations finished on 17000/39037 queries. users per second: 159476"
      ]
     },
     "metadata": {
      "tags": []
     },
     "output_type": "display_data"
    },
    {
     "data": {
      "text/html": [
       "<pre>recommendations finished on 18000/39037 queries. users per second: 150756</pre>"
      ],
      "text/plain": [
       "recommendations finished on 18000/39037 queries. users per second: 150756"
      ]
     },
     "metadata": {
      "tags": []
     },
     "output_type": "display_data"
    },
    {
     "data": {
      "text/html": [
       "<pre>recommendations finished on 19000/39037 queries. users per second: 148215</pre>"
      ],
      "text/plain": [
       "recommendations finished on 19000/39037 queries. users per second: 148215"
      ]
     },
     "metadata": {
      "tags": []
     },
     "output_type": "display_data"
    },
    {
     "data": {
      "text/html": [
       "<pre>recommendations finished on 20000/39037 queries. users per second: 148588</pre>"
      ],
      "text/plain": [
       "recommendations finished on 20000/39037 queries. users per second: 148588"
      ]
     },
     "metadata": {
      "tags": []
     },
     "output_type": "display_data"
    },
    {
     "data": {
      "text/html": [
       "<pre>recommendations finished on 21000/39037 queries. users per second: 148535</pre>"
      ],
      "text/plain": [
       "recommendations finished on 21000/39037 queries. users per second: 148535"
      ]
     },
     "metadata": {
      "tags": []
     },
     "output_type": "display_data"
    },
    {
     "data": {
      "text/html": [
       "<pre>recommendations finished on 22000/39037 queries. users per second: 149734</pre>"
      ],
      "text/plain": [
       "recommendations finished on 22000/39037 queries. users per second: 149734"
      ]
     },
     "metadata": {
      "tags": []
     },
     "output_type": "display_data"
    },
    {
     "data": {
      "text/html": [
       "<pre>recommendations finished on 23000/39037 queries. users per second: 148271</pre>"
      ],
      "text/plain": [
       "recommendations finished on 23000/39037 queries. users per second: 148271"
      ]
     },
     "metadata": {
      "tags": []
     },
     "output_type": "display_data"
    },
    {
     "data": {
      "text/html": [
       "<pre>recommendations finished on 24000/39037 queries. users per second: 149270</pre>"
      ],
      "text/plain": [
       "recommendations finished on 24000/39037 queries. users per second: 149270"
      ]
     },
     "metadata": {
      "tags": []
     },
     "output_type": "display_data"
    },
    {
     "data": {
      "text/html": [
       "<pre>recommendations finished on 25000/39037 queries. users per second: 148174</pre>"
      ],
      "text/plain": [
       "recommendations finished on 25000/39037 queries. users per second: 148174"
      ]
     },
     "metadata": {
      "tags": []
     },
     "output_type": "display_data"
    },
    {
     "data": {
      "text/html": [
       "<pre>recommendations finished on 26000/39037 queries. users per second: 145342</pre>"
      ],
      "text/plain": [
       "recommendations finished on 26000/39037 queries. users per second: 145342"
      ]
     },
     "metadata": {
      "tags": []
     },
     "output_type": "display_data"
    },
    {
     "data": {
      "text/html": [
       "<pre>recommendations finished on 27000/39037 queries. users per second: 143069</pre>"
      ],
      "text/plain": [
       "recommendations finished on 27000/39037 queries. users per second: 143069"
      ]
     },
     "metadata": {
      "tags": []
     },
     "output_type": "display_data"
    },
    {
     "data": {
      "text/html": [
       "<pre>recommendations finished on 28000/39037 queries. users per second: 144547</pre>"
      ],
      "text/plain": [
       "recommendations finished on 28000/39037 queries. users per second: 144547"
      ]
     },
     "metadata": {
      "tags": []
     },
     "output_type": "display_data"
    },
    {
     "data": {
      "text/html": [
       "<pre>recommendations finished on 29000/39037 queries. users per second: 145426</pre>"
      ],
      "text/plain": [
       "recommendations finished on 29000/39037 queries. users per second: 145426"
      ]
     },
     "metadata": {
      "tags": []
     },
     "output_type": "display_data"
    },
    {
     "data": {
      "text/html": [
       "<pre>recommendations finished on 30000/39037 queries. users per second: 146607</pre>"
      ],
      "text/plain": [
       "recommendations finished on 30000/39037 queries. users per second: 146607"
      ]
     },
     "metadata": {
      "tags": []
     },
     "output_type": "display_data"
    },
    {
     "data": {
      "text/html": [
       "<pre>recommendations finished on 31000/39037 queries. users per second: 145373</pre>"
      ],
      "text/plain": [
       "recommendations finished on 31000/39037 queries. users per second: 145373"
      ]
     },
     "metadata": {
      "tags": []
     },
     "output_type": "display_data"
    },
    {
     "data": {
      "text/html": [
       "<pre>recommendations finished on 32000/39037 queries. users per second: 146236</pre>"
      ],
      "text/plain": [
       "recommendations finished on 32000/39037 queries. users per second: 146236"
      ]
     },
     "metadata": {
      "tags": []
     },
     "output_type": "display_data"
    },
    {
     "data": {
      "text/html": [
       "<pre>recommendations finished on 33000/39037 queries. users per second: 146911</pre>"
      ],
      "text/plain": [
       "recommendations finished on 33000/39037 queries. users per second: 146911"
      ]
     },
     "metadata": {
      "tags": []
     },
     "output_type": "display_data"
    },
    {
     "data": {
      "text/html": [
       "<pre>recommendations finished on 34000/39037 queries. users per second: 148336</pre>"
      ],
      "text/plain": [
       "recommendations finished on 34000/39037 queries. users per second: 148336"
      ]
     },
     "metadata": {
      "tags": []
     },
     "output_type": "display_data"
    },
    {
     "data": {
      "text/html": [
       "<pre>recommendations finished on 35000/39037 queries. users per second: 148829</pre>"
      ],
      "text/plain": [
       "recommendations finished on 35000/39037 queries. users per second: 148829"
      ]
     },
     "metadata": {
      "tags": []
     },
     "output_type": "display_data"
    },
    {
     "data": {
      "text/html": [
       "<pre>recommendations finished on 36000/39037 queries. users per second: 149291</pre>"
      ],
      "text/plain": [
       "recommendations finished on 36000/39037 queries. users per second: 149291"
      ]
     },
     "metadata": {
      "tags": []
     },
     "output_type": "display_data"
    },
    {
     "data": {
      "text/html": [
       "<pre>recommendations finished on 37000/39037 queries. users per second: 149747</pre>"
      ],
      "text/plain": [
       "recommendations finished on 37000/39037 queries. users per second: 149747"
      ]
     },
     "metadata": {
      "tags": []
     },
     "output_type": "display_data"
    },
    {
     "data": {
      "text/html": [
       "<pre>recommendations finished on 38000/39037 queries. users per second: 150690</pre>"
      ],
      "text/plain": [
       "recommendations finished on 38000/39037 queries. users per second: 150690"
      ]
     },
     "metadata": {
      "tags": []
     },
     "output_type": "display_data"
    },
    {
     "data": {
      "text/html": [
       "<pre>recommendations finished on 39000/39037 queries. users per second: 150669</pre>"
      ],
      "text/plain": [
       "recommendations finished on 39000/39037 queries. users per second: 150669"
      ]
     },
     "metadata": {
      "tags": []
     },
     "output_type": "display_data"
    },
    {
     "name": "stdout",
     "output_type": "stream",
     "text": [
      "+------------+-----------------------+---------------------+------+\n",
      "| customerId |       productId       |        score        | rank |\n",
      "+------------+-----------------------+---------------------+------+\n",
      "|     0      | Acolchados y Frazadas | 0.49516311287879944 |  1   |\n",
      "|     0      |      Almohadones      | 0.34513360261917114 |  2   |\n",
      "|     0      |       Mantelería      |  0.3092917501926422 |  3   |\n",
      "|     0      |       Almohadas       | 0.22382038831710815 |  4   |\n",
      "|     0      |        Cortinas       |  0.2034805417060852 |  5   |\n",
      "|     0      |       Accesorios      | 0.19301992654800415 |  6   |\n",
      "|     0      |          Cama         | 0.17925310134887695 |  7   |\n",
      "|     0      |        Adornos        |  0.1780984103679657 |  8   |\n",
      "|     0      |        Muebles        | 0.13453206419944763 |  9   |\n",
      "|     0      |      Para Dormir      |  0.1290724277496338 |  10  |\n",
      "|     2      |        Sábanas        |  0.5008598566055298 |  1   |\n",
      "|     2      | Acolchados y Frazadas |   0.37973552942276  |  2   |\n",
      "|     2      |       Mantelería      |  0.3283522129058838 |  3   |\n",
      "|     2      |      Almohadones      | 0.29304081201553345 |  4   |\n",
      "|     2      |       Accesorios      | 0.21511131525039673 |  5   |\n",
      "|     2      |        Cortinas       | 0.19730627536773682 |  6   |\n",
      "|     2      |       Almohadas       |  0.1924108862876892 |  7   |\n",
      "|     2      |        Adornos        |  0.1601886749267578 |  8   |\n",
      "|     2      |          Cama         | 0.14365887641906738 |  9   |\n",
      "|     2      |        Muebles        | 0.13400930166244507 |  10  |\n",
      "|     5      | Acolchados y Frazadas |  0.6105906963348389 |  1   |\n",
      "|     5      |  Toallas y Toallones  |  0.5008598566055298 |  2   |\n",
      "|     5      |      Almohadones      | 0.39722639322280884 |  3   |\n",
      "|     5      |       Mantelería      | 0.29023128747940063 |  4   |\n",
      "|     5      |       Almohadas       |  0.2552298903465271 |  5   |\n",
      "|     5      |          Cama         | 0.21484732627868652 |  6   |\n",
      "|     5      |        Cortinas       |  0.2096548080444336 |  7   |\n",
      "|     5      |        Adornos        | 0.19600814580917358 |  8   |\n",
      "|     5      |       Accesorios      | 0.17092853784561157 |  9   |\n",
      "|     5      |        Muebles        |  0.1350548267364502 |  10  |\n",
      "+------------+-----------------------+---------------------+------+\n",
      "[390370 rows x 4 columns]\n",
      "\n"
     ]
    },
    {
     "data": {
      "text/plain": [
       "Class                            : ItemSimilarityRecommender\n",
       "\n",
       "Schema\n",
       "------\n",
       "User ID                          : customerId\n",
       "Item ID                          : productId\n",
       "Target                           : purchase_dummy\n",
       "Additional observation features  : 0\n",
       "User side features               : []\n",
       "Item side features               : []\n",
       "\n",
       "Statistics\n",
       "----------\n",
       "Number of observations           : 197486\n",
       "Number of users                  : 39017\n",
       "Number of items                  : 27\n",
       "\n",
       "Training summary\n",
       "----------------\n",
       "Training time                    : 0.0674\n",
       "\n",
       "Model Parameters\n",
       "----------------\n",
       "Model class                      : ItemSimilarityRecommender\n",
       "threshold                        : 0.001\n",
       "similarity_type                  : cosine\n",
       "training_method                  : auto\n",
       "\n",
       "Other Settings\n",
       "--------------\n",
       "degree_approximation_threshold   : 4096\n",
       "max_data_passes                  : 4096\n",
       "max_item_neighborhood_size       : 64\n",
       "nearest_neighbors_interaction_proportion_threshold : 0.05\n",
       "seed_item_set_size               : 50\n",
       "sparse_density_estimation_sample_size : 4096\n",
       "target_memory_usage              : 8589934592"
      ]
     },
     "execution_count": 23,
     "metadata": {
      "tags": []
     },
     "output_type": "execute_result"
    }
   ],
   "source": [
    "# ii. Usando el dummy de compras\n",
    "name = 'cosine'\n",
    "target = 'purchase_dummy'\n",
    "cos_dummy = model(train_data_dummy, name, user_id, item_id, target, users_to_recommend, n_rec, n_display)\n",
    "cos_dummy"
   ]
  },
  {
   "cell_type": "code",
   "execution_count": 24,
   "metadata": {
    "colab": {
     "base_uri": "https://localhost:8080/",
     "height": 0
    },
    "colab_type": "code",
    "id": "j1KVmSEYln4B",
    "outputId": "4f50dda1-afea-4d78-c7ef-9add1fc04df5"
   },
   "outputs": [
    {
     "data": {
      "text/html": [
       "<pre>Preparing data set.</pre>"
      ],
      "text/plain": [
       "Preparing data set."
      ]
     },
     "metadata": {
      "tags": []
     },
     "output_type": "display_data"
    },
    {
     "data": {
      "text/html": [
       "<pre>    Data has 95045 observations with 37673 users and 27 items.</pre>"
      ],
      "text/plain": [
       "    Data has 95045 observations with 37673 users and 27 items."
      ]
     },
     "metadata": {
      "tags": []
     },
     "output_type": "display_data"
    },
    {
     "data": {
      "text/html": [
       "<pre>    Data prepared in: 0.131119s</pre>"
      ],
      "text/plain": [
       "    Data prepared in: 0.131119s"
      ]
     },
     "metadata": {
      "tags": []
     },
     "output_type": "display_data"
    },
    {
     "data": {
      "text/html": [
       "<pre>Training model from provided data.</pre>"
      ],
      "text/plain": [
       "Training model from provided data."
      ]
     },
     "metadata": {
      "tags": []
     },
     "output_type": "display_data"
    },
    {
     "data": {
      "text/html": [
       "<pre>Gathering per-item and per-user statistics.</pre>"
      ],
      "text/plain": [
       "Gathering per-item and per-user statistics."
      ]
     },
     "metadata": {
      "tags": []
     },
     "output_type": "display_data"
    },
    {
     "data": {
      "text/html": [
       "<pre>+--------------------------------+------------+</pre>"
      ],
      "text/plain": [
       "+--------------------------------+------------+"
      ]
     },
     "metadata": {
      "tags": []
     },
     "output_type": "display_data"
    },
    {
     "data": {
      "text/html": [
       "<pre>| Elapsed Time (Item Statistics) | % Complete |</pre>"
      ],
      "text/plain": [
       "| Elapsed Time (Item Statistics) | % Complete |"
      ]
     },
     "metadata": {
      "tags": []
     },
     "output_type": "display_data"
    },
    {
     "data": {
      "text/html": [
       "<pre>+--------------------------------+------------+</pre>"
      ],
      "text/plain": [
       "+--------------------------------+------------+"
      ]
     },
     "metadata": {
      "tags": []
     },
     "output_type": "display_data"
    },
    {
     "data": {
      "text/html": [
       "<pre>| 1.151ms                        | 2.5        |</pre>"
      ],
      "text/plain": [
       "| 1.151ms                        | 2.5        |"
      ]
     },
     "metadata": {
      "tags": []
     },
     "output_type": "display_data"
    },
    {
     "data": {
      "text/html": [
       "<pre>| 12.378ms                       | 100        |</pre>"
      ],
      "text/plain": [
       "| 12.378ms                       | 100        |"
      ]
     },
     "metadata": {
      "tags": []
     },
     "output_type": "display_data"
    },
    {
     "data": {
      "text/html": [
       "<pre>+--------------------------------+------------+</pre>"
      ],
      "text/plain": [
       "+--------------------------------+------------+"
      ]
     },
     "metadata": {
      "tags": []
     },
     "output_type": "display_data"
    },
    {
     "data": {
      "text/html": [
       "<pre>Setting up lookup tables.</pre>"
      ],
      "text/plain": [
       "Setting up lookup tables."
      ]
     },
     "metadata": {
      "tags": []
     },
     "output_type": "display_data"
    },
    {
     "data": {
      "text/html": [
       "<pre>Processing data in one pass using dense lookup tables.</pre>"
      ],
      "text/plain": [
       "Processing data in one pass using dense lookup tables."
      ]
     },
     "metadata": {
      "tags": []
     },
     "output_type": "display_data"
    },
    {
     "data": {
      "text/html": [
       "<pre>+-------------------------------------+------------------+-----------------+</pre>"
      ],
      "text/plain": [
       "+-------------------------------------+------------------+-----------------+"
      ]
     },
     "metadata": {
      "tags": []
     },
     "output_type": "display_data"
    },
    {
     "data": {
      "text/html": [
       "<pre>| Elapsed Time (Constructing Lookups) | Total % Complete | Items Processed |</pre>"
      ],
      "text/plain": [
       "| Elapsed Time (Constructing Lookups) | Total % Complete | Items Processed |"
      ]
     },
     "metadata": {
      "tags": []
     },
     "output_type": "display_data"
    },
    {
     "data": {
      "text/html": [
       "<pre>+-------------------------------------+------------------+-----------------+</pre>"
      ],
      "text/plain": [
       "+-------------------------------------+------------------+-----------------+"
      ]
     },
     "metadata": {
      "tags": []
     },
     "output_type": "display_data"
    },
    {
     "data": {
      "text/html": [
       "<pre>| 12.971ms                            | 0                | 0               |</pre>"
      ],
      "text/plain": [
       "| 12.971ms                            | 0                | 0               |"
      ]
     },
     "metadata": {
      "tags": []
     },
     "output_type": "display_data"
    },
    {
     "data": {
      "text/html": [
       "<pre>| 26.936ms                            | 100              | 27              |</pre>"
      ],
      "text/plain": [
       "| 26.936ms                            | 100              | 27              |"
      ]
     },
     "metadata": {
      "tags": []
     },
     "output_type": "display_data"
    },
    {
     "data": {
      "text/html": [
       "<pre>+-------------------------------------+------------------+-----------------+</pre>"
      ],
      "text/plain": [
       "+-------------------------------------+------------------+-----------------+"
      ]
     },
     "metadata": {
      "tags": []
     },
     "output_type": "display_data"
    },
    {
     "data": {
      "text/html": [
       "<pre>Finalizing lookup tables.</pre>"
      ],
      "text/plain": [
       "Finalizing lookup tables."
      ]
     },
     "metadata": {
      "tags": []
     },
     "output_type": "display_data"
    },
    {
     "data": {
      "text/html": [
       "<pre>Generating candidate set for working with new users.</pre>"
      ],
      "text/plain": [
       "Generating candidate set for working with new users."
      ]
     },
     "metadata": {
      "tags": []
     },
     "output_type": "display_data"
    },
    {
     "data": {
      "text/html": [
       "<pre>Finished training in 0.040304s</pre>"
      ],
      "text/plain": [
       "Finished training in 0.040304s"
      ]
     },
     "metadata": {
      "tags": []
     },
     "output_type": "display_data"
    },
    {
     "data": {
      "text/html": [
       "<pre>recommendations finished on 1000/39037 queries. users per second: 139082</pre>"
      ],
      "text/plain": [
       "recommendations finished on 1000/39037 queries. users per second: 139082"
      ]
     },
     "metadata": {
      "tags": []
     },
     "output_type": "display_data"
    },
    {
     "data": {
      "text/html": [
       "<pre>recommendations finished on 2000/39037 queries. users per second: 140400</pre>"
      ],
      "text/plain": [
       "recommendations finished on 2000/39037 queries. users per second: 140400"
      ]
     },
     "metadata": {
      "tags": []
     },
     "output_type": "display_data"
    },
    {
     "data": {
      "text/html": [
       "<pre>recommendations finished on 3000/39037 queries. users per second: 148530</pre>"
      ],
      "text/plain": [
       "recommendations finished on 3000/39037 queries. users per second: 148530"
      ]
     },
     "metadata": {
      "tags": []
     },
     "output_type": "display_data"
    },
    {
     "data": {
      "text/html": [
       "<pre>recommendations finished on 4000/39037 queries. users per second: 150995</pre>"
      ],
      "text/plain": [
       "recommendations finished on 4000/39037 queries. users per second: 150995"
      ]
     },
     "metadata": {
      "tags": []
     },
     "output_type": "display_data"
    },
    {
     "data": {
      "text/html": [
       "<pre>recommendations finished on 5000/39037 queries. users per second: 151911</pre>"
      ],
      "text/plain": [
       "recommendations finished on 5000/39037 queries. users per second: 151911"
      ]
     },
     "metadata": {
      "tags": []
     },
     "output_type": "display_data"
    },
    {
     "data": {
      "text/html": [
       "<pre>recommendations finished on 6000/39037 queries. users per second: 154059</pre>"
      ],
      "text/plain": [
       "recommendations finished on 6000/39037 queries. users per second: 154059"
      ]
     },
     "metadata": {
      "tags": []
     },
     "output_type": "display_data"
    },
    {
     "data": {
      "text/html": [
       "<pre>recommendations finished on 7000/39037 queries. users per second: 157441</pre>"
      ],
      "text/plain": [
       "recommendations finished on 7000/39037 queries. users per second: 157441"
      ]
     },
     "metadata": {
      "tags": []
     },
     "output_type": "display_data"
    },
    {
     "data": {
      "text/html": [
       "<pre>recommendations finished on 8000/39037 queries. users per second: 159658</pre>"
      ],
      "text/plain": [
       "recommendations finished on 8000/39037 queries. users per second: 159658"
      ]
     },
     "metadata": {
      "tags": []
     },
     "output_type": "display_data"
    },
    {
     "data": {
      "text/html": [
       "<pre>recommendations finished on 9000/39037 queries. users per second: 157112</pre>"
      ],
      "text/plain": [
       "recommendations finished on 9000/39037 queries. users per second: 157112"
      ]
     },
     "metadata": {
      "tags": []
     },
     "output_type": "display_data"
    },
    {
     "data": {
      "text/html": [
       "<pre>recommendations finished on 10000/39037 queries. users per second: 156890</pre>"
      ],
      "text/plain": [
       "recommendations finished on 10000/39037 queries. users per second: 156890"
      ]
     },
     "metadata": {
      "tags": []
     },
     "output_type": "display_data"
    },
    {
     "data": {
      "text/html": [
       "<pre>recommendations finished on 11000/39037 queries. users per second: 156042</pre>"
      ],
      "text/plain": [
       "recommendations finished on 11000/39037 queries. users per second: 156042"
      ]
     },
     "metadata": {
      "tags": []
     },
     "output_type": "display_data"
    },
    {
     "data": {
      "text/html": [
       "<pre>recommendations finished on 12000/39037 queries. users per second: 156785</pre>"
      ],
      "text/plain": [
       "recommendations finished on 12000/39037 queries. users per second: 156785"
      ]
     },
     "metadata": {
      "tags": []
     },
     "output_type": "display_data"
    },
    {
     "data": {
      "text/html": [
       "<pre>recommendations finished on 13000/39037 queries. users per second: 158657</pre>"
      ],
      "text/plain": [
       "recommendations finished on 13000/39037 queries. users per second: 158657"
      ]
     },
     "metadata": {
      "tags": []
     },
     "output_type": "display_data"
    },
    {
     "data": {
      "text/html": [
       "<pre>recommendations finished on 14000/39037 queries. users per second: 159424</pre>"
      ],
      "text/plain": [
       "recommendations finished on 14000/39037 queries. users per second: 159424"
      ]
     },
     "metadata": {
      "tags": []
     },
     "output_type": "display_data"
    },
    {
     "data": {
      "text/html": [
       "<pre>recommendations finished on 15000/39037 queries. users per second: 155177</pre>"
      ],
      "text/plain": [
       "recommendations finished on 15000/39037 queries. users per second: 155177"
      ]
     },
     "metadata": {
      "tags": []
     },
     "output_type": "display_data"
    },
    {
     "data": {
      "text/html": [
       "<pre>recommendations finished on 16000/39037 queries. users per second: 154306</pre>"
      ],
      "text/plain": [
       "recommendations finished on 16000/39037 queries. users per second: 154306"
      ]
     },
     "metadata": {
      "tags": []
     },
     "output_type": "display_data"
    },
    {
     "data": {
      "text/html": [
       "<pre>recommendations finished on 17000/39037 queries. users per second: 153843</pre>"
      ],
      "text/plain": [
       "recommendations finished on 17000/39037 queries. users per second: 153843"
      ]
     },
     "metadata": {
      "tags": []
     },
     "output_type": "display_data"
    },
    {
     "data": {
      "text/html": [
       "<pre>recommendations finished on 18000/39037 queries. users per second: 153749</pre>"
      ],
      "text/plain": [
       "recommendations finished on 18000/39037 queries. users per second: 153749"
      ]
     },
     "metadata": {
      "tags": []
     },
     "output_type": "display_data"
    },
    {
     "data": {
      "text/html": [
       "<pre>recommendations finished on 19000/39037 queries. users per second: 154017</pre>"
      ],
      "text/plain": [
       "recommendations finished on 19000/39037 queries. users per second: 154017"
      ]
     },
     "metadata": {
      "tags": []
     },
     "output_type": "display_data"
    },
    {
     "data": {
      "text/html": [
       "<pre>recommendations finished on 20000/39037 queries. users per second: 151631</pre>"
      ],
      "text/plain": [
       "recommendations finished on 20000/39037 queries. users per second: 151631"
      ]
     },
     "metadata": {
      "tags": []
     },
     "output_type": "display_data"
    },
    {
     "data": {
      "text/html": [
       "<pre>recommendations finished on 21000/39037 queries. users per second: 152274</pre>"
      ],
      "text/plain": [
       "recommendations finished on 21000/39037 queries. users per second: 152274"
      ]
     },
     "metadata": {
      "tags": []
     },
     "output_type": "display_data"
    },
    {
     "data": {
      "text/html": [
       "<pre>recommendations finished on 22000/39037 queries. users per second: 151967</pre>"
      ],
      "text/plain": [
       "recommendations finished on 22000/39037 queries. users per second: 151967"
      ]
     },
     "metadata": {
      "tags": []
     },
     "output_type": "display_data"
    },
    {
     "data": {
      "text/html": [
       "<pre>recommendations finished on 23000/39037 queries. users per second: 151277</pre>"
      ],
      "text/plain": [
       "recommendations finished on 23000/39037 queries. users per second: 151277"
      ]
     },
     "metadata": {
      "tags": []
     },
     "output_type": "display_data"
    },
    {
     "data": {
      "text/html": [
       "<pre>recommendations finished on 24000/39037 queries. users per second: 151615</pre>"
      ],
      "text/plain": [
       "recommendations finished on 24000/39037 queries. users per second: 151615"
      ]
     },
     "metadata": {
      "tags": []
     },
     "output_type": "display_data"
    },
    {
     "data": {
      "text/html": [
       "<pre>recommendations finished on 25000/39037 queries. users per second: 153233</pre>"
      ],
      "text/plain": [
       "recommendations finished on 25000/39037 queries. users per second: 153233"
      ]
     },
     "metadata": {
      "tags": []
     },
     "output_type": "display_data"
    },
    {
     "data": {
      "text/html": [
       "<pre>recommendations finished on 26000/39037 queries. users per second: 153872</pre>"
      ],
      "text/plain": [
       "recommendations finished on 26000/39037 queries. users per second: 153872"
      ]
     },
     "metadata": {
      "tags": []
     },
     "output_type": "display_data"
    },
    {
     "data": {
      "text/html": [
       "<pre>recommendations finished on 27000/39037 queries. users per second: 154790</pre>"
      ],
      "text/plain": [
       "recommendations finished on 27000/39037 queries. users per second: 154790"
      ]
     },
     "metadata": {
      "tags": []
     },
     "output_type": "display_data"
    },
    {
     "data": {
      "text/html": [
       "<pre>recommendations finished on 28000/39037 queries. users per second: 154845</pre>"
      ],
      "text/plain": [
       "recommendations finished on 28000/39037 queries. users per second: 154845"
      ]
     },
     "metadata": {
      "tags": []
     },
     "output_type": "display_data"
    },
    {
     "data": {
      "text/html": [
       "<pre>recommendations finished on 29000/39037 queries. users per second: 155605</pre>"
      ],
      "text/plain": [
       "recommendations finished on 29000/39037 queries. users per second: 155605"
      ]
     },
     "metadata": {
      "tags": []
     },
     "output_type": "display_data"
    },
    {
     "data": {
      "text/html": [
       "<pre>recommendations finished on 30000/39037 queries. users per second: 154938</pre>"
      ],
      "text/plain": [
       "recommendations finished on 30000/39037 queries. users per second: 154938"
      ]
     },
     "metadata": {
      "tags": []
     },
     "output_type": "display_data"
    },
    {
     "data": {
      "text/html": [
       "<pre>recommendations finished on 31000/39037 queries. users per second: 154175</pre>"
      ],
      "text/plain": [
       "recommendations finished on 31000/39037 queries. users per second: 154175"
      ]
     },
     "metadata": {
      "tags": []
     },
     "output_type": "display_data"
    },
    {
     "data": {
      "text/html": [
       "<pre>recommendations finished on 32000/39037 queries. users per second: 153720</pre>"
      ],
      "text/plain": [
       "recommendations finished on 32000/39037 queries. users per second: 153720"
      ]
     },
     "metadata": {
      "tags": []
     },
     "output_type": "display_data"
    },
    {
     "data": {
      "text/html": [
       "<pre>recommendations finished on 33000/39037 queries. users per second: 152536</pre>"
      ],
      "text/plain": [
       "recommendations finished on 33000/39037 queries. users per second: 152536"
      ]
     },
     "metadata": {
      "tags": []
     },
     "output_type": "display_data"
    },
    {
     "data": {
      "text/html": [
       "<pre>recommendations finished on 34000/39037 queries. users per second: 149646</pre>"
      ],
      "text/plain": [
       "recommendations finished on 34000/39037 queries. users per second: 149646"
      ]
     },
     "metadata": {
      "tags": []
     },
     "output_type": "display_data"
    },
    {
     "data": {
      "text/html": [
       "<pre>recommendations finished on 35000/39037 queries. users per second: 149029</pre>"
      ],
      "text/plain": [
       "recommendations finished on 35000/39037 queries. users per second: 149029"
      ]
     },
     "metadata": {
      "tags": []
     },
     "output_type": "display_data"
    },
    {
     "data": {
      "text/html": [
       "<pre>recommendations finished on 36000/39037 queries. users per second: 148557</pre>"
      ],
      "text/plain": [
       "recommendations finished on 36000/39037 queries. users per second: 148557"
      ]
     },
     "metadata": {
      "tags": []
     },
     "output_type": "display_data"
    },
    {
     "data": {
      "text/html": [
       "<pre>recommendations finished on 37000/39037 queries. users per second: 147997</pre>"
      ],
      "text/plain": [
       "recommendations finished on 37000/39037 queries. users per second: 147997"
      ]
     },
     "metadata": {
      "tags": []
     },
     "output_type": "display_data"
    },
    {
     "data": {
      "text/html": [
       "<pre>recommendations finished on 38000/39037 queries. users per second: 148129</pre>"
      ],
      "text/plain": [
       "recommendations finished on 38000/39037 queries. users per second: 148129"
      ]
     },
     "metadata": {
      "tags": []
     },
     "output_type": "display_data"
    },
    {
     "data": {
      "text/html": [
       "<pre>recommendations finished on 39000/39037 queries. users per second: 148709</pre>"
      ],
      "text/plain": [
       "recommendations finished on 39000/39037 queries. users per second: 148709"
      ]
     },
     "metadata": {
      "tags": []
     },
     "output_type": "display_data"
    },
    {
     "name": "stdout",
     "output_type": "stream",
     "text": [
      "+------------+-----------------------+------------------------+------+\n",
      "| customerId |       productId       |         score          | rank |\n",
      "+------------+-----------------------+------------------------+------+\n",
      "|     0      |          Cama         |          0.0           |  1   |\n",
      "|     0      |        Para Uso       |          0.0           |  2   |\n",
      "|     0      |       Mantelería      |          0.0           |  3   |\n",
      "|     0      |     Aromatizadores    |          0.0           |  4   |\n",
      "|     0      |        Placard        |          0.0           |  5   |\n",
      "|     0      |      Para Dormir      |          0.0           |  6   |\n",
      "|     0      |        Guardado       |          0.0           |  7   |\n",
      "|     0      |         Lonas         |          0.0           |  8   |\n",
      "|     0      | Acolchados y Frazadas |          0.0           |  9   |\n",
      "|     0      |      Almohadones      |          0.0           |  10  |\n",
      "|     2      |        Sábanas        |  0.01750779151916504   |  1   |\n",
      "|     2      | Acolchados y Frazadas |  0.009135544300079346  |  2   |\n",
      "|     2      |       Accesorios      |  0.008102834224700928  |  3   |\n",
      "|     2      |      Almohadones      |  0.007471024990081787  |  4   |\n",
      "|     2      |       Almohadas       |  0.006949186325073242  |  5   |\n",
      "|     2      |       Mantelería      |  0.006264448165893555  |  6   |\n",
      "|     2      |          Cama         |  0.004014313220977783  |  7   |\n",
      "|     2      |        Cortinas       | 0.0034363269805908203  |  8   |\n",
      "|     2      |         Sillas        |  0.003259897232055664  |  9   |\n",
      "|     2      |        Placard        |  0.003155827522277832  |  10  |\n",
      "|     5      |  Toallas y Toallones  |  0.004201829433441162  |  1   |\n",
      "|     5      | Acolchados y Frazadas |  0.004134416580200195  |  2   |\n",
      "|     5      |      Almohadones      | 0.0018477439880371094  |  3   |\n",
      "|     5      |       Almohadas       | 0.0017534494400024414  |  4   |\n",
      "|     5      |          Cama         | 0.0016890168190002441  |  5   |\n",
      "|     5      |       Mantelería      | 0.0011867284774780273  |  6   |\n",
      "|     5      |       Accesorios      | 0.0009006261825561523  |  7   |\n",
      "|     5      |     Aromatizadores    | 0.0004897117614746094  |  8   |\n",
      "|     5      |        Cortinas       | 0.00048786401748657227 |  9   |\n",
      "|     5      |        Muebles        | 0.0004608035087585449  |  10  |\n",
      "+------------+-----------------------+------------------------+------+\n",
      "[390370 rows x 4 columns]\n",
      "\n"
     ]
    },
    {
     "data": {
      "text/plain": [
       "Class                            : ItemSimilarityRecommender\n",
       "\n",
       "Schema\n",
       "------\n",
       "User ID                          : customerId\n",
       "Item ID                          : productId\n",
       "Target                           : scaled_purchase_freq\n",
       "Additional observation features  : 0\n",
       "User side features               : []\n",
       "Item side features               : []\n",
       "\n",
       "Statistics\n",
       "----------\n",
       "Number of observations           : 95045\n",
       "Number of users                  : 37673\n",
       "Number of items                  : 27\n",
       "\n",
       "Training summary\n",
       "----------------\n",
       "Training time                    : 0.0404\n",
       "\n",
       "Model Parameters\n",
       "----------------\n",
       "Model class                      : ItemSimilarityRecommender\n",
       "threshold                        : 0.001\n",
       "similarity_type                  : cosine\n",
       "training_method                  : auto\n",
       "\n",
       "Other Settings\n",
       "--------------\n",
       "degree_approximation_threshold   : 4096\n",
       "max_data_passes                  : 4096\n",
       "max_item_neighborhood_size       : 64\n",
       "nearest_neighbors_interaction_proportion_threshold : 0.05\n",
       "seed_item_set_size               : 50\n",
       "sparse_density_estimation_sample_size : 4096\n",
       "target_memory_usage              : 8589934592"
      ]
     },
     "execution_count": 24,
     "metadata": {
      "tags": []
     },
     "output_type": "execute_result"
    }
   ],
   "source": [
    "# iii. Uso del recuento de compras escalado\n",
    "name = 'cosine' \n",
    "target = 'scaled_purchase_freq' \n",
    "cos_norm = model(train_data_norm, name, user_id, item_id, target, users_to_recommend, n_rec, n_display)\n",
    "cos_norm"
   ]
  },
  {
   "attachments": {
    "image.png": {
     "image/png": "[encoded data removed]"
    }
   },
   "cell_type": "markdown",
   "metadata": {
    "colab_type": "text",
    "id": "8isrvFWaln4K"
   },
   "source": [
    "### 7.3. Pearson similarity\n",
    "\n",
    "La similitud es el coeficiente de Pearson entre los dos vectores.\n",
    "Se define por la siguiente fórmula\n",
    "![image.png](attachment:image.png)"
   ]
  },
  {
   "cell_type": "code",
   "execution_count": 25,
   "metadata": {
    "colab": {
     "base_uri": "https://localhost:8080/",
     "height": 0
    },
    "colab_type": "code",
    "id": "KJvNkhXsln4N",
    "outputId": "fbcdc7d7-7964-4709-945d-a11fa795fe23"
   },
   "outputs": [
    {
     "data": {
      "text/html": [
       "<pre>Preparing data set.</pre>"
      ],
      "text/plain": [
       "Preparing data set."
      ]
     },
     "metadata": {
      "tags": []
     },
     "output_type": "display_data"
    },
    {
     "data": {
      "text/html": [
       "<pre>    Data has 197486 observations with 39015 users and 27 items.</pre>"
      ],
      "text/plain": [
       "    Data has 197486 observations with 39015 users and 27 items."
      ]
     },
     "metadata": {
      "tags": []
     },
     "output_type": "display_data"
    },
    {
     "data": {
      "text/html": [
       "<pre>    Data prepared in: 0.232159s</pre>"
      ],
      "text/plain": [
       "    Data prepared in: 0.232159s"
      ]
     },
     "metadata": {
      "tags": []
     },
     "output_type": "display_data"
    },
    {
     "data": {
      "text/html": [
       "<pre>Training model from provided data.</pre>"
      ],
      "text/plain": [
       "Training model from provided data."
      ]
     },
     "metadata": {
      "tags": []
     },
     "output_type": "display_data"
    },
    {
     "data": {
      "text/html": [
       "<pre>Gathering per-item and per-user statistics.</pre>"
      ],
      "text/plain": [
       "Gathering per-item and per-user statistics."
      ]
     },
     "metadata": {
      "tags": []
     },
     "output_type": "display_data"
    },
    {
     "data": {
      "text/html": [
       "<pre>+--------------------------------+------------+</pre>"
      ],
      "text/plain": [
       "+--------------------------------+------------+"
      ]
     },
     "metadata": {
      "tags": []
     },
     "output_type": "display_data"
    },
    {
     "data": {
      "text/html": [
       "<pre>| Elapsed Time (Item Statistics) | % Complete |</pre>"
      ],
      "text/plain": [
       "| Elapsed Time (Item Statistics) | % Complete |"
      ]
     },
     "metadata": {
      "tags": []
     },
     "output_type": "display_data"
    },
    {
     "data": {
      "text/html": [
       "<pre>+--------------------------------+------------+</pre>"
      ],
      "text/plain": [
       "+--------------------------------+------------+"
      ]
     },
     "metadata": {
      "tags": []
     },
     "output_type": "display_data"
    },
    {
     "data": {
      "text/html": [
       "<pre>| 1.161ms                        | 2.5        |</pre>"
      ],
      "text/plain": [
       "| 1.161ms                        | 2.5        |"
      ]
     },
     "metadata": {
      "tags": []
     },
     "output_type": "display_data"
    },
    {
     "data": {
      "text/html": [
       "<pre>| 17.668ms                       | 100        |</pre>"
      ],
      "text/plain": [
       "| 17.668ms                       | 100        |"
      ]
     },
     "metadata": {
      "tags": []
     },
     "output_type": "display_data"
    },
    {
     "data": {
      "text/html": [
       "<pre>+--------------------------------+------------+</pre>"
      ],
      "text/plain": [
       "+--------------------------------+------------+"
      ]
     },
     "metadata": {
      "tags": []
     },
     "output_type": "display_data"
    },
    {
     "data": {
      "text/html": [
       "<pre>Setting up lookup tables.</pre>"
      ],
      "text/plain": [
       "Setting up lookup tables."
      ]
     },
     "metadata": {
      "tags": []
     },
     "output_type": "display_data"
    },
    {
     "data": {
      "text/html": [
       "<pre>Processing data in one pass using dense lookup tables.</pre>"
      ],
      "text/plain": [
       "Processing data in one pass using dense lookup tables."
      ]
     },
     "metadata": {
      "tags": []
     },
     "output_type": "display_data"
    },
    {
     "data": {
      "text/html": [
       "<pre>+-------------------------------------+------------------+-----------------+</pre>"
      ],
      "text/plain": [
       "+-------------------------------------+------------------+-----------------+"
      ]
     },
     "metadata": {
      "tags": []
     },
     "output_type": "display_data"
    },
    {
     "data": {
      "text/html": [
       "<pre>| Elapsed Time (Constructing Lookups) | Total % Complete | Items Processed |</pre>"
      ],
      "text/plain": [
       "| Elapsed Time (Constructing Lookups) | Total % Complete | Items Processed |"
      ]
     },
     "metadata": {
      "tags": []
     },
     "output_type": "display_data"
    },
    {
     "data": {
      "text/html": [
       "<pre>+-------------------------------------+------------------+-----------------+</pre>"
      ],
      "text/plain": [
       "+-------------------------------------+------------------+-----------------+"
      ]
     },
     "metadata": {
      "tags": []
     },
     "output_type": "display_data"
    },
    {
     "data": {
      "text/html": [
       "<pre>| 19.622ms                            | 0                | 0               |</pre>"
      ],
      "text/plain": [
       "| 19.622ms                            | 0                | 0               |"
      ]
     },
     "metadata": {
      "tags": []
     },
     "output_type": "display_data"
    },
    {
     "data": {
      "text/html": [
       "<pre>| 36.448ms                            | 100              | 27              |</pre>"
      ],
      "text/plain": [
       "| 36.448ms                            | 100              | 27              |"
      ]
     },
     "metadata": {
      "tags": []
     },
     "output_type": "display_data"
    },
    {
     "data": {
      "text/html": [
       "<pre>+-------------------------------------+------------------+-----------------+</pre>"
      ],
      "text/plain": [
       "+-------------------------------------+------------------+-----------------+"
      ]
     },
     "metadata": {
      "tags": []
     },
     "output_type": "display_data"
    },
    {
     "data": {
      "text/html": [
       "<pre>Finalizing lookup tables.</pre>"
      ],
      "text/plain": [
       "Finalizing lookup tables."
      ]
     },
     "metadata": {
      "tags": []
     },
     "output_type": "display_data"
    },
    {
     "data": {
      "text/html": [
       "<pre>Generating candidate set for working with new users.</pre>"
      ],
      "text/plain": [
       "Generating candidate set for working with new users."
      ]
     },
     "metadata": {
      "tags": []
     },
     "output_type": "display_data"
    },
    {
     "data": {
      "text/html": [
       "<pre>Finished training in 0.075626s</pre>"
      ],
      "text/plain": [
       "Finished training in 0.075626s"
      ]
     },
     "metadata": {
      "tags": []
     },
     "output_type": "display_data"
    },
    {
     "data": {
      "text/html": [
       "<pre>recommendations finished on 1000/39037 queries. users per second: 131320</pre>"
      ],
      "text/plain": [
       "recommendations finished on 1000/39037 queries. users per second: 131320"
      ]
     },
     "metadata": {
      "tags": []
     },
     "output_type": "display_data"
    },
    {
     "data": {
      "text/html": [
       "<pre>recommendations finished on 2000/39037 queries. users per second: 146274</pre>"
      ],
      "text/plain": [
       "recommendations finished on 2000/39037 queries. users per second: 146274"
      ]
     },
     "metadata": {
      "tags": []
     },
     "output_type": "display_data"
    },
    {
     "data": {
      "text/html": [
       "<pre>recommendations finished on 3000/39037 queries. users per second: 150053</pre>"
      ],
      "text/plain": [
       "recommendations finished on 3000/39037 queries. users per second: 150053"
      ]
     },
     "metadata": {
      "tags": []
     },
     "output_type": "display_data"
    },
    {
     "data": {
      "text/html": [
       "<pre>recommendations finished on 4000/39037 queries. users per second: 158762</pre>"
      ],
      "text/plain": [
       "recommendations finished on 4000/39037 queries. users per second: 158762"
      ]
     },
     "metadata": {
      "tags": []
     },
     "output_type": "display_data"
    },
    {
     "data": {
      "text/html": [
       "<pre>recommendations finished on 5000/39037 queries. users per second: 157139</pre>"
      ],
      "text/plain": [
       "recommendations finished on 5000/39037 queries. users per second: 157139"
      ]
     },
     "metadata": {
      "tags": []
     },
     "output_type": "display_data"
    },
    {
     "data": {
      "text/html": [
       "<pre>recommendations finished on 6000/39037 queries. users per second: 161091</pre>"
      ],
      "text/plain": [
       "recommendations finished on 6000/39037 queries. users per second: 161091"
      ]
     },
     "metadata": {
      "tags": []
     },
     "output_type": "display_data"
    },
    {
     "data": {
      "text/html": [
       "<pre>recommendations finished on 7000/39037 queries. users per second: 162214</pre>"
      ],
      "text/plain": [
       "recommendations finished on 7000/39037 queries. users per second: 162214"
      ]
     },
     "metadata": {
      "tags": []
     },
     "output_type": "display_data"
    },
    {
     "data": {
      "text/html": [
       "<pre>recommendations finished on 8000/39037 queries. users per second: 161878</pre>"
      ],
      "text/plain": [
       "recommendations finished on 8000/39037 queries. users per second: 161878"
      ]
     },
     "metadata": {
      "tags": []
     },
     "output_type": "display_data"
    },
    {
     "data": {
      "text/html": [
       "<pre>recommendations finished on 9000/39037 queries. users per second: 162996</pre>"
      ],
      "text/plain": [
       "recommendations finished on 9000/39037 queries. users per second: 162996"
      ]
     },
     "metadata": {
      "tags": []
     },
     "output_type": "display_data"
    },
    {
     "data": {
      "text/html": [
       "<pre>recommendations finished on 10000/39037 queries. users per second: 165761</pre>"
      ],
      "text/plain": [
       "recommendations finished on 10000/39037 queries. users per second: 165761"
      ]
     },
     "metadata": {
      "tags": []
     },
     "output_type": "display_data"
    },
    {
     "data": {
      "text/html": [
       "<pre>recommendations finished on 11000/39037 queries. users per second: 165635</pre>"
      ],
      "text/plain": [
       "recommendations finished on 11000/39037 queries. users per second: 165635"
      ]
     },
     "metadata": {
      "tags": []
     },
     "output_type": "display_data"
    },
    {
     "data": {
      "text/html": [
       "<pre>recommendations finished on 12000/39037 queries. users per second: 166408</pre>"
      ],
      "text/plain": [
       "recommendations finished on 12000/39037 queries. users per second: 166408"
      ]
     },
     "metadata": {
      "tags": []
     },
     "output_type": "display_data"
    },
    {
     "data": {
      "text/html": [
       "<pre>recommendations finished on 13000/39037 queries. users per second: 165761</pre>"
      ],
      "text/plain": [
       "recommendations finished on 13000/39037 queries. users per second: 165761"
      ]
     },
     "metadata": {
      "tags": []
     },
     "output_type": "display_data"
    },
    {
     "data": {
      "text/html": [
       "<pre>recommendations finished on 14000/39037 queries. users per second: 167204</pre>"
      ],
      "text/plain": [
       "recommendations finished on 14000/39037 queries. users per second: 167204"
      ]
     },
     "metadata": {
      "tags": []
     },
     "output_type": "display_data"
    },
    {
     "data": {
      "text/html": [
       "<pre>recommendations finished on 15000/39037 queries. users per second: 164645</pre>"
      ],
      "text/plain": [
       "recommendations finished on 15000/39037 queries. users per second: 164645"
      ]
     },
     "metadata": {
      "tags": []
     },
     "output_type": "display_data"
    },
    {
     "data": {
      "text/html": [
       "<pre>recommendations finished on 16000/39037 queries. users per second: 164906</pre>"
      ],
      "text/plain": [
       "recommendations finished on 16000/39037 queries. users per second: 164906"
      ]
     },
     "metadata": {
      "tags": []
     },
     "output_type": "display_data"
    },
    {
     "data": {
      "text/html": [
       "<pre>recommendations finished on 17000/39037 queries. users per second: 164997</pre>"
      ],
      "text/plain": [
       "recommendations finished on 17000/39037 queries. users per second: 164997"
      ]
     },
     "metadata": {
      "tags": []
     },
     "output_type": "display_data"
    },
    {
     "data": {
      "text/html": [
       "<pre>recommendations finished on 18000/39037 queries. users per second: 166892</pre>"
      ],
      "text/plain": [
       "recommendations finished on 18000/39037 queries. users per second: 166892"
      ]
     },
     "metadata": {
      "tags": []
     },
     "output_type": "display_data"
    },
    {
     "data": {
      "text/html": [
       "<pre>recommendations finished on 19000/39037 queries. users per second: 166006</pre>"
      ],
      "text/plain": [
       "recommendations finished on 19000/39037 queries. users per second: 166006"
      ]
     },
     "metadata": {
      "tags": []
     },
     "output_type": "display_data"
    },
    {
     "data": {
      "text/html": [
       "<pre>recommendations finished on 20000/39037 queries. users per second: 167311</pre>"
      ],
      "text/plain": [
       "recommendations finished on 20000/39037 queries. users per second: 167311"
      ]
     },
     "metadata": {
      "tags": []
     },
     "output_type": "display_data"
    },
    {
     "data": {
      "text/html": [
       "<pre>recommendations finished on 21000/39037 queries. users per second: 167572</pre>"
      ],
      "text/plain": [
       "recommendations finished on 21000/39037 queries. users per second: 167572"
      ]
     },
     "metadata": {
      "tags": []
     },
     "output_type": "display_data"
    },
    {
     "data": {
      "text/html": [
       "<pre>recommendations finished on 22000/39037 queries. users per second: 168080</pre>"
      ],
      "text/plain": [
       "recommendations finished on 22000/39037 queries. users per second: 168080"
      ]
     },
     "metadata": {
      "tags": []
     },
     "output_type": "display_data"
    },
    {
     "data": {
      "text/html": [
       "<pre>recommendations finished on 23000/39037 queries. users per second: 167145</pre>"
      ],
      "text/plain": [
       "recommendations finished on 23000/39037 queries. users per second: 167145"
      ]
     },
     "metadata": {
      "tags": []
     },
     "output_type": "display_data"
    },
    {
     "data": {
      "text/html": [
       "<pre>recommendations finished on 24000/39037 queries. users per second: 168532</pre>"
      ],
      "text/plain": [
       "recommendations finished on 24000/39037 queries. users per second: 168532"
      ]
     },
     "metadata": {
      "tags": []
     },
     "output_type": "display_data"
    },
    {
     "data": {
      "text/html": [
       "<pre>recommendations finished on 25000/39037 queries. users per second: 168221</pre>"
      ],
      "text/plain": [
       "recommendations finished on 25000/39037 queries. users per second: 168221"
      ]
     },
     "metadata": {
      "tags": []
     },
     "output_type": "display_data"
    },
    {
     "data": {
      "text/html": [
       "<pre>recommendations finished on 26000/39037 queries. users per second: 167103</pre>"
      ],
      "text/plain": [
       "recommendations finished on 26000/39037 queries. users per second: 167103"
      ]
     },
     "metadata": {
      "tags": []
     },
     "output_type": "display_data"
    },
    {
     "data": {
      "text/html": [
       "<pre>recommendations finished on 27000/39037 queries. users per second: 167114</pre>"
      ],
      "text/plain": [
       "recommendations finished on 27000/39037 queries. users per second: 167114"
      ]
     },
     "metadata": {
      "tags": []
     },
     "output_type": "display_data"
    },
    {
     "data": {
      "text/html": [
       "<pre>recommendations finished on 28000/39037 queries. users per second: 167219</pre>"
      ],
      "text/plain": [
       "recommendations finished on 28000/39037 queries. users per second: 167219"
      ]
     },
     "metadata": {
      "tags": []
     },
     "output_type": "display_data"
    },
    {
     "data": {
      "text/html": [
       "<pre>recommendations finished on 29000/39037 queries. users per second: 162031</pre>"
      ],
      "text/plain": [
       "recommendations finished on 29000/39037 queries. users per second: 162031"
      ]
     },
     "metadata": {
      "tags": []
     },
     "output_type": "display_data"
    },
    {
     "data": {
      "text/html": [
       "<pre>recommendations finished on 30000/39037 queries. users per second: 159772</pre>"
      ],
      "text/plain": [
       "recommendations finished on 30000/39037 queries. users per second: 159772"
      ]
     },
     "metadata": {
      "tags": []
     },
     "output_type": "display_data"
    },
    {
     "data": {
      "text/html": [
       "<pre>recommendations finished on 31000/39037 queries. users per second: 160063</pre>"
      ],
      "text/plain": [
       "recommendations finished on 31000/39037 queries. users per second: 160063"
      ]
     },
     "metadata": {
      "tags": []
     },
     "output_type": "display_data"
    },
    {
     "data": {
      "text/html": [
       "<pre>recommendations finished on 32000/39037 queries. users per second: 155320</pre>"
      ],
      "text/plain": [
       "recommendations finished on 32000/39037 queries. users per second: 155320"
      ]
     },
     "metadata": {
      "tags": []
     },
     "output_type": "display_data"
    },
    {
     "data": {
      "text/html": [
       "<pre>recommendations finished on 33000/39037 queries. users per second: 149869</pre>"
      ],
      "text/plain": [
       "recommendations finished on 33000/39037 queries. users per second: 149869"
      ]
     },
     "metadata": {
      "tags": []
     },
     "output_type": "display_data"
    },
    {
     "data": {
      "text/html": [
       "<pre>recommendations finished on 34000/39037 queries. users per second: 148208</pre>"
      ],
      "text/plain": [
       "recommendations finished on 34000/39037 queries. users per second: 148208"
      ]
     },
     "metadata": {
      "tags": []
     },
     "output_type": "display_data"
    },
    {
     "data": {
      "text/html": [
       "<pre>recommendations finished on 35000/39037 queries. users per second: 148181</pre>"
      ],
      "text/plain": [
       "recommendations finished on 35000/39037 queries. users per second: 148181"
      ]
     },
     "metadata": {
      "tags": []
     },
     "output_type": "display_data"
    },
    {
     "data": {
      "text/html": [
       "<pre>recommendations finished on 36000/39037 queries. users per second: 147378</pre>"
      ],
      "text/plain": [
       "recommendations finished on 36000/39037 queries. users per second: 147378"
      ]
     },
     "metadata": {
      "tags": []
     },
     "output_type": "display_data"
    },
    {
     "data": {
      "text/html": [
       "<pre>recommendations finished on 37000/39037 queries. users per second: 143586</pre>"
      ],
      "text/plain": [
       "recommendations finished on 37000/39037 queries. users per second: 143586"
      ]
     },
     "metadata": {
      "tags": []
     },
     "output_type": "display_data"
    },
    {
     "data": {
      "text/html": [
       "<pre>recommendations finished on 38000/39037 queries. users per second: 144386</pre>"
      ],
      "text/plain": [
       "recommendations finished on 38000/39037 queries. users per second: 144386"
      ]
     },
     "metadata": {
      "tags": []
     },
     "output_type": "display_data"
    },
    {
     "data": {
      "text/html": [
       "<pre>recommendations finished on 39000/39037 queries. users per second: 144690</pre>"
      ],
      "text/plain": [
       "recommendations finished on 39000/39037 queries. users per second: 144690"
      ]
     },
     "metadata": {
      "tags": []
     },
     "output_type": "display_data"
    },
    {
     "name": "stdout",
     "output_type": "stream",
     "text": [
      "+------------+---------------------+--------------------+------+\n",
      "| customerId |      productId      |       score        | rank |\n",
      "+------------+---------------------+--------------------+------+\n",
      "|     0      |   Cajas y Cajones   | 1.8294897135591852 |  1   |\n",
      "|     0      |       Muebles       | 1.6835220197453264 |  2   |\n",
      "|     0      |      Almohadas      | 1.5889892754379664 |  3   |\n",
      "|     0      |     Almohadones     | 1.471116773578947  |  4   |\n",
      "|     0      |      Mantelería     | 1.298648251849011  |  5   |\n",
      "|     0      |        Sillas       | 1.265068066153822  |  6   |\n",
      "|     0      |       Placard       | 1.241813355374248  |  7   |\n",
      "|     0      |       Cortinas      | 1.1777991313102107 |  8   |\n",
      "|     0      | Jabones y Jaboneras | 1.1552213117271306 |  9   |\n",
      "|     0      |      Alfombras      | 1.1431945133536763 |  10  |\n",
      "|     2      |   Cajas y Cajones   | 1.8295620437956202 |  1   |\n",
      "|     2      |       Muebles       | 1.697882238985515  |  2   |\n",
      "|     2      |      Almohadas      | 1.6222310540501033 |  3   |\n",
      "|     2      |     Almohadones     | 1.493223719093626  |  4   |\n",
      "|     2      |      Mantelería     | 1.334755315142468  |  5   |\n",
      "|     2      |        Sillas       | 1.2861706436017133 |  6   |\n",
      "|     2      |       Placard       | 1.2565102514504505 |  7   |\n",
      "|     2      |       Cortinas      | 1.1966625410678249 |  8   |\n",
      "|     2      | Jabones y Jaboneras | 1.1616670176177861 |  9   |\n",
      "|     2      |       Sábanas       | 1.1570823227090632 |  10  |\n",
      "|     5      |   Cajas y Cajones   | 1.8299389835691797 |  1   |\n",
      "|     5      |       Muebles       | 1.6880702415718798 |  2   |\n",
      "|     5      |      Almohadas      | 1.6091336486164485 |  3   |\n",
      "|     5      |     Almohadones     | 1.487116448376005  |  4   |\n",
      "|     5      |      Mantelería     | 1.3112675684269224 |  5   |\n",
      "|     5      |        Sillas       | 1.270447772774992  |  6   |\n",
      "|     5      | Toallas y Toallones | 1.2676578590908996 |  7   |\n",
      "|     5      |       Placard       | 1.2452120718239856 |  8   |\n",
      "|     5      |       Cortinas      | 1.184434767401443  |  9   |\n",
      "|     5      | Jabones y Jaboneras | 1.1578955337196233 |  10  |\n",
      "+------------+---------------------+--------------------+------+\n",
      "[390370 rows x 4 columns]\n",
      "\n"
     ]
    },
    {
     "data": {
      "text/plain": [
       "Class                            : ItemSimilarityRecommender\n",
       "\n",
       "Schema\n",
       "------\n",
       "User ID                          : customerId\n",
       "Item ID                          : productId\n",
       "Target                           : purchase_count\n",
       "Additional observation features  : 0\n",
       "User side features               : []\n",
       "Item side features               : []\n",
       "\n",
       "Statistics\n",
       "----------\n",
       "Number of observations           : 197486\n",
       "Number of users                  : 39015\n",
       "Number of items                  : 27\n",
       "\n",
       "Training summary\n",
       "----------------\n",
       "Training time                    : 0.0757\n",
       "\n",
       "Model Parameters\n",
       "----------------\n",
       "Model class                      : ItemSimilarityRecommender\n",
       "threshold                        : 0.001\n",
       "similarity_type                  : pearson\n",
       "training_method                  : auto\n",
       "\n",
       "Other Settings\n",
       "--------------\n",
       "degree_approximation_threshold   : 4096\n",
       "max_data_passes                  : 4096\n",
       "max_item_neighborhood_size       : 64\n",
       "nearest_neighbors_interaction_proportion_threshold : 0.05\n",
       "seed_item_set_size               : 50\n",
       "sparse_density_estimation_sample_size : 4096\n",
       "target_memory_usage              : 8589934592"
      ]
     },
     "execution_count": 25,
     "metadata": {
      "tags": []
     },
     "output_type": "execute_result"
    }
   ],
   "source": [
    "# i. Usando el conteo de compras\n",
    "name = 'pearson'\n",
    "target = 'purchase_count'\n",
    "pear = model(train_data, name, user_id, item_id, target, users_to_recommend, n_rec, n_display)\n",
    "pear"
   ]
  },
  {
   "cell_type": "code",
   "execution_count": 26,
   "metadata": {
    "colab": {
     "base_uri": "https://localhost:8080/",
     "height": 0
    },
    "colab_type": "code",
    "id": "fqyyPF8pln4a",
    "outputId": "e5e74fc7-9b79-4f31-aa1c-95fd8b865bd1"
   },
   "outputs": [
    {
     "data": {
      "text/html": [
       "<pre>Warning: Ignoring columns purchase_count;</pre>"
      ],
      "text/plain": [
       "Warning: Ignoring columns purchase_count;"
      ]
     },
     "metadata": {
      "tags": []
     },
     "output_type": "display_data"
    },
    {
     "data": {
      "text/html": [
       "<pre>    To use these columns in scoring predictions, use a model that allows the use of additional features.</pre>"
      ],
      "text/plain": [
       "    To use these columns in scoring predictions, use a model that allows the use of additional features."
      ]
     },
     "metadata": {
      "tags": []
     },
     "output_type": "display_data"
    },
    {
     "data": {
      "text/html": [
       "<pre>Preparing data set.</pre>"
      ],
      "text/plain": [
       "Preparing data set."
      ]
     },
     "metadata": {
      "tags": []
     },
     "output_type": "display_data"
    },
    {
     "data": {
      "text/html": [
       "<pre>    Data has 197486 observations with 39017 users and 27 items.</pre>"
      ],
      "text/plain": [
       "    Data has 197486 observations with 39017 users and 27 items."
      ]
     },
     "metadata": {
      "tags": []
     },
     "output_type": "display_data"
    },
    {
     "data": {
      "text/html": [
       "<pre>    Data prepared in: 0.223677s</pre>"
      ],
      "text/plain": [
       "    Data prepared in: 0.223677s"
      ]
     },
     "metadata": {
      "tags": []
     },
     "output_type": "display_data"
    },
    {
     "data": {
      "text/html": [
       "<pre>Training model from provided data.</pre>"
      ],
      "text/plain": [
       "Training model from provided data."
      ]
     },
     "metadata": {
      "tags": []
     },
     "output_type": "display_data"
    },
    {
     "data": {
      "text/html": [
       "<pre>Gathering per-item and per-user statistics.</pre>"
      ],
      "text/plain": [
       "Gathering per-item and per-user statistics."
      ]
     },
     "metadata": {
      "tags": []
     },
     "output_type": "display_data"
    },
    {
     "data": {
      "text/html": [
       "<pre>+--------------------------------+------------+</pre>"
      ],
      "text/plain": [
       "+--------------------------------+------------+"
      ]
     },
     "metadata": {
      "tags": []
     },
     "output_type": "display_data"
    },
    {
     "data": {
      "text/html": [
       "<pre>| Elapsed Time (Item Statistics) | % Complete |</pre>"
      ],
      "text/plain": [
       "| Elapsed Time (Item Statistics) | % Complete |"
      ]
     },
     "metadata": {
      "tags": []
     },
     "output_type": "display_data"
    },
    {
     "data": {
      "text/html": [
       "<pre>+--------------------------------+------------+</pre>"
      ],
      "text/plain": [
       "+--------------------------------+------------+"
      ]
     },
     "metadata": {
      "tags": []
     },
     "output_type": "display_data"
    },
    {
     "data": {
      "text/html": [
       "<pre>| 1.153ms                        | 2.5        |</pre>"
      ],
      "text/plain": [
       "| 1.153ms                        | 2.5        |"
      ]
     },
     "metadata": {
      "tags": []
     },
     "output_type": "display_data"
    },
    {
     "data": {
      "text/html": [
       "<pre>| 15.451ms                       | 100        |</pre>"
      ],
      "text/plain": [
       "| 15.451ms                       | 100        |"
      ]
     },
     "metadata": {
      "tags": []
     },
     "output_type": "display_data"
    },
    {
     "data": {
      "text/html": [
       "<pre>+--------------------------------+------------+</pre>"
      ],
      "text/plain": [
       "+--------------------------------+------------+"
      ]
     },
     "metadata": {
      "tags": []
     },
     "output_type": "display_data"
    },
    {
     "data": {
      "text/html": [
       "<pre>Setting up lookup tables.</pre>"
      ],
      "text/plain": [
       "Setting up lookup tables."
      ]
     },
     "metadata": {
      "tags": []
     },
     "output_type": "display_data"
    },
    {
     "data": {
      "text/html": [
       "<pre>Processing data in one pass using dense lookup tables.</pre>"
      ],
      "text/plain": [
       "Processing data in one pass using dense lookup tables."
      ]
     },
     "metadata": {
      "tags": []
     },
     "output_type": "display_data"
    },
    {
     "data": {
      "text/html": [
       "<pre>+-------------------------------------+------------------+-----------------+</pre>"
      ],
      "text/plain": [
       "+-------------------------------------+------------------+-----------------+"
      ]
     },
     "metadata": {
      "tags": []
     },
     "output_type": "display_data"
    },
    {
     "data": {
      "text/html": [
       "<pre>| Elapsed Time (Constructing Lookups) | Total % Complete | Items Processed |</pre>"
      ],
      "text/plain": [
       "| Elapsed Time (Constructing Lookups) | Total % Complete | Items Processed |"
      ]
     },
     "metadata": {
      "tags": []
     },
     "output_type": "display_data"
    },
    {
     "data": {
      "text/html": [
       "<pre>+-------------------------------------+------------------+-----------------+</pre>"
      ],
      "text/plain": [
       "+-------------------------------------+------------------+-----------------+"
      ]
     },
     "metadata": {
      "tags": []
     },
     "output_type": "display_data"
    },
    {
     "data": {
      "text/html": [
       "<pre>| 15.972ms                            | 0                | 0               |</pre>"
      ],
      "text/plain": [
       "| 15.972ms                            | 0                | 0               |"
      ]
     },
     "metadata": {
      "tags": []
     },
     "output_type": "display_data"
    },
    {
     "data": {
      "text/html": [
       "<pre>| 30.631ms                            | 100              | 27              |</pre>"
      ],
      "text/plain": [
       "| 30.631ms                            | 100              | 27              |"
      ]
     },
     "metadata": {
      "tags": []
     },
     "output_type": "display_data"
    },
    {
     "data": {
      "text/html": [
       "<pre>+-------------------------------------+------------------+-----------------+</pre>"
      ],
      "text/plain": [
       "+-------------------------------------+------------------+-----------------+"
      ]
     },
     "metadata": {
      "tags": []
     },
     "output_type": "display_data"
    },
    {
     "data": {
      "text/html": [
       "<pre>Finalizing lookup tables.</pre>"
      ],
      "text/plain": [
       "Finalizing lookup tables."
      ]
     },
     "metadata": {
      "tags": []
     },
     "output_type": "display_data"
    },
    {
     "data": {
      "text/html": [
       "<pre>Generating candidate set for working with new users.</pre>"
      ],
      "text/plain": [
       "Generating candidate set for working with new users."
      ]
     },
     "metadata": {
      "tags": []
     },
     "output_type": "display_data"
    },
    {
     "data": {
      "text/html": [
       "<pre>Finished training in 0.052278s</pre>"
      ],
      "text/plain": [
       "Finished training in 0.052278s"
      ]
     },
     "metadata": {
      "tags": []
     },
     "output_type": "display_data"
    },
    {
     "data": {
      "text/html": [
       "<pre>recommendations finished on 1000/39037 queries. users per second: 108120</pre>"
      ],
      "text/plain": [
       "recommendations finished on 1000/39037 queries. users per second: 108120"
      ]
     },
     "metadata": {
      "tags": []
     },
     "output_type": "display_data"
    },
    {
     "data": {
      "text/html": [
       "<pre>recommendations finished on 2000/39037 queries. users per second: 129249</pre>"
      ],
      "text/plain": [
       "recommendations finished on 2000/39037 queries. users per second: 129249"
      ]
     },
     "metadata": {
      "tags": []
     },
     "output_type": "display_data"
    },
    {
     "data": {
      "text/html": [
       "<pre>recommendations finished on 3000/39037 queries. users per second: 141483</pre>"
      ],
      "text/plain": [
       "recommendations finished on 3000/39037 queries. users per second: 141483"
      ]
     },
     "metadata": {
      "tags": []
     },
     "output_type": "display_data"
    },
    {
     "data": {
      "text/html": [
       "<pre>recommendations finished on 4000/39037 queries. users per second: 153923</pre>"
      ],
      "text/plain": [
       "recommendations finished on 4000/39037 queries. users per second: 153923"
      ]
     },
     "metadata": {
      "tags": []
     },
     "output_type": "display_data"
    },
    {
     "data": {
      "text/html": [
       "<pre>recommendations finished on 5000/39037 queries. users per second: 156011</pre>"
      ],
      "text/plain": [
       "recommendations finished on 5000/39037 queries. users per second: 156011"
      ]
     },
     "metadata": {
      "tags": []
     },
     "output_type": "display_data"
    },
    {
     "data": {
      "text/html": [
       "<pre>recommendations finished on 6000/39037 queries. users per second: 157134</pre>"
      ],
      "text/plain": [
       "recommendations finished on 6000/39037 queries. users per second: 157134"
      ]
     },
     "metadata": {
      "tags": []
     },
     "output_type": "display_data"
    },
    {
     "data": {
      "text/html": [
       "<pre>recommendations finished on 7000/39037 queries. users per second: 160190</pre>"
      ],
      "text/plain": [
       "recommendations finished on 7000/39037 queries. users per second: 160190"
      ]
     },
     "metadata": {
      "tags": []
     },
     "output_type": "display_data"
    },
    {
     "data": {
      "text/html": [
       "<pre>recommendations finished on 8000/39037 queries. users per second: 165347</pre>"
      ],
      "text/plain": [
       "recommendations finished on 8000/39037 queries. users per second: 165347"
      ]
     },
     "metadata": {
      "tags": []
     },
     "output_type": "display_data"
    },
    {
     "data": {
      "text/html": [
       "<pre>recommendations finished on 9000/39037 queries. users per second: 163657</pre>"
      ],
      "text/plain": [
       "recommendations finished on 9000/39037 queries. users per second: 163657"
      ]
     },
     "metadata": {
      "tags": []
     },
     "output_type": "display_data"
    },
    {
     "data": {
      "text/html": [
       "<pre>recommendations finished on 10000/39037 queries. users per second: 165848</pre>"
      ],
      "text/plain": [
       "recommendations finished on 10000/39037 queries. users per second: 165848"
      ]
     },
     "metadata": {
      "tags": []
     },
     "output_type": "display_data"
    },
    {
     "data": {
      "text/html": [
       "<pre>recommendations finished on 11000/39037 queries. users per second: 166996</pre>"
      ],
      "text/plain": [
       "recommendations finished on 11000/39037 queries. users per second: 166996"
      ]
     },
     "metadata": {
      "tags": []
     },
     "output_type": "display_data"
    },
    {
     "data": {
      "text/html": [
       "<pre>recommendations finished on 12000/39037 queries. users per second: 163546</pre>"
      ],
      "text/plain": [
       "recommendations finished on 12000/39037 queries. users per second: 163546"
      ]
     },
     "metadata": {
      "tags": []
     },
     "output_type": "display_data"
    },
    {
     "data": {
      "text/html": [
       "<pre>recommendations finished on 13000/39037 queries. users per second: 166115</pre>"
      ],
      "text/plain": [
       "recommendations finished on 13000/39037 queries. users per second: 166115"
      ]
     },
     "metadata": {
      "tags": []
     },
     "output_type": "display_data"
    },
    {
     "data": {
      "text/html": [
       "<pre>recommendations finished on 14000/39037 queries. users per second: 165726</pre>"
      ],
      "text/plain": [
       "recommendations finished on 14000/39037 queries. users per second: 165726"
      ]
     },
     "metadata": {
      "tags": []
     },
     "output_type": "display_data"
    },
    {
     "data": {
      "text/html": [
       "<pre>recommendations finished on 15000/39037 queries. users per second: 165420</pre>"
      ],
      "text/plain": [
       "recommendations finished on 15000/39037 queries. users per second: 165420"
      ]
     },
     "metadata": {
      "tags": []
     },
     "output_type": "display_data"
    },
    {
     "data": {
      "text/html": [
       "<pre>recommendations finished on 16000/39037 queries. users per second: 164145</pre>"
      ],
      "text/plain": [
       "recommendations finished on 16000/39037 queries. users per second: 164145"
      ]
     },
     "metadata": {
      "tags": []
     },
     "output_type": "display_data"
    },
    {
     "data": {
      "text/html": [
       "<pre>recommendations finished on 17000/39037 queries. users per second: 164764</pre>"
      ],
      "text/plain": [
       "recommendations finished on 17000/39037 queries. users per second: 164764"
      ]
     },
     "metadata": {
      "tags": []
     },
     "output_type": "display_data"
    },
    {
     "data": {
      "text/html": [
       "<pre>recommendations finished on 18000/39037 queries. users per second: 164950</pre>"
      ],
      "text/plain": [
       "recommendations finished on 18000/39037 queries. users per second: 164950"
      ]
     },
     "metadata": {
      "tags": []
     },
     "output_type": "display_data"
    },
    {
     "data": {
      "text/html": [
       "<pre>recommendations finished on 19000/39037 queries. users per second: 165504</pre>"
      ],
      "text/plain": [
       "recommendations finished on 19000/39037 queries. users per second: 165504"
      ]
     },
     "metadata": {
      "tags": []
     },
     "output_type": "display_data"
    },
    {
     "data": {
      "text/html": [
       "<pre>recommendations finished on 20000/39037 queries. users per second: 166528</pre>"
      ],
      "text/plain": [
       "recommendations finished on 20000/39037 queries. users per second: 166528"
      ]
     },
     "metadata": {
      "tags": []
     },
     "output_type": "display_data"
    },
    {
     "data": {
      "text/html": [
       "<pre>recommendations finished on 21000/39037 queries. users per second: 167171</pre>"
      ],
      "text/plain": [
       "recommendations finished on 21000/39037 queries. users per second: 167171"
      ]
     },
     "metadata": {
      "tags": []
     },
     "output_type": "display_data"
    },
    {
     "data": {
      "text/html": [
       "<pre>recommendations finished on 22000/39037 queries. users per second: 164409</pre>"
      ],
      "text/plain": [
       "recommendations finished on 22000/39037 queries. users per second: 164409"
      ]
     },
     "metadata": {
      "tags": []
     },
     "output_type": "display_data"
    },
    {
     "data": {
      "text/html": [
       "<pre>recommendations finished on 23000/39037 queries. users per second: 163783</pre>"
      ],
      "text/plain": [
       "recommendations finished on 23000/39037 queries. users per second: 163783"
      ]
     },
     "metadata": {
      "tags": []
     },
     "output_type": "display_data"
    },
    {
     "data": {
      "text/html": [
       "<pre>recommendations finished on 24000/39037 queries. users per second: 164527</pre>"
      ],
      "text/plain": [
       "recommendations finished on 24000/39037 queries. users per second: 164527"
      ]
     },
     "metadata": {
      "tags": []
     },
     "output_type": "display_data"
    },
    {
     "data": {
      "text/html": [
       "<pre>recommendations finished on 25000/39037 queries. users per second: 164624</pre>"
      ],
      "text/plain": [
       "recommendations finished on 25000/39037 queries. users per second: 164624"
      ]
     },
     "metadata": {
      "tags": []
     },
     "output_type": "display_data"
    },
    {
     "data": {
      "text/html": [
       "<pre>recommendations finished on 26000/39037 queries. users per second: 164954</pre>"
      ],
      "text/plain": [
       "recommendations finished on 26000/39037 queries. users per second: 164954"
      ]
     },
     "metadata": {
      "tags": []
     },
     "output_type": "display_data"
    },
    {
     "data": {
      "text/html": [
       "<pre>recommendations finished on 27000/39037 queries. users per second: 162977</pre>"
      ],
      "text/plain": [
       "recommendations finished on 27000/39037 queries. users per second: 162977"
      ]
     },
     "metadata": {
      "tags": []
     },
     "output_type": "display_data"
    },
    {
     "data": {
      "text/html": [
       "<pre>recommendations finished on 28000/39037 queries. users per second: 152895</pre>"
      ],
      "text/plain": [
       "recommendations finished on 28000/39037 queries. users per second: 152895"
      ]
     },
     "metadata": {
      "tags": []
     },
     "output_type": "display_data"
    },
    {
     "data": {
      "text/html": [
       "<pre>recommendations finished on 29000/39037 queries. users per second: 152590</pre>"
      ],
      "text/plain": [
       "recommendations finished on 29000/39037 queries. users per second: 152590"
      ]
     },
     "metadata": {
      "tags": []
     },
     "output_type": "display_data"
    },
    {
     "data": {
      "text/html": [
       "<pre>recommendations finished on 30000/39037 queries. users per second: 152184</pre>"
      ],
      "text/plain": [
       "recommendations finished on 30000/39037 queries. users per second: 152184"
      ]
     },
     "metadata": {
      "tags": []
     },
     "output_type": "display_data"
    },
    {
     "data": {
      "text/html": [
       "<pre>recommendations finished on 31000/39037 queries. users per second: 153282</pre>"
      ],
      "text/plain": [
       "recommendations finished on 31000/39037 queries. users per second: 153282"
      ]
     },
     "metadata": {
      "tags": []
     },
     "output_type": "display_data"
    },
    {
     "data": {
      "text/html": [
       "<pre>recommendations finished on 32000/39037 queries. users per second: 154321</pre>"
      ],
      "text/plain": [
       "recommendations finished on 32000/39037 queries. users per second: 154321"
      ]
     },
     "metadata": {
      "tags": []
     },
     "output_type": "display_data"
    },
    {
     "data": {
      "text/html": [
       "<pre>recommendations finished on 33000/39037 queries. users per second: 155756</pre>"
      ],
      "text/plain": [
       "recommendations finished on 33000/39037 queries. users per second: 155756"
      ]
     },
     "metadata": {
      "tags": []
     },
     "output_type": "display_data"
    },
    {
     "data": {
      "text/html": [
       "<pre>recommendations finished on 34000/39037 queries. users per second: 155296</pre>"
      ],
      "text/plain": [
       "recommendations finished on 34000/39037 queries. users per second: 155296"
      ]
     },
     "metadata": {
      "tags": []
     },
     "output_type": "display_data"
    },
    {
     "data": {
      "text/html": [
       "<pre>recommendations finished on 35000/39037 queries. users per second: 155264</pre>"
      ],
      "text/plain": [
       "recommendations finished on 35000/39037 queries. users per second: 155264"
      ]
     },
     "metadata": {
      "tags": []
     },
     "output_type": "display_data"
    },
    {
     "data": {
      "text/html": [
       "<pre>recommendations finished on 36000/39037 queries. users per second: 155303</pre>"
      ],
      "text/plain": [
       "recommendations finished on 36000/39037 queries. users per second: 155303"
      ]
     },
     "metadata": {
      "tags": []
     },
     "output_type": "display_data"
    },
    {
     "data": {
      "text/html": [
       "<pre>recommendations finished on 37000/39037 queries. users per second: 156175</pre>"
      ],
      "text/plain": [
       "recommendations finished on 37000/39037 queries. users per second: 156175"
      ]
     },
     "metadata": {
      "tags": []
     },
     "output_type": "display_data"
    },
    {
     "data": {
      "text/html": [
       "<pre>recommendations finished on 38000/39037 queries. users per second: 155694</pre>"
      ],
      "text/plain": [
       "recommendations finished on 38000/39037 queries. users per second: 155694"
      ]
     },
     "metadata": {
      "tags": []
     },
     "output_type": "display_data"
    },
    {
     "data": {
      "text/html": [
       "<pre>recommendations finished on 39000/39037 queries. users per second: 155871</pre>"
      ],
      "text/plain": [
       "recommendations finished on 39000/39037 queries. users per second: 155871"
      ]
     },
     "metadata": {
      "tags": []
     },
     "output_type": "display_data"
    },
    {
     "name": "stdout",
     "output_type": "stream",
     "text": [
      "+------------+-----------------------+-------+------+\n",
      "| customerId |       productId       | score | rank |\n",
      "+------------+-----------------------+-------+------+\n",
      "|     0      |         Sillas        |  0.0  |  1   |\n",
      "|     0      |  Jabones y Jaboneras  |  0.0  |  2   |\n",
      "|     0      |       Accesorios      |  0.0  |  3   |\n",
      "|     0      |          Cama         |  0.0  |  4   |\n",
      "|     0      |        Cortinas       |  0.0  |  5   |\n",
      "|     0      |       Alfombras       |  0.0  |  6   |\n",
      "|     0      |       Mantelería      |  0.0  |  7   |\n",
      "|     0      | Acolchados y Frazadas |  0.0  |  8   |\n",
      "|     0      |       Almohadas       |  0.0  |  9   |\n",
      "|     0      |      Almohadones      |  0.0  |  10  |\n",
      "|     2      |  Jabones y Jaboneras  |  0.0  |  1   |\n",
      "|     2      |       Accesorios      |  0.0  |  2   |\n",
      "|     2      |          Cama         |  0.0  |  3   |\n",
      "|     2      |        Cortinas       |  0.0  |  4   |\n",
      "|     2      |       Alfombras       |  0.0  |  5   |\n",
      "|     2      |       Mantelería      |  0.0  |  6   |\n",
      "|     2      | Acolchados y Frazadas |  0.0  |  7   |\n",
      "|     2      |        Sábanas        |  0.0  |  8   |\n",
      "|     2      |       Almohadas       |  0.0  |  9   |\n",
      "|     2      |      Almohadones      |  0.0  |  10  |\n",
      "|     5      |  Jabones y Jaboneras  |  0.0  |  1   |\n",
      "|     5      |       Accesorios      |  0.0  |  2   |\n",
      "|     5      |          Cama         |  0.0  |  3   |\n",
      "|     5      |        Cortinas       |  0.0  |  4   |\n",
      "|     5      |       Alfombras       |  0.0  |  5   |\n",
      "|     5      |       Mantelería      |  0.0  |  6   |\n",
      "|     5      |  Toallas y Toallones  |  0.0  |  7   |\n",
      "|     5      | Acolchados y Frazadas |  0.0  |  8   |\n",
      "|     5      |       Almohadas       |  0.0  |  9   |\n",
      "|     5      |      Almohadones      |  0.0  |  10  |\n",
      "+------------+-----------------------+-------+------+\n",
      "[390370 rows x 4 columns]\n",
      "\n"
     ]
    },
    {
     "data": {
      "text/plain": [
       "Class                            : ItemSimilarityRecommender\n",
       "\n",
       "Schema\n",
       "------\n",
       "User ID                          : customerId\n",
       "Item ID                          : productId\n",
       "Target                           : purchase_dummy\n",
       "Additional observation features  : 0\n",
       "User side features               : []\n",
       "Item side features               : []\n",
       "\n",
       "Statistics\n",
       "----------\n",
       "Number of observations           : 197486\n",
       "Number of users                  : 39017\n",
       "Number of items                  : 27\n",
       "\n",
       "Training summary\n",
       "----------------\n",
       "Training time                    : 0.0523\n",
       "\n",
       "Model Parameters\n",
       "----------------\n",
       "Model class                      : ItemSimilarityRecommender\n",
       "threshold                        : 0.001\n",
       "similarity_type                  : pearson\n",
       "training_method                  : auto\n",
       "\n",
       "Other Settings\n",
       "--------------\n",
       "degree_approximation_threshold   : 4096\n",
       "max_data_passes                  : 4096\n",
       "max_item_neighborhood_size       : 64\n",
       "nearest_neighbors_interaction_proportion_threshold : 0.05\n",
       "seed_item_set_size               : 50\n",
       "sparse_density_estimation_sample_size : 4096\n",
       "target_memory_usage              : 8589934592"
      ]
     },
     "execution_count": 26,
     "metadata": {
      "tags": []
     },
     "output_type": "execute_result"
    }
   ],
   "source": [
    "# ii. Usando el dummy de compras\n",
    "name = 'pearson'\n",
    "target = 'purchase_dummy'\n",
    "pear_dummy = model(train_data_dummy, name, user_id, item_id, target, users_to_recommend, n_rec, n_display)\n",
    "pear_dummy"
   ]
  },
  {
   "cell_type": "code",
   "execution_count": 27,
   "metadata": {
    "colab": {
     "base_uri": "https://localhost:8080/",
     "height": 0
    },
    "colab_type": "code",
    "id": "TJUQUaTbln4o",
    "outputId": "3f1a86c7-09be-4fa4-f0a1-94a38cc8ba4c"
   },
   "outputs": [
    {
     "data": {
      "text/html": [
       "<pre>Preparing data set.</pre>"
      ],
      "text/plain": [
       "Preparing data set."
      ]
     },
     "metadata": {
      "tags": []
     },
     "output_type": "display_data"
    },
    {
     "data": {
      "text/html": [
       "<pre>    Data has 95045 observations with 37673 users and 27 items.</pre>"
      ],
      "text/plain": [
       "    Data has 95045 observations with 37673 users and 27 items."
      ]
     },
     "metadata": {
      "tags": []
     },
     "output_type": "display_data"
    },
    {
     "data": {
      "text/html": [
       "<pre>    Data prepared in: 0.134917s</pre>"
      ],
      "text/plain": [
       "    Data prepared in: 0.134917s"
      ]
     },
     "metadata": {
      "tags": []
     },
     "output_type": "display_data"
    },
    {
     "data": {
      "text/html": [
       "<pre>Training model from provided data.</pre>"
      ],
      "text/plain": [
       "Training model from provided data."
      ]
     },
     "metadata": {
      "tags": []
     },
     "output_type": "display_data"
    },
    {
     "data": {
      "text/html": [
       "<pre>Gathering per-item and per-user statistics.</pre>"
      ],
      "text/plain": [
       "Gathering per-item and per-user statistics."
      ]
     },
     "metadata": {
      "tags": []
     },
     "output_type": "display_data"
    },
    {
     "data": {
      "text/html": [
       "<pre>+--------------------------------+------------+</pre>"
      ],
      "text/plain": [
       "+--------------------------------+------------+"
      ]
     },
     "metadata": {
      "tags": []
     },
     "output_type": "display_data"
    },
    {
     "data": {
      "text/html": [
       "<pre>| Elapsed Time (Item Statistics) | % Complete |</pre>"
      ],
      "text/plain": [
       "| Elapsed Time (Item Statistics) | % Complete |"
      ]
     },
     "metadata": {
      "tags": []
     },
     "output_type": "display_data"
    },
    {
     "data": {
      "text/html": [
       "<pre>+--------------------------------+------------+</pre>"
      ],
      "text/plain": [
       "+--------------------------------+------------+"
      ]
     },
     "metadata": {
      "tags": []
     },
     "output_type": "display_data"
    },
    {
     "data": {
      "text/html": [
       "<pre>| 1.044ms                        | 2.5        |</pre>"
      ],
      "text/plain": [
       "| 1.044ms                        | 2.5        |"
      ]
     },
     "metadata": {
      "tags": []
     },
     "output_type": "display_data"
    },
    {
     "data": {
      "text/html": [
       "<pre>| 17.516ms                       | 100        |</pre>"
      ],
      "text/plain": [
       "| 17.516ms                       | 100        |"
      ]
     },
     "metadata": {
      "tags": []
     },
     "output_type": "display_data"
    },
    {
     "data": {
      "text/html": [
       "<pre>+--------------------------------+------------+</pre>"
      ],
      "text/plain": [
       "+--------------------------------+------------+"
      ]
     },
     "metadata": {
      "tags": []
     },
     "output_type": "display_data"
    },
    {
     "data": {
      "text/html": [
       "<pre>Setting up lookup tables.</pre>"
      ],
      "text/plain": [
       "Setting up lookup tables."
      ]
     },
     "metadata": {
      "tags": []
     },
     "output_type": "display_data"
    },
    {
     "data": {
      "text/html": [
       "<pre>Processing data in one pass using dense lookup tables.</pre>"
      ],
      "text/plain": [
       "Processing data in one pass using dense lookup tables."
      ]
     },
     "metadata": {
      "tags": []
     },
     "output_type": "display_data"
    },
    {
     "data": {
      "text/html": [
       "<pre>+-------------------------------------+------------------+-----------------+</pre>"
      ],
      "text/plain": [
       "+-------------------------------------+------------------+-----------------+"
      ]
     },
     "metadata": {
      "tags": []
     },
     "output_type": "display_data"
    },
    {
     "data": {
      "text/html": [
       "<pre>| Elapsed Time (Constructing Lookups) | Total % Complete | Items Processed |</pre>"
      ],
      "text/plain": [
       "| Elapsed Time (Constructing Lookups) | Total % Complete | Items Processed |"
      ]
     },
     "metadata": {
      "tags": []
     },
     "output_type": "display_data"
    },
    {
     "data": {
      "text/html": [
       "<pre>+-------------------------------------+------------------+-----------------+</pre>"
      ],
      "text/plain": [
       "+-------------------------------------+------------------+-----------------+"
      ]
     },
     "metadata": {
      "tags": []
     },
     "output_type": "display_data"
    },
    {
     "data": {
      "text/html": [
       "<pre>| 19.517ms                            | 0                | 0               |</pre>"
      ],
      "text/plain": [
       "| 19.517ms                            | 0                | 0               |"
      ]
     },
     "metadata": {
      "tags": []
     },
     "output_type": "display_data"
    },
    {
     "data": {
      "text/html": [
       "<pre>| 35.381ms                            | 100              | 27              |</pre>"
      ],
      "text/plain": [
       "| 35.381ms                            | 100              | 27              |"
      ]
     },
     "metadata": {
      "tags": []
     },
     "output_type": "display_data"
    },
    {
     "data": {
      "text/html": [
       "<pre>+-------------------------------------+------------------+-----------------+</pre>"
      ],
      "text/plain": [
       "+-------------------------------------+------------------+-----------------+"
      ]
     },
     "metadata": {
      "tags": []
     },
     "output_type": "display_data"
    },
    {
     "data": {
      "text/html": [
       "<pre>Finalizing lookup tables.</pre>"
      ],
      "text/plain": [
       "Finalizing lookup tables."
      ]
     },
     "metadata": {
      "tags": []
     },
     "output_type": "display_data"
    },
    {
     "data": {
      "text/html": [
       "<pre>Generating candidate set for working with new users.</pre>"
      ],
      "text/plain": [
       "Generating candidate set for working with new users."
      ]
     },
     "metadata": {
      "tags": []
     },
     "output_type": "display_data"
    },
    {
     "data": {
      "text/html": [
       "<pre>Finished training in 0.055411s</pre>"
      ],
      "text/plain": [
       "Finished training in 0.055411s"
      ]
     },
     "metadata": {
      "tags": []
     },
     "output_type": "display_data"
    },
    {
     "data": {
      "text/html": [
       "<pre>recommendations finished on 1000/39037 queries. users per second: 134989</pre>"
      ],
      "text/plain": [
       "recommendations finished on 1000/39037 queries. users per second: 134989"
      ]
     },
     "metadata": {
      "tags": []
     },
     "output_type": "display_data"
    },
    {
     "data": {
      "text/html": [
       "<pre>recommendations finished on 2000/39037 queries. users per second: 134409</pre>"
      ],
      "text/plain": [
       "recommendations finished on 2000/39037 queries. users per second: 134409"
      ]
     },
     "metadata": {
      "tags": []
     },
     "output_type": "display_data"
    },
    {
     "data": {
      "text/html": [
       "<pre>recommendations finished on 3000/39037 queries. users per second: 134668</pre>"
      ],
      "text/plain": [
       "recommendations finished on 3000/39037 queries. users per second: 134668"
      ]
     },
     "metadata": {
      "tags": []
     },
     "output_type": "display_data"
    },
    {
     "data": {
      "text/html": [
       "<pre>recommendations finished on 4000/39037 queries. users per second: 138313</pre>"
      ],
      "text/plain": [
       "recommendations finished on 4000/39037 queries. users per second: 138313"
      ]
     },
     "metadata": {
      "tags": []
     },
     "output_type": "display_data"
    },
    {
     "data": {
      "text/html": [
       "<pre>recommendations finished on 5000/39037 queries. users per second: 136679</pre>"
      ],
      "text/plain": [
       "recommendations finished on 5000/39037 queries. users per second: 136679"
      ]
     },
     "metadata": {
      "tags": []
     },
     "output_type": "display_data"
    },
    {
     "data": {
      "text/html": [
       "<pre>recommendations finished on 6000/39037 queries. users per second: 138252</pre>"
      ],
      "text/plain": [
       "recommendations finished on 6000/39037 queries. users per second: 138252"
      ]
     },
     "metadata": {
      "tags": []
     },
     "output_type": "display_data"
    },
    {
     "data": {
      "text/html": [
       "<pre>recommendations finished on 7000/39037 queries. users per second: 139718</pre>"
      ],
      "text/plain": [
       "recommendations finished on 7000/39037 queries. users per second: 139718"
      ]
     },
     "metadata": {
      "tags": []
     },
     "output_type": "display_data"
    },
    {
     "data": {
      "text/html": [
       "<pre>recommendations finished on 8000/39037 queries. users per second: 141831</pre>"
      ],
      "text/plain": [
       "recommendations finished on 8000/39037 queries. users per second: 141831"
      ]
     },
     "metadata": {
      "tags": []
     },
     "output_type": "display_data"
    },
    {
     "data": {
      "text/html": [
       "<pre>recommendations finished on 9000/39037 queries. users per second: 142466</pre>"
      ],
      "text/plain": [
       "recommendations finished on 9000/39037 queries. users per second: 142466"
      ]
     },
     "metadata": {
      "tags": []
     },
     "output_type": "display_data"
    },
    {
     "data": {
      "text/html": [
       "<pre>recommendations finished on 10000/39037 queries. users per second: 144071</pre>"
      ],
      "text/plain": [
       "recommendations finished on 10000/39037 queries. users per second: 144071"
      ]
     },
     "metadata": {
      "tags": []
     },
     "output_type": "display_data"
    },
    {
     "data": {
      "text/html": [
       "<pre>recommendations finished on 11000/39037 queries. users per second: 142659</pre>"
      ],
      "text/plain": [
       "recommendations finished on 11000/39037 queries. users per second: 142659"
      ]
     },
     "metadata": {
      "tags": []
     },
     "output_type": "display_data"
    },
    {
     "data": {
      "text/html": [
       "<pre>recommendations finished on 12000/39037 queries. users per second: 143172</pre>"
      ],
      "text/plain": [
       "recommendations finished on 12000/39037 queries. users per second: 143172"
      ]
     },
     "metadata": {
      "tags": []
     },
     "output_type": "display_data"
    },
    {
     "data": {
      "text/html": [
       "<pre>recommendations finished on 13000/39037 queries. users per second: 145151</pre>"
      ],
      "text/plain": [
       "recommendations finished on 13000/39037 queries. users per second: 145151"
      ]
     },
     "metadata": {
      "tags": []
     },
     "output_type": "display_data"
    },
    {
     "data": {
      "text/html": [
       "<pre>recommendations finished on 14000/39037 queries. users per second: 145433</pre>"
      ],
      "text/plain": [
       "recommendations finished on 14000/39037 queries. users per second: 145433"
      ]
     },
     "metadata": {
      "tags": []
     },
     "output_type": "display_data"
    },
    {
     "data": {
      "text/html": [
       "<pre>recommendations finished on 15000/39037 queries. users per second: 144971</pre>"
      ],
      "text/plain": [
       "recommendations finished on 15000/39037 queries. users per second: 144971"
      ]
     },
     "metadata": {
      "tags": []
     },
     "output_type": "display_data"
    },
    {
     "data": {
      "text/html": [
       "<pre>recommendations finished on 16000/39037 queries. users per second: 144013</pre>"
      ],
      "text/plain": [
       "recommendations finished on 16000/39037 queries. users per second: 144013"
      ]
     },
     "metadata": {
      "tags": []
     },
     "output_type": "display_data"
    },
    {
     "data": {
      "text/html": [
       "<pre>recommendations finished on 17000/39037 queries. users per second: 145821</pre>"
      ],
      "text/plain": [
       "recommendations finished on 17000/39037 queries. users per second: 145821"
      ]
     },
     "metadata": {
      "tags": []
     },
     "output_type": "display_data"
    },
    {
     "data": {
      "text/html": [
       "<pre>recommendations finished on 18000/39037 queries. users per second: 145463</pre>"
      ],
      "text/plain": [
       "recommendations finished on 18000/39037 queries. users per second: 145463"
      ]
     },
     "metadata": {
      "tags": []
     },
     "output_type": "display_data"
    },
    {
     "data": {
      "text/html": [
       "<pre>recommendations finished on 19000/39037 queries. users per second: 145979</pre>"
      ],
      "text/plain": [
       "recommendations finished on 19000/39037 queries. users per second: 145979"
      ]
     },
     "metadata": {
      "tags": []
     },
     "output_type": "display_data"
    },
    {
     "data": {
      "text/html": [
       "<pre>recommendations finished on 20000/39037 queries. users per second: 146581</pre>"
      ],
      "text/plain": [
       "recommendations finished on 20000/39037 queries. users per second: 146581"
      ]
     },
     "metadata": {
      "tags": []
     },
     "output_type": "display_data"
    },
    {
     "data": {
      "text/html": [
       "<pre>recommendations finished on 21000/39037 queries. users per second: 147733</pre>"
      ],
      "text/plain": [
       "recommendations finished on 21000/39037 queries. users per second: 147733"
      ]
     },
     "metadata": {
      "tags": []
     },
     "output_type": "display_data"
    },
    {
     "data": {
      "text/html": [
       "<pre>recommendations finished on 22000/39037 queries. users per second: 147215</pre>"
      ],
      "text/plain": [
       "recommendations finished on 22000/39037 queries. users per second: 147215"
      ]
     },
     "metadata": {
      "tags": []
     },
     "output_type": "display_data"
    },
    {
     "data": {
      "text/html": [
       "<pre>recommendations finished on 23000/39037 queries. users per second: 147656</pre>"
      ],
      "text/plain": [
       "recommendations finished on 23000/39037 queries. users per second: 147656"
      ]
     },
     "metadata": {
      "tags": []
     },
     "output_type": "display_data"
    },
    {
     "data": {
      "text/html": [
       "<pre>recommendations finished on 24000/39037 queries. users per second: 147525</pre>"
      ],
      "text/plain": [
       "recommendations finished on 24000/39037 queries. users per second: 147525"
      ]
     },
     "metadata": {
      "tags": []
     },
     "output_type": "display_data"
    },
    {
     "data": {
      "text/html": [
       "<pre>recommendations finished on 25000/39037 queries. users per second: 148750</pre>"
      ],
      "text/plain": [
       "recommendations finished on 25000/39037 queries. users per second: 148750"
      ]
     },
     "metadata": {
      "tags": []
     },
     "output_type": "display_data"
    },
    {
     "data": {
      "text/html": [
       "<pre>recommendations finished on 26000/39037 queries. users per second: 149306</pre>"
      ],
      "text/plain": [
       "recommendations finished on 26000/39037 queries. users per second: 149306"
      ]
     },
     "metadata": {
      "tags": []
     },
     "output_type": "display_data"
    },
    {
     "data": {
      "text/html": [
       "<pre>recommendations finished on 27000/39037 queries. users per second: 143194</pre>"
      ],
      "text/plain": [
       "recommendations finished on 27000/39037 queries. users per second: 143194"
      ]
     },
     "metadata": {
      "tags": []
     },
     "output_type": "display_data"
    },
    {
     "data": {
      "text/html": [
       "<pre>recommendations finished on 28000/39037 queries. users per second: 143081</pre>"
      ],
      "text/plain": [
       "recommendations finished on 28000/39037 queries. users per second: 143081"
      ]
     },
     "metadata": {
      "tags": []
     },
     "output_type": "display_data"
    },
    {
     "data": {
      "text/html": [
       "<pre>recommendations finished on 29000/39037 queries. users per second: 143569</pre>"
      ],
      "text/plain": [
       "recommendations finished on 29000/39037 queries. users per second: 143569"
      ]
     },
     "metadata": {
      "tags": []
     },
     "output_type": "display_data"
    },
    {
     "data": {
      "text/html": [
       "<pre>recommendations finished on 30000/39037 queries. users per second: 144206</pre>"
      ],
      "text/plain": [
       "recommendations finished on 30000/39037 queries. users per second: 144206"
      ]
     },
     "metadata": {
      "tags": []
     },
     "output_type": "display_data"
    },
    {
     "data": {
      "text/html": [
       "<pre>recommendations finished on 31000/39037 queries. users per second: 144996</pre>"
      ],
      "text/plain": [
       "recommendations finished on 31000/39037 queries. users per second: 144996"
      ]
     },
     "metadata": {
      "tags": []
     },
     "output_type": "display_data"
    },
    {
     "data": {
      "text/html": [
       "<pre>recommendations finished on 32000/39037 queries. users per second: 146028</pre>"
      ],
      "text/plain": [
       "recommendations finished on 32000/39037 queries. users per second: 146028"
      ]
     },
     "metadata": {
      "tags": []
     },
     "output_type": "display_data"
    },
    {
     "data": {
      "text/html": [
       "<pre>recommendations finished on 33000/39037 queries. users per second: 147199</pre>"
      ],
      "text/plain": [
       "recommendations finished on 33000/39037 queries. users per second: 147199"
      ]
     },
     "metadata": {
      "tags": []
     },
     "output_type": "display_data"
    },
    {
     "data": {
      "text/html": [
       "<pre>recommendations finished on 34000/39037 queries. users per second: 147726</pre>"
      ],
      "text/plain": [
       "recommendations finished on 34000/39037 queries. users per second: 147726"
      ]
     },
     "metadata": {
      "tags": []
     },
     "output_type": "display_data"
    },
    {
     "data": {
      "text/html": [
       "<pre>recommendations finished on 35000/39037 queries. users per second: 148321</pre>"
      ],
      "text/plain": [
       "recommendations finished on 35000/39037 queries. users per second: 148321"
      ]
     },
     "metadata": {
      "tags": []
     },
     "output_type": "display_data"
    },
    {
     "data": {
      "text/html": [
       "<pre>recommendations finished on 36000/39037 queries. users per second: 148977</pre>"
      ],
      "text/plain": [
       "recommendations finished on 36000/39037 queries. users per second: 148977"
      ]
     },
     "metadata": {
      "tags": []
     },
     "output_type": "display_data"
    },
    {
     "data": {
      "text/html": [
       "<pre>recommendations finished on 37000/39037 queries. users per second: 149903</pre>"
      ],
      "text/plain": [
       "recommendations finished on 37000/39037 queries. users per second: 149903"
      ]
     },
     "metadata": {
      "tags": []
     },
     "output_type": "display_data"
    },
    {
     "data": {
      "text/html": [
       "<pre>recommendations finished on 38000/39037 queries. users per second: 150095</pre>"
      ],
      "text/plain": [
       "recommendations finished on 38000/39037 queries. users per second: 150095"
      ]
     },
     "metadata": {
      "tags": []
     },
     "output_type": "display_data"
    },
    {
     "data": {
      "text/html": [
       "<pre>recommendations finished on 39000/39037 queries. users per second: 150297</pre>"
      ],
      "text/plain": [
       "recommendations finished on 39000/39037 queries. users per second: 150297"
      ]
     },
     "metadata": {
      "tags": []
     },
     "output_type": "display_data"
    },
    {
     "name": "stdout",
     "output_type": "stream",
     "text": [
      "+------------+---------------------+----------------------+------+\n",
      "| customerId |      productId      |        score         | rank |\n",
      "+------------+---------------------+----------------------+------+\n",
      "|     0      |   Cajas y Cajones   | 0.11747400300544598  |  1   |\n",
      "|     0      |       Muebles       | 0.07561930841887747  |  2   |\n",
      "|     0      |        Velas        | 0.07375210377036552  |  3   |\n",
      "|     0      |      Almohadas      |  0.0654900817518117  |  4   |\n",
      "|     0      |     Almohadones     |  0.0529022434282629  |  5   |\n",
      "|     0      |        Sillas       | 0.05057784375187922  |  6   |\n",
      "|     0      |      Alfombras      | 0.04461510351857694  |  7   |\n",
      "|     0      |       Vajilla       | 0.03974197149276735  |  8   |\n",
      "|     0      | Jabones y Jaboneras | 0.037833023627599105 |  9   |\n",
      "|     0      |      Mantelería     | 0.03374753686286049  |  10  |\n",
      "|     2      |   Cajas y Cajones   | 0.11777119176429608  |  1   |\n",
      "|     2      |       Muebles       |  0.0769651514955834  |  2   |\n",
      "|     2      |        Velas        | 0.07384469958602409  |  3   |\n",
      "|     2      |      Almohadas      | 0.06936986728953143  |  4   |\n",
      "|     2      |     Almohadones     | 0.05563189774039669  |  5   |\n",
      "|     2      |        Sillas       | 0.05276646670338679  |  6   |\n",
      "|     2      |      Alfombras      | 0.04505862168035062  |  7   |\n",
      "|     2      |       Vajilla       | 0.04104045867919923  |  8   |\n",
      "|     2      | Jabones y Jaboneras |  0.0388483589490255  |  9   |\n",
      "|     2      |      Mantelería     | 0.037163300241003804 |  10  |\n",
      "|     5      |   Cajas y Cajones   | 0.11758468883079388  |  1   |\n",
      "|     5      |       Muebles       | 0.07609814233268057  |  2   |\n",
      "|     5      |        Velas        | 0.07377049180327873  |  3   |\n",
      "|     5      |      Almohadas      | 0.06721229835795184  |  4   |\n",
      "|     5      |     Almohadones     | 0.054277143769296834 |  5   |\n",
      "|     5      |        Sillas       | 0.05110701378819514  |  6   |\n",
      "|     5      |      Alfombras      | 0.04477776459416898  |  7   |\n",
      "|     5      |       Vajilla       | 0.040000000000000015 |  8   |\n",
      "|     5      | Jabones y Jaboneras | 0.03826703484853111  |  9   |\n",
      "|     5      |      Mantelería     | 0.03510068150855141  |  10  |\n",
      "+------------+---------------------+----------------------+------+\n",
      "[390370 rows x 4 columns]\n",
      "\n"
     ]
    },
    {
     "data": {
      "text/plain": [
       "Class                            : ItemSimilarityRecommender\n",
       "\n",
       "Schema\n",
       "------\n",
       "User ID                          : customerId\n",
       "Item ID                          : productId\n",
       "Target                           : scaled_purchase_freq\n",
       "Additional observation features  : 0\n",
       "User side features               : []\n",
       "Item side features               : []\n",
       "\n",
       "Statistics\n",
       "----------\n",
       "Number of observations           : 95045\n",
       "Number of users                  : 37673\n",
       "Number of items                  : 27\n",
       "\n",
       "Training summary\n",
       "----------------\n",
       "Training time                    : 0.0555\n",
       "\n",
       "Model Parameters\n",
       "----------------\n",
       "Model class                      : ItemSimilarityRecommender\n",
       "threshold                        : 0.001\n",
       "similarity_type                  : pearson\n",
       "training_method                  : auto\n",
       "\n",
       "Other Settings\n",
       "--------------\n",
       "degree_approximation_threshold   : 4096\n",
       "max_data_passes                  : 4096\n",
       "max_item_neighborhood_size       : 64\n",
       "nearest_neighbors_interaction_proportion_threshold : 0.05\n",
       "seed_item_set_size               : 50\n",
       "sparse_density_estimation_sample_size : 4096\n",
       "target_memory_usage              : 8589934592"
      ]
     },
     "execution_count": 27,
     "metadata": {
      "tags": []
     },
     "output_type": "execute_result"
    }
   ],
   "source": [
    "# iii. Uso del recuento de compras escalado\n",
    "name = 'pearson'\n",
    "target = 'scaled_purchase_freq'\n",
    "pear_norm = model(train_data_norm, name, user_id, item_id, target, users_to_recommend, n_rec, n_display)\n",
    "pear_norm"
   ]
  },
  {
   "cell_type": "markdown",
   "metadata": {
    "colab_type": "text",
    "id": "2l3Xv__jln46"
   },
   "source": [
    "## 8. Evaluación del modelo\n",
    "\n",
    "Para evaluar los motores de recomendación, podemos usar el concepto de RMSE y la recuperación de precisión.\n",
    "\n",
    "1. RMSE (errores cuadráticos medios de raíz)\n",
    "Mide el error de los valores pronosticados.\n",
    "Menor el valor RMSE, mejores las recomendaciones.\n",
    "\n",
    "2. Recordar\n",
    " ¿Qué porcentaje de productos que compra un usuario se recomiendan realmente?\n",
    "Si un cliente compra 5 productos y la recomendación decidió mostrar 3 de ellos, entonces el retiro es 0.6\n",
    "\n",
    "3. Precisión\n",
    "De todos los elementos recomendados, ¿cuántos le gustaron realmente al usuario?\n",
    "Si se recomendaron al cliente 5 productos de los cuales compra 4, entonces la precisión es 0.8\n",
    "¿Por qué son importantes tanto el recuerdo como la precisión?\n",
    "Considere un caso en el que recomendamos todos los productos, por lo que nuestros clientes seguramente cubrirán los artículos que les gustaron y compraron. ¡En este caso, tenemos un 100% de retiro! ¿Esto significa que nuestro modelo es bueno?\n",
    "Tenemos que considerar la precisión. Si recomendamos 300 artículos pero al usuario le gusta y compra solo 3 de ellos, ¡la precisión es del 0.1%! Esta precisión muy baja indica que el modelo no es excelente, a pesar de su excelente recuperación.\n",
    "Por lo tanto, nuestro objetivo debe ser optimizar tanto el recuerdo como la precisión (para estar lo más cerca posible de 1)."
   ]
  },
  {
   "cell_type": "code",
   "execution_count": 0,
   "metadata": {
    "colab": {},
    "colab_type": "code",
    "id": "I5WsYwimln4-"
   },
   "outputs": [],
   "source": [
    "# Primero creemos variables invocables iniciales para la evaluación del modelo:\n",
    "models_w_counts = [popularity, cos, pear]\n",
    "models_w_dummy = [pop_dummy, cos_dummy, pear_dummy]\n",
    "models_w_norm = [pop_norm, cos_norm, pear_norm]\n",
    "\n",
    "names_w_counts = ['Popularity Model on Purchase Counts', 'Cosine Similarity on Purchase Counts',\\\n",
    "                  'Pearson Similarity on Purchase Counts']\n",
    "names_w_dummy = ['Popularity Model on Purchase Dummy', 'Cosine Similarity on Purchase Dummy',\\\n",
    "                 'Pearson Similarity on Purchase Dummy']\n",
    "names_w_norm = ['Popularity Model on Scaled Purchase Counts', 'Cosine Similarity on Scaled Purchase Counts',\\\n",
    "                'Pearson Similarity on Scaled Purchase Counts']"
   ]
  },
  {
   "cell_type": "markdown",
   "metadata": {
    "colab_type": "text",
    "id": "1nXIXGvMln5e"
   },
   "source": [
    "## 8.1. Resultado de evaluación"
   ]
  },
  {
   "cell_type": "code",
   "execution_count": 0,
   "metadata": {
    "colab": {},
    "colab_type": "code",
    "id": "u8Vmg_Ktln5O"
   },
   "outputs": [],
   "source": [
    "#### Comparemos todos los modelos que hemos construido basados en RMSE y características de recuperación de precisión:"
   ]
  },
  {
   "cell_type": "code",
   "execution_count": 30,
   "metadata": {
    "colab": {
     "base_uri": "https://localhost:8080/",
     "height": 1000
    },
    "colab_type": "code",
    "id": "wlYLfMXuQqDU",
    "outputId": "39176815-dad6-4ab0-e4b3-3aba2b7fb0b7"
   },
   "outputs": [
    {
     "name": "stdout",
     "output_type": "stream",
     "text": [
      "PROGRESS: Evaluate model Popularity Model on Purchase Counts\n"
     ]
    },
    {
     "data": {
      "text/html": [
       "<pre>recommendations finished on 1000/27714 queries. users per second: 103199</pre>"
      ],
      "text/plain": [
       "recommendations finished on 1000/27714 queries. users per second: 103199"
      ]
     },
     "metadata": {
      "tags": []
     },
     "output_type": "display_data"
    },
    {
     "data": {
      "text/html": [
       "<pre>recommendations finished on 2000/27714 queries. users per second: 96758.6</pre>"
      ],
      "text/plain": [
       "recommendations finished on 2000/27714 queries. users per second: 96758.6"
      ]
     },
     "metadata": {
      "tags": []
     },
     "output_type": "display_data"
    },
    {
     "data": {
      "text/html": [
       "<pre>recommendations finished on 3000/27714 queries. users per second: 105086</pre>"
      ],
      "text/plain": [
       "recommendations finished on 3000/27714 queries. users per second: 105086"
      ]
     },
     "metadata": {
      "tags": []
     },
     "output_type": "display_data"
    },
    {
     "data": {
      "text/html": [
       "<pre>recommendations finished on 4000/27714 queries. users per second: 108091</pre>"
      ],
      "text/plain": [
       "recommendations finished on 4000/27714 queries. users per second: 108091"
      ]
     },
     "metadata": {
      "tags": []
     },
     "output_type": "display_data"
    },
    {
     "data": {
      "text/html": [
       "<pre>recommendations finished on 5000/27714 queries. users per second: 113585</pre>"
      ],
      "text/plain": [
       "recommendations finished on 5000/27714 queries. users per second: 113585"
      ]
     },
     "metadata": {
      "tags": []
     },
     "output_type": "display_data"
    },
    {
     "data": {
      "text/html": [
       "<pre>recommendations finished on 6000/27714 queries. users per second: 113865</pre>"
      ],
      "text/plain": [
       "recommendations finished on 6000/27714 queries. users per second: 113865"
      ]
     },
     "metadata": {
      "tags": []
     },
     "output_type": "display_data"
    },
    {
     "data": {
      "text/html": [
       "<pre>recommendations finished on 7000/27714 queries. users per second: 115080</pre>"
      ],
      "text/plain": [
       "recommendations finished on 7000/27714 queries. users per second: 115080"
      ]
     },
     "metadata": {
      "tags": []
     },
     "output_type": "display_data"
    },
    {
     "data": {
      "text/html": [
       "<pre>recommendations finished on 8000/27714 queries. users per second: 117706</pre>"
      ],
      "text/plain": [
       "recommendations finished on 8000/27714 queries. users per second: 117706"
      ]
     },
     "metadata": {
      "tags": []
     },
     "output_type": "display_data"
    },
    {
     "data": {
      "text/html": [
       "<pre>recommendations finished on 9000/27714 queries. users per second: 120417</pre>"
      ],
      "text/plain": [
       "recommendations finished on 9000/27714 queries. users per second: 120417"
      ]
     },
     "metadata": {
      "tags": []
     },
     "output_type": "display_data"
    },
    {
     "data": {
      "text/html": [
       "<pre>recommendations finished on 10000/27714 queries. users per second: 119824</pre>"
      ],
      "text/plain": [
       "recommendations finished on 10000/27714 queries. users per second: 119824"
      ]
     },
     "metadata": {
      "tags": []
     },
     "output_type": "display_data"
    },
    {
     "data": {
      "text/html": [
       "<pre>recommendations finished on 11000/27714 queries. users per second: 115522</pre>"
      ],
      "text/plain": [
       "recommendations finished on 11000/27714 queries. users per second: 115522"
      ]
     },
     "metadata": {
      "tags": []
     },
     "output_type": "display_data"
    },
    {
     "data": {
      "text/html": [
       "<pre>recommendations finished on 12000/27714 queries. users per second: 115445</pre>"
      ],
      "text/plain": [
       "recommendations finished on 12000/27714 queries. users per second: 115445"
      ]
     },
     "metadata": {
      "tags": []
     },
     "output_type": "display_data"
    },
    {
     "data": {
      "text/html": [
       "<pre>recommendations finished on 13000/27714 queries. users per second: 113609</pre>"
      ],
      "text/plain": [
       "recommendations finished on 13000/27714 queries. users per second: 113609"
      ]
     },
     "metadata": {
      "tags": []
     },
     "output_type": "display_data"
    },
    {
     "data": {
      "text/html": [
       "<pre>recommendations finished on 14000/27714 queries. users per second: 96899.9</pre>"
      ],
      "text/plain": [
       "recommendations finished on 14000/27714 queries. users per second: 96899.9"
      ]
     },
     "metadata": {
      "tags": []
     },
     "output_type": "display_data"
    },
    {
     "data": {
      "text/html": [
       "<pre>recommendations finished on 15000/27714 queries. users per second: 99435.9</pre>"
      ],
      "text/plain": [
       "recommendations finished on 15000/27714 queries. users per second: 99435.9"
      ]
     },
     "metadata": {
      "tags": []
     },
     "output_type": "display_data"
    },
    {
     "data": {
      "text/html": [
       "<pre>recommendations finished on 16000/27714 queries. users per second: 101082</pre>"
      ],
      "text/plain": [
       "recommendations finished on 16000/27714 queries. users per second: 101082"
      ]
     },
     "metadata": {
      "tags": []
     },
     "output_type": "display_data"
    },
    {
     "data": {
      "text/html": [
       "<pre>recommendations finished on 17000/27714 queries. users per second: 103294</pre>"
      ],
      "text/plain": [
       "recommendations finished on 17000/27714 queries. users per second: 103294"
      ]
     },
     "metadata": {
      "tags": []
     },
     "output_type": "display_data"
    },
    {
     "data": {
      "text/html": [
       "<pre>recommendations finished on 18000/27714 queries. users per second: 104805</pre>"
      ],
      "text/plain": [
       "recommendations finished on 18000/27714 queries. users per second: 104805"
      ]
     },
     "metadata": {
      "tags": []
     },
     "output_type": "display_data"
    },
    {
     "data": {
      "text/html": [
       "<pre>recommendations finished on 19000/27714 queries. users per second: 105121</pre>"
      ],
      "text/plain": [
       "recommendations finished on 19000/27714 queries. users per second: 105121"
      ]
     },
     "metadata": {
      "tags": []
     },
     "output_type": "display_data"
    },
    {
     "data": {
      "text/html": [
       "<pre>recommendations finished on 20000/27714 queries. users per second: 106361</pre>"
      ],
      "text/plain": [
       "recommendations finished on 20000/27714 queries. users per second: 106361"
      ]
     },
     "metadata": {
      "tags": []
     },
     "output_type": "display_data"
    },
    {
     "data": {
      "text/html": [
       "<pre>recommendations finished on 21000/27714 queries. users per second: 108173</pre>"
      ],
      "text/plain": [
       "recommendations finished on 21000/27714 queries. users per second: 108173"
      ]
     },
     "metadata": {
      "tags": []
     },
     "output_type": "display_data"
    },
    {
     "data": {
      "text/html": [
       "<pre>recommendations finished on 22000/27714 queries. users per second: 109255</pre>"
      ],
      "text/plain": [
       "recommendations finished on 22000/27714 queries. users per second: 109255"
      ]
     },
     "metadata": {
      "tags": []
     },
     "output_type": "display_data"
    },
    {
     "data": {
      "text/html": [
       "<pre>recommendations finished on 23000/27714 queries. users per second: 110783</pre>"
      ],
      "text/plain": [
       "recommendations finished on 23000/27714 queries. users per second: 110783"
      ]
     },
     "metadata": {
      "tags": []
     },
     "output_type": "display_data"
    },
    {
     "data": {
      "text/html": [
       "<pre>recommendations finished on 24000/27714 queries. users per second: 111732</pre>"
      ],
      "text/plain": [
       "recommendations finished on 24000/27714 queries. users per second: 111732"
      ]
     },
     "metadata": {
      "tags": []
     },
     "output_type": "display_data"
    },
    {
     "data": {
      "text/html": [
       "<pre>recommendations finished on 25000/27714 queries. users per second: 113105</pre>"
      ],
      "text/plain": [
       "recommendations finished on 25000/27714 queries. users per second: 113105"
      ]
     },
     "metadata": {
      "tags": []
     },
     "output_type": "display_data"
    },
    {
     "data": {
      "text/html": [
       "<pre>recommendations finished on 26000/27714 queries. users per second: 113932</pre>"
      ],
      "text/plain": [
       "recommendations finished on 26000/27714 queries. users per second: 113932"
      ]
     },
     "metadata": {
      "tags": []
     },
     "output_type": "display_data"
    },
    {
     "data": {
      "text/html": [
       "<pre>recommendations finished on 27000/27714 queries. users per second: 115189</pre>"
      ],
      "text/plain": [
       "recommendations finished on 27000/27714 queries. users per second: 115189"
      ]
     },
     "metadata": {
      "tags": []
     },
     "output_type": "display_data"
    },
    {
     "name": "stdout",
     "output_type": "stream",
     "text": [
      "\n",
      "Precision and recall summary statistics by cutoff\n",
      "+--------+-----------------------+-----------------------+\n",
      "| cutoff |     mean_precision    |      mean_recall      |\n",
      "+--------+-----------------------+-----------------------+\n",
      "|   1    | 0.0026340477736883743 | 0.0013252284387811535 |\n",
      "|   2    |  0.00772172908999059  |   0.0081299117318819  |\n",
      "|   3    |  0.016934882490197475 |  0.02889377854181155  |\n",
      "|   4    |  0.02241646821101247  |  0.05061832119334364  |\n",
      "|   5    |  0.02084866854297471  |  0.05827764896795657  |\n",
      "|   6    |  0.021631666305838165 |  0.07300401565091569  |\n",
      "|   7    |  0.02203115496036033  |   0.087246129830787   |\n",
      "|   8    |  0.02321480118351744  |  0.10504407860118874  |\n",
      "|   9    |  0.021497357933815877 |  0.10932021088663128  |\n",
      "|   10   |  0.01983474056433575  |  0.11162161295243297  |\n",
      "+--------+-----------------------+-----------------------+\n",
      "[10 rows x 3 columns]\n",
      "\n",
      "\n",
      "Overall RMSE: 0.5459718218746338\n",
      "\n",
      "Per User RMSE (best)\n",
      "+------------+----------------------+-------+\n",
      "| customerId |         rmse         | count |\n",
      "+------------+----------------------+-------+\n",
      "|   152996   | 0.007936507936507908 |   1   |\n",
      "+------------+----------------------+-------+\n",
      "[1 rows x 3 columns]\n",
      "\n",
      "\n",
      "Per User RMSE (worst)\n",
      "+------------+-------------------+-------+\n",
      "| customerId |        rmse       | count |\n",
      "+------------+-------------------+-------+\n",
      "|   90896    | 8.847671187124197 |   2   |\n",
      "+------------+-------------------+-------+\n",
      "[1 rows x 3 columns]\n",
      "\n",
      "\n",
      "Per Item RMSE (best)\n",
      "+-----------+----------------------+-------+\n",
      "| productId |         rmse         | count |\n",
      "+-----------+----------------------+-------+\n",
      "|    Bebé   | 0.007936507936507908 |   32  |\n",
      "+-----------+----------------------+-------+\n",
      "[1 rows x 3 columns]\n",
      "\n",
      "\n",
      "Per Item RMSE (worst)\n",
      "+-----------------+-------------------+-------+\n",
      "|    productId    |        rmse       | count |\n",
      "+-----------------+-------------------+-------+\n",
      "| Cajas y Cajones | 1.362501980732225 |  119  |\n",
      "+-----------------+-------------------+-------+\n",
      "[1 rows x 3 columns]\n",
      "\n",
      "PROGRESS: Evaluate model Cosine Similarity on Purchase Counts\n"
     ]
    },
    {
     "data": {
      "text/html": [
       "<pre>recommendations finished on 1000/27714 queries. users per second: 95238.1</pre>"
      ],
      "text/plain": [
       "recommendations finished on 1000/27714 queries. users per second: 95238.1"
      ]
     },
     "metadata": {
      "tags": []
     },
     "output_type": "display_data"
    },
    {
     "data": {
      "text/html": [
       "<pre>recommendations finished on 2000/27714 queries. users per second: 78992.1</pre>"
      ],
      "text/plain": [
       "recommendations finished on 2000/27714 queries. users per second: 78992.1"
      ]
     },
     "metadata": {
      "tags": []
     },
     "output_type": "display_data"
    },
    {
     "data": {
      "text/html": [
       "<pre>recommendations finished on 3000/27714 queries. users per second: 87568.2</pre>"
      ],
      "text/plain": [
       "recommendations finished on 3000/27714 queries. users per second: 87568.2"
      ]
     },
     "metadata": {
      "tags": []
     },
     "output_type": "display_data"
    },
    {
     "data": {
      "text/html": [
       "<pre>recommendations finished on 4000/27714 queries. users per second: 88487.7</pre>"
      ],
      "text/plain": [
       "recommendations finished on 4000/27714 queries. users per second: 88487.7"
      ]
     },
     "metadata": {
      "tags": []
     },
     "output_type": "display_data"
    },
    {
     "data": {
      "text/html": [
       "<pre>recommendations finished on 5000/27714 queries. users per second: 91960.8</pre>"
      ],
      "text/plain": [
       "recommendations finished on 5000/27714 queries. users per second: 91960.8"
      ]
     },
     "metadata": {
      "tags": []
     },
     "output_type": "display_data"
    },
    {
     "data": {
      "text/html": [
       "<pre>recommendations finished on 6000/27714 queries. users per second: 95206.4</pre>"
      ],
      "text/plain": [
       "recommendations finished on 6000/27714 queries. users per second: 95206.4"
      ]
     },
     "metadata": {
      "tags": []
     },
     "output_type": "display_data"
    },
    {
     "data": {
      "text/html": [
       "<pre>recommendations finished on 7000/27714 queries. users per second: 98805.9</pre>"
      ],
      "text/plain": [
       "recommendations finished on 7000/27714 queries. users per second: 98805.9"
      ]
     },
     "metadata": {
      "tags": []
     },
     "output_type": "display_data"
    },
    {
     "data": {
      "text/html": [
       "<pre>recommendations finished on 8000/27714 queries. users per second: 94500.1</pre>"
      ],
      "text/plain": [
       "recommendations finished on 8000/27714 queries. users per second: 94500.1"
      ]
     },
     "metadata": {
      "tags": []
     },
     "output_type": "display_data"
    },
    {
     "data": {
      "text/html": [
       "<pre>recommendations finished on 9000/27714 queries. users per second: 96186.7</pre>"
      ],
      "text/plain": [
       "recommendations finished on 9000/27714 queries. users per second: 96186.7"
      ]
     },
     "metadata": {
      "tags": []
     },
     "output_type": "display_data"
    },
    {
     "data": {
      "text/html": [
       "<pre>recommendations finished on 10000/27714 queries. users per second: 95112.2</pre>"
      ],
      "text/plain": [
       "recommendations finished on 10000/27714 queries. users per second: 95112.2"
      ]
     },
     "metadata": {
      "tags": []
     },
     "output_type": "display_data"
    },
    {
     "data": {
      "text/html": [
       "<pre>recommendations finished on 11000/27714 queries. users per second: 97072</pre>"
      ],
      "text/plain": [
       "recommendations finished on 11000/27714 queries. users per second: 97072"
      ]
     },
     "metadata": {
      "tags": []
     },
     "output_type": "display_data"
    },
    {
     "data": {
      "text/html": [
       "<pre>recommendations finished on 12000/27714 queries. users per second: 96525.1</pre>"
      ],
      "text/plain": [
       "recommendations finished on 12000/27714 queries. users per second: 96525.1"
      ]
     },
     "metadata": {
      "tags": []
     },
     "output_type": "display_data"
    },
    {
     "data": {
      "text/html": [
       "<pre>recommendations finished on 13000/27714 queries. users per second: 94389.6</pre>"
      ],
      "text/plain": [
       "recommendations finished on 13000/27714 queries. users per second: 94389.6"
      ]
     },
     "metadata": {
      "tags": []
     },
     "output_type": "display_data"
    },
    {
     "data": {
      "text/html": [
       "<pre>recommendations finished on 14000/27714 queries. users per second: 93712.6</pre>"
      ],
      "text/plain": [
       "recommendations finished on 14000/27714 queries. users per second: 93712.6"
      ]
     },
     "metadata": {
      "tags": []
     },
     "output_type": "display_data"
    },
    {
     "data": {
      "text/html": [
       "<pre>recommendations finished on 15000/27714 queries. users per second: 94949.3</pre>"
      ],
      "text/plain": [
       "recommendations finished on 15000/27714 queries. users per second: 94949.3"
      ]
     },
     "metadata": {
      "tags": []
     },
     "output_type": "display_data"
    },
    {
     "data": {
      "text/html": [
       "<pre>recommendations finished on 16000/27714 queries. users per second: 96126.1</pre>"
      ],
      "text/plain": [
       "recommendations finished on 16000/27714 queries. users per second: 96126.1"
      ]
     },
     "metadata": {
      "tags": []
     },
     "output_type": "display_data"
    },
    {
     "data": {
      "text/html": [
       "<pre>recommendations finished on 17000/27714 queries. users per second: 96857.8</pre>"
      ],
      "text/plain": [
       "recommendations finished on 17000/27714 queries. users per second: 96857.8"
      ]
     },
     "metadata": {
      "tags": []
     },
     "output_type": "display_data"
    },
    {
     "data": {
      "text/html": [
       "<pre>recommendations finished on 18000/27714 queries. users per second: 95918.1</pre>"
      ],
      "text/plain": [
       "recommendations finished on 18000/27714 queries. users per second: 95918.1"
      ]
     },
     "metadata": {
      "tags": []
     },
     "output_type": "display_data"
    },
    {
     "data": {
      "text/html": [
       "<pre>recommendations finished on 19000/27714 queries. users per second: 94629.5</pre>"
      ],
      "text/plain": [
       "recommendations finished on 19000/27714 queries. users per second: 94629.5"
      ]
     },
     "metadata": {
      "tags": []
     },
     "output_type": "display_data"
    },
    {
     "data": {
      "text/html": [
       "<pre>recommendations finished on 20000/27714 queries. users per second: 95257.6</pre>"
      ],
      "text/plain": [
       "recommendations finished on 20000/27714 queries. users per second: 95257.6"
      ]
     },
     "metadata": {
      "tags": []
     },
     "output_type": "display_data"
    },
    {
     "data": {
      "text/html": [
       "<pre>recommendations finished on 21000/27714 queries. users per second: 96321.9</pre>"
      ],
      "text/plain": [
       "recommendations finished on 21000/27714 queries. users per second: 96321.9"
      ]
     },
     "metadata": {
      "tags": []
     },
     "output_type": "display_data"
    },
    {
     "data": {
      "text/html": [
       "<pre>recommendations finished on 22000/27714 queries. users per second: 97490.9</pre>"
      ],
      "text/plain": [
       "recommendations finished on 22000/27714 queries. users per second: 97490.9"
      ]
     },
     "metadata": {
      "tags": []
     },
     "output_type": "display_data"
    },
    {
     "data": {
      "text/html": [
       "<pre>recommendations finished on 23000/27714 queries. users per second: 98219.7</pre>"
      ],
      "text/plain": [
       "recommendations finished on 23000/27714 queries. users per second: 98219.7"
      ]
     },
     "metadata": {
      "tags": []
     },
     "output_type": "display_data"
    },
    {
     "data": {
      "text/html": [
       "<pre>recommendations finished on 24000/27714 queries. users per second: 98310.3</pre>"
      ],
      "text/plain": [
       "recommendations finished on 24000/27714 queries. users per second: 98310.3"
      ]
     },
     "metadata": {
      "tags": []
     },
     "output_type": "display_data"
    },
    {
     "data": {
      "text/html": [
       "<pre>recommendations finished on 25000/27714 queries. users per second: 98970.3</pre>"
      ],
      "text/plain": [
       "recommendations finished on 25000/27714 queries. users per second: 98970.3"
      ]
     },
     "metadata": {
      "tags": []
     },
     "output_type": "display_data"
    },
    {
     "data": {
      "text/html": [
       "<pre>recommendations finished on 26000/27714 queries. users per second: 96658.9</pre>"
      ],
      "text/plain": [
       "recommendations finished on 26000/27714 queries. users per second: 96658.9"
      ]
     },
     "metadata": {
      "tags": []
     },
     "output_type": "display_data"
    },
    {
     "data": {
      "text/html": [
       "<pre>recommendations finished on 27000/27714 queries. users per second: 96564.5</pre>"
      ],
      "text/plain": [
       "recommendations finished on 27000/27714 queries. users per second: 96564.5"
      ]
     },
     "metadata": {
      "tags": []
     },
     "output_type": "display_data"
    },
    {
     "name": "stdout",
     "output_type": "stream",
     "text": [
      "\n",
      "Precision and recall summary statistics by cutoff\n",
      "+--------+----------------------+---------------------+\n",
      "| cutoff |    mean_precision    |     mean_recall     |\n",
      "+--------+----------------------+---------------------+\n",
      "|   1    | 0.15093454571696607  | 0.08839945425786531 |\n",
      "|   2    | 0.11317384715306288  | 0.13072987593972038 |\n",
      "|   3    | 0.09030333646051299  |  0.1549896338864229 |\n",
      "|   4    | 0.07582810132063297  | 0.17367778734130032 |\n",
      "|   5    | 0.06595222631161154  |  0.1895761934430542 |\n",
      "|   6    | 0.05866469413774051  | 0.20195766662486586 |\n",
      "|   7    | 0.052840750935576504 | 0.21201044911215847 |\n",
      "|   8    | 0.04784585408096985  | 0.21914687720820974 |\n",
      "|   9    |  0.0437765108689554  |  0.2251886360996116 |\n",
      "|   10   | 0.040272064660460474 |  0.2300860233578996 |\n",
      "+--------+----------------------+---------------------+\n",
      "[10 rows x 3 columns]\n",
      "\n",
      "\n",
      "Overall RMSE: 1.1147988330937637\n",
      "\n",
      "Per User RMSE (best)\n",
      "+------------+----------------------+-------+\n",
      "| customerId |         rmse         | count |\n",
      "+------------+----------------------+-------+\n",
      "|   19740    | 0.007290673255920366 |   1   |\n",
      "+------------+----------------------+-------+\n",
      "[1 rows x 3 columns]\n",
      "\n",
      "\n",
      "Per User RMSE (worst)\n",
      "+------------+------+-------+\n",
      "| customerId | rmse | count |\n",
      "+------------+------+-------+\n",
      "|   22870    | 10.0 |   1   |\n",
      "+------------+------+-------+\n",
      "[1 rows x 3 columns]\n",
      "\n",
      "\n",
      "Per Item RMSE (best)\n",
      "+-----------+-------------------+-------+\n",
      "| productId |        rmse       | count |\n",
      "+-----------+-------------------+-------+\n",
      "|  Sábanas  | 0.830675477858963 | 15028 |\n",
      "+-----------+-------------------+-------+\n",
      "[1 rows x 3 columns]\n",
      "\n",
      "\n",
      "Per Item RMSE (worst)\n",
      "+-----------------+-------------------+-------+\n",
      "|    productId    |        rmse       | count |\n",
      "+-----------------+-------------------+-------+\n",
      "| Cajas y Cajones | 2.298196134311362 |  119  |\n",
      "+-----------------+-------------------+-------+\n",
      "[1 rows x 3 columns]\n",
      "\n",
      "PROGRESS: Evaluate model Pearson Similarity on Purchase Counts\n"
     ]
    },
    {
     "data": {
      "text/html": [
       "<pre>recommendations finished on 1000/27714 queries. users per second: 88292.4</pre>"
      ],
      "text/plain": [
       "recommendations finished on 1000/27714 queries. users per second: 88292.4"
      ]
     },
     "metadata": {
      "tags": []
     },
     "output_type": "display_data"
    },
    {
     "data": {
      "text/html": [
       "<pre>recommendations finished on 2000/27714 queries. users per second: 72621.6</pre>"
      ],
      "text/plain": [
       "recommendations finished on 2000/27714 queries. users per second: 72621.6"
      ]
     },
     "metadata": {
      "tags": []
     },
     "output_type": "display_data"
    },
    {
     "data": {
      "text/html": [
       "<pre>recommendations finished on 3000/27714 queries. users per second: 83532.9</pre>"
      ],
      "text/plain": [
       "recommendations finished on 3000/27714 queries. users per second: 83532.9"
      ]
     },
     "metadata": {
      "tags": []
     },
     "output_type": "display_data"
    },
    {
     "data": {
      "text/html": [
       "<pre>recommendations finished on 4000/27714 queries. users per second: 86307.3</pre>"
      ],
      "text/plain": [
       "recommendations finished on 4000/27714 queries. users per second: 86307.3"
      ]
     },
     "metadata": {
      "tags": []
     },
     "output_type": "display_data"
    },
    {
     "data": {
      "text/html": [
       "<pre>recommendations finished on 5000/27714 queries. users per second: 87146</pre>"
      ],
      "text/plain": [
       "recommendations finished on 5000/27714 queries. users per second: 87146"
      ]
     },
     "metadata": {
      "tags": []
     },
     "output_type": "display_data"
    },
    {
     "data": {
      "text/html": [
       "<pre>recommendations finished on 6000/27714 queries. users per second: 89653.9</pre>"
      ],
      "text/plain": [
       "recommendations finished on 6000/27714 queries. users per second: 89653.9"
      ]
     },
     "metadata": {
      "tags": []
     },
     "output_type": "display_data"
    },
    {
     "data": {
      "text/html": [
       "<pre>recommendations finished on 7000/27714 queries. users per second: 93526.6</pre>"
      ],
      "text/plain": [
       "recommendations finished on 7000/27714 queries. users per second: 93526.6"
      ]
     },
     "metadata": {
      "tags": []
     },
     "output_type": "display_data"
    },
    {
     "data": {
      "text/html": [
       "<pre>recommendations finished on 8000/27714 queries. users per second: 88877</pre>"
      ],
      "text/plain": [
       "recommendations finished on 8000/27714 queries. users per second: 88877"
      ]
     },
     "metadata": {
      "tags": []
     },
     "output_type": "display_data"
    },
    {
     "data": {
      "text/html": [
       "<pre>recommendations finished on 9000/27714 queries. users per second: 91191.9</pre>"
      ],
      "text/plain": [
       "recommendations finished on 9000/27714 queries. users per second: 91191.9"
      ]
     },
     "metadata": {
      "tags": []
     },
     "output_type": "display_data"
    },
    {
     "data": {
      "text/html": [
       "<pre>recommendations finished on 10000/27714 queries. users per second: 90161.6</pre>"
      ],
      "text/plain": [
       "recommendations finished on 10000/27714 queries. users per second: 90161.6"
      ]
     },
     "metadata": {
      "tags": []
     },
     "output_type": "display_data"
    },
    {
     "data": {
      "text/html": [
       "<pre>recommendations finished on 11000/27714 queries. users per second: 92813.7</pre>"
      ],
      "text/plain": [
       "recommendations finished on 11000/27714 queries. users per second: 92813.7"
      ]
     },
     "metadata": {
      "tags": []
     },
     "output_type": "display_data"
    },
    {
     "data": {
      "text/html": [
       "<pre>recommendations finished on 12000/27714 queries. users per second: 93811.6</pre>"
      ],
      "text/plain": [
       "recommendations finished on 12000/27714 queries. users per second: 93811.6"
      ]
     },
     "metadata": {
      "tags": []
     },
     "output_type": "display_data"
    },
    {
     "data": {
      "text/html": [
       "<pre>recommendations finished on 13000/27714 queries. users per second: 95881.5</pre>"
      ],
      "text/plain": [
       "recommendations finished on 13000/27714 queries. users per second: 95881.5"
      ]
     },
     "metadata": {
      "tags": []
     },
     "output_type": "display_data"
    },
    {
     "data": {
      "text/html": [
       "<pre>recommendations finished on 14000/27714 queries. users per second: 97076.6</pre>"
      ],
      "text/plain": [
       "recommendations finished on 14000/27714 queries. users per second: 97076.6"
      ]
     },
     "metadata": {
      "tags": []
     },
     "output_type": "display_data"
    },
    {
     "data": {
      "text/html": [
       "<pre>recommendations finished on 15000/27714 queries. users per second: 98822</pre>"
      ],
      "text/plain": [
       "recommendations finished on 15000/27714 queries. users per second: 98822"
      ]
     },
     "metadata": {
      "tags": []
     },
     "output_type": "display_data"
    },
    {
     "data": {
      "text/html": [
       "<pre>recommendations finished on 16000/27714 queries. users per second: 99362.2</pre>"
      ],
      "text/plain": [
       "recommendations finished on 16000/27714 queries. users per second: 99362.2"
      ]
     },
     "metadata": {
      "tags": []
     },
     "output_type": "display_data"
    },
    {
     "data": {
      "text/html": [
       "<pre>recommendations finished on 17000/27714 queries. users per second: 96769.6</pre>"
      ],
      "text/plain": [
       "recommendations finished on 17000/27714 queries. users per second: 96769.6"
      ]
     },
     "metadata": {
      "tags": []
     },
     "output_type": "display_data"
    },
    {
     "data": {
      "text/html": [
       "<pre>recommendations finished on 18000/27714 queries. users per second: 96988</pre>"
      ],
      "text/plain": [
       "recommendations finished on 18000/27714 queries. users per second: 96988"
      ]
     },
     "metadata": {
      "tags": []
     },
     "output_type": "display_data"
    },
    {
     "data": {
      "text/html": [
       "<pre>recommendations finished on 19000/27714 queries. users per second: 97986.6</pre>"
      ],
      "text/plain": [
       "recommendations finished on 19000/27714 queries. users per second: 97986.6"
      ]
     },
     "metadata": {
      "tags": []
     },
     "output_type": "display_data"
    },
    {
     "data": {
      "text/html": [
       "<pre>recommendations finished on 20000/27714 queries. users per second: 98627.6</pre>"
      ],
      "text/plain": [
       "recommendations finished on 20000/27714 queries. users per second: 98627.6"
      ]
     },
     "metadata": {
      "tags": []
     },
     "output_type": "display_data"
    },
    {
     "data": {
      "text/html": [
       "<pre>recommendations finished on 21000/27714 queries. users per second: 94191.9</pre>"
      ],
      "text/plain": [
       "recommendations finished on 21000/27714 queries. users per second: 94191.9"
      ]
     },
     "metadata": {
      "tags": []
     },
     "output_type": "display_data"
    },
    {
     "data": {
      "text/html": [
       "<pre>recommendations finished on 22000/27714 queries. users per second: 93009.5</pre>"
      ],
      "text/plain": [
       "recommendations finished on 22000/27714 queries. users per second: 93009.5"
      ]
     },
     "metadata": {
      "tags": []
     },
     "output_type": "display_data"
    },
    {
     "data": {
      "text/html": [
       "<pre>recommendations finished on 23000/27714 queries. users per second: 93583.8</pre>"
      ],
      "text/plain": [
       "recommendations finished on 23000/27714 queries. users per second: 93583.8"
      ]
     },
     "metadata": {
      "tags": []
     },
     "output_type": "display_data"
    },
    {
     "data": {
      "text/html": [
       "<pre>recommendations finished on 24000/27714 queries. users per second: 93593.9</pre>"
      ],
      "text/plain": [
       "recommendations finished on 24000/27714 queries. users per second: 93593.9"
      ]
     },
     "metadata": {
      "tags": []
     },
     "output_type": "display_data"
    },
    {
     "data": {
      "text/html": [
       "<pre>recommendations finished on 25000/27714 queries. users per second: 92929.2</pre>"
      ],
      "text/plain": [
       "recommendations finished on 25000/27714 queries. users per second: 92929.2"
      ]
     },
     "metadata": {
      "tags": []
     },
     "output_type": "display_data"
    },
    {
     "data": {
      "text/html": [
       "<pre>recommendations finished on 26000/27714 queries. users per second: 93259.5</pre>"
      ],
      "text/plain": [
       "recommendations finished on 26000/27714 queries. users per second: 93259.5"
      ]
     },
     "metadata": {
      "tags": []
     },
     "output_type": "display_data"
    },
    {
     "data": {
      "text/html": [
       "<pre>recommendations finished on 27000/27714 queries. users per second: 89779.1</pre>"
      ],
      "text/plain": [
       "recommendations finished on 27000/27714 queries. users per second: 89779.1"
      ]
     },
     "metadata": {
      "tags": []
     },
     "output_type": "display_data"
    },
    {
     "name": "stdout",
     "output_type": "stream",
     "text": [
      "\n",
      "Precision and recall summary statistics by cutoff\n",
      "+--------+-----------------------+-----------------------+\n",
      "| cutoff |     mean_precision    |      mean_recall      |\n",
      "+--------+-----------------------+-----------------------+\n",
      "|   1    | 0.0027062134661182203 | 0.0013492836695911093 |\n",
      "|   2    |   0.0078480190517428  |  0.008241167174377768 |\n",
      "|   3    |  0.017668567029900693 |  0.029830245553186474 |\n",
      "|   4    |  0.025104640254023237 |  0.056389944268496126 |\n",
      "|   5    |  0.024384787472035877 |  0.06868167947915338  |\n",
      "|   6    |  0.02254576507661591  |  0.07602354849833273  |\n",
      "|   7    |  0.02260332580748255  |  0.08939861479340272  |\n",
      "|   8    |  0.023652305693873072 |  0.10697975147754148  |\n",
      "|   9    |  0.02217491360162942  |  0.11273855941485167  |\n",
      "|   10   |  0.020751244858194358 |  0.11688127148135667  |\n",
      "+--------+-----------------------+-----------------------+\n",
      "[10 rows x 3 columns]\n",
      "\n",
      "\n",
      "Overall RMSE: 0.5418790095957565\n",
      "\n",
      "Per User RMSE (best)\n",
      "+------------+----------------------+-------+\n",
      "| customerId |         rmse         | count |\n",
      "+------------+----------------------+-------+\n",
      "|    7972    | 0.005042735211352012 |   1   |\n",
      "+------------+----------------------+-------+\n",
      "[1 rows x 3 columns]\n",
      "\n",
      "\n",
      "Per User RMSE (worst)\n",
      "+------------+-------------------+-------+\n",
      "| customerId |        rmse       | count |\n",
      "+------------+-------------------+-------+\n",
      "|   22870    | 8.693448947114154 |   1   |\n",
      "+------------+-------------------+-------+\n",
      "[1 rows x 3 columns]\n",
      "\n",
      "\n",
      "Per Item RMSE (best)\n",
      "+-----------+----------------------+-------+\n",
      "| productId |         rmse         | count |\n",
      "+-----------+----------------------+-------+\n",
      "|    Bebé   | 0.008110771027820174 |   32  |\n",
      "+-----------+----------------------+-------+\n",
      "[1 rows x 3 columns]\n",
      "\n",
      "\n",
      "Per Item RMSE (worst)\n",
      "+-----------------+-------------------+-------+\n",
      "|    productId    |        rmse       | count |\n",
      "+-----------------+-------------------+-------+\n",
      "| Cajas y Cajones | 1.363808219923218 |  119  |\n",
      "+-----------------+-------------------+-------+\n",
      "[1 rows x 3 columns]\n",
      "\n"
     ]
    }
   ],
   "source": [
    "eval_counts = tc.recommender.util.compare_models(test_data, models_w_counts, model_names=names_w_counts)"
   ]
  },
  {
   "cell_type": "code",
   "execution_count": 31,
   "metadata": {
    "colab": {
     "base_uri": "https://localhost:8080/",
     "height": 1000
    },
    "colab_type": "code",
    "id": "fERB0ZakQqDc",
    "outputId": "63e7a0a1-b2f1-43c0-e292-91b874ef8ceb"
   },
   "outputs": [
    {
     "name": "stdout",
     "output_type": "stream",
     "text": [
      "PROGRESS: Evaluate model Popularity Model on Purchase Dummy\n"
     ]
    },
    {
     "data": {
      "text/html": [
       "<pre>recommendations finished on 1000/27709 queries. users per second: 86051.1</pre>"
      ],
      "text/plain": [
       "recommendations finished on 1000/27709 queries. users per second: 86051.1"
      ]
     },
     "metadata": {
      "tags": []
     },
     "output_type": "display_data"
    },
    {
     "data": {
      "text/html": [
       "<pre>recommendations finished on 2000/27709 queries. users per second: 92794.5</pre>"
      ],
      "text/plain": [
       "recommendations finished on 2000/27709 queries. users per second: 92794.5"
      ]
     },
     "metadata": {
      "tags": []
     },
     "output_type": "display_data"
    },
    {
     "data": {
      "text/html": [
       "<pre>recommendations finished on 3000/27709 queries. users per second: 101843</pre>"
      ],
      "text/plain": [
       "recommendations finished on 3000/27709 queries. users per second: 101843"
      ]
     },
     "metadata": {
      "tags": []
     },
     "output_type": "display_data"
    },
    {
     "data": {
      "text/html": [
       "<pre>recommendations finished on 4000/27709 queries. users per second: 109454</pre>"
      ],
      "text/plain": [
       "recommendations finished on 4000/27709 queries. users per second: 109454"
      ]
     },
     "metadata": {
      "tags": []
     },
     "output_type": "display_data"
    },
    {
     "data": {
      "text/html": [
       "<pre>recommendations finished on 5000/27709 queries. users per second: 115671</pre>"
      ],
      "text/plain": [
       "recommendations finished on 5000/27709 queries. users per second: 115671"
      ]
     },
     "metadata": {
      "tags": []
     },
     "output_type": "display_data"
    },
    {
     "data": {
      "text/html": [
       "<pre>recommendations finished on 6000/27709 queries. users per second: 113086</pre>"
      ],
      "text/plain": [
       "recommendations finished on 6000/27709 queries. users per second: 113086"
      ]
     },
     "metadata": {
      "tags": []
     },
     "output_type": "display_data"
    },
    {
     "data": {
      "text/html": [
       "<pre>recommendations finished on 7000/27709 queries. users per second: 116061</pre>"
      ],
      "text/plain": [
       "recommendations finished on 7000/27709 queries. users per second: 116061"
      ]
     },
     "metadata": {
      "tags": []
     },
     "output_type": "display_data"
    },
    {
     "data": {
      "text/html": [
       "<pre>recommendations finished on 8000/27709 queries. users per second: 119159</pre>"
      ],
      "text/plain": [
       "recommendations finished on 8000/27709 queries. users per second: 119159"
      ]
     },
     "metadata": {
      "tags": []
     },
     "output_type": "display_data"
    },
    {
     "data": {
      "text/html": [
       "<pre>recommendations finished on 9000/27709 queries. users per second: 121854</pre>"
      ],
      "text/plain": [
       "recommendations finished on 9000/27709 queries. users per second: 121854"
      ]
     },
     "metadata": {
      "tags": []
     },
     "output_type": "display_data"
    },
    {
     "data": {
      "text/html": [
       "<pre>recommendations finished on 10000/27709 queries. users per second: 123382</pre>"
      ],
      "text/plain": [
       "recommendations finished on 10000/27709 queries. users per second: 123382"
      ]
     },
     "metadata": {
      "tags": []
     },
     "output_type": "display_data"
    },
    {
     "data": {
      "text/html": [
       "<pre>recommendations finished on 11000/27709 queries. users per second: 122093</pre>"
      ],
      "text/plain": [
       "recommendations finished on 11000/27709 queries. users per second: 122093"
      ]
     },
     "metadata": {
      "tags": []
     },
     "output_type": "display_data"
    },
    {
     "data": {
      "text/html": [
       "<pre>recommendations finished on 12000/27709 queries. users per second: 120133</pre>"
      ],
      "text/plain": [
       "recommendations finished on 12000/27709 queries. users per second: 120133"
      ]
     },
     "metadata": {
      "tags": []
     },
     "output_type": "display_data"
    },
    {
     "data": {
      "text/html": [
       "<pre>recommendations finished on 13000/27709 queries. users per second: 118007</pre>"
      ],
      "text/plain": [
       "recommendations finished on 13000/27709 queries. users per second: 118007"
      ]
     },
     "metadata": {
      "tags": []
     },
     "output_type": "display_data"
    },
    {
     "data": {
      "text/html": [
       "<pre>recommendations finished on 14000/27709 queries. users per second: 116859</pre>"
      ],
      "text/plain": [
       "recommendations finished on 14000/27709 queries. users per second: 116859"
      ]
     },
     "metadata": {
      "tags": []
     },
     "output_type": "display_data"
    },
    {
     "data": {
      "text/html": [
       "<pre>recommendations finished on 15000/27709 queries. users per second: 106075</pre>"
      ],
      "text/plain": [
       "recommendations finished on 15000/27709 queries. users per second: 106075"
      ]
     },
     "metadata": {
      "tags": []
     },
     "output_type": "display_data"
    },
    {
     "data": {
      "text/html": [
       "<pre>recommendations finished on 16000/27709 queries. users per second: 106436</pre>"
      ],
      "text/plain": [
       "recommendations finished on 16000/27709 queries. users per second: 106436"
      ]
     },
     "metadata": {
      "tags": []
     },
     "output_type": "display_data"
    },
    {
     "data": {
      "text/html": [
       "<pre>recommendations finished on 17000/27709 queries. users per second: 108410</pre>"
      ],
      "text/plain": [
       "recommendations finished on 17000/27709 queries. users per second: 108410"
      ]
     },
     "metadata": {
      "tags": []
     },
     "output_type": "display_data"
    },
    {
     "data": {
      "text/html": [
       "<pre>recommendations finished on 18000/27709 queries. users per second: 109820</pre>"
      ],
      "text/plain": [
       "recommendations finished on 18000/27709 queries. users per second: 109820"
      ]
     },
     "metadata": {
      "tags": []
     },
     "output_type": "display_data"
    },
    {
     "data": {
      "text/html": [
       "<pre>recommendations finished on 19000/27709 queries. users per second: 111321</pre>"
      ],
      "text/plain": [
       "recommendations finished on 19000/27709 queries. users per second: 111321"
      ]
     },
     "metadata": {
      "tags": []
     },
     "output_type": "display_data"
    },
    {
     "data": {
      "text/html": [
       "<pre>recommendations finished on 20000/27709 queries. users per second: 112731</pre>"
      ],
      "text/plain": [
       "recommendations finished on 20000/27709 queries. users per second: 112731"
      ]
     },
     "metadata": {
      "tags": []
     },
     "output_type": "display_data"
    },
    {
     "data": {
      "text/html": [
       "<pre>recommendations finished on 21000/27709 queries. users per second: 114340</pre>"
      ],
      "text/plain": [
       "recommendations finished on 21000/27709 queries. users per second: 114340"
      ]
     },
     "metadata": {
      "tags": []
     },
     "output_type": "display_data"
    },
    {
     "data": {
      "text/html": [
       "<pre>recommendations finished on 22000/27709 queries. users per second: 115166</pre>"
      ],
      "text/plain": [
       "recommendations finished on 22000/27709 queries. users per second: 115166"
      ]
     },
     "metadata": {
      "tags": []
     },
     "output_type": "display_data"
    },
    {
     "data": {
      "text/html": [
       "<pre>recommendations finished on 23000/27709 queries. users per second: 115372</pre>"
      ],
      "text/plain": [
       "recommendations finished on 23000/27709 queries. users per second: 115372"
      ]
     },
     "metadata": {
      "tags": []
     },
     "output_type": "display_data"
    },
    {
     "data": {
      "text/html": [
       "<pre>recommendations finished on 24000/27709 queries. users per second: 114057</pre>"
      ],
      "text/plain": [
       "recommendations finished on 24000/27709 queries. users per second: 114057"
      ]
     },
     "metadata": {
      "tags": []
     },
     "output_type": "display_data"
    },
    {
     "data": {
      "text/html": [
       "<pre>recommendations finished on 25000/27709 queries. users per second: 115382</pre>"
      ],
      "text/plain": [
       "recommendations finished on 25000/27709 queries. users per second: 115382"
      ]
     },
     "metadata": {
      "tags": []
     },
     "output_type": "display_data"
    },
    {
     "data": {
      "text/html": [
       "<pre>recommendations finished on 26000/27709 queries. users per second: 116057</pre>"
      ],
      "text/plain": [
       "recommendations finished on 26000/27709 queries. users per second: 116057"
      ]
     },
     "metadata": {
      "tags": []
     },
     "output_type": "display_data"
    },
    {
     "data": {
      "text/html": [
       "<pre>recommendations finished on 27000/27709 queries. users per second: 115856</pre>"
      ],
      "text/plain": [
       "recommendations finished on 27000/27709 queries. users per second: 115856"
      ]
     },
     "metadata": {
      "tags": []
     },
     "output_type": "display_data"
    },
    {
     "name": "stdout",
     "output_type": "stream",
     "text": [
      "\n",
      "Precision and recall summary statistics by cutoff\n",
      "+--------+-----------------------+-----------------------+\n",
      "| cutoff |     mean_precision    |      mean_recall      |\n",
      "+--------+-----------------------+-----------------------+\n",
      "|   1    |  0.008011837309177542 | 0.0045450548545210735 |\n",
      "|   2    |  0.004475080298819862 |  0.004996386637730612 |\n",
      "|   3    | 0.0033923995813634577 | 0.0057338554676964575 |\n",
      "|   4    |  0.002869103901259506 |  0.006254399279228788 |\n",
      "|   5    |  0.002403551192753242 |  0.006463817799484904 |\n",
      "|   6    | 0.0024540762929012353 |  0.007860175180359974 |\n",
      "|   7    | 0.0031449297030877047 |  0.011623106483982031 |\n",
      "|   8    | 0.0032480421523692613 |  0.013623552445325095 |\n",
      "|   9    |  0.003268091795285122 |  0.015165625563420477 |\n",
      "|   10   | 0.0047890577068821815 |  0.025643117834283212 |\n",
      "+--------+-----------------------+-----------------------+\n",
      "[10 rows x 3 columns]\n",
      "\n",
      "\n",
      "Overall RMSE: 0.0\n",
      "\n",
      "Per User RMSE (best)\n",
      "+------------+------+-------+\n",
      "| customerId | rmse | count |\n",
      "+------------+------+-------+\n",
      "|   156675   | 0.0  |   3   |\n",
      "+------------+------+-------+\n",
      "[1 rows x 3 columns]\n",
      "\n",
      "\n",
      "Per User RMSE (worst)\n",
      "+------------+------+-------+\n",
      "| customerId | rmse | count |\n",
      "+------------+------+-------+\n",
      "|   51146    | 0.0  |   1   |\n",
      "+------------+------+-------+\n",
      "[1 rows x 3 columns]\n",
      "\n",
      "\n",
      "Per Item RMSE (best)\n",
      "+-----------+------+-------+\n",
      "| productId | rmse | count |\n",
      "+-----------+------+-------+\n",
      "|  Bandejas | 0.0  |   70  |\n",
      "+-----------+------+-------+\n",
      "[1 rows x 3 columns]\n",
      "\n",
      "\n",
      "Per Item RMSE (worst)\n",
      "+------------+------+-------+\n",
      "| productId  | rmse | count |\n",
      "+------------+------+-------+\n",
      "| Accesorios | 0.0  |  824  |\n",
      "+------------+------+-------+\n",
      "[1 rows x 3 columns]\n",
      "\n",
      "PROGRESS: Evaluate model Cosine Similarity on Purchase Dummy\n"
     ]
    },
    {
     "data": {
      "text/html": [
       "<pre>recommendations finished on 1000/27709 queries. users per second: 66858.3</pre>"
      ],
      "text/plain": [
       "recommendations finished on 1000/27709 queries. users per second: 66858.3"
      ]
     },
     "metadata": {
      "tags": []
     },
     "output_type": "display_data"
    },
    {
     "data": {
      "text/html": [
       "<pre>recommendations finished on 2000/27709 queries. users per second: 72634.8</pre>"
      ],
      "text/plain": [
       "recommendations finished on 2000/27709 queries. users per second: 72634.8"
      ]
     },
     "metadata": {
      "tags": []
     },
     "output_type": "display_data"
    },
    {
     "data": {
      "text/html": [
       "<pre>recommendations finished on 3000/27709 queries. users per second: 80636.5</pre>"
      ],
      "text/plain": [
       "recommendations finished on 3000/27709 queries. users per second: 80636.5"
      ]
     },
     "metadata": {
      "tags": []
     },
     "output_type": "display_data"
    },
    {
     "data": {
      "text/html": [
       "<pre>recommendations finished on 4000/27709 queries. users per second: 86428.6</pre>"
      ],
      "text/plain": [
       "recommendations finished on 4000/27709 queries. users per second: 86428.6"
      ]
     },
     "metadata": {
      "tags": []
     },
     "output_type": "display_data"
    },
    {
     "data": {
      "text/html": [
       "<pre>recommendations finished on 5000/27709 queries. users per second: 85076</pre>"
      ],
      "text/plain": [
       "recommendations finished on 5000/27709 queries. users per second: 85076"
      ]
     },
     "metadata": {
      "tags": []
     },
     "output_type": "display_data"
    },
    {
     "data": {
      "text/html": [
       "<pre>recommendations finished on 6000/27709 queries. users per second: 88986.4</pre>"
      ],
      "text/plain": [
       "recommendations finished on 6000/27709 queries. users per second: 88986.4"
      ]
     },
     "metadata": {
      "tags": []
     },
     "output_type": "display_data"
    },
    {
     "data": {
      "text/html": [
       "<pre>recommendations finished on 7000/27709 queries. users per second: 91642.2</pre>"
      ],
      "text/plain": [
       "recommendations finished on 7000/27709 queries. users per second: 91642.2"
      ]
     },
     "metadata": {
      "tags": []
     },
     "output_type": "display_data"
    },
    {
     "data": {
      "text/html": [
       "<pre>recommendations finished on 8000/27709 queries. users per second: 93543.2</pre>"
      ],
      "text/plain": [
       "recommendations finished on 8000/27709 queries. users per second: 93543.2"
      ]
     },
     "metadata": {
      "tags": []
     },
     "output_type": "display_data"
    },
    {
     "data": {
      "text/html": [
       "<pre>recommendations finished on 9000/27709 queries. users per second: 93568.7</pre>"
      ],
      "text/plain": [
       "recommendations finished on 9000/27709 queries. users per second: 93568.7"
      ]
     },
     "metadata": {
      "tags": []
     },
     "output_type": "display_data"
    },
    {
     "data": {
      "text/html": [
       "<pre>recommendations finished on 10000/27709 queries. users per second: 92705</pre>"
      ],
      "text/plain": [
       "recommendations finished on 10000/27709 queries. users per second: 92705"
      ]
     },
     "metadata": {
      "tags": []
     },
     "output_type": "display_data"
    },
    {
     "data": {
      "text/html": [
       "<pre>recommendations finished on 11000/27709 queries. users per second: 93466.7</pre>"
      ],
      "text/plain": [
       "recommendations finished on 11000/27709 queries. users per second: 93466.7"
      ]
     },
     "metadata": {
      "tags": []
     },
     "output_type": "display_data"
    },
    {
     "data": {
      "text/html": [
       "<pre>recommendations finished on 12000/27709 queries. users per second: 93887.2</pre>"
      ],
      "text/plain": [
       "recommendations finished on 12000/27709 queries. users per second: 93887.2"
      ]
     },
     "metadata": {
      "tags": []
     },
     "output_type": "display_data"
    },
    {
     "data": {
      "text/html": [
       "<pre>recommendations finished on 13000/27709 queries. users per second: 93781.6</pre>"
      ],
      "text/plain": [
       "recommendations finished on 13000/27709 queries. users per second: 93781.6"
      ]
     },
     "metadata": {
      "tags": []
     },
     "output_type": "display_data"
    },
    {
     "data": {
      "text/html": [
       "<pre>recommendations finished on 14000/27709 queries. users per second: 94036.7</pre>"
      ],
      "text/plain": [
       "recommendations finished on 14000/27709 queries. users per second: 94036.7"
      ]
     },
     "metadata": {
      "tags": []
     },
     "output_type": "display_data"
    },
    {
     "data": {
      "text/html": [
       "<pre>recommendations finished on 15000/27709 queries. users per second: 92779.3</pre>"
      ],
      "text/plain": [
       "recommendations finished on 15000/27709 queries. users per second: 92779.3"
      ]
     },
     "metadata": {
      "tags": []
     },
     "output_type": "display_data"
    },
    {
     "data": {
      "text/html": [
       "<pre>recommendations finished on 16000/27709 queries. users per second: 94134.8</pre>"
      ],
      "text/plain": [
       "recommendations finished on 16000/27709 queries. users per second: 94134.8"
      ]
     },
     "metadata": {
      "tags": []
     },
     "output_type": "display_data"
    },
    {
     "data": {
      "text/html": [
       "<pre>recommendations finished on 17000/27709 queries. users per second: 96028.4</pre>"
      ],
      "text/plain": [
       "recommendations finished on 17000/27709 queries. users per second: 96028.4"
      ]
     },
     "metadata": {
      "tags": []
     },
     "output_type": "display_data"
    },
    {
     "data": {
      "text/html": [
       "<pre>recommendations finished on 18000/27709 queries. users per second: 95688.2</pre>"
      ],
      "text/plain": [
       "recommendations finished on 18000/27709 queries. users per second: 95688.2"
      ]
     },
     "metadata": {
      "tags": []
     },
     "output_type": "display_data"
    },
    {
     "data": {
      "text/html": [
       "<pre>recommendations finished on 19000/27709 queries. users per second: 96646.4</pre>"
      ],
      "text/plain": [
       "recommendations finished on 19000/27709 queries. users per second: 96646.4"
      ]
     },
     "metadata": {
      "tags": []
     },
     "output_type": "display_data"
    },
    {
     "data": {
      "text/html": [
       "<pre>recommendations finished on 20000/27709 queries. users per second: 97535.8</pre>"
      ],
      "text/plain": [
       "recommendations finished on 20000/27709 queries. users per second: 97535.8"
      ]
     },
     "metadata": {
      "tags": []
     },
     "output_type": "display_data"
    },
    {
     "data": {
      "text/html": [
       "<pre>recommendations finished on 21000/27709 queries. users per second: 96414.3</pre>"
      ],
      "text/plain": [
       "recommendations finished on 21000/27709 queries. users per second: 96414.3"
      ]
     },
     "metadata": {
      "tags": []
     },
     "output_type": "display_data"
    },
    {
     "data": {
      "text/html": [
       "<pre>recommendations finished on 22000/27709 queries. users per second: 96942.4</pre>"
      ],
      "text/plain": [
       "recommendations finished on 22000/27709 queries. users per second: 96942.4"
      ]
     },
     "metadata": {
      "tags": []
     },
     "output_type": "display_data"
    },
    {
     "data": {
      "text/html": [
       "<pre>recommendations finished on 23000/27709 queries. users per second: 97724.3</pre>"
      ],
      "text/plain": [
       "recommendations finished on 23000/27709 queries. users per second: 97724.3"
      ]
     },
     "metadata": {
      "tags": []
     },
     "output_type": "display_data"
    },
    {
     "data": {
      "text/html": [
       "<pre>recommendations finished on 24000/27709 queries. users per second: 98121.8</pre>"
      ],
      "text/plain": [
       "recommendations finished on 24000/27709 queries. users per second: 98121.8"
      ]
     },
     "metadata": {
      "tags": []
     },
     "output_type": "display_data"
    },
    {
     "data": {
      "text/html": [
       "<pre>recommendations finished on 25000/27709 queries. users per second: 99126.1</pre>"
      ],
      "text/plain": [
       "recommendations finished on 25000/27709 queries. users per second: 99126.1"
      ]
     },
     "metadata": {
      "tags": []
     },
     "output_type": "display_data"
    },
    {
     "data": {
      "text/html": [
       "<pre>recommendations finished on 26000/27709 queries. users per second: 98618.6</pre>"
      ],
      "text/plain": [
       "recommendations finished on 26000/27709 queries. users per second: 98618.6"
      ]
     },
     "metadata": {
      "tags": []
     },
     "output_type": "display_data"
    },
    {
     "data": {
      "text/html": [
       "<pre>recommendations finished on 27000/27709 queries. users per second: 95109.9</pre>"
      ],
      "text/plain": [
       "recommendations finished on 27000/27709 queries. users per second: 95109.9"
      ]
     },
     "metadata": {
      "tags": []
     },
     "output_type": "display_data"
    },
    {
     "name": "stdout",
     "output_type": "stream",
     "text": [
      "\n",
      "Precision and recall summary statistics by cutoff\n",
      "+--------+----------------------+---------------------+\n",
      "| cutoff |    mean_precision    |     mean_recall     |\n",
      "+--------+----------------------+---------------------+\n",
      "|   1    |  0.1523331769461189  | 0.09094271962834466 |\n",
      "|   2    | 0.11333862643906295  | 0.13300975618228159 |\n",
      "|   3    | 0.09090909090909138  | 0.15892169986913482 |\n",
      "|   4    | 0.07670792883178756  |  0.178036196593794  |\n",
      "|   5    | 0.06687357898155884  | 0.19464896682587765 |\n",
      "|   6    | 0.05904218845862357  | 0.20576156733903359 |\n",
      "|   7    | 0.05329366941117628  | 0.21674553507171093 |\n",
      "|   8    | 0.048458984445487054 | 0.22448253474003196 |\n",
      "|   9    | 0.044105204486308294 | 0.22943428097800325 |\n",
      "|   10   | 0.040546392868742634 | 0.23433431476034902 |\n",
      "+--------+----------------------+---------------------+\n",
      "[10 rows x 3 columns]\n",
      "\n",
      "\n",
      "Overall RMSE: 0.7857965323914483\n",
      "\n",
      "Per User RMSE (best)\n",
      "+------------+---------------------+-------+\n",
      "| customerId |         rmse        | count |\n",
      "+------------+---------------------+-------+\n",
      "|   113162   | 0.38940930366516113 |   3   |\n",
      "+------------+---------------------+-------+\n",
      "[1 rows x 3 columns]\n",
      "\n",
      "\n",
      "Per User RMSE (worst)\n",
      "+------------+------+-------+\n",
      "| customerId | rmse | count |\n",
      "+------------+------+-------+\n",
      "|   77389    | 1.0  |   1   |\n",
      "+------------+------+-------+\n",
      "[1 rows x 3 columns]\n",
      "\n",
      "\n",
      "Per Item RMSE (best)\n",
      "+-----------------------+--------------------+-------+\n",
      "|       productId       |        rmse        | count |\n",
      "+-----------------------+--------------------+-------+\n",
      "| Acolchados y Frazadas | 0.7083134226464903 |  7973 |\n",
      "+-----------------------+--------------------+-------+\n",
      "[1 rows x 3 columns]\n",
      "\n",
      "\n",
      "Per Item RMSE (worst)\n",
      "+-----------+--------------------+-------+\n",
      "| productId |        rmse        | count |\n",
      "+-----------+--------------------+-------+\n",
      "|  Vajilla  | 0.9673298802679133 |   20  |\n",
      "+-----------+--------------------+-------+\n",
      "[1 rows x 3 columns]\n",
      "\n",
      "PROGRESS: Evaluate model Pearson Similarity on Purchase Dummy\n"
     ]
    },
    {
     "data": {
      "text/html": [
       "<pre>recommendations finished on 1000/27709 queries. users per second: 79808.5</pre>"
      ],
      "text/plain": [
       "recommendations finished on 1000/27709 queries. users per second: 79808.5"
      ]
     },
     "metadata": {
      "tags": []
     },
     "output_type": "display_data"
    },
    {
     "data": {
      "text/html": [
       "<pre>recommendations finished on 2000/27709 queries. users per second: 82984.1</pre>"
      ],
      "text/plain": [
       "recommendations finished on 2000/27709 queries. users per second: 82984.1"
      ]
     },
     "metadata": {
      "tags": []
     },
     "output_type": "display_data"
    },
    {
     "data": {
      "text/html": [
       "<pre>recommendations finished on 3000/27709 queries. users per second: 88881</pre>"
      ],
      "text/plain": [
       "recommendations finished on 3000/27709 queries. users per second: 88881"
      ]
     },
     "metadata": {
      "tags": []
     },
     "output_type": "display_data"
    },
    {
     "data": {
      "text/html": [
       "<pre>recommendations finished on 4000/27709 queries. users per second: 89708.2</pre>"
      ],
      "text/plain": [
       "recommendations finished on 4000/27709 queries. users per second: 89708.2"
      ]
     },
     "metadata": {
      "tags": []
     },
     "output_type": "display_data"
    },
    {
     "data": {
      "text/html": [
       "<pre>recommendations finished on 5000/27709 queries. users per second: 93301</pre>"
      ],
      "text/plain": [
       "recommendations finished on 5000/27709 queries. users per second: 93301"
      ]
     },
     "metadata": {
      "tags": []
     },
     "output_type": "display_data"
    },
    {
     "data": {
      "text/html": [
       "<pre>recommendations finished on 6000/27709 queries. users per second: 94980.3</pre>"
      ],
      "text/plain": [
       "recommendations finished on 6000/27709 queries. users per second: 94980.3"
      ]
     },
     "metadata": {
      "tags": []
     },
     "output_type": "display_data"
    },
    {
     "data": {
      "text/html": [
       "<pre>recommendations finished on 7000/27709 queries. users per second: 99043.5</pre>"
      ],
      "text/plain": [
       "recommendations finished on 7000/27709 queries. users per second: 99043.5"
      ]
     },
     "metadata": {
      "tags": []
     },
     "output_type": "display_data"
    },
    {
     "data": {
      "text/html": [
       "<pre>recommendations finished on 8000/27709 queries. users per second: 102300</pre>"
      ],
      "text/plain": [
       "recommendations finished on 8000/27709 queries. users per second: 102300"
      ]
     },
     "metadata": {
      "tags": []
     },
     "output_type": "display_data"
    },
    {
     "data": {
      "text/html": [
       "<pre>recommendations finished on 9000/27709 queries. users per second: 102505</pre>"
      ],
      "text/plain": [
       "recommendations finished on 9000/27709 queries. users per second: 102505"
      ]
     },
     "metadata": {
      "tags": []
     },
     "output_type": "display_data"
    },
    {
     "data": {
      "text/html": [
       "<pre>recommendations finished on 10000/27709 queries. users per second: 103613</pre>"
      ],
      "text/plain": [
       "recommendations finished on 10000/27709 queries. users per second: 103613"
      ]
     },
     "metadata": {
      "tags": []
     },
     "output_type": "display_data"
    },
    {
     "data": {
      "text/html": [
       "<pre>recommendations finished on 11000/27709 queries. users per second: 103452</pre>"
      ],
      "text/plain": [
       "recommendations finished on 11000/27709 queries. users per second: 103452"
      ]
     },
     "metadata": {
      "tags": []
     },
     "output_type": "display_data"
    },
    {
     "data": {
      "text/html": [
       "<pre>recommendations finished on 12000/27709 queries. users per second: 99726.6</pre>"
      ],
      "text/plain": [
       "recommendations finished on 12000/27709 queries. users per second: 99726.6"
      ]
     },
     "metadata": {
      "tags": []
     },
     "output_type": "display_data"
    },
    {
     "data": {
      "text/html": [
       "<pre>recommendations finished on 13000/27709 queries. users per second: 100728</pre>"
      ],
      "text/plain": [
       "recommendations finished on 13000/27709 queries. users per second: 100728"
      ]
     },
     "metadata": {
      "tags": []
     },
     "output_type": "display_data"
    },
    {
     "data": {
      "text/html": [
       "<pre>recommendations finished on 14000/27709 queries. users per second: 98193.9</pre>"
      ],
      "text/plain": [
       "recommendations finished on 14000/27709 queries. users per second: 98193.9"
      ]
     },
     "metadata": {
      "tags": []
     },
     "output_type": "display_data"
    },
    {
     "data": {
      "text/html": [
       "<pre>recommendations finished on 15000/27709 queries. users per second: 99840.9</pre>"
      ],
      "text/plain": [
       "recommendations finished on 15000/27709 queries. users per second: 99840.9"
      ]
     },
     "metadata": {
      "tags": []
     },
     "output_type": "display_data"
    },
    {
     "data": {
      "text/html": [
       "<pre>recommendations finished on 16000/27709 queries. users per second: 101529</pre>"
      ],
      "text/plain": [
       "recommendations finished on 16000/27709 queries. users per second: 101529"
      ]
     },
     "metadata": {
      "tags": []
     },
     "output_type": "display_data"
    },
    {
     "data": {
      "text/html": [
       "<pre>recommendations finished on 17000/27709 queries. users per second: 102027</pre>"
      ],
      "text/plain": [
       "recommendations finished on 17000/27709 queries. users per second: 102027"
      ]
     },
     "metadata": {
      "tags": []
     },
     "output_type": "display_data"
    },
    {
     "data": {
      "text/html": [
       "<pre>recommendations finished on 18000/27709 queries. users per second: 103416</pre>"
      ],
      "text/plain": [
       "recommendations finished on 18000/27709 queries. users per second: 103416"
      ]
     },
     "metadata": {
      "tags": []
     },
     "output_type": "display_data"
    },
    {
     "data": {
      "text/html": [
       "<pre>recommendations finished on 19000/27709 queries. users per second: 104493</pre>"
      ],
      "text/plain": [
       "recommendations finished on 19000/27709 queries. users per second: 104493"
      ]
     },
     "metadata": {
      "tags": []
     },
     "output_type": "display_data"
    },
    {
     "data": {
      "text/html": [
       "<pre>recommendations finished on 20000/27709 queries. users per second: 101884</pre>"
      ],
      "text/plain": [
       "recommendations finished on 20000/27709 queries. users per second: 101884"
      ]
     },
     "metadata": {
      "tags": []
     },
     "output_type": "display_data"
    },
    {
     "data": {
      "text/html": [
       "<pre>recommendations finished on 21000/27709 queries. users per second: 102222</pre>"
      ],
      "text/plain": [
       "recommendations finished on 21000/27709 queries. users per second: 102222"
      ]
     },
     "metadata": {
      "tags": []
     },
     "output_type": "display_data"
    },
    {
     "data": {
      "text/html": [
       "<pre>recommendations finished on 22000/27709 queries. users per second: 103077</pre>"
      ],
      "text/plain": [
       "recommendations finished on 22000/27709 queries. users per second: 103077"
      ]
     },
     "metadata": {
      "tags": []
     },
     "output_type": "display_data"
    },
    {
     "data": {
      "text/html": [
       "<pre>recommendations finished on 23000/27709 queries. users per second: 104425</pre>"
      ],
      "text/plain": [
       "recommendations finished on 23000/27709 queries. users per second: 104425"
      ]
     },
     "metadata": {
      "tags": []
     },
     "output_type": "display_data"
    },
    {
     "data": {
      "text/html": [
       "<pre>recommendations finished on 24000/27709 queries. users per second: 105299</pre>"
      ],
      "text/plain": [
       "recommendations finished on 24000/27709 queries. users per second: 105299"
      ]
     },
     "metadata": {
      "tags": []
     },
     "output_type": "display_data"
    },
    {
     "data": {
      "text/html": [
       "<pre>recommendations finished on 25000/27709 queries. users per second: 101951</pre>"
      ],
      "text/plain": [
       "recommendations finished on 25000/27709 queries. users per second: 101951"
      ]
     },
     "metadata": {
      "tags": []
     },
     "output_type": "display_data"
    },
    {
     "data": {
      "text/html": [
       "<pre>recommendations finished on 26000/27709 queries. users per second: 102403</pre>"
      ],
      "text/plain": [
       "recommendations finished on 26000/27709 queries. users per second: 102403"
      ]
     },
     "metadata": {
      "tags": []
     },
     "output_type": "display_data"
    },
    {
     "data": {
      "text/html": [
       "<pre>recommendations finished on 27000/27709 queries. users per second: 103029</pre>"
      ],
      "text/plain": [
       "recommendations finished on 27000/27709 queries. users per second: 103029"
      ]
     },
     "metadata": {
      "tags": []
     },
     "output_type": "display_data"
    },
    {
     "name": "stdout",
     "output_type": "stream",
     "text": [
      "\n",
      "Precision and recall summary statistics by cutoff\n",
      "+--------+-----------------------+-----------------------+\n",
      "| cutoff |     mean_precision    |      mean_recall      |\n",
      "+--------+-----------------------+-----------------------+\n",
      "|   1    |  0.008011837309177537 |  0.004545054854521077 |\n",
      "|   2    | 0.0044750802988198874 | 0.0049963866377306316 |\n",
      "|   3    | 0.0033923995813634564 | 0.0057338554676964896 |\n",
      "|   4    | 0.0028691039012595093 |  0.006254399279228749 |\n",
      "|   5    |  0.002403551192753238 |  0.006463817799484978 |\n",
      "|   6    | 0.0024540762929012275 |  0.007860175180360003 |\n",
      "|   7    |  0.003144929703087722 |  0.01162310648398202  |\n",
      "|   8    |  0.003248042152369272 |  0.013623552445325189 |\n",
      "|   9    |  0.003268091795285142 |  0.015165625563420439 |\n",
      "|   10   |  0.004789057706882297 |  0.025643117834283306 |\n",
      "+--------+-----------------------+-----------------------+\n",
      "[10 rows x 3 columns]\n",
      "\n",
      "\n",
      "Overall RMSE: 1.0\n",
      "\n",
      "Per User RMSE (best)\n",
      "+------------+------+-------+\n",
      "| customerId | rmse | count |\n",
      "+------------+------+-------+\n",
      "|   156675   | 1.0  |   3   |\n",
      "+------------+------+-------+\n",
      "[1 rows x 3 columns]\n",
      "\n",
      "\n",
      "Per User RMSE (worst)\n",
      "+------------+------+-------+\n",
      "| customerId | rmse | count |\n",
      "+------------+------+-------+\n",
      "|   51146    | 1.0  |   1   |\n",
      "+------------+------+-------+\n",
      "[1 rows x 3 columns]\n",
      "\n",
      "\n",
      "Per Item RMSE (best)\n",
      "+-----------+------+-------+\n",
      "| productId | rmse | count |\n",
      "+-----------+------+-------+\n",
      "|  Bandejas | 1.0  |   70  |\n",
      "+-----------+------+-------+\n",
      "[1 rows x 3 columns]\n",
      "\n",
      "\n",
      "Per Item RMSE (worst)\n",
      "+------------+------+-------+\n",
      "| productId  | rmse | count |\n",
      "+------------+------+-------+\n",
      "| Accesorios | 1.0  |  824  |\n",
      "+------------+------+-------+\n",
      "[1 rows x 3 columns]\n",
      "\n"
     ]
    }
   ],
   "source": [
    "eval_dummy = tc.recommender.util.compare_models(test_data_dummy, models_w_dummy, model_names=names_w_dummy)"
   ]
  },
  {
   "cell_type": "code",
   "execution_count": 32,
   "metadata": {
    "colab": {
     "base_uri": "https://localhost:8080/",
     "height": 1000
    },
    "colab_type": "code",
    "id": "rxAnoEXWQqDl",
    "outputId": "c17be67c-2702-418b-b184-ce61043fe8ec"
   },
   "outputs": [
    {
     "name": "stdout",
     "output_type": "stream",
     "text": [
      "PROGRESS: Evaluate model Popularity Model on Scaled Purchase Counts\n"
     ]
    },
    {
     "data": {
      "text/html": [
       "<pre>recommendations finished on 1000/18301 queries. users per second: 88020.4</pre>"
      ],
      "text/plain": [
       "recommendations finished on 1000/18301 queries. users per second: 88020.4"
      ]
     },
     "metadata": {
      "tags": []
     },
     "output_type": "display_data"
    },
    {
     "data": {
      "text/html": [
       "<pre>recommendations finished on 2000/18301 queries. users per second: 91835.8</pre>"
      ],
      "text/plain": [
       "recommendations finished on 2000/18301 queries. users per second: 91835.8"
      ]
     },
     "metadata": {
      "tags": []
     },
     "output_type": "display_data"
    },
    {
     "data": {
      "text/html": [
       "<pre>recommendations finished on 3000/18301 queries. users per second: 97962.4</pre>"
      ],
      "text/plain": [
       "recommendations finished on 3000/18301 queries. users per second: 97962.4"
      ]
     },
     "metadata": {
      "tags": []
     },
     "output_type": "display_data"
    },
    {
     "data": {
      "text/html": [
       "<pre>recommendations finished on 4000/18301 queries. users per second: 103694</pre>"
      ],
      "text/plain": [
       "recommendations finished on 4000/18301 queries. users per second: 103694"
      ]
     },
     "metadata": {
      "tags": []
     },
     "output_type": "display_data"
    },
    {
     "data": {
      "text/html": [
       "<pre>recommendations finished on 5000/18301 queries. users per second: 106051</pre>"
      ],
      "text/plain": [
       "recommendations finished on 5000/18301 queries. users per second: 106051"
      ]
     },
     "metadata": {
      "tags": []
     },
     "output_type": "display_data"
    },
    {
     "data": {
      "text/html": [
       "<pre>recommendations finished on 6000/18301 queries. users per second: 107813</pre>"
      ],
      "text/plain": [
       "recommendations finished on 6000/18301 queries. users per second: 107813"
      ]
     },
     "metadata": {
      "tags": []
     },
     "output_type": "display_data"
    },
    {
     "data": {
      "text/html": [
       "<pre>recommendations finished on 7000/18301 queries. users per second: 109711</pre>"
      ],
      "text/plain": [
       "recommendations finished on 7000/18301 queries. users per second: 109711"
      ]
     },
     "metadata": {
      "tags": []
     },
     "output_type": "display_data"
    },
    {
     "data": {
      "text/html": [
       "<pre>recommendations finished on 8000/18301 queries. users per second: 109768</pre>"
      ],
      "text/plain": [
       "recommendations finished on 8000/18301 queries. users per second: 109768"
      ]
     },
     "metadata": {
      "tags": []
     },
     "output_type": "display_data"
    },
    {
     "data": {
      "text/html": [
       "<pre>recommendations finished on 9000/18301 queries. users per second: 111919</pre>"
      ],
      "text/plain": [
       "recommendations finished on 9000/18301 queries. users per second: 111919"
      ]
     },
     "metadata": {
      "tags": []
     },
     "output_type": "display_data"
    },
    {
     "data": {
      "text/html": [
       "<pre>recommendations finished on 10000/18301 queries. users per second: 111843</pre>"
      ],
      "text/plain": [
       "recommendations finished on 10000/18301 queries. users per second: 111843"
      ]
     },
     "metadata": {
      "tags": []
     },
     "output_type": "display_data"
    },
    {
     "data": {
      "text/html": [
       "<pre>recommendations finished on 11000/18301 queries. users per second: 110207</pre>"
      ],
      "text/plain": [
       "recommendations finished on 11000/18301 queries. users per second: 110207"
      ]
     },
     "metadata": {
      "tags": []
     },
     "output_type": "display_data"
    },
    {
     "data": {
      "text/html": [
       "<pre>recommendations finished on 12000/18301 queries. users per second: 106277</pre>"
      ],
      "text/plain": [
       "recommendations finished on 12000/18301 queries. users per second: 106277"
      ]
     },
     "metadata": {
      "tags": []
     },
     "output_type": "display_data"
    },
    {
     "data": {
      "text/html": [
       "<pre>recommendations finished on 13000/18301 queries. users per second: 105338</pre>"
      ],
      "text/plain": [
       "recommendations finished on 13000/18301 queries. users per second: 105338"
      ]
     },
     "metadata": {
      "tags": []
     },
     "output_type": "display_data"
    },
    {
     "data": {
      "text/html": [
       "<pre>recommendations finished on 14000/18301 queries. users per second: 101839</pre>"
      ],
      "text/plain": [
       "recommendations finished on 14000/18301 queries. users per second: 101839"
      ]
     },
     "metadata": {
      "tags": []
     },
     "output_type": "display_data"
    },
    {
     "data": {
      "text/html": [
       "<pre>recommendations finished on 15000/18301 queries. users per second: 99397.7</pre>"
      ],
      "text/plain": [
       "recommendations finished on 15000/18301 queries. users per second: 99397.7"
      ]
     },
     "metadata": {
      "tags": []
     },
     "output_type": "display_data"
    },
    {
     "data": {
      "text/html": [
       "<pre>recommendations finished on 16000/18301 queries. users per second: 99016</pre>"
      ],
      "text/plain": [
       "recommendations finished on 16000/18301 queries. users per second: 99016"
      ]
     },
     "metadata": {
      "tags": []
     },
     "output_type": "display_data"
    },
    {
     "data": {
      "text/html": [
       "<pre>recommendations finished on 17000/18301 queries. users per second: 97720.8</pre>"
      ],
      "text/plain": [
       "recommendations finished on 17000/18301 queries. users per second: 97720.8"
      ]
     },
     "metadata": {
      "tags": []
     },
     "output_type": "display_data"
    },
    {
     "data": {
      "text/html": [
       "<pre>recommendations finished on 18000/18301 queries. users per second: 97934.7</pre>"
      ],
      "text/plain": [
       "recommendations finished on 18000/18301 queries. users per second: 97934.7"
      ]
     },
     "metadata": {
      "tags": []
     },
     "output_type": "display_data"
    },
    {
     "name": "stdout",
     "output_type": "stream",
     "text": [
      "\n",
      "Precision and recall summary statistics by cutoff\n",
      "+--------+----------------------+-----------------------+\n",
      "| cutoff |    mean_precision    |      mean_recall      |\n",
      "+--------+----------------------+-----------------------+\n",
      "|   1    | 0.004371345828096819 | 0.0030071216509116048 |\n",
      "|   2    | 0.012731544724332012 |  0.017140229131377277 |\n",
      "|   3    | 0.010072309345573072 |  0.020514361692439625 |\n",
      "|   4    | 0.02596852631003771  |  0.07482742290949464  |\n",
      "|   5    | 0.04613955521556201  |   0.173006939511502   |\n",
      "|   6    | 0.03958800065570172  |  0.17774256415860828  |\n",
      "|   7    | 0.035236169764337806 |  0.18378321767480832  |\n",
      "|   8    | 0.03215671274793728  |  0.19150501794073135  |\n",
      "|   9    | 0.03214760577746186  |   0.2144172449592926  |\n",
      "|   10   | 0.034599202229386304 |  0.25704424166256973  |\n",
      "+--------+----------------------+-----------------------+\n",
      "[10 rows x 3 columns]\n",
      "\n",
      "\n",
      "Overall RMSE: 0.06570070531290917\n",
      "\n",
      "Per User RMSE (best)\n",
      "+------------+-----------------------+-------+\n",
      "| customerId |          rmse         | count |\n",
      "+------------+-----------------------+-------+\n",
      "|    7775    | 0.0007621539565535245 |   1   |\n",
      "+------------+-----------------------+-------+\n",
      "[1 rows x 3 columns]\n",
      "\n",
      "\n",
      "Per User RMSE (worst)\n",
      "+------------+--------------------+-------+\n",
      "| customerId |        rmse        | count |\n",
      "+------------+--------------------+-------+\n",
      "|   79144    | 0.9802152579930358 |   1   |\n",
      "+------------+--------------------+-------+\n",
      "[1 rows x 3 columns]\n",
      "\n",
      "\n",
      "Per Item RMSE (best)\n",
      "+-----------+---------------------+-------+\n",
      "| productId |         rmse        | count |\n",
      "+-----------+---------------------+-------+\n",
      "|    Bebé   | 0.00847457627118644 |   33  |\n",
      "+-----------+---------------------+-------+\n",
      "[1 rows x 3 columns]\n",
      "\n",
      "\n",
      "Per Item RMSE (worst)\n",
      "+-----------+--------------------+-------+\n",
      "| productId |        rmse        | count |\n",
      "+-----------+--------------------+-------+\n",
      "|   Velas   | 0.3695803382818196 |   13  |\n",
      "+-----------+--------------------+-------+\n",
      "[1 rows x 3 columns]\n",
      "\n",
      "PROGRESS: Evaluate model Cosine Similarity on Scaled Purchase Counts\n"
     ]
    },
    {
     "data": {
      "text/html": [
       "<pre>recommendations finished on 1000/18301 queries. users per second: 88090.2</pre>"
      ],
      "text/plain": [
       "recommendations finished on 1000/18301 queries. users per second: 88090.2"
      ]
     },
     "metadata": {
      "tags": []
     },
     "output_type": "display_data"
    },
    {
     "data": {
      "text/html": [
       "<pre>recommendations finished on 2000/18301 queries. users per second: 94890.2</pre>"
      ],
      "text/plain": [
       "recommendations finished on 2000/18301 queries. users per second: 94890.2"
      ]
     },
     "metadata": {
      "tags": []
     },
     "output_type": "display_data"
    },
    {
     "data": {
      "text/html": [
       "<pre>recommendations finished on 3000/18301 queries. users per second: 90661.8</pre>"
      ],
      "text/plain": [
       "recommendations finished on 3000/18301 queries. users per second: 90661.8"
      ]
     },
     "metadata": {
      "tags": []
     },
     "output_type": "display_data"
    },
    {
     "data": {
      "text/html": [
       "<pre>recommendations finished on 4000/18301 queries. users per second: 97356.8</pre>"
      ],
      "text/plain": [
       "recommendations finished on 4000/18301 queries. users per second: 97356.8"
      ]
     },
     "metadata": {
      "tags": []
     },
     "output_type": "display_data"
    },
    {
     "data": {
      "text/html": [
       "<pre>recommendations finished on 5000/18301 queries. users per second: 99728.7</pre>"
      ],
      "text/plain": [
       "recommendations finished on 5000/18301 queries. users per second: 99728.7"
      ]
     },
     "metadata": {
      "tags": []
     },
     "output_type": "display_data"
    },
    {
     "data": {
      "text/html": [
       "<pre>recommendations finished on 6000/18301 queries. users per second: 100783</pre>"
      ],
      "text/plain": [
       "recommendations finished on 6000/18301 queries. users per second: 100783"
      ]
     },
     "metadata": {
      "tags": []
     },
     "output_type": "display_data"
    },
    {
     "data": {
      "text/html": [
       "<pre>recommendations finished on 7000/18301 queries. users per second: 103266</pre>"
      ],
      "text/plain": [
       "recommendations finished on 7000/18301 queries. users per second: 103266"
      ]
     },
     "metadata": {
      "tags": []
     },
     "output_type": "display_data"
    },
    {
     "data": {
      "text/html": [
       "<pre>recommendations finished on 8000/18301 queries. users per second: 106187</pre>"
      ],
      "text/plain": [
       "recommendations finished on 8000/18301 queries. users per second: 106187"
      ]
     },
     "metadata": {
      "tags": []
     },
     "output_type": "display_data"
    },
    {
     "data": {
      "text/html": [
       "<pre>recommendations finished on 9000/18301 queries. users per second: 108024</pre>"
      ],
      "text/plain": [
       "recommendations finished on 9000/18301 queries. users per second: 108024"
      ]
     },
     "metadata": {
      "tags": []
     },
     "output_type": "display_data"
    },
    {
     "data": {
      "text/html": [
       "<pre>recommendations finished on 10000/18301 queries. users per second: 107348</pre>"
      ],
      "text/plain": [
       "recommendations finished on 10000/18301 queries. users per second: 107348"
      ]
     },
     "metadata": {
      "tags": []
     },
     "output_type": "display_data"
    },
    {
     "data": {
      "text/html": [
       "<pre>recommendations finished on 11000/18301 queries. users per second: 107241</pre>"
      ],
      "text/plain": [
       "recommendations finished on 11000/18301 queries. users per second: 107241"
      ]
     },
     "metadata": {
      "tags": []
     },
     "output_type": "display_data"
    },
    {
     "data": {
      "text/html": [
       "<pre>recommendations finished on 12000/18301 queries. users per second: 101492</pre>"
      ],
      "text/plain": [
       "recommendations finished on 12000/18301 queries. users per second: 101492"
      ]
     },
     "metadata": {
      "tags": []
     },
     "output_type": "display_data"
    },
    {
     "data": {
      "text/html": [
       "<pre>recommendations finished on 13000/18301 queries. users per second: 100976</pre>"
      ],
      "text/plain": [
       "recommendations finished on 13000/18301 queries. users per second: 100976"
      ]
     },
     "metadata": {
      "tags": []
     },
     "output_type": "display_data"
    },
    {
     "data": {
      "text/html": [
       "<pre>recommendations finished on 14000/18301 queries. users per second: 102527</pre>"
      ],
      "text/plain": [
       "recommendations finished on 14000/18301 queries. users per second: 102527"
      ]
     },
     "metadata": {
      "tags": []
     },
     "output_type": "display_data"
    },
    {
     "data": {
      "text/html": [
       "<pre>recommendations finished on 15000/18301 queries. users per second: 100774</pre>"
      ],
      "text/plain": [
       "recommendations finished on 15000/18301 queries. users per second: 100774"
      ]
     },
     "metadata": {
      "tags": []
     },
     "output_type": "display_data"
    },
    {
     "data": {
      "text/html": [
       "<pre>recommendations finished on 16000/18301 queries. users per second: 99993.1</pre>"
      ],
      "text/plain": [
       "recommendations finished on 16000/18301 queries. users per second: 99993.1"
      ]
     },
     "metadata": {
      "tags": []
     },
     "output_type": "display_data"
    },
    {
     "data": {
      "text/html": [
       "<pre>recommendations finished on 17000/18301 queries. users per second: 94581.1</pre>"
      ],
      "text/plain": [
       "recommendations finished on 17000/18301 queries. users per second: 94581.1"
      ]
     },
     "metadata": {
      "tags": []
     },
     "output_type": "display_data"
    },
    {
     "data": {
      "text/html": [
       "<pre>recommendations finished on 18000/18301 queries. users per second: 95468.9</pre>"
      ],
      "text/plain": [
       "recommendations finished on 18000/18301 queries. users per second: 95468.9"
      ]
     },
     "metadata": {
      "tags": []
     },
     "output_type": "display_data"
    },
    {
     "name": "stdout",
     "output_type": "stream",
     "text": [
      "\n",
      "Precision and recall summary statistics by cutoff\n",
      "+--------+---------------------+---------------------+\n",
      "| cutoff |    mean_precision   |     mean_recall     |\n",
      "+--------+---------------------+---------------------+\n",
      "|   1    | 0.14343478498442572 | 0.11278345445604056 |\n",
      "|   2    | 0.13190536036282094 | 0.20603063584867823 |\n",
      "|   3    |  0.1252572719159247 | 0.28877748028340866 |\n",
      "|   4    |  0.1049669416971756 | 0.32077664244212495 |\n",
      "|   5    | 0.09339380361728876 | 0.35126495819900627 |\n",
      "|   6    |  0.0811977487568981 |  0.3656330255177309 |\n",
      "|   7    | 0.07173690742894605 | 0.37573265577473197 |\n",
      "|   8    | 0.06457980438227376 |  0.3854397756042458 |\n",
      "|   9    | 0.05873995956505114 |  0.3938127242591463 |\n",
      "|   10   | 0.05548330692311909 |  0.4125758155292077 |\n",
      "+--------+---------------------+---------------------+\n",
      "[10 rows x 3 columns]\n",
      "\n",
      "\n",
      "Overall RMSE: 0.07123402215235912\n",
      "\n",
      "Per User RMSE (best)\n",
      "+------------+------+-------+\n",
      "| customerId | rmse | count |\n",
      "+------------+------+-------+\n",
      "|   86681    | 0.0  |   2   |\n",
      "+------------+------+-------+\n",
      "[1 rows x 3 columns]\n",
      "\n",
      "\n",
      "Per User RMSE (worst)\n",
      "+------------+------+-------+\n",
      "| customerId | rmse | count |\n",
      "+------------+------+-------+\n",
      "|   79144    | 1.0  |   1   |\n",
      "+------------+------+-------+\n",
      "[1 rows x 3 columns]\n",
      "\n",
      "\n",
      "Per Item RMSE (best)\n",
      "+-----------+------+-------+\n",
      "| productId | rmse | count |\n",
      "+-----------+------+-------+\n",
      "|    Bebé   | 0.0  |   33  |\n",
      "+-----------+------+-------+\n",
      "[1 rows x 3 columns]\n",
      "\n",
      "\n",
      "Per Item RMSE (worst)\n",
      "+-----------+--------------------+-------+\n",
      "| productId |        rmse        | count |\n",
      "+-----------+--------------------+-------+\n",
      "|   Velas   | 0.3922218963845791 |   13  |\n",
      "+-----------+--------------------+-------+\n",
      "[1 rows x 3 columns]\n",
      "\n",
      "PROGRESS: Evaluate model Pearson Similarity on Scaled Purchase Counts\n"
     ]
    },
    {
     "data": {
      "text/html": [
       "<pre>recommendations finished on 1000/18301 queries. users per second: 85287.8</pre>"
      ],
      "text/plain": [
       "recommendations finished on 1000/18301 queries. users per second: 85287.8"
      ]
     },
     "metadata": {
      "tags": []
     },
     "output_type": "display_data"
    },
    {
     "data": {
      "text/html": [
       "<pre>recommendations finished on 2000/18301 queries. users per second: 80703.7</pre>"
      ],
      "text/plain": [
       "recommendations finished on 2000/18301 queries. users per second: 80703.7"
      ]
     },
     "metadata": {
      "tags": []
     },
     "output_type": "display_data"
    },
    {
     "data": {
      "text/html": [
       "<pre>recommendations finished on 3000/18301 queries. users per second: 88820.5</pre>"
      ],
      "text/plain": [
       "recommendations finished on 3000/18301 queries. users per second: 88820.5"
      ]
     },
     "metadata": {
      "tags": []
     },
     "output_type": "display_data"
    },
    {
     "data": {
      "text/html": [
       "<pre>recommendations finished on 4000/18301 queries. users per second: 92509.1</pre>"
      ],
      "text/plain": [
       "recommendations finished on 4000/18301 queries. users per second: 92509.1"
      ]
     },
     "metadata": {
      "tags": []
     },
     "output_type": "display_data"
    },
    {
     "data": {
      "text/html": [
       "<pre>recommendations finished on 5000/18301 queries. users per second: 94222.3</pre>"
      ],
      "text/plain": [
       "recommendations finished on 5000/18301 queries. users per second: 94222.3"
      ]
     },
     "metadata": {
      "tags": []
     },
     "output_type": "display_data"
    },
    {
     "data": {
      "text/html": [
       "<pre>recommendations finished on 6000/18301 queries. users per second: 96774.2</pre>"
      ],
      "text/plain": [
       "recommendations finished on 6000/18301 queries. users per second: 96774.2"
      ]
     },
     "metadata": {
      "tags": []
     },
     "output_type": "display_data"
    },
    {
     "data": {
      "text/html": [
       "<pre>recommendations finished on 7000/18301 queries. users per second: 99508.1</pre>"
      ],
      "text/plain": [
       "recommendations finished on 7000/18301 queries. users per second: 99508.1"
      ]
     },
     "metadata": {
      "tags": []
     },
     "output_type": "display_data"
    },
    {
     "data": {
      "text/html": [
       "<pre>recommendations finished on 8000/18301 queries. users per second: 98516.1</pre>"
      ],
      "text/plain": [
       "recommendations finished on 8000/18301 queries. users per second: 98516.1"
      ]
     },
     "metadata": {
      "tags": []
     },
     "output_type": "display_data"
    },
    {
     "data": {
      "text/html": [
       "<pre>recommendations finished on 9000/18301 queries. users per second: 92584</pre>"
      ],
      "text/plain": [
       "recommendations finished on 9000/18301 queries. users per second: 92584"
      ]
     },
     "metadata": {
      "tags": []
     },
     "output_type": "display_data"
    },
    {
     "data": {
      "text/html": [
       "<pre>recommendations finished on 10000/18301 queries. users per second: 92013.2</pre>"
      ],
      "text/plain": [
       "recommendations finished on 10000/18301 queries. users per second: 92013.2"
      ]
     },
     "metadata": {
      "tags": []
     },
     "output_type": "display_data"
    },
    {
     "data": {
      "text/html": [
       "<pre>recommendations finished on 11000/18301 queries. users per second: 93709.5</pre>"
      ],
      "text/plain": [
       "recommendations finished on 11000/18301 queries. users per second: 93709.5"
      ]
     },
     "metadata": {
      "tags": []
     },
     "output_type": "display_data"
    },
    {
     "data": {
      "text/html": [
       "<pre>recommendations finished on 12000/18301 queries. users per second: 95525.4</pre>"
      ],
      "text/plain": [
       "recommendations finished on 12000/18301 queries. users per second: 95525.4"
      ]
     },
     "metadata": {
      "tags": []
     },
     "output_type": "display_data"
    },
    {
     "data": {
      "text/html": [
       "<pre>recommendations finished on 13000/18301 queries. users per second: 96853.7</pre>"
      ],
      "text/plain": [
       "recommendations finished on 13000/18301 queries. users per second: 96853.7"
      ]
     },
     "metadata": {
      "tags": []
     },
     "output_type": "display_data"
    },
    {
     "data": {
      "text/html": [
       "<pre>recommendations finished on 14000/18301 queries. users per second: 97930.9</pre>"
      ],
      "text/plain": [
       "recommendations finished on 14000/18301 queries. users per second: 97930.9"
      ]
     },
     "metadata": {
      "tags": []
     },
     "output_type": "display_data"
    },
    {
     "data": {
      "text/html": [
       "<pre>recommendations finished on 15000/18301 queries. users per second: 95467.2</pre>"
      ],
      "text/plain": [
       "recommendations finished on 15000/18301 queries. users per second: 95467.2"
      ]
     },
     "metadata": {
      "tags": []
     },
     "output_type": "display_data"
    },
    {
     "data": {
      "text/html": [
       "<pre>recommendations finished on 16000/18301 queries. users per second: 90794.6</pre>"
      ],
      "text/plain": [
       "recommendations finished on 16000/18301 queries. users per second: 90794.6"
      ]
     },
     "metadata": {
      "tags": []
     },
     "output_type": "display_data"
    },
    {
     "data": {
      "text/html": [
       "<pre>recommendations finished on 17000/18301 queries. users per second: 90009.5</pre>"
      ],
      "text/plain": [
       "recommendations finished on 17000/18301 queries. users per second: 90009.5"
      ]
     },
     "metadata": {
      "tags": []
     },
     "output_type": "display_data"
    },
    {
     "data": {
      "text/html": [
       "<pre>recommendations finished on 18000/18301 queries. users per second: 90693.8</pre>"
      ],
      "text/plain": [
       "recommendations finished on 18000/18301 queries. users per second: 90693.8"
      ]
     },
     "metadata": {
      "tags": []
     },
     "output_type": "display_data"
    },
    {
     "name": "stdout",
     "output_type": "stream",
     "text": [
      "\n",
      "Precision and recall summary statistics by cutoff\n",
      "+--------+----------------------+-----------------------+\n",
      "| cutoff |    mean_precision    |      mean_recall      |\n",
      "+--------+----------------------+-----------------------+\n",
      "|   1    | 0.00437134582809681  | 0.0030071216509116095 |\n",
      "|   2    | 0.012922791104311257 |  0.017431652186583466 |\n",
      "|   3    | 0.01040016028268038  |  0.021206491448554757 |\n",
      "|   4    | 0.026009507677176018 |   0.0749640274666228  |\n",
      "|   5    | 0.04623791049669432  |  0.17336211136003568  |\n",
      "|   6    | 0.03978835400615646  |   0.1787170099994529  |\n",
      "|   7    | 0.035688916296533174 |   0.1863377228931014  |\n",
      "|   8    | 0.032757772799300686 |  0.19556217328743367  |\n",
      "|   9    | 0.03271830926057478  |  0.21877948381691437  |\n",
      "|   10   | 0.03539150866072883  |   0.2637833998142183  |\n",
      "+--------+----------------------+-----------------------+\n",
      "[10 rows x 3 columns]\n",
      "\n",
      "\n",
      "Overall RMSE: 0.0650926049468203\n",
      "\n",
      "Per User RMSE (best)\n",
      "+------------+-----------------------+-------+\n",
      "| customerId |          rmse         | count |\n",
      "+------------+-----------------------+-------+\n",
      "|    9831    | 6.973531705393998e-05 |   1   |\n",
      "+------------+-----------------------+-------+\n",
      "[1 rows x 3 columns]\n",
      "\n",
      "\n",
      "Per User RMSE (worst)\n",
      "+------------+--------------------+-------+\n",
      "| customerId |        rmse        | count |\n",
      "+------------+--------------------+-------+\n",
      "|   79144    | 0.9803294604924254 |   1   |\n",
      "+------------+--------------------+-------+\n",
      "[1 rows x 3 columns]\n",
      "\n",
      "\n",
      "Per Item RMSE (best)\n",
      "+-----------+----------------------+-------+\n",
      "| productId |         rmse         | count |\n",
      "+-----------+----------------------+-------+\n",
      "|    Bebé   | 0.008473521179654475 |   33  |\n",
      "+-----------+----------------------+-------+\n",
      "[1 rows x 3 columns]\n",
      "\n",
      "\n",
      "Per Item RMSE (worst)\n",
      "+-----------+--------------------+-------+\n",
      "| productId |        rmse        | count |\n",
      "+-----------+--------------------+-------+\n",
      "|   Velas   | 0.3695701755822337 |   13  |\n",
      "+-----------+--------------------+-------+\n",
      "[1 rows x 3 columns]\n",
      "\n"
     ]
    }
   ],
   "source": [
    "eval_norm = tc.recommender.util.compare_models(test_data_norm, models_w_norm, model_names=names_w_norm)"
   ]
  },
  {
   "cell_type": "markdown",
   "metadata": {
    "colab_type": "text",
    "id": "IGw3t-tjln5h"
   },
   "source": [
    "## 8.2. Resumen de evaluación\n",
    "\n",
    "Basado en precisión, recuperación y RMSE\n",
    "\n",
    "Popularidad vs. Filtrado colaborativo: podemos ver que los algoritmos de filtrado colaborativo funcionan mejor que el modelo de popularidad para los recuentos de compras. De hecho, el modelo de popularidad no ofrece personalizaciones, ya que solo ofrece la misma lista de elementos recomendados para cada usuario.\n",
    "\n",
    "Precisión y recuperación: al observar el resumen anterior, vemos que la precisión y la recuperación son mejores para el uso de dummies. De hecho, el RMSE no es muy diferente entre los modelos dummy y los de los datos normalizados. RMSE: Dado que RMSE es mayor usando la distancia de Pearson que la coseno, elegiríamos modelar los errores cuadrados medios más pequeños, que en este caso serían coseno. Por lo tanto, seleccionamos la similitud de coseno en el método de compra dummy como nuestro modelo final."
   ]
  },
  {
   "cell_type": "markdown",
   "metadata": {
    "colab_type": "text",
    "id": "S703usCkln5m"
   },
   "source": [
    "# 9. Output Final \n",
    "\n",
    "Finalmente, nos gustaría manipular el formato de salida de recomendación a uno que podamos exportar a csv, y también una función que devolverá la lista de recomendaciones dada una ID de cliente.\n",
    "Primero tenemos que volver a ejecutar el modelo usando todo el conjunto de datos, ya que llegamos a un modelo final usando datos del tren y evaluado con el conjunto de prueba.\n"
   ]
  },
  {
   "cell_type": "code",
   "execution_count": 33,
   "metadata": {
    "colab": {
     "base_uri": "https://localhost:8080/",
     "height": 1000
    },
    "colab_type": "code",
    "id": "1ImxGwSUln5p",
    "outputId": "9d434e40-bad1-45b5-8cba-9845cfe4eb25"
   },
   "outputs": [
    {
     "data": {
      "text/html": [
       "<pre>Warning: Ignoring columns purchase_count;</pre>"
      ],
      "text/plain": [
       "Warning: Ignoring columns purchase_count;"
      ]
     },
     "metadata": {
      "tags": []
     },
     "output_type": "display_data"
    },
    {
     "data": {
      "text/html": [
       "<pre>    To use these columns in scoring predictions, use a model that allows the use of additional features.</pre>"
      ],
      "text/plain": [
       "    To use these columns in scoring predictions, use a model that allows the use of additional features."
      ]
     },
     "metadata": {
      "tags": []
     },
     "output_type": "display_data"
    },
    {
     "data": {
      "text/html": [
       "<pre>Preparing data set.</pre>"
      ],
      "text/plain": [
       "Preparing data set."
      ]
     },
     "metadata": {
      "tags": []
     },
     "output_type": "display_data"
    },
    {
     "data": {
      "text/html": [
       "<pre>    Data has 246858 observations with 39037 users and 27 items.</pre>"
      ],
      "text/plain": [
       "    Data has 246858 observations with 39037 users and 27 items."
      ]
     },
     "metadata": {
      "tags": []
     },
     "output_type": "display_data"
    },
    {
     "data": {
      "text/html": [
       "<pre>    Data prepared in: 0.2047s</pre>"
      ],
      "text/plain": [
       "    Data prepared in: 0.2047s"
      ]
     },
     "metadata": {
      "tags": []
     },
     "output_type": "display_data"
    },
    {
     "data": {
      "text/html": [
       "<pre>Training model from provided data.</pre>"
      ],
      "text/plain": [
       "Training model from provided data."
      ]
     },
     "metadata": {
      "tags": []
     },
     "output_type": "display_data"
    },
    {
     "data": {
      "text/html": [
       "<pre>Gathering per-item and per-user statistics.</pre>"
      ],
      "text/plain": [
       "Gathering per-item and per-user statistics."
      ]
     },
     "metadata": {
      "tags": []
     },
     "output_type": "display_data"
    },
    {
     "data": {
      "text/html": [
       "<pre>+--------------------------------+------------+</pre>"
      ],
      "text/plain": [
       "+--------------------------------+------------+"
      ]
     },
     "metadata": {
      "tags": []
     },
     "output_type": "display_data"
    },
    {
     "data": {
      "text/html": [
       "<pre>| Elapsed Time (Item Statistics) | % Complete |</pre>"
      ],
      "text/plain": [
       "| Elapsed Time (Item Statistics) | % Complete |"
      ]
     },
     "metadata": {
      "tags": []
     },
     "output_type": "display_data"
    },
    {
     "data": {
      "text/html": [
       "<pre>+--------------------------------+------------+</pre>"
      ],
      "text/plain": [
       "+--------------------------------+------------+"
      ]
     },
     "metadata": {
      "tags": []
     },
     "output_type": "display_data"
    },
    {
     "data": {
      "text/html": [
       "<pre>| 9.186ms                        | 2.5        |</pre>"
      ],
      "text/plain": [
       "| 9.186ms                        | 2.5        |"
      ]
     },
     "metadata": {
      "tags": []
     },
     "output_type": "display_data"
    },
    {
     "data": {
      "text/html": [
       "<pre>| 23.992ms                       | 100        |</pre>"
      ],
      "text/plain": [
       "| 23.992ms                       | 100        |"
      ]
     },
     "metadata": {
      "tags": []
     },
     "output_type": "display_data"
    },
    {
     "data": {
      "text/html": [
       "<pre>+--------------------------------+------------+</pre>"
      ],
      "text/plain": [
       "+--------------------------------+------------+"
      ]
     },
     "metadata": {
      "tags": []
     },
     "output_type": "display_data"
    },
    {
     "data": {
      "text/html": [
       "<pre>Setting up lookup tables.</pre>"
      ],
      "text/plain": [
       "Setting up lookup tables."
      ]
     },
     "metadata": {
      "tags": []
     },
     "output_type": "display_data"
    },
    {
     "data": {
      "text/html": [
       "<pre>Processing data in one pass using dense lookup tables.</pre>"
      ],
      "text/plain": [
       "Processing data in one pass using dense lookup tables."
      ]
     },
     "metadata": {
      "tags": []
     },
     "output_type": "display_data"
    },
    {
     "data": {
      "text/html": [
       "<pre>+-------------------------------------+------------------+-----------------+</pre>"
      ],
      "text/plain": [
       "+-------------------------------------+------------------+-----------------+"
      ]
     },
     "metadata": {
      "tags": []
     },
     "output_type": "display_data"
    },
    {
     "data": {
      "text/html": [
       "<pre>| Elapsed Time (Constructing Lookups) | Total % Complete | Items Processed |</pre>"
      ],
      "text/plain": [
       "| Elapsed Time (Constructing Lookups) | Total % Complete | Items Processed |"
      ]
     },
     "metadata": {
      "tags": []
     },
     "output_type": "display_data"
    },
    {
     "data": {
      "text/html": [
       "<pre>+-------------------------------------+------------------+-----------------+</pre>"
      ],
      "text/plain": [
       "+-------------------------------------+------------------+-----------------+"
      ]
     },
     "metadata": {
      "tags": []
     },
     "output_type": "display_data"
    },
    {
     "data": {
      "text/html": [
       "<pre>| 24.596ms                            | 0                | 0               |</pre>"
      ],
      "text/plain": [
       "| 24.596ms                            | 0                | 0               |"
      ]
     },
     "metadata": {
      "tags": []
     },
     "output_type": "display_data"
    },
    {
     "data": {
      "text/html": [
       "<pre>| 39.567ms                            | 100              | 27              |</pre>"
      ],
      "text/plain": [
       "| 39.567ms                            | 100              | 27              |"
      ]
     },
     "metadata": {
      "tags": []
     },
     "output_type": "display_data"
    },
    {
     "data": {
      "text/html": [
       "<pre>+-------------------------------------+------------------+-----------------+</pre>"
      ],
      "text/plain": [
       "+-------------------------------------+------------------+-----------------+"
      ]
     },
     "metadata": {
      "tags": []
     },
     "output_type": "display_data"
    },
    {
     "data": {
      "text/html": [
       "<pre>Finalizing lookup tables.</pre>"
      ],
      "text/plain": [
       "Finalizing lookup tables."
      ]
     },
     "metadata": {
      "tags": []
     },
     "output_type": "display_data"
    },
    {
     "data": {
      "text/html": [
       "<pre>Generating candidate set for working with new users.</pre>"
      ],
      "text/plain": [
       "Generating candidate set for working with new users."
      ]
     },
     "metadata": {
      "tags": []
     },
     "output_type": "display_data"
    },
    {
     "data": {
      "text/html": [
       "<pre>Finished training in 0.068188s</pre>"
      ],
      "text/plain": [
       "Finished training in 0.068188s"
      ]
     },
     "metadata": {
      "tags": []
     },
     "output_type": "display_data"
    },
    {
     "data": {
      "text/html": [
       "<pre>recommendations finished on 1000/39037 queries. users per second: 228363</pre>"
      ],
      "text/plain": [
       "recommendations finished on 1000/39037 queries. users per second: 228363"
      ]
     },
     "metadata": {
      "tags": []
     },
     "output_type": "display_data"
    },
    {
     "data": {
      "text/html": [
       "<pre>recommendations finished on 2000/39037 queries. users per second: 173717</pre>"
      ],
      "text/plain": [
       "recommendations finished on 2000/39037 queries. users per second: 173717"
      ]
     },
     "metadata": {
      "tags": []
     },
     "output_type": "display_data"
    },
    {
     "data": {
      "text/html": [
       "<pre>recommendations finished on 3000/39037 queries. users per second: 165782</pre>"
      ],
      "text/plain": [
       "recommendations finished on 3000/39037 queries. users per second: 165782"
      ]
     },
     "metadata": {
      "tags": []
     },
     "output_type": "display_data"
    },
    {
     "data": {
      "text/html": [
       "<pre>recommendations finished on 4000/39037 queries. users per second: 171380</pre>"
      ],
      "text/plain": [
       "recommendations finished on 4000/39037 queries. users per second: 171380"
      ]
     },
     "metadata": {
      "tags": []
     },
     "output_type": "display_data"
    },
    {
     "data": {
      "text/html": [
       "<pre>recommendations finished on 5000/39037 queries. users per second: 164582</pre>"
      ],
      "text/plain": [
       "recommendations finished on 5000/39037 queries. users per second: 164582"
      ]
     },
     "metadata": {
      "tags": []
     },
     "output_type": "display_data"
    },
    {
     "data": {
      "text/html": [
       "<pre>recommendations finished on 6000/39037 queries. users per second: 162672</pre>"
      ],
      "text/plain": [
       "recommendations finished on 6000/39037 queries. users per second: 162672"
      ]
     },
     "metadata": {
      "tags": []
     },
     "output_type": "display_data"
    },
    {
     "data": {
      "text/html": [
       "<pre>recommendations finished on 7000/39037 queries. users per second: 161298</pre>"
      ],
      "text/plain": [
       "recommendations finished on 7000/39037 queries. users per second: 161298"
      ]
     },
     "metadata": {
      "tags": []
     },
     "output_type": "display_data"
    },
    {
     "data": {
      "text/html": [
       "<pre>recommendations finished on 8000/39037 queries. users per second: 164914</pre>"
      ],
      "text/plain": [
       "recommendations finished on 8000/39037 queries. users per second: 164914"
      ]
     },
     "metadata": {
      "tags": []
     },
     "output_type": "display_data"
    },
    {
     "data": {
      "text/html": [
       "<pre>recommendations finished on 9000/39037 queries. users per second: 157759</pre>"
      ],
      "text/plain": [
       "recommendations finished on 9000/39037 queries. users per second: 157759"
      ]
     },
     "metadata": {
      "tags": []
     },
     "output_type": "display_data"
    },
    {
     "data": {
      "text/html": [
       "<pre>recommendations finished on 10000/39037 queries. users per second: 154696</pre>"
      ],
      "text/plain": [
       "recommendations finished on 10000/39037 queries. users per second: 154696"
      ]
     },
     "metadata": {
      "tags": []
     },
     "output_type": "display_data"
    },
    {
     "data": {
      "text/html": [
       "<pre>recommendations finished on 11000/39037 queries. users per second: 157172</pre>"
      ],
      "text/plain": [
       "recommendations finished on 11000/39037 queries. users per second: 157172"
      ]
     },
     "metadata": {
      "tags": []
     },
     "output_type": "display_data"
    },
    {
     "data": {
      "text/html": [
       "<pre>recommendations finished on 12000/39037 queries. users per second: 156725</pre>"
      ],
      "text/plain": [
       "recommendations finished on 12000/39037 queries. users per second: 156725"
      ]
     },
     "metadata": {
      "tags": []
     },
     "output_type": "display_data"
    },
    {
     "data": {
      "text/html": [
       "<pre>recommendations finished on 13000/39037 queries. users per second: 159398</pre>"
      ],
      "text/plain": [
       "recommendations finished on 13000/39037 queries. users per second: 159398"
      ]
     },
     "metadata": {
      "tags": []
     },
     "output_type": "display_data"
    },
    {
     "data": {
      "text/html": [
       "<pre>recommendations finished on 14000/39037 queries. users per second: 157720</pre>"
      ],
      "text/plain": [
       "recommendations finished on 14000/39037 queries. users per second: 157720"
      ]
     },
     "metadata": {
      "tags": []
     },
     "output_type": "display_data"
    },
    {
     "data": {
      "text/html": [
       "<pre>recommendations finished on 15000/39037 queries. users per second: 155736</pre>"
      ],
      "text/plain": [
       "recommendations finished on 15000/39037 queries. users per second: 155736"
      ]
     },
     "metadata": {
      "tags": []
     },
     "output_type": "display_data"
    },
    {
     "data": {
      "text/html": [
       "<pre>recommendations finished on 16000/39037 queries. users per second: 156235</pre>"
      ],
      "text/plain": [
       "recommendations finished on 16000/39037 queries. users per second: 156235"
      ]
     },
     "metadata": {
      "tags": []
     },
     "output_type": "display_data"
    },
    {
     "data": {
      "text/html": [
       "<pre>recommendations finished on 17000/39037 queries. users per second: 158022</pre>"
      ],
      "text/plain": [
       "recommendations finished on 17000/39037 queries. users per second: 158022"
      ]
     },
     "metadata": {
      "tags": []
     },
     "output_type": "display_data"
    },
    {
     "data": {
      "text/html": [
       "<pre>recommendations finished on 18000/39037 queries. users per second: 158762</pre>"
      ],
      "text/plain": [
       "recommendations finished on 18000/39037 queries. users per second: 158762"
      ]
     },
     "metadata": {
      "tags": []
     },
     "output_type": "display_data"
    },
    {
     "data": {
      "text/html": [
       "<pre>recommendations finished on 19000/39037 queries. users per second: 157843</pre>"
      ],
      "text/plain": [
       "recommendations finished on 19000/39037 queries. users per second: 157843"
      ]
     },
     "metadata": {
      "tags": []
     },
     "output_type": "display_data"
    },
    {
     "data": {
      "text/html": [
       "<pre>recommendations finished on 20000/39037 queries. users per second: 152216</pre>"
      ],
      "text/plain": [
       "recommendations finished on 20000/39037 queries. users per second: 152216"
      ]
     },
     "metadata": {
      "tags": []
     },
     "output_type": "display_data"
    },
    {
     "data": {
      "text/html": [
       "<pre>recommendations finished on 21000/39037 queries. users per second: 150044</pre>"
      ],
      "text/plain": [
       "recommendations finished on 21000/39037 queries. users per second: 150044"
      ]
     },
     "metadata": {
      "tags": []
     },
     "output_type": "display_data"
    },
    {
     "data": {
      "text/html": [
       "<pre>recommendations finished on 22000/39037 queries. users per second: 150613</pre>"
      ],
      "text/plain": [
       "recommendations finished on 22000/39037 queries. users per second: 150613"
      ]
     },
     "metadata": {
      "tags": []
     },
     "output_type": "display_data"
    },
    {
     "data": {
      "text/html": [
       "<pre>recommendations finished on 23000/39037 queries. users per second: 151154</pre>"
      ],
      "text/plain": [
       "recommendations finished on 23000/39037 queries. users per second: 151154"
      ]
     },
     "metadata": {
      "tags": []
     },
     "output_type": "display_data"
    },
    {
     "data": {
      "text/html": [
       "<pre>recommendations finished on 24000/39037 queries. users per second: 151121</pre>"
      ],
      "text/plain": [
       "recommendations finished on 24000/39037 queries. users per second: 151121"
      ]
     },
     "metadata": {
      "tags": []
     },
     "output_type": "display_data"
    },
    {
     "data": {
      "text/html": [
       "<pre>recommendations finished on 25000/39037 queries. users per second: 152714</pre>"
      ],
      "text/plain": [
       "recommendations finished on 25000/39037 queries. users per second: 152714"
      ]
     },
     "metadata": {
      "tags": []
     },
     "output_type": "display_data"
    },
    {
     "data": {
      "text/html": [
       "<pre>recommendations finished on 26000/39037 queries. users per second: 153065</pre>"
      ],
      "text/plain": [
       "recommendations finished on 26000/39037 queries. users per second: 153065"
      ]
     },
     "metadata": {
      "tags": []
     },
     "output_type": "display_data"
    },
    {
     "data": {
      "text/html": [
       "<pre>recommendations finished on 27000/39037 queries. users per second: 154216</pre>"
      ],
      "text/plain": [
       "recommendations finished on 27000/39037 queries. users per second: 154216"
      ]
     },
     "metadata": {
      "tags": []
     },
     "output_type": "display_data"
    },
    {
     "data": {
      "text/html": [
       "<pre>recommendations finished on 28000/39037 queries. users per second: 155256</pre>"
      ],
      "text/plain": [
       "recommendations finished on 28000/39037 queries. users per second: 155256"
      ]
     },
     "metadata": {
      "tags": []
     },
     "output_type": "display_data"
    },
    {
     "data": {
      "text/html": [
       "<pre>recommendations finished on 29000/39037 queries. users per second: 155575</pre>"
      ],
      "text/plain": [
       "recommendations finished on 29000/39037 queries. users per second: 155575"
      ]
     },
     "metadata": {
      "tags": []
     },
     "output_type": "display_data"
    },
    {
     "data": {
      "text/html": [
       "<pre>recommendations finished on 30000/39037 queries. users per second: 154661</pre>"
      ],
      "text/plain": [
       "recommendations finished on 30000/39037 queries. users per second: 154661"
      ]
     },
     "metadata": {
      "tags": []
     },
     "output_type": "display_data"
    },
    {
     "data": {
      "text/html": [
       "<pre>recommendations finished on 31000/39037 queries. users per second: 155505</pre>"
      ],
      "text/plain": [
       "recommendations finished on 31000/39037 queries. users per second: 155505"
      ]
     },
     "metadata": {
      "tags": []
     },
     "output_type": "display_data"
    },
    {
     "data": {
      "text/html": [
       "<pre>recommendations finished on 32000/39037 queries. users per second: 156400</pre>"
      ],
      "text/plain": [
       "recommendations finished on 32000/39037 queries. users per second: 156400"
      ]
     },
     "metadata": {
      "tags": []
     },
     "output_type": "display_data"
    },
    {
     "data": {
      "text/html": [
       "<pre>recommendations finished on 33000/39037 queries. users per second: 157307</pre>"
      ],
      "text/plain": [
       "recommendations finished on 33000/39037 queries. users per second: 157307"
      ]
     },
     "metadata": {
      "tags": []
     },
     "output_type": "display_data"
    },
    {
     "data": {
      "text/html": [
       "<pre>recommendations finished on 34000/39037 queries. users per second: 157343</pre>"
      ],
      "text/plain": [
       "recommendations finished on 34000/39037 queries. users per second: 157343"
      ]
     },
     "metadata": {
      "tags": []
     },
     "output_type": "display_data"
    },
    {
     "data": {
      "text/html": [
       "<pre>recommendations finished on 35000/39037 queries. users per second: 157872</pre>"
      ],
      "text/plain": [
       "recommendations finished on 35000/39037 queries. users per second: 157872"
      ]
     },
     "metadata": {
      "tags": []
     },
     "output_type": "display_data"
    },
    {
     "data": {
      "text/html": [
       "<pre>recommendations finished on 36000/39037 queries. users per second: 157667</pre>"
      ],
      "text/plain": [
       "recommendations finished on 36000/39037 queries. users per second: 157667"
      ]
     },
     "metadata": {
      "tags": []
     },
     "output_type": "display_data"
    },
    {
     "data": {
      "text/html": [
       "<pre>recommendations finished on 37000/39037 queries. users per second: 157837</pre>"
      ],
      "text/plain": [
       "recommendations finished on 37000/39037 queries. users per second: 157837"
      ]
     },
     "metadata": {
      "tags": []
     },
     "output_type": "display_data"
    },
    {
     "data": {
      "text/html": [
       "<pre>recommendations finished on 38000/39037 queries. users per second: 157317</pre>"
      ],
      "text/plain": [
       "recommendations finished on 38000/39037 queries. users per second: 157317"
      ]
     },
     "metadata": {
      "tags": []
     },
     "output_type": "display_data"
    },
    {
     "data": {
      "text/html": [
       "<pre>recommendations finished on 39000/39037 queries. users per second: 157273</pre>"
      ],
      "text/plain": [
       "recommendations finished on 39000/39037 queries. users per second: 157273"
      ]
     },
     "metadata": {
      "tags": []
     },
     "output_type": "display_data"
    },
    {
     "name": "stdout",
     "output_type": "stream",
     "text": [
      "+------------+-----------------------+---------------------+------+\n",
      "| customerId |       productId       |        score        | rank |\n",
      "+------------+-----------------------+---------------------+------+\n",
      "|     0      | Acolchados y Frazadas |  0.5496648550033569 |  1   |\n",
      "|     0      |      Almohadones      | 0.38739994168281555 |  2   |\n",
      "|     0      |       Mantelería      |  0.3468197286128998 |  3   |\n",
      "|     0      |       Almohadas       | 0.26169872283935547 |  4   |\n",
      "|     0      |        Cortinas       | 0.23401367664337158 |  5   |\n",
      "|     0      |       Accesorios      |  0.2265004813671112 |  6   |\n",
      "|     0      |        Adornos        | 0.20456984639167786 |  7   |\n",
      "|     0      |          Cama         | 0.20378217101097107 |  8   |\n",
      "|     0      |        Muebles        |  0.1538335084915161 |  9   |\n",
      "|     0      |      Para Dormir      |  0.1462133526802063 |  10  |\n",
      "|     2      |        Sábanas        |  0.5474867820739746 |  1   |\n",
      "|     2      | Acolchados y Frazadas | 0.42740219831466675 |  2   |\n",
      "|     2      |       Mantelería      |  0.3652406930923462 |  3   |\n",
      "|     2      |      Almohadones      |  0.3280071020126343 |  4   |\n",
      "|     2      |       Accesorios      |  0.2501760721206665 |  5   |\n",
      "|     2      |       Almohadas       | 0.22378230094909668 |  6   |\n",
      "|     2      |        Cortinas       | 0.22377651929855347 |  7   |\n",
      "|     2      |        Adornos        |  0.1800098419189453 |  8   |\n",
      "|     2      |          Cama         | 0.16153281927108765 |  9   |\n",
      "|     2      |        Muebles        | 0.15362119674682617 |  10  |\n",
      "|     5      | Acolchados y Frazadas |  0.6719275116920471 |  1   |\n",
      "|     5      |  Toallas y Toallones  |  0.5474867820739746 |  2   |\n",
      "|     5      |      Almohadones      |  0.4467927813529968 |  3   |\n",
      "|     5      |       Mantelería      | 0.32839876413345337 |  4   |\n",
      "|     5      |       Almohadas       | 0.29961514472961426 |  5   |\n",
      "|     5      |          Cama         |  0.2460315227508545 |  6   |\n",
      "|     5      |        Cortinas       |  0.2442508339881897 |  7   |\n",
      "|     5      |        Adornos        |  0.2291298508644104 |  8   |\n",
      "|     5      |       Accesorios      |  0.2028248906135559 |  9   |\n",
      "|     5      |        Muebles        | 0.15404582023620605 |  10  |\n",
      "+------------+-----------------------+---------------------+------+\n",
      "[390369 rows x 4 columns]\n",
      "\n"
     ]
    }
   ],
   "source": [
    "#users_to_recommend = list(customers[user_id])\n",
    "users_to_recommend = list(data.customerId.unique())\n",
    "\n",
    "final_model = tc.item_similarity_recommender.create(tc.SFrame(data_dummy), \n",
    "                                            user_id=user_id, \n",
    "                                            item_id=item_id, \n",
    "                                            target='purchase_dummy', similarity_type='cosine')\n",
    "recom = final_model.recommend(users=users_to_recommend, k=n_rec)\n",
    "recom.print_rows(n_display)"
   ]
  },
  {
   "cell_type": "markdown",
   "metadata": {
    "colab_type": "text",
    "id": "24IMyzHfln5x"
   },
   "source": [
    "## 9.1. CSV output file"
   ]
  },
  {
   "cell_type": "code",
   "execution_count": 34,
   "metadata": {
    "colab": {
     "base_uri": "https://localhost:8080/",
     "height": 221
    },
    "colab_type": "code",
    "id": "RCo_HDD0ln52",
    "outputId": "29aa1927-acaf-4881-a402-5011a7ee5242"
   },
   "outputs": [
    {
     "name": "stdout",
     "output_type": "stream",
     "text": [
      "(390369, 4)\n"
     ]
    },
    {
     "data": {
      "text/html": [
       "<div>\n",
       "<style scoped>\n",
       "    .dataframe tbody tr th:only-of-type {\n",
       "        vertical-align: middle;\n",
       "    }\n",
       "\n",
       "    .dataframe tbody tr th {\n",
       "        vertical-align: top;\n",
       "    }\n",
       "\n",
       "    .dataframe thead th {\n",
       "        text-align: right;\n",
       "    }\n",
       "</style>\n",
       "<table border=\"1\" class=\"dataframe\">\n",
       "  <thead>\n",
       "    <tr style=\"text-align: right;\">\n",
       "      <th></th>\n",
       "      <th>customerId</th>\n",
       "      <th>productId</th>\n",
       "      <th>score</th>\n",
       "      <th>rank</th>\n",
       "    </tr>\n",
       "  </thead>\n",
       "  <tbody>\n",
       "    <tr>\n",
       "      <th>0</th>\n",
       "      <td>0</td>\n",
       "      <td>Acolchados y Frazadas</td>\n",
       "      <td>0.549665</td>\n",
       "      <td>1</td>\n",
       "    </tr>\n",
       "    <tr>\n",
       "      <th>1</th>\n",
       "      <td>0</td>\n",
       "      <td>Almohadones</td>\n",
       "      <td>0.387400</td>\n",
       "      <td>2</td>\n",
       "    </tr>\n",
       "    <tr>\n",
       "      <th>2</th>\n",
       "      <td>0</td>\n",
       "      <td>Mantelería</td>\n",
       "      <td>0.346820</td>\n",
       "      <td>3</td>\n",
       "    </tr>\n",
       "    <tr>\n",
       "      <th>3</th>\n",
       "      <td>0</td>\n",
       "      <td>Almohadas</td>\n",
       "      <td>0.261699</td>\n",
       "      <td>4</td>\n",
       "    </tr>\n",
       "    <tr>\n",
       "      <th>4</th>\n",
       "      <td>0</td>\n",
       "      <td>Cortinas</td>\n",
       "      <td>0.234014</td>\n",
       "      <td>5</td>\n",
       "    </tr>\n",
       "  </tbody>\n",
       "</table>\n",
       "</div>"
      ],
      "text/plain": [
       "   customerId              productId     score  rank\n",
       "0           0  Acolchados y Frazadas  0.549665     1\n",
       "1           0            Almohadones  0.387400     2\n",
       "2           0             Mantelería  0.346820     3\n",
       "3           0              Almohadas  0.261699     4\n",
       "4           0               Cortinas  0.234014     5"
      ]
     },
     "execution_count": 34,
     "metadata": {
      "tags": []
     },
     "output_type": "execute_result"
    }
   ],
   "source": [
    "# Aquí queremos manipular nuestro resultado a una salida csv. Veamos que tenemos\n",
    "df_rec = recom.to_dataframe()\n",
    "print(df_rec.shape)\n",
    "df_rec.head()"
   ]
  },
  {
   "cell_type": "code",
   "execution_count": 0,
   "metadata": {
    "colab": {},
    "colab_type": "code",
    "id": "7bhxqOD_QqEP"
   },
   "outputs": [],
   "source": [
    "#df_rec['recommendedProducts'] = df_rec.groupby([user_id])[item_id].transform(lambda x: '|'.join(x.astype(str)))\n",
    "#df_output = df_rec[['customerId', 'recommendedProducts']].drop_duplicates().sort_values('customerId').set_index('customerId')"
   ]
  },
  {
   "cell_type": "code",
   "execution_count": 0,
   "metadata": {
    "colab": {},
    "colab_type": "code",
    "id": "rgMenx3uln6D"
   },
   "outputs": [],
   "source": [
    "# Definamos una función para crear una salida deseada:\n",
    "def create_output(model, users_to_recommend, n_rec, print_csv=True):\n",
    "    recomendation = model.recommend(users=users_to_recommend, k=n_rec)\n",
    "    df_rec = recomendation.to_dataframe()\n",
    "    df_rec['recommendedProducts'] = df_rec.groupby([user_id])[item_id] \\\n",
    "        .transform(lambda x: '|'.join(x.astype(str)))\n",
    "    df_output = df_rec[['customerId', 'recommendedProducts']].drop_duplicates() \\\n",
    "        .sort_values('customerId').set_index('customerId')\n",
    "    if print_csv:\n",
    "        df_output.to_csv('Tipo_recommendation.csv')\n",
    "        print(\"An output file can be found in 'output' folder with name 'Tipo_recommendation.csv'\")\n",
    "    return df_output"
   ]
  },
  {
   "cell_type": "code",
   "execution_count": 37,
   "metadata": {
    "colab": {
     "base_uri": "https://localhost:8080/",
     "height": 932
    },
    "colab_type": "code",
    "id": "nZXeRtKXln6M",
    "outputId": "90a48af8-4417-4f4f-9f97-5aabec292d37"
   },
   "outputs": [
    {
     "data": {
      "text/html": [
       "<pre>recommendations finished on 1000/39037 queries. users per second: 108814</pre>"
      ],
      "text/plain": [
       "recommendations finished on 1000/39037 queries. users per second: 108814"
      ]
     },
     "metadata": {
      "tags": []
     },
     "output_type": "display_data"
    },
    {
     "data": {
      "text/html": [
       "<pre>recommendations finished on 2000/39037 queries. users per second: 121492</pre>"
      ],
      "text/plain": [
       "recommendations finished on 2000/39037 queries. users per second: 121492"
      ]
     },
     "metadata": {
      "tags": []
     },
     "output_type": "display_data"
    },
    {
     "data": {
      "text/html": [
       "<pre>recommendations finished on 3000/39037 queries. users per second: 130953</pre>"
      ],
      "text/plain": [
       "recommendations finished on 3000/39037 queries. users per second: 130953"
      ]
     },
     "metadata": {
      "tags": []
     },
     "output_type": "display_data"
    },
    {
     "data": {
      "text/html": [
       "<pre>recommendations finished on 4000/39037 queries. users per second: 131865</pre>"
      ],
      "text/plain": [
       "recommendations finished on 4000/39037 queries. users per second: 131865"
      ]
     },
     "metadata": {
      "tags": []
     },
     "output_type": "display_data"
    },
    {
     "data": {
      "text/html": [
       "<pre>recommendations finished on 5000/39037 queries. users per second: 137847</pre>"
      ],
      "text/plain": [
       "recommendations finished on 5000/39037 queries. users per second: 137847"
      ]
     },
     "metadata": {
      "tags": []
     },
     "output_type": "display_data"
    },
    {
     "data": {
      "text/html": [
       "<pre>recommendations finished on 6000/39037 queries. users per second: 141037</pre>"
      ],
      "text/plain": [
       "recommendations finished on 6000/39037 queries. users per second: 141037"
      ]
     },
     "metadata": {
      "tags": []
     },
     "output_type": "display_data"
    },
    {
     "data": {
      "text/html": [
       "<pre>recommendations finished on 7000/39037 queries. users per second: 142097</pre>"
      ],
      "text/plain": [
       "recommendations finished on 7000/39037 queries. users per second: 142097"
      ]
     },
     "metadata": {
      "tags": []
     },
     "output_type": "display_data"
    },
    {
     "data": {
      "text/html": [
       "<pre>recommendations finished on 8000/39037 queries. users per second: 138853</pre>"
      ],
      "text/plain": [
       "recommendations finished on 8000/39037 queries. users per second: 138853"
      ]
     },
     "metadata": {
      "tags": []
     },
     "output_type": "display_data"
    },
    {
     "data": {
      "text/html": [
       "<pre>recommendations finished on 9000/39037 queries. users per second: 139448</pre>"
      ],
      "text/plain": [
       "recommendations finished on 9000/39037 queries. users per second: 139448"
      ]
     },
     "metadata": {
      "tags": []
     },
     "output_type": "display_data"
    },
    {
     "data": {
      "text/html": [
       "<pre>recommendations finished on 10000/39037 queries. users per second: 140072</pre>"
      ],
      "text/plain": [
       "recommendations finished on 10000/39037 queries. users per second: 140072"
      ]
     },
     "metadata": {
      "tags": []
     },
     "output_type": "display_data"
    },
    {
     "data": {
      "text/html": [
       "<pre>recommendations finished on 11000/39037 queries. users per second: 142080</pre>"
      ],
      "text/plain": [
       "recommendations finished on 11000/39037 queries. users per second: 142080"
      ]
     },
     "metadata": {
      "tags": []
     },
     "output_type": "display_data"
    },
    {
     "data": {
      "text/html": [
       "<pre>recommendations finished on 12000/39037 queries. users per second: 141812</pre>"
      ],
      "text/plain": [
       "recommendations finished on 12000/39037 queries. users per second: 141812"
      ]
     },
     "metadata": {
      "tags": []
     },
     "output_type": "display_data"
    },
    {
     "data": {
      "text/html": [
       "<pre>recommendations finished on 13000/39037 queries. users per second: 142873</pre>"
      ],
      "text/plain": [
       "recommendations finished on 13000/39037 queries. users per second: 142873"
      ]
     },
     "metadata": {
      "tags": []
     },
     "output_type": "display_data"
    },
    {
     "data": {
      "text/html": [
       "<pre>recommendations finished on 14000/39037 queries. users per second: 138995</pre>"
      ],
      "text/plain": [
       "recommendations finished on 14000/39037 queries. users per second: 138995"
      ]
     },
     "metadata": {
      "tags": []
     },
     "output_type": "display_data"
    },
    {
     "data": {
      "text/html": [
       "<pre>recommendations finished on 15000/39037 queries. users per second: 139894</pre>"
      ],
      "text/plain": [
       "recommendations finished on 15000/39037 queries. users per second: 139894"
      ]
     },
     "metadata": {
      "tags": []
     },
     "output_type": "display_data"
    },
    {
     "data": {
      "text/html": [
       "<pre>recommendations finished on 16000/39037 queries. users per second: 140486</pre>"
      ],
      "text/plain": [
       "recommendations finished on 16000/39037 queries. users per second: 140486"
      ]
     },
     "metadata": {
      "tags": []
     },
     "output_type": "display_data"
    },
    {
     "data": {
      "text/html": [
       "<pre>recommendations finished on 17000/39037 queries. users per second: 142215</pre>"
      ],
      "text/plain": [
       "recommendations finished on 17000/39037 queries. users per second: 142215"
      ]
     },
     "metadata": {
      "tags": []
     },
     "output_type": "display_data"
    },
    {
     "data": {
      "text/html": [
       "<pre>recommendations finished on 18000/39037 queries. users per second: 141977</pre>"
      ],
      "text/plain": [
       "recommendations finished on 18000/39037 queries. users per second: 141977"
      ]
     },
     "metadata": {
      "tags": []
     },
     "output_type": "display_data"
    },
    {
     "data": {
      "text/html": [
       "<pre>recommendations finished on 19000/39037 queries. users per second: 142334</pre>"
      ],
      "text/plain": [
       "recommendations finished on 19000/39037 queries. users per second: 142334"
      ]
     },
     "metadata": {
      "tags": []
     },
     "output_type": "display_data"
    },
    {
     "data": {
      "text/html": [
       "<pre>recommendations finished on 20000/39037 queries. users per second: 143480</pre>"
      ],
      "text/plain": [
       "recommendations finished on 20000/39037 queries. users per second: 143480"
      ]
     },
     "metadata": {
      "tags": []
     },
     "output_type": "display_data"
    },
    {
     "data": {
      "text/html": [
       "<pre>recommendations finished on 21000/39037 queries. users per second: 145254</pre>"
      ],
      "text/plain": [
       "recommendations finished on 21000/39037 queries. users per second: 145254"
      ]
     },
     "metadata": {
      "tags": []
     },
     "output_type": "display_data"
    },
    {
     "data": {
      "text/html": [
       "<pre>recommendations finished on 22000/39037 queries. users per second: 145656</pre>"
      ],
      "text/plain": [
       "recommendations finished on 22000/39037 queries. users per second: 145656"
      ]
     },
     "metadata": {
      "tags": []
     },
     "output_type": "display_data"
    },
    {
     "data": {
      "text/html": [
       "<pre>recommendations finished on 23000/39037 queries. users per second: 145786</pre>"
      ],
      "text/plain": [
       "recommendations finished on 23000/39037 queries. users per second: 145786"
      ]
     },
     "metadata": {
      "tags": []
     },
     "output_type": "display_data"
    },
    {
     "data": {
      "text/html": [
       "<pre>recommendations finished on 24000/39037 queries. users per second: 145477</pre>"
      ],
      "text/plain": [
       "recommendations finished on 24000/39037 queries. users per second: 145477"
      ]
     },
     "metadata": {
      "tags": []
     },
     "output_type": "display_data"
    },
    {
     "data": {
      "text/html": [
       "<pre>recommendations finished on 25000/39037 queries. users per second: 146854</pre>"
      ],
      "text/plain": [
       "recommendations finished on 25000/39037 queries. users per second: 146854"
      ]
     },
     "metadata": {
      "tags": []
     },
     "output_type": "display_data"
    },
    {
     "data": {
      "text/html": [
       "<pre>recommendations finished on 26000/39037 queries. users per second: 147014</pre>"
      ],
      "text/plain": [
       "recommendations finished on 26000/39037 queries. users per second: 147014"
      ]
     },
     "metadata": {
      "tags": []
     },
     "output_type": "display_data"
    },
    {
     "data": {
      "text/html": [
       "<pre>recommendations finished on 27000/39037 queries. users per second: 146634</pre>"
      ],
      "text/plain": [
       "recommendations finished on 27000/39037 queries. users per second: 146634"
      ]
     },
     "metadata": {
      "tags": []
     },
     "output_type": "display_data"
    },
    {
     "data": {
      "text/html": [
       "<pre>recommendations finished on 28000/39037 queries. users per second: 147427</pre>"
      ],
      "text/plain": [
       "recommendations finished on 28000/39037 queries. users per second: 147427"
      ]
     },
     "metadata": {
      "tags": []
     },
     "output_type": "display_data"
    },
    {
     "data": {
      "text/html": [
       "<pre>recommendations finished on 29000/39037 queries. users per second: 148024</pre>"
      ],
      "text/plain": [
       "recommendations finished on 29000/39037 queries. users per second: 148024"
      ]
     },
     "metadata": {
      "tags": []
     },
     "output_type": "display_data"
    },
    {
     "data": {
      "text/html": [
       "<pre>recommendations finished on 30000/39037 queries. users per second: 146938</pre>"
      ],
      "text/plain": [
       "recommendations finished on 30000/39037 queries. users per second: 146938"
      ]
     },
     "metadata": {
      "tags": []
     },
     "output_type": "display_data"
    },
    {
     "data": {
      "text/html": [
       "<pre>recommendations finished on 31000/39037 queries. users per second: 146473</pre>"
      ],
      "text/plain": [
       "recommendations finished on 31000/39037 queries. users per second: 146473"
      ]
     },
     "metadata": {
      "tags": []
     },
     "output_type": "display_data"
    },
    {
     "data": {
      "text/html": [
       "<pre>recommendations finished on 32000/39037 queries. users per second: 146887</pre>"
      ],
      "text/plain": [
       "recommendations finished on 32000/39037 queries. users per second: 146887"
      ]
     },
     "metadata": {
      "tags": []
     },
     "output_type": "display_data"
    },
    {
     "data": {
      "text/html": [
       "<pre>recommendations finished on 33000/39037 queries. users per second: 147434</pre>"
      ],
      "text/plain": [
       "recommendations finished on 33000/39037 queries. users per second: 147434"
      ]
     },
     "metadata": {
      "tags": []
     },
     "output_type": "display_data"
    },
    {
     "data": {
      "text/html": [
       "<pre>recommendations finished on 34000/39037 queries. users per second: 147516</pre>"
      ],
      "text/plain": [
       "recommendations finished on 34000/39037 queries. users per second: 147516"
      ]
     },
     "metadata": {
      "tags": []
     },
     "output_type": "display_data"
    },
    {
     "data": {
      "text/html": [
       "<pre>recommendations finished on 35000/39037 queries. users per second: 147873</pre>"
      ],
      "text/plain": [
       "recommendations finished on 35000/39037 queries. users per second: 147873"
      ]
     },
     "metadata": {
      "tags": []
     },
     "output_type": "display_data"
    },
    {
     "data": {
      "text/html": [
       "<pre>recommendations finished on 36000/39037 queries. users per second: 147686</pre>"
      ],
      "text/plain": [
       "recommendations finished on 36000/39037 queries. users per second: 147686"
      ]
     },
     "metadata": {
      "tags": []
     },
     "output_type": "display_data"
    },
    {
     "data": {
      "text/html": [
       "<pre>recommendations finished on 37000/39037 queries. users per second: 146411</pre>"
      ],
      "text/plain": [
       "recommendations finished on 37000/39037 queries. users per second: 146411"
      ]
     },
     "metadata": {
      "tags": []
     },
     "output_type": "display_data"
    },
    {
     "data": {
      "text/html": [
       "<pre>recommendations finished on 38000/39037 queries. users per second: 146091</pre>"
      ],
      "text/plain": [
       "recommendations finished on 38000/39037 queries. users per second: 146091"
      ]
     },
     "metadata": {
      "tags": []
     },
     "output_type": "display_data"
    },
    {
     "data": {
      "text/html": [
       "<pre>recommendations finished on 39000/39037 queries. users per second: 145757</pre>"
      ],
      "text/plain": [
       "recommendations finished on 39000/39037 queries. users per second: 145757"
      ]
     },
     "metadata": {
      "tags": []
     },
     "output_type": "display_data"
    },
    {
     "name": "stdout",
     "output_type": "stream",
     "text": [
      "An output file can be found in 'output' folder with name 'option1_recommendation.csv'\n",
      "(39037, 1)\n"
     ]
    },
    {
     "data": {
      "text/html": [
       "<div>\n",
       "<style scoped>\n",
       "    .dataframe tbody tr th:only-of-type {\n",
       "        vertical-align: middle;\n",
       "    }\n",
       "\n",
       "    .dataframe tbody tr th {\n",
       "        vertical-align: top;\n",
       "    }\n",
       "\n",
       "    .dataframe thead th {\n",
       "        text-align: right;\n",
       "    }\n",
       "</style>\n",
       "<table border=\"1\" class=\"dataframe\">\n",
       "  <thead>\n",
       "    <tr style=\"text-align: right;\">\n",
       "      <th></th>\n",
       "      <th>recommendedProducts</th>\n",
       "    </tr>\n",
       "    <tr>\n",
       "      <th>customerId</th>\n",
       "      <th></th>\n",
       "    </tr>\n",
       "  </thead>\n",
       "  <tbody>\n",
       "    <tr>\n",
       "      <th>0</th>\n",
       "      <td>Cajas y Cajones|Muebles|Velas|Almohadas|Almoha...</td>\n",
       "    </tr>\n",
       "    <tr>\n",
       "      <th>2</th>\n",
       "      <td>Cajas y Cajones|Muebles|Velas|Almohadas|Almoha...</td>\n",
       "    </tr>\n",
       "    <tr>\n",
       "      <th>5</th>\n",
       "      <td>Cajas y Cajones|Muebles|Velas|Almohadas|Almoha...</td>\n",
       "    </tr>\n",
       "    <tr>\n",
       "      <th>6</th>\n",
       "      <td>Cajas y Cajones|Muebles|Velas|Almohadas|Sillas...</td>\n",
       "    </tr>\n",
       "    <tr>\n",
       "      <th>7</th>\n",
       "      <td>Cajas y Cajones|Muebles|Velas|Almohadas|Sillas...</td>\n",
       "    </tr>\n",
       "  </tbody>\n",
       "</table>\n",
       "</div>"
      ],
      "text/plain": [
       "                                          recommendedProducts\n",
       "customerId                                                   \n",
       "0           Cajas y Cajones|Muebles|Velas|Almohadas|Almoha...\n",
       "2           Cajas y Cajones|Muebles|Velas|Almohadas|Almoha...\n",
       "5           Cajas y Cajones|Muebles|Velas|Almohadas|Almoha...\n",
       "6           Cajas y Cajones|Muebles|Velas|Almohadas|Sillas...\n",
       "7           Cajas y Cajones|Muebles|Velas|Almohadas|Sillas..."
      ]
     },
     "execution_count": 37,
     "metadata": {
      "tags": []
     },
     "output_type": "execute_result"
    }
   ],
   "source": [
    "# Vamos a imprimir el resultado a continuación y setprint_csv a verdadero, de esta manera podríamos literalmente imprimir\n",
    "# nuestro archivo de salida en csv, que también puede encontrar aquí.\n",
    "df_output = create_output(pear_norm, users_to_recommend, n_rec, print_csv=True)\n",
    "print(df_output.shape)\n",
    "df_output.head()"
   ]
  },
  {
   "cell_type": "markdown",
   "metadata": {
    "colab_type": "text",
    "id": "VIyBF0dOln6W"
   },
   "source": [
    "## 9.2. Función de recomendación del cliente"
   ]
  },
  {
   "cell_type": "code",
   "execution_count": 0,
   "metadata": {
    "colab": {},
    "colab_type": "code",
    "id": "kfstQg1hln6Z"
   },
   "outputs": [],
   "source": [
    "# Definamos una función que devolverá la lista de recomendaciones con un ID de cliente:\n",
    "def customer_recomendation(user_id):\n",
    "    if user_id not in df_output.index:\n",
    "        print('Customer not found.')\n",
    "        return user_id\n",
    "    return df_output.loc[user_id]"
   ]
  },
  {
   "cell_type": "code",
   "execution_count": 39,
   "metadata": {
    "colab": {
     "base_uri": "https://localhost:8080/",
     "height": 51
    },
    "colab_type": "code",
    "id": "89hVie42ln6h",
    "outputId": "fc9c6455-ed19-48ce-e752-93d3930327d0"
   },
   "outputs": [
    {
     "data": {
      "text/plain": [
       "recommendedProducts    Cajas y Cajones|Muebles|Velas|Almohadas|Almoha...\n",
       "Name: 2, dtype: object"
      ]
     },
     "execution_count": 39,
     "metadata": {
      "tags": []
     },
     "output_type": "execute_result"
    }
   ],
   "source": [
    "# a modo de ejemplo:\n",
    "customer_recomendation(2)"
   ]
  },
  {
   "cell_type": "code",
   "execution_count": 40,
   "metadata": {
    "colab": {
     "base_uri": "https://localhost:8080/",
     "height": 51
    },
    "colab_type": "code",
    "id": "3wcpyp72ln6p",
    "outputId": "91a9e539-c968-4fcb-bc39-e74a196bd77a"
   },
   "outputs": [
    {
     "data": {
      "text/plain": [
       "recommendedProducts    Cajas y Cajones|Muebles|Velas|Almohadas|Sillas...\n",
       "Name: 534, dtype: object"
      ]
     },
     "execution_count": 40,
     "metadata": {
      "tags": []
     },
     "output_type": "execute_result"
    }
   ],
   "source": [
    "customer_recomendation(534)"
   ]
  },
  {
   "cell_type": "code",
   "execution_count": 41,
   "metadata": {
    "colab": {
     "base_uri": "https://localhost:8080/",
     "height": 51
    },
    "colab_type": "code",
    "id": "YJZ85VOEQqFi",
    "outputId": "c5cbf0d9-2129-4336-e0c6-22a180f25c88"
   },
   "outputs": [
    {
     "data": {
      "text/plain": [
       "recommendedProducts    Cajas y Cajones|Muebles|Velas|Almohadas|Almoha...\n",
       "Name: 0, dtype: object"
      ]
     },
     "execution_count": 41,
     "metadata": {
      "tags": []
     },
     "output_type": "execute_result"
    }
   ],
   "source": [
    "customer_recomendation(0)"
   ]
  },
  {
   "cell_type": "code",
   "execution_count": 42,
   "metadata": {
    "colab": {
     "base_uri": "https://localhost:8080/",
     "height": 51
    },
    "colab_type": "code",
    "id": "eSEi8f7pQqFy",
    "outputId": "e28a6d7f-470a-40f2-f786-1368607814bb"
   },
   "outputs": [
    {
     "data": {
      "text/plain": [
       "recommendedProducts    Cajas y Cajones|Muebles|Velas|Almohadas|Almoha...\n",
       "Name: 2737, dtype: object"
      ]
     },
     "execution_count": 42,
     "metadata": {
      "tags": []
     },
     "output_type": "execute_result"
    }
   ],
   "source": [
    "customer_recomendation(2737)"
   ]
  },
  {
   "cell_type": "code",
   "execution_count": 43,
   "metadata": {
    "colab": {
     "base_uri": "https://localhost:8080/",
     "height": 51
    },
    "colab_type": "code",
    "id": "YfYiV_yTQqGA",
    "outputId": "940b4249-da55-475a-e309-bb9de8c465c1"
   },
   "outputs": [
    {
     "data": {
      "text/plain": [
       "recommendedProducts    Cajas y Cajones|Muebles|Velas|Almohadas|Almoha...\n",
       "Name: 53870, dtype: object"
      ]
     },
     "execution_count": 43,
     "metadata": {
      "tags": []
     },
     "output_type": "execute_result"
    }
   ],
   "source": [
    "customer_recomendation(53870)"
   ]
  }
 ],
 "metadata": {
  "colab": {
   "name": "Turicreate_Recomendaciones_para_Tienda_Pippo_Tipo_Producto.ipynb",
   "provenance": [],
   "toc_visible": true,
   "version": "0.3.2"
  },
  "kernelspec": {
   "display_name": "Python 3",
   "language": "python",
   "name": "python3"
  },
  "language_info": {
   "codemirror_mode": {
    "name": "ipython",
    "version": 3
   },
   "file_extension": ".py",
   "mimetype": "text/x-python",
   "name": "python",
   "nbconvert_exporter": "python",
   "pygments_lexer": "ipython3",
   "version": "3.7.4"
  }
 },
 "nbformat": 4,
 "nbformat_minor": 1
}
