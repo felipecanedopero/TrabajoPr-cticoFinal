{
 "cells": [
  {
   "cell_type": "markdown",
   "metadata": {},
   "source": [
    "# PCA Pippo\n",
    "### Obtención de los datos y librerías necesarias\n",
    "\n",
    "\n",
    "Reducción de la dimensionalidad\n",
    "Análisis de Componentes Principales (PCA)\n",
    "PCA es una técnica de aprendizaje no supervisado que tiene como objetivo fundamental la reducción de dimensiones. \n",
    "\n",
    "Armamos este PCA para explorar mas los datos, visualizar las correlaciones que hay entre columnas y de hecho en varios pasajes del modelo, fuimos achicando la cantidad, quedandonos con 5 y viendo que son suficientes, tambien ver como se diferencian las lineas y typos de productos.\n",
    "\n",
    "Visualizamos los resultados y vimos que con 2 compenentes, a lo sumo 3 explicabamos bien.\n",
    "\n",
    "Arrancamos con un dataset reducido realizando un groupby con promedios, lo bueno de este es que nos dio el puntapie para entender mejor los datos y que la visualizacion es simple, luego continuamos el ejercicio con la base completa"
   ]
  },
  {
   "cell_type": "code",
   "execution_count": 1,
   "metadata": {},
   "outputs": [],
   "source": [
    "#Importamos las librerías que usaremos\n",
    "import numpy as np\n",
    "import pandas as pd\n",
    "import seaborn as sns\n",
    "import matplotlib.pyplot as plt\n",
    "%matplotlib inline\n",
    "import re\n",
    "import scipy.stats as sts\n",
    "from bokeh.plotting import figure\n",
    "from bokeh.layouts import gridplot\n",
    "from bokeh.io import output_notebook, show\n",
    "\n",
    "import datetime"
   ]
  },
  {
   "cell_type": "code",
   "execution_count": 2,
   "metadata": {},
   "outputs": [],
   "source": [
    "# Importamos los dataset\n",
    "df = pd.read_csv('Pippo_tot_ana.csv',parse_dates=['OrderDate'])"
   ]
  },
  {
   "cell_type": "markdown",
   "metadata": {},
   "source": [
    "## Analisis por Linea de Producto"
   ]
  },
  {
   "cell_type": "code",
   "execution_count": 3,
   "metadata": {},
   "outputs": [],
   "source": [
    "# Vamos a usar el promedio de los valores por estados para una primera aproximacion y luego el total de los datos\n",
    "# Por previos chequeos, excluimos del analisis otras variables que estaban intimamente relacionadas\n",
    "df_tabla = df.groupby('ProductLine')['Quantity', 'Price', 'TotalDiscountPrice', 'ShippingCost', 'Value'].mean()"
   ]
  },
  {
   "cell_type": "code",
   "execution_count": 4,
   "metadata": {},
   "outputs": [
    {
     "data": {
      "text/html": [
       "<div>\n",
       "<style scoped>\n",
       "    .dataframe tbody tr th:only-of-type {\n",
       "        vertical-align: middle;\n",
       "    }\n",
       "\n",
       "    .dataframe tbody tr th {\n",
       "        vertical-align: top;\n",
       "    }\n",
       "\n",
       "    .dataframe thead th {\n",
       "        text-align: right;\n",
       "    }\n",
       "</style>\n",
       "<table border=\"1\" class=\"dataframe\">\n",
       "  <thead>\n",
       "    <tr style=\"text-align: right;\">\n",
       "      <th></th>\n",
       "      <th>Quantity</th>\n",
       "      <th>Price</th>\n",
       "      <th>TotalDiscountPrice</th>\n",
       "      <th>ShippingCost</th>\n",
       "      <th>Value</th>\n",
       "    </tr>\n",
       "    <tr>\n",
       "      <th>ProductLine</th>\n",
       "      <th></th>\n",
       "      <th></th>\n",
       "      <th></th>\n",
       "      <th></th>\n",
       "      <th></th>\n",
       "    </tr>\n",
       "  </thead>\n",
       "  <tbody>\n",
       "    <tr>\n",
       "      <th>Accesorios</th>\n",
       "      <td>1.404286</td>\n",
       "      <td>762.181523</td>\n",
       "      <td>-1527.644990</td>\n",
       "      <td>27.368179</td>\n",
       "      <td>2092.738312</td>\n",
       "    </tr>\n",
       "    <tr>\n",
       "      <th>Aire Libre</th>\n",
       "      <td>1.137464</td>\n",
       "      <td>1273.790900</td>\n",
       "      <td>-2083.550407</td>\n",
       "      <td>23.909487</td>\n",
       "      <td>2045.832846</td>\n",
       "    </tr>\n",
       "    <tr>\n",
       "      <th>Baño</th>\n",
       "      <td>1.220484</td>\n",
       "      <td>651.709523</td>\n",
       "      <td>-1384.892403</td>\n",
       "      <td>32.825230</td>\n",
       "      <td>2037.929427</td>\n",
       "    </tr>\n",
       "    <tr>\n",
       "      <th>Cocina</th>\n",
       "      <td>1.309779</td>\n",
       "      <td>409.223045</td>\n",
       "      <td>-1251.243464</td>\n",
       "      <td>27.861148</td>\n",
       "      <td>1911.289045</td>\n",
       "    </tr>\n",
       "    <tr>\n",
       "      <th>Decoración</th>\n",
       "      <td>1.293340</td>\n",
       "      <td>1171.879530</td>\n",
       "      <td>-1539.766069</td>\n",
       "      <td>32.445618</td>\n",
       "      <td>2194.151086</td>\n",
       "    </tr>\n",
       "    <tr>\n",
       "      <th>Dormitorio</th>\n",
       "      <td>1.084320</td>\n",
       "      <td>1933.547828</td>\n",
       "      <td>-2125.020664</td>\n",
       "      <td>36.444577</td>\n",
       "      <td>2656.978363</td>\n",
       "    </tr>\n",
       "    <tr>\n",
       "      <th>Organizadores</th>\n",
       "      <td>1.265043</td>\n",
       "      <td>893.921762</td>\n",
       "      <td>-1361.479437</td>\n",
       "      <td>27.590418</td>\n",
       "      <td>2121.990445</td>\n",
       "    </tr>\n",
       "    <tr>\n",
       "      <th>Ropa</th>\n",
       "      <td>1.064997</td>\n",
       "      <td>944.287424</td>\n",
       "      <td>-1405.905113</td>\n",
       "      <td>27.350396</td>\n",
       "      <td>1993.634115</td>\n",
       "    </tr>\n",
       "  </tbody>\n",
       "</table>\n",
       "</div>"
      ],
      "text/plain": [
       "               Quantity        Price  TotalDiscountPrice  ShippingCost  \\\n",
       "ProductLine                                                              \n",
       "Accesorios     1.404286   762.181523        -1527.644990     27.368179   \n",
       "Aire Libre     1.137464  1273.790900        -2083.550407     23.909487   \n",
       "Baño           1.220484   651.709523        -1384.892403     32.825230   \n",
       "Cocina         1.309779   409.223045        -1251.243464     27.861148   \n",
       "Decoración     1.293340  1171.879530        -1539.766069     32.445618   \n",
       "Dormitorio     1.084320  1933.547828        -2125.020664     36.444577   \n",
       "Organizadores  1.265043   893.921762        -1361.479437     27.590418   \n",
       "Ropa           1.064997   944.287424        -1405.905113     27.350396   \n",
       "\n",
       "                     Value  \n",
       "ProductLine                 \n",
       "Accesorios     2092.738312  \n",
       "Aire Libre     2045.832846  \n",
       "Baño           2037.929427  \n",
       "Cocina         1911.289045  \n",
       "Decoración     2194.151086  \n",
       "Dormitorio     2656.978363  \n",
       "Organizadores  2121.990445  \n",
       "Ropa           1993.634115  "
      ]
     },
     "execution_count": 4,
     "metadata": {},
     "output_type": "execute_result"
    }
   ],
   "source": [
    "df_tabla.index_col = 'ProductLine'\n",
    "df_tabla"
   ]
  },
  {
   "cell_type": "code",
   "execution_count": 5,
   "metadata": {},
   "outputs": [],
   "source": [
    "df_tabla.dropna( inplace=True )"
   ]
  },
  {
   "cell_type": "code",
   "execution_count": 6,
   "metadata": {},
   "outputs": [
    {
     "data": {
      "text/plain": [
       "(8, 5)"
      ]
     },
     "execution_count": 6,
     "metadata": {},
     "output_type": "execute_result"
    }
   ],
   "source": [
    "# Estoy trabajando con los ProductLine promedio\n",
    "df_tabla.shape"
   ]
  },
  {
   "cell_type": "markdown",
   "metadata": {},
   "source": [
    "Necesitamos variables con media 0 y varianza 1:"
   ]
  },
  {
   "cell_type": "code",
   "execution_count": 7,
   "metadata": {},
   "outputs": [
    {
     "name": "stdout",
     "output_type": "stream",
     "text": [
      "Media de las variables: \n",
      "Quantity                 1.222464\n",
      "Price                 1005.067692\n",
      "TotalDiscountPrice   -1584.937818\n",
      "ShippingCost            29.474382\n",
      "Value                 2131.817955\n",
      "dtype: float64\n",
      "\n",
      "\n",
      "Varianza de las variables: \n",
      "Quantity                   0.014090\n",
      "Price                 216721.128972\n",
      "TotalDiscountPrice    111283.342434\n",
      "ShippingCost              16.386765\n",
      "Value                  52176.991501\n",
      "dtype: float64\n"
     ]
    }
   ],
   "source": [
    "# Observamos la media de las variables\n",
    "\n",
    "print(\"Media de las variables: \")\n",
    "print(df_tabla.mean(axis=0))\n",
    "\n",
    "print('\\n')\n",
    "\n",
    "# Observamos la varianza de las variables:\n",
    "print(\"Varianza de las variables: \")\n",
    "print(df_tabla.var(axis=0))"
   ]
  },
  {
   "cell_type": "code",
   "execution_count": 8,
   "metadata": {},
   "outputs": [
    {
     "data": {
      "text/html": [
       "<div>\n",
       "<style scoped>\n",
       "    .dataframe tbody tr th:only-of-type {\n",
       "        vertical-align: middle;\n",
       "    }\n",
       "\n",
       "    .dataframe tbody tr th {\n",
       "        vertical-align: top;\n",
       "    }\n",
       "\n",
       "    .dataframe thead th {\n",
       "        text-align: right;\n",
       "    }\n",
       "</style>\n",
       "<table border=\"1\" class=\"dataframe\">\n",
       "  <thead>\n",
       "    <tr style=\"text-align: right;\">\n",
       "      <th></th>\n",
       "      <th>Quantity</th>\n",
       "      <th>Price</th>\n",
       "      <th>TotalDiscountPrice</th>\n",
       "      <th>ShippingCost</th>\n",
       "      <th>Value</th>\n",
       "    </tr>\n",
       "    <tr>\n",
       "      <th>ProductLine</th>\n",
       "      <th></th>\n",
       "      <th></th>\n",
       "      <th></th>\n",
       "      <th></th>\n",
       "      <th></th>\n",
       "    </tr>\n",
       "  </thead>\n",
       "  <tbody>\n",
       "    <tr>\n",
       "      <th>Accesorios</th>\n",
       "      <td>1.637537</td>\n",
       "      <td>-0.557761</td>\n",
       "      <td>0.183604</td>\n",
       "      <td>-0.556224</td>\n",
       "      <td>-0.182897</td>\n",
       "    </tr>\n",
       "    <tr>\n",
       "      <th>Aire Libre</th>\n",
       "      <td>-0.765535</td>\n",
       "      <td>0.617093</td>\n",
       "      <td>-1.597880</td>\n",
       "      <td>-1.469624</td>\n",
       "      <td>-0.402420</td>\n",
       "    </tr>\n",
       "    <tr>\n",
       "      <th>Baño</th>\n",
       "      <td>-0.017835</td>\n",
       "      <td>-0.811448</td>\n",
       "      <td>0.641076</td>\n",
       "      <td>0.884920</td>\n",
       "      <td>-0.439409</td>\n",
       "    </tr>\n",
       "    <tr>\n",
       "      <th>Cocina</th>\n",
       "      <td>0.786382</td>\n",
       "      <td>-1.368291</td>\n",
       "      <td>1.069374</td>\n",
       "      <td>-0.426036</td>\n",
       "      <td>-1.032100</td>\n",
       "    </tr>\n",
       "    <tr>\n",
       "      <th>Decoración</th>\n",
       "      <td>0.638327</td>\n",
       "      <td>0.383065</td>\n",
       "      <td>0.144760</td>\n",
       "      <td>0.784669</td>\n",
       "      <td>0.291726</td>\n",
       "    </tr>\n",
       "  </tbody>\n",
       "</table>\n",
       "</div>"
      ],
      "text/plain": [
       "             Quantity     Price  TotalDiscountPrice  ShippingCost     Value\n",
       "ProductLine                                                                \n",
       "Accesorios   1.637537 -0.557761            0.183604     -0.556224 -0.182897\n",
       "Aire Libre  -0.765535  0.617093           -1.597880     -1.469624 -0.402420\n",
       "Baño        -0.017835 -0.811448            0.641076      0.884920 -0.439409\n",
       "Cocina       0.786382 -1.368291            1.069374     -0.426036 -1.032100\n",
       "Decoración   0.638327  0.383065            0.144760      0.784669  0.291726"
      ]
     },
     "execution_count": 8,
     "metadata": {},
     "output_type": "execute_result"
    }
   ],
   "source": [
    "# Normalizamos los datos utilizando el objeto StdSclr:\n",
    "\n",
    "from sklearn.preprocessing import StandardScaler\n",
    "# Instanciamos la clase, creando el objeto StdSclr.\n",
    "StdSclr = StandardScaler()\n",
    "\n",
    "df_linea_std = pd.DataFrame(StdSclr.fit_transform(df_tabla), index=df_tabla.index, columns=df_tabla.columns)\n",
    "df_linea_std.head()"
   ]
  },
  {
   "cell_type": "code",
   "execution_count": 9,
   "metadata": {},
   "outputs": [
    {
     "name": "stdout",
     "output_type": "stream",
     "text": [
      "Media de las variables: \n",
      "Quantity             -2.498002e-16\n",
      "Price                -4.510281e-17\n",
      "TotalDiscountPrice   -1.804112e-16\n",
      "ShippingCost          0.000000e+00\n",
      "Value                 1.096345e-15\n",
      "dtype: float64\n",
      "\n",
      "\n",
      "Varianza de las variables: \n",
      "Quantity              1.142857\n",
      "Price                 1.142857\n",
      "TotalDiscountPrice    1.142857\n",
      "ShippingCost          1.142857\n",
      "Value                 1.142857\n",
      "dtype: float64\n"
     ]
    }
   ],
   "source": [
    "# Observamos nuevamente la media de las variables:\n",
    "print(\"Media de las variables: \")\n",
    "print(df_linea_std.mean(axis=0))\n",
    "\n",
    "print('\\n')\n",
    "\n",
    "# Observamos nuevamente la varianza de las variables:\n",
    "print(\"Varianza de las variables: \")\n",
    "print(df_linea_std.var(axis=0))"
   ]
  },
  {
   "cell_type": "code",
   "execution_count": 10,
   "metadata": {},
   "outputs": [
    {
     "data": {
      "text/plain": [
       "PCA(copy=True, iterated_power='auto', n_components=None, random_state=None,\n",
       "  svd_solver='auto', tol=0.0, whiten=False)"
      ]
     },
     "execution_count": 10,
     "metadata": {},
     "output_type": "execute_result"
    }
   ],
   "source": [
    "from sklearn.decomposition import PCA\n",
    "#https://scikit-learn.org/stable/modules/generated/sklearn.decomposition.PCA.html\n",
    "\n",
    "# Instanciamos la clase PCA:\n",
    "pca_linea = PCA()\n",
    "\n",
    "# Al no especificar el número de componentes, PCA va a conservar todos los CP.\n",
    "\n",
    "# Calculamos los componentes principales con el método fit()\n",
    "pca_linea.fit(df_linea_std)\n",
    "pca_linea"
   ]
  },
  {
   "cell_type": "code",
   "execution_count": 11,
   "metadata": {},
   "outputs": [
    {
     "name": "stdout",
     "output_type": "stream",
     "text": [
      "[[-0.34792381  0.53823517 -0.46326108  0.33697936  0.51096576]\n",
      " [-0.49996435  0.11015729 -0.35937778 -0.71593447 -0.31013943]\n",
      " [-0.77527199 -0.16203718  0.46580478  0.35621195 -0.1698124 ]\n",
      " [-0.01000369  0.38674557  0.643154   -0.46131649  0.47314672]\n",
      " [ 0.16684707  0.722731    0.16004879  0.18488614 -0.62451858]]\n"
     ]
    }
   ],
   "source": [
    "# Imprimo los componentes principales\n",
    "print(pca_linea.components_)"
   ]
  },
  {
   "cell_type": "code",
   "execution_count": 12,
   "metadata": {},
   "outputs": [
    {
     "name": "stdout",
     "output_type": "stream",
     "text": [
      "[[-0.34792381  0.53823517 -0.46326108  0.33697936  0.51096576]\n",
      " [-0.49996435  0.11015729 -0.35937778 -0.71593447 -0.31013943]]\n"
     ]
    }
   ],
   "source": [
    "# Quiero quedarme sólo con los primeras 2 componenetes principales, ya que estan explican mas del 90% en el ejemplo:\n",
    "pca_linea_2 = PCA(n_components= 2)\n",
    "\n",
    "# Calculamos los componentes principales con el método fit()\n",
    "pca_linea_2.fit(df_linea_std)\n",
    "\n",
    "print(pca_linea_2.components_)"
   ]
  },
  {
   "cell_type": "code",
   "execution_count": 13,
   "metadata": {},
   "outputs": [
    {
     "data": {
      "text/html": [
       "<div>\n",
       "<style scoped>\n",
       "    .dataframe tbody tr th:only-of-type {\n",
       "        vertical-align: middle;\n",
       "    }\n",
       "\n",
       "    .dataframe tbody tr th {\n",
       "        vertical-align: top;\n",
       "    }\n",
       "\n",
       "    .dataframe thead th {\n",
       "        text-align: right;\n",
       "    }\n",
       "</style>\n",
       "<table border=\"1\" class=\"dataframe\">\n",
       "  <thead>\n",
       "    <tr style=\"text-align: right;\">\n",
       "      <th></th>\n",
       "      <th>PC1</th>\n",
       "      <th>PC2</th>\n",
       "      <th>PC3</th>\n",
       "      <th>PC4</th>\n",
       "      <th>PC5</th>\n",
       "    </tr>\n",
       "    <tr>\n",
       "      <th>ProductLine</th>\n",
       "      <th></th>\n",
       "      <th></th>\n",
       "      <th></th>\n",
       "      <th></th>\n",
       "      <th></th>\n",
       "    </tr>\n",
       "  </thead>\n",
       "  <tbody>\n",
       "    <tr>\n",
       "      <th>Accesorios</th>\n",
       "      <td>-1.235891</td>\n",
       "      <td>-0.491191</td>\n",
       "      <td>-1.260710</td>\n",
       "      <td>0.056050</td>\n",
       "      <td>-0.089123</td>\n",
       "    </tr>\n",
       "    <tr>\n",
       "      <th>Aire Libre</th>\n",
       "      <td>0.637868</td>\n",
       "      <td>2.201921</td>\n",
       "      <td>-0.705956</td>\n",
       "      <td>-0.293809</td>\n",
       "      <td>0.042132</td>\n",
       "    </tr>\n",
       "    <tr>\n",
       "      <th>Baño</th>\n",
       "      <td>-0.653853</td>\n",
       "      <td>-0.808125</td>\n",
       "      <td>0.833764</td>\n",
       "      <td>-0.517468</td>\n",
       "      <td>-0.048802</td>\n",
       "    </tr>\n",
       "    <tr>\n",
       "      <th>Cocina</th>\n",
       "      <td>-2.176396</td>\n",
       "      <td>-0.303090</td>\n",
       "      <td>0.133678</td>\n",
       "      <td>-0.141072</td>\n",
       "      <td>-0.120751</td>\n",
       "    </tr>\n",
       "    <tr>\n",
       "      <th>Decoración</th>\n",
       "      <td>0.330508</td>\n",
       "      <td>-0.981214</td>\n",
       "      <td>-0.259548</td>\n",
       "      <td>0.010914</td>\n",
       "      <td>0.369410</td>\n",
       "    </tr>\n",
       "    <tr>\n",
       "      <th>Dormitorio</th>\n",
       "      <td>4.258426</td>\n",
       "      <td>-0.601206</td>\n",
       "      <td>0.051203</td>\n",
       "      <td>0.037627</td>\n",
       "      <td>-0.138242</td>\n",
       "    </tr>\n",
       "    <tr>\n",
       "      <th>Organizadores</th>\n",
       "      <td>-0.793701</td>\n",
       "      <td>-0.106728</td>\n",
       "      <td>-0.091792</td>\n",
       "      <td>0.565778</td>\n",
       "      <td>-0.069135</td>\n",
       "    </tr>\n",
       "    <tr>\n",
       "      <th>Ropa</th>\n",
       "      <td>-0.366962</td>\n",
       "      <td>1.089634</td>\n",
       "      <td>1.299361</td>\n",
       "      <td>0.281979</td>\n",
       "      <td>0.054510</td>\n",
       "    </tr>\n",
       "  </tbody>\n",
       "</table>\n",
       "</div>"
      ],
      "text/plain": [
       "                    PC1       PC2       PC3       PC4       PC5\n",
       "ProductLine                                                    \n",
       "Accesorios    -1.235891 -0.491191 -1.260710  0.056050 -0.089123\n",
       "Aire Libre     0.637868  2.201921 -0.705956 -0.293809  0.042132\n",
       "Baño          -0.653853 -0.808125  0.833764 -0.517468 -0.048802\n",
       "Cocina        -2.176396 -0.303090  0.133678 -0.141072 -0.120751\n",
       "Decoración     0.330508 -0.981214 -0.259548  0.010914  0.369410\n",
       "Dormitorio     4.258426 -0.601206  0.051203  0.037627 -0.138242\n",
       "Organizadores -0.793701 -0.106728 -0.091792  0.565778 -0.069135\n",
       "Ropa          -0.366962  1.089634  1.299361  0.281979  0.054510"
      ]
     },
     "execution_count": 13,
     "metadata": {},
     "output_type": "execute_result"
    }
   ],
   "source": [
    "# Generamos un DataFrame expresando en términos de nuestros componentes principales:\n",
    "\n",
    "df_linea_pca = pd.DataFrame(pca_linea.fit_transform(df_linea_std), \\\n",
    "                            columns=['PC1', 'PC2', 'PC3', 'PC4', 'PC5'], index=df_linea_std.index)\n",
    "df_linea_pca"
   ]
  },
  {
   "cell_type": "code",
   "execution_count": 14,
   "metadata": {},
   "outputs": [
    {
     "name": "stdout",
     "output_type": "stream",
     "text": [
      "[[-0.34792381  0.53823517 -0.46326108  0.33697936  0.51096576]\n",
      " [-0.49996435  0.11015729 -0.35937778 -0.71593447 -0.31013943]\n",
      " [-0.77527199 -0.16203718  0.46580478  0.35621195 -0.1698124 ]\n",
      " [-0.01000369  0.38674557  0.643154   -0.46131649  0.47314672]\n",
      " [ 0.16684707  0.722731    0.16004879  0.18488614 -0.62451858]]\n"
     ]
    },
    {
     "data": {
      "text/html": [
       "<div>\n",
       "<style scoped>\n",
       "    .dataframe tbody tr th:only-of-type {\n",
       "        vertical-align: middle;\n",
       "    }\n",
       "\n",
       "    .dataframe tbody tr th {\n",
       "        vertical-align: top;\n",
       "    }\n",
       "\n",
       "    .dataframe thead th {\n",
       "        text-align: right;\n",
       "    }\n",
       "</style>\n",
       "<table border=\"1\" class=\"dataframe\">\n",
       "  <thead>\n",
       "    <tr style=\"text-align: right;\">\n",
       "      <th></th>\n",
       "      <th>PC1</th>\n",
       "      <th>PC2</th>\n",
       "      <th>PC3</th>\n",
       "      <th>PC4</th>\n",
       "      <th>PC5</th>\n",
       "    </tr>\n",
       "  </thead>\n",
       "  <tbody>\n",
       "    <tr>\n",
       "      <th>Quantity</th>\n",
       "      <td>-0.347924</td>\n",
       "      <td>-0.499964</td>\n",
       "      <td>-0.775272</td>\n",
       "      <td>-0.010004</td>\n",
       "      <td>0.166847</td>\n",
       "    </tr>\n",
       "    <tr>\n",
       "      <th>Price</th>\n",
       "      <td>0.538235</td>\n",
       "      <td>0.110157</td>\n",
       "      <td>-0.162037</td>\n",
       "      <td>0.386746</td>\n",
       "      <td>0.722731</td>\n",
       "    </tr>\n",
       "    <tr>\n",
       "      <th>TotalDiscountPrice</th>\n",
       "      <td>-0.463261</td>\n",
       "      <td>-0.359378</td>\n",
       "      <td>0.465805</td>\n",
       "      <td>0.643154</td>\n",
       "      <td>0.160049</td>\n",
       "    </tr>\n",
       "    <tr>\n",
       "      <th>ShippingCost</th>\n",
       "      <td>0.336979</td>\n",
       "      <td>-0.715934</td>\n",
       "      <td>0.356212</td>\n",
       "      <td>-0.461316</td>\n",
       "      <td>0.184886</td>\n",
       "    </tr>\n",
       "    <tr>\n",
       "      <th>Value</th>\n",
       "      <td>0.510966</td>\n",
       "      <td>-0.310139</td>\n",
       "      <td>-0.169812</td>\n",
       "      <td>0.473147</td>\n",
       "      <td>-0.624519</td>\n",
       "    </tr>\n",
       "  </tbody>\n",
       "</table>\n",
       "</div>"
      ],
      "text/plain": [
       "                         PC1       PC2       PC3       PC4       PC5\n",
       "Quantity           -0.347924 -0.499964 -0.775272 -0.010004  0.166847\n",
       "Price               0.538235  0.110157 -0.162037  0.386746  0.722731\n",
       "TotalDiscountPrice -0.463261 -0.359378  0.465805  0.643154  0.160049\n",
       "ShippingCost        0.336979 -0.715934  0.356212 -0.461316  0.184886\n",
       "Value               0.510966 -0.310139 -0.169812  0.473147 -0.624519"
      ]
     },
     "metadata": {},
     "output_type": "display_data"
    }
   ],
   "source": [
    "# Creamos un DataFRame con los loadings que vamos a usar para graficar\n",
    "\n",
    "pca_loadings = pd.DataFrame(pca_linea.components_.T, index=df_tabla.columns, columns=['PC1', 'PC2', 'PC3', 'PC4', 'PC5'])\n",
    "print(pca_linea.components_)\n",
    "display(pca_loadings)"
   ]
  },
  {
   "cell_type": "markdown",
   "metadata": {},
   "source": [
    "## Biplot"
   ]
  },
  {
   "cell_type": "code",
   "execution_count": 15,
   "metadata": {},
   "outputs": [
    {
     "data": {
      "image/png": "[encoded data removed]",
      "text/plain": [
       "<Figure size 648x504 with 3 Axes>"
      ]
     },
     "metadata": {},
     "output_type": "display_data"
    }
   ],
   "source": [
    "fig , ax1 = plt.subplots(figsize=(9,7))\n",
    "\n",
    "ax1.set_xlim(-3.5,3.5)\n",
    "ax1.set_ylim(-3.5,3.5)\n",
    "\n",
    "# Ploteamos a los Estados en el espacio de los Componentes Principales 1 y 2\n",
    "for i in df_linea_pca.index:\n",
    "    ax1.annotate(i, (df_linea_pca.PC1.loc[i], df_linea_pca.PC2.loc[i]), ha='center')\n",
    "\n",
    "# Ploteamos las líneas de referencia\n",
    "ax1.hlines(0,-3.5,3.5, linestyles='dotted', colors='grey')\n",
    "ax1.vlines(0,-3.5,3.5, linestyles='dotted', colors='grey')\n",
    "\n",
    "ax1.set_xlabel('Primer Componente Principal')\n",
    "ax1.set_ylabel('Segundo Componente Principal')\n",
    "    \n",
    "# Creamos ejes secundarios\n",
    "ax2 = ax1.twinx().twiny() \n",
    "\n",
    "ax2.set_ylim(-1,1)\n",
    "ax2.set_xlim(-1,1)\n",
    "ax2.tick_params(axis='y', colors='orange')\n",
    "ax2.set_xlabel('Vectores de loadings de los Componentes Principales', color='orange')\n",
    "\n",
    "# Ploteamos a las variables originales en relación a los Componentes Principales 1 y 2\n",
    "for i in pca_loadings[['PC1', 'PC2']].index:\n",
    "    ax2.annotate(i, (pca_loadings.PC1.loc[i], pca_loadings.PC2.loc[i]), color='orange')\n",
    "\n",
    "# Plot vectors\n",
    "ax2.arrow(0,0,pca_loadings.PC1[0], pca_loadings.PC2[0])\n",
    "ax2.arrow(0,0,pca_loadings.PC1[1], pca_loadings.PC2[1])\n",
    "ax2.arrow(0,0,pca_loadings.PC1[2], pca_loadings.PC2[2])\n",
    "ax2.arrow(0,0,pca_loadings.PC1[3], pca_loadings.PC2[3])\n",
    "ax2.arrow(0,0,pca_loadings.PC1[4], pca_loadings.PC2[4]);"
   ]
  },
  {
   "cell_type": "code",
   "execution_count": 16,
   "metadata": {},
   "outputs": [
    {
     "data": {
      "text/plain": [
       "array([3.729511  , 1.19393951, 0.65250696, 0.11118449, 0.02714375])"
      ]
     },
     "execution_count": 16,
     "metadata": {},
     "output_type": "execute_result"
    }
   ],
   "source": [
    "# Vemos la varianza explicada de cada componente principal como atributo del modelo.\n",
    "\n",
    "pca_linea.explained_variance_"
   ]
  },
  {
   "cell_type": "code",
   "execution_count": 17,
   "metadata": {},
   "outputs": [
    {
     "data": {
      "text/plain": [
       "array([0.65266443, 0.20893941, 0.11418872, 0.01945729, 0.00475016])"
      ]
     },
     "execution_count": 17,
     "metadata": {},
     "output_type": "execute_result"
    }
   ],
   "source": [
    "# Vemos el ratio la varianza explicada de cada componente principal como atributo del modelo.\n",
    "\n",
    "pca_linea.explained_variance_ratio_"
   ]
  },
  {
   "cell_type": "code",
   "execution_count": 18,
   "metadata": {},
   "outputs": [
    {
     "data": {
      "image/png": "[encoded data removed]",
      "text/plain": [
       "<Figure size 504x360 with 1 Axes>"
      ]
     },
     "metadata": {
      "needs_background": "light"
     },
     "output_type": "display_data"
    }
   ],
   "source": [
    "# Ploteamos como incrementa el % de varianza explicada a medida que agregamos componentes:\n",
    "\n",
    "plt.figure(figsize=(7,5))\n",
    "\n",
    "plt.plot([1,2,3,4,5], pca_linea.explained_variance_ratio_, '-o', label='Componente individual')\n",
    "plt.plot([1,2,3,4,5], np.cumsum(pca_linea.explained_variance_ratio_), '-s', label='Acumulado')\n",
    "\n",
    "plt.ylabel('Porcentaje de Varianza Explicada')\n",
    "plt.xlabel('Componentes Principales')\n",
    "plt.xlim(0.75,4.25)\n",
    "plt.ylim(0,1.05)\n",
    "plt.xticks([1,2,3,4])\n",
    "plt.legend(loc=2);"
   ]
  },
  {
   "cell_type": "code",
   "execution_count": 19,
   "metadata": {},
   "outputs": [
    {
     "data": {
      "text/plain": [
       "Text(0.5, 1, 'Correlacion entre features')"
      ]
     },
     "execution_count": 19,
     "metadata": {},
     "output_type": "execute_result"
    },
    {
     "data": {
      "image/png": "[encoded data removed]",
      "text/plain": [
       "<Figure size 720x720 with 2 Axes>"
      ]
     },
     "metadata": {
      "needs_background": "light"
     },
     "output_type": "display_data"
    }
   ],
   "source": [
    "correlation = df_tabla.corr()\n",
    "plt.figure(figsize=(10,10))\n",
    "sns.heatmap(correlation, vmax=1, square=True,annot=True,cmap='cubehelix')\n",
    "\n",
    "plt.title('Correlacion entre features')"
   ]
  },
  {
   "cell_type": "code",
   "execution_count": 20,
   "metadata": {},
   "outputs": [],
   "source": [
    "# https://docs.scipy.org/doc/numpy/reference/generated/numpy.cov.html\n",
    "# If rowvar is True (default), then each row represents a variable, with observations in the columns. \n",
    "covarianzas = np.cov(df_linea_std, rowvar = False)\n",
    "#display(covarianzas)\n",
    "\n",
    "#otra forma de calcular la matriz de covarianzas:\n",
    "mean_vec = np.mean(df_linea_std, axis=0)\n",
    "cov_mat = (df_linea_std - mean_vec).T.dot((df_linea_std - mean_vec)) / (df_linea_std.shape[0]-1)\n",
    "#print('Covariance matrix \\n%s' %cov_mat)"
   ]
  },
  {
   "cell_type": "code",
   "execution_count": 21,
   "metadata": {},
   "outputs": [
    {
     "name": "stdout",
     "output_type": "stream",
     "text": [
      "Eigenvectors \n",
      "[[ 0.34792381 -0.49996435 -0.77527199 -0.16684707  0.01000369]\n",
      " [-0.53823517  0.11015729 -0.16203718 -0.722731   -0.38674557]\n",
      " [ 0.46326108 -0.35937778  0.46580478 -0.16004879 -0.643154  ]\n",
      " [-0.33697936 -0.71593447  0.35621195 -0.18488614  0.46131649]\n",
      " [-0.51096576 -0.31013943 -0.1698124   0.62451858 -0.47314672]]\n",
      "\n",
      "Eigenvalues \n",
      "[3.729511   1.19393951 0.65250696 0.02714375 0.11118449]\n"
     ]
    }
   ],
   "source": [
    "# Descomposición en autovectores y autovalores:\n",
    "eig_vals, eig_vecs = np.linalg.eig(cov_mat)\n",
    "\n",
    "print('Eigenvectors \\n%s' %eig_vecs)\n",
    "print('\\nEigenvalues \\n%s' %eig_vals)"
   ]
  },
  {
   "cell_type": "code",
   "execution_count": 22,
   "metadata": {},
   "outputs": [
    {
     "name": "stdout",
     "output_type": "stream",
     "text": [
      "Eigenvalues in descending order:\n",
      "3.7295110031177683\n",
      "1.1939395067260992\n",
      "0.6525069613553321\n",
      "0.11118449406842382\n",
      "0.02714374901809308\n"
     ]
    }
   ],
   "source": [
    "# Ordeno los autovalores de mayor a menor:\n",
    "# Make a list of (eigenvalue, eigenvector) tuples\n",
    "eig_pairs = [(np.abs(eig_vals[i]), eig_vecs[:,i]) for i in range(len(eig_vals))]\n",
    "#eig_pairs\n",
    "# Sort the (eigenvalue, eigenvector) tuples from high to low\n",
    "#ordeno por el primer elemento de cada tupla: el autovalor\n",
    "eig_pairs.sort(key=lambda x: x[0], reverse=True)\n",
    "\n",
    "# Visually confirm that the list is correctly sorted by decreasing eigenvalues\n",
    "print('Eigenvalues in descending order:')\n",
    "for i in eig_pairs:\n",
    "    print(i[0])"
   ]
  },
  {
   "cell_type": "code",
   "execution_count": 23,
   "metadata": {},
   "outputs": [
    {
     "name": "stdout",
     "output_type": "stream",
     "text": [
      "5.714285714285717\n",
      "[65.26644255456091, 20.893941367706724, 11.418871823718307, 1.9457286461974157, 0.4750156078166287]\n"
     ]
    }
   ],
   "source": [
    "# Varianza explicada:\n",
    "tot = sum(eig_vals)\n",
    "var_exp = [(i / tot)*100 for i in sorted(eig_vals, reverse=True)]\n",
    "print(tot)\n",
    "print(var_exp)"
   ]
  },
  {
   "cell_type": "code",
   "execution_count": 24,
   "metadata": {
    "scrolled": true
   },
   "outputs": [
    {
     "data": {
      "image/png": "[encoded data removed]",
      "text/plain": [
       "<Figure size 432x288 with 1 Axes>"
      ]
     },
     "metadata": {
      "needs_background": "light"
     },
     "output_type": "display_data"
    }
   ],
   "source": [
    "plt.bar(range(5), var_exp, alpha=0.5, align='center', label='% varianza total explicada por cada componente')\n",
    "plt.ylabel('Explained variance ratio')\n",
    "plt.xlabel('Principal components')\n",
    "plt.legend(loc='best')\n",
    "plt.tight_layout()"
   ]
  },
  {
   "cell_type": "markdown",
   "metadata": {},
   "source": [
    "Me quedo con 2 componentes, en el mejor de los casos agrego al tercero"
   ]
  },
  {
   "cell_type": "markdown",
   "metadata": {},
   "source": [
    "## Analisis por Tipo de Producto"
   ]
  },
  {
   "cell_type": "code",
   "execution_count": 25,
   "metadata": {},
   "outputs": [],
   "source": [
    "# Vamos a usar el promedio de los valores por estados para una primera aproximacion y luego el total de los datos\n",
    "# Por previos chequeos, excluimos del analisis otras variables que estaban intimamente relacionadas\n",
    "df_tabla = df.groupby('ProductType')['Quantity', 'Price', 'TotalDiscountPrice', 'ShippingCost', 'Value'].mean()"
   ]
  },
  {
   "cell_type": "code",
   "execution_count": 26,
   "metadata": {},
   "outputs": [
    {
     "data": {
      "text/html": [
       "<div>\n",
       "<style scoped>\n",
       "    .dataframe tbody tr th:only-of-type {\n",
       "        vertical-align: middle;\n",
       "    }\n",
       "\n",
       "    .dataframe tbody tr th {\n",
       "        vertical-align: top;\n",
       "    }\n",
       "\n",
       "    .dataframe thead th {\n",
       "        text-align: right;\n",
       "    }\n",
       "</style>\n",
       "<table border=\"1\" class=\"dataframe\">\n",
       "  <thead>\n",
       "    <tr style=\"text-align: right;\">\n",
       "      <th></th>\n",
       "      <th>Quantity</th>\n",
       "      <th>Price</th>\n",
       "      <th>TotalDiscountPrice</th>\n",
       "      <th>ShippingCost</th>\n",
       "      <th>Value</th>\n",
       "    </tr>\n",
       "    <tr>\n",
       "      <th>ProductType</th>\n",
       "      <th></th>\n",
       "      <th></th>\n",
       "      <th></th>\n",
       "      <th></th>\n",
       "      <th></th>\n",
       "    </tr>\n",
       "  </thead>\n",
       "  <tbody>\n",
       "    <tr>\n",
       "      <th>Accesorios</th>\n",
       "      <td>1.080706</td>\n",
       "      <td>604.028341</td>\n",
       "      <td>-1286.279735</td>\n",
       "      <td>26.202806</td>\n",
       "      <td>2414.679386</td>\n",
       "    </tr>\n",
       "    <tr>\n",
       "      <th>Acolchados y Frazadas</th>\n",
       "      <td>1.086487</td>\n",
       "      <td>2468.184563</td>\n",
       "      <td>-2319.632877</td>\n",
       "      <td>36.712461</td>\n",
       "      <td>2923.610559</td>\n",
       "    </tr>\n",
       "    <tr>\n",
       "      <th>Adornos</th>\n",
       "      <td>1.097812</td>\n",
       "      <td>1593.601427</td>\n",
       "      <td>-1916.650168</td>\n",
       "      <td>32.532346</td>\n",
       "      <td>2566.537045</td>\n",
       "    </tr>\n",
       "    <tr>\n",
       "      <th>Alfombras</th>\n",
       "      <td>1.135627</td>\n",
       "      <td>812.068305</td>\n",
       "      <td>-1344.676373</td>\n",
       "      <td>30.418673</td>\n",
       "      <td>2215.428344</td>\n",
       "    </tr>\n",
       "    <tr>\n",
       "      <th>Almohadas</th>\n",
       "      <td>1.452769</td>\n",
       "      <td>890.104056</td>\n",
       "      <td>-1492.365595</td>\n",
       "      <td>26.001481</td>\n",
       "      <td>1904.888754</td>\n",
       "    </tr>\n",
       "    <tr>\n",
       "      <th>Almohadones</th>\n",
       "      <td>1.436616</td>\n",
       "      <td>780.569943</td>\n",
       "      <td>-1574.816078</td>\n",
       "      <td>28.223869</td>\n",
       "      <td>2127.469185</td>\n",
       "    </tr>\n",
       "    <tr>\n",
       "      <th>Aromatizadores</th>\n",
       "      <td>1.123072</td>\n",
       "      <td>460.398804</td>\n",
       "      <td>-1017.239931</td>\n",
       "      <td>14.388102</td>\n",
       "      <td>1594.528499</td>\n",
       "    </tr>\n",
       "    <tr>\n",
       "      <th>Bandejas</th>\n",
       "      <td>1.043253</td>\n",
       "      <td>858.484429</td>\n",
       "      <td>-1081.724343</td>\n",
       "      <td>25.697232</td>\n",
       "      <td>1586.137249</td>\n",
       "    </tr>\n",
       "    <tr>\n",
       "      <th>Bebé</th>\n",
       "      <td>1.017241</td>\n",
       "      <td>1039.510345</td>\n",
       "      <td>-1135.605138</td>\n",
       "      <td>47.272414</td>\n",
       "      <td>1758.522448</td>\n",
       "    </tr>\n",
       "    <tr>\n",
       "      <th>Cajas y Cajones</th>\n",
       "      <td>1.908419</td>\n",
       "      <td>492.782866</td>\n",
       "      <td>-1389.593028</td>\n",
       "      <td>27.237814</td>\n",
       "      <td>1854.344934</td>\n",
       "    </tr>\n",
       "    <tr>\n",
       "      <th>Cama</th>\n",
       "      <td>1.082011</td>\n",
       "      <td>1068.438021</td>\n",
       "      <td>-1615.096240</td>\n",
       "      <td>31.077295</td>\n",
       "      <td>2682.996913</td>\n",
       "    </tr>\n",
       "    <tr>\n",
       "      <th>Cortinas</th>\n",
       "      <td>1.223383</td>\n",
       "      <td>928.781692</td>\n",
       "      <td>-1355.091746</td>\n",
       "      <td>33.382388</td>\n",
       "      <td>2013.979975</td>\n",
       "    </tr>\n",
       "    <tr>\n",
       "      <th>Guardado</th>\n",
       "      <td>1.083095</td>\n",
       "      <td>1307.515759</td>\n",
       "      <td>-1642.773414</td>\n",
       "      <td>27.756856</td>\n",
       "      <td>2617.905546</td>\n",
       "    </tr>\n",
       "    <tr>\n",
       "      <th>Jabones y Jaboneras</th>\n",
       "      <td>1.182390</td>\n",
       "      <td>375.996855</td>\n",
       "      <td>-1001.719371</td>\n",
       "      <td>21.234277</td>\n",
       "      <td>1883.765063</td>\n",
       "    </tr>\n",
       "    <tr>\n",
       "      <th>Jardín</th>\n",
       "      <td>1.205056</td>\n",
       "      <td>1559.162921</td>\n",
       "      <td>-1869.494045</td>\n",
       "      <td>27.581461</td>\n",
       "      <td>2742.559045</td>\n",
       "    </tr>\n",
       "    <tr>\n",
       "      <th>Lonas</th>\n",
       "      <td>1.072714</td>\n",
       "      <td>830.360691</td>\n",
       "      <td>-1672.382073</td>\n",
       "      <td>25.225342</td>\n",
       "      <td>1618.181497</td>\n",
       "    </tr>\n",
       "    <tr>\n",
       "      <th>Mantelería</th>\n",
       "      <td>1.320634</td>\n",
       "      <td>413.310184</td>\n",
       "      <td>-1275.160619</td>\n",
       "      <td>28.430852</td>\n",
       "      <td>1942.129616</td>\n",
       "    </tr>\n",
       "    <tr>\n",
       "      <th>Muebles</th>\n",
       "      <td>1.690596</td>\n",
       "      <td>995.501679</td>\n",
       "      <td>-1313.909127</td>\n",
       "      <td>27.706549</td>\n",
       "      <td>1944.744431</td>\n",
       "    </tr>\n",
       "    <tr>\n",
       "      <th>Para Dormir</th>\n",
       "      <td>1.033672</td>\n",
       "      <td>1337.002541</td>\n",
       "      <td>-1484.864085</td>\n",
       "      <td>29.576874</td>\n",
       "      <td>2299.920810</td>\n",
       "    </tr>\n",
       "    <tr>\n",
       "      <th>Para Trabajo</th>\n",
       "      <td>1.160477</td>\n",
       "      <td>230.745358</td>\n",
       "      <td>-996.705517</td>\n",
       "      <td>25.049072</td>\n",
       "      <td>1380.798196</td>\n",
       "    </tr>\n",
       "    <tr>\n",
       "      <th>Para Uso</th>\n",
       "      <td>1.082407</td>\n",
       "      <td>487.612165</td>\n",
       "      <td>-1445.129215</td>\n",
       "      <td>23.901243</td>\n",
       "      <td>1665.241550</td>\n",
       "    </tr>\n",
       "    <tr>\n",
       "      <th>Placard</th>\n",
       "      <td>1.267944</td>\n",
       "      <td>653.961026</td>\n",
       "      <td>-1132.108184</td>\n",
       "      <td>27.535888</td>\n",
       "      <td>1787.360831</td>\n",
       "    </tr>\n",
       "    <tr>\n",
       "      <th>Sillas</th>\n",
       "      <td>1.270310</td>\n",
       "      <td>2183.576071</td>\n",
       "      <td>-2927.143929</td>\n",
       "      <td>21.209749</td>\n",
       "      <td>2923.244549</td>\n",
       "    </tr>\n",
       "    <tr>\n",
       "      <th>Sábanas</th>\n",
       "      <td>1.049141</td>\n",
       "      <td>1759.435580</td>\n",
       "      <td>-2095.812893</td>\n",
       "      <td>37.495141</td>\n",
       "      <td>2570.231237</td>\n",
       "    </tr>\n",
       "    <tr>\n",
       "      <th>Toallas y Toallones</th>\n",
       "      <td>1.230762</td>\n",
       "      <td>654.183934</td>\n",
       "      <td>-1387.911073</td>\n",
       "      <td>33.232279</td>\n",
       "      <td>1998.362753</td>\n",
       "    </tr>\n",
       "    <tr>\n",
       "      <th>Vajilla</th>\n",
       "      <td>1.038095</td>\n",
       "      <td>383.400000</td>\n",
       "      <td>-1623.221429</td>\n",
       "      <td>44.152381</td>\n",
       "      <td>2422.824286</td>\n",
       "    </tr>\n",
       "    <tr>\n",
       "      <th>Velas</th>\n",
       "      <td>1.103774</td>\n",
       "      <td>768.254717</td>\n",
       "      <td>-1724.986321</td>\n",
       "      <td>17.867925</td>\n",
       "      <td>2659.277830</td>\n",
       "    </tr>\n",
       "  </tbody>\n",
       "</table>\n",
       "</div>"
      ],
      "text/plain": [
       "                       Quantity        Price  TotalDiscountPrice  \\\n",
       "ProductType                                                        \n",
       "Accesorios             1.080706   604.028341        -1286.279735   \n",
       "Acolchados y Frazadas  1.086487  2468.184563        -2319.632877   \n",
       "Adornos                1.097812  1593.601427        -1916.650168   \n",
       "Alfombras              1.135627   812.068305        -1344.676373   \n",
       "Almohadas              1.452769   890.104056        -1492.365595   \n",
       "Almohadones            1.436616   780.569943        -1574.816078   \n",
       "Aromatizadores         1.123072   460.398804        -1017.239931   \n",
       "Bandejas               1.043253   858.484429        -1081.724343   \n",
       "Bebé                   1.017241  1039.510345        -1135.605138   \n",
       "Cajas y Cajones        1.908419   492.782866        -1389.593028   \n",
       "Cama                   1.082011  1068.438021        -1615.096240   \n",
       "Cortinas               1.223383   928.781692        -1355.091746   \n",
       "Guardado               1.083095  1307.515759        -1642.773414   \n",
       "Jabones y Jaboneras    1.182390   375.996855        -1001.719371   \n",
       "Jardín                 1.205056  1559.162921        -1869.494045   \n",
       "Lonas                  1.072714   830.360691        -1672.382073   \n",
       "Mantelería             1.320634   413.310184        -1275.160619   \n",
       "Muebles                1.690596   995.501679        -1313.909127   \n",
       "Para Dormir            1.033672  1337.002541        -1484.864085   \n",
       "Para Trabajo           1.160477   230.745358         -996.705517   \n",
       "Para Uso               1.082407   487.612165        -1445.129215   \n",
       "Placard                1.267944   653.961026        -1132.108184   \n",
       "Sillas                 1.270310  2183.576071        -2927.143929   \n",
       "Sábanas                1.049141  1759.435580        -2095.812893   \n",
       "Toallas y Toallones    1.230762   654.183934        -1387.911073   \n",
       "Vajilla                1.038095   383.400000        -1623.221429   \n",
       "Velas                  1.103774   768.254717        -1724.986321   \n",
       "\n",
       "                       ShippingCost        Value  \n",
       "ProductType                                       \n",
       "Accesorios                26.202806  2414.679386  \n",
       "Acolchados y Frazadas     36.712461  2923.610559  \n",
       "Adornos                   32.532346  2566.537045  \n",
       "Alfombras                 30.418673  2215.428344  \n",
       "Almohadas                 26.001481  1904.888754  \n",
       "Almohadones               28.223869  2127.469185  \n",
       "Aromatizadores            14.388102  1594.528499  \n",
       "Bandejas                  25.697232  1586.137249  \n",
       "Bebé                      47.272414  1758.522448  \n",
       "Cajas y Cajones           27.237814  1854.344934  \n",
       "Cama                      31.077295  2682.996913  \n",
       "Cortinas                  33.382388  2013.979975  \n",
       "Guardado                  27.756856  2617.905546  \n",
       "Jabones y Jaboneras       21.234277  1883.765063  \n",
       "Jardín                    27.581461  2742.559045  \n",
       "Lonas                     25.225342  1618.181497  \n",
       "Mantelería                28.430852  1942.129616  \n",
       "Muebles                   27.706549  1944.744431  \n",
       "Para Dormir               29.576874  2299.920810  \n",
       "Para Trabajo              25.049072  1380.798196  \n",
       "Para Uso                  23.901243  1665.241550  \n",
       "Placard                   27.535888  1787.360831  \n",
       "Sillas                    21.209749  2923.244549  \n",
       "Sábanas                   37.495141  2570.231237  \n",
       "Toallas y Toallones       33.232279  1998.362753  \n",
       "Vajilla                   44.152381  2422.824286  \n",
       "Velas                     17.867925  2659.277830  "
      ]
     },
     "execution_count": 26,
     "metadata": {},
     "output_type": "execute_result"
    }
   ],
   "source": [
    "df_tabla.index_col = 'ProductType'\n",
    "df_tabla"
   ]
  },
  {
   "cell_type": "code",
   "execution_count": 27,
   "metadata": {},
   "outputs": [],
   "source": [
    "df_tabla.dropna( inplace=True )"
   ]
  },
  {
   "cell_type": "code",
   "execution_count": 28,
   "metadata": {},
   "outputs": [
    {
     "data": {
      "text/plain": [
       "(27, 5)"
      ]
     },
     "execution_count": 28,
     "metadata": {},
     "output_type": "execute_result"
    }
   ],
   "source": [
    "# Estoy trabajando con los ProductLine promedio\n",
    "df_tabla.shape"
   ]
  },
  {
   "cell_type": "markdown",
   "metadata": {},
   "source": [
    "Necesitamos variables con media 0 y varianza 1:"
   ]
  },
  {
   "cell_type": "code",
   "execution_count": 29,
   "metadata": {},
   "outputs": [
    {
     "name": "stdout",
     "output_type": "stream",
     "text": [
      "Media de las variables: \n",
      "Quantity                 1.202906\n",
      "Price                  960.628603\n",
      "TotalDiscountPrice   -1523.040465\n",
      "ShippingCost            28.781584\n",
      "Value                 2151.839649\n",
      "dtype: float64\n",
      "\n",
      "\n",
      "Varianza de las variables: \n",
      "Quantity                   0.043800\n",
      "Price                 311019.258587\n",
      "TotalDiscountPrice    187531.955054\n",
      "ShippingCost              50.134718\n",
      "Value                 199907.821912\n",
      "dtype: float64\n"
     ]
    }
   ],
   "source": [
    "# Observamos la media de las variables\n",
    "\n",
    "print(\"Media de las variables: \")\n",
    "print(df_tabla.mean(axis=0))\n",
    "\n",
    "print('\\n')\n",
    "\n",
    "# Observamos la varianza de las variables:\n",
    "print(\"Varianza de las variables: \")\n",
    "print(df_tabla.var(axis=0))"
   ]
  },
  {
   "cell_type": "code",
   "execution_count": 30,
   "metadata": {},
   "outputs": [
    {
     "data": {
      "text/html": [
       "<div>\n",
       "<style scoped>\n",
       "    .dataframe tbody tr th:only-of-type {\n",
       "        vertical-align: middle;\n",
       "    }\n",
       "\n",
       "    .dataframe tbody tr th {\n",
       "        vertical-align: top;\n",
       "    }\n",
       "\n",
       "    .dataframe thead th {\n",
       "        text-align: right;\n",
       "    }\n",
       "</style>\n",
       "<table border=\"1\" class=\"dataframe\">\n",
       "  <thead>\n",
       "    <tr style=\"text-align: right;\">\n",
       "      <th></th>\n",
       "      <th>Quantity</th>\n",
       "      <th>Price</th>\n",
       "      <th>TotalDiscountPrice</th>\n",
       "      <th>ShippingCost</th>\n",
       "      <th>Value</th>\n",
       "    </tr>\n",
       "    <tr>\n",
       "      <th>ProductType</th>\n",
       "      <th></th>\n",
       "      <th></th>\n",
       "      <th></th>\n",
       "      <th></th>\n",
       "      <th></th>\n",
       "    </tr>\n",
       "  </thead>\n",
       "  <tbody>\n",
       "    <tr>\n",
       "      <th>Accesorios</th>\n",
       "      <td>-0.595018</td>\n",
       "      <td>-0.651603</td>\n",
       "      <td>0.557144</td>\n",
       "      <td>-0.371142</td>\n",
       "      <td>0.599061</td>\n",
       "    </tr>\n",
       "    <tr>\n",
       "      <th>Acolchados y Frazadas</th>\n",
       "      <td>-0.566868</td>\n",
       "      <td>2.754704</td>\n",
       "      <td>-1.874536</td>\n",
       "      <td>1.141424</td>\n",
       "      <td>1.759012</td>\n",
       "    </tr>\n",
       "    <tr>\n",
       "      <th>Adornos</th>\n",
       "      <td>-0.511723</td>\n",
       "      <td>1.156609</td>\n",
       "      <td>-0.926240</td>\n",
       "      <td>0.539816</td>\n",
       "      <td>0.945174</td>\n",
       "    </tr>\n",
       "    <tr>\n",
       "      <th>Alfombras</th>\n",
       "      <td>-0.327598</td>\n",
       "      <td>-0.271459</td>\n",
       "      <td>0.419725</td>\n",
       "      <td>0.235612</td>\n",
       "      <td>0.144931</td>\n",
       "    </tr>\n",
       "    <tr>\n",
       "      <th>Almohadas</th>\n",
       "      <td>1.216633</td>\n",
       "      <td>-0.128867</td>\n",
       "      <td>0.072184</td>\n",
       "      <td>-0.400117</td>\n",
       "      <td>-0.562848</td>\n",
       "    </tr>\n",
       "  </tbody>\n",
       "</table>\n",
       "</div>"
      ],
      "text/plain": [
       "                       Quantity     Price  TotalDiscountPrice  ShippingCost  \\\n",
       "ProductType                                                                   \n",
       "Accesorios            -0.595018 -0.651603            0.557144     -0.371142   \n",
       "Acolchados y Frazadas -0.566868  2.754704           -1.874536      1.141424   \n",
       "Adornos               -0.511723  1.156609           -0.926240      0.539816   \n",
       "Alfombras             -0.327598 -0.271459            0.419725      0.235612   \n",
       "Almohadas              1.216633 -0.128867            0.072184     -0.400117   \n",
       "\n",
       "                          Value  \n",
       "ProductType                      \n",
       "Accesorios             0.599061  \n",
       "Acolchados y Frazadas  1.759012  \n",
       "Adornos                0.945174  \n",
       "Alfombras              0.144931  \n",
       "Almohadas             -0.562848  "
      ]
     },
     "execution_count": 30,
     "metadata": {},
     "output_type": "execute_result"
    }
   ],
   "source": [
    "# Normalizamos los datos utilizando el objeto StdSclr:\n",
    "\n",
    "from sklearn.preprocessing import StandardScaler\n",
    "# Instanciamos la clase, creando el objeto StdSclr.\n",
    "StdSclr = StandardScaler()\n",
    "\n",
    "df_linea_std = pd.DataFrame(StdSclr.fit_transform(df_tabla), index=df_tabla.index, columns=df_tabla.columns)\n",
    "df_linea_std.head()"
   ]
  },
  {
   "cell_type": "code",
   "execution_count": 31,
   "metadata": {},
   "outputs": [
    {
     "name": "stdout",
     "output_type": "stream",
     "text": [
      "Media de las variables: \n",
      "Quantity              4.255855e-16\n",
      "Price                -3.762422e-16\n",
      "TotalDiscountPrice   -3.042833e-16\n",
      "ShippingCost         -7.812681e-16\n",
      "Value                 4.358653e-16\n",
      "dtype: float64\n",
      "\n",
      "\n",
      "Varianza de las variables: \n",
      "Quantity              1.038462\n",
      "Price                 1.038462\n",
      "TotalDiscountPrice    1.038462\n",
      "ShippingCost          1.038462\n",
      "Value                 1.038462\n",
      "dtype: float64\n"
     ]
    }
   ],
   "source": [
    "# Observamos nuevamente la media de las variables:\n",
    "print(\"Media de las variables: \")\n",
    "print(df_linea_std.mean(axis=0))\n",
    "\n",
    "print('\\n')\n",
    "\n",
    "# Observamos nuevamente la varianza de las variables:\n",
    "print(\"Varianza de las variables: \")\n",
    "print(df_linea_std.var(axis=0))"
   ]
  },
  {
   "cell_type": "code",
   "execution_count": 32,
   "metadata": {},
   "outputs": [
    {
     "data": {
      "text/plain": [
       "PCA(copy=True, iterated_power='auto', n_components=None, random_state=None,\n",
       "  svd_solver='auto', tol=0.0, whiten=False)"
      ]
     },
     "execution_count": 32,
     "metadata": {},
     "output_type": "execute_result"
    }
   ],
   "source": [
    "from sklearn.decomposition import PCA\n",
    "#https://scikit-learn.org/stable/modules/generated/sklearn.decomposition.PCA.html\n",
    "\n",
    "# Instanciamos la clase PCA:\n",
    "pca_linea = PCA()\n",
    "\n",
    "# Al no especificar el número de componentes, PCA va a conservar todos los CP.\n",
    "\n",
    "# Calculamos los componentes principales con el método fit()\n",
    "pca_linea.fit(df_linea_std)\n",
    "pca_linea"
   ]
  },
  {
   "cell_type": "code",
   "execution_count": 33,
   "metadata": {},
   "outputs": [
    {
     "name": "stdout",
     "output_type": "stream",
     "text": [
      "[[-0.17406529  0.56200375 -0.55798421  0.19807693  0.55070157]\n",
      " [-0.69488682 -0.09105012  0.26302612  0.65605458 -0.09618644]\n",
      " [ 0.69063103  0.02988755  0.01881423  0.72045037 -0.05227619]\n",
      " [ 0.05258243 -0.61255388  0.14165801  0.02756672  0.7753618 ]\n",
      " [-0.08424639 -0.54749076 -0.77398315  0.10270955 -0.28906269]]\n"
     ]
    }
   ],
   "source": [
    "# Imprimo los componentes principales\n",
    "print(pca_linea.components_)"
   ]
  },
  {
   "cell_type": "code",
   "execution_count": 34,
   "metadata": {},
   "outputs": [
    {
     "name": "stdout",
     "output_type": "stream",
     "text": [
      "[[-0.17406529  0.56200375 -0.55798421  0.19807693  0.55070157]\n",
      " [-0.69488682 -0.09105012  0.26302612  0.65605458 -0.09618644]]\n"
     ]
    }
   ],
   "source": [
    "# Quiero quedarme sólo con los primeras 2 componenetes principales, ya que estan explican mas del 90% en el ejemplo:\n",
    "pca_linea_2 = PCA(n_components= 2)\n",
    "\n",
    "# Calculamos los componentes principales con el método fit()\n",
    "pca_linea_2.fit(df_linea_std)\n",
    "\n",
    "print(pca_linea_2.components_)"
   ]
  },
  {
   "cell_type": "code",
   "execution_count": 35,
   "metadata": {},
   "outputs": [
    {
     "data": {
      "text/html": [
       "<div>\n",
       "<style scoped>\n",
       "    .dataframe tbody tr th:only-of-type {\n",
       "        vertical-align: middle;\n",
       "    }\n",
       "\n",
       "    .dataframe tbody tr th {\n",
       "        vertical-align: top;\n",
       "    }\n",
       "\n",
       "    .dataframe thead th {\n",
       "        text-align: right;\n",
       "    }\n",
       "</style>\n",
       "<table border=\"1\" class=\"dataframe\">\n",
       "  <thead>\n",
       "    <tr style=\"text-align: right;\">\n",
       "      <th></th>\n",
       "      <th>PC1</th>\n",
       "      <th>PC2</th>\n",
       "      <th>PC3</th>\n",
       "      <th>PC4</th>\n",
       "      <th>PC5</th>\n",
       "    </tr>\n",
       "    <tr>\n",
       "      <th>ProductType</th>\n",
       "      <th></th>\n",
       "      <th></th>\n",
       "      <th></th>\n",
       "      <th></th>\n",
       "      <th></th>\n",
       "    </tr>\n",
       "  </thead>\n",
       "  <tbody>\n",
       "    <tr>\n",
       "      <th>Accesorios</th>\n",
       "      <td>-0.317119</td>\n",
       "      <td>0.318231</td>\n",
       "      <td>-0.718637</td>\n",
       "      <td>0.901037</td>\n",
       "      <td>-0.235631</td>\n",
       "    </tr>\n",
       "    <tr>\n",
       "      <th>Acolchados y Frazadas</th>\n",
       "      <td>3.887568</td>\n",
       "      <td>0.229685</td>\n",
       "      <td>0.385952</td>\n",
       "      <td>-0.587419</td>\n",
       "      <td>-0.400789</td>\n",
       "    </tr>\n",
       "    <tr>\n",
       "      <th>Adornos</th>\n",
       "      <td>1.883353</td>\n",
       "      <td>0.269890</td>\n",
       "      <td>0.003230</td>\n",
       "      <td>-0.118870</td>\n",
       "      <td>-0.090998</td>\n",
       "    </tr>\n",
       "    <tr>\n",
       "      <th>Alfombras</th>\n",
       "      <td>-0.203255</td>\n",
       "      <td>0.503393</td>\n",
       "      <td>-0.064295</td>\n",
       "      <td>0.327384</td>\n",
       "      <td>-0.166334</td>\n",
       "    </tr>\n",
       "    <tr>\n",
       "      <th>Almohadas</th>\n",
       "      <td>-0.713690</td>\n",
       "      <td>-1.023063</td>\n",
       "      <td>0.578910</td>\n",
       "      <td>-0.294304</td>\n",
       "      <td>0.033790</td>\n",
       "    </tr>\n",
       "    <tr>\n",
       "      <th>Almohadones</th>\n",
       "      <td>-0.361494</td>\n",
       "      <td>-0.840174</td>\n",
       "      <td>0.718873</td>\n",
       "      <td>0.198838</td>\n",
       "      <td>0.186374</td>\n",
       "    </tr>\n",
       "    <tr>\n",
       "      <th>Aromatizadores</th>\n",
       "      <td>-2.220009</td>\n",
       "      <td>-0.570449</td>\n",
       "      <td>-1.699427</td>\n",
       "      <td>-0.333909</td>\n",
       "      <td>-0.233640</td>\n",
       "    </tr>\n",
       "    <tr>\n",
       "      <th>Bandejas</th>\n",
       "      <td>-1.347017</td>\n",
       "      <td>0.663133</td>\n",
       "      <td>-0.775335</td>\n",
       "      <td>-0.791379</td>\n",
       "      <td>-0.308998</td>\n",
       "    </tr>\n",
       "    <tr>\n",
       "      <th>Bebé</th>\n",
       "      <td>-0.236897</td>\n",
       "      <td>2.687022</td>\n",
       "      <td>1.361250</td>\n",
       "      <td>-0.628385</td>\n",
       "      <td>-0.175938</td>\n",
       "    </tr>\n",
       "    <tr>\n",
       "      <th>Cajas y Cajones</th>\n",
       "      <td>-1.671042</td>\n",
       "      <td>-2.307246</td>\n",
       "      <td>2.228248</td>\n",
       "      <td>0.216923</td>\n",
       "      <td>0.108753</td>\n",
       "    </tr>\n",
       "    <tr>\n",
       "      <th>Cama</th>\n",
       "      <td>1.066180</td>\n",
       "      <td>0.434456</td>\n",
       "      <td>-0.229983</td>\n",
       "      <td>0.765456</td>\n",
       "      <td>-0.206603</td>\n",
       "    </tr>\n",
       "    <tr>\n",
       "      <th>Cortinas</th>\n",
       "      <td>-0.312462</td>\n",
       "      <td>0.504598</td>\n",
       "      <td>0.568032</td>\n",
       "      <td>-0.128497</td>\n",
       "      <td>-0.123595</td>\n",
       "    </tr>\n",
       "    <tr>\n",
       "      <th>Guardado</th>\n",
       "      <td>1.170762</td>\n",
       "      <td>0.074637</td>\n",
       "      <td>-0.551044</td>\n",
       "      <td>0.360705</td>\n",
       "      <td>-0.402013</td>\n",
       "    </tr>\n",
       "    <tr>\n",
       "      <th>Jabones y Jaboneras</th>\n",
       "      <td>-1.819135</td>\n",
       "      <td>-0.164494</td>\n",
       "      <td>-0.828467</td>\n",
       "      <td>0.319222</td>\n",
       "      <td>-0.291161</td>\n",
       "    </tr>\n",
       "    <tr>\n",
       "      <th>Jardín</th>\n",
       "      <td>1.774970</td>\n",
       "      <td>-0.564110</td>\n",
       "      <td>-0.170242</td>\n",
       "      <td>0.254278</td>\n",
       "      <td>-0.375578</td>\n",
       "    </tr>\n",
       "    <tr>\n",
       "      <th>Lonas</th>\n",
       "      <td>-0.598541</td>\n",
       "      <td>0.150958</td>\n",
       "      <td>-0.756695</td>\n",
       "      <td>-0.894496</td>\n",
       "      <td>0.754749</td>\n",
       "    </tr>\n",
       "    <tr>\n",
       "      <th>Mantelería</th>\n",
       "      <td>-1.260533</td>\n",
       "      <td>-0.140995</td>\n",
       "      <td>0.365602</td>\n",
       "      <td>0.353395</td>\n",
       "      <td>0.180757</td>\n",
       "    </tr>\n",
       "    <tr>\n",
       "      <th>Muebles</th>\n",
       "      <td>-0.942715</td>\n",
       "      <td>-1.582585</td>\n",
       "      <td>1.564384</td>\n",
       "      <td>-0.214697</td>\n",
       "      <td>-0.495293</td>\n",
       "    </tr>\n",
       "    <tr>\n",
       "      <th>Para Dormir</th>\n",
       "      <td>0.688354</td>\n",
       "      <td>0.576250</td>\n",
       "      <td>-0.482040</td>\n",
       "      <td>-0.187035</td>\n",
       "      <td>-0.462443</td>\n",
       "    </tr>\n",
       "    <tr>\n",
       "      <th>Para Trabajo</th>\n",
       "      <td>-2.478859</td>\n",
       "      <td>0.407375</td>\n",
       "      <td>-0.454388</td>\n",
       "      <td>-0.395843</td>\n",
       "      <td>0.241767</td>\n",
       "    </tr>\n",
       "    <tr>\n",
       "      <th>Para Uso</th>\n",
       "      <td>-1.235807</td>\n",
       "      <td>0.180506</td>\n",
       "      <td>-0.875658</td>\n",
       "      <td>-0.354711</td>\n",
       "      <td>0.629182</td>\n",
       "    </tr>\n",
       "    <tr>\n",
       "      <th>Placard</th>\n",
       "      <td>-1.376350</td>\n",
       "      <td>0.035215</td>\n",
       "      <td>0.133534</td>\n",
       "      <td>-0.158826</td>\n",
       "      <td>-0.210188</td>\n",
       "    </tr>\n",
       "    <tr>\n",
       "      <th>Sillas</th>\n",
       "      <td>3.794779</td>\n",
       "      <td>-2.184650</td>\n",
       "      <td>-0.645730</td>\n",
       "      <td>-0.486459</td>\n",
       "      <td>0.686087</td>\n",
       "    </tr>\n",
       "    <tr>\n",
       "      <th>Sábanas</th>\n",
       "      <td>2.476267</td>\n",
       "      <td>0.763868</td>\n",
       "      <td>0.354826</td>\n",
       "      <td>-0.350455</td>\n",
       "      <td>0.160306</td>\n",
       "    </tr>\n",
       "    <tr>\n",
       "      <th>Toallas y Toallones</th>\n",
       "      <td>-0.581496</td>\n",
       "      <td>0.494253</td>\n",
       "      <td>0.562694</td>\n",
       "      <td>0.141614</td>\n",
       "      <td>0.215934</td>\n",
       "    </tr>\n",
       "    <tr>\n",
       "      <th>Vajilla</th>\n",
       "      <td>0.456766</td>\n",
       "      <td>1.983582</td>\n",
       "      <td>0.971297</td>\n",
       "      <td>1.110364</td>\n",
       "      <td>0.876217</td>\n",
       "    </tr>\n",
       "    <tr>\n",
       "      <th>Velas</th>\n",
       "      <td>0.477421</td>\n",
       "      <td>-0.899286</td>\n",
       "      <td>-1.544891</td>\n",
       "      <td>0.976067</td>\n",
       "      <td>0.105287</td>\n",
       "    </tr>\n",
       "  </tbody>\n",
       "</table>\n",
       "</div>"
      ],
      "text/plain": [
       "                            PC1       PC2       PC3       PC4       PC5\n",
       "ProductType                                                            \n",
       "Accesorios            -0.317119  0.318231 -0.718637  0.901037 -0.235631\n",
       "Acolchados y Frazadas  3.887568  0.229685  0.385952 -0.587419 -0.400789\n",
       "Adornos                1.883353  0.269890  0.003230 -0.118870 -0.090998\n",
       "Alfombras             -0.203255  0.503393 -0.064295  0.327384 -0.166334\n",
       "Almohadas             -0.713690 -1.023063  0.578910 -0.294304  0.033790\n",
       "Almohadones           -0.361494 -0.840174  0.718873  0.198838  0.186374\n",
       "Aromatizadores        -2.220009 -0.570449 -1.699427 -0.333909 -0.233640\n",
       "Bandejas              -1.347017  0.663133 -0.775335 -0.791379 -0.308998\n",
       "Bebé                  -0.236897  2.687022  1.361250 -0.628385 -0.175938\n",
       "Cajas y Cajones       -1.671042 -2.307246  2.228248  0.216923  0.108753\n",
       "Cama                   1.066180  0.434456 -0.229983  0.765456 -0.206603\n",
       "Cortinas              -0.312462  0.504598  0.568032 -0.128497 -0.123595\n",
       "Guardado               1.170762  0.074637 -0.551044  0.360705 -0.402013\n",
       "Jabones y Jaboneras   -1.819135 -0.164494 -0.828467  0.319222 -0.291161\n",
       "Jardín                 1.774970 -0.564110 -0.170242  0.254278 -0.375578\n",
       "Lonas                 -0.598541  0.150958 -0.756695 -0.894496  0.754749\n",
       "Mantelería            -1.260533 -0.140995  0.365602  0.353395  0.180757\n",
       "Muebles               -0.942715 -1.582585  1.564384 -0.214697 -0.495293\n",
       "Para Dormir            0.688354  0.576250 -0.482040 -0.187035 -0.462443\n",
       "Para Trabajo          -2.478859  0.407375 -0.454388 -0.395843  0.241767\n",
       "Para Uso              -1.235807  0.180506 -0.875658 -0.354711  0.629182\n",
       "Placard               -1.376350  0.035215  0.133534 -0.158826 -0.210188\n",
       "Sillas                 3.794779 -2.184650 -0.645730 -0.486459  0.686087\n",
       "Sábanas                2.476267  0.763868  0.354826 -0.350455  0.160306\n",
       "Toallas y Toallones   -0.581496  0.494253  0.562694  0.141614  0.215934\n",
       "Vajilla                0.456766  1.983582  0.971297  1.110364  0.876217\n",
       "Velas                  0.477421 -0.899286 -1.544891  0.976067  0.105287"
      ]
     },
     "execution_count": 35,
     "metadata": {},
     "output_type": "execute_result"
    }
   ],
   "source": [
    "# Generamos un DataFrame expresando en términos de nuestros componentes principales:\n",
    "\n",
    "df_linea_pca = pd.DataFrame(pca_linea.fit_transform(df_linea_std), \\\n",
    "                            columns=['PC1', 'PC2', 'PC3', 'PC4', 'PC5'], index=df_linea_std.index)\n",
    "df_linea_pca"
   ]
  },
  {
   "cell_type": "code",
   "execution_count": 36,
   "metadata": {},
   "outputs": [
    {
     "name": "stdout",
     "output_type": "stream",
     "text": [
      "[[-0.17406529  0.56200375 -0.55798421  0.19807693  0.55070157]\n",
      " [-0.69488682 -0.09105012  0.26302612  0.65605458 -0.09618644]\n",
      " [ 0.69063103  0.02988755  0.01881423  0.72045037 -0.05227619]\n",
      " [ 0.05258243 -0.61255388  0.14165801  0.02756672  0.7753618 ]\n",
      " [-0.08424639 -0.54749076 -0.77398315  0.10270955 -0.28906269]]\n"
     ]
    },
    {
     "data": {
      "text/html": [
       "<div>\n",
       "<style scoped>\n",
       "    .dataframe tbody tr th:only-of-type {\n",
       "        vertical-align: middle;\n",
       "    }\n",
       "\n",
       "    .dataframe tbody tr th {\n",
       "        vertical-align: top;\n",
       "    }\n",
       "\n",
       "    .dataframe thead th {\n",
       "        text-align: right;\n",
       "    }\n",
       "</style>\n",
       "<table border=\"1\" class=\"dataframe\">\n",
       "  <thead>\n",
       "    <tr style=\"text-align: right;\">\n",
       "      <th></th>\n",
       "      <th>PC1</th>\n",
       "      <th>PC2</th>\n",
       "      <th>PC3</th>\n",
       "      <th>PC4</th>\n",
       "      <th>PC5</th>\n",
       "    </tr>\n",
       "  </thead>\n",
       "  <tbody>\n",
       "    <tr>\n",
       "      <th>Quantity</th>\n",
       "      <td>-0.174065</td>\n",
       "      <td>-0.694887</td>\n",
       "      <td>0.690631</td>\n",
       "      <td>0.052582</td>\n",
       "      <td>-0.084246</td>\n",
       "    </tr>\n",
       "    <tr>\n",
       "      <th>Price</th>\n",
       "      <td>0.562004</td>\n",
       "      <td>-0.091050</td>\n",
       "      <td>0.029888</td>\n",
       "      <td>-0.612554</td>\n",
       "      <td>-0.547491</td>\n",
       "    </tr>\n",
       "    <tr>\n",
       "      <th>TotalDiscountPrice</th>\n",
       "      <td>-0.557984</td>\n",
       "      <td>0.263026</td>\n",
       "      <td>0.018814</td>\n",
       "      <td>0.141658</td>\n",
       "      <td>-0.773983</td>\n",
       "    </tr>\n",
       "    <tr>\n",
       "      <th>ShippingCost</th>\n",
       "      <td>0.198077</td>\n",
       "      <td>0.656055</td>\n",
       "      <td>0.720450</td>\n",
       "      <td>0.027567</td>\n",
       "      <td>0.102710</td>\n",
       "    </tr>\n",
       "    <tr>\n",
       "      <th>Value</th>\n",
       "      <td>0.550702</td>\n",
       "      <td>-0.096186</td>\n",
       "      <td>-0.052276</td>\n",
       "      <td>0.775362</td>\n",
       "      <td>-0.289063</td>\n",
       "    </tr>\n",
       "  </tbody>\n",
       "</table>\n",
       "</div>"
      ],
      "text/plain": [
       "                         PC1       PC2       PC3       PC4       PC5\n",
       "Quantity           -0.174065 -0.694887  0.690631  0.052582 -0.084246\n",
       "Price               0.562004 -0.091050  0.029888 -0.612554 -0.547491\n",
       "TotalDiscountPrice -0.557984  0.263026  0.018814  0.141658 -0.773983\n",
       "ShippingCost        0.198077  0.656055  0.720450  0.027567  0.102710\n",
       "Value               0.550702 -0.096186 -0.052276  0.775362 -0.289063"
      ]
     },
     "metadata": {},
     "output_type": "display_data"
    }
   ],
   "source": [
    "# Creamos un DataFRame con los loadings que vamos a usar para graficar\n",
    "\n",
    "pca_loadings = pd.DataFrame(pca_linea.components_.T, index=df_tabla.columns, columns=['PC1', 'PC2', 'PC3', 'PC4', 'PC5'])\n",
    "print(pca_linea.components_)\n",
    "display(pca_loadings)"
   ]
  },
  {
   "cell_type": "markdown",
   "metadata": {},
   "source": [
    "## Biplot"
   ]
  },
  {
   "cell_type": "code",
   "execution_count": 37,
   "metadata": {},
   "outputs": [
    {
     "data": {
      "image/png": "[encoded data removed]",
      "text/plain": [
       "<Figure size 648x504 with 3 Axes>"
      ]
     },
     "metadata": {},
     "output_type": "display_data"
    }
   ],
   "source": [
    "fig , ax1 = plt.subplots(figsize=(9,7))\n",
    "\n",
    "ax1.set_xlim(-3.5,3.5)\n",
    "ax1.set_ylim(-3.5,3.5)\n",
    "\n",
    "# Ploteamos a los Estados en el espacio de los Componentes Principales 1 y 2\n",
    "for i in df_linea_pca.index:\n",
    "    ax1.annotate(i, (df_linea_pca.PC1.loc[i], df_linea_pca.PC2.loc[i]), ha='center')\n",
    "\n",
    "# Ploteamos las líneas de referencia\n",
    "ax1.hlines(0,-3.5,3.5, linestyles='dotted', colors='grey')\n",
    "ax1.vlines(0,-3.5,3.5, linestyles='dotted', colors='grey')\n",
    "\n",
    "ax1.set_xlabel('Primer Componente Principal')\n",
    "ax1.set_ylabel('Segundo Componente Principal')\n",
    "    \n",
    "# Creamos ejes secundarios\n",
    "ax2 = ax1.twinx().twiny() \n",
    "\n",
    "ax2.set_ylim(-1,1)\n",
    "ax2.set_xlim(-1,1)\n",
    "ax2.tick_params(axis='y', colors='orange')\n",
    "ax2.set_xlabel('Vectores de loadings de los Componentes Principales', color='orange')\n",
    "\n",
    "# Ploteamos a las variables originales en relación a los Componentes Principales 1 y 2\n",
    "for i in pca_loadings[['PC1', 'PC2']].index:\n",
    "    ax2.annotate(i, (pca_loadings.PC1.loc[i], pca_loadings.PC2.loc[i]), color='orange')\n",
    "\n",
    "# Plot vectors\n",
    "ax2.arrow(0,0,pca_loadings.PC1[0], pca_loadings.PC2[0])\n",
    "ax2.arrow(0,0,pca_loadings.PC1[1], pca_loadings.PC2[1])\n",
    "ax2.arrow(0,0,pca_loadings.PC1[2], pca_loadings.PC2[2])\n",
    "ax2.arrow(0,0,pca_loadings.PC1[3], pca_loadings.PC2[3])\n",
    "ax2.arrow(0,0,pca_loadings.PC1[4], pca_loadings.PC2[4]);"
   ]
  },
  {
   "cell_type": "code",
   "execution_count": 38,
   "metadata": {},
   "outputs": [
    {
     "data": {
      "text/plain": [
       "array([2.78005093, 1.14455933, 0.83807232, 0.28315954, 0.14646557])"
      ]
     },
     "execution_count": 38,
     "metadata": {},
     "output_type": "execute_result"
    }
   ],
   "source": [
    "# Vemos la varianza explicada de cada componente principal como atributo del modelo.\n",
    "\n",
    "pca_linea.explained_variance_"
   ]
  },
  {
   "cell_type": "code",
   "execution_count": 39,
   "metadata": {},
   "outputs": [
    {
     "data": {
      "text/plain": [
       "array([0.53541722, 0.22043365, 0.16140652, 0.05453443, 0.02820818])"
      ]
     },
     "execution_count": 39,
     "metadata": {},
     "output_type": "execute_result"
    }
   ],
   "source": [
    "# Vemos el ratio la varianza explicada de cada componente principal como atributo del modelo.\n",
    "\n",
    "pca_linea.explained_variance_ratio_"
   ]
  },
  {
   "cell_type": "code",
   "execution_count": 40,
   "metadata": {},
   "outputs": [
    {
     "data": {
      "image/png": "[encoded data removed]",
      "text/plain": [
       "<Figure size 504x360 with 1 Axes>"
      ]
     },
     "metadata": {
      "needs_background": "light"
     },
     "output_type": "display_data"
    }
   ],
   "source": [
    "# Ploteamos como incrementa el % de varianza explicada a medida que agregamos componentes:\n",
    "\n",
    "plt.figure(figsize=(7,5))\n",
    "\n",
    "plt.plot([1,2,3,4,5], pca_linea.explained_variance_ratio_, '-o', label='Componente individual')\n",
    "plt.plot([1,2,3,4,5], np.cumsum(pca_linea.explained_variance_ratio_), '-s', label='Acumulado')\n",
    "\n",
    "plt.ylabel('Porcentaje de Varianza Explicada')\n",
    "plt.xlabel('Componentes Principales')\n",
    "plt.xlim(0.75,4.25)\n",
    "plt.ylim(0,1.05)\n",
    "plt.xticks([1,2,3,4])\n",
    "plt.legend(loc=2);"
   ]
  },
  {
   "cell_type": "code",
   "execution_count": 41,
   "metadata": {},
   "outputs": [
    {
     "data": {
      "text/plain": [
       "Text(0.5, 1, 'Correlacion entre features')"
      ]
     },
     "execution_count": 41,
     "metadata": {},
     "output_type": "execute_result"
    },
    {
     "data": {
      "image/png": "[encoded data removed]",
      "text/plain": [
       "<Figure size 720x720 with 2 Axes>"
      ]
     },
     "metadata": {
      "needs_background": "light"
     },
     "output_type": "display_data"
    }
   ],
   "source": [
    "correlation = df_tabla.corr()\n",
    "plt.figure(figsize=(10,10))\n",
    "sns.heatmap(correlation, vmax=1, square=True,annot=True,cmap='cubehelix')\n",
    "\n",
    "plt.title('Correlacion entre features')"
   ]
  },
  {
   "cell_type": "code",
   "execution_count": 42,
   "metadata": {},
   "outputs": [],
   "source": [
    "# https://docs.scipy.org/doc/numpy/reference/generated/numpy.cov.html\n",
    "# If rowvar is True (default), then each row represents a variable, with observations in the columns. \n",
    "covarianzas = np.cov(df_linea_std, rowvar = False)\n",
    "#display(covarianzas)\n",
    "\n",
    "#otra forma de calcular la matriz de covarianzas:\n",
    "mean_vec = np.mean(df_linea_std, axis=0)\n",
    "cov_mat = (df_linea_std - mean_vec).T.dot((df_linea_std - mean_vec)) / (df_linea_std.shape[0]-1)\n",
    "#print('Covariance matrix \\n%s' %cov_mat)"
   ]
  },
  {
   "cell_type": "code",
   "execution_count": 43,
   "metadata": {},
   "outputs": [
    {
     "name": "stdout",
     "output_type": "stream",
     "text": [
      "Eigenvectors \n",
      "[[-0.17406529  0.69488682 -0.69063103 -0.08424639  0.05258243]\n",
      " [ 0.56200375  0.09105012 -0.02988755 -0.54749076 -0.61255388]\n",
      " [-0.55798421 -0.26302612 -0.01881423 -0.77398315  0.14165801]\n",
      " [ 0.19807693 -0.65605458 -0.72045037  0.10270955  0.02756672]\n",
      " [ 0.55070157  0.09618644  0.05227619 -0.28906269  0.7753618 ]]\n",
      "\n",
      "Eigenvalues \n",
      "[2.78005093 1.14455933 0.83807232 0.14646557 0.28315954]\n"
     ]
    }
   ],
   "source": [
    "# Descomposición en autovectores y autovalores:\n",
    "eig_vals, eig_vecs = np.linalg.eig(cov_mat)\n",
    "\n",
    "print('Eigenvectors \\n%s' %eig_vecs)\n",
    "print('\\nEigenvalues \\n%s' %eig_vals)"
   ]
  },
  {
   "cell_type": "code",
   "execution_count": 44,
   "metadata": {},
   "outputs": [
    {
     "name": "stdout",
     "output_type": "stream",
     "text": [
      "Eigenvalues in descending order:\n",
      "2.780050929090515\n",
      "1.1445593309074376\n",
      "0.8380723221485202\n",
      "0.28315953882801176\n",
      "0.14646557133321167\n"
     ]
    }
   ],
   "source": [
    "# Ordeno los autovalores de mayor a menor:\n",
    "# Make a list of (eigenvalue, eigenvector) tuples\n",
    "eig_pairs = [(np.abs(eig_vals[i]), eig_vecs[:,i]) for i in range(len(eig_vals))]\n",
    "#eig_pairs\n",
    "# Sort the (eigenvalue, eigenvector) tuples from high to low\n",
    "#ordeno por el primer elemento de cada tupla: el autovalor\n",
    "eig_pairs.sort(key=lambda x: x[0], reverse=True)\n",
    "\n",
    "# Visually confirm that the list is correctly sorted by decreasing eigenvalues\n",
    "print('Eigenvalues in descending order:')\n",
    "for i in eig_pairs:\n",
    "    print(i[0])"
   ]
  },
  {
   "cell_type": "code",
   "execution_count": 45,
   "metadata": {},
   "outputs": [
    {
     "name": "stdout",
     "output_type": "stream",
     "text": [
      "5.192307692307697\n",
      "[53.54172159729875, 22.043364891550628, 16.14065213026778, 5.453442970020962, 2.8208184108618517]\n"
     ]
    }
   ],
   "source": [
    "# Varianza explicada:\n",
    "tot = sum(eig_vals)\n",
    "var_exp = [(i / tot)*100 for i in sorted(eig_vals, reverse=True)]\n",
    "print(tot)\n",
    "print(var_exp)"
   ]
  },
  {
   "cell_type": "code",
   "execution_count": 46,
   "metadata": {},
   "outputs": [
    {
     "data": {
      "image/png": "[encoded data removed]",
      "text/plain": [
       "<Figure size 432x288 with 1 Axes>"
      ]
     },
     "metadata": {
      "needs_background": "light"
     },
     "output_type": "display_data"
    }
   ],
   "source": [
    "plt.bar(range(5), var_exp, alpha=0.5, align='center', label='% varianza total explicada por cada componente')\n",
    "plt.ylabel('Explained variance ratio')\n",
    "plt.xlabel('Principal components')\n",
    "plt.legend(loc='best')\n",
    "plt.tight_layout()"
   ]
  },
  {
   "cell_type": "markdown",
   "metadata": {},
   "source": [
    "Me quedo con 2 componentes, en el mejor de los casos agrego al tercero"
   ]
  },
  {
   "cell_type": "markdown",
   "metadata": {},
   "source": [
    "## Ahora analizare por productos e ire solo por 3 componentes de PCA"
   ]
  },
  {
   "cell_type": "code",
   "execution_count": 47,
   "metadata": {},
   "outputs": [],
   "source": [
    "df_typo = df[{'OrderId', 'OrderDate', 'ProductId', 'ProductLine', 'ProductType', 'Name', 'Quantity', 'Price', 'ListPrice', \\\n",
    "              'RawItemDiscount', 'GrossItemAmountDiscount', 'TotalOrderGross', 'TotalDiscountPrice', \\\n",
    "              'ShippingCost', 'Value'}]"
   ]
  },
  {
   "cell_type": "code",
   "execution_count": 48,
   "metadata": {},
   "outputs": [
    {
     "data": {
      "text/plain": [
       "(452056, 15)"
      ]
     },
     "execution_count": 48,
     "metadata": {},
     "output_type": "execute_result"
    }
   ],
   "source": [
    "df_typo.shape"
   ]
  },
  {
   "cell_type": "code",
   "execution_count": 49,
   "metadata": {},
   "outputs": [],
   "source": [
    "df_not_nulls = df_typo.dropna()"
   ]
  },
  {
   "cell_type": "code",
   "execution_count": 50,
   "metadata": {},
   "outputs": [
    {
     "data": {
      "text/plain": [
       "(452056, 15)"
      ]
     },
     "execution_count": 50,
     "metadata": {},
     "output_type": "execute_result"
    }
   ],
   "source": [
    "df_not_nulls.shape"
   ]
  },
  {
   "cell_type": "code",
   "execution_count": 51,
   "metadata": {},
   "outputs": [
    {
     "data": {
      "text/plain": [
       "Index(['ShippingCost', 'GrossItemAmountDiscount', 'ProductType', 'ListPrice',\n",
       "       'TotalDiscountPrice', 'Value', 'ProductLine', 'Name', 'OrderId',\n",
       "       'TotalOrderGross', 'Quantity', 'Price', 'RawItemDiscount', 'OrderDate',\n",
       "       'ProductId'],\n",
       "      dtype='object')"
      ]
     },
     "execution_count": 51,
     "metadata": {},
     "output_type": "execute_result"
    }
   ],
   "source": [
    "df_not_nulls.columns "
   ]
  },
  {
   "cell_type": "code",
   "execution_count": 52,
   "metadata": {},
   "outputs": [
    {
     "data": {
      "text/plain": [
       "(452056, 5)"
      ]
     },
     "execution_count": 52,
     "metadata": {},
     "output_type": "execute_result"
    }
   ],
   "source": [
    "# Me ocupo de menos columnas porque vi por el grafico que estan corelacionadas \n",
    "columns_numeric = ['Quantity', 'Price', 'TotalDiscountPrice', 'ShippingCost', 'Value']\n",
    "df_not_nulls_numeric = df_not_nulls[columns_numeric]\n",
    "df_not_nulls_numeric.shape"
   ]
  },
  {
   "cell_type": "code",
   "execution_count": 53,
   "metadata": {},
   "outputs": [
    {
     "data": {
      "text/html": [
       "<div>\n",
       "<style scoped>\n",
       "    .dataframe tbody tr th:only-of-type {\n",
       "        vertical-align: middle;\n",
       "    }\n",
       "\n",
       "    .dataframe tbody tr th {\n",
       "        vertical-align: top;\n",
       "    }\n",
       "\n",
       "    .dataframe thead th {\n",
       "        text-align: right;\n",
       "    }\n",
       "</style>\n",
       "<table border=\"1\" class=\"dataframe\">\n",
       "  <thead>\n",
       "    <tr style=\"text-align: right;\">\n",
       "      <th></th>\n",
       "      <th>Quantity</th>\n",
       "      <th>Price</th>\n",
       "      <th>TotalDiscountPrice</th>\n",
       "      <th>ShippingCost</th>\n",
       "      <th>Value</th>\n",
       "    </tr>\n",
       "  </thead>\n",
       "  <tbody>\n",
       "    <tr>\n",
       "      <th>0</th>\n",
       "      <td>1</td>\n",
       "      <td>699.0</td>\n",
       "      <td>-1168.8</td>\n",
       "      <td>349.0</td>\n",
       "      <td>3076.2</td>\n",
       "    </tr>\n",
       "    <tr>\n",
       "      <th>1</th>\n",
       "      <td>1</td>\n",
       "      <td>699.0</td>\n",
       "      <td>-1168.8</td>\n",
       "      <td>349.0</td>\n",
       "      <td>3076.2</td>\n",
       "    </tr>\n",
       "    <tr>\n",
       "      <th>2</th>\n",
       "      <td>1</td>\n",
       "      <td>1199.0</td>\n",
       "      <td>-1168.8</td>\n",
       "      <td>349.0</td>\n",
       "      <td>3076.2</td>\n",
       "    </tr>\n",
       "    <tr>\n",
       "      <th>3</th>\n",
       "      <td>1</td>\n",
       "      <td>1299.0</td>\n",
       "      <td>-1168.8</td>\n",
       "      <td>349.0</td>\n",
       "      <td>3076.2</td>\n",
       "    </tr>\n",
       "    <tr>\n",
       "      <th>4</th>\n",
       "      <td>1</td>\n",
       "      <td>1399.0</td>\n",
       "      <td>-1399.0</td>\n",
       "      <td>299.0</td>\n",
       "      <td>1698.0</td>\n",
       "    </tr>\n",
       "  </tbody>\n",
       "</table>\n",
       "</div>"
      ],
      "text/plain": [
       "   Quantity   Price  TotalDiscountPrice  ShippingCost   Value\n",
       "0         1   699.0             -1168.8         349.0  3076.2\n",
       "1         1   699.0             -1168.8         349.0  3076.2\n",
       "2         1  1199.0             -1168.8         349.0  3076.2\n",
       "3         1  1299.0             -1168.8         349.0  3076.2\n",
       "4         1  1399.0             -1399.0         299.0  1698.0"
      ]
     },
     "execution_count": 53,
     "metadata": {},
     "output_type": "execute_result"
    }
   ],
   "source": [
    "df_not_nulls_numeric.head()"
   ]
  },
  {
   "cell_type": "markdown",
   "metadata": {},
   "source": [
    "## Estandarizo"
   ]
  },
  {
   "cell_type": "code",
   "execution_count": 54,
   "metadata": {},
   "outputs": [
    {
     "name": "stderr",
     "output_type": "stream",
     "text": [
      "C:\\Users\\hmarq\\Anaconda3\\lib\\site-packages\\sklearn\\preprocessing\\data.py:645: DataConversionWarning: Data with input dtype int64, float64 were all converted to float64 by StandardScaler.\n",
      "  return self.partial_fit(X, y)\n",
      "C:\\Users\\hmarq\\Anaconda3\\lib\\site-packages\\ipykernel_launcher.py:6: DataConversionWarning: Data with input dtype int64, float64 were all converted to float64 by StandardScaler.\n",
      "  \n"
     ]
    },
    {
     "data": {
      "text/html": [
       "<div>\n",
       "<style scoped>\n",
       "    .dataframe tbody tr th:only-of-type {\n",
       "        vertical-align: middle;\n",
       "    }\n",
       "\n",
       "    .dataframe tbody tr th {\n",
       "        vertical-align: top;\n",
       "    }\n",
       "\n",
       "    .dataframe thead th {\n",
       "        text-align: right;\n",
       "    }\n",
       "</style>\n",
       "<table border=\"1\" class=\"dataframe\">\n",
       "  <thead>\n",
       "    <tr style=\"text-align: right;\">\n",
       "      <th></th>\n",
       "      <th>Quantity</th>\n",
       "      <th>Price</th>\n",
       "      <th>TotalDiscountPrice</th>\n",
       "      <th>ShippingCost</th>\n",
       "      <th>Value</th>\n",
       "    </tr>\n",
       "  </thead>\n",
       "  <tbody>\n",
       "    <tr>\n",
       "      <th>0</th>\n",
       "      <td>-0.319018</td>\n",
       "      <td>-0.678807</td>\n",
       "      <td>0.394873</td>\n",
       "      <td>3.285104</td>\n",
       "      <td>0.302890</td>\n",
       "    </tr>\n",
       "    <tr>\n",
       "      <th>1</th>\n",
       "      <td>-0.319018</td>\n",
       "      <td>-0.678807</td>\n",
       "      <td>0.394873</td>\n",
       "      <td>3.285104</td>\n",
       "      <td>0.302890</td>\n",
       "    </tr>\n",
       "    <tr>\n",
       "      <th>2</th>\n",
       "      <td>-0.319018</td>\n",
       "      <td>-0.221929</td>\n",
       "      <td>0.394873</td>\n",
       "      <td>3.285104</td>\n",
       "      <td>0.302890</td>\n",
       "    </tr>\n",
       "    <tr>\n",
       "      <th>3</th>\n",
       "      <td>-0.319018</td>\n",
       "      <td>-0.130554</td>\n",
       "      <td>0.394873</td>\n",
       "      <td>3.285104</td>\n",
       "      <td>0.302890</td>\n",
       "    </tr>\n",
       "    <tr>\n",
       "      <th>4</th>\n",
       "      <td>-0.319018</td>\n",
       "      <td>-0.039179</td>\n",
       "      <td>0.260087</td>\n",
       "      <td>2.764012</td>\n",
       "      <td>-0.324598</td>\n",
       "    </tr>\n",
       "  </tbody>\n",
       "</table>\n",
       "</div>"
      ],
      "text/plain": [
       "   Quantity     Price  TotalDiscountPrice  ShippingCost     Value\n",
       "0 -0.319018 -0.678807            0.394873      3.285104  0.302890\n",
       "1 -0.319018 -0.678807            0.394873      3.285104  0.302890\n",
       "2 -0.319018 -0.221929            0.394873      3.285104  0.302890\n",
       "3 -0.319018 -0.130554            0.394873      3.285104  0.302890\n",
       "4 -0.319018 -0.039179            0.260087      2.764012 -0.324598"
      ]
     },
     "execution_count": 54,
     "metadata": {},
     "output_type": "execute_result"
    }
   ],
   "source": [
    "from sklearn.preprocessing import StandardScaler\n",
    "# Instanciamos la clase, creando el objeto StdSclr.\n",
    "StdSclr = StandardScaler()\n",
    "# este objeto es el que voy a usar para escalar las observaciones nuevas, sin tener que recalcular las medias y desvios:\n",
    "stdSclr_fit = StdSclr.fit(df_not_nulls_numeric)\n",
    "df_std = pd.DataFrame(stdSclr_fit.transform(df_not_nulls_numeric), index=df_not_nulls_numeric.index, columns=df_not_nulls_numeric.columns)\n",
    "df_std.head()"
   ]
  },
  {
   "cell_type": "code",
   "execution_count": 55,
   "metadata": {},
   "outputs": [
    {
     "name": "stderr",
     "output_type": "stream",
     "text": [
      "C:\\Users\\hmarq\\Anaconda3\\lib\\site-packages\\ipykernel_launcher.py:1: DataConversionWarning: Data with input dtype int64, float64 were all converted to float64 by StandardScaler.\n",
      "  \"\"\"Entry point for launching an IPython kernel.\n"
     ]
    },
    {
     "data": {
      "text/plain": [
       "array([[-0.31901818, -0.67880666,  0.39487329,  3.28510408,  0.30289033],\n",
       "       [-0.31901818, -0.67880666,  0.39487329,  3.28510408,  0.30289033],\n",
       "       [-0.31901818, -0.22192944,  0.39487329,  3.28510408,  0.30289033],\n",
       "       ...,\n",
       "       [-0.31901818, -0.03917855, -0.39744805, -0.35211932,  0.05056554],\n",
       "       [-0.31901818, -0.99862072, -0.39744805, -0.35211932,  0.05056554],\n",
       "       [-0.31901818, -0.03917855, -0.39744805, -0.35211932,  0.05056554]])"
      ]
     },
     "execution_count": 55,
     "metadata": {},
     "output_type": "execute_result"
    }
   ],
   "source": [
    "stdSclr_fit.transform(df_not_nulls_numeric)"
   ]
  },
  {
   "cell_type": "markdown",
   "metadata": {},
   "source": [
    "## PCA"
   ]
  },
  {
   "cell_type": "code",
   "execution_count": 56,
   "metadata": {},
   "outputs": [
    {
     "name": "stdout",
     "output_type": "stream",
     "text": [
      "[[ 0.03847386  0.43799723 -0.64000456 -0.04898438  0.62822996]\n",
      " [ 0.84128867 -0.49685068 -0.12662033 -0.05731368  0.16141627]\n",
      " [ 0.08529809  0.04251543 -0.01341989  0.99493379  0.02904038]]\n"
     ]
    }
   ],
   "source": [
    "from sklearn.decomposition import PCA\n",
    "\n",
    "# Instanciamos la clase PCA, especificamos en 3 el número de componentes, por lo visto arriba\n",
    "pca_df = PCA(n_components= 3)\n",
    "\n",
    "# Calculamos los componentes principales con el método fit()\n",
    "pca_df_fit = pca_df.fit(df_std)\n",
    "\n",
    "print(pca_df.components_)"
   ]
  },
  {
   "cell_type": "markdown",
   "metadata": {},
   "source": [
    "## Contribuciones de cada componenete principal a la varianza total"
   ]
  },
  {
   "cell_type": "code",
   "execution_count": 57,
   "metadata": {},
   "outputs": [
    {
     "data": {
      "text/plain": [
       "array([0.393523  , 0.23158985, 0.19979586])"
      ]
     },
     "execution_count": 57,
     "metadata": {},
     "output_type": "execute_result"
    }
   ],
   "source": [
    "pca_df_fit.explained_variance_ratio_"
   ]
  },
  {
   "cell_type": "code",
   "execution_count": 58,
   "metadata": {},
   "outputs": [
    {
     "data": {
      "text/html": [
       "<div>\n",
       "<style scoped>\n",
       "    .dataframe tbody tr th:only-of-type {\n",
       "        vertical-align: middle;\n",
       "    }\n",
       "\n",
       "    .dataframe tbody tr th {\n",
       "        vertical-align: top;\n",
       "    }\n",
       "\n",
       "    .dataframe thead th {\n",
       "        text-align: right;\n",
       "    }\n",
       "</style>\n",
       "<table border=\"1\" class=\"dataframe\">\n",
       "  <thead>\n",
       "    <tr style=\"text-align: right;\">\n",
       "      <th></th>\n",
       "      <th>PC1</th>\n",
       "      <th>PC2</th>\n",
       "      <th>PC3</th>\n",
       "    </tr>\n",
       "  </thead>\n",
       "  <tbody>\n",
       "    <tr>\n",
       "      <th>0</th>\n",
       "      <td>-0.532944</td>\n",
       "      <td>-0.120510</td>\n",
       "      <td>3.215887</td>\n",
       "    </tr>\n",
       "    <tr>\n",
       "      <th>1</th>\n",
       "      <td>-0.532944</td>\n",
       "      <td>-0.120510</td>\n",
       "      <td>3.215887</td>\n",
       "    </tr>\n",
       "    <tr>\n",
       "      <th>2</th>\n",
       "      <td>-0.332833</td>\n",
       "      <td>-0.347510</td>\n",
       "      <td>3.235311</td>\n",
       "    </tr>\n",
       "    <tr>\n",
       "      <th>3</th>\n",
       "      <td>-0.292811</td>\n",
       "      <td>-0.392910</td>\n",
       "      <td>3.239196</td>\n",
       "    </tr>\n",
       "    <tr>\n",
       "      <th>4</th>\n",
       "      <td>-0.535207</td>\n",
       "      <td>-0.492664</td>\n",
       "      <td>2.708215</td>\n",
       "    </tr>\n",
       "  </tbody>\n",
       "</table>\n",
       "</div>"
      ],
      "text/plain": [
       "        PC1       PC2       PC3\n",
       "0 -0.532944 -0.120510  3.215887\n",
       "1 -0.532944 -0.120510  3.215887\n",
       "2 -0.332833 -0.347510  3.235311\n",
       "3 -0.292811 -0.392910  3.239196\n",
       "4 -0.535207 -0.492664  2.708215"
      ]
     },
     "execution_count": 58,
     "metadata": {},
     "output_type": "execute_result"
    }
   ],
   "source": [
    "df_pca = pd.DataFrame(pca_df_fit.transform(df_std), \n",
    "                      columns=['PC1', 'PC2', 'PC3'], index=df_std.index)\n",
    "df_pca.head()"
   ]
  },
  {
   "cell_type": "code",
   "execution_count": 59,
   "metadata": {},
   "outputs": [
    {
     "data": {
      "text/html": [
       "<div>\n",
       "<style scoped>\n",
       "    .dataframe tbody tr th:only-of-type {\n",
       "        vertical-align: middle;\n",
       "    }\n",
       "\n",
       "    .dataframe tbody tr th {\n",
       "        vertical-align: top;\n",
       "    }\n",
       "\n",
       "    .dataframe thead th {\n",
       "        text-align: right;\n",
       "    }\n",
       "</style>\n",
       "<table border=\"1\" class=\"dataframe\">\n",
       "  <thead>\n",
       "    <tr style=\"text-align: right;\">\n",
       "      <th></th>\n",
       "      <th>PC1</th>\n",
       "      <th>PC2</th>\n",
       "      <th>PC3</th>\n",
       "    </tr>\n",
       "  </thead>\n",
       "  <tbody>\n",
       "    <tr>\n",
       "      <th>Quantity</th>\n",
       "      <td>0.038474</td>\n",
       "      <td>0.841289</td>\n",
       "      <td>0.085298</td>\n",
       "    </tr>\n",
       "    <tr>\n",
       "      <th>Price</th>\n",
       "      <td>0.437997</td>\n",
       "      <td>-0.496851</td>\n",
       "      <td>0.042515</td>\n",
       "    </tr>\n",
       "    <tr>\n",
       "      <th>TotalDiscountPrice</th>\n",
       "      <td>-0.640005</td>\n",
       "      <td>-0.126620</td>\n",
       "      <td>-0.013420</td>\n",
       "    </tr>\n",
       "    <tr>\n",
       "      <th>ShippingCost</th>\n",
       "      <td>-0.048984</td>\n",
       "      <td>-0.057314</td>\n",
       "      <td>0.994934</td>\n",
       "    </tr>\n",
       "    <tr>\n",
       "      <th>Value</th>\n",
       "      <td>0.628230</td>\n",
       "      <td>0.161416</td>\n",
       "      <td>0.029040</td>\n",
       "    </tr>\n",
       "  </tbody>\n",
       "</table>\n",
       "</div>"
      ],
      "text/plain": [
       "                         PC1       PC2       PC3\n",
       "Quantity            0.038474  0.841289  0.085298\n",
       "Price               0.437997 -0.496851  0.042515\n",
       "TotalDiscountPrice -0.640005 -0.126620 -0.013420\n",
       "ShippingCost       -0.048984 -0.057314  0.994934\n",
       "Value               0.628230  0.161416  0.029040"
      ]
     },
     "metadata": {},
     "output_type": "display_data"
    }
   ],
   "source": [
    "pca_loadings = pd.DataFrame(pca_df.components_.T, index=df_std.columns,\\\n",
    "                            columns=['PC1', 'PC2', 'PC3'])\n",
    "# print(pca_df.components_)\n",
    "display(pca_loadings)"
   ]
  },
  {
   "cell_type": "markdown",
   "metadata": {},
   "source": [
    "## Biplot"
   ]
  },
  {
   "cell_type": "code",
   "execution_count": 60,
   "metadata": {},
   "outputs": [],
   "source": [
    "import matplotlib\n",
    "import matplotlib.pyplot as plt\n",
    "\n",
    "font = {'family' : 'Verdana',\n",
    "        'size'   : 22}\n",
    "\n",
    "matplotlib.rc('font', **font)\n",
    "\n",
    "def plot_biplot(df_pca, pca_loadings):\n",
    "    \n",
    "    fig , ax1 = plt.subplots(figsize=(30,30))\n",
    "    \n",
    "    ax1.set_xlim(-5,15)\n",
    "    ax1.set_ylim(-5,10)\n",
    "\n",
    "    # Ploteamos a las propiedades en el espacio de los Componentes Principales 1 y 2\n",
    "    for i in df_pca.index:\n",
    "        # si viene un color lo uso, sino uso azul: \n",
    "        # (uso all porque estoy pidiendo que el array tenga todos los valores no nulos, sirve tambien any)\n",
    "        if df_pca.color.loc[i].all():\n",
    "            label = str(i) + \"-\" + df_pca.places.loc[i]\n",
    "            ax1.annotate(label, (df_pca.PC1.loc[i], df_pca.PC2.loc[i]), ha='center', color=df_pca.color.loc[i]).\\\n",
    "            set_fontsize(22)\n",
    "        else:\n",
    "            ax1.annotate(i, (df_pca.PC1.loc[i], df_pca.PC2.loc[i]), ha='center', color='blue').set_fontsize(22)\n",
    "\n",
    "    # Ploteamos las líneas de referencia\n",
    "    ax1.hlines(0,-3.5,3.5, linestyles='dotted', colors='grey')\n",
    "    ax1.vlines(0,-3.5,3.5, linestyles='dotted', colors='grey')\n",
    "\n",
    "    ax1.set_xlabel('Primer Componente Principal')\n",
    "    ax1.set_ylabel('Segundo Componente Principal')\n",
    "\n",
    "    # Creamos ejes secundarios\n",
    "    ax2 = ax1.twinx().twiny() \n",
    "\n",
    "    ax2.set_xlim(-5,15)\n",
    "    ax2.set_ylim(-5,10)\n",
    "    ax2.tick_params(axis='y', colors='orange')\n",
    "    ax2.set_xlabel('Vectores de loadings de los Componentes Principales', color='orange')\n",
    "\n",
    "    view_scale_factor = 15\n",
    "    \n",
    "    # Ploteamos a las variables originales en relación a los Componentes Principales 1 y 2\n",
    "    for i in pca_loadings[['PC1', 'PC2']].index:\n",
    "        ax2.annotate(i, (view_scale_factor * pca_loadings.PC1.loc[i], view_scale_factor * pca_loadings.PC2.loc[i]), \\\n",
    "                     color='orange')\n",
    "\n",
    "    # Plot vectors\n",
    "    ax2.arrow(0,0,view_scale_factor*pca_loadings.PC1[0], view_scale_factor*pca_loadings.PC2[0], transform = ax2.transData)\n",
    "    ax2.arrow(0,0,view_scale_factor*pca_loadings.PC1[1], view_scale_factor*pca_loadings.PC2[1], transform = ax2.transData)\n",
    "    ax2.arrow(0,0,view_scale_factor*pca_loadings.PC1[2], view_scale_factor*pca_loadings.PC2[2], transform = ax2.transData)\n",
    "    ax2.arrow(0,0,view_scale_factor*pca_loadings.PC1[3], view_scale_factor*pca_loadings.PC2[3], transform = ax2.transData);\n",
    "    ax2.arrow(0,0,view_scale_factor*pca_loadings.PC1[4], view_scale_factor*pca_loadings.PC2[4], transform = ax2.transData);   "
   ]
  },
  {
   "cell_type": "markdown",
   "metadata": {},
   "source": [
    "## Armo la paleta de colores para Lineas de Producto"
   ]
  },
  {
   "cell_type": "code",
   "execution_count": 61,
   "metadata": {},
   "outputs": [],
   "source": [
    "# construyo un diccionario que mapea ProductLine con un color\n",
    "df_ProductLine = df.ProductLine[df_std.index]\n",
    "ProductLine_unique = df_ProductLine.unique()\n",
    "# pido un color para cada ProductLine distinto\n",
    "\n",
    "ProductLine_color = plt.cm.tab20c(range(len(ProductLine_unique)))\n",
    "\n",
    "#asocio ProductLine con color\n",
    "color_for_ProductLine = dict(zip(ProductLine_unique, ProductLine_color))\n",
    "color_for_ProductLine\n",
    "\n",
    "# dada una fila de df_pca devuelve el color con que hay que representarla en el espacio de componentes principales\n",
    "def get_color(row, df, color_for_ProductLine):\n",
    "    #print(row.name)\n",
    "    ProductLine = df.loc[row.name, \"ProductLine\"]\n",
    "    result = color_for_ProductLine[ProductLine]\n",
    "    return result\n",
    "    \n",
    "# agrego a df_pca el el color que le corresponde al ProductLine:\n",
    "colors = df_pca.apply(lambda x: get_color(x, df, color_for_ProductLine) , axis=1)\n",
    "#print(colors)\n",
    "df_pca['color'] = colors\n",
    "\n",
    "\n",
    "# agrego ProductLine a df_pca\n",
    "# x.name es el indice del registro en el dataframe original\n",
    "places = df_pca.apply(lambda x: df_not_nulls.loc[x.name, \"ProductLine\"], axis = 1)\n",
    "df_pca['places'] = places"
   ]
  },
  {
   "cell_type": "code",
   "execution_count": 62,
   "metadata": {},
   "outputs": [
    {
     "data": {
      "text/html": [
       "<div>\n",
       "<style scoped>\n",
       "    .dataframe tbody tr th:only-of-type {\n",
       "        vertical-align: middle;\n",
       "    }\n",
       "\n",
       "    .dataframe tbody tr th {\n",
       "        vertical-align: top;\n",
       "    }\n",
       "\n",
       "    .dataframe thead th {\n",
       "        text-align: right;\n",
       "    }\n",
       "</style>\n",
       "<table border=\"1\" class=\"dataframe\">\n",
       "  <thead>\n",
       "    <tr style=\"text-align: right;\">\n",
       "      <th></th>\n",
       "      <th>PC1</th>\n",
       "      <th>PC2</th>\n",
       "      <th>PC3</th>\n",
       "      <th>color</th>\n",
       "      <th>places</th>\n",
       "    </tr>\n",
       "  </thead>\n",
       "  <tbody>\n",
       "    <tr>\n",
       "      <th>0</th>\n",
       "      <td>-0.532944</td>\n",
       "      <td>-0.120510</td>\n",
       "      <td>3.215887</td>\n",
       "      <td>[0.19215686274509805, 0.5098039215686274, 0.74...</td>\n",
       "      <td>Baño</td>\n",
       "    </tr>\n",
       "    <tr>\n",
       "      <th>1</th>\n",
       "      <td>-0.532944</td>\n",
       "      <td>-0.120510</td>\n",
       "      <td>3.215887</td>\n",
       "      <td>[0.19215686274509805, 0.5098039215686274, 0.74...</td>\n",
       "      <td>Baño</td>\n",
       "    </tr>\n",
       "    <tr>\n",
       "      <th>2</th>\n",
       "      <td>-0.332833</td>\n",
       "      <td>-0.347510</td>\n",
       "      <td>3.235311</td>\n",
       "      <td>[0.4196078431372549, 0.6823529411764706, 0.839...</td>\n",
       "      <td>Dormitorio</td>\n",
       "    </tr>\n",
       "    <tr>\n",
       "      <th>3</th>\n",
       "      <td>-0.292811</td>\n",
       "      <td>-0.392910</td>\n",
       "      <td>3.239196</td>\n",
       "      <td>[0.4196078431372549, 0.6823529411764706, 0.839...</td>\n",
       "      <td>Dormitorio</td>\n",
       "    </tr>\n",
       "    <tr>\n",
       "      <th>4</th>\n",
       "      <td>-0.535207</td>\n",
       "      <td>-0.492664</td>\n",
       "      <td>2.708215</td>\n",
       "      <td>[0.4196078431372549, 0.6823529411764706, 0.839...</td>\n",
       "      <td>Dormitorio</td>\n",
       "    </tr>\n",
       "  </tbody>\n",
       "</table>\n",
       "</div>"
      ],
      "text/plain": [
       "        PC1       PC2       PC3  \\\n",
       "0 -0.532944 -0.120510  3.215887   \n",
       "1 -0.532944 -0.120510  3.215887   \n",
       "2 -0.332833 -0.347510  3.235311   \n",
       "3 -0.292811 -0.392910  3.239196   \n",
       "4 -0.535207 -0.492664  2.708215   \n",
       "\n",
       "                                               color      places  \n",
       "0  [0.19215686274509805, 0.5098039215686274, 0.74...        Baño  \n",
       "1  [0.19215686274509805, 0.5098039215686274, 0.74...        Baño  \n",
       "2  [0.4196078431372549, 0.6823529411764706, 0.839...  Dormitorio  \n",
       "3  [0.4196078431372549, 0.6823529411764706, 0.839...  Dormitorio  \n",
       "4  [0.4196078431372549, 0.6823529411764706, 0.839...  Dormitorio  "
      ]
     },
     "execution_count": 62,
     "metadata": {},
     "output_type": "execute_result"
    }
   ],
   "source": [
    "df_pca.head()"
   ]
  },
  {
   "cell_type": "markdown",
   "metadata": {},
   "source": [
    "## Agrego las referencias de color"
   ]
  },
  {
   "cell_type": "code",
   "execution_count": 63,
   "metadata": {
    "scrolled": false
   },
   "outputs": [],
   "source": [
    "# df_pca tiene las coordenadas de cada registro en el espacio de las componentes principales\n",
    "# pca_loadings tiene las coordenadas de cada variable original en el espacio de las componentes principales\n",
    "\n",
    "plot_biplot(df_pca, pca_loadings)\n"
   ]
  },
  {
   "cell_type": "markdown",
   "metadata": {},
   "source": [
    "## Armo la paleta de colores para Tipos de Producto"
   ]
  },
  {
   "cell_type": "code",
   "execution_count": 64,
   "metadata": {},
   "outputs": [],
   "source": [
    "df_pca_Type = df_pca"
   ]
  },
  {
   "cell_type": "code",
   "execution_count": 65,
   "metadata": {},
   "outputs": [],
   "source": [
    "# construyo un diccionario que mapea ProductType con un color\n",
    "df_ProductType = df.ProductType[df_std.index]\n",
    "ProductType_unique = df_ProductType.unique()\n",
    "# pido un color para cada ProductType distinto\n",
    "\n",
    "ProductType_color = plt.cm.tab20c(range(len(ProductType_unique)))\n",
    "\n",
    "#asocio ProductType con color\n",
    "color_for_ProductType = dict(zip(ProductType_unique, ProductType_color))\n",
    "color_for_ProductType\n",
    "\n",
    "# dada una fila de df_pca_Type devuelve el color con que hay que representarla en el espacio de componentes principales\n",
    "def get_color(row, df, color_for_ProductType):\n",
    "    #print(row.name)\n",
    "    ProductType = df.loc[row.name, \"ProductType\"]\n",
    "    result = color_for_ProductType[ProductType]\n",
    "    return result\n",
    "    \n",
    "# agrego a df_pca_Type el el color que le corresponde al ProductType:\n",
    "colors = df_pca_Type.apply(lambda x: get_color(x, df, color_for_ProductType) , axis=1)\n",
    "#print(colors)\n",
    "df_pca_Type['color'] = colors\n",
    "\n",
    "\n",
    "# agrego ProductType a df_pca_Type\n",
    "# x.name es el indice del registro en el dataframe original\n",
    "places = df_pca_Type.apply(lambda x: df_not_nulls.loc[x.name, \"ProductType\"], axis = 1)\n",
    "df_pca_Type['places'] = places"
   ]
  },
  {
   "cell_type": "code",
   "execution_count": 66,
   "metadata": {},
   "outputs": [
    {
     "data": {
      "text/html": [
       "<div>\n",
       "<style scoped>\n",
       "    .dataframe tbody tr th:only-of-type {\n",
       "        vertical-align: middle;\n",
       "    }\n",
       "\n",
       "    .dataframe tbody tr th {\n",
       "        vertical-align: top;\n",
       "    }\n",
       "\n",
       "    .dataframe thead th {\n",
       "        text-align: right;\n",
       "    }\n",
       "</style>\n",
       "<table border=\"1\" class=\"dataframe\">\n",
       "  <thead>\n",
       "    <tr style=\"text-align: right;\">\n",
       "      <th></th>\n",
       "      <th>PC1</th>\n",
       "      <th>PC2</th>\n",
       "      <th>PC3</th>\n",
       "      <th>color</th>\n",
       "      <th>places</th>\n",
       "    </tr>\n",
       "  </thead>\n",
       "  <tbody>\n",
       "    <tr>\n",
       "      <th>0</th>\n",
       "      <td>-0.532944</td>\n",
       "      <td>-0.120510</td>\n",
       "      <td>3.215887</td>\n",
       "      <td>[0.19215686274509805, 0.5098039215686274, 0.74...</td>\n",
       "      <td>Toallas y Toallones</td>\n",
       "    </tr>\n",
       "    <tr>\n",
       "      <th>1</th>\n",
       "      <td>-0.532944</td>\n",
       "      <td>-0.120510</td>\n",
       "      <td>3.215887</td>\n",
       "      <td>[0.19215686274509805, 0.5098039215686274, 0.74...</td>\n",
       "      <td>Toallas y Toallones</td>\n",
       "    </tr>\n",
       "    <tr>\n",
       "      <th>2</th>\n",
       "      <td>-0.332833</td>\n",
       "      <td>-0.347510</td>\n",
       "      <td>3.235311</td>\n",
       "      <td>[0.4196078431372549, 0.6823529411764706, 0.839...</td>\n",
       "      <td>Sábanas</td>\n",
       "    </tr>\n",
       "    <tr>\n",
       "      <th>3</th>\n",
       "      <td>-0.292811</td>\n",
       "      <td>-0.392910</td>\n",
       "      <td>3.239196</td>\n",
       "      <td>[0.4196078431372549, 0.6823529411764706, 0.839...</td>\n",
       "      <td>Sábanas</td>\n",
       "    </tr>\n",
       "    <tr>\n",
       "      <th>4</th>\n",
       "      <td>-0.535207</td>\n",
       "      <td>-0.492664</td>\n",
       "      <td>2.708215</td>\n",
       "      <td>[0.4196078431372549, 0.6823529411764706, 0.839...</td>\n",
       "      <td>Sábanas</td>\n",
       "    </tr>\n",
       "  </tbody>\n",
       "</table>\n",
       "</div>"
      ],
      "text/plain": [
       "        PC1       PC2       PC3  \\\n",
       "0 -0.532944 -0.120510  3.215887   \n",
       "1 -0.532944 -0.120510  3.215887   \n",
       "2 -0.332833 -0.347510  3.235311   \n",
       "3 -0.292811 -0.392910  3.239196   \n",
       "4 -0.535207 -0.492664  2.708215   \n",
       "\n",
       "                                               color               places  \n",
       "0  [0.19215686274509805, 0.5098039215686274, 0.74...  Toallas y Toallones  \n",
       "1  [0.19215686274509805, 0.5098039215686274, 0.74...  Toallas y Toallones  \n",
       "2  [0.4196078431372549, 0.6823529411764706, 0.839...              Sábanas  \n",
       "3  [0.4196078431372549, 0.6823529411764706, 0.839...              Sábanas  \n",
       "4  [0.4196078431372549, 0.6823529411764706, 0.839...              Sábanas  "
      ]
     },
     "execution_count": 66,
     "metadata": {},
     "output_type": "execute_result"
    }
   ],
   "source": [
    "df_pca_Type.head()"
   ]
  },
  {
   "cell_type": "markdown",
   "metadata": {},
   "source": [
    "## Agrego las referencias de color"
   ]
  },
  {
   "cell_type": "code",
   "execution_count": 67,
   "metadata": {
    "scrolled": true
   },
   "outputs": [],
   "source": [
    "# df_pca_Type tiene las coordenadas de cada registro en el espacio de las componentes principales\n",
    "# pca_loadings tiene las coordenadas de cada variable original en el espacio de las componentes principales\n",
    "\n",
    "plot_biplot(df_pca_Type, pca_loadings)\n"
   ]
  }
 ],
 "metadata": {
  "kernelspec": {
   "display_name": "Python 3",
   "language": "python",
   "name": "python3"
  },
  "language_info": {
   "codemirror_mode": {
    "name": "ipython",
    "version": 3
   },
   "file_extension": ".py",
   "mimetype": "text/x-python",
   "name": "python",
   "nbconvert_exporter": "python",
   "pygments_lexer": "ipython3",
   "version": "3.7.3"
  }
 },
 "nbformat": 4,
 "nbformat_minor": 2
}
