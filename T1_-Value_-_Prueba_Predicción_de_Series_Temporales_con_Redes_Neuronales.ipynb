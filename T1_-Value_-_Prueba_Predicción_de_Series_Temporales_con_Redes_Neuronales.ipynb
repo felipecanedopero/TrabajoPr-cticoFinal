{
 "cells": [
  {
   "cell_type": "markdown",
   "metadata": {},
   "source": [
    "# Predicción de Series Temporales con Redes Neuronales"
   ]
  },
  {
   "cell_type": "markdown",
   "metadata": {},
   "source": [
    "## Usaremos Keras y Tensorflow"
   ]
  },
  {
   "cell_type": "markdown",
   "metadata": {},
   "source": [
    "Usaremos una arquitectura sencilla de red neuronal FeedForward (también llamada MLP por sus siglas Multi-Layered Perceptron), con pocas neuronas y como método de activación tangente hiperbólica pues entregaremos valores transformados entre -1 y 1."
   ]
  },
  {
   "cell_type": "code",
   "execution_count": 1,
   "metadata": {},
   "outputs": [
    {
     "name": "stderr",
     "output_type": "stream",
     "text": [
      "Using TensorFlow backend.\n"
     ]
    }
   ],
   "source": [
    "import pandas as pd\n",
    "import numpy as np\n",
    "import matplotlib.pylab as plt\n",
    "%matplotlib inline\n",
    "plt.rcParams['figure.figsize'] = (16, 9)\n",
    "plt.style.use('fast')\n",
    "import datetime\n",
    "\n",
    "from keras.models import Sequential\n",
    "from keras.layers import Dense,Activation,Flatten\n",
    "from sklearn.preprocessing import MinMaxScaler\n",
    " "
   ]
  },
  {
   "cell_type": "markdown",
   "metadata": {},
   "source": [
    "### Cargamos nuestro Dataset"
   ]
  },
  {
   "cell_type": "code",
   "execution_count": 2,
   "metadata": {},
   "outputs": [
    {
     "data": {
      "text/html": [
       "<div>\n",
       "<style scoped>\n",
       "    .dataframe tbody tr th:only-of-type {\n",
       "        vertical-align: middle;\n",
       "    }\n",
       "\n",
       "    .dataframe tbody tr th {\n",
       "        vertical-align: top;\n",
       "    }\n",
       "\n",
       "    .dataframe thead th {\n",
       "        text-align: right;\n",
       "    }\n",
       "</style>\n",
       "<table border=\"1\" class=\"dataframe\">\n",
       "  <thead>\n",
       "    <tr style=\"text-align: right;\">\n",
       "      <th></th>\n",
       "      <th>ventas</th>\n",
       "    </tr>\n",
       "    <tr>\n",
       "      <th>fecha</th>\n",
       "      <th></th>\n",
       "    </tr>\n",
       "  </thead>\n",
       "  <tbody>\n",
       "    <tr>\n",
       "      <th>2018-04-04</th>\n",
       "      <td>233288.5</td>\n",
       "    </tr>\n",
       "    <tr>\n",
       "      <th>2018-04-05</th>\n",
       "      <td>46377.7</td>\n",
       "    </tr>\n",
       "    <tr>\n",
       "      <th>2018-04-06</th>\n",
       "      <td>119753.5</td>\n",
       "    </tr>\n",
       "    <tr>\n",
       "      <th>2018-04-07</th>\n",
       "      <td>382697.7</td>\n",
       "    </tr>\n",
       "    <tr>\n",
       "      <th>2018-04-08</th>\n",
       "      <td>379653.0</td>\n",
       "    </tr>\n",
       "  </tbody>\n",
       "</table>\n",
       "</div>"
      ],
      "text/plain": [
       "              ventas\n",
       "fecha               \n",
       "2018-04-04  233288.5\n",
       "2018-04-05   46377.7\n",
       "2018-04-06  119753.5\n",
       "2018-04-07  382697.7\n",
       "2018-04-08  379653.0"
      ]
     },
     "execution_count": 2,
     "metadata": {},
     "output_type": "execute_result"
    }
   ],
   "source": [
    "df = pd.read_csv('Prueba_Value.csv', parse_dates=[0], header=None, index_col=0, names=['fecha','ventas'])\n",
    "df.head()"
   ]
  },
  {
   "cell_type": "code",
   "execution_count": 3,
   "metadata": {},
   "outputs": [
    {
     "name": "stdout",
     "output_type": "stream",
     "text": [
      "2018-04-04 00:00:00\n",
      "2019-06-21 00:00:00\n"
     ]
    }
   ],
   "source": [
    "print(df.index.min())\n",
    "print(df.index.max())"
   ]
  },
  {
   "cell_type": "code",
   "execution_count": 4,
   "metadata": {},
   "outputs": [
    {
     "name": "stdout",
     "output_type": "stream",
     "text": [
      "241\n",
      "170\n"
     ]
    }
   ],
   "source": [
    "print(len(df['2018']))\n",
    "print(len(df['2019']))"
   ]
  },
  {
   "cell_type": "code",
   "execution_count": 5,
   "metadata": {},
   "outputs": [
    {
     "data": {
      "text/html": [
       "<div>\n",
       "<style scoped>\n",
       "    .dataframe tbody tr th:only-of-type {\n",
       "        vertical-align: middle;\n",
       "    }\n",
       "\n",
       "    .dataframe tbody tr th {\n",
       "        vertical-align: top;\n",
       "    }\n",
       "\n",
       "    .dataframe thead th {\n",
       "        text-align: right;\n",
       "    }\n",
       "</style>\n",
       "<table border=\"1\" class=\"dataframe\">\n",
       "  <thead>\n",
       "    <tr style=\"text-align: right;\">\n",
       "      <th></th>\n",
       "      <th>ventas</th>\n",
       "    </tr>\n",
       "  </thead>\n",
       "  <tbody>\n",
       "    <tr>\n",
       "      <th>count</th>\n",
       "      <td>4.110000e+02</td>\n",
       "    </tr>\n",
       "    <tr>\n",
       "      <th>mean</th>\n",
       "      <td>2.565328e+06</td>\n",
       "    </tr>\n",
       "    <tr>\n",
       "      <th>std</th>\n",
       "      <td>5.466110e+06</td>\n",
       "    </tr>\n",
       "    <tr>\n",
       "      <th>min</th>\n",
       "      <td>1.500000e+02</td>\n",
       "    </tr>\n",
       "    <tr>\n",
       "      <th>25%</th>\n",
       "      <td>4.106673e+05</td>\n",
       "    </tr>\n",
       "    <tr>\n",
       "      <th>50%</th>\n",
       "      <td>1.097674e+06</td>\n",
       "    </tr>\n",
       "    <tr>\n",
       "      <th>75%</th>\n",
       "      <td>2.347434e+06</td>\n",
       "    </tr>\n",
       "    <tr>\n",
       "      <th>max</th>\n",
       "      <td>4.551789e+07</td>\n",
       "    </tr>\n",
       "  </tbody>\n",
       "</table>\n",
       "</div>"
      ],
      "text/plain": [
       "             ventas\n",
       "count  4.110000e+02\n",
       "mean   2.565328e+06\n",
       "std    5.466110e+06\n",
       "min    1.500000e+02\n",
       "25%    4.106673e+05\n",
       "50%    1.097674e+06\n",
       "75%    2.347434e+06\n",
       "max    4.551789e+07"
      ]
     },
     "execution_count": 5,
     "metadata": {},
     "output_type": "execute_result"
    }
   ],
   "source": [
    "df.describe()"
   ]
  },
  {
   "cell_type": "code",
   "execution_count": 6,
   "metadata": {},
   "outputs": [
    {
     "data": {
      "text/html": [
       "<div>\n",
       "<style scoped>\n",
       "    .dataframe tbody tr th:only-of-type {\n",
       "        vertical-align: middle;\n",
       "    }\n",
       "\n",
       "    .dataframe tbody tr th {\n",
       "        vertical-align: top;\n",
       "    }\n",
       "\n",
       "    .dataframe thead th {\n",
       "        text-align: right;\n",
       "    }\n",
       "</style>\n",
       "<table border=\"1\" class=\"dataframe\">\n",
       "  <thead>\n",
       "    <tr style=\"text-align: right;\">\n",
       "      <th></th>\n",
       "      <th>ventas</th>\n",
       "    </tr>\n",
       "    <tr>\n",
       "      <th>fecha</th>\n",
       "      <th></th>\n",
       "    </tr>\n",
       "  </thead>\n",
       "  <tbody>\n",
       "    <tr>\n",
       "      <th>2018-04-30</th>\n",
       "      <td>4.314932e+05</td>\n",
       "    </tr>\n",
       "    <tr>\n",
       "      <th>2018-05-31</th>\n",
       "      <td>6.116131e+06</td>\n",
       "    </tr>\n",
       "    <tr>\n",
       "      <th>2018-06-30</th>\n",
       "      <td>1.351005e+06</td>\n",
       "    </tr>\n",
       "    <tr>\n",
       "      <th>2018-07-31</th>\n",
       "      <td>1.340314e+06</td>\n",
       "    </tr>\n",
       "    <tr>\n",
       "      <th>2018-08-31</th>\n",
       "      <td>1.804444e+06</td>\n",
       "    </tr>\n",
       "    <tr>\n",
       "      <th>2018-09-30</th>\n",
       "      <td>1.447665e+06</td>\n",
       "    </tr>\n",
       "    <tr>\n",
       "      <th>2018-10-31</th>\n",
       "      <td>4.086936e+06</td>\n",
       "    </tr>\n",
       "    <tr>\n",
       "      <th>2018-11-30</th>\n",
       "      <td>2.832636e+06</td>\n",
       "    </tr>\n",
       "    <tr>\n",
       "      <th>2018-12-31</th>\n",
       "      <td>1.697123e+06</td>\n",
       "    </tr>\n",
       "    <tr>\n",
       "      <th>2019-01-31</th>\n",
       "      <td>1.747358e+06</td>\n",
       "    </tr>\n",
       "    <tr>\n",
       "      <th>2019-02-28</th>\n",
       "      <td>1.947762e+06</td>\n",
       "    </tr>\n",
       "    <tr>\n",
       "      <th>2019-03-31</th>\n",
       "      <td>2.060791e+06</td>\n",
       "    </tr>\n",
       "    <tr>\n",
       "      <th>2019-04-30</th>\n",
       "      <td>1.036344e+06</td>\n",
       "    </tr>\n",
       "    <tr>\n",
       "      <th>2019-05-31</th>\n",
       "      <td>7.352376e+06</td>\n",
       "    </tr>\n",
       "    <tr>\n",
       "      <th>2019-06-30</th>\n",
       "      <td>3.232764e+06</td>\n",
       "    </tr>\n",
       "  </tbody>\n",
       "</table>\n",
       "</div>"
      ],
      "text/plain": [
       "                  ventas\n",
       "fecha                   \n",
       "2018-04-30  4.314932e+05\n",
       "2018-05-31  6.116131e+06\n",
       "2018-06-30  1.351005e+06\n",
       "2018-07-31  1.340314e+06\n",
       "2018-08-31  1.804444e+06\n",
       "2018-09-30  1.447665e+06\n",
       "2018-10-31  4.086936e+06\n",
       "2018-11-30  2.832636e+06\n",
       "2018-12-31  1.697123e+06\n",
       "2019-01-31  1.747358e+06\n",
       "2019-02-28  1.947762e+06\n",
       "2019-03-31  2.060791e+06\n",
       "2019-04-30  1.036344e+06\n",
       "2019-05-31  7.352376e+06\n",
       "2019-06-30  3.232764e+06"
      ]
     },
     "execution_count": 6,
     "metadata": {},
     "output_type": "execute_result"
    }
   ],
   "source": [
    "meses =df.resample('M').mean()\n",
    "meses"
   ]
  },
  {
   "cell_type": "markdown",
   "metadata": {},
   "source": [
    "## Visualizaciones"
   ]
  },
  {
   "cell_type": "code",
   "execution_count": 7,
   "metadata": {},
   "outputs": [
    {
     "data": {
      "text/plain": [
       "[<matplotlib.lines.Line2D at 0x182c3dd9248>]"
      ]
     },
     "execution_count": 7,
     "metadata": {},
     "output_type": "execute_result"
    },
    {
     "data": {
      "image/png": "[encoded data removed]",
      "text/plain": [
       "<Figure size 432x288 with 1 Axes>"
      ]
     },
     "metadata": {
      "needs_background": "light"
     },
     "output_type": "display_data"
    }
   ],
   "source": [
    "plt.plot(meses['2018'].values) # en azul\n",
    "plt.plot(meses['2019'].values) # en naranja"
   ]
  },
  {
   "cell_type": "code",
   "execution_count": 8,
   "metadata": {},
   "outputs": [
    {
     "data": {
      "text/plain": [
       "[<matplotlib.lines.Line2D at 0x182c3e73908>]"
      ]
     },
     "execution_count": 8,
     "metadata": {},
     "output_type": "execute_result"
    },
    {
     "data": {
      "image/png": "[encoded data removed]",
      "text/plain": [
       "<Figure size 432x288 with 1 Axes>"
      ]
     },
     "metadata": {
      "needs_background": "light"
     },
     "output_type": "display_data"
    }
   ],
   "source": [
    "ver_2018 = df['2018-04-01':'2018-06-01']  # en azul\n",
    "plt.plot(ver_2018.values)\n",
    "ver_2019 = df['2019-04-01':'2019-06-01'] # en naranja\n",
    "plt.plot(ver_2019.values)"
   ]
  },
  {
   "cell_type": "markdown",
   "metadata": {},
   "source": [
    "## Preprocesado de los datos"
   ]
  },
  {
   "cell_type": "markdown",
   "metadata": {},
   "source": [
    "### Pronóstico de Ventas Diarias con Redes Neuronal\n",
    "\n",
    "Lo que haremos es tomar nuestra serie temporal y la convertiremos en un «problema de tipo supervisado« para poder alimentar nuestra red neuronal y poder entrenarla con backpropagation"
   ]
  },
  {
   "cell_type": "code",
   "execution_count": 9,
   "metadata": {},
   "outputs": [],
   "source": [
    "# Lo que haremos -en este ejemplo- es tomar los 7 días previos para «obtener» el octavo\n",
    "# Entradas: serán «7 columnas» que representan las ventas en unidades de los 7 días anteriores.\n",
    "# Salida: El valor del «8vo día». Es decir, las ventas (en unidades) de ese día"
   ]
  },
  {
   "cell_type": "code",
   "execution_count": 10,
   "metadata": {},
   "outputs": [
    {
     "data": {
      "text/html": [
       "<div>\n",
       "<style scoped>\n",
       "    .dataframe tbody tr th:only-of-type {\n",
       "        vertical-align: middle;\n",
       "    }\n",
       "\n",
       "    .dataframe tbody tr th {\n",
       "        vertical-align: top;\n",
       "    }\n",
       "\n",
       "    .dataframe thead th {\n",
       "        text-align: right;\n",
       "    }\n",
       "</style>\n",
       "<table border=\"1\" class=\"dataframe\">\n",
       "  <thead>\n",
       "    <tr style=\"text-align: right;\">\n",
       "      <th></th>\n",
       "      <th>var1(t-7)</th>\n",
       "      <th>var1(t-6)</th>\n",
       "      <th>var1(t-5)</th>\n",
       "      <th>var1(t-4)</th>\n",
       "      <th>var1(t-3)</th>\n",
       "      <th>var1(t-2)</th>\n",
       "      <th>var1(t-1)</th>\n",
       "      <th>var1(t)</th>\n",
       "    </tr>\n",
       "  </thead>\n",
       "  <tbody>\n",
       "    <tr>\n",
       "      <th>7</th>\n",
       "      <td>-0.989756</td>\n",
       "      <td>-0.997969</td>\n",
       "      <td>-0.994745</td>\n",
       "      <td>-0.983191</td>\n",
       "      <td>-0.983325</td>\n",
       "      <td>-0.973275</td>\n",
       "      <td>-0.974256</td>\n",
       "      <td>-0.982001</td>\n",
       "    </tr>\n",
       "    <tr>\n",
       "      <th>8</th>\n",
       "      <td>-0.997969</td>\n",
       "      <td>-0.994745</td>\n",
       "      <td>-0.983191</td>\n",
       "      <td>-0.983325</td>\n",
       "      <td>-0.973275</td>\n",
       "      <td>-0.974256</td>\n",
       "      <td>-0.982001</td>\n",
       "      <td>-0.979665</td>\n",
       "    </tr>\n",
       "    <tr>\n",
       "      <th>9</th>\n",
       "      <td>-0.994745</td>\n",
       "      <td>-0.983191</td>\n",
       "      <td>-0.983325</td>\n",
       "      <td>-0.973275</td>\n",
       "      <td>-0.974256</td>\n",
       "      <td>-0.982001</td>\n",
       "      <td>-0.979665</td>\n",
       "      <td>-0.973850</td>\n",
       "    </tr>\n",
       "    <tr>\n",
       "      <th>10</th>\n",
       "      <td>-0.983191</td>\n",
       "      <td>-0.983325</td>\n",
       "      <td>-0.973275</td>\n",
       "      <td>-0.974256</td>\n",
       "      <td>-0.982001</td>\n",
       "      <td>-0.979665</td>\n",
       "      <td>-0.973850</td>\n",
       "      <td>-0.972389</td>\n",
       "    </tr>\n",
       "    <tr>\n",
       "      <th>11</th>\n",
       "      <td>-0.983325</td>\n",
       "      <td>-0.973275</td>\n",
       "      <td>-0.974256</td>\n",
       "      <td>-0.982001</td>\n",
       "      <td>-0.979665</td>\n",
       "      <td>-0.973850</td>\n",
       "      <td>-0.972389</td>\n",
       "      <td>-0.973864</td>\n",
       "    </tr>\n",
       "  </tbody>\n",
       "</table>\n",
       "</div>"
      ],
      "text/plain": [
       "    var1(t-7)  var1(t-6)  var1(t-5)  var1(t-4)  var1(t-3)  var1(t-2)  \\\n",
       "7   -0.989756  -0.997969  -0.994745  -0.983191  -0.983325  -0.973275   \n",
       "8   -0.997969  -0.994745  -0.983191  -0.983325  -0.973275  -0.974256   \n",
       "9   -0.994745  -0.983191  -0.983325  -0.973275  -0.974256  -0.982001   \n",
       "10  -0.983191  -0.983325  -0.973275  -0.974256  -0.982001  -0.979665   \n",
       "11  -0.983325  -0.973275  -0.974256  -0.982001  -0.979665  -0.973850   \n",
       "\n",
       "    var1(t-1)   var1(t)  \n",
       "7   -0.974256 -0.982001  \n",
       "8   -0.982001 -0.979665  \n",
       "9   -0.979665 -0.973850  \n",
       "10  -0.973850 -0.972389  \n",
       "11  -0.972389 -0.973864  "
      ]
     },
     "execution_count": 10,
     "metadata": {},
     "output_type": "execute_result"
    }
   ],
   "source": [
    "# utilizamos el MinMaxScaler para transformar el rango de nuestros valores entre -1 y 1\n",
    "PASOS=7\n",
    " \n",
    "# convert series to supervised learning\n",
    "def series_to_supervised(data, n_in=1, n_out=1, dropnan=True):\n",
    "    n_vars = 1 if type(data) is list else data.shape[1]\n",
    "    df = pd.DataFrame(data)\n",
    "    cols, names = list(), list()\n",
    "    # input sequence (t-n, ... t-1)\n",
    "    for i in range(n_in, 0, -1):\n",
    "        cols.append(df.shift(i))\n",
    "        names += [('var%d(t-%d)' % (j+1, i)) for j in range(n_vars)]\n",
    "    # forecast sequence (t, t+1, ... t+n)\n",
    "    for i in range(0, n_out):\n",
    "        cols.append(df.shift(-i))\n",
    "        if i == 0:\n",
    "            names += [('var%d(t)' % (j+1)) for j in range(n_vars)]\n",
    "        else:\n",
    "            names += [('var%d(t+%d)' % (j+1, i)) for j in range(n_vars)]\n",
    "    # put it all together\n",
    "    agg = pd.concat(cols, axis=1)\n",
    "    agg.columns = names\n",
    "    # drop rows with NaN values\n",
    "    if dropnan:\n",
    "        agg.dropna(inplace=True)\n",
    "    return agg\n",
    " \n",
    "# load dataset\n",
    "values = df.values\n",
    "# ensure all data is float\n",
    "values = values.astype('float32')\n",
    "# normalize features\n",
    "scaler = MinMaxScaler(feature_range=(-1, 1))\n",
    "values=values.reshape(-1, 1) # esto lo hacemos porque tenemos 1 sola dimension\n",
    "scaled = scaler.fit_transform(values)\n",
    "# frame as supervised learning\n",
    "reframed = series_to_supervised(scaled, PASOS, 1)\n",
    "reframed.head()"
   ]
  },
  {
   "cell_type": "code",
   "execution_count": 11,
   "metadata": {},
   "outputs": [],
   "source": [
    "# Usaremos como entradas las columnas encabezadas como var1(t-7) a (t-1) y nuestra salida\n",
    "# (lo que sería el valor «Y» de la función) será el var1(t) -la última columna-"
   ]
  },
  {
   "cell_type": "markdown",
   "metadata": {},
   "source": [
    "# Creamos la Red Neuronal Artificial\n",
    "\n",
    "## Dividimos en set de Entrenamiento y Validación\n",
    "Antes de crear la red neuronal, subdividiremos nuestro conjunto de datos en train y en validación. ATENCIÓN, algo importante de este procedimiento, a diferencia de en otros problemas en los que podemos «mezclar» los datos de entrada, es que en este caso nos importa mantener el orden en el que alimentaremos la red. Por lo tanto, haremos una subdivisión de los primeros días consecutivos para entrenamiento de la red y los siguientes 30 para su validación."
   ]
  },
  {
   "cell_type": "code",
   "execution_count": 12,
   "metadata": {},
   "outputs": [
    {
     "name": "stdout",
     "output_type": "stream",
     "text": [
      "(365, 1, 7) (365,) (39, 1, 7) (39,)\n"
     ]
    }
   ],
   "source": [
    "# split into train and test sets\n",
    "values = reframed.values\n",
    "n_train_days = 402 - (30+PASOS)\n",
    "train = values[:n_train_days, :]\n",
    "test = values[n_train_days:, :]\n",
    "# split into input and outputs\n",
    "x_train, y_train = train[:, :-1], train[:, -1]\n",
    "x_val, y_val = test[:, :-1], test[:, -1]\n",
    "# reshape input to be 3D [samples, timesteps, features]\n",
    "x_train = x_train.reshape((x_train.shape[0], 1, x_train.shape[1]))\n",
    "x_val = x_val.reshape((x_val.shape[0], 1, x_val.shape[1]))\n",
    "print(x_train.shape, y_train.shape, x_val.shape, y_val.shape)"
   ]
  },
  {
   "cell_type": "markdown",
   "metadata": {},
   "source": [
    "## Utilizaremos una Red \"normal\" Feedforward\n",
    "\n",
    "#### La arquitectura de la red neuronal será:\n",
    "\n",
    "Entrada 7 inputs, como dijimos antes\n",
    "1 capa oculta con 7 neuronas (este valor lo escogí yo, pero se puede variar)\n",
    "La salida será 1 sola neurona\n",
    "Como función de activación utilizamos tangente hiperbólica puesto que utilizaremos valores entre -1 y 1.\n",
    "Utilizaremos como optimizador Adam y métrica de pérdida (loss) Mean Absolute Error\n",
    "Como la predicción será un valor continuo y no discreto, para calcular el Acuracy utilizaremos Mean Squared Error y para saber si mejora con el entrenamiento se debería ir reduciendo con las EPOCHS."
   ]
  },
  {
   "cell_type": "code",
   "execution_count": 13,
   "metadata": {},
   "outputs": [],
   "source": [
    "def crear_modeloFF():\n",
    "    model = Sequential() \n",
    "    model.add(Dense(PASOS, input_shape=(1,PASOS),activation='tanh'))\n",
    "    model.add(Flatten())\n",
    "    model.add(Dense(1, activation='tanh'))\n",
    "    model.compile(loss='mean_absolute_error',optimizer='Adam',metrics=[\"mse\"])\n",
    "    model.summary()\n",
    "    return model"
   ]
  },
  {
   "cell_type": "markdown",
   "metadata": {},
   "source": [
    "   ## Entrenamiento y Resultados"
   ]
  },
  {
   "cell_type": "code",
   "execution_count": 14,
   "metadata": {},
   "outputs": [
    {
     "name": "stderr",
     "output_type": "stream",
     "text": [
      "WARNING: Logging before flag parsing goes to stderr.\n",
      "W0826 01:19:09.770109  2796 deprecation_wrapper.py:119] From C:\\Users\\hmarq\\Anaconda3\\envs\\Pippo\\lib\\site-packages\\keras\\backend\\tensorflow_backend.py:74: The name tf.get_default_graph is deprecated. Please use tf.compat.v1.get_default_graph instead.\n",
      "\n",
      "W0826 01:19:09.896536  2796 deprecation_wrapper.py:119] From C:\\Users\\hmarq\\Anaconda3\\envs\\Pippo\\lib\\site-packages\\keras\\backend\\tensorflow_backend.py:517: The name tf.placeholder is deprecated. Please use tf.compat.v1.placeholder instead.\n",
      "\n",
      "W0826 01:19:09.904687  2796 deprecation_wrapper.py:119] From C:\\Users\\hmarq\\Anaconda3\\envs\\Pippo\\lib\\site-packages\\keras\\backend\\tensorflow_backend.py:4138: The name tf.random_uniform is deprecated. Please use tf.random.uniform instead.\n",
      "\n",
      "W0826 01:19:10.286026  2796 deprecation_wrapper.py:119] From C:\\Users\\hmarq\\Anaconda3\\envs\\Pippo\\lib\\site-packages\\keras\\optimizers.py:790: The name tf.train.Optimizer is deprecated. Please use tf.compat.v1.train.Optimizer instead.\n",
      "\n"
     ]
    },
    {
     "name": "stdout",
     "output_type": "stream",
     "text": [
      "_________________________________________________________________\n",
      "Layer (type)                 Output Shape              Param #   \n",
      "=================================================================\n",
      "dense_1 (Dense)              (None, 1, 7)              56        \n",
      "_________________________________________________________________\n",
      "flatten_1 (Flatten)          (None, 7)                 0         \n",
      "_________________________________________________________________\n",
      "dense_2 (Dense)              (None, 1)                 8         \n",
      "=================================================================\n",
      "Total params: 64\n",
      "Trainable params: 64\n",
      "Non-trainable params: 0\n",
      "_________________________________________________________________\n"
     ]
    },
    {
     "name": "stderr",
     "output_type": "stream",
     "text": [
      "W0826 01:19:11.479902  2796 deprecation_wrapper.py:119] From C:\\Users\\hmarq\\Anaconda3\\envs\\Pippo\\lib\\site-packages\\keras\\backend\\tensorflow_backend.py:986: The name tf.assign_add is deprecated. Please use tf.compat.v1.assign_add instead.\n",
      "\n",
      "W0826 01:19:11.864911  2796 deprecation_wrapper.py:119] From C:\\Users\\hmarq\\Anaconda3\\envs\\Pippo\\lib\\site-packages\\keras\\backend\\tensorflow_backend.py:973: The name tf.assign is deprecated. Please use tf.compat.v1.assign instead.\n",
      "\n"
     ]
    },
    {
     "name": "stdout",
     "output_type": "stream",
     "text": [
      "Train on 365 samples, validate on 39 samples\n",
      "Epoch 1/40\n",
      "365/365 [==============================] - 3s 9ms/step - loss: 1.1842 - mean_squared_error: 1.4625 - val_loss: 0.8256 - val_mean_squared_error: 0.7393\n",
      "Epoch 2/40\n",
      "365/365 [==============================] - 0s 591us/step - loss: 0.6025 - mean_squared_error: 0.4022 - val_loss: 0.4160 - val_mean_squared_error: 0.2883\n",
      "Epoch 3/40\n",
      "365/365 [==============================] - 0s 642us/step - loss: 0.2451 - mean_squared_error: 0.0908 - val_loss: 0.2762 - val_mean_squared_error: 0.2300\n",
      "Epoch 4/40\n",
      "365/365 [==============================] - 0s 612us/step - loss: 0.1325 - mean_squared_error: 0.0510 - val_loss: 0.2524 - val_mean_squared_error: 0.2254\n",
      "Epoch 5/40\n",
      "365/365 [==============================] - 0s 557us/step - loss: 0.0994 - mean_squared_error: 0.0469 - val_loss: 0.2504 - val_mean_squared_error: 0.2248\n",
      "Epoch 6/40\n",
      "365/365 [==============================] - 0s 648us/step - loss: 0.0881 - mean_squared_error: 0.0464 - val_loss: 0.2501 - val_mean_squared_error: 0.2241\n",
      "Epoch 7/40\n",
      "365/365 [==============================] - 0s 567us/step - loss: 0.0846 - mean_squared_error: 0.0464 - val_loss: 0.2495 - val_mean_squared_error: 0.2231\n",
      "Epoch 8/40\n",
      "365/365 [==============================] - 0s 599us/step - loss: 0.0832 - mean_squared_error: 0.0464 - val_loss: 0.2482 - val_mean_squared_error: 0.2218\n",
      "Epoch 9/40\n",
      "365/365 [==============================] - 0s 626us/step - loss: 0.0824 - mean_squared_error: 0.0466 - val_loss: 0.2471 - val_mean_squared_error: 0.2207\n",
      "Epoch 10/40\n",
      "365/365 [==============================] - 0s 556us/step - loss: 0.0818 - mean_squared_error: 0.0466 - val_loss: 0.2455 - val_mean_squared_error: 0.2189\n",
      "Epoch 11/40\n",
      "365/365 [==============================] - 0s 559us/step - loss: 0.0814 - mean_squared_error: 0.0466 - val_loss: 0.2441 - val_mean_squared_error: 0.2175\n",
      "Epoch 12/40\n",
      "365/365 [==============================] - 0s 557us/step - loss: 0.0811 - mean_squared_error: 0.0466 - val_loss: 0.2424 - val_mean_squared_error: 0.2157\n",
      "Epoch 13/40\n",
      "365/365 [==============================] - 0s 832us/step - loss: 0.0809 - mean_squared_error: 0.0467 - val_loss: 0.2408 - val_mean_squared_error: 0.2142\n",
      "Epoch 14/40\n",
      "365/365 [==============================] - 1s 1ms/step - loss: 0.0807 - mean_squared_error: 0.0467 - val_loss: 0.2391 - val_mean_squared_error: 0.2125\n",
      "Epoch 15/40\n",
      "365/365 [==============================] - 0s 819us/step - loss: 0.0805 - mean_squared_error: 0.0467 - val_loss: 0.2376 - val_mean_squared_error: 0.2111\n",
      "Epoch 16/40\n",
      "365/365 [==============================] - 0s 657us/step - loss: 0.0803 - mean_squared_error: 0.0466 - val_loss: 0.2358 - val_mean_squared_error: 0.2092\n",
      "Epoch 17/40\n",
      "365/365 [==============================] - 0s 648us/step - loss: 0.0802 - mean_squared_error: 0.0465 - val_loss: 0.2340 - val_mean_squared_error: 0.2073\n",
      "Epoch 18/40\n",
      "365/365 [==============================] - 0s 585us/step - loss: 0.0801 - mean_squared_error: 0.0464 - val_loss: 0.2324 - val_mean_squared_error: 0.2056\n",
      "Epoch 19/40\n",
      "365/365 [==============================] - 0s 556us/step - loss: 0.0799 - mean_squared_error: 0.0464 - val_loss: 0.2303 - val_mean_squared_error: 0.2038\n",
      "Epoch 20/40\n",
      "365/365 [==============================] - 0s 600us/step - loss: 0.0797 - mean_squared_error: 0.0463 - val_loss: 0.2287 - val_mean_squared_error: 0.2023\n",
      "Epoch 21/40\n",
      "365/365 [==============================] - 0s 514us/step - loss: 0.0796 - mean_squared_error: 0.0463 - val_loss: 0.2266 - val_mean_squared_error: 0.2003\n",
      "Epoch 22/40\n",
      "365/365 [==============================] - 0s 559us/step - loss: 0.0794 - mean_squared_error: 0.0462 - val_loss: 0.2247 - val_mean_squared_error: 0.1986\n",
      "Epoch 23/40\n",
      "365/365 [==============================] - 0s 557us/step - loss: 0.0792 - mean_squared_error: 0.0462 - val_loss: 0.2231 - val_mean_squared_error: 0.1972\n",
      "Epoch 24/40\n",
      "365/365 [==============================] - 0s 556us/step - loss: 0.0791 - mean_squared_error: 0.0460 - val_loss: 0.2210 - val_mean_squared_error: 0.1951\n",
      "Epoch 25/40\n",
      "365/365 [==============================] - 0s 596us/step - loss: 0.0790 - mean_squared_error: 0.0461 - val_loss: 0.2195 - val_mean_squared_error: 0.1938\n",
      "Epoch 26/40\n",
      "365/365 [==============================] - 0s 556us/step - loss: 0.0788 - mean_squared_error: 0.0458 - val_loss: 0.2172 - val_mean_squared_error: 0.1916\n",
      "Epoch 27/40\n",
      "365/365 [==============================] - 0s 574us/step - loss: 0.0787 - mean_squared_error: 0.0457 - val_loss: 0.2154 - val_mean_squared_error: 0.1900\n",
      "Epoch 28/40\n",
      "365/365 [==============================] - 0s 556us/step - loss: 0.0785 - mean_squared_error: 0.0456 - val_loss: 0.2133 - val_mean_squared_error: 0.1884\n",
      "Epoch 29/40\n",
      "365/365 [==============================] - 0s 584us/step - loss: 0.0784 - mean_squared_error: 0.0455 - val_loss: 0.2116 - val_mean_squared_error: 0.1869\n",
      "Epoch 30/40\n",
      "365/365 [==============================] - 0s 685us/step - loss: 0.0782 - mean_squared_error: 0.0454 - val_loss: 0.2094 - val_mean_squared_error: 0.1852\n",
      "Epoch 31/40\n",
      "365/365 [==============================] - 0s 759us/step - loss: 0.0780 - mean_squared_error: 0.0452 - val_loss: 0.2074 - val_mean_squared_error: 0.1832\n",
      "Epoch 32/40\n",
      "365/365 [==============================] - 0s 771us/step - loss: 0.0779 - mean_squared_error: 0.0451 - val_loss: 0.2055 - val_mean_squared_error: 0.1813\n",
      "Epoch 33/40\n",
      "365/365 [==============================] - 0s 700us/step - loss: 0.0777 - mean_squared_error: 0.0449 - val_loss: 0.2040 - val_mean_squared_error: 0.1797\n",
      "Epoch 34/40\n",
      "365/365 [==============================] - 0s 599us/step - loss: 0.0776 - mean_squared_error: 0.0446 - val_loss: 0.2022 - val_mean_squared_error: 0.1779\n",
      "Epoch 35/40\n",
      "365/365 [==============================] - 0s 727us/step - loss: 0.0776 - mean_squared_error: 0.0447 - val_loss: 0.2017 - val_mean_squared_error: 0.1777\n",
      "Epoch 36/40\n",
      "365/365 [==============================] - 0s 983us/step - loss: 0.0774 - mean_squared_error: 0.0446 - val_loss: 0.2008 - val_mean_squared_error: 0.1769\n",
      "Epoch 37/40\n",
      "365/365 [==============================] - 0s 911us/step - loss: 0.0773 - mean_squared_error: 0.0443 - val_loss: 0.1984 - val_mean_squared_error: 0.1739\n",
      "Epoch 38/40\n",
      "365/365 [==============================] - 0s 806us/step - loss: 0.0772 - mean_squared_error: 0.0441 - val_loss: 0.1980 - val_mean_squared_error: 0.1738\n",
      "Epoch 39/40\n",
      "365/365 [==============================] - 0s 803us/step - loss: 0.0771 - mean_squared_error: 0.0443 - val_loss: 0.1976 - val_mean_squared_error: 0.1731\n",
      "Epoch 40/40\n",
      "365/365 [==============================] - 0s 685us/step - loss: 0.0770 - mean_squared_error: 0.0441 - val_loss: 0.1962 - val_mean_squared_error: 0.1715\n"
     ]
    }
   ],
   "source": [
    "# En pocos segundos vemos una reducción del valor de pérdida tanto del set de entrenamiento como del de validación. \n",
    "# original EPOCHS = 40, luego voy modificando\n",
    "EPOCHS=40\n",
    " \n",
    "model = crear_modeloFF()\n",
    " \n",
    "history=model.fit(x_train,y_train,epochs=EPOCHS,validation_data=(x_val,y_val),batch_size=PASOS)"
   ]
  },
  {
   "cell_type": "code",
   "execution_count": 15,
   "metadata": {},
   "outputs": [],
   "source": [
    "# Visualizamos al conjunto de validación (recordemos que eran 30 días)"
   ]
  },
  {
   "cell_type": "markdown",
   "metadata": {},
   "source": [
    "## Visualizamos Resultados"
   ]
  },
  {
   "cell_type": "code",
   "execution_count": 16,
   "metadata": {
    "scrolled": true
   },
   "outputs": [
    {
     "name": "stdout",
     "output_type": "stream",
     "text": [
      "39\n"
     ]
    },
    {
     "data": {
      "image/png": "[encoded data removed]",
      "text/plain": [
       "<Figure size 432x288 with 1 Axes>"
      ]
     },
     "metadata": {
      "needs_background": "light"
     },
     "output_type": "display_data"
    }
   ],
   "source": [
    "results=model.predict(x_val)\n",
    "print( len(results) )\n",
    "plt.scatter(range(len(y_val)),y_val,c='g')\n",
    "plt.scatter(range(len(results)),results,c='r')\n",
    "plt.title('validate')\n",
    "plt.show()"
   ]
  },
  {
   "cell_type": "markdown",
   "metadata": {},
   "source": [
    "En la gráfica vemos que los puntitos verdes intentan aproximarse a los rojos. Cuanto más cerca ó superpuestos mejor. TIP: Si aumentamos la cantidad de EPOCHS mejora cada vez más."
   ]
  },
  {
   "cell_type": "code",
   "execution_count": 17,
   "metadata": {},
   "outputs": [
    {
     "data": {
      "image/png": "[encoded data removed]",
      "text/plain": [
       "<Figure size 432x288 with 1 Axes>"
      ]
     },
     "metadata": {
      "needs_background": "light"
     },
     "output_type": "display_data"
    }
   ],
   "source": [
    "plt.plot(history.history['loss'])\n",
    "plt.title('loss')\n",
    "plt.plot(history.history['val_loss'])\n",
    "plt.title('validate loss')\n",
    "plt.show()"
   ]
  },
  {
   "cell_type": "markdown",
   "metadata": {},
   "source": [
    "Modelo 1) ST1: En azul el Entrenamiento y naranja el set de Validación."
   ]
  },
  {
   "cell_type": "code",
   "execution_count": 18,
   "metadata": {},
   "outputs": [
    {
     "data": {
      "image/png": "[encoded data removed]",
      "text/plain": [
       "<Figure size 432x288 with 1 Axes>"
      ]
     },
     "metadata": {
      "needs_background": "light"
     },
     "output_type": "display_data"
    }
   ],
   "source": [
    "plt.title('Accuracy')\n",
    "plt.plot(history.history['mean_squared_error'])\n",
    "plt.show()"
   ]
  },
  {
   "cell_type": "code",
   "execution_count": 19,
   "metadata": {},
   "outputs": [],
   "source": [
    "# En la gráfica vemos que los puntitos verdes intentan aproximarse a los rojos. Cuanto más cerca ó superpuestos mejor. \n",
    "# TIP: Si aumentamos la cantidad de EPOCHS mejora cada vez más."
   ]
  },
  {
   "cell_type": "code",
   "execution_count": 20,
   "metadata": {},
   "outputs": [],
   "source": [
    "# Veamos y comparemos también cómo disminuye el LOSS tanto en el conjunto de train como el de Validate, esto es bueno\n",
    "# ya que indica que el modelo está aprendiendo. A su vez pareciera no haber overfitting, pues las curvas de train y validate\n",
    "# son distintas."
   ]
  },
  {
   "cell_type": "code",
   "execution_count": 21,
   "metadata": {},
   "outputs": [
    {
     "data": {
      "text/html": [
       "<div>\n",
       "<style scoped>\n",
       "    .dataframe tbody tr th:only-of-type {\n",
       "        vertical-align: middle;\n",
       "    }\n",
       "\n",
       "    .dataframe tbody tr th {\n",
       "        vertical-align: top;\n",
       "    }\n",
       "\n",
       "    .dataframe thead th {\n",
       "        text-align: right;\n",
       "    }\n",
       "</style>\n",
       "<table border=\"1\" class=\"dataframe\">\n",
       "  <thead>\n",
       "    <tr style=\"text-align: right;\">\n",
       "      <th></th>\n",
       "      <th>real</th>\n",
       "      <th>prediccion</th>\n",
       "      <th>diferencia</th>\n",
       "    </tr>\n",
       "  </thead>\n",
       "  <tbody>\n",
       "    <tr>\n",
       "      <th>0</th>\n",
       "      <td>35219832.0</td>\n",
       "      <td>3394611.75</td>\n",
       "      <td>31825220.0</td>\n",
       "    </tr>\n",
       "    <tr>\n",
       "      <th>1</th>\n",
       "      <td>45517888.0</td>\n",
       "      <td>3659468.25</td>\n",
       "      <td>41858420.0</td>\n",
       "    </tr>\n",
       "    <tr>\n",
       "      <th>2</th>\n",
       "      <td>24630096.0</td>\n",
       "      <td>4984288.00</td>\n",
       "      <td>19645808.0</td>\n",
       "    </tr>\n",
       "    <tr>\n",
       "      <th>3</th>\n",
       "      <td>13079949.0</td>\n",
       "      <td>10767753.00</td>\n",
       "      <td>2312196.0</td>\n",
       "    </tr>\n",
       "    <tr>\n",
       "      <th>4</th>\n",
       "      <td>7676429.5</td>\n",
       "      <td>10313637.00</td>\n",
       "      <td>-2637207.5</td>\n",
       "    </tr>\n",
       "  </tbody>\n",
       "</table>\n",
       "</div>"
      ],
      "text/plain": [
       "         real   prediccion  diferencia\n",
       "0  35219832.0   3394611.75  31825220.0\n",
       "1  45517888.0   3659468.25  41858420.0\n",
       "2  24630096.0   4984288.00  19645808.0\n",
       "3  13079949.0  10767753.00   2312196.0\n",
       "4   7676429.5  10313637.00  -2637207.5"
      ]
     },
     "execution_count": 21,
     "metadata": {},
     "output_type": "execute_result"
    }
   ],
   "source": [
    "compara = pd.DataFrame(np.array([y_val, [x[0] for x in results]])).transpose()\n",
    "compara.columns = ['real', 'prediccion']\n",
    "\n",
    "inverted = scaler.inverse_transform(compara.values)\n",
    "\n",
    "compara2 = pd.DataFrame(inverted)\n",
    "compara2.columns = ['real', 'prediccion']\n",
    "compara2['diferencia'] = compara2['real'] - compara2['prediccion']\n",
    "compara2.head()"
   ]
  },
  {
   "cell_type": "code",
   "execution_count": 22,
   "metadata": {},
   "outputs": [
    {
     "data": {
      "text/html": [
       "<div>\n",
       "<style scoped>\n",
       "    .dataframe tbody tr th:only-of-type {\n",
       "        vertical-align: middle;\n",
       "    }\n",
       "\n",
       "    .dataframe tbody tr th {\n",
       "        vertical-align: top;\n",
       "    }\n",
       "\n",
       "    .dataframe thead th {\n",
       "        text-align: right;\n",
       "    }\n",
       "</style>\n",
       "<table border=\"1\" class=\"dataframe\">\n",
       "  <thead>\n",
       "    <tr style=\"text-align: right;\">\n",
       "      <th></th>\n",
       "      <th>real</th>\n",
       "      <th>prediccion</th>\n",
       "      <th>diferencia</th>\n",
       "    </tr>\n",
       "  </thead>\n",
       "  <tbody>\n",
       "    <tr>\n",
       "      <th>count</th>\n",
       "      <td>3.900000e+01</td>\n",
       "      <td>3.900000e+01</td>\n",
       "      <td>3.900000e+01</td>\n",
       "    </tr>\n",
       "    <tr>\n",
       "      <th>mean</th>\n",
       "      <td>6.225290e+06</td>\n",
       "      <td>2.657920e+06</td>\n",
       "      <td>3.567370e+06</td>\n",
       "    </tr>\n",
       "    <tr>\n",
       "      <th>std</th>\n",
       "      <td>9.344369e+06</td>\n",
       "      <td>3.253829e+06</td>\n",
       "      <td>8.837108e+06</td>\n",
       "    </tr>\n",
       "    <tr>\n",
       "      <th>min</th>\n",
       "      <td>2.701904e+05</td>\n",
       "      <td>9.484711e+05</td>\n",
       "      <td>-5.274986e+06</td>\n",
       "    </tr>\n",
       "    <tr>\n",
       "      <th>25%</th>\n",
       "      <td>1.724907e+06</td>\n",
       "      <td>1.069359e+06</td>\n",
       "      <td>-3.623920e+05</td>\n",
       "    </tr>\n",
       "    <tr>\n",
       "      <th>50%</th>\n",
       "      <td>2.993546e+06</td>\n",
       "      <td>1.183662e+06</td>\n",
       "      <td>1.240791e+06</td>\n",
       "    </tr>\n",
       "    <tr>\n",
       "      <th>75%</th>\n",
       "      <td>6.462843e+06</td>\n",
       "      <td>1.846944e+06</td>\n",
       "      <td>3.290450e+06</td>\n",
       "    </tr>\n",
       "    <tr>\n",
       "      <th>max</th>\n",
       "      <td>4.551789e+07</td>\n",
       "      <td>1.258228e+07</td>\n",
       "      <td>4.185842e+07</td>\n",
       "    </tr>\n",
       "  </tbody>\n",
       "</table>\n",
       "</div>"
      ],
      "text/plain": [
       "               real    prediccion    diferencia\n",
       "count  3.900000e+01  3.900000e+01  3.900000e+01\n",
       "mean   6.225290e+06  2.657920e+06  3.567370e+06\n",
       "std    9.344369e+06  3.253829e+06  8.837108e+06\n",
       "min    2.701904e+05  9.484711e+05 -5.274986e+06\n",
       "25%    1.724907e+06  1.069359e+06 -3.623920e+05\n",
       "50%    2.993546e+06  1.183662e+06  1.240791e+06\n",
       "75%    6.462843e+06  1.846944e+06  3.290450e+06\n",
       "max    4.551789e+07  1.258228e+07  4.185842e+07"
      ]
     },
     "execution_count": 22,
     "metadata": {},
     "output_type": "execute_result"
    }
   ],
   "source": [
    "compara2.describe()"
   ]
  },
  {
   "cell_type": "code",
   "execution_count": 23,
   "metadata": {},
   "outputs": [
    {
     "data": {
      "text/plain": [
       "<matplotlib.axes._subplots.AxesSubplot at 0x182c531f9c8>"
      ]
     },
     "execution_count": 23,
     "metadata": {},
     "output_type": "execute_result"
    },
    {
     "data": {
      "image/png": "[encoded data removed]",
      "text/plain": [
       "<Figure size 432x288 with 1 Axes>"
      ]
     },
     "metadata": {
      "needs_background": "light"
     },
     "output_type": "display_data"
    }
   ],
   "source": [
    "compara2['real'].plot()\n",
    "compara2['prediccion'].plot()"
   ]
  },
  {
   "cell_type": "markdown",
   "metadata": {},
   "source": [
    "# Predicción\n",
    "\n",
    "## Pronóstico de ventas futuras\n",
    "Ahora que tenemos nuestra red y -suponiendo que realizamos los 7 pasos del ML– la damos por buena, probaremos a realizar una nueva predicción, en este caso, usaremos los últimos días de Mayo 2019 para calcular la primer semana de Junio. Veamos:"
   ]
  },
  {
   "cell_type": "code",
   "execution_count": 24,
   "metadata": {},
   "outputs": [
    {
     "data": {
      "text/html": [
       "<div>\n",
       "<style scoped>\n",
       "    .dataframe tbody tr th:only-of-type {\n",
       "        vertical-align: middle;\n",
       "    }\n",
       "\n",
       "    .dataframe tbody tr th {\n",
       "        vertical-align: top;\n",
       "    }\n",
       "\n",
       "    .dataframe thead th {\n",
       "        text-align: right;\n",
       "    }\n",
       "</style>\n",
       "<table border=\"1\" class=\"dataframe\">\n",
       "  <thead>\n",
       "    <tr style=\"text-align: right;\">\n",
       "      <th></th>\n",
       "      <th>ventas</th>\n",
       "    </tr>\n",
       "    <tr>\n",
       "      <th>fecha</th>\n",
       "      <th></th>\n",
       "    </tr>\n",
       "  </thead>\n",
       "  <tbody>\n",
       "    <tr>\n",
       "      <th>2019-05-16</th>\n",
       "      <td>24630096.36</td>\n",
       "    </tr>\n",
       "    <tr>\n",
       "      <th>2019-05-17</th>\n",
       "      <td>13079948.65</td>\n",
       "    </tr>\n",
       "    <tr>\n",
       "      <th>2019-05-18</th>\n",
       "      <td>7676430.50</td>\n",
       "    </tr>\n",
       "    <tr>\n",
       "      <th>2019-05-19</th>\n",
       "      <td>12862411.06</td>\n",
       "    </tr>\n",
       "    <tr>\n",
       "      <th>2019-05-20</th>\n",
       "      <td>8711173.60</td>\n",
       "    </tr>\n",
       "    <tr>\n",
       "      <th>2019-05-21</th>\n",
       "      <td>1744367.82</td>\n",
       "    </tr>\n",
       "    <tr>\n",
       "      <th>2019-05-22</th>\n",
       "      <td>2109401.84</td>\n",
       "    </tr>\n",
       "    <tr>\n",
       "      <th>2019-05-23</th>\n",
       "      <td>2551605.95</td>\n",
       "    </tr>\n",
       "    <tr>\n",
       "      <th>2019-05-24</th>\n",
       "      <td>6291698.19</td>\n",
       "    </tr>\n",
       "    <tr>\n",
       "      <th>2019-05-25</th>\n",
       "      <td>4080571.00</td>\n",
       "    </tr>\n",
       "    <tr>\n",
       "      <th>2019-05-26</th>\n",
       "      <td>4978848.60</td>\n",
       "    </tr>\n",
       "    <tr>\n",
       "      <th>2019-05-27</th>\n",
       "      <td>2392030.40</td>\n",
       "    </tr>\n",
       "    <tr>\n",
       "      <th>2019-05-28</th>\n",
       "      <td>457006.90</td>\n",
       "    </tr>\n",
       "    <tr>\n",
       "      <th>2019-05-29</th>\n",
       "      <td>1705447.20</td>\n",
       "    </tr>\n",
       "    <tr>\n",
       "      <th>2019-05-30</th>\n",
       "      <td>619338.50</td>\n",
       "    </tr>\n",
       "    <tr>\n",
       "      <th>2019-05-31</th>\n",
       "      <td>270190.30</td>\n",
       "    </tr>\n",
       "  </tbody>\n",
       "</table>\n",
       "</div>"
      ],
      "text/plain": [
       "                 ventas\n",
       "fecha                  \n",
       "2019-05-16  24630096.36\n",
       "2019-05-17  13079948.65\n",
       "2019-05-18   7676430.50\n",
       "2019-05-19  12862411.06\n",
       "2019-05-20   8711173.60\n",
       "2019-05-21   1744367.82\n",
       "2019-05-22   2109401.84\n",
       "2019-05-23   2551605.95\n",
       "2019-05-24   6291698.19\n",
       "2019-05-25   4080571.00\n",
       "2019-05-26   4978848.60\n",
       "2019-05-27   2392030.40\n",
       "2019-05-28    457006.90\n",
       "2019-05-29   1705447.20\n",
       "2019-05-30    619338.50\n",
       "2019-05-31    270190.30"
      ]
     },
     "execution_count": 24,
     "metadata": {},
     "output_type": "execute_result"
    }
   ],
   "source": [
    "ultimosDias = df['2019-05-16':'2019-05-31']\n",
    "ultimosDias"
   ]
  },
  {
   "cell_type": "markdown",
   "metadata": {},
   "source": [
    "## Preparamos los datos para Test\n",
    "\n",
    "Y ahora seguiremos el mismo preprocesado de datos que hicimos para el entrenamiento: escalando los valores, llamando a la función series_to_supervised pero esta vez sin incluir la columna de salida «Y» pues es la que queremos hallar. Por eso, verán en el código que hacemos drop() de la última columna."
   ]
  },
  {
   "cell_type": "code",
   "execution_count": 25,
   "metadata": {},
   "outputs": [
    {
     "data": {
      "text/html": [
       "<div>\n",
       "<style scoped>\n",
       "    .dataframe tbody tr th:only-of-type {\n",
       "        vertical-align: middle;\n",
       "    }\n",
       "\n",
       "    .dataframe tbody tr th {\n",
       "        vertical-align: top;\n",
       "    }\n",
       "\n",
       "    .dataframe thead th {\n",
       "        text-align: right;\n",
       "    }\n",
       "</style>\n",
       "<table border=\"1\" class=\"dataframe\">\n",
       "  <thead>\n",
       "    <tr style=\"text-align: right;\">\n",
       "      <th></th>\n",
       "      <th>var1(t-7)</th>\n",
       "      <th>var1(t-6)</th>\n",
       "      <th>var1(t-5)</th>\n",
       "      <th>var1(t-4)</th>\n",
       "      <th>var1(t-3)</th>\n",
       "      <th>var1(t-2)</th>\n",
       "      <th>var1(t-1)</th>\n",
       "    </tr>\n",
       "  </thead>\n",
       "  <tbody>\n",
       "    <tr>\n",
       "      <th>7</th>\n",
       "      <td>1.000000</td>\n",
       "      <td>0.051708</td>\n",
       "      <td>-0.391932</td>\n",
       "      <td>0.033848</td>\n",
       "      <td>-0.306977</td>\n",
       "      <td>-0.878967</td>\n",
       "      <td>-0.848997</td>\n",
       "    </tr>\n",
       "    <tr>\n",
       "      <th>8</th>\n",
       "      <td>0.051708</td>\n",
       "      <td>-0.391932</td>\n",
       "      <td>0.033848</td>\n",
       "      <td>-0.306977</td>\n",
       "      <td>-0.878967</td>\n",
       "      <td>-0.848997</td>\n",
       "      <td>-0.812691</td>\n",
       "    </tr>\n",
       "    <tr>\n",
       "      <th>9</th>\n",
       "      <td>-0.391932</td>\n",
       "      <td>0.033848</td>\n",
       "      <td>-0.306977</td>\n",
       "      <td>-0.878967</td>\n",
       "      <td>-0.848997</td>\n",
       "      <td>-0.812691</td>\n",
       "      <td>-0.505621</td>\n",
       "    </tr>\n",
       "    <tr>\n",
       "      <th>10</th>\n",
       "      <td>0.033848</td>\n",
       "      <td>-0.306977</td>\n",
       "      <td>-0.878967</td>\n",
       "      <td>-0.848997</td>\n",
       "      <td>-0.812691</td>\n",
       "      <td>-0.505621</td>\n",
       "      <td>-0.687160</td>\n",
       "    </tr>\n",
       "    <tr>\n",
       "      <th>11</th>\n",
       "      <td>-0.306977</td>\n",
       "      <td>-0.878967</td>\n",
       "      <td>-0.848997</td>\n",
       "      <td>-0.812691</td>\n",
       "      <td>-0.505621</td>\n",
       "      <td>-0.687160</td>\n",
       "      <td>-0.613409</td>\n",
       "    </tr>\n",
       "    <tr>\n",
       "      <th>12</th>\n",
       "      <td>-0.878967</td>\n",
       "      <td>-0.848997</td>\n",
       "      <td>-0.812691</td>\n",
       "      <td>-0.505621</td>\n",
       "      <td>-0.687160</td>\n",
       "      <td>-0.613409</td>\n",
       "      <td>-0.825792</td>\n",
       "    </tr>\n",
       "    <tr>\n",
       "      <th>13</th>\n",
       "      <td>-0.848997</td>\n",
       "      <td>-0.812691</td>\n",
       "      <td>-0.505621</td>\n",
       "      <td>-0.687160</td>\n",
       "      <td>-0.613409</td>\n",
       "      <td>-0.825792</td>\n",
       "      <td>-0.984662</td>\n",
       "    </tr>\n",
       "  </tbody>\n",
       "</table>\n",
       "</div>"
      ],
      "text/plain": [
       "    var1(t-7)  var1(t-6)  var1(t-5)  var1(t-4)  var1(t-3)  var1(t-2)  \\\n",
       "7    1.000000   0.051708  -0.391932   0.033848  -0.306977  -0.878967   \n",
       "8    0.051708  -0.391932   0.033848  -0.306977  -0.878967  -0.848997   \n",
       "9   -0.391932   0.033848  -0.306977  -0.878967  -0.848997  -0.812691   \n",
       "10   0.033848  -0.306977  -0.878967  -0.848997  -0.812691  -0.505621   \n",
       "11  -0.306977  -0.878967  -0.848997  -0.812691  -0.505621  -0.687160   \n",
       "12  -0.878967  -0.848997  -0.812691  -0.505621  -0.687160  -0.613409   \n",
       "13  -0.848997  -0.812691  -0.505621  -0.687160  -0.613409  -0.825792   \n",
       "\n",
       "    var1(t-1)  \n",
       "7   -0.848997  \n",
       "8   -0.812691  \n",
       "9   -0.505621  \n",
       "10  -0.687160  \n",
       "11  -0.613409  \n",
       "12  -0.825792  \n",
       "13  -0.984662  "
      ]
     },
     "execution_count": 25,
     "metadata": {},
     "output_type": "execute_result"
    }
   ],
   "source": [
    "values = ultimosDias.values\n",
    "values = values.astype('float32')\n",
    "# normalize features\n",
    "values=values.reshape(-1, 1) # esto lo hacemos porque tenemos 1 sola dimension\n",
    "scaled = scaler.fit_transform(values)\n",
    "reframed = series_to_supervised(scaled, PASOS, 1)\n",
    "reframed.drop(reframed.columns[[7]], axis=1, inplace=True)\n",
    "reframed.head(7)"
   ]
  },
  {
   "cell_type": "markdown",
   "metadata": {},
   "source": [
    "De este conjunto «ultimosDias» tomamos sólo la última fila, pues es la que correspondería a la última semana de Mayo y la dejamos en el formato correcto para la red neuronal con reshape:"
   ]
  },
  {
   "cell_type": "code",
   "execution_count": 26,
   "metadata": {},
   "outputs": [
    {
     "data": {
      "text/plain": [
       "array([[[-0.8489968 , -0.8126909 , -0.5056214 , -0.68715966,\n",
       "         -0.61340916, -0.8257924 , -0.98466194]],\n",
       "\n",
       "       [[-0.8126909 , -0.5056214 , -0.68715966, -0.61340916,\n",
       "         -0.8257924 , -0.98466194, -0.88216233]],\n",
       "\n",
       "       [[-0.5056214 , -0.68715966, -0.61340916, -0.8257924 ,\n",
       "         -0.98466194, -0.88216233, -0.97133416]]], dtype=float32)"
      ]
     },
     "execution_count": 26,
     "metadata": {},
     "output_type": "execute_result"
    }
   ],
   "source": [
    "values = reframed.values\n",
    "x_test = values[6:, :]\n",
    "x_test = x_test.reshape((x_test.shape[0], 1, x_test.shape[1]))\n",
    "x_test"
   ]
  },
  {
   "cell_type": "markdown",
   "metadata": {},
   "source": [
    "Ahora crearemos una función para ir «rellenando» el desplazamiento que hacemos por cada predicción. Esto es porque queremos predecir los 7 primeros días de Junio. Entonces para el 1 de Junio, ya tenemos el set con los últimos 7 días de Mayo. Pero para pronosticar el 2 de Junio necesitamos los 7 días anteriores que INCLUYEN al 1 de Junio y ese valor, lo obtenemos en nuestra predicción anterior. Y así hasta el 7 de Junio."
   ]
  },
  {
   "cell_type": "code",
   "execution_count": 27,
   "metadata": {},
   "outputs": [],
   "source": [
    "def agregarNuevoValor(x_test,nuevoValor):\n",
    "    for i in range(x_test.shape[2]-1):\n",
    "        x_test[0][0][i] = x_test[0][0][i+1]\n",
    "    x_test[0][0][x_test.shape[2]-1]=nuevoValor\n",
    "    return x_test\n",
    " "
   ]
  },
  {
   "cell_type": "markdown",
   "metadata": {},
   "source": [
    "## Pronóstico para la \"próxima semana\""
   ]
  },
  {
   "cell_type": "code",
   "execution_count": 28,
   "metadata": {},
   "outputs": [
    {
     "name": "stdout",
     "output_type": "stream",
     "text": [
      "[[[-0.8489968  -0.8126909  -0.5056214  -0.68715966 -0.61340916\n",
      "   -0.8257924  -0.98466194]]\n",
      "\n",
      " [[-0.8126909  -0.5056214  -0.68715966 -0.61340916 -0.8257924\n",
      "   -0.98466194 -0.88216233]]\n",
      "\n",
      " [[-0.5056214  -0.68715966 -0.61340916 -0.8257924  -0.98466194\n",
      "   -0.88216233 -0.97133416]]]\n",
      "[[[-0.8126909  -0.5056214  -0.68715966 -0.61340916 -0.8257924\n",
      "   -0.98466194 -0.95820075]]\n",
      "\n",
      " [[-0.8126909  -0.5056214  -0.68715966 -0.61340916 -0.8257924\n",
      "   -0.98466194 -0.88216233]]\n",
      "\n",
      " [[-0.5056214  -0.68715966 -0.61340916 -0.8257924  -0.98466194\n",
      "   -0.88216233 -0.97133416]]]\n",
      "[[[-0.5056214  -0.68715966 -0.61340916 -0.8257924  -0.98466194\n",
      "   -0.95820075 -0.9453277 ]]\n",
      "\n",
      " [[-0.8126909  -0.5056214  -0.68715966 -0.61340916 -0.8257924\n",
      "   -0.98466194 -0.88216233]]\n",
      "\n",
      " [[-0.5056214  -0.68715966 -0.61340916 -0.8257924  -0.98466194\n",
      "   -0.88216233 -0.97133416]]]\n",
      "[[[-0.68715966 -0.61340916 -0.8257924  -0.98466194 -0.95820075\n",
      "   -0.9453277  -0.9500208 ]]\n",
      "\n",
      " [[-0.8126909  -0.5056214  -0.68715966 -0.61340916 -0.8257924\n",
      "   -0.98466194 -0.88216233]]\n",
      "\n",
      " [[-0.5056214  -0.68715966 -0.61340916 -0.8257924  -0.98466194\n",
      "   -0.88216233 -0.97133416]]]\n",
      "[[[-0.61340916 -0.8257924  -0.98466194 -0.95820075 -0.9453277\n",
      "   -0.9500208  -0.94912684]]\n",
      "\n",
      " [[-0.8126909  -0.5056214  -0.68715966 -0.61340916 -0.8257924\n",
      "   -0.98466194 -0.88216233]]\n",
      "\n",
      " [[-0.5056214  -0.68715966 -0.61340916 -0.8257924  -0.98466194\n",
      "   -0.88216233 -0.97133416]]]\n",
      "[[[-0.8257924  -0.98466194 -0.95820075 -0.9453277  -0.9500208\n",
      "   -0.94912684 -0.94775826]]\n",
      "\n",
      " [[-0.8126909  -0.5056214  -0.68715966 -0.61340916 -0.8257924\n",
      "   -0.98466194 -0.88216233]]\n",
      "\n",
      " [[-0.5056214  -0.68715966 -0.61340916 -0.8257924  -0.98466194\n",
      "   -0.88216233 -0.97133416]]]\n",
      "[[[-0.98466194 -0.95820075 -0.9453277  -0.9500208  -0.94912684\n",
      "   -0.94775826 -0.9547358 ]]\n",
      "\n",
      " [[-0.8126909  -0.5056214  -0.68715966 -0.61340916 -0.8257924\n",
      "   -0.98466194 -0.88216233]]\n",
      "\n",
      " [[-0.5056214  -0.68715966 -0.61340916 -0.8257924  -0.98466194\n",
      "   -0.88216233 -0.97133416]]]\n"
     ]
    }
   ],
   "source": [
    "results=[]\n",
    "for i in range(7):\n",
    "    parcial=model.predict(x_test)\n",
    "    results.append(parcial[0])\n",
    "    print(x_test)\n",
    "    x_test=agregarNuevoValor(x_test,parcial[0])"
   ]
  },
  {
   "cell_type": "markdown",
   "metadata": {},
   "source": [
    "## Re-Convertimos los resultados\n",
    "\n",
    "Ya casi lo tenemos… Ahora las predicciones están en el dominio del -1 al 1 y nosotros lo queremos en nuestra escala «real» de unidades vendidas. Entonces vamos a «re-transformar» los datos con el objeto «scaler» que creamos antes."
   ]
  },
  {
   "cell_type": "code",
   "execution_count": 29,
   "metadata": {},
   "outputs": [
    {
     "data": {
      "text/plain": [
       "array([[779302.92731492],\n",
       "       [936096.10892883],\n",
       "       [878934.48419282],\n",
       "       [889822.75841956],\n",
       "       [906492.02528982],\n",
       "       [821505.69817428],\n",
       "       [796457.87597326]])"
      ]
     },
     "execution_count": 29,
     "metadata": {},
     "output_type": "execute_result"
    }
   ],
   "source": [
    "adimen = [x for x in results]    \n",
    "inverted = scaler.inverse_transform(adimen)\n",
    "inverted"
   ]
  },
  {
   "cell_type": "markdown",
   "metadata": {},
   "source": [
    "## Visualizamos el pronóstico\n",
    "\n",
    "Ya podemos crear un nuevo DataFrame Pandas por si quisiéramos guardar un nuevo csv con el pronóstico. Y lo visualizamos."
   ]
  },
  {
   "cell_type": "code",
   "execution_count": 30,
   "metadata": {},
   "outputs": [
    {
     "data": {
      "image/png": "[encoded data removed]",
      "text/plain": [
       "<Figure size 432x288 with 1 Axes>"
      ]
     },
     "metadata": {
      "needs_background": "light"
     },
     "output_type": "display_data"
    }
   ],
   "source": [
    "prediccion1SemanaJunio = pd.DataFrame(inverted)\n",
    "prediccion1SemanaJunio.columns = ['pronostico']\n",
    "prediccion1SemanaJunio.plot()\n",
    "prediccion1SemanaJunio.to_csv('pronostico_simple_V.csv')"
   ]
  },
  {
   "cell_type": "code",
   "execution_count": 31,
   "metadata": {},
   "outputs": [
    {
     "data": {
      "text/html": [
       "<div>\n",
       "<style scoped>\n",
       "    .dataframe tbody tr th:only-of-type {\n",
       "        vertical-align: middle;\n",
       "    }\n",
       "\n",
       "    .dataframe tbody tr th {\n",
       "        vertical-align: top;\n",
       "    }\n",
       "\n",
       "    .dataframe thead th {\n",
       "        text-align: right;\n",
       "    }\n",
       "</style>\n",
       "<table border=\"1\" class=\"dataframe\">\n",
       "  <thead>\n",
       "    <tr style=\"text-align: right;\">\n",
       "      <th></th>\n",
       "      <th>pronostico</th>\n",
       "    </tr>\n",
       "  </thead>\n",
       "  <tbody>\n",
       "    <tr>\n",
       "      <th>0</th>\n",
       "      <td>779302.927315</td>\n",
       "    </tr>\n",
       "    <tr>\n",
       "      <th>1</th>\n",
       "      <td>936096.108929</td>\n",
       "    </tr>\n",
       "    <tr>\n",
       "      <th>2</th>\n",
       "      <td>878934.484193</td>\n",
       "    </tr>\n",
       "    <tr>\n",
       "      <th>3</th>\n",
       "      <td>889822.758420</td>\n",
       "    </tr>\n",
       "    <tr>\n",
       "      <th>4</th>\n",
       "      <td>906492.025290</td>\n",
       "    </tr>\n",
       "    <tr>\n",
       "      <th>5</th>\n",
       "      <td>821505.698174</td>\n",
       "    </tr>\n",
       "    <tr>\n",
       "      <th>6</th>\n",
       "      <td>796457.875973</td>\n",
       "    </tr>\n",
       "  </tbody>\n",
       "</table>\n",
       "</div>"
      ],
      "text/plain": [
       "      pronostico\n",
       "0  779302.927315\n",
       "1  936096.108929\n",
       "2  878934.484193\n",
       "3  889822.758420\n",
       "4  906492.025290\n",
       "5  821505.698174\n",
       "6  796457.875973"
      ]
     },
     "execution_count": 31,
     "metadata": {},
     "output_type": "execute_result"
    }
   ],
   "source": [
    "prediccion1SemanaJunio"
   ]
  },
  {
   "cell_type": "markdown",
   "metadata": {},
   "source": [
    "A partir de los últimos 7 días de Mayo 2019 y utilizando nuestra red neuronal, hicimos el siguiente pronóstico de ventas para la primer semana de Junio."
   ]
  },
  {
   "cell_type": "markdown",
   "metadata": {},
   "source": [
    "Para Probar, alterando parámetros del ejercicio:\n",
    "\n",
    "Variar la cantidad de EPOCHS Probar otro optimizador distinto a Adam, ó configurar valores distintos de Learning Rate. Cambiar la arquitectura de la Red Neuronal: Cambiar la cantidad de Neuronas de la capa oculta. Agregar más capas ocultas Probar utilizando más de 7 días previos para predecir. O probar con menos días. Se puede intentar predecir más de 1 día por vez (sin iterar el resultado como hice con la función agregarNuevoValor() )"
   ]
  },
  {
   "cell_type": "markdown",
   "metadata": {},
   "source": [
    "## Agregamos el resultado en el dataset"
   ]
  },
  {
   "cell_type": "code",
   "execution_count": 32,
   "metadata": {},
   "outputs": [
    {
     "name": "stdout",
     "output_type": "stream",
     "text": [
      "779302.9273149181\n",
      "936096.108928833\n",
      "878934.484192824\n",
      "889822.7584195619\n",
      "906492.0252898199\n",
      "821505.6981742813\n",
      "796457.8759732604\n"
     ]
    },
    {
     "name": "stderr",
     "output_type": "stream",
     "text": [
      "C:\\Users\\hmarq\\Anaconda3\\envs\\Pippo\\lib\\site-packages\\pandas\\core\\indexing.py:202: SettingWithCopyWarning: \n",
      "A value is trying to be set on a copy of a slice from a DataFrame\n",
      "\n",
      "See the caveats in the documentation: http://pandas.pydata.org/pandas-docs/stable/user_guide/indexing.html#returning-a-view-versus-a-copy\n",
      "  self._setitem_with_indexer(indexer, value)\n"
     ]
    },
    {
     "data": {
      "text/html": [
       "<div>\n",
       "<style scoped>\n",
       "    .dataframe tbody tr th:only-of-type {\n",
       "        vertical-align: middle;\n",
       "    }\n",
       "\n",
       "    .dataframe tbody tr th {\n",
       "        vertical-align: top;\n",
       "    }\n",
       "\n",
       "    .dataframe thead th {\n",
       "        text-align: right;\n",
       "    }\n",
       "</style>\n",
       "<table border=\"1\" class=\"dataframe\">\n",
       "  <thead>\n",
       "    <tr style=\"text-align: right;\">\n",
       "      <th></th>\n",
       "      <th>ventas</th>\n",
       "    </tr>\n",
       "    <tr>\n",
       "      <th>fecha</th>\n",
       "      <th></th>\n",
       "    </tr>\n",
       "  </thead>\n",
       "  <tbody>\n",
       "    <tr>\n",
       "      <th>2019-05-25 00:00:00</th>\n",
       "      <td>4.080571e+06</td>\n",
       "    </tr>\n",
       "    <tr>\n",
       "      <th>2019-05-26 00:00:00</th>\n",
       "      <td>4.978849e+06</td>\n",
       "    </tr>\n",
       "    <tr>\n",
       "      <th>2019-05-27 00:00:00</th>\n",
       "      <td>2.392030e+06</td>\n",
       "    </tr>\n",
       "    <tr>\n",
       "      <th>2019-05-28 00:00:00</th>\n",
       "      <td>4.570069e+05</td>\n",
       "    </tr>\n",
       "    <tr>\n",
       "      <th>2019-05-29 00:00:00</th>\n",
       "      <td>1.705447e+06</td>\n",
       "    </tr>\n",
       "    <tr>\n",
       "      <th>2019-05-30 00:00:00</th>\n",
       "      <td>6.193385e+05</td>\n",
       "    </tr>\n",
       "    <tr>\n",
       "      <th>2019-05-31 00:00:00</th>\n",
       "      <td>2.701903e+05</td>\n",
       "    </tr>\n",
       "    <tr>\n",
       "      <th>2019-06-01 00:00:00</th>\n",
       "      <td>7.793029e+05</td>\n",
       "    </tr>\n",
       "    <tr>\n",
       "      <th>2019-06-02 00:00:00</th>\n",
       "      <td>9.360961e+05</td>\n",
       "    </tr>\n",
       "    <tr>\n",
       "      <th>2019-06-03 00:00:00</th>\n",
       "      <td>8.789345e+05</td>\n",
       "    </tr>\n",
       "    <tr>\n",
       "      <th>2019-06-04 00:00:00</th>\n",
       "      <td>8.898228e+05</td>\n",
       "    </tr>\n",
       "    <tr>\n",
       "      <th>2019-06-05 00:00:00</th>\n",
       "      <td>9.064920e+05</td>\n",
       "    </tr>\n",
       "    <tr>\n",
       "      <th>2019-06-06 00:00:00</th>\n",
       "      <td>8.215057e+05</td>\n",
       "    </tr>\n",
       "    <tr>\n",
       "      <th>2019-06-07 00:00:00</th>\n",
       "      <td>7.964579e+05</td>\n",
       "    </tr>\n",
       "  </tbody>\n",
       "</table>\n",
       "</div>"
      ],
      "text/plain": [
       "                           ventas\n",
       "fecha                            \n",
       "2019-05-25 00:00:00  4.080571e+06\n",
       "2019-05-26 00:00:00  4.978849e+06\n",
       "2019-05-27 00:00:00  2.392030e+06\n",
       "2019-05-28 00:00:00  4.570069e+05\n",
       "2019-05-29 00:00:00  1.705447e+06\n",
       "2019-05-30 00:00:00  6.193385e+05\n",
       "2019-05-31 00:00:00  2.701903e+05\n",
       "2019-06-01 00:00:00  7.793029e+05\n",
       "2019-06-02 00:00:00  9.360961e+05\n",
       "2019-06-03 00:00:00  8.789345e+05\n",
       "2019-06-04 00:00:00  8.898228e+05\n",
       "2019-06-05 00:00:00  9.064920e+05\n",
       "2019-06-06 00:00:00  8.215057e+05\n",
       "2019-06-07 00:00:00  7.964579e+05"
      ]
     },
     "execution_count": 32,
     "metadata": {},
     "output_type": "execute_result"
    }
   ],
   "source": [
    "i=0\n",
    "for fila in prediccion1SemanaJunio.pronostico:\n",
    "    i=i+1\n",
    "    ultimosDias.loc['2019-06-0' + str(i) + ' 00:00:00'] = fila\n",
    "    print(fila)\n",
    "ultimosDias.tail(14)"
   ]
  }
 ],
 "metadata": {
  "kernelspec": {
   "display_name": "Python 3",
   "language": "python",
   "name": "python3"
  },
  "language_info": {
   "codemirror_mode": {
    "name": "ipython",
    "version": 3
   },
   "file_extension": ".py",
   "mimetype": "text/x-python",
   "name": "python",
   "nbconvert_exporter": "python",
   "pygments_lexer": "ipython3",
   "version": "3.7.4"
  }
 },
 "nbformat": 4,
 "nbformat_minor": 2
}
