{
 "cells": [
  {
   "cell_type": "markdown",
   "metadata": {},
   "source": [
    "# Limpieza Pippo, armando un unico DataFrame\n"
   ]
  },
  {
   "cell_type": "markdown",
   "metadata": {},
   "source": [
    "## Obtención de los datos y librerías necesarias."
   ]
  },
  {
   "cell_type": "code",
   "execution_count": 1,
   "metadata": {},
   "outputs": [
    {
     "data": {
      "text/plain": [
       "Timestamp('2017-09-01 10:05:00')"
      ]
     },
     "execution_count": 1,
     "metadata": {},
     "output_type": "execute_result"
    }
   ],
   "source": [
    "# Importamos las librerías que usaremos durante la limpieza:\n",
    "import numpy as np\n",
    "import pandas as pd\n",
    "import datetime\n",
    "\n",
    "pd.to_datetime('20170901 100500', format='%Y%m%d %H%M%S')"
   ]
  },
  {
   "cell_type": "code",
   "execution_count": 2,
   "metadata": {
    "scrolled": true
   },
   "outputs": [],
   "source": [
    "# Importamos los dataset\n",
    "df_fac = pd.read_csv('Pippo_fac.csv', dayfirst=True, parse_dates=['OrderDate'])\n",
    "df_dim = pd.read_csv('Pippo_dim.csv', dayfirst=True, parse_dates=['OrderDate', 'TimeStamp', 'LastChange', 'CreationDate'], \\\n",
    "                     low_memory=False)"
   ]
  },
  {
   "cell_type": "markdown",
   "metadata": {},
   "source": [
    "## 1. Relevamiento inicial y diagnóstico del estado del dataset"
   ]
  },
  {
   "cell_type": "code",
   "execution_count": 3,
   "metadata": {
    "scrolled": true
   },
   "outputs": [
    {
     "data": {
      "text/plain": [
       "(558074, 32)"
      ]
     },
     "execution_count": 3,
     "metadata": {},
     "output_type": "execute_result"
    }
   ],
   "source": [
    "# Conocemos cual es el tamaño del dataset\n",
    "df_fac.shape"
   ]
  },
  {
   "cell_type": "code",
   "execution_count": 4,
   "metadata": {},
   "outputs": [
    {
     "data": {
      "text/plain": [
       "(262620, 15)"
      ]
     },
     "execution_count": 4,
     "metadata": {},
     "output_type": "execute_result"
    }
   ],
   "source": [
    "df_dim.shape"
   ]
  },
  {
   "cell_type": "code",
   "execution_count": 5,
   "metadata": {},
   "outputs": [
    {
     "data": {
      "text/plain": [
       "Unnamed: 0                          0\n",
       "State                               0\n",
       "Lng                                 0\n",
       "Lat                                 0\n",
       "Country                             0\n",
       "City                                0\n",
       "AddressType                         0\n",
       "AddressId                           0\n",
       "Street                              0\n",
       "OrderId                             0\n",
       "OrderDate                           0\n",
       "ShippingDataId                      0\n",
       "DocumentType                        0\n",
       "GrossItemAmountDiscount             0\n",
       "Id                                  0\n",
       "ProductId                           0\n",
       "Quantity                            0\n",
       "Name                                0\n",
       "RawItemDiscount                     0\n",
       "Price                               0\n",
       "RefId                               0\n",
       "ListPrice                           0\n",
       "SellerSKU                           0\n",
       "PromoName                           0\n",
       "Documento                           0\n",
       "SelectedAddressPostalCode          12\n",
       "PostalCode                         12\n",
       "Complemet                      409438\n",
       "SelectedAddressComplement      409438\n",
       "SelectedAddressNeighborhood    429123\n",
       "Neighborhood                   429123\n",
       "SelectedAddressReference       556307\n",
       "dtype: int64"
      ]
     },
     "execution_count": 5,
     "metadata": {},
     "output_type": "execute_result"
    }
   ],
   "source": [
    "df_fac.isnull().sum().sort_values()"
   ]
  },
  {
   "cell_type": "code",
   "execution_count": 6,
   "metadata": {},
   "outputs": [
    {
     "data": {
      "text/plain": [
       "Unnamed: 0                    0\n",
       "OrderId                       0\n",
       "MarketPlaceServiceEndpoint    0\n",
       "Status                        0\n",
       "Value                         0\n",
       "CreationDate                  0\n",
       "LastChange                    0\n",
       "HostName                      0\n",
       "TotalOrderGross               0\n",
       "TotalDiscountPrice            0\n",
       "ShippingCost                  0\n",
       "OrderDate                     0\n",
       "Documento                     0\n",
       "DocumentType                  0\n",
       "TimeStamp                     2\n",
       "dtype: int64"
      ]
     },
     "execution_count": 6,
     "metadata": {},
     "output_type": "execute_result"
    }
   ],
   "source": [
    "df_dim.isnull().sum().sort_values()"
   ]
  },
  {
   "cell_type": "code",
   "execution_count": 7,
   "metadata": {
    "scrolled": true
   },
   "outputs": [
    {
     "data": {
      "text/plain": [
       "Index(['Unnamed: 0', 'Id', 'ProductId', 'Quantity', 'Name', 'RefId', 'Price',\n",
       "       'ListPrice', 'SellerSKU', 'PromoName', 'GrossItemAmountDiscount',\n",
       "       'RawItemDiscount', 'ShippingDataId', 'OrderDate', 'OrderId',\n",
       "       'DocumentType', 'AddressId', 'SelectedAddressComplement',\n",
       "       'SelectedAddressNeighborhood', 'SelectedAddressPostalCode',\n",
       "       'SelectedAddressReference', 'AddressType', 'City', 'Complemet',\n",
       "       'Country', 'Lat', 'Lng', 'Neighborhood', 'PostalCode', 'State',\n",
       "       'Street', 'Documento'],\n",
       "      dtype='object')"
      ]
     },
     "execution_count": 7,
     "metadata": {},
     "output_type": "execute_result"
    }
   ],
   "source": [
    "df_fac.columns"
   ]
  },
  {
   "cell_type": "code",
   "execution_count": 8,
   "metadata": {},
   "outputs": [
    {
     "data": {
      "text/plain": [
       "Index(['Unnamed: 0', 'OrderId', 'MarketPlaceServiceEndpoint', 'Status',\n",
       "       'Value', 'CreationDate', 'LastChange', 'HostName', 'TotalOrderGross',\n",
       "       'TotalDiscountPrice', 'ShippingCost', 'TimeStamp', 'OrderDate',\n",
       "       'Documento', 'DocumentType'],\n",
       "      dtype='object')"
      ]
     },
     "execution_count": 8,
     "metadata": {},
     "output_type": "execute_result"
    }
   ],
   "source": [
    "df_dim.columns"
   ]
  },
  {
   "cell_type": "code",
   "execution_count": 9,
   "metadata": {},
   "outputs": [
    {
     "name": "stdout",
     "output_type": "stream",
     "text": [
      "<class 'pandas.core.frame.DataFrame'>\n",
      "RangeIndex: 558074 entries, 0 to 558073\n",
      "Data columns (total 32 columns):\n",
      "Unnamed: 0                     558074 non-null int64\n",
      "Id                             558074 non-null int64\n",
      "ProductId                      558074 non-null int64\n",
      "Quantity                       558074 non-null int64\n",
      "Name                           558074 non-null object\n",
      "RefId                          558074 non-null object\n",
      "Price                          558074 non-null float64\n",
      "ListPrice                      558074 non-null float64\n",
      "SellerSKU                      558074 non-null int64\n",
      "PromoName                      558074 non-null object\n",
      "GrossItemAmountDiscount        558074 non-null float64\n",
      "RawItemDiscount                558074 non-null float64\n",
      "ShippingDataId                 558074 non-null object\n",
      "OrderDate                      558074 non-null datetime64[ns]\n",
      "OrderId                        558074 non-null object\n",
      "DocumentType                   558074 non-null object\n",
      "AddressId                      558074 non-null object\n",
      "SelectedAddressComplement      148636 non-null object\n",
      "SelectedAddressNeighborhood    128951 non-null object\n",
      "SelectedAddressPostalCode      558062 non-null float64\n",
      "SelectedAddressReference       1767 non-null object\n",
      "AddressType                    558074 non-null object\n",
      "City                           558074 non-null object\n",
      "Complemet                      148636 non-null object\n",
      "Country                        558074 non-null object\n",
      "Lat                            558074 non-null float64\n",
      "Lng                            558074 non-null float64\n",
      "Neighborhood                   128951 non-null object\n",
      "PostalCode                     558062 non-null float64\n",
      "State                          558074 non-null object\n",
      "Street                         558074 non-null object\n",
      "Documento                      558074 non-null int64\n",
      "dtypes: datetime64[ns](1), float64(8), int64(6), object(17)\n",
      "memory usage: 136.2+ MB\n"
     ]
    }
   ],
   "source": [
    "df_fac.info()"
   ]
  },
  {
   "cell_type": "code",
   "execution_count": 10,
   "metadata": {},
   "outputs": [
    {
     "name": "stdout",
     "output_type": "stream",
     "text": [
      "<class 'pandas.core.frame.DataFrame'>\n",
      "RangeIndex: 262620 entries, 0 to 262619\n",
      "Data columns (total 15 columns):\n",
      "Unnamed: 0                    262620 non-null int64\n",
      "OrderId                       262620 non-null object\n",
      "MarketPlaceServiceEndpoint    262620 non-null object\n",
      "Status                        262620 non-null object\n",
      "Value                         262620 non-null float64\n",
      "CreationDate                  262620 non-null datetime64[ns, UTC]\n",
      "LastChange                    262620 non-null datetime64[ns, UTC]\n",
      "HostName                      262620 non-null object\n",
      "TotalOrderGross               262620 non-null float64\n",
      "TotalDiscountPrice            262620 non-null float64\n",
      "ShippingCost                  262620 non-null float64\n",
      "TimeStamp                     262618 non-null datetime64[ns]\n",
      "OrderDate                     262620 non-null datetime64[ns]\n",
      "Documento                     262620 non-null int64\n",
      "DocumentType                  262620 non-null object\n",
      "dtypes: datetime64[ns, UTC](2), datetime64[ns](2), float64(4), int64(2), object(5)\n",
      "memory usage: 30.1+ MB\n"
     ]
    }
   ],
   "source": [
    "df_dim.info()"
   ]
  },
  {
   "cell_type": "code",
   "execution_count": 11,
   "metadata": {},
   "outputs": [
    {
     "data": {
      "text/plain": [
       "0"
      ]
     },
     "execution_count": 11,
     "metadata": {},
     "output_type": "execute_result"
    }
   ],
   "source": [
    "# Analisis de registros duplicados (todas las columnas)\n",
    "duplicados = df_fac[df_fac.duplicated(keep='first')]\n",
    "len(duplicados)"
   ]
  },
  {
   "cell_type": "code",
   "execution_count": 12,
   "metadata": {},
   "outputs": [
    {
     "data": {
      "text/plain": [
       "0"
      ]
     },
     "execution_count": 12,
     "metadata": {},
     "output_type": "execute_result"
    }
   ],
   "source": [
    "duplicados = df_dim[df_dim.OrderId.duplicated(keep='first')]\n",
    "len(duplicados)"
   ]
  },
  {
   "cell_type": "code",
   "execution_count": 13,
   "metadata": {},
   "outputs": [
    {
     "data": {
      "text/plain": [
       "DocumentType                        3\n",
       "AddressType                         3\n",
       "Country                             4\n",
       "Quantity                           11\n",
       "State                             129\n",
       "ListPrice                         249\n",
       "Price                             251\n",
       "SelectedAddressReference          348\n",
       "OrderDate                         453\n",
       "Neighborhood                      768\n",
       "SelectedAddressNeighborhood       768\n",
       "City                             2155\n",
       "PostalCode                       2183\n",
       "SelectedAddressPostalCode        2183\n",
       "ProductId                        2361\n",
       "Name                             4054\n",
       "Id                               4198\n",
       "SellerSKU                        4198\n",
       "RefId                            4279\n",
       "SelectedAddressComplement       11522\n",
       "Complemet                       11522\n",
       "GrossItemAmountDiscount         14043\n",
       "Lat                             15273\n",
       "Lng                             15487\n",
       "RawItemDiscount                 23634\n",
       "PromoName                       32615\n",
       "Street                          40869\n",
       "Documento                      159156\n",
       "OrderId                        262620\n",
       "ShippingDataId                 262620\n",
       "AddressId                      262620\n",
       "Unnamed: 0                     558074\n",
       "dtype: int64"
      ]
     },
     "execution_count": 13,
     "metadata": {},
     "output_type": "execute_result"
    }
   ],
   "source": [
    "df_fac.nunique().sort_values(ascending=True)"
   ]
  },
  {
   "cell_type": "code",
   "execution_count": 14,
   "metadata": {
    "scrolled": true
   },
   "outputs": [
    {
     "data": {
      "text/html": [
       "<div>\n",
       "<style scoped>\n",
       "    .dataframe tbody tr th:only-of-type {\n",
       "        vertical-align: middle;\n",
       "    }\n",
       "\n",
       "    .dataframe tbody tr th {\n",
       "        vertical-align: top;\n",
       "    }\n",
       "\n",
       "    .dataframe thead th {\n",
       "        text-align: right;\n",
       "    }\n",
       "</style>\n",
       "<table border=\"1\" class=\"dataframe\">\n",
       "  <thead>\n",
       "    <tr style=\"text-align: right;\">\n",
       "      <th></th>\n",
       "      <th>Unnamed: 0</th>\n",
       "      <th>Id</th>\n",
       "      <th>ProductId</th>\n",
       "      <th>Quantity</th>\n",
       "      <th>Name</th>\n",
       "      <th>RefId</th>\n",
       "      <th>Price</th>\n",
       "      <th>ListPrice</th>\n",
       "      <th>SellerSKU</th>\n",
       "      <th>PromoName</th>\n",
       "      <th>...</th>\n",
       "      <th>City</th>\n",
       "      <th>Complemet</th>\n",
       "      <th>Country</th>\n",
       "      <th>Lat</th>\n",
       "      <th>Lng</th>\n",
       "      <th>Neighborhood</th>\n",
       "      <th>PostalCode</th>\n",
       "      <th>State</th>\n",
       "      <th>Street</th>\n",
       "      <th>Documento</th>\n",
       "    </tr>\n",
       "  </thead>\n",
       "  <tbody>\n",
       "    <tr>\n",
       "      <th>6182</th>\n",
       "      <td>6182</td>\n",
       "      <td>565</td>\n",
       "      <td>386</td>\n",
       "      <td>2</td>\n",
       "      <td>Funda de Almohadón Jean Tres Tiras Color Azul ...</td>\n",
       "      <td>40131B20061%A</td>\n",
       "      <td>169.0</td>\n",
       "      <td>169.0</td>\n",
       "      <td>565</td>\n",
       "      <td>discount@price-4764aebc-5267-47cf-8540-2ac0eac...</td>\n",
       "      <td>...</td>\n",
       "      <td>San Miguel De Tucumán</td>\n",
       "      <td>1 b</td>\n",
       "      <td>ARG</td>\n",
       "      <td>0.000000</td>\n",
       "      <td>0.000000</td>\n",
       "      <td>NaN</td>\n",
       "      <td>4000.0</td>\n",
       "      <td>TUCUMÁN</td>\n",
       "      <td>Virgen de la Merced</td>\n",
       "      <td>931</td>\n",
       "    </tr>\n",
       "    <tr>\n",
       "      <th>168514</th>\n",
       "      <td>168514</td>\n",
       "      <td>1579</td>\n",
       "      <td>919</td>\n",
       "      <td>1</td>\n",
       "      <td>Funda de Almohadón Flor Morris Color Verde Claro</td>\n",
       "      <td>40121E05764%V</td>\n",
       "      <td>299.0</td>\n",
       "      <td>299.0</td>\n",
       "      <td>1579</td>\n",
       "      <td>NoPromo</td>\n",
       "      <td>...</td>\n",
       "      <td>Martínez</td>\n",
       "      <td>NaN</td>\n",
       "      <td>ARG</td>\n",
       "      <td>-34.490271</td>\n",
       "      <td>-58.500412</td>\n",
       "      <td>NaN</td>\n",
       "      <td>1640.0</td>\n",
       "      <td>Buenos Aires</td>\n",
       "      <td>Avenida Santa Fe</td>\n",
       "      <td>33206</td>\n",
       "    </tr>\n",
       "    <tr>\n",
       "      <th>137005</th>\n",
       "      <td>137005</td>\n",
       "      <td>741</td>\n",
       "      <td>460</td>\n",
       "      <td>1</td>\n",
       "      <td>Toalla de Mano Flecos Línea Mandala Color Blanco</td>\n",
       "      <td>31051E76456%H</td>\n",
       "      <td>199.0</td>\n",
       "      <td>199.0</td>\n",
       "      <td>741</td>\n",
       "      <td>NoPromo</td>\n",
       "      <td>...</td>\n",
       "      <td>La Plata</td>\n",
       "      <td>NaN</td>\n",
       "      <td>ARG</td>\n",
       "      <td>0.000000</td>\n",
       "      <td>0.000000</td>\n",
       "      <td>NaN</td>\n",
       "      <td>1900.0</td>\n",
       "      <td>BUENOS AIRES</td>\n",
       "      <td>143</td>\n",
       "      <td>26201</td>\n",
       "    </tr>\n",
       "    <tr>\n",
       "      <th>216575</th>\n",
       "      <td>216575</td>\n",
       "      <td>3335</td>\n",
       "      <td>1859</td>\n",
       "      <td>1</td>\n",
       "      <td>Funda de Almohadón Tejido Flame Color Blanco</td>\n",
       "      <td>40001H21586%U</td>\n",
       "      <td>599.0</td>\n",
       "      <td>599.0</td>\n",
       "      <td>3335</td>\n",
       "      <td>DISCOUNT@MARKETPLACE</td>\n",
       "      <td>...</td>\n",
       "      <td>Martínez</td>\n",
       "      <td>NaN</td>\n",
       "      <td>ARG</td>\n",
       "      <td>-34.490271</td>\n",
       "      <td>-58.500412</td>\n",
       "      <td>NaN</td>\n",
       "      <td>1640.0</td>\n",
       "      <td>Buenos Aires</td>\n",
       "      <td>Avenida Santa Fe</td>\n",
       "      <td>44614</td>\n",
       "    </tr>\n",
       "    <tr>\n",
       "      <th>311651</th>\n",
       "      <td>311651</td>\n",
       "      <td>1651</td>\n",
       "      <td>958</td>\n",
       "      <td>2</td>\n",
       "      <td>Acolchado 1 Plaza Lunar Globos Color Celeste</td>\n",
       "      <td>20021U05992%C</td>\n",
       "      <td>1599.0</td>\n",
       "      <td>1599.0</td>\n",
       "      <td>1651</td>\n",
       "      <td>discount@price-3c708143-8cd3-4614-b7b7-101f20f...</td>\n",
       "      <td>...</td>\n",
       "      <td>Ciudad Autónoma Buenos Aires</td>\n",
       "      <td>2A</td>\n",
       "      <td>ARG</td>\n",
       "      <td>0.000000</td>\n",
       "      <td>0.000000</td>\n",
       "      <td>NaN</td>\n",
       "      <td>1120.0</td>\n",
       "      <td>CIUDAD AUTÓNOMA DE BUENOS AIRES</td>\n",
       "      <td>Córdoba</td>\n",
       "      <td>69838</td>\n",
       "    </tr>\n",
       "  </tbody>\n",
       "</table>\n",
       "<p>5 rows × 32 columns</p>\n",
       "</div>"
      ],
      "text/plain": [
       "        Unnamed: 0    Id  ProductId  Quantity  \\\n",
       "6182          6182   565        386         2   \n",
       "168514      168514  1579        919         1   \n",
       "137005      137005   741        460         1   \n",
       "216575      216575  3335       1859         1   \n",
       "311651      311651  1651        958         2   \n",
       "\n",
       "                                                     Name          RefId  \\\n",
       "6182    Funda de Almohadón Jean Tres Tiras Color Azul ...  40131B20061%A   \n",
       "168514   Funda de Almohadón Flor Morris Color Verde Claro  40121E05764%V   \n",
       "137005   Toalla de Mano Flecos Línea Mandala Color Blanco  31051E76456%H   \n",
       "216575       Funda de Almohadón Tejido Flame Color Blanco  40001H21586%U   \n",
       "311651       Acolchado 1 Plaza Lunar Globos Color Celeste  20021U05992%C   \n",
       "\n",
       "         Price  ListPrice  SellerSKU  \\\n",
       "6182     169.0      169.0        565   \n",
       "168514   299.0      299.0       1579   \n",
       "137005   199.0      199.0        741   \n",
       "216575   599.0      599.0       3335   \n",
       "311651  1599.0     1599.0       1651   \n",
       "\n",
       "                                                PromoName  ...  \\\n",
       "6182    discount@price-4764aebc-5267-47cf-8540-2ac0eac...  ...   \n",
       "168514                                            NoPromo  ...   \n",
       "137005                                            NoPromo  ...   \n",
       "216575                               DISCOUNT@MARKETPLACE  ...   \n",
       "311651  discount@price-3c708143-8cd3-4614-b7b7-101f20f...  ...   \n",
       "\n",
       "                                City  Complemet Country        Lat        Lng  \\\n",
       "6182           San Miguel De Tucumán        1 b     ARG   0.000000   0.000000   \n",
       "168514                      Martínez        NaN     ARG -34.490271 -58.500412   \n",
       "137005                      La Plata        NaN     ARG   0.000000   0.000000   \n",
       "216575                      Martínez        NaN     ARG -34.490271 -58.500412   \n",
       "311651  Ciudad Autónoma Buenos Aires         2A     ARG   0.000000   0.000000   \n",
       "\n",
       "       Neighborhood PostalCode                            State  \\\n",
       "6182            NaN     4000.0                          TUCUMÁN   \n",
       "168514          NaN     1640.0                     Buenos Aires   \n",
       "137005          NaN     1900.0                     BUENOS AIRES   \n",
       "216575          NaN     1640.0                     Buenos Aires   \n",
       "311651          NaN     1120.0  CIUDAD AUTÓNOMA DE BUENOS AIRES   \n",
       "\n",
       "                      Street  Documento  \n",
       "6182    Virgen de la Merced         931  \n",
       "168514      Avenida Santa Fe      33206  \n",
       "137005                   143      26201  \n",
       "216575      Avenida Santa Fe      44614  \n",
       "311651               Córdoba      69838  \n",
       "\n",
       "[5 rows x 32 columns]"
      ]
     },
     "execution_count": 14,
     "metadata": {},
     "output_type": "execute_result"
    }
   ],
   "source": [
    "df_fac.sample(5)"
   ]
  },
  {
   "cell_type": "code",
   "execution_count": 15,
   "metadata": {},
   "outputs": [
    {
     "data": {
      "text/plain": [
       "HostName                           2\n",
       "DocumentType                       3\n",
       "MarketPlaceServiceEndpoint         4\n",
       "Status                            12\n",
       "ShippingCost                      26\n",
       "OrderDate                        453\n",
       "TotalOrderGross                 8628\n",
       "TimeStamp                      22393\n",
       "TotalDiscountPrice             28964\n",
       "Value                          34953\n",
       "Documento                     159156\n",
       "LastChange                    262594\n",
       "Unnamed: 0                    262620\n",
       "OrderId                       262620\n",
       "CreationDate                  262620\n",
       "dtype: int64"
      ]
     },
     "execution_count": 15,
     "metadata": {},
     "output_type": "execute_result"
    }
   ],
   "source": [
    "df_dim.nunique().sort_values(ascending=True)"
   ]
  },
  {
   "cell_type": "code",
   "execution_count": 16,
   "metadata": {},
   "outputs": [
    {
     "data": {
      "text/html": [
       "<div>\n",
       "<style scoped>\n",
       "    .dataframe tbody tr th:only-of-type {\n",
       "        vertical-align: middle;\n",
       "    }\n",
       "\n",
       "    .dataframe tbody tr th {\n",
       "        vertical-align: top;\n",
       "    }\n",
       "\n",
       "    .dataframe thead th {\n",
       "        text-align: right;\n",
       "    }\n",
       "</style>\n",
       "<table border=\"1\" class=\"dataframe\">\n",
       "  <thead>\n",
       "    <tr style=\"text-align: right;\">\n",
       "      <th></th>\n",
       "      <th>Unnamed: 0</th>\n",
       "      <th>OrderId</th>\n",
       "      <th>MarketPlaceServiceEndpoint</th>\n",
       "      <th>Status</th>\n",
       "      <th>Value</th>\n",
       "      <th>CreationDate</th>\n",
       "      <th>LastChange</th>\n",
       "      <th>HostName</th>\n",
       "      <th>TotalOrderGross</th>\n",
       "      <th>TotalDiscountPrice</th>\n",
       "      <th>ShippingCost</th>\n",
       "      <th>TimeStamp</th>\n",
       "      <th>OrderDate</th>\n",
       "      <th>Documento</th>\n",
       "      <th>DocumentType</th>\n",
       "    </tr>\n",
       "  </thead>\n",
       "  <tbody>\n",
       "    <tr>\n",
       "      <th>175932</th>\n",
       "      <td>377444</td>\n",
       "      <td>832421899048-01</td>\n",
       "      <td>portal_Pippo</td>\n",
       "      <td>invoiced</td>\n",
       "      <td>1139.05</td>\n",
       "      <td>2018-05-16 01:32:04.505740+00:00</td>\n",
       "      <td>2018-05-19 00:36:41.999705+00:00</td>\n",
       "      <td>Pippo</td>\n",
       "      <td>2398.0</td>\n",
       "      <td>-1258.95</td>\n",
       "      <td>0.0</td>\n",
       "      <td>2019-01-04 11:54:42.383</td>\n",
       "      <td>2018-05-16</td>\n",
       "      <td>67151</td>\n",
       "      <td>dni1</td>\n",
       "    </tr>\n",
       "    <tr>\n",
       "      <th>259466</th>\n",
       "      <td>551435</td>\n",
       "      <td>870093123844-01</td>\n",
       "      <td>portal_Pippo</td>\n",
       "      <td>invoiced</td>\n",
       "      <td>1599.00</td>\n",
       "      <td>2018-10-20 00:51:56.670488+00:00</td>\n",
       "      <td>2018-10-24 00:22:31.564313+00:00</td>\n",
       "      <td>Pippo</td>\n",
       "      <td>3198.0</td>\n",
       "      <td>-1599.00</td>\n",
       "      <td>0.0</td>\n",
       "      <td>2019-01-04 11:56:31.083</td>\n",
       "      <td>2018-10-20</td>\n",
       "      <td>2628</td>\n",
       "      <td>dni1</td>\n",
       "    </tr>\n",
       "    <tr>\n",
       "      <th>177220</th>\n",
       "      <td>380366</td>\n",
       "      <td>832531798143-01</td>\n",
       "      <td>portal_Pippo</td>\n",
       "      <td>invoiced</td>\n",
       "      <td>1999.00</td>\n",
       "      <td>2018-05-16 13:30:53.989015+00:00</td>\n",
       "      <td>2018-05-20 21:14:07.223581+00:00</td>\n",
       "      <td>Pippo</td>\n",
       "      <td>3998.0</td>\n",
       "      <td>-1999.00</td>\n",
       "      <td>0.0</td>\n",
       "      <td>2019-01-04 11:54:44.400</td>\n",
       "      <td>2018-05-16</td>\n",
       "      <td>152929</td>\n",
       "      <td>dni1</td>\n",
       "    </tr>\n",
       "    <tr>\n",
       "      <th>91857</th>\n",
       "      <td>195587</td>\n",
       "      <td>913211444029-01</td>\n",
       "      <td>oms_Pippo_uy</td>\n",
       "      <td>invoiced</td>\n",
       "      <td>367.50</td>\n",
       "      <td>2019-02-25 01:23:57.579448+00:00</td>\n",
       "      <td>2019-02-25 01:41:18.623706+00:00</td>\n",
       "      <td>Pippo_uy</td>\n",
       "      <td>1490.0</td>\n",
       "      <td>-1122.50</td>\n",
       "      <td>0.0</td>\n",
       "      <td>2019-02-25 00:06:32.110</td>\n",
       "      <td>2019-02-25</td>\n",
       "      <td>1102</td>\n",
       "      <td>dni3</td>\n",
       "    </tr>\n",
       "    <tr>\n",
       "      <th>106022</th>\n",
       "      <td>227347</td>\n",
       "      <td>932353249613-01</td>\n",
       "      <td>oms_Pippo</td>\n",
       "      <td>invoiced</td>\n",
       "      <td>3597.00</td>\n",
       "      <td>2019-05-15 18:54:08.621837+00:00</td>\n",
       "      <td>2019-05-15 18:55:49.214004+00:00</td>\n",
       "      <td>Pippo</td>\n",
       "      <td>6496.0</td>\n",
       "      <td>-3248.00</td>\n",
       "      <td>349.0</td>\n",
       "      <td>2019-05-15 15:57:04.543</td>\n",
       "      <td>2019-05-15</td>\n",
       "      <td>3240</td>\n",
       "      <td>dni1</td>\n",
       "    </tr>\n",
       "  </tbody>\n",
       "</table>\n",
       "</div>"
      ],
      "text/plain": [
       "        Unnamed: 0          OrderId MarketPlaceServiceEndpoint    Status  \\\n",
       "175932      377444  832421899048-01               portal_Pippo  invoiced   \n",
       "259466      551435  870093123844-01               portal_Pippo  invoiced   \n",
       "177220      380366  832531798143-01               portal_Pippo  invoiced   \n",
       "91857       195587  913211444029-01               oms_Pippo_uy  invoiced   \n",
       "106022      227347  932353249613-01                  oms_Pippo  invoiced   \n",
       "\n",
       "          Value                     CreationDate  \\\n",
       "175932  1139.05 2018-05-16 01:32:04.505740+00:00   \n",
       "259466  1599.00 2018-10-20 00:51:56.670488+00:00   \n",
       "177220  1999.00 2018-05-16 13:30:53.989015+00:00   \n",
       "91857    367.50 2019-02-25 01:23:57.579448+00:00   \n",
       "106022  3597.00 2019-05-15 18:54:08.621837+00:00   \n",
       "\n",
       "                             LastChange  HostName  TotalOrderGross  \\\n",
       "175932 2018-05-19 00:36:41.999705+00:00     Pippo           2398.0   \n",
       "259466 2018-10-24 00:22:31.564313+00:00     Pippo           3198.0   \n",
       "177220 2018-05-20 21:14:07.223581+00:00     Pippo           3998.0   \n",
       "91857  2019-02-25 01:41:18.623706+00:00  Pippo_uy           1490.0   \n",
       "106022 2019-05-15 18:55:49.214004+00:00     Pippo           6496.0   \n",
       "\n",
       "        TotalDiscountPrice  ShippingCost               TimeStamp  OrderDate  \\\n",
       "175932            -1258.95           0.0 2019-01-04 11:54:42.383 2018-05-16   \n",
       "259466            -1599.00           0.0 2019-01-04 11:56:31.083 2018-10-20   \n",
       "177220            -1999.00           0.0 2019-01-04 11:54:44.400 2018-05-16   \n",
       "91857             -1122.50           0.0 2019-02-25 00:06:32.110 2019-02-25   \n",
       "106022            -3248.00         349.0 2019-05-15 15:57:04.543 2019-05-15   \n",
       "\n",
       "        Documento DocumentType  \n",
       "175932      67151         dni1  \n",
       "259466       2628         dni1  \n",
       "177220     152929         dni1  \n",
       "91857        1102         dni3  \n",
       "106022       3240         dni1  "
      ]
     },
     "execution_count": 16,
     "metadata": {},
     "output_type": "execute_result"
    }
   ],
   "source": [
    "df_dim.sample(5)"
   ]
  },
  {
   "cell_type": "markdown",
   "metadata": {},
   "source": [
    "## Vamos a juntar a las tablas y reducirlas en lo posible"
   ]
  },
  {
   "cell_type": "code",
   "execution_count": 17,
   "metadata": {},
   "outputs": [],
   "source": [
    "df = pd.merge(df_fac, df_dim, on='OrderId')"
   ]
  },
  {
   "cell_type": "code",
   "execution_count": 18,
   "metadata": {},
   "outputs": [
    {
     "data": {
      "text/plain": [
       "(558074, 46)"
      ]
     },
     "execution_count": 18,
     "metadata": {},
     "output_type": "execute_result"
    }
   ],
   "source": [
    "df.shape"
   ]
  },
  {
   "cell_type": "code",
   "execution_count": 19,
   "metadata": {},
   "outputs": [],
   "source": [
    "df = df.drop_duplicates()"
   ]
  },
  {
   "cell_type": "code",
   "execution_count": 20,
   "metadata": {},
   "outputs": [
    {
     "data": {
      "text/plain": [
       "(558074, 46)"
      ]
     },
     "execution_count": 20,
     "metadata": {},
     "output_type": "execute_result"
    }
   ],
   "source": [
    "df.shape"
   ]
  },
  {
   "cell_type": "code",
   "execution_count": 21,
   "metadata": {},
   "outputs": [
    {
     "name": "stdout",
     "output_type": "stream",
     "text": [
      "<class 'pandas.core.frame.DataFrame'>\n",
      "Int64Index: 558074 entries, 0 to 558073\n",
      "Data columns (total 46 columns):\n",
      "Unnamed: 0_x                   558074 non-null int64\n",
      "Id                             558074 non-null int64\n",
      "ProductId                      558074 non-null int64\n",
      "Quantity                       558074 non-null int64\n",
      "Name                           558074 non-null object\n",
      "RefId                          558074 non-null object\n",
      "Price                          558074 non-null float64\n",
      "ListPrice                      558074 non-null float64\n",
      "SellerSKU                      558074 non-null int64\n",
      "PromoName                      558074 non-null object\n",
      "GrossItemAmountDiscount        558074 non-null float64\n",
      "RawItemDiscount                558074 non-null float64\n",
      "ShippingDataId                 558074 non-null object\n",
      "OrderDate_x                    558074 non-null datetime64[ns]\n",
      "OrderId                        558074 non-null object\n",
      "DocumentType_x                 558074 non-null object\n",
      "AddressId                      558074 non-null object\n",
      "SelectedAddressComplement      148636 non-null object\n",
      "SelectedAddressNeighborhood    128951 non-null object\n",
      "SelectedAddressPostalCode      558062 non-null float64\n",
      "SelectedAddressReference       1767 non-null object\n",
      "AddressType                    558074 non-null object\n",
      "City                           558074 non-null object\n",
      "Complemet                      148636 non-null object\n",
      "Country                        558074 non-null object\n",
      "Lat                            558074 non-null float64\n",
      "Lng                            558074 non-null float64\n",
      "Neighborhood                   128951 non-null object\n",
      "PostalCode                     558062 non-null float64\n",
      "State                          558074 non-null object\n",
      "Street                         558074 non-null object\n",
      "Documento_x                    558074 non-null int64\n",
      "Unnamed: 0_y                   558074 non-null int64\n",
      "MarketPlaceServiceEndpoint     558074 non-null object\n",
      "Status                         558074 non-null object\n",
      "Value                          558074 non-null float64\n",
      "CreationDate                   558074 non-null datetime64[ns, UTC]\n",
      "LastChange                     558074 non-null datetime64[ns, UTC]\n",
      "HostName                       558074 non-null object\n",
      "TotalOrderGross                558074 non-null float64\n",
      "TotalDiscountPrice             558074 non-null float64\n",
      "ShippingCost                   558074 non-null float64\n",
      "TimeStamp                      558071 non-null datetime64[ns]\n",
      "OrderDate_y                    558074 non-null datetime64[ns]\n",
      "Documento_y                    558074 non-null int64\n",
      "DocumentType_y                 558074 non-null object\n",
      "dtypes: datetime64[ns, UTC](2), datetime64[ns](3), float64(12), int64(8), object(21)\n",
      "memory usage: 200.1+ MB\n"
     ]
    }
   ],
   "source": [
    "df.info()"
   ]
  },
  {
   "cell_type": "markdown",
   "metadata": {},
   "source": [
    "## Vamos a trabajar solo con los estados invoiced para este analisis. \n",
    "\n",
    "Con lo cual dropeamos el resto"
   ]
  },
  {
   "cell_type": "code",
   "execution_count": 22,
   "metadata": {},
   "outputs": [
    {
     "data": {
      "text/plain": [
       "21876"
      ]
     },
     "execution_count": 22,
     "metadata": {},
     "output_type": "execute_result"
    }
   ],
   "source": [
    "a = df.Status != 'invoiced'\n",
    "a.sum()"
   ]
  },
  {
   "cell_type": "code",
   "execution_count": 23,
   "metadata": {},
   "outputs": [],
   "source": [
    "df.drop(df.loc[a].index, inplace=True)"
   ]
  },
  {
   "cell_type": "code",
   "execution_count": 24,
   "metadata": {},
   "outputs": [
    {
     "data": {
      "text/plain": [
       "(536198, 46)"
      ]
     },
     "execution_count": 24,
     "metadata": {},
     "output_type": "execute_result"
    }
   ],
   "source": [
    "df.shape"
   ]
  },
  {
   "cell_type": "markdown",
   "metadata": {},
   "source": [
    "## Analizamos el campo 'Value', hay ceros. \n",
    "Por lo hablado con la gente de la empresa son devoluciones o cambios sin costo, con lo que no usaremos para el analisis y dropeamos."
   ]
  },
  {
   "cell_type": "code",
   "execution_count": 25,
   "metadata": {},
   "outputs": [
    {
     "data": {
      "text/plain": [
       "7701"
      ]
     },
     "execution_count": 25,
     "metadata": {},
     "output_type": "execute_result"
    }
   ],
   "source": [
    "a = df.Value == 0\n",
    "a.sum()"
   ]
  },
  {
   "cell_type": "code",
   "execution_count": 26,
   "metadata": {},
   "outputs": [],
   "source": [
    "df.drop(df.loc[a].index, inplace=True)"
   ]
  },
  {
   "cell_type": "code",
   "execution_count": 27,
   "metadata": {},
   "outputs": [
    {
     "data": {
      "text/plain": [
       "(528497, 46)"
      ]
     },
     "execution_count": 27,
     "metadata": {},
     "output_type": "execute_result"
    }
   ],
   "source": [
    "df.shape"
   ]
  },
  {
   "cell_type": "markdown",
   "metadata": {},
   "source": [
    "## Al juntar las bases pueden surgir otras columnas con datos iguales"
   ]
  },
  {
   "cell_type": "code",
   "execution_count": 28,
   "metadata": {},
   "outputs": [
    {
     "data": {
      "text/plain": [
       "True"
      ]
     },
     "execution_count": 28,
     "metadata": {},
     "output_type": "execute_result"
    }
   ],
   "source": [
    "a = df['DocumentType_x']\n",
    "b = df['DocumentType_y']\n",
    "c = a == b\n",
    "c.all()"
   ]
  },
  {
   "cell_type": "code",
   "execution_count": 29,
   "metadata": {},
   "outputs": [],
   "source": [
    "# borrare los 'Unnamed: 0' porque refleja el index de la viejas df fac y dim"
   ]
  },
  {
   "cell_type": "code",
   "execution_count": 30,
   "metadata": {},
   "outputs": [
    {
     "data": {
      "text/plain": [
       "True"
      ]
     },
     "execution_count": 30,
     "metadata": {},
     "output_type": "execute_result"
    }
   ],
   "source": [
    "a = df['OrderDate_x']\n",
    "b = df['OrderDate_y']\n",
    "c = a == b\n",
    "c.all()"
   ]
  },
  {
   "cell_type": "code",
   "execution_count": 31,
   "metadata": {},
   "outputs": [],
   "source": [
    "# borrare la 'OrderDate_x' porque refleja la carga de la vieja df_fac en la orden, pero la 'y', es cuando factura"
   ]
  },
  {
   "cell_type": "code",
   "execution_count": 32,
   "metadata": {},
   "outputs": [
    {
     "data": {
      "text/plain": [
       "True"
      ]
     },
     "execution_count": 32,
     "metadata": {},
     "output_type": "execute_result"
    }
   ],
   "source": [
    "a = df['Documento_x']\n",
    "b = df['Documento_y']\n",
    "c = a == b\n",
    "c.all()"
   ]
  },
  {
   "cell_type": "code",
   "execution_count": 33,
   "metadata": {},
   "outputs": [
    {
     "data": {
      "text/plain": [
       "True"
      ]
     },
     "execution_count": 33,
     "metadata": {},
     "output_type": "execute_result"
    }
   ],
   "source": [
    "a = df['Id']\n",
    "b = df['SellerSKU']\n",
    "c = a == b\n",
    "c.all()"
   ]
  },
  {
   "cell_type": "code",
   "execution_count": 34,
   "metadata": {},
   "outputs": [
    {
     "data": {
      "text/html": [
       "<div>\n",
       "<style scoped>\n",
       "    .dataframe tbody tr th:only-of-type {\n",
       "        vertical-align: middle;\n",
       "    }\n",
       "\n",
       "    .dataframe tbody tr th {\n",
       "        vertical-align: top;\n",
       "    }\n",
       "\n",
       "    .dataframe thead th {\n",
       "        text-align: right;\n",
       "    }\n",
       "</style>\n",
       "<table border=\"1\" class=\"dataframe\">\n",
       "  <thead>\n",
       "    <tr style=\"text-align: right;\">\n",
       "      <th></th>\n",
       "      <th>Unnamed: 0_x</th>\n",
       "      <th>Id</th>\n",
       "      <th>ProductId</th>\n",
       "      <th>Quantity</th>\n",
       "      <th>Name</th>\n",
       "      <th>RefId</th>\n",
       "      <th>Price</th>\n",
       "      <th>ListPrice</th>\n",
       "      <th>SellerSKU</th>\n",
       "      <th>PromoName</th>\n",
       "      <th>...</th>\n",
       "      <th>CreationDate</th>\n",
       "      <th>LastChange</th>\n",
       "      <th>HostName</th>\n",
       "      <th>TotalOrderGross</th>\n",
       "      <th>TotalDiscountPrice</th>\n",
       "      <th>ShippingCost</th>\n",
       "      <th>TimeStamp</th>\n",
       "      <th>OrderDate_y</th>\n",
       "      <th>Documento_y</th>\n",
       "      <th>DocumentType_y</th>\n",
       "    </tr>\n",
       "  </thead>\n",
       "  <tbody>\n",
       "    <tr>\n",
       "      <th>73928</th>\n",
       "      <td>73928</td>\n",
       "      <td>3040</td>\n",
       "      <td>1659</td>\n",
       "      <td>2</td>\n",
       "      <td>Funda de Almohadón Patch Rayado Color Gris Claro</td>\n",
       "      <td>40001L60932%G</td>\n",
       "      <td>699.0</td>\n",
       "      <td>699.0</td>\n",
       "      <td>3040</td>\n",
       "      <td>DISCOUNT@MARKETPLACE</td>\n",
       "      <td>...</td>\n",
       "      <td>2019-08-02 14:10:13.499541+00:00</td>\n",
       "      <td>2019-08-02 14:15:09.681096+00:00</td>\n",
       "      <td>Pippo</td>\n",
       "      <td>5996.0</td>\n",
       "      <td>-3699.0</td>\n",
       "      <td>0.0</td>\n",
       "      <td>2019-02-08 11:36:07.190</td>\n",
       "      <td>2019-02-08</td>\n",
       "      <td>13305</td>\n",
       "      <td>dni1</td>\n",
       "    </tr>\n",
       "  </tbody>\n",
       "</table>\n",
       "<p>1 rows × 46 columns</p>\n",
       "</div>"
      ],
      "text/plain": [
       "       Unnamed: 0_x    Id  ProductId  Quantity  \\\n",
       "73928         73928  3040       1659         2   \n",
       "\n",
       "                                                   Name          RefId  Price  \\\n",
       "73928  Funda de Almohadón Patch Rayado Color Gris Claro  40001L60932%G  699.0   \n",
       "\n",
       "       ListPrice  SellerSKU             PromoName  ...  \\\n",
       "73928      699.0       3040  DISCOUNT@MARKETPLACE  ...   \n",
       "\n",
       "                          CreationDate                       LastChange  \\\n",
       "73928 2019-08-02 14:10:13.499541+00:00 2019-08-02 14:15:09.681096+00:00   \n",
       "\n",
       "      HostName TotalOrderGross TotalDiscountPrice ShippingCost  \\\n",
       "73928    Pippo          5996.0            -3699.0          0.0   \n",
       "\n",
       "                    TimeStamp OrderDate_y Documento_y  DocumentType_y  \n",
       "73928 2019-02-08 11:36:07.190  2019-02-08       13305            dni1  \n",
       "\n",
       "[1 rows x 46 columns]"
      ]
     },
     "execution_count": 34,
     "metadata": {},
     "output_type": "execute_result"
    }
   ],
   "source": [
    "df.sample()"
   ]
  },
  {
   "cell_type": "code",
   "execution_count": 35,
   "metadata": {},
   "outputs": [],
   "source": [
    "df.drop(['DocumentType_y', 'Documento_y', 'Unnamed: 0_x', 'Unnamed: 0_y', 'OrderDate_x', 'SellerSKU'],\\\n",
    "            axis=1, inplace=True)"
   ]
  },
  {
   "cell_type": "code",
   "execution_count": 36,
   "metadata": {},
   "outputs": [],
   "source": [
    "df.rename(columns={'DocumentType_x': 'DocumentType', 'Documento_x': 'Documento', 'OrderDate_y': 'OrderDate'}, inplace=True)"
   ]
  },
  {
   "cell_type": "code",
   "execution_count": 37,
   "metadata": {},
   "outputs": [
    {
     "data": {
      "text/plain": [
       "(528497, 40)"
      ]
     },
     "execution_count": 37,
     "metadata": {},
     "output_type": "execute_result"
    }
   ],
   "source": [
    "df.shape"
   ]
  },
  {
   "cell_type": "code",
   "execution_count": 38,
   "metadata": {},
   "outputs": [
    {
     "name": "stdout",
     "output_type": "stream",
     "text": [
      "<class 'pandas.core.frame.DataFrame'>\n",
      "Int64Index: 528497 entries, 0 to 558073\n",
      "Data columns (total 40 columns):\n",
      "Id                             528497 non-null int64\n",
      "ProductId                      528497 non-null int64\n",
      "Quantity                       528497 non-null int64\n",
      "Name                           528497 non-null object\n",
      "RefId                          528497 non-null object\n",
      "Price                          528497 non-null float64\n",
      "ListPrice                      528497 non-null float64\n",
      "PromoName                      528497 non-null object\n",
      "GrossItemAmountDiscount        528497 non-null float64\n",
      "RawItemDiscount                528497 non-null float64\n",
      "ShippingDataId                 528497 non-null object\n",
      "OrderId                        528497 non-null object\n",
      "DocumentType                   528497 non-null object\n",
      "AddressId                      528497 non-null object\n",
      "SelectedAddressComplement      140832 non-null object\n",
      "SelectedAddressNeighborhood    122571 non-null object\n",
      "SelectedAddressPostalCode      528485 non-null float64\n",
      "SelectedAddressReference       1556 non-null object\n",
      "AddressType                    528497 non-null object\n",
      "City                           528497 non-null object\n",
      "Complemet                      140832 non-null object\n",
      "Country                        528497 non-null object\n",
      "Lat                            528497 non-null float64\n",
      "Lng                            528497 non-null float64\n",
      "Neighborhood                   122571 non-null object\n",
      "PostalCode                     528485 non-null float64\n",
      "State                          528497 non-null object\n",
      "Street                         528497 non-null object\n",
      "Documento                      528497 non-null int64\n",
      "MarketPlaceServiceEndpoint     528497 non-null object\n",
      "Status                         528497 non-null object\n",
      "Value                          528497 non-null float64\n",
      "CreationDate                   528497 non-null datetime64[ns, UTC]\n",
      "LastChange                     528497 non-null datetime64[ns, UTC]\n",
      "HostName                       528497 non-null object\n",
      "TotalOrderGross                528497 non-null float64\n",
      "TotalDiscountPrice             528497 non-null float64\n",
      "ShippingCost                   528497 non-null float64\n",
      "TimeStamp                      528494 non-null datetime64[ns]\n",
      "OrderDate                      528497 non-null datetime64[ns]\n",
      "dtypes: datetime64[ns, UTC](2), datetime64[ns](2), float64(12), int64(4), object(20)\n",
      "memory usage: 165.3+ MB\n"
     ]
    }
   ],
   "source": [
    "df.info()"
   ]
  },
  {
   "cell_type": "code",
   "execution_count": 39,
   "metadata": {},
   "outputs": [
    {
     "data": {
      "text/plain": [
       "Index(['Id', 'ProductId', 'Quantity', 'Name', 'RefId', 'Price', 'ListPrice',\n",
       "       'PromoName', 'GrossItemAmountDiscount', 'RawItemDiscount',\n",
       "       'ShippingDataId', 'OrderId', 'DocumentType', 'AddressId',\n",
       "       'SelectedAddressComplement', 'SelectedAddressNeighborhood',\n",
       "       'SelectedAddressPostalCode', 'SelectedAddressReference', 'AddressType',\n",
       "       'City', 'Complemet', 'Country', 'Lat', 'Lng', 'Neighborhood',\n",
       "       'PostalCode', 'State', 'Street', 'Documento',\n",
       "       'MarketPlaceServiceEndpoint', 'Status', 'Value', 'CreationDate',\n",
       "       'LastChange', 'HostName', 'TotalOrderGross', 'TotalDiscountPrice',\n",
       "       'ShippingCost', 'TimeStamp', 'OrderDate'],\n",
       "      dtype='object')"
      ]
     },
     "execution_count": 39,
     "metadata": {},
     "output_type": "execute_result"
    }
   ],
   "source": [
    "df.columns"
   ]
  },
  {
   "cell_type": "markdown",
   "metadata": {},
   "source": [
    "## Chequeamos mas columnas y reordenamos agrupando, para entender mejor los datos\n",
    "\n",
    "'RefId' es una referencia codificada del producto\n",
    "'ShippingDataId' es una referencia interna\n",
    "'Status' lo dejamos con un unico valor de invoiced\n",
    "'AddressId' es una referencia codificada\n",
    "'MarketPlaceServiceEndpoint' solo refiere a 2 canales de llegada, ambos del e-comerce, no implementado aun otro de comparacion\n",
    "'CreationDate', 'LastChange' y 'TimeStamp' realizamos prueba de chequeo y reducimos si no aportan diferencias significativas."
   ]
  },
  {
   "cell_type": "code",
   "execution_count": 40,
   "metadata": {},
   "outputs": [
    {
     "data": {
      "text/html": [
       "<div>\n",
       "<style scoped>\n",
       "    .dataframe tbody tr th:only-of-type {\n",
       "        vertical-align: middle;\n",
       "    }\n",
       "\n",
       "    .dataframe tbody tr th {\n",
       "        vertical-align: top;\n",
       "    }\n",
       "\n",
       "    .dataframe thead th {\n",
       "        text-align: right;\n",
       "    }\n",
       "</style>\n",
       "<table border=\"1\" class=\"dataframe\">\n",
       "  <thead>\n",
       "    <tr style=\"text-align: right;\">\n",
       "      <th></th>\n",
       "      <th>Id</th>\n",
       "      <th>ProductId</th>\n",
       "      <th>Quantity</th>\n",
       "      <th>Name</th>\n",
       "      <th>RefId</th>\n",
       "      <th>Price</th>\n",
       "      <th>ListPrice</th>\n",
       "      <th>PromoName</th>\n",
       "      <th>GrossItemAmountDiscount</th>\n",
       "      <th>RawItemDiscount</th>\n",
       "      <th>...</th>\n",
       "      <th>Status</th>\n",
       "      <th>Value</th>\n",
       "      <th>CreationDate</th>\n",
       "      <th>LastChange</th>\n",
       "      <th>HostName</th>\n",
       "      <th>TotalOrderGross</th>\n",
       "      <th>TotalDiscountPrice</th>\n",
       "      <th>ShippingCost</th>\n",
       "      <th>TimeStamp</th>\n",
       "      <th>OrderDate</th>\n",
       "    </tr>\n",
       "  </thead>\n",
       "  <tbody>\n",
       "    <tr>\n",
       "      <th>88307</th>\n",
       "      <td>2446</td>\n",
       "      <td>1342</td>\n",
       "      <td>1</td>\n",
       "      <td>Juego de Sábanas 1 Plaza Manchas Color Blanco</td>\n",
       "      <td>10033U05895%H</td>\n",
       "      <td>1690.0</td>\n",
       "      <td>1690.0</td>\n",
       "      <td>DISCOUNT@MARKETPLACE</td>\n",
       "      <td>-800.0</td>\n",
       "      <td>-800.0</td>\n",
       "      <td>...</td>\n",
       "      <td>invoiced</td>\n",
       "      <td>1780.0</td>\n",
       "      <td>2019-11-01 12:00:17.842860+00:00</td>\n",
       "      <td>2019-11-01 12:05:06.241976+00:00</td>\n",
       "      <td>Pippo_uy</td>\n",
       "      <td>3380.0</td>\n",
       "      <td>-1600.0</td>\n",
       "      <td>0.0</td>\n",
       "      <td>NaT</td>\n",
       "      <td>2019-01-11</td>\n",
       "    </tr>\n",
       "    <tr>\n",
       "      <th>88308</th>\n",
       "      <td>3452</td>\n",
       "      <td>1912</td>\n",
       "      <td>1</td>\n",
       "      <td>Juego de Sábanas 1 Plaza Estrella Cálida Color...</td>\n",
       "      <td>10033U05885%AR</td>\n",
       "      <td>1690.0</td>\n",
       "      <td>1690.0</td>\n",
       "      <td>DISCOUNT@MARKETPLACE</td>\n",
       "      <td>-800.0</td>\n",
       "      <td>-800.0</td>\n",
       "      <td>...</td>\n",
       "      <td>invoiced</td>\n",
       "      <td>1780.0</td>\n",
       "      <td>2019-11-01 12:00:17.842860+00:00</td>\n",
       "      <td>2019-11-01 12:05:06.241976+00:00</td>\n",
       "      <td>Pippo_uy</td>\n",
       "      <td>3380.0</td>\n",
       "      <td>-1600.0</td>\n",
       "      <td>0.0</td>\n",
       "      <td>NaT</td>\n",
       "      <td>2019-01-11</td>\n",
       "    </tr>\n",
       "    <tr>\n",
       "      <th>433130</th>\n",
       "      <td>2926</td>\n",
       "      <td>1589</td>\n",
       "      <td>1</td>\n",
       "      <td>Juego de Sábanas Extra Queen Size Laurel Color...</td>\n",
       "      <td>10034X16060%WV</td>\n",
       "      <td>2699.0</td>\n",
       "      <td>2699.0</td>\n",
       "      <td>DISCOUNT@MARKETPLACE</td>\n",
       "      <td>-900.0</td>\n",
       "      <td>-900.0</td>\n",
       "      <td>...</td>\n",
       "      <td>invoiced</td>\n",
       "      <td>1799.0</td>\n",
       "      <td>2019-11-01 11:59:58.045538+00:00</td>\n",
       "      <td>2019-11-01 12:03:07.408221+00:00</td>\n",
       "      <td>Pippo</td>\n",
       "      <td>2699.0</td>\n",
       "      <td>-900.0</td>\n",
       "      <td>0.0</td>\n",
       "      <td>NaT</td>\n",
       "      <td>2019-01-11</td>\n",
       "    </tr>\n",
       "  </tbody>\n",
       "</table>\n",
       "<p>3 rows × 40 columns</p>\n",
       "</div>"
      ],
      "text/plain": [
       "          Id  ProductId  Quantity  \\\n",
       "88307   2446       1342         1   \n",
       "88308   3452       1912         1   \n",
       "433130  2926       1589         1   \n",
       "\n",
       "                                                     Name           RefId  \\\n",
       "88307       Juego de Sábanas 1 Plaza Manchas Color Blanco   10033U05895%H   \n",
       "88308   Juego de Sábanas 1 Plaza Estrella Cálida Color...  10033U05885%AR   \n",
       "433130  Juego de Sábanas Extra Queen Size Laurel Color...  10034X16060%WV   \n",
       "\n",
       "         Price  ListPrice             PromoName  GrossItemAmountDiscount  \\\n",
       "88307   1690.0     1690.0  DISCOUNT@MARKETPLACE                   -800.0   \n",
       "88308   1690.0     1690.0  DISCOUNT@MARKETPLACE                   -800.0   \n",
       "433130  2699.0     2699.0  DISCOUNT@MARKETPLACE                   -900.0   \n",
       "\n",
       "        RawItemDiscount  ...    Status   Value  \\\n",
       "88307            -800.0  ...  invoiced  1780.0   \n",
       "88308            -800.0  ...  invoiced  1780.0   \n",
       "433130           -900.0  ...  invoiced  1799.0   \n",
       "\n",
       "                           CreationDate                       LastChange  \\\n",
       "88307  2019-11-01 12:00:17.842860+00:00 2019-11-01 12:05:06.241976+00:00   \n",
       "88308  2019-11-01 12:00:17.842860+00:00 2019-11-01 12:05:06.241976+00:00   \n",
       "433130 2019-11-01 11:59:58.045538+00:00 2019-11-01 12:03:07.408221+00:00   \n",
       "\n",
       "        HostName TotalOrderGross  TotalDiscountPrice ShippingCost TimeStamp  \\\n",
       "88307   Pippo_uy          3380.0             -1600.0          0.0       NaT   \n",
       "88308   Pippo_uy          3380.0             -1600.0          0.0       NaT   \n",
       "433130     Pippo          2699.0              -900.0          0.0       NaT   \n",
       "\n",
       "        OrderDate  \n",
       "88307  2019-01-11  \n",
       "88308  2019-01-11  \n",
       "433130 2019-01-11  \n",
       "\n",
       "[3 rows x 40 columns]"
      ]
     },
     "execution_count": 40,
     "metadata": {},
     "output_type": "execute_result"
    }
   ],
   "source": [
    "# TimeStamp, tiene 3 valores nulos, borraremos las filas.\n",
    "a = df.TimeStamp.isnull()\n",
    "df[a]"
   ]
  },
  {
   "cell_type": "code",
   "execution_count": 41,
   "metadata": {},
   "outputs": [],
   "source": [
    "df.drop(df.loc[a].index, inplace=True)"
   ]
  },
  {
   "cell_type": "code",
   "execution_count": 42,
   "metadata": {},
   "outputs": [
    {
     "data": {
      "text/plain": [
       "(528494, 40)"
      ]
     },
     "execution_count": 42,
     "metadata": {},
     "output_type": "execute_result"
    }
   ],
   "source": [
    "df.shape"
   ]
  },
  {
   "cell_type": "code",
   "execution_count": 43,
   "metadata": {},
   "outputs": [
    {
     "data": {
      "text/plain": [
       "76431"
      ]
     },
     "execution_count": 43,
     "metadata": {},
     "output_type": "execute_result"
    }
   ],
   "source": [
    "# Si la diferencia supera las 2 semanas borramos estos registros\n",
    "diferencia = (df.LastChange - df.CreationDate) > '15 days'\n",
    "diferencia.sum()"
   ]
  },
  {
   "cell_type": "code",
   "execution_count": 44,
   "metadata": {},
   "outputs": [],
   "source": [
    "df.drop(df.loc[diferencia].index, inplace=True)"
   ]
  },
  {
   "cell_type": "code",
   "execution_count": 45,
   "metadata": {},
   "outputs": [
    {
     "data": {
      "text/plain": [
       "0"
      ]
     },
     "execution_count": 45,
     "metadata": {},
     "output_type": "execute_result"
    }
   ],
   "source": [
    "# Si la diferencia supera las 100 dias borramos estos registros\n",
    "diferencia = (df.OrderDate - df.TimeStamp) > '30'\n",
    "diferencia.sum()"
   ]
  },
  {
   "cell_type": "code",
   "execution_count": 46,
   "metadata": {},
   "outputs": [],
   "source": [
    "df.drop(df.loc[diferencia].index, inplace=True)"
   ]
  },
  {
   "cell_type": "code",
   "execution_count": 47,
   "metadata": {},
   "outputs": [
    {
     "data": {
      "text/plain": [
       "(452063, 40)"
      ]
     },
     "execution_count": 47,
     "metadata": {},
     "output_type": "execute_result"
    }
   ],
   "source": [
    "df.shape"
   ]
  },
  {
   "cell_type": "code",
   "execution_count": 48,
   "metadata": {},
   "outputs": [],
   "source": [
    "# Ahora dropeamos las columnas comentadas arriba\n",
    "df.drop(['RefId', 'ShippingDataId', 'Status', 'CreationDate', 'LastChange', 'TimeStamp', 'AddressId',\\\n",
    "         'MarketPlaceServiceEndpoint'], axis=1, inplace=True)"
   ]
  },
  {
   "cell_type": "code",
   "execution_count": 49,
   "metadata": {},
   "outputs": [],
   "source": [
    "# Ahora ordenamos las columnas agrupandolas\n",
    "df = df.reindex(columns = ['OrderId', 'Id', 'ProductId', 'Name', 'Quantity', 'Price', 'ListPrice', 'PromoName',\\\n",
    "                      'RawItemDiscount', 'GrossItemAmountDiscount', 'TotalOrderGross', 'TotalDiscountPrice',\\\n",
    "                      'ShippingCost', 'Value', 'DocumentType', 'Documento', 'OrderDate', 'Complemet',\\\n",
    "                      'SelectedAddressComplement', 'AddressType', 'Country', 'State', 'City', 'Neighborhood',\\\n",
    "                      'SelectedAddressNeighborhood', 'Street', 'PostalCode', 'SelectedAddressPostalCode',\\\n",
    "                      'SelectedAddressReference', 'Lat', 'Lng', 'HostName'])"
   ]
  },
  {
   "cell_type": "code",
   "execution_count": 50,
   "metadata": {},
   "outputs": [
    {
     "data": {
      "text/plain": [
       "0        2019-06-05\n",
       "1        2019-06-05\n",
       "2        2019-06-05\n",
       "3        2019-06-05\n",
       "4        2018-09-24\n",
       "            ...    \n",
       "558069   2018-10-30\n",
       "558070   2018-10-30\n",
       "558071   2018-10-30\n",
       "558072   2018-10-30\n",
       "558073   2018-10-30\n",
       "Name: OrderDate, Length: 452063, dtype: datetime64[ns]"
      ]
     },
     "execution_count": 50,
     "metadata": {},
     "output_type": "execute_result"
    }
   ],
   "source": [
    "pd.to_datetime(df['OrderDate'], format='%a%b%d')"
   ]
  },
  {
   "cell_type": "code",
   "execution_count": 51,
   "metadata": {},
   "outputs": [
    {
     "data": {
      "text/plain": [
       "Timestamp('2018-04-04 00:00:00')"
      ]
     },
     "execution_count": 51,
     "metadata": {},
     "output_type": "execute_result"
    }
   ],
   "source": [
    "df['OrderDate'].min()"
   ]
  },
  {
   "cell_type": "code",
   "execution_count": 52,
   "metadata": {},
   "outputs": [
    {
     "data": {
      "text/plain": [
       "Timestamp('2019-06-25 00:00:00')"
      ]
     },
     "execution_count": 52,
     "metadata": {},
     "output_type": "execute_result"
    }
   ],
   "source": [
    "df['OrderDate'].max()"
   ]
  },
  {
   "cell_type": "code",
   "execution_count": 53,
   "metadata": {},
   "outputs": [
    {
     "data": {
      "text/html": [
       "<div>\n",
       "<style scoped>\n",
       "    .dataframe tbody tr th:only-of-type {\n",
       "        vertical-align: middle;\n",
       "    }\n",
       "\n",
       "    .dataframe tbody tr th {\n",
       "        vertical-align: top;\n",
       "    }\n",
       "\n",
       "    .dataframe thead th {\n",
       "        text-align: right;\n",
       "    }\n",
       "</style>\n",
       "<table border=\"1\" class=\"dataframe\">\n",
       "  <thead>\n",
       "    <tr style=\"text-align: right;\">\n",
       "      <th></th>\n",
       "      <th>OrderDate</th>\n",
       "      <th>Id</th>\n",
       "    </tr>\n",
       "  </thead>\n",
       "  <tbody>\n",
       "    <tr>\n",
       "      <th>75524</th>\n",
       "      <td>2018-04-04</td>\n",
       "      <td>290</td>\n",
       "    </tr>\n",
       "    <tr>\n",
       "      <th>34982</th>\n",
       "      <td>2018-04-04</td>\n",
       "      <td>186</td>\n",
       "    </tr>\n",
       "    <tr>\n",
       "      <th>34981</th>\n",
       "      <td>2018-04-04</td>\n",
       "      <td>137</td>\n",
       "    </tr>\n",
       "    <tr>\n",
       "      <th>34980</th>\n",
       "      <td>2018-04-04</td>\n",
       "      <td>127</td>\n",
       "    </tr>\n",
       "    <tr>\n",
       "      <th>439014</th>\n",
       "      <td>2018-04-04</td>\n",
       "      <td>34</td>\n",
       "    </tr>\n",
       "  </tbody>\n",
       "</table>\n",
       "</div>"
      ],
      "text/plain": [
       "        OrderDate   Id\n",
       "75524  2018-04-04  290\n",
       "34982  2018-04-04  186\n",
       "34981  2018-04-04  137\n",
       "34980  2018-04-04  127\n",
       "439014 2018-04-04   34"
      ]
     },
     "execution_count": 53,
     "metadata": {},
     "output_type": "execute_result"
    }
   ],
   "source": [
    "df.sort_values(by='OrderDate')[{'OrderDate','Id'}].head(5)"
   ]
  },
  {
   "cell_type": "code",
   "execution_count": 54,
   "metadata": {},
   "outputs": [
    {
     "data": {
      "text/plain": [
       "(452063, 32)"
      ]
     },
     "execution_count": 54,
     "metadata": {},
     "output_type": "execute_result"
    }
   ],
   "source": [
    "df.shape"
   ]
  },
  {
   "cell_type": "code",
   "execution_count": 55,
   "metadata": {},
   "outputs": [
    {
     "data": {
      "text/plain": [
       "Index(['OrderId', 'Id', 'ProductId', 'Name', 'Quantity', 'Price', 'ListPrice',\n",
       "       'PromoName', 'RawItemDiscount', 'GrossItemAmountDiscount',\n",
       "       'TotalOrderGross', 'TotalDiscountPrice', 'ShippingCost', 'Value',\n",
       "       'DocumentType', 'Documento', 'OrderDate', 'Complemet',\n",
       "       'SelectedAddressComplement', 'AddressType', 'Country', 'State', 'City',\n",
       "       'Neighborhood', 'SelectedAddressNeighborhood', 'Street', 'PostalCode',\n",
       "       'SelectedAddressPostalCode', 'SelectedAddressReference', 'Lat', 'Lng',\n",
       "       'HostName'],\n",
       "      dtype='object')"
      ]
     },
     "execution_count": 55,
     "metadata": {},
     "output_type": "execute_result"
    }
   ],
   "source": [
    "df.columns"
   ]
  },
  {
   "cell_type": "code",
   "execution_count": 56,
   "metadata": {},
   "outputs": [],
   "source": [
    "df.to_csv(\"Pippo_tot.csv\")"
   ]
  }
 ],
 "metadata": {
  "kernelspec": {
   "display_name": "Python 3",
   "language": "python",
   "name": "python3"
  },
  "language_info": {
   "codemirror_mode": {
    "name": "ipython",
    "version": 3
   },
   "file_extension": ".py",
   "mimetype": "text/x-python",
   "name": "python",
   "nbconvert_exporter": "python",
   "pygments_lexer": "ipython3",
   "version": "3.7.4"
  }
 },
 "nbformat": 4,
 "nbformat_minor": 2
}
