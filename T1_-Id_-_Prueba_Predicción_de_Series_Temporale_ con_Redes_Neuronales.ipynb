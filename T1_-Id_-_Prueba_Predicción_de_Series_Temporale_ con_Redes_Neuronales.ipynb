{
 "cells": [
  {
   "cell_type": "markdown",
   "metadata": {},
   "source": [
    "# Predicción de Series Temporales con Redes Neuronales"
   ]
  },
  {
   "cell_type": "markdown",
   "metadata": {},
   "source": [
    "## Usaremos Keras y Tensorflow"
   ]
  },
  {
   "cell_type": "markdown",
   "metadata": {},
   "source": [
    "Usaremos una arquitectura sencilla de red neuronal FeedForward (también llamada MLP por sus siglas Multi-Layered Perceptron), con pocas neuronas y como método de activación tangente hiperbólica pues entregaremos valores transformados entre -1 y 1"
   ]
  },
  {
   "cell_type": "code",
   "execution_count": 1,
   "metadata": {},
   "outputs": [
    {
     "name": "stderr",
     "output_type": "stream",
     "text": [
      "Using TensorFlow backend.\n"
     ]
    }
   ],
   "source": [
    "import pandas as pd\n",
    "import numpy as np\n",
    "import matplotlib.pylab as plt\n",
    "%matplotlib inline\n",
    "plt.rcParams['figure.figsize'] = (16, 9)\n",
    "plt.style.use('fast')\n",
    "import datetime\n",
    "\n",
    "from keras.models import Sequential\n",
    "from keras.layers import Dense,Activation,Flatten\n",
    "from sklearn.preprocessing import MinMaxScaler\n",
    " "
   ]
  },
  {
   "cell_type": "markdown",
   "metadata": {},
   "source": [
    "### Cargamos nuestro Dataset"
   ]
  },
  {
   "cell_type": "code",
   "execution_count": 2,
   "metadata": {},
   "outputs": [
    {
     "data": {
      "text/html": [
       "<div>\n",
       "<style scoped>\n",
       "    .dataframe tbody tr th:only-of-type {\n",
       "        vertical-align: middle;\n",
       "    }\n",
       "\n",
       "    .dataframe tbody tr th {\n",
       "        vertical-align: top;\n",
       "    }\n",
       "\n",
       "    .dataframe thead th {\n",
       "        text-align: right;\n",
       "    }\n",
       "</style>\n",
       "<table border=\"1\" class=\"dataframe\">\n",
       "  <thead>\n",
       "    <tr style=\"text-align: right;\">\n",
       "      <th></th>\n",
       "      <th>unidades</th>\n",
       "    </tr>\n",
       "    <tr>\n",
       "      <th>fecha</th>\n",
       "      <th></th>\n",
       "    </tr>\n",
       "  </thead>\n",
       "  <tbody>\n",
       "    <tr>\n",
       "      <th>2018-05-23</th>\n",
       "      <td>3</td>\n",
       "    </tr>\n",
       "    <tr>\n",
       "      <th>2018-05-25</th>\n",
       "      <td>3</td>\n",
       "    </tr>\n",
       "    <tr>\n",
       "      <th>2018-05-29</th>\n",
       "      <td>2</td>\n",
       "    </tr>\n",
       "    <tr>\n",
       "      <th>2018-06-08</th>\n",
       "      <td>1</td>\n",
       "    </tr>\n",
       "    <tr>\n",
       "      <th>2018-06-11</th>\n",
       "      <td>2</td>\n",
       "    </tr>\n",
       "  </tbody>\n",
       "</table>\n",
       "</div>"
      ],
      "text/plain": [
       "            unidades\n",
       "fecha               \n",
       "2018-05-23         3\n",
       "2018-05-25         3\n",
       "2018-05-29         2\n",
       "2018-06-08         1\n",
       "2018-06-11         2"
      ]
     },
     "execution_count": 2,
     "metadata": {},
     "output_type": "execute_result"
    }
   ],
   "source": [
    "df = pd.read_csv('Prueba_Id.csv', parse_dates=[0], header=None, index_col=0, names=['fecha','unidades'])\n",
    "df.head()"
   ]
  },
  {
   "cell_type": "code",
   "execution_count": 3,
   "metadata": {},
   "outputs": [
    {
     "name": "stdout",
     "output_type": "stream",
     "text": [
      "2018-05-23 00:00:00\n",
      "2019-06-21 00:00:00\n"
     ]
    }
   ],
   "source": [
    "print(df.index.min())\n",
    "print(df.index.max())"
   ]
  },
  {
   "cell_type": "code",
   "execution_count": 4,
   "metadata": {},
   "outputs": [
    {
     "name": "stdout",
     "output_type": "stream",
     "text": [
      "125\n",
      "145\n"
     ]
    }
   ],
   "source": [
    "print(len(df['2018']))\n",
    "print(len(df['2019']))"
   ]
  },
  {
   "cell_type": "code",
   "execution_count": 5,
   "metadata": {},
   "outputs": [
    {
     "data": {
      "text/html": [
       "<div>\n",
       "<style scoped>\n",
       "    .dataframe tbody tr th:only-of-type {\n",
       "        vertical-align: middle;\n",
       "    }\n",
       "\n",
       "    .dataframe tbody tr th {\n",
       "        vertical-align: top;\n",
       "    }\n",
       "\n",
       "    .dataframe thead th {\n",
       "        text-align: right;\n",
       "    }\n",
       "</style>\n",
       "<table border=\"1\" class=\"dataframe\">\n",
       "  <thead>\n",
       "    <tr style=\"text-align: right;\">\n",
       "      <th></th>\n",
       "      <th>unidades</th>\n",
       "    </tr>\n",
       "  </thead>\n",
       "  <tbody>\n",
       "    <tr>\n",
       "      <th>count</th>\n",
       "      <td>270.000000</td>\n",
       "    </tr>\n",
       "    <tr>\n",
       "      <th>mean</th>\n",
       "      <td>15.111111</td>\n",
       "    </tr>\n",
       "    <tr>\n",
       "      <th>std</th>\n",
       "      <td>27.726000</td>\n",
       "    </tr>\n",
       "    <tr>\n",
       "      <th>min</th>\n",
       "      <td>1.000000</td>\n",
       "    </tr>\n",
       "    <tr>\n",
       "      <th>25%</th>\n",
       "      <td>2.000000</td>\n",
       "    </tr>\n",
       "    <tr>\n",
       "      <th>50%</th>\n",
       "      <td>5.000000</td>\n",
       "    </tr>\n",
       "    <tr>\n",
       "      <th>75%</th>\n",
       "      <td>12.750000</td>\n",
       "    </tr>\n",
       "    <tr>\n",
       "      <th>max</th>\n",
       "      <td>180.000000</td>\n",
       "    </tr>\n",
       "  </tbody>\n",
       "</table>\n",
       "</div>"
      ],
      "text/plain": [
       "         unidades\n",
       "count  270.000000\n",
       "mean    15.111111\n",
       "std     27.726000\n",
       "min      1.000000\n",
       "25%      2.000000\n",
       "50%      5.000000\n",
       "75%     12.750000\n",
       "max    180.000000"
      ]
     },
     "execution_count": 5,
     "metadata": {},
     "output_type": "execute_result"
    }
   ],
   "source": [
    "df.describe()"
   ]
  },
  {
   "cell_type": "code",
   "execution_count": 6,
   "metadata": {},
   "outputs": [
    {
     "data": {
      "text/html": [
       "<div>\n",
       "<style scoped>\n",
       "    .dataframe tbody tr th:only-of-type {\n",
       "        vertical-align: middle;\n",
       "    }\n",
       "\n",
       "    .dataframe tbody tr th {\n",
       "        vertical-align: top;\n",
       "    }\n",
       "\n",
       "    .dataframe thead th {\n",
       "        text-align: right;\n",
       "    }\n",
       "</style>\n",
       "<table border=\"1\" class=\"dataframe\">\n",
       "  <thead>\n",
       "    <tr style=\"text-align: right;\">\n",
       "      <th></th>\n",
       "      <th>unidades</th>\n",
       "    </tr>\n",
       "    <tr>\n",
       "      <th>fecha</th>\n",
       "      <th></th>\n",
       "    </tr>\n",
       "  </thead>\n",
       "  <tbody>\n",
       "    <tr>\n",
       "      <th>2018-05-31</th>\n",
       "      <td>2.666667</td>\n",
       "    </tr>\n",
       "    <tr>\n",
       "      <th>2018-06-30</th>\n",
       "      <td>16.333333</td>\n",
       "    </tr>\n",
       "    <tr>\n",
       "      <th>2018-07-31</th>\n",
       "      <td>5.733333</td>\n",
       "    </tr>\n",
       "    <tr>\n",
       "      <th>2018-08-31</th>\n",
       "      <td>12.850000</td>\n",
       "    </tr>\n",
       "    <tr>\n",
       "      <th>2018-09-30</th>\n",
       "      <td>10.769231</td>\n",
       "    </tr>\n",
       "    <tr>\n",
       "      <th>2018-10-31</th>\n",
       "      <td>35.875000</td>\n",
       "    </tr>\n",
       "    <tr>\n",
       "      <th>2018-11-30</th>\n",
       "      <td>15.545455</td>\n",
       "    </tr>\n",
       "    <tr>\n",
       "      <th>2018-12-31</th>\n",
       "      <td>16.944444</td>\n",
       "    </tr>\n",
       "    <tr>\n",
       "      <th>2019-01-31</th>\n",
       "      <td>10.516129</td>\n",
       "    </tr>\n",
       "    <tr>\n",
       "      <th>2019-02-28</th>\n",
       "      <td>11.178571</td>\n",
       "    </tr>\n",
       "    <tr>\n",
       "      <th>2019-03-31</th>\n",
       "      <td>6.538462</td>\n",
       "    </tr>\n",
       "    <tr>\n",
       "      <th>2019-04-30</th>\n",
       "      <td>2.888889</td>\n",
       "    </tr>\n",
       "    <tr>\n",
       "      <th>2019-05-31</th>\n",
       "      <td>40.840000</td>\n",
       "    </tr>\n",
       "    <tr>\n",
       "      <th>2019-06-30</th>\n",
       "      <td>11.294118</td>\n",
       "    </tr>\n",
       "  </tbody>\n",
       "</table>\n",
       "</div>"
      ],
      "text/plain": [
       "             unidades\n",
       "fecha                \n",
       "2018-05-31   2.666667\n",
       "2018-06-30  16.333333\n",
       "2018-07-31   5.733333\n",
       "2018-08-31  12.850000\n",
       "2018-09-30  10.769231\n",
       "2018-10-31  35.875000\n",
       "2018-11-30  15.545455\n",
       "2018-12-31  16.944444\n",
       "2019-01-31  10.516129\n",
       "2019-02-28  11.178571\n",
       "2019-03-31   6.538462\n",
       "2019-04-30   2.888889\n",
       "2019-05-31  40.840000\n",
       "2019-06-30  11.294118"
      ]
     },
     "execution_count": 6,
     "metadata": {},
     "output_type": "execute_result"
    }
   ],
   "source": [
    "meses =df.resample('M').mean()\n",
    "meses"
   ]
  },
  {
   "cell_type": "markdown",
   "metadata": {},
   "source": [
    "## Visualizaciones"
   ]
  },
  {
   "cell_type": "code",
   "execution_count": 7,
   "metadata": {},
   "outputs": [
    {
     "data": {
      "text/plain": [
       "[<matplotlib.lines.Line2D at 0x21b6e72a548>]"
      ]
     },
     "execution_count": 7,
     "metadata": {},
     "output_type": "execute_result"
    },
    {
     "data": {
      "image/png": "[encoded data removed]",
      "text/plain": [
       "<Figure size 432x288 with 1 Axes>"
      ]
     },
     "metadata": {
      "needs_background": "light"
     },
     "output_type": "display_data"
    }
   ],
   "source": [
    "plt.plot(meses['2018'].values) # en azul\n",
    "plt.plot(meses['2019'].values) # en naranja"
   ]
  },
  {
   "cell_type": "code",
   "execution_count": 8,
   "metadata": {},
   "outputs": [
    {
     "data": {
      "text/plain": [
       "[<matplotlib.lines.Line2D at 0x21b6e82df48>]"
      ]
     },
     "execution_count": 8,
     "metadata": {},
     "output_type": "execute_result"
    },
    {
     "data": {
      "image/png": "[encoded data removed]",
      "text/plain": [
       "<Figure size 432x288 with 1 Axes>"
      ]
     },
     "metadata": {
      "needs_background": "light"
     },
     "output_type": "display_data"
    }
   ],
   "source": [
    "ver_2018 = df['2018-04-01':'2018-06-01']  # en azul\n",
    "plt.plot(ver_2018.values)\n",
    "ver_2019 = df['2019-04-01':'2019-06-01'] # en naranja\n",
    "plt.plot(ver_2019.values)"
   ]
  },
  {
   "cell_type": "markdown",
   "metadata": {},
   "source": [
    "## Preprocesado de los datos"
   ]
  },
  {
   "cell_type": "markdown",
   "metadata": {},
   "source": [
    "### Pronóstico de unidades Diarias con Redes Neuronal\n",
    "\n",
    "Lo que haremos es tomar nuestra serie temporal y la convertiremos en un «problema de tipo supervisado« para poder alimentar nuestra red neuronal y poder entrenarla con backpropagation"
   ]
  },
  {
   "cell_type": "code",
   "execution_count": 9,
   "metadata": {},
   "outputs": [],
   "source": [
    "# Lo que haremos -en este ejemplo- es tomar los 7 días previos para «obtener» el octavo\n",
    "# Entradas: serán «7 columnas» que representan las unidades en unidades de los 7 días anteriores.\n",
    "# Salida: El valor del «8vo día». Es decir, las unidades (en unidades) de ese día"
   ]
  },
  {
   "cell_type": "code",
   "execution_count": 10,
   "metadata": {},
   "outputs": [
    {
     "data": {
      "text/html": [
       "<div>\n",
       "<style scoped>\n",
       "    .dataframe tbody tr th:only-of-type {\n",
       "        vertical-align: middle;\n",
       "    }\n",
       "\n",
       "    .dataframe tbody tr th {\n",
       "        vertical-align: top;\n",
       "    }\n",
       "\n",
       "    .dataframe thead th {\n",
       "        text-align: right;\n",
       "    }\n",
       "</style>\n",
       "<table border=\"1\" class=\"dataframe\">\n",
       "  <thead>\n",
       "    <tr style=\"text-align: right;\">\n",
       "      <th></th>\n",
       "      <th>var1(t-7)</th>\n",
       "      <th>var1(t-6)</th>\n",
       "      <th>var1(t-5)</th>\n",
       "      <th>var1(t-4)</th>\n",
       "      <th>var1(t-3)</th>\n",
       "      <th>var1(t-2)</th>\n",
       "      <th>var1(t-1)</th>\n",
       "      <th>var1(t)</th>\n",
       "    </tr>\n",
       "  </thead>\n",
       "  <tbody>\n",
       "    <tr>\n",
       "      <th>7</th>\n",
       "      <td>-0.977654</td>\n",
       "      <td>-0.977654</td>\n",
       "      <td>-0.988827</td>\n",
       "      <td>-1.000000</td>\n",
       "      <td>-0.988827</td>\n",
       "      <td>-0.977654</td>\n",
       "      <td>-1.000000</td>\n",
       "      <td>-1.000000</td>\n",
       "    </tr>\n",
       "    <tr>\n",
       "      <th>8</th>\n",
       "      <td>-0.977654</td>\n",
       "      <td>-0.988827</td>\n",
       "      <td>-1.000000</td>\n",
       "      <td>-0.988827</td>\n",
       "      <td>-0.977654</td>\n",
       "      <td>-1.000000</td>\n",
       "      <td>-1.000000</td>\n",
       "      <td>-1.000000</td>\n",
       "    </tr>\n",
       "    <tr>\n",
       "      <th>9</th>\n",
       "      <td>-0.988827</td>\n",
       "      <td>-1.000000</td>\n",
       "      <td>-0.988827</td>\n",
       "      <td>-0.977654</td>\n",
       "      <td>-1.000000</td>\n",
       "      <td>-1.000000</td>\n",
       "      <td>-1.000000</td>\n",
       "      <td>-1.000000</td>\n",
       "    </tr>\n",
       "    <tr>\n",
       "      <th>10</th>\n",
       "      <td>-1.000000</td>\n",
       "      <td>-0.988827</td>\n",
       "      <td>-0.977654</td>\n",
       "      <td>-1.000000</td>\n",
       "      <td>-1.000000</td>\n",
       "      <td>-1.000000</td>\n",
       "      <td>-1.000000</td>\n",
       "      <td>-0.955307</td>\n",
       "    </tr>\n",
       "    <tr>\n",
       "      <th>11</th>\n",
       "      <td>-0.988827</td>\n",
       "      <td>-0.977654</td>\n",
       "      <td>-1.000000</td>\n",
       "      <td>-1.000000</td>\n",
       "      <td>-1.000000</td>\n",
       "      <td>-1.000000</td>\n",
       "      <td>-0.955307</td>\n",
       "      <td>-0.977654</td>\n",
       "    </tr>\n",
       "  </tbody>\n",
       "</table>\n",
       "</div>"
      ],
      "text/plain": [
       "    var1(t-7)  var1(t-6)  var1(t-5)  var1(t-4)  var1(t-3)  var1(t-2)  \\\n",
       "7   -0.977654  -0.977654  -0.988827  -1.000000  -0.988827  -0.977654   \n",
       "8   -0.977654  -0.988827  -1.000000  -0.988827  -0.977654  -1.000000   \n",
       "9   -0.988827  -1.000000  -0.988827  -0.977654  -1.000000  -1.000000   \n",
       "10  -1.000000  -0.988827  -0.977654  -1.000000  -1.000000  -1.000000   \n",
       "11  -0.988827  -0.977654  -1.000000  -1.000000  -1.000000  -1.000000   \n",
       "\n",
       "    var1(t-1)   var1(t)  \n",
       "7   -1.000000 -1.000000  \n",
       "8   -1.000000 -1.000000  \n",
       "9   -1.000000 -1.000000  \n",
       "10  -1.000000 -0.955307  \n",
       "11  -0.955307 -0.977654  "
      ]
     },
     "execution_count": 10,
     "metadata": {},
     "output_type": "execute_result"
    }
   ],
   "source": [
    "# utilizamos el MinMaxScaler para transformar el rango de nuestros valores entre -1 y 1\n",
    "PASOS=7\n",
    " \n",
    "# convert series to supervised learning\n",
    "def series_to_supervised(data, n_in=1, n_out=1, dropnan=True):\n",
    "    n_vars = 1 if type(data) is list else data.shape[1]\n",
    "    df = pd.DataFrame(data)\n",
    "    cols, names = list(), list()\n",
    "    # input sequence (t-n, ... t-1)\n",
    "    for i in range(n_in, 0, -1):\n",
    "        cols.append(df.shift(i))\n",
    "        names += [('var%d(t-%d)' % (j+1, i)) for j in range(n_vars)]\n",
    "    # forecast sequence (t, t+1, ... t+n)\n",
    "    for i in range(0, n_out):\n",
    "        cols.append(df.shift(-i))\n",
    "        if i == 0:\n",
    "            names += [('var%d(t)' % (j+1)) for j in range(n_vars)]\n",
    "        else:\n",
    "            names += [('var%d(t+%d)' % (j+1, i)) for j in range(n_vars)]\n",
    "    # put it all together\n",
    "    agg = pd.concat(cols, axis=1)\n",
    "    agg.columns = names\n",
    "    # drop rows with NaN values\n",
    "    if dropnan:\n",
    "        agg.dropna(inplace=True)\n",
    "    return agg\n",
    " \n",
    "# load dataset\n",
    "values = df.values\n",
    "# ensure all data is float\n",
    "values = values.astype('float32')\n",
    "# normalize features\n",
    "scaler = MinMaxScaler(feature_range=(-1, 1))\n",
    "values=values.reshape(-1, 1) # esto lo hacemos porque tenemos 1 sola dimension\n",
    "scaled = scaler.fit_transform(values)\n",
    "# frame as supervised learning\n",
    "reframed = series_to_supervised(scaled, PASOS, 1)\n",
    "reframed.head()"
   ]
  },
  {
   "cell_type": "code",
   "execution_count": 11,
   "metadata": {},
   "outputs": [],
   "source": [
    "# Usaremos como entradas las columnas encabezadas como var1(t-7) a (t-1) y nuestra salida\n",
    "# (lo que sería el valor «Y» de la función) será el var1(t) -la última columna-"
   ]
  },
  {
   "cell_type": "markdown",
   "metadata": {},
   "source": [
    "# Creamos la Red Neuronal Artificial\n",
    "\n",
    "## Dividimos en set de Entrenamiento y Validación\n",
    "Antes de crear la red neuronal, subdividiremos nuestro conjunto de datos en train y en validación. ATENCIÓN, algo importante de este procedimiento, a diferencia de en otros problemas en los que podemos «mezclar» los datos de entrada, es que en este caso nos importa mantener el orden en el que alimentaremos la red. Por lo tanto, haremos una subdivisión de los primeros 567 días consecutivos para entrenamiento de la red y los siguientes 30 para su validación."
   ]
  },
  {
   "cell_type": "code",
   "execution_count": 12,
   "metadata": {},
   "outputs": [
    {
     "name": "stdout",
     "output_type": "stream",
     "text": [
      "(224, 1, 7) (224,) (39, 1, 7) (39,)\n"
     ]
    }
   ],
   "source": [
    "# split into train and test sets\n",
    "values = reframed.values\n",
    "n_train_days = 261 - (30+PASOS)\n",
    "train = values[:n_train_days, :]\n",
    "test = values[n_train_days:, :]\n",
    "# split into input and outputs\n",
    "x_train, y_train = train[:, :-1], train[:, -1]\n",
    "x_val, y_val = test[:, :-1], test[:, -1]\n",
    "# reshape input to be 3D [samples, timesteps, features]\n",
    "x_train = x_train.reshape((x_train.shape[0], 1, x_train.shape[1]))\n",
    "x_val = x_val.reshape((x_val.shape[0], 1, x_val.shape[1]))\n",
    "print(x_train.shape, y_train.shape, x_val.shape, y_val.shape)"
   ]
  },
  {
   "cell_type": "markdown",
   "metadata": {},
   "source": [
    "## Utilizaremos una Red \"normal\" Feedforward\n",
    "\n",
    "#### La arquitectura de la red neuronal será:\n",
    "\n",
    "Entrada 7 inputs, como dijimos antes\n",
    "1 capa oculta con 7 neuronas (este valor lo escogí yo, pero se puede variar)\n",
    "La salida será 1 sola neurona\n",
    "Como función de activación utilizamos tangente hiperbólica puesto que utilizaremos valores entre -1 y 1.\n",
    "Utilizaremos como optimizador Adam y métrica de pérdida (loss) Mean Absolute Error\n",
    "Como la predicción será un valor continuo y no discreto, para calcular el Acuracy utilizaremos Mean Squared Error y para saber si mejora con el entrenamiento se debería ir reduciendo con las EPOCHS."
   ]
  },
  {
   "cell_type": "code",
   "execution_count": 13,
   "metadata": {},
   "outputs": [],
   "source": [
    "def crear_modeloFF():\n",
    "    model = Sequential() \n",
    "    model.add(Dense(PASOS, input_shape=(1,PASOS),activation='tanh'))\n",
    "    model.add(Flatten())\n",
    "    model.add(Dense(1, activation='tanh'))\n",
    "    model.compile(loss='mean_absolute_error',optimizer='Adam',metrics=[\"mse\"])\n",
    "    model.summary()\n",
    "    return model"
   ]
  },
  {
   "cell_type": "markdown",
   "metadata": {},
   "source": [
    "   ## Entrenamiento y Resultados"
   ]
  },
  {
   "cell_type": "code",
   "execution_count": 14,
   "metadata": {},
   "outputs": [
    {
     "name": "stderr",
     "output_type": "stream",
     "text": [
      "WARNING: Logging before flag parsing goes to stderr.\n",
      "W0826 01:17:01.077918 10332 deprecation_wrapper.py:119] From C:\\Users\\hmarq\\Anaconda3\\envs\\Pippo\\lib\\site-packages\\keras\\backend\\tensorflow_backend.py:74: The name tf.get_default_graph is deprecated. Please use tf.compat.v1.get_default_graph instead.\n",
      "\n",
      "W0826 01:17:01.289759 10332 deprecation_wrapper.py:119] From C:\\Users\\hmarq\\Anaconda3\\envs\\Pippo\\lib\\site-packages\\keras\\backend\\tensorflow_backend.py:517: The name tf.placeholder is deprecated. Please use tf.compat.v1.placeholder instead.\n",
      "\n",
      "W0826 01:17:01.320077 10332 deprecation_wrapper.py:119] From C:\\Users\\hmarq\\Anaconda3\\envs\\Pippo\\lib\\site-packages\\keras\\backend\\tensorflow_backend.py:4138: The name tf.random_uniform is deprecated. Please use tf.random.uniform instead.\n",
      "\n",
      "W0826 01:17:01.596449 10332 deprecation_wrapper.py:119] From C:\\Users\\hmarq\\Anaconda3\\envs\\Pippo\\lib\\site-packages\\keras\\optimizers.py:790: The name tf.train.Optimizer is deprecated. Please use tf.compat.v1.train.Optimizer instead.\n",
      "\n"
     ]
    },
    {
     "name": "stdout",
     "output_type": "stream",
     "text": [
      "_________________________________________________________________\n",
      "Layer (type)                 Output Shape              Param #   \n",
      "=================================================================\n",
      "dense_1 (Dense)              (None, 1, 7)              56        \n",
      "_________________________________________________________________\n",
      "flatten_1 (Flatten)          (None, 7)                 0         \n",
      "_________________________________________________________________\n",
      "dense_2 (Dense)              (None, 1)                 8         \n",
      "=================================================================\n",
      "Total params: 64\n",
      "Trainable params: 64\n",
      "Non-trainable params: 0\n",
      "_________________________________________________________________\n"
     ]
    },
    {
     "name": "stderr",
     "output_type": "stream",
     "text": [
      "W0826 01:17:02.445658 10332 deprecation_wrapper.py:119] From C:\\Users\\hmarq\\Anaconda3\\envs\\Pippo\\lib\\site-packages\\keras\\backend\\tensorflow_backend.py:986: The name tf.assign_add is deprecated. Please use tf.compat.v1.assign_add instead.\n",
      "\n",
      "W0826 01:17:02.919254 10332 deprecation_wrapper.py:119] From C:\\Users\\hmarq\\Anaconda3\\envs\\Pippo\\lib\\site-packages\\keras\\backend\\tensorflow_backend.py:973: The name tf.assign is deprecated. Please use tf.compat.v1.assign instead.\n",
      "\n"
     ]
    },
    {
     "name": "stdout",
     "output_type": "stream",
     "text": [
      "Train on 224 samples, validate on 39 samples\n",
      "Epoch 1/40\n",
      "224/224 [==============================] - 4s 16ms/step - loss: 0.6051 - mean_squared_error: 0.4183 - val_loss: 0.4858 - val_mean_squared_error: 0.3391\n",
      "Epoch 2/40\n",
      "224/224 [==============================] - 0s 592us/step - loss: 0.2868 - mean_squared_error: 0.1219 - val_loss: 0.3792 - val_mean_squared_error: 0.2873\n",
      "Epoch 3/40\n",
      "224/224 [==============================] - 0s 1ms/step - loss: 0.1844 - mean_squared_error: 0.0794 - val_loss: 0.3445 - val_mean_squared_error: 0.2868\n",
      "Epoch 4/40\n",
      "224/224 [==============================] - 0s 1ms/step - loss: 0.1461 - mean_squared_error: 0.0755 - val_loss: 0.3288 - val_mean_squared_error: 0.2887\n",
      "Epoch 5/40\n",
      "224/224 [==============================] - 0s 786us/step - loss: 0.1323 - mean_squared_error: 0.0754 - val_loss: 0.3217 - val_mean_squared_error: 0.2905\n",
      "Epoch 6/40\n",
      "224/224 [==============================] - ETA: 0s - loss: 0.1391 - mean_squared_error: 0.09 - 0s 728us/step - loss: 0.1271 - mean_squared_error: 0.0756 - val_loss: 0.3177 - val_mean_squared_error: 0.2911\n",
      "Epoch 7/40\n",
      "224/224 [==============================] - 0s 719us/step - loss: 0.1249 - mean_squared_error: 0.0763 - val_loss: 0.3133 - val_mean_squared_error: 0.2904\n",
      "Epoch 8/40\n",
      "224/224 [==============================] - 0s 719us/step - loss: 0.1234 - mean_squared_error: 0.0767 - val_loss: 0.3107 - val_mean_squared_error: 0.2902\n",
      "Epoch 9/40\n",
      "224/224 [==============================] - 0s 714us/step - loss: 0.1224 - mean_squared_error: 0.0770 - val_loss: 0.3076 - val_mean_squared_error: 0.2895\n",
      "Epoch 10/40\n",
      "224/224 [==============================] - 0s 821us/step - loss: 0.1216 - mean_squared_error: 0.0773 - val_loss: 0.3052 - val_mean_squared_error: 0.2894\n",
      "Epoch 11/40\n",
      "224/224 [==============================] - 0s 693us/step - loss: 0.1209 - mean_squared_error: 0.0774 - val_loss: 0.3038 - val_mean_squared_error: 0.2890\n",
      "Epoch 12/40\n",
      "224/224 [==============================] - 0s 1ms/step - loss: 0.1206 - mean_squared_error: 0.0777 - val_loss: 0.3008 - val_mean_squared_error: 0.2872\n",
      "Epoch 13/40\n",
      "224/224 [==============================] - 0s 893us/step - loss: 0.1203 - mean_squared_error: 0.0774 - val_loss: 0.2998 - val_mean_squared_error: 0.2864\n",
      "Epoch 14/40\n",
      "224/224 [==============================] - 0s 937us/step - loss: 0.1199 - mean_squared_error: 0.0773 - val_loss: 0.2984 - val_mean_squared_error: 0.2858\n",
      "Epoch 15/40\n",
      "224/224 [==============================] - 0s 563us/step - loss: 0.1197 - mean_squared_error: 0.0772 - val_loss: 0.2968 - val_mean_squared_error: 0.2851\n",
      "Epoch 16/40\n",
      "224/224 [==============================] - 0s 733us/step - loss: 0.1196 - mean_squared_error: 0.0773 - val_loss: 0.2949 - val_mean_squared_error: 0.2836\n",
      "Epoch 17/40\n",
      "224/224 [==============================] - 0s 996us/step - loss: 0.1193 - mean_squared_error: 0.0769 - val_loss: 0.2934 - val_mean_squared_error: 0.2825\n",
      "Epoch 18/40\n",
      "224/224 [==============================] - 0s 781us/step - loss: 0.1191 - mean_squared_error: 0.0768 - val_loss: 0.2923 - val_mean_squared_error: 0.2820\n",
      "Epoch 19/40\n",
      "224/224 [==============================] - 0s 620us/step - loss: 0.1189 - mean_squared_error: 0.0767 - val_loss: 0.2906 - val_mean_squared_error: 0.2810\n",
      "Epoch 20/40\n",
      "224/224 [==============================] - 0s 558us/step - loss: 0.1187 - mean_squared_error: 0.0766 - val_loss: 0.2891 - val_mean_squared_error: 0.2800\n",
      "Epoch 21/40\n",
      "224/224 [==============================] - 0s 558us/step - loss: 0.1185 - mean_squared_error: 0.0765 - val_loss: 0.2879 - val_mean_squared_error: 0.2796\n",
      "Epoch 22/40\n",
      "224/224 [==============================] - 0s 558us/step - loss: 0.1183 - mean_squared_error: 0.0764 - val_loss: 0.2866 - val_mean_squared_error: 0.2788\n",
      "Epoch 23/40\n",
      "224/224 [==============================] - 0s 701us/step - loss: 0.1182 - mean_squared_error: 0.0762 - val_loss: 0.2849 - val_mean_squared_error: 0.2776\n",
      "Epoch 24/40\n",
      "224/224 [==============================] - 0s 663us/step - loss: 0.1179 - mean_squared_error: 0.0762 - val_loss: 0.2840 - val_mean_squared_error: 0.2778\n",
      "Epoch 25/40\n",
      "224/224 [==============================] - 0s 1ms/step - loss: 0.1178 - mean_squared_error: 0.0761 - val_loss: 0.2827 - val_mean_squared_error: 0.2771\n",
      "Epoch 26/40\n",
      "224/224 [==============================] - 0s 1ms/step - loss: 0.1177 - mean_squared_error: 0.0759 - val_loss: 0.2815 - val_mean_squared_error: 0.2765\n",
      "Epoch 27/40\n",
      "224/224 [==============================] - 0s 937us/step - loss: 0.1175 - mean_squared_error: 0.0761 - val_loss: 0.2799 - val_mean_squared_error: 0.2757\n",
      "Epoch 28/40\n",
      "224/224 [==============================] - 0s 839us/step - loss: 0.1174 - mean_squared_error: 0.0758 - val_loss: 0.2788 - val_mean_squared_error: 0.2757\n",
      "Epoch 29/40\n",
      "224/224 [==============================] - 0s 786us/step - loss: 0.1172 - mean_squared_error: 0.0760 - val_loss: 0.2783 - val_mean_squared_error: 0.2757\n",
      "Epoch 30/40\n",
      "224/224 [==============================] - 0s 853us/step - loss: 0.1170 - mean_squared_error: 0.0757 - val_loss: 0.2776 - val_mean_squared_error: 0.2749\n",
      "Epoch 31/40\n",
      "224/224 [==============================] - 0s 848us/step - loss: 0.1170 - mean_squared_error: 0.0754 - val_loss: 0.2757 - val_mean_squared_error: 0.2731\n",
      "Epoch 32/40\n",
      "224/224 [==============================] - 0s 790us/step - loss: 0.1167 - mean_squared_error: 0.0756 - val_loss: 0.2757 - val_mean_squared_error: 0.2744\n",
      "Epoch 33/40\n",
      "224/224 [==============================] - 0s 781us/step - loss: 0.1166 - mean_squared_error: 0.0756 - val_loss: 0.2756 - val_mean_squared_error: 0.2745\n",
      "Epoch 34/40\n",
      "224/224 [==============================] - 0s 781us/step - loss: 0.1164 - mean_squared_error: 0.0757 - val_loss: 0.2747 - val_mean_squared_error: 0.2733\n",
      "Epoch 35/40\n",
      "224/224 [==============================] - 0s 857us/step - loss: 0.1163 - mean_squared_error: 0.0754 - val_loss: 0.2750 - val_mean_squared_error: 0.2735\n",
      "Epoch 36/40\n",
      "224/224 [==============================] - 0s 1ms/step - loss: 0.1161 - mean_squared_error: 0.0752 - val_loss: 0.2742 - val_mean_squared_error: 0.2729\n",
      "Epoch 37/40\n",
      "224/224 [==============================] - 0s 1ms/step - loss: 0.1160 - mean_squared_error: 0.0751 - val_loss: 0.2732 - val_mean_squared_error: 0.2723\n",
      "Epoch 38/40\n",
      "224/224 [==============================] - 0s 1ms/step - loss: 0.1159 - mean_squared_error: 0.0753 - val_loss: 0.2731 - val_mean_squared_error: 0.2728\n",
      "Epoch 39/40\n",
      "224/224 [==============================] - 0s 906us/step - loss: 0.1157 - mean_squared_error: 0.0750 - val_loss: 0.2730 - val_mean_squared_error: 0.2724\n",
      "Epoch 40/40\n",
      "224/224 [==============================] - 0s 906us/step - loss: 0.1155 - mean_squared_error: 0.0750 - val_loss: 0.2721 - val_mean_squared_error: 0.2721\n"
     ]
    }
   ],
   "source": [
    "# En pocos segundos vemos una reducción del valor de pérdida tanto del set de entrenamiento como del de validación. \n",
    "# original EPOCHS = 40, luego voy modificando\n",
    "EPOCHS=40\n",
    " \n",
    "model = crear_modeloFF()\n",
    " \n",
    "history=model.fit(x_train,y_train,epochs=EPOCHS,validation_data=(x_val,y_val),batch_size=PASOS)"
   ]
  },
  {
   "cell_type": "code",
   "execution_count": 15,
   "metadata": {},
   "outputs": [],
   "source": [
    "# Visualizamos al conjunto de validación (recordemos que eran 30 días)"
   ]
  },
  {
   "cell_type": "markdown",
   "metadata": {},
   "source": [
    "## Visualizamos Resultados"
   ]
  },
  {
   "cell_type": "code",
   "execution_count": 16,
   "metadata": {
    "scrolled": false
   },
   "outputs": [
    {
     "name": "stdout",
     "output_type": "stream",
     "text": [
      "39\n"
     ]
    },
    {
     "data": {
      "image/png": "[encoded data removed]",
      "text/plain": [
       "<Figure size 432x288 with 1 Axes>"
      ]
     },
     "metadata": {
      "needs_background": "light"
     },
     "output_type": "display_data"
    }
   ],
   "source": [
    "results=model.predict(x_val)\n",
    "print( len(results) )\n",
    "plt.scatter(range(len(y_val)),y_val,c='g')\n",
    "plt.scatter(range(len(results)),results,c='r')\n",
    "plt.title('validate')\n",
    "plt.show()"
   ]
  },
  {
   "cell_type": "markdown",
   "metadata": {},
   "source": [
    "En la gráfica vemos que los puntitos verdes intentan aproximarse a los rojos. Cuanto más cerca ó superpuestos mejor. TIP: Si aumentamos la cantidad de EPOCHS mejora cada vez más."
   ]
  },
  {
   "cell_type": "code",
   "execution_count": 17,
   "metadata": {
    "scrolled": true
   },
   "outputs": [
    {
     "data": {
      "image/png": "[encoded data removed]",
      "text/plain": [
       "<Figure size 432x288 with 1 Axes>"
      ]
     },
     "metadata": {
      "needs_background": "light"
     },
     "output_type": "display_data"
    }
   ],
   "source": [
    "plt.plot(history.history['loss'])\n",
    "plt.title('loss')\n",
    "plt.plot(history.history['val_loss'])\n",
    "plt.title('validate loss')\n",
    "plt.show()"
   ]
  },
  {
   "cell_type": "markdown",
   "metadata": {},
   "source": [
    "Modelo 1) ST1: En azul el Entrenamiento y naranja el set de Validación."
   ]
  },
  {
   "cell_type": "code",
   "execution_count": 18,
   "metadata": {},
   "outputs": [
    {
     "data": {
      "image/png": "[encoded data removed]",
      "text/plain": [
       "<Figure size 432x288 with 1 Axes>"
      ]
     },
     "metadata": {
      "needs_background": "light"
     },
     "output_type": "display_data"
    }
   ],
   "source": [
    "plt.title('Accuracy')\n",
    "plt.plot(history.history['mean_squared_error'])\n",
    "plt.show()"
   ]
  },
  {
   "cell_type": "code",
   "execution_count": 19,
   "metadata": {},
   "outputs": [],
   "source": [
    "# En la gráfica vemos que los puntitos verdes intentan aproximarse a los rojos. Cuanto más cerca ó superpuestos mejor. \n",
    "# TIP: Si aumentamos la cantidad de EPOCHS mejora cada vez más."
   ]
  },
  {
   "cell_type": "code",
   "execution_count": 20,
   "metadata": {},
   "outputs": [],
   "source": [
    "# Veamos y comparemos también cómo disminuye el LOSS tanto en el conjunto de train como el de Validate, esto es bueno\n",
    "# ya que indica que el modelo está aprendiendo. A su vez pareciera no haber overfitting, pues las curvas de train y validate\n",
    "# son distintas."
   ]
  },
  {
   "cell_type": "code",
   "execution_count": 21,
   "metadata": {},
   "outputs": [
    {
     "data": {
      "text/html": [
       "<div>\n",
       "<style scoped>\n",
       "    .dataframe tbody tr th:only-of-type {\n",
       "        vertical-align: middle;\n",
       "    }\n",
       "\n",
       "    .dataframe tbody tr th {\n",
       "        vertical-align: top;\n",
       "    }\n",
       "\n",
       "    .dataframe thead th {\n",
       "        text-align: right;\n",
       "    }\n",
       "</style>\n",
       "<table border=\"1\" class=\"dataframe\">\n",
       "  <thead>\n",
       "    <tr style=\"text-align: right;\">\n",
       "      <th></th>\n",
       "      <th>real</th>\n",
       "      <th>prediccion</th>\n",
       "      <th>diferencia</th>\n",
       "    </tr>\n",
       "  </thead>\n",
       "  <tbody>\n",
       "    <tr>\n",
       "      <th>0</th>\n",
       "      <td>1.000000</td>\n",
       "      <td>4.723621</td>\n",
       "      <td>-3.723620</td>\n",
       "    </tr>\n",
       "    <tr>\n",
       "      <th>1</th>\n",
       "      <td>2.000001</td>\n",
       "      <td>6.023267</td>\n",
       "      <td>-4.023266</td>\n",
       "    </tr>\n",
       "    <tr>\n",
       "      <th>2</th>\n",
       "      <td>1.000000</td>\n",
       "      <td>5.387546</td>\n",
       "      <td>-4.387546</td>\n",
       "    </tr>\n",
       "    <tr>\n",
       "      <th>3</th>\n",
       "      <td>1.000000</td>\n",
       "      <td>5.541508</td>\n",
       "      <td>-4.541508</td>\n",
       "    </tr>\n",
       "    <tr>\n",
       "      <th>4</th>\n",
       "      <td>140.000000</td>\n",
       "      <td>4.566613</td>\n",
       "      <td>135.433380</td>\n",
       "    </tr>\n",
       "  </tbody>\n",
       "</table>\n",
       "</div>"
      ],
      "text/plain": [
       "         real  prediccion  diferencia\n",
       "0    1.000000    4.723621   -3.723620\n",
       "1    2.000001    6.023267   -4.023266\n",
       "2    1.000000    5.387546   -4.387546\n",
       "3    1.000000    5.541508   -4.541508\n",
       "4  140.000000    4.566613  135.433380"
      ]
     },
     "execution_count": 21,
     "metadata": {},
     "output_type": "execute_result"
    }
   ],
   "source": [
    "compara = pd.DataFrame(np.array([y_val, [x[0] for x in results]])).transpose()\n",
    "compara.columns = ['real', 'prediccion']\n",
    "\n",
    "inverted = scaler.inverse_transform(compara.values)\n",
    "\n",
    "compara2 = pd.DataFrame(inverted)\n",
    "compara2.columns = ['real', 'prediccion']\n",
    "compara2['diferencia'] = compara2['real'] - compara2['prediccion']\n",
    "compara2.head()"
   ]
  },
  {
   "cell_type": "code",
   "execution_count": 22,
   "metadata": {},
   "outputs": [
    {
     "data": {
      "text/html": [
       "<div>\n",
       "<style scoped>\n",
       "    .dataframe tbody tr th:only-of-type {\n",
       "        vertical-align: middle;\n",
       "    }\n",
       "\n",
       "    .dataframe tbody tr th {\n",
       "        vertical-align: top;\n",
       "    }\n",
       "\n",
       "    .dataframe thead th {\n",
       "        text-align: right;\n",
       "    }\n",
       "</style>\n",
       "<table border=\"1\" class=\"dataframe\">\n",
       "  <thead>\n",
       "    <tr style=\"text-align: right;\">\n",
       "      <th></th>\n",
       "      <th>real</th>\n",
       "      <th>prediccion</th>\n",
       "      <th>diferencia</th>\n",
       "    </tr>\n",
       "  </thead>\n",
       "  <tbody>\n",
       "    <tr>\n",
       "      <th>count</th>\n",
       "      <td>39.000000</td>\n",
       "      <td>39.000000</td>\n",
       "      <td>39.000000</td>\n",
       "    </tr>\n",
       "    <tr>\n",
       "      <th>mean</th>\n",
       "      <td>29.153847</td>\n",
       "      <td>9.291921</td>\n",
       "      <td>19.861927</td>\n",
       "    </tr>\n",
       "    <tr>\n",
       "      <th>std</th>\n",
       "      <td>43.331970</td>\n",
       "      <td>8.379537</td>\n",
       "      <td>42.801105</td>\n",
       "    </tr>\n",
       "    <tr>\n",
       "      <th>min</th>\n",
       "      <td>1.000000</td>\n",
       "      <td>4.566613</td>\n",
       "      <td>-14.621031</td>\n",
       "    </tr>\n",
       "    <tr>\n",
       "      <th>25%</th>\n",
       "      <td>2.500001</td>\n",
       "      <td>5.161396</td>\n",
       "      <td>-4.050862</td>\n",
       "    </tr>\n",
       "    <tr>\n",
       "      <th>50%</th>\n",
       "      <td>6.999998</td>\n",
       "      <td>5.590250</td>\n",
       "      <td>0.789496</td>\n",
       "    </tr>\n",
       "    <tr>\n",
       "      <th>75%</th>\n",
       "      <td>38.500000</td>\n",
       "      <td>8.236396</td>\n",
       "      <td>27.806813</td>\n",
       "    </tr>\n",
       "    <tr>\n",
       "      <th>max</th>\n",
       "      <td>179.999985</td>\n",
       "      <td>35.748222</td>\n",
       "      <td>169.569412</td>\n",
       "    </tr>\n",
       "  </tbody>\n",
       "</table>\n",
       "</div>"
      ],
      "text/plain": [
       "             real  prediccion  diferencia\n",
       "count   39.000000   39.000000   39.000000\n",
       "mean    29.153847    9.291921   19.861927\n",
       "std     43.331970    8.379537   42.801105\n",
       "min      1.000000    4.566613  -14.621031\n",
       "25%      2.500001    5.161396   -4.050862\n",
       "50%      6.999998    5.590250    0.789496\n",
       "75%     38.500000    8.236396   27.806813\n",
       "max    179.999985   35.748222  169.569412"
      ]
     },
     "execution_count": 22,
     "metadata": {},
     "output_type": "execute_result"
    }
   ],
   "source": [
    "compara2.describe()"
   ]
  },
  {
   "cell_type": "code",
   "execution_count": 23,
   "metadata": {},
   "outputs": [
    {
     "data": {
      "text/plain": [
       "<matplotlib.axes._subplots.AxesSubplot at 0x21b6e7cc508>"
      ]
     },
     "execution_count": 23,
     "metadata": {},
     "output_type": "execute_result"
    },
    {
     "data": {
      "image/png": "[encoded data removed]",
      "text/plain": [
       "<Figure size 432x288 with 1 Axes>"
      ]
     },
     "metadata": {
      "needs_background": "light"
     },
     "output_type": "display_data"
    }
   ],
   "source": [
    "compara2['real'].plot()\n",
    "compara2['prediccion'].plot()"
   ]
  },
  {
   "cell_type": "markdown",
   "metadata": {},
   "source": [
    "# Predicción\n",
    "\n",
    "## Pronóstico de unidades futuras\n",
    "Ahora que tenemos nuestra red y -suponiendo que realizamos los 7 pasos del ML– la damos por buena, probaremos a realizar una nueva predicción, en este caso, usaremos los últimos días de Mayo 2019 para calcular la primer semana de Junio. Veamos:"
   ]
  },
  {
   "cell_type": "code",
   "execution_count": 24,
   "metadata": {},
   "outputs": [
    {
     "data": {
      "text/html": [
       "<div>\n",
       "<style scoped>\n",
       "    .dataframe tbody tr th:only-of-type {\n",
       "        vertical-align: middle;\n",
       "    }\n",
       "\n",
       "    .dataframe tbody tr th {\n",
       "        vertical-align: top;\n",
       "    }\n",
       "\n",
       "    .dataframe thead th {\n",
       "        text-align: right;\n",
       "    }\n",
       "</style>\n",
       "<table border=\"1\" class=\"dataframe\">\n",
       "  <thead>\n",
       "    <tr style=\"text-align: right;\">\n",
       "      <th></th>\n",
       "      <th>unidades</th>\n",
       "    </tr>\n",
       "    <tr>\n",
       "      <th>fecha</th>\n",
       "      <th></th>\n",
       "    </tr>\n",
       "  </thead>\n",
       "  <tbody>\n",
       "    <tr>\n",
       "      <th>2019-05-16</th>\n",
       "      <td>71</td>\n",
       "    </tr>\n",
       "    <tr>\n",
       "      <th>2019-05-17</th>\n",
       "      <td>41</td>\n",
       "    </tr>\n",
       "    <tr>\n",
       "      <th>2019-05-18</th>\n",
       "      <td>28</td>\n",
       "    </tr>\n",
       "    <tr>\n",
       "      <th>2019-05-19</th>\n",
       "      <td>34</td>\n",
       "    </tr>\n",
       "    <tr>\n",
       "      <th>2019-05-20</th>\n",
       "      <td>20</td>\n",
       "    </tr>\n",
       "    <tr>\n",
       "      <th>2019-05-21</th>\n",
       "      <td>7</td>\n",
       "    </tr>\n",
       "    <tr>\n",
       "      <th>2019-05-22</th>\n",
       "      <td>7</td>\n",
       "    </tr>\n",
       "    <tr>\n",
       "      <th>2019-05-23</th>\n",
       "      <td>6</td>\n",
       "    </tr>\n",
       "    <tr>\n",
       "      <th>2019-05-24</th>\n",
       "      <td>105</td>\n",
       "    </tr>\n",
       "    <tr>\n",
       "      <th>2019-05-25</th>\n",
       "      <td>59</td>\n",
       "    </tr>\n",
       "    <tr>\n",
       "      <th>2019-05-26</th>\n",
       "      <td>74</td>\n",
       "    </tr>\n",
       "    <tr>\n",
       "      <th>2019-05-27</th>\n",
       "      <td>37</td>\n",
       "    </tr>\n",
       "    <tr>\n",
       "      <th>2019-05-28</th>\n",
       "      <td>1</td>\n",
       "    </tr>\n",
       "    <tr>\n",
       "      <th>2019-05-29</th>\n",
       "      <td>1</td>\n",
       "    </tr>\n",
       "    <tr>\n",
       "      <th>2019-05-31</th>\n",
       "      <td>1</td>\n",
       "    </tr>\n",
       "  </tbody>\n",
       "</table>\n",
       "</div>"
      ],
      "text/plain": [
       "            unidades\n",
       "fecha               \n",
       "2019-05-16        71\n",
       "2019-05-17        41\n",
       "2019-05-18        28\n",
       "2019-05-19        34\n",
       "2019-05-20        20\n",
       "2019-05-21         7\n",
       "2019-05-22         7\n",
       "2019-05-23         6\n",
       "2019-05-24       105\n",
       "2019-05-25        59\n",
       "2019-05-26        74\n",
       "2019-05-27        37\n",
       "2019-05-28         1\n",
       "2019-05-29         1\n",
       "2019-05-31         1"
      ]
     },
     "execution_count": 24,
     "metadata": {},
     "output_type": "execute_result"
    }
   ],
   "source": [
    "ultimosDias = df['2019-05-16':'2019-05-31']\n",
    "ultimosDias"
   ]
  },
  {
   "cell_type": "markdown",
   "metadata": {},
   "source": [
    "## Preparamos los datos para Test\n",
    "\n",
    "Y ahora seguiremos el mismo preprocesado de datos que hicimos para el entrenamiento: escalando los valores, llamando a la función series_to_supervised pero esta vez sin incluir la columna de salida «Y» pues es la que queremos hallar. Por eso, verán en el código que hacemos drop() de la última columna."
   ]
  },
  {
   "cell_type": "code",
   "execution_count": 25,
   "metadata": {},
   "outputs": [
    {
     "data": {
      "text/html": [
       "<div>\n",
       "<style scoped>\n",
       "    .dataframe tbody tr th:only-of-type {\n",
       "        vertical-align: middle;\n",
       "    }\n",
       "\n",
       "    .dataframe tbody tr th {\n",
       "        vertical-align: top;\n",
       "    }\n",
       "\n",
       "    .dataframe thead th {\n",
       "        text-align: right;\n",
       "    }\n",
       "</style>\n",
       "<table border=\"1\" class=\"dataframe\">\n",
       "  <thead>\n",
       "    <tr style=\"text-align: right;\">\n",
       "      <th></th>\n",
       "      <th>var1(t-7)</th>\n",
       "      <th>var1(t-6)</th>\n",
       "      <th>var1(t-5)</th>\n",
       "      <th>var1(t-4)</th>\n",
       "      <th>var1(t-3)</th>\n",
       "      <th>var1(t-2)</th>\n",
       "      <th>var1(t-1)</th>\n",
       "    </tr>\n",
       "  </thead>\n",
       "  <tbody>\n",
       "    <tr>\n",
       "      <th>7</th>\n",
       "      <td>0.346154</td>\n",
       "      <td>-0.230769</td>\n",
       "      <td>-0.480769</td>\n",
       "      <td>-0.365385</td>\n",
       "      <td>-0.634615</td>\n",
       "      <td>-0.884615</td>\n",
       "      <td>-0.884615</td>\n",
       "    </tr>\n",
       "    <tr>\n",
       "      <th>8</th>\n",
       "      <td>-0.230769</td>\n",
       "      <td>-0.480769</td>\n",
       "      <td>-0.365385</td>\n",
       "      <td>-0.634615</td>\n",
       "      <td>-0.884615</td>\n",
       "      <td>-0.884615</td>\n",
       "      <td>-0.903846</td>\n",
       "    </tr>\n",
       "    <tr>\n",
       "      <th>9</th>\n",
       "      <td>-0.480769</td>\n",
       "      <td>-0.365385</td>\n",
       "      <td>-0.634615</td>\n",
       "      <td>-0.884615</td>\n",
       "      <td>-0.884615</td>\n",
       "      <td>-0.903846</td>\n",
       "      <td>1.000000</td>\n",
       "    </tr>\n",
       "    <tr>\n",
       "      <th>10</th>\n",
       "      <td>-0.365385</td>\n",
       "      <td>-0.634615</td>\n",
       "      <td>-0.884615</td>\n",
       "      <td>-0.884615</td>\n",
       "      <td>-0.903846</td>\n",
       "      <td>1.000000</td>\n",
       "      <td>0.115385</td>\n",
       "    </tr>\n",
       "    <tr>\n",
       "      <th>11</th>\n",
       "      <td>-0.634615</td>\n",
       "      <td>-0.884615</td>\n",
       "      <td>-0.884615</td>\n",
       "      <td>-0.903846</td>\n",
       "      <td>1.000000</td>\n",
       "      <td>0.115385</td>\n",
       "      <td>0.403846</td>\n",
       "    </tr>\n",
       "    <tr>\n",
       "      <th>12</th>\n",
       "      <td>-0.884615</td>\n",
       "      <td>-0.884615</td>\n",
       "      <td>-0.903846</td>\n",
       "      <td>1.000000</td>\n",
       "      <td>0.115385</td>\n",
       "      <td>0.403846</td>\n",
       "      <td>-0.307692</td>\n",
       "    </tr>\n",
       "    <tr>\n",
       "      <th>13</th>\n",
       "      <td>-0.884615</td>\n",
       "      <td>-0.903846</td>\n",
       "      <td>1.000000</td>\n",
       "      <td>0.115385</td>\n",
       "      <td>0.403846</td>\n",
       "      <td>-0.307692</td>\n",
       "      <td>-1.000000</td>\n",
       "    </tr>\n",
       "  </tbody>\n",
       "</table>\n",
       "</div>"
      ],
      "text/plain": [
       "    var1(t-7)  var1(t-6)  var1(t-5)  var1(t-4)  var1(t-3)  var1(t-2)  \\\n",
       "7    0.346154  -0.230769  -0.480769  -0.365385  -0.634615  -0.884615   \n",
       "8   -0.230769  -0.480769  -0.365385  -0.634615  -0.884615  -0.884615   \n",
       "9   -0.480769  -0.365385  -0.634615  -0.884615  -0.884615  -0.903846   \n",
       "10  -0.365385  -0.634615  -0.884615  -0.884615  -0.903846   1.000000   \n",
       "11  -0.634615  -0.884615  -0.884615  -0.903846   1.000000   0.115385   \n",
       "12  -0.884615  -0.884615  -0.903846   1.000000   0.115385   0.403846   \n",
       "13  -0.884615  -0.903846   1.000000   0.115385   0.403846  -0.307692   \n",
       "\n",
       "    var1(t-1)  \n",
       "7   -0.884615  \n",
       "8   -0.903846  \n",
       "9    1.000000  \n",
       "10   0.115385  \n",
       "11   0.403846  \n",
       "12  -0.307692  \n",
       "13  -1.000000  "
      ]
     },
     "execution_count": 25,
     "metadata": {},
     "output_type": "execute_result"
    }
   ],
   "source": [
    "values = ultimosDias.values\n",
    "values = values.astype('float32')\n",
    "# normalize features\n",
    "values=values.reshape(-1, 1) # esto lo hacemos porque tenemos 1 sola dimension\n",
    "scaled = scaler.fit_transform(values)\n",
    "reframed = series_to_supervised(scaled, PASOS, 1)\n",
    "reframed.drop(reframed.columns[[7]], axis=1, inplace=True)\n",
    "reframed.head(7)"
   ]
  },
  {
   "cell_type": "markdown",
   "metadata": {},
   "source": [
    "De este conjunto «ultimosDias» tomamos sólo la última fila, pues es la que correspondería a la última semana de Mayo y la dejamos en el formato correcto para la red neuronal con reshape:"
   ]
  },
  {
   "cell_type": "code",
   "execution_count": 26,
   "metadata": {},
   "outputs": [
    {
     "data": {
      "text/plain": [
       "array([[[-0.8846153 , -0.9038461 ,  1.0000001 ,  0.1153847 ,\n",
       "          0.40384626, -0.30769223, -0.99999994]],\n",
       "\n",
       "       [[-0.9038461 ,  1.0000001 ,  0.1153847 ,  0.40384626,\n",
       "         -0.30769223, -0.99999994, -0.99999994]]], dtype=float32)"
      ]
     },
     "execution_count": 26,
     "metadata": {},
     "output_type": "execute_result"
    }
   ],
   "source": [
    "values = reframed.values\n",
    "x_test = values[6:, :]\n",
    "x_test = x_test.reshape((x_test.shape[0], 1, x_test.shape[1]))\n",
    "x_test"
   ]
  },
  {
   "cell_type": "markdown",
   "metadata": {},
   "source": [
    "Ahora crearemos una función para ir «rellenando» el desplazamiento que hacemos por cada predicción. Esto es porque queremos predecir los 7 primeros días de Junio. Entonces para el 1 de Junio, ya tenemos el set con los últimos 7 días de Mayo. Pero para pronosticar el 2 de Junio necesitamos los 7 días anteriores que INCLUYEN al 1 de Junio y ese valor, lo obtenemos en nuestra predicción anterior. Y así hasta el 7 de Junio."
   ]
  },
  {
   "cell_type": "code",
   "execution_count": 27,
   "metadata": {},
   "outputs": [],
   "source": [
    "def agregarNuevoValor(x_test,nuevoValor):\n",
    "    for i in range(x_test.shape[2]-1):\n",
    "        x_test[0][0][i] = x_test[0][0][i+1]\n",
    "    x_test[0][0][x_test.shape[2]-1]=nuevoValor\n",
    "    return x_test\n",
    " "
   ]
  },
  {
   "cell_type": "markdown",
   "metadata": {},
   "source": [
    "## Pronóstico para la \"próxima semana\""
   ]
  },
  {
   "cell_type": "code",
   "execution_count": 28,
   "metadata": {},
   "outputs": [
    {
     "name": "stdout",
     "output_type": "stream",
     "text": [
      "[[[-0.8846153  -0.9038461   1.0000001   0.1153847   0.40384626\n",
      "   -0.30769223 -0.99999994]]\n",
      "\n",
      " [[-0.9038461   1.0000001   0.1153847   0.40384626 -0.30769223\n",
      "   -0.99999994 -0.99999994]]]\n",
      "[[[-0.9038461   1.0000001   0.1153847   0.40384626 -0.30769223\n",
      "   -0.99999994 -0.86293125]]\n",
      "\n",
      " [[-0.9038461   1.0000001   0.1153847   0.40384626 -0.30769223\n",
      "   -0.99999994 -0.99999994]]]\n",
      "[[[ 1.0000001   0.1153847   0.40384626 -0.30769223 -0.99999994\n",
      "   -0.86293125 -0.59759325]]\n",
      "\n",
      " [[-0.9038461   1.0000001   0.1153847   0.40384626 -0.30769223\n",
      "   -0.99999994 -0.99999994]]]\n",
      "[[[ 0.1153847   0.40384626 -0.30769223 -0.99999994 -0.86293125\n",
      "   -0.59759325 -0.8667559 ]]\n",
      "\n",
      " [[-0.9038461   1.0000001   0.1153847   0.40384626 -0.30769223\n",
      "   -0.99999994 -0.99999994]]]\n",
      "[[[ 0.40384626 -0.30769223 -0.99999994 -0.86293125 -0.59759325\n",
      "   -0.8667559  -0.9168864 ]]\n",
      "\n",
      " [[-0.9038461   1.0000001   0.1153847   0.40384626 -0.30769223\n",
      "   -0.99999994 -0.99999994]]]\n",
      "[[[-0.30769223 -0.99999994 -0.86293125 -0.59759325 -0.8667559\n",
      "   -0.9168864  -0.9580243 ]]\n",
      "\n",
      " [[-0.9038461   1.0000001   0.1153847   0.40384626 -0.30769223\n",
      "   -0.99999994 -0.99999994]]]\n",
      "[[[-0.99999994 -0.86293125 -0.59759325 -0.8667559  -0.9168864\n",
      "   -0.9580243  -0.95574236]]\n",
      "\n",
      " [[-0.9038461   1.0000001   0.1153847   0.40384626 -0.30769223\n",
      "   -0.99999994 -0.99999994]]]\n"
     ]
    }
   ],
   "source": [
    "results=[]\n",
    "for i in range(7):\n",
    "    parcial=model.predict(x_test)\n",
    "    results.append(parcial[0])\n",
    "    print(x_test)\n",
    "    x_test=agregarNuevoValor(x_test,parcial[0])"
   ]
  },
  {
   "cell_type": "markdown",
   "metadata": {},
   "source": [
    "## Re-Convertimos los resultados\n",
    "\n",
    "Ya casi lo tenemos… Ahora las predicciones están en el dominio del -1 al 1 y nosotros lo queremos en nuestra escala «real» de unidades vendidas. Entonces vamos a «re-transformar» los datos con el objeto «scaler» que creamos antes."
   ]
  },
  {
   "cell_type": "code",
   "execution_count": 29,
   "metadata": {},
   "outputs": [
    {
     "data": {
      "text/plain": [
       "array([[ 8.12757223],\n",
       "       [21.92514791],\n",
       "       [ 7.92869038],\n",
       "       [ 5.32190518],\n",
       "       [ 3.1827327 ],\n",
       "       [ 3.30139482],\n",
       "       [ 3.50541555]])"
      ]
     },
     "execution_count": 29,
     "metadata": {},
     "output_type": "execute_result"
    }
   ],
   "source": [
    "adimen = [x for x in results]    \n",
    "inverted = scaler.inverse_transform(adimen)\n",
    "inverted"
   ]
  },
  {
   "cell_type": "markdown",
   "metadata": {},
   "source": [
    "## Visualizamos el pronóstico\n",
    "\n",
    "Ya podemos crear un nuevo DataFrame Pandas por si quisiéramos guardar un nuevo csv con el pronóstico. Y lo visualizamos."
   ]
  },
  {
   "cell_type": "code",
   "execution_count": 30,
   "metadata": {},
   "outputs": [
    {
     "data": {
      "image/png": "[encoded data removed]",
      "text/plain": [
       "<Figure size 432x288 with 1 Axes>"
      ]
     },
     "metadata": {
      "needs_background": "light"
     },
     "output_type": "display_data"
    }
   ],
   "source": [
    "prediccion1SemanaJunio = pd.DataFrame(inverted)\n",
    "prediccion1SemanaJunio.columns = ['pronostico']\n",
    "prediccion1SemanaJunio.plot()\n",
    "prediccion1SemanaJunio.to_csv('pronostico_simple_I.csv')"
   ]
  },
  {
   "cell_type": "code",
   "execution_count": 31,
   "metadata": {},
   "outputs": [
    {
     "data": {
      "text/html": [
       "<div>\n",
       "<style scoped>\n",
       "    .dataframe tbody tr th:only-of-type {\n",
       "        vertical-align: middle;\n",
       "    }\n",
       "\n",
       "    .dataframe tbody tr th {\n",
       "        vertical-align: top;\n",
       "    }\n",
       "\n",
       "    .dataframe thead th {\n",
       "        text-align: right;\n",
       "    }\n",
       "</style>\n",
       "<table border=\"1\" class=\"dataframe\">\n",
       "  <thead>\n",
       "    <tr style=\"text-align: right;\">\n",
       "      <th></th>\n",
       "      <th>pronostico</th>\n",
       "    </tr>\n",
       "  </thead>\n",
       "  <tbody>\n",
       "    <tr>\n",
       "      <th>0</th>\n",
       "      <td>8.127572</td>\n",
       "    </tr>\n",
       "    <tr>\n",
       "      <th>1</th>\n",
       "      <td>21.925148</td>\n",
       "    </tr>\n",
       "    <tr>\n",
       "      <th>2</th>\n",
       "      <td>7.928690</td>\n",
       "    </tr>\n",
       "    <tr>\n",
       "      <th>3</th>\n",
       "      <td>5.321905</td>\n",
       "    </tr>\n",
       "    <tr>\n",
       "      <th>4</th>\n",
       "      <td>3.182733</td>\n",
       "    </tr>\n",
       "    <tr>\n",
       "      <th>5</th>\n",
       "      <td>3.301395</td>\n",
       "    </tr>\n",
       "    <tr>\n",
       "      <th>6</th>\n",
       "      <td>3.505416</td>\n",
       "    </tr>\n",
       "  </tbody>\n",
       "</table>\n",
       "</div>"
      ],
      "text/plain": [
       "   pronostico\n",
       "0    8.127572\n",
       "1   21.925148\n",
       "2    7.928690\n",
       "3    5.321905\n",
       "4    3.182733\n",
       "5    3.301395\n",
       "6    3.505416"
      ]
     },
     "execution_count": 31,
     "metadata": {},
     "output_type": "execute_result"
    }
   ],
   "source": [
    "prediccion1SemanaJunio"
   ]
  },
  {
   "cell_type": "markdown",
   "metadata": {},
   "source": [
    "A partir de los últimos 7 días de Mayo 2019 y utilizando nuestra red neuronal, hicimos el siguiente pronóstico de venta de unidades para la primer semana de Junio."
   ]
  },
  {
   "cell_type": "markdown",
   "metadata": {},
   "source": [
    "Para Probar, alterando parámetros del ejercicio:\n",
    "\n",
    "Variar la cantidad de EPOCHS Probar otro optimizador distinto a Adam, ó configurar valores distintos de Learning Rate. Cambiar la arquitectura de la Red Neuronal: Cambiar la cantidad de Neuronas de la capa oculta. Agregar más capas ocultas Probar utilizando más de 7 días previos para predecir. O probar con menos días. Se puede intentar predecir más de 1 día por vez (sin iterar el resultado como hice con la función agregarNuevoValor() )"
   ]
  },
  {
   "cell_type": "markdown",
   "metadata": {},
   "source": [
    "## Agregamos el resultado en el dataset"
   ]
  },
  {
   "cell_type": "code",
   "execution_count": 32,
   "metadata": {},
   "outputs": [
    {
     "name": "stderr",
     "output_type": "stream",
     "text": [
      "C:\\Users\\hmarq\\Anaconda3\\envs\\Pippo\\lib\\site-packages\\pandas\\core\\indexing.py:202: SettingWithCopyWarning: \n",
      "A value is trying to be set on a copy of a slice from a DataFrame\n",
      "\n",
      "See the caveats in the documentation: http://pandas.pydata.org/pandas-docs/stable/user_guide/indexing.html#returning-a-view-versus-a-copy\n",
      "  self._setitem_with_indexer(indexer, value)\n"
     ]
    },
    {
     "name": "stdout",
     "output_type": "stream",
     "text": [
      "8.127572233692845\n",
      "21.925147908734235\n",
      "7.928690376554043\n",
      "5.32190517627056\n",
      "3.1827327019448317\n",
      "3.3013948164360665\n",
      "3.5054155474373867\n"
     ]
    },
    {
     "data": {
      "text/html": [
       "<div>\n",
       "<style scoped>\n",
       "    .dataframe tbody tr th:only-of-type {\n",
       "        vertical-align: middle;\n",
       "    }\n",
       "\n",
       "    .dataframe tbody tr th {\n",
       "        vertical-align: top;\n",
       "    }\n",
       "\n",
       "    .dataframe thead th {\n",
       "        text-align: right;\n",
       "    }\n",
       "</style>\n",
       "<table border=\"1\" class=\"dataframe\">\n",
       "  <thead>\n",
       "    <tr style=\"text-align: right;\">\n",
       "      <th></th>\n",
       "      <th>unidades</th>\n",
       "    </tr>\n",
       "    <tr>\n",
       "      <th>fecha</th>\n",
       "      <th></th>\n",
       "    </tr>\n",
       "  </thead>\n",
       "  <tbody>\n",
       "    <tr>\n",
       "      <th>2019-05-24 00:00:00</th>\n",
       "      <td>105.000000</td>\n",
       "    </tr>\n",
       "    <tr>\n",
       "      <th>2019-05-25 00:00:00</th>\n",
       "      <td>59.000000</td>\n",
       "    </tr>\n",
       "    <tr>\n",
       "      <th>2019-05-26 00:00:00</th>\n",
       "      <td>74.000000</td>\n",
       "    </tr>\n",
       "    <tr>\n",
       "      <th>2019-05-27 00:00:00</th>\n",
       "      <td>37.000000</td>\n",
       "    </tr>\n",
       "    <tr>\n",
       "      <th>2019-05-28 00:00:00</th>\n",
       "      <td>1.000000</td>\n",
       "    </tr>\n",
       "    <tr>\n",
       "      <th>2019-05-29 00:00:00</th>\n",
       "      <td>1.000000</td>\n",
       "    </tr>\n",
       "    <tr>\n",
       "      <th>2019-05-31 00:00:00</th>\n",
       "      <td>1.000000</td>\n",
       "    </tr>\n",
       "    <tr>\n",
       "      <th>2019-06-01 00:00:00</th>\n",
       "      <td>8.127572</td>\n",
       "    </tr>\n",
       "    <tr>\n",
       "      <th>2019-06-02 00:00:00</th>\n",
       "      <td>21.925148</td>\n",
       "    </tr>\n",
       "    <tr>\n",
       "      <th>2019-06-03 00:00:00</th>\n",
       "      <td>7.928690</td>\n",
       "    </tr>\n",
       "    <tr>\n",
       "      <th>2019-06-04 00:00:00</th>\n",
       "      <td>5.321905</td>\n",
       "    </tr>\n",
       "    <tr>\n",
       "      <th>2019-06-05 00:00:00</th>\n",
       "      <td>3.182733</td>\n",
       "    </tr>\n",
       "    <tr>\n",
       "      <th>2019-06-06 00:00:00</th>\n",
       "      <td>3.301395</td>\n",
       "    </tr>\n",
       "    <tr>\n",
       "      <th>2019-06-07 00:00:00</th>\n",
       "      <td>3.505416</td>\n",
       "    </tr>\n",
       "  </tbody>\n",
       "</table>\n",
       "</div>"
      ],
      "text/plain": [
       "                       unidades\n",
       "fecha                          \n",
       "2019-05-24 00:00:00  105.000000\n",
       "2019-05-25 00:00:00   59.000000\n",
       "2019-05-26 00:00:00   74.000000\n",
       "2019-05-27 00:00:00   37.000000\n",
       "2019-05-28 00:00:00    1.000000\n",
       "2019-05-29 00:00:00    1.000000\n",
       "2019-05-31 00:00:00    1.000000\n",
       "2019-06-01 00:00:00    8.127572\n",
       "2019-06-02 00:00:00   21.925148\n",
       "2019-06-03 00:00:00    7.928690\n",
       "2019-06-04 00:00:00    5.321905\n",
       "2019-06-05 00:00:00    3.182733\n",
       "2019-06-06 00:00:00    3.301395\n",
       "2019-06-07 00:00:00    3.505416"
      ]
     },
     "execution_count": 32,
     "metadata": {},
     "output_type": "execute_result"
    }
   ],
   "source": [
    "i=0\n",
    "for fila in prediccion1SemanaJunio.pronostico:\n",
    "    i=i+1\n",
    "    ultimosDias.loc['2019-06-0' + str(i) + ' 00:00:00'] = fila\n",
    "    print(fila)\n",
    "ultimosDias.tail(14)"
   ]
  }
 ],
 "metadata": {
  "kernelspec": {
   "display_name": "Python 3",
   "language": "python",
   "name": "python3"
  },
  "language_info": {
   "codemirror_mode": {
    "name": "ipython",
    "version": 3
   },
   "file_extension": ".py",
   "mimetype": "text/x-python",
   "name": "python",
   "nbconvert_exporter": "python",
   "pygments_lexer": "ipython3",
   "version": "3.7.4"
  }
 },
 "nbformat": 4,
 "nbformat_minor": 2
}
