{
 "cells": [
  {
   "cell_type": "markdown",
   "metadata": {
    "colab_type": "text",
    "id": "jMywQN4Elnxo"
   },
   "source": [
    "# Recomendación para datos de compra, por ID\n",
    "\n",
    "## La meta\n",
    "\n",
    "Al resolver estos problemas, crearemos modelos de filtrado colaborativos para recomendar productos a los clientes utilizando datos de compra. En particular, cubriremos en detalle el proceso paso a paso en la construcción de un sistema de recomendación con Python y el módulo de aprendizaje automático Turicreate. Estos pasos incluyen:\n",
    "\n",
    "#### Transformando y normalizando datos\n",
    "\n",
    "#### Modelos de entrenamiento\n",
    "\n",
    "#### Evaluación del desempeño del modelo\n",
    "\n",
    "#### Seleccionando el modelo óptimo\n",
    "\n",
    "#### Descripción del producto\n",
    "\n",
    "La herramienta también podrá buscar una lista de recomendaciones basada en un usuario específico, de modo que:\n",
    "\n",
    "#### Entrada: ID del cliente\n",
    "\n",
    "#### Devoluciones: lista clasificada de artículos (ID de producto), que es más probable que el usuario quiera poner en su \"cesta\" (vacía)\n",
    "\n",
    "\n",
    "## 1. Obtención de librerías necesarias"
   ]
  },
  {
   "cell_type": "code",
   "execution_count": 0,
   "metadata": {
    "colab": {},
    "colab_type": "code",
    "id": "y92Uu6DLlnxw"
   },
   "outputs": [],
   "source": [
    "%load_ext autoreload\n",
    "%autoreload 2\n",
    "\n",
    "import pandas as pd\n",
    "import numpy as np\n",
    "import time\n",
    "import turicreate as tc\n",
    "from sklearn.model_selection import cross_validate\n",
    "from sklearn.model_selection import train_test_split\n",
    "\n",
    "import sys\n",
    "sys.path.append(\"..\")"
   ]
  },
  {
   "cell_type": "markdown",
   "metadata": {
    "colab_type": "text",
    "id": "3KYMZuDglnyA"
   },
   "source": [
    "## 2. Obtención de los datos"
   ]
  },
  {
   "cell_type": "code",
   "execution_count": 0,
   "metadata": {
    "colab": {},
    "colab_type": "code",
    "id": "VhQL632blnyD"
   },
   "outputs": [],
   "source": [
    "#Usaremos los datos de los clientes que repiten compras a lo largo del año analizado\n",
    "data = pd.read_csv('Data.csv')\n",
    "#Elimino la columna Unnamed: 0\n",
    "data.drop(['Unnamed: 0'], axis=1, inplace=True)"
   ]
  },
  {
   "cell_type": "code",
   "execution_count": 3,
   "metadata": {
    "colab": {
     "base_uri": "https://localhost:8080/",
     "height": 34
    },
    "colab_type": "code",
    "id": "5gOrsWj6lnyQ",
    "outputId": "82f1c690-6967-4c38-832e-32b7c0084fa9"
   },
   "outputs": [
    {
     "data": {
      "text/plain": [
       "(246858, 3)"
      ]
     },
     "execution_count": 3,
     "metadata": {
      "tags": []
     },
     "output_type": "execute_result"
    }
   ],
   "source": [
    "data.shape"
   ]
  },
  {
   "cell_type": "markdown",
   "metadata": {
    "colab_type": "text",
    "id": "gfs5D7zWlnyk"
   },
   "source": [
    "## 3. Preparacion de Datos\n",
    "\n",
    "Nuestro objetivo aquí es dividir cada lista de artículos en la columna de productos en filas y contar la cantidad de productos comprados por un usuario\n",
    "\n",
    "### 3.1. Crear datos con usuario, elemento y campo de destino."
   ]
  },
  {
   "cell_type": "markdown",
   "metadata": {
    "colab_type": "text",
    "id": "Fdun8aFglnyn"
   },
   "source": [
    "Chequeo si los datos importados llegan de acuerdo como lo pide el modelo usado.\n",
    "\n",
    "Se adecuo en el notebook de preparacion de datos. Esta tabla será una entrada para nuestro modelado posterior"
   ]
  },
  {
   "cell_type": "code",
   "execution_count": 4,
   "metadata": {
    "colab": {
     "base_uri": "https://localhost:8080/",
     "height": 153
    },
    "colab_type": "code",
    "id": "P6aGWvpklnyq",
    "outputId": "c860d462-95c7-4cd7-b66a-305404e9cd60"
   },
   "outputs": [
    {
     "name": "stdout",
     "output_type": "stream",
     "text": [
      "<class 'pandas.core.frame.DataFrame'>\n",
      "RangeIndex: 246858 entries, 0 to 246857\n",
      "Data columns (total 3 columns):\n",
      "customerId        246858 non-null int64\n",
      "productId         246858 non-null int64\n",
      "purchase_count    246858 non-null int64\n",
      "dtypes: int64(3)\n",
      "memory usage: 5.7 MB\n"
     ]
    }
   ],
   "source": [
    "data.info()"
   ]
  },
  {
   "cell_type": "code",
   "execution_count": 5,
   "metadata": {
    "colab": {
     "base_uri": "https://localhost:8080/",
     "height": 204
    },
    "colab_type": "code",
    "id": "-nv3aI4Wlny3",
    "outputId": "58e21e38-583b-4902-b613-f3d5e4932872"
   },
   "outputs": [
    {
     "data": {
      "text/html": [
       "<div>\n",
       "<style scoped>\n",
       "    .dataframe tbody tr th:only-of-type {\n",
       "        vertical-align: middle;\n",
       "    }\n",
       "\n",
       "    .dataframe tbody tr th {\n",
       "        vertical-align: top;\n",
       "    }\n",
       "\n",
       "    .dataframe thead th {\n",
       "        text-align: right;\n",
       "    }\n",
       "</style>\n",
       "<table border=\"1\" class=\"dataframe\">\n",
       "  <thead>\n",
       "    <tr style=\"text-align: right;\">\n",
       "      <th></th>\n",
       "      <th>customerId</th>\n",
       "      <th>productId</th>\n",
       "      <th>purchase_count</th>\n",
       "    </tr>\n",
       "  </thead>\n",
       "  <tbody>\n",
       "    <tr>\n",
       "      <th>710</th>\n",
       "      <td>257</td>\n",
       "      <td>701</td>\n",
       "      <td>1</td>\n",
       "    </tr>\n",
       "    <tr>\n",
       "      <th>193753</th>\n",
       "      <td>95179</td>\n",
       "      <td>448</td>\n",
       "      <td>1</td>\n",
       "    </tr>\n",
       "    <tr>\n",
       "      <th>130633</th>\n",
       "      <td>52957</td>\n",
       "      <td>937</td>\n",
       "      <td>1</td>\n",
       "    </tr>\n",
       "    <tr>\n",
       "      <th>211363</th>\n",
       "      <td>111593</td>\n",
       "      <td>30</td>\n",
       "      <td>1</td>\n",
       "    </tr>\n",
       "    <tr>\n",
       "      <th>71616</th>\n",
       "      <td>25171</td>\n",
       "      <td>2421</td>\n",
       "      <td>1</td>\n",
       "    </tr>\n",
       "  </tbody>\n",
       "</table>\n",
       "</div>"
      ],
      "text/plain": [
       "        customerId  productId  purchase_count\n",
       "710            257        701               1\n",
       "193753       95179        448               1\n",
       "130633       52957        937               1\n",
       "211363      111593         30               1\n",
       "71616        25171       2421               1"
      ]
     },
     "execution_count": 5,
     "metadata": {
      "tags": []
     },
     "output_type": "execute_result"
    }
   ],
   "source": [
    "data.sample(5)"
   ]
  },
  {
   "cell_type": "code",
   "execution_count": 6,
   "metadata": {
    "colab": {
     "base_uri": "https://localhost:8080/",
     "height": 204
    },
    "colab_type": "code",
    "id": "vI22Csmjqseg",
    "outputId": "9f665dd0-1459-4502-8128-18c90e9a4eec"
   },
   "outputs": [
    {
     "data": {
      "text/html": [
       "<div>\n",
       "<style scoped>\n",
       "    .dataframe tbody tr th:only-of-type {\n",
       "        vertical-align: middle;\n",
       "    }\n",
       "\n",
       "    .dataframe tbody tr th {\n",
       "        vertical-align: top;\n",
       "    }\n",
       "\n",
       "    .dataframe thead th {\n",
       "        text-align: right;\n",
       "    }\n",
       "</style>\n",
       "<table border=\"1\" class=\"dataframe\">\n",
       "  <thead>\n",
       "    <tr style=\"text-align: right;\">\n",
       "      <th></th>\n",
       "      <th>user_id</th>\n",
       "    </tr>\n",
       "  </thead>\n",
       "  <tbody>\n",
       "    <tr>\n",
       "      <th>8758</th>\n",
       "      <td>22827</td>\n",
       "    </tr>\n",
       "    <tr>\n",
       "      <th>15536</th>\n",
       "      <td>42929</td>\n",
       "    </tr>\n",
       "    <tr>\n",
       "      <th>36695</th>\n",
       "      <td>139445</td>\n",
       "    </tr>\n",
       "    <tr>\n",
       "      <th>24669</th>\n",
       "      <td>75772</td>\n",
       "    </tr>\n",
       "    <tr>\n",
       "      <th>32440</th>\n",
       "      <td>112125</td>\n",
       "    </tr>\n",
       "  </tbody>\n",
       "</table>\n",
       "</div>"
      ],
      "text/plain": [
       "       user_id\n",
       "8758     22827\n",
       "15536    42929\n",
       "36695   139445\n",
       "24669    75772\n",
       "32440   112125"
      ]
     },
     "execution_count": 6,
     "metadata": {
      "tags": []
     },
     "output_type": "execute_result"
    }
   ],
   "source": [
    "#Sobre el Dataframe creado, generamos un subdataframe con los códigos de clientes:\n",
    "customers = pd.DataFrame(data['customerId'].unique(), columns=['user_id'])\n",
    "customers.sample(5)"
   ]
  },
  {
   "cell_type": "markdown",
   "metadata": {
    "colab_type": "text",
    "id": "C5aafr0-lnzD"
   },
   "source": [
    "### 3.2. Crear dummy\n",
    "\n",
    "¿Por qué crear un dummy en lugar de normalizarlo? Normalizar el recuento de compras, por ejemplo, por cada usuario, no funcionaría porque los clientes pueden tener diferentes frecuencias de compra y no tienen el mismo gusto. Sin embargo, podemos normalizar los artículos por frecuencia de compra en todos los usuarios, lo que se hace en la sección 3.3. "
   ]
  },
  {
   "cell_type": "code",
   "execution_count": 0,
   "metadata": {
    "colab": {},
    "colab_type": "code",
    "id": "6tH8COc9lnzH"
   },
   "outputs": [],
   "source": [
    "def create_data_dummy(data):\n",
    "    data_dummy = data.copy()\n",
    "    data_dummy['purchase_dummy'] = 1\n",
    "    return data_dummy"
   ]
  },
  {
   "cell_type": "code",
   "execution_count": 0,
   "metadata": {
    "colab": {},
    "colab_type": "code",
    "id": "eTYC8QYblnzV"
   },
   "outputs": [],
   "source": [
    "data_dummy = create_data_dummy(data)"
   ]
  },
  {
   "cell_type": "markdown",
   "metadata": {
    "colab_type": "text",
    "id": "ri9QY4xLlnzh"
   },
   "source": [
    "### 3.3. Normalizar los items entre los usuarios"
   ]
  },
  {
   "cell_type": "code",
   "execution_count": 9,
   "metadata": {
    "colab": {
     "base_uri": "https://localhost:8080/",
     "height": 301
    },
    "colab_type": "code",
    "id": "175lBjCRlnzl",
    "outputId": "747d32b4-6a92-49f2-80e1-9cff0cf915b0"
   },
   "outputs": [
    {
     "name": "stdout",
     "output_type": "stream",
     "text": [
      "(39037, 2280)\n"
     ]
    },
    {
     "data": {
      "text/html": [
       "<div>\n",
       "<style scoped>\n",
       "    .dataframe tbody tr th:only-of-type {\n",
       "        vertical-align: middle;\n",
       "    }\n",
       "\n",
       "    .dataframe tbody tr th {\n",
       "        vertical-align: top;\n",
       "    }\n",
       "\n",
       "    .dataframe thead th {\n",
       "        text-align: right;\n",
       "    }\n",
       "</style>\n",
       "<table border=\"1\" class=\"dataframe\">\n",
       "  <thead>\n",
       "    <tr style=\"text-align: right;\">\n",
       "      <th>productId</th>\n",
       "      <th>3</th>\n",
       "      <th>4</th>\n",
       "      <th>5</th>\n",
       "      <th>6</th>\n",
       "      <th>8</th>\n",
       "      <th>9</th>\n",
       "      <th>11</th>\n",
       "      <th>17</th>\n",
       "      <th>18</th>\n",
       "      <th>19</th>\n",
       "      <th>22</th>\n",
       "      <th>23</th>\n",
       "      <th>24</th>\n",
       "      <th>26</th>\n",
       "      <th>29</th>\n",
       "      <th>30</th>\n",
       "      <th>32</th>\n",
       "      <th>33</th>\n",
       "      <th>34</th>\n",
       "      <th>36</th>\n",
       "      <th>38</th>\n",
       "      <th>40</th>\n",
       "      <th>41</th>\n",
       "      <th>42</th>\n",
       "      <th>43</th>\n",
       "      <th>44</th>\n",
       "      <th>46</th>\n",
       "      <th>47</th>\n",
       "      <th>49</th>\n",
       "      <th>50</th>\n",
       "      <th>51</th>\n",
       "      <th>52</th>\n",
       "      <th>54</th>\n",
       "      <th>55</th>\n",
       "      <th>56</th>\n",
       "      <th>57</th>\n",
       "      <th>59</th>\n",
       "      <th>61</th>\n",
       "      <th>62</th>\n",
       "      <th>63</th>\n",
       "      <th>...</th>\n",
       "      <th>2766</th>\n",
       "      <th>2767</th>\n",
       "      <th>2769</th>\n",
       "      <th>2770</th>\n",
       "      <th>2772</th>\n",
       "      <th>2777</th>\n",
       "      <th>2778</th>\n",
       "      <th>2779</th>\n",
       "      <th>2780</th>\n",
       "      <th>2781</th>\n",
       "      <th>2782</th>\n",
       "      <th>2783</th>\n",
       "      <th>2784</th>\n",
       "      <th>2785</th>\n",
       "      <th>2790</th>\n",
       "      <th>2791</th>\n",
       "      <th>2793</th>\n",
       "      <th>2794</th>\n",
       "      <th>2795</th>\n",
       "      <th>2796</th>\n",
       "      <th>2797</th>\n",
       "      <th>2799</th>\n",
       "      <th>2800</th>\n",
       "      <th>2802</th>\n",
       "      <th>2803</th>\n",
       "      <th>2804</th>\n",
       "      <th>2805</th>\n",
       "      <th>2806</th>\n",
       "      <th>2807</th>\n",
       "      <th>2808</th>\n",
       "      <th>2810</th>\n",
       "      <th>2811</th>\n",
       "      <th>2812</th>\n",
       "      <th>2813</th>\n",
       "      <th>2814</th>\n",
       "      <th>2816</th>\n",
       "      <th>2817</th>\n",
       "      <th>2819</th>\n",
       "      <th>2823</th>\n",
       "      <th>2828</th>\n",
       "    </tr>\n",
       "    <tr>\n",
       "      <th>customerId</th>\n",
       "      <th></th>\n",
       "      <th></th>\n",
       "      <th></th>\n",
       "      <th></th>\n",
       "      <th></th>\n",
       "      <th></th>\n",
       "      <th></th>\n",
       "      <th></th>\n",
       "      <th></th>\n",
       "      <th></th>\n",
       "      <th></th>\n",
       "      <th></th>\n",
       "      <th></th>\n",
       "      <th></th>\n",
       "      <th></th>\n",
       "      <th></th>\n",
       "      <th></th>\n",
       "      <th></th>\n",
       "      <th></th>\n",
       "      <th></th>\n",
       "      <th></th>\n",
       "      <th></th>\n",
       "      <th></th>\n",
       "      <th></th>\n",
       "      <th></th>\n",
       "      <th></th>\n",
       "      <th></th>\n",
       "      <th></th>\n",
       "      <th></th>\n",
       "      <th></th>\n",
       "      <th></th>\n",
       "      <th></th>\n",
       "      <th></th>\n",
       "      <th></th>\n",
       "      <th></th>\n",
       "      <th></th>\n",
       "      <th></th>\n",
       "      <th></th>\n",
       "      <th></th>\n",
       "      <th></th>\n",
       "      <th></th>\n",
       "      <th></th>\n",
       "      <th></th>\n",
       "      <th></th>\n",
       "      <th></th>\n",
       "      <th></th>\n",
       "      <th></th>\n",
       "      <th></th>\n",
       "      <th></th>\n",
       "      <th></th>\n",
       "      <th></th>\n",
       "      <th></th>\n",
       "      <th></th>\n",
       "      <th></th>\n",
       "      <th></th>\n",
       "      <th></th>\n",
       "      <th></th>\n",
       "      <th></th>\n",
       "      <th></th>\n",
       "      <th></th>\n",
       "      <th></th>\n",
       "      <th></th>\n",
       "      <th></th>\n",
       "      <th></th>\n",
       "      <th></th>\n",
       "      <th></th>\n",
       "      <th></th>\n",
       "      <th></th>\n",
       "      <th></th>\n",
       "      <th></th>\n",
       "      <th></th>\n",
       "      <th></th>\n",
       "      <th></th>\n",
       "      <th></th>\n",
       "      <th></th>\n",
       "      <th></th>\n",
       "      <th></th>\n",
       "      <th></th>\n",
       "      <th></th>\n",
       "      <th></th>\n",
       "      <th></th>\n",
       "    </tr>\n",
       "  </thead>\n",
       "  <tbody>\n",
       "    <tr>\n",
       "      <th>86430</th>\n",
       "      <td>NaN</td>\n",
       "      <td>NaN</td>\n",
       "      <td>NaN</td>\n",
       "      <td>NaN</td>\n",
       "      <td>NaN</td>\n",
       "      <td>NaN</td>\n",
       "      <td>NaN</td>\n",
       "      <td>NaN</td>\n",
       "      <td>NaN</td>\n",
       "      <td>NaN</td>\n",
       "      <td>NaN</td>\n",
       "      <td>NaN</td>\n",
       "      <td>NaN</td>\n",
       "      <td>NaN</td>\n",
       "      <td>NaN</td>\n",
       "      <td>NaN</td>\n",
       "      <td>NaN</td>\n",
       "      <td>NaN</td>\n",
       "      <td>NaN</td>\n",
       "      <td>NaN</td>\n",
       "      <td>NaN</td>\n",
       "      <td>NaN</td>\n",
       "      <td>NaN</td>\n",
       "      <td>NaN</td>\n",
       "      <td>NaN</td>\n",
       "      <td>NaN</td>\n",
       "      <td>NaN</td>\n",
       "      <td>NaN</td>\n",
       "      <td>NaN</td>\n",
       "      <td>NaN</td>\n",
       "      <td>NaN</td>\n",
       "      <td>NaN</td>\n",
       "      <td>NaN</td>\n",
       "      <td>NaN</td>\n",
       "      <td>NaN</td>\n",
       "      <td>NaN</td>\n",
       "      <td>NaN</td>\n",
       "      <td>NaN</td>\n",
       "      <td>NaN</td>\n",
       "      <td>NaN</td>\n",
       "      <td>...</td>\n",
       "      <td>NaN</td>\n",
       "      <td>NaN</td>\n",
       "      <td>NaN</td>\n",
       "      <td>NaN</td>\n",
       "      <td>NaN</td>\n",
       "      <td>NaN</td>\n",
       "      <td>NaN</td>\n",
       "      <td>NaN</td>\n",
       "      <td>NaN</td>\n",
       "      <td>NaN</td>\n",
       "      <td>NaN</td>\n",
       "      <td>NaN</td>\n",
       "      <td>NaN</td>\n",
       "      <td>NaN</td>\n",
       "      <td>NaN</td>\n",
       "      <td>NaN</td>\n",
       "      <td>NaN</td>\n",
       "      <td>NaN</td>\n",
       "      <td>NaN</td>\n",
       "      <td>NaN</td>\n",
       "      <td>NaN</td>\n",
       "      <td>NaN</td>\n",
       "      <td>NaN</td>\n",
       "      <td>NaN</td>\n",
       "      <td>NaN</td>\n",
       "      <td>NaN</td>\n",
       "      <td>NaN</td>\n",
       "      <td>NaN</td>\n",
       "      <td>NaN</td>\n",
       "      <td>NaN</td>\n",
       "      <td>NaN</td>\n",
       "      <td>NaN</td>\n",
       "      <td>NaN</td>\n",
       "      <td>NaN</td>\n",
       "      <td>NaN</td>\n",
       "      <td>NaN</td>\n",
       "      <td>NaN</td>\n",
       "      <td>NaN</td>\n",
       "      <td>NaN</td>\n",
       "      <td>NaN</td>\n",
       "    </tr>\n",
       "    <tr>\n",
       "      <th>69337</th>\n",
       "      <td>NaN</td>\n",
       "      <td>NaN</td>\n",
       "      <td>NaN</td>\n",
       "      <td>NaN</td>\n",
       "      <td>NaN</td>\n",
       "      <td>NaN</td>\n",
       "      <td>NaN</td>\n",
       "      <td>NaN</td>\n",
       "      <td>NaN</td>\n",
       "      <td>NaN</td>\n",
       "      <td>NaN</td>\n",
       "      <td>NaN</td>\n",
       "      <td>NaN</td>\n",
       "      <td>NaN</td>\n",
       "      <td>NaN</td>\n",
       "      <td>NaN</td>\n",
       "      <td>NaN</td>\n",
       "      <td>NaN</td>\n",
       "      <td>NaN</td>\n",
       "      <td>NaN</td>\n",
       "      <td>NaN</td>\n",
       "      <td>NaN</td>\n",
       "      <td>NaN</td>\n",
       "      <td>NaN</td>\n",
       "      <td>NaN</td>\n",
       "      <td>NaN</td>\n",
       "      <td>NaN</td>\n",
       "      <td>NaN</td>\n",
       "      <td>NaN</td>\n",
       "      <td>NaN</td>\n",
       "      <td>NaN</td>\n",
       "      <td>NaN</td>\n",
       "      <td>NaN</td>\n",
       "      <td>NaN</td>\n",
       "      <td>NaN</td>\n",
       "      <td>NaN</td>\n",
       "      <td>NaN</td>\n",
       "      <td>NaN</td>\n",
       "      <td>NaN</td>\n",
       "      <td>NaN</td>\n",
       "      <td>...</td>\n",
       "      <td>NaN</td>\n",
       "      <td>NaN</td>\n",
       "      <td>NaN</td>\n",
       "      <td>NaN</td>\n",
       "      <td>NaN</td>\n",
       "      <td>NaN</td>\n",
       "      <td>NaN</td>\n",
       "      <td>NaN</td>\n",
       "      <td>NaN</td>\n",
       "      <td>NaN</td>\n",
       "      <td>NaN</td>\n",
       "      <td>NaN</td>\n",
       "      <td>NaN</td>\n",
       "      <td>NaN</td>\n",
       "      <td>NaN</td>\n",
       "      <td>NaN</td>\n",
       "      <td>NaN</td>\n",
       "      <td>NaN</td>\n",
       "      <td>NaN</td>\n",
       "      <td>NaN</td>\n",
       "      <td>NaN</td>\n",
       "      <td>NaN</td>\n",
       "      <td>NaN</td>\n",
       "      <td>NaN</td>\n",
       "      <td>NaN</td>\n",
       "      <td>NaN</td>\n",
       "      <td>NaN</td>\n",
       "      <td>NaN</td>\n",
       "      <td>NaN</td>\n",
       "      <td>NaN</td>\n",
       "      <td>NaN</td>\n",
       "      <td>NaN</td>\n",
       "      <td>NaN</td>\n",
       "      <td>NaN</td>\n",
       "      <td>NaN</td>\n",
       "      <td>NaN</td>\n",
       "      <td>NaN</td>\n",
       "      <td>NaN</td>\n",
       "      <td>NaN</td>\n",
       "      <td>NaN</td>\n",
       "    </tr>\n",
       "    <tr>\n",
       "      <th>34887</th>\n",
       "      <td>NaN</td>\n",
       "      <td>NaN</td>\n",
       "      <td>NaN</td>\n",
       "      <td>NaN</td>\n",
       "      <td>NaN</td>\n",
       "      <td>NaN</td>\n",
       "      <td>NaN</td>\n",
       "      <td>NaN</td>\n",
       "      <td>NaN</td>\n",
       "      <td>NaN</td>\n",
       "      <td>NaN</td>\n",
       "      <td>NaN</td>\n",
       "      <td>NaN</td>\n",
       "      <td>NaN</td>\n",
       "      <td>NaN</td>\n",
       "      <td>NaN</td>\n",
       "      <td>NaN</td>\n",
       "      <td>NaN</td>\n",
       "      <td>NaN</td>\n",
       "      <td>NaN</td>\n",
       "      <td>NaN</td>\n",
       "      <td>NaN</td>\n",
       "      <td>NaN</td>\n",
       "      <td>NaN</td>\n",
       "      <td>NaN</td>\n",
       "      <td>NaN</td>\n",
       "      <td>NaN</td>\n",
       "      <td>NaN</td>\n",
       "      <td>NaN</td>\n",
       "      <td>NaN</td>\n",
       "      <td>NaN</td>\n",
       "      <td>NaN</td>\n",
       "      <td>NaN</td>\n",
       "      <td>NaN</td>\n",
       "      <td>NaN</td>\n",
       "      <td>NaN</td>\n",
       "      <td>NaN</td>\n",
       "      <td>NaN</td>\n",
       "      <td>NaN</td>\n",
       "      <td>NaN</td>\n",
       "      <td>...</td>\n",
       "      <td>NaN</td>\n",
       "      <td>NaN</td>\n",
       "      <td>NaN</td>\n",
       "      <td>NaN</td>\n",
       "      <td>NaN</td>\n",
       "      <td>NaN</td>\n",
       "      <td>NaN</td>\n",
       "      <td>NaN</td>\n",
       "      <td>NaN</td>\n",
       "      <td>NaN</td>\n",
       "      <td>NaN</td>\n",
       "      <td>NaN</td>\n",
       "      <td>NaN</td>\n",
       "      <td>NaN</td>\n",
       "      <td>NaN</td>\n",
       "      <td>NaN</td>\n",
       "      <td>NaN</td>\n",
       "      <td>NaN</td>\n",
       "      <td>NaN</td>\n",
       "      <td>NaN</td>\n",
       "      <td>NaN</td>\n",
       "      <td>NaN</td>\n",
       "      <td>NaN</td>\n",
       "      <td>NaN</td>\n",
       "      <td>NaN</td>\n",
       "      <td>NaN</td>\n",
       "      <td>NaN</td>\n",
       "      <td>NaN</td>\n",
       "      <td>NaN</td>\n",
       "      <td>NaN</td>\n",
       "      <td>NaN</td>\n",
       "      <td>NaN</td>\n",
       "      <td>NaN</td>\n",
       "      <td>NaN</td>\n",
       "      <td>NaN</td>\n",
       "      <td>NaN</td>\n",
       "      <td>NaN</td>\n",
       "      <td>NaN</td>\n",
       "      <td>NaN</td>\n",
       "      <td>NaN</td>\n",
       "    </tr>\n",
       "    <tr>\n",
       "      <th>71945</th>\n",
       "      <td>NaN</td>\n",
       "      <td>NaN</td>\n",
       "      <td>NaN</td>\n",
       "      <td>NaN</td>\n",
       "      <td>NaN</td>\n",
       "      <td>NaN</td>\n",
       "      <td>NaN</td>\n",
       "      <td>NaN</td>\n",
       "      <td>NaN</td>\n",
       "      <td>NaN</td>\n",
       "      <td>NaN</td>\n",
       "      <td>NaN</td>\n",
       "      <td>NaN</td>\n",
       "      <td>NaN</td>\n",
       "      <td>NaN</td>\n",
       "      <td>NaN</td>\n",
       "      <td>NaN</td>\n",
       "      <td>NaN</td>\n",
       "      <td>NaN</td>\n",
       "      <td>NaN</td>\n",
       "      <td>NaN</td>\n",
       "      <td>NaN</td>\n",
       "      <td>NaN</td>\n",
       "      <td>NaN</td>\n",
       "      <td>NaN</td>\n",
       "      <td>NaN</td>\n",
       "      <td>NaN</td>\n",
       "      <td>NaN</td>\n",
       "      <td>NaN</td>\n",
       "      <td>NaN</td>\n",
       "      <td>NaN</td>\n",
       "      <td>NaN</td>\n",
       "      <td>1.0</td>\n",
       "      <td>NaN</td>\n",
       "      <td>NaN</td>\n",
       "      <td>NaN</td>\n",
       "      <td>NaN</td>\n",
       "      <td>NaN</td>\n",
       "      <td>NaN</td>\n",
       "      <td>1.0</td>\n",
       "      <td>...</td>\n",
       "      <td>NaN</td>\n",
       "      <td>NaN</td>\n",
       "      <td>NaN</td>\n",
       "      <td>NaN</td>\n",
       "      <td>NaN</td>\n",
       "      <td>NaN</td>\n",
       "      <td>NaN</td>\n",
       "      <td>NaN</td>\n",
       "      <td>NaN</td>\n",
       "      <td>NaN</td>\n",
       "      <td>NaN</td>\n",
       "      <td>NaN</td>\n",
       "      <td>NaN</td>\n",
       "      <td>NaN</td>\n",
       "      <td>NaN</td>\n",
       "      <td>NaN</td>\n",
       "      <td>NaN</td>\n",
       "      <td>NaN</td>\n",
       "      <td>NaN</td>\n",
       "      <td>NaN</td>\n",
       "      <td>NaN</td>\n",
       "      <td>NaN</td>\n",
       "      <td>NaN</td>\n",
       "      <td>NaN</td>\n",
       "      <td>NaN</td>\n",
       "      <td>NaN</td>\n",
       "      <td>NaN</td>\n",
       "      <td>NaN</td>\n",
       "      <td>NaN</td>\n",
       "      <td>NaN</td>\n",
       "      <td>NaN</td>\n",
       "      <td>NaN</td>\n",
       "      <td>NaN</td>\n",
       "      <td>NaN</td>\n",
       "      <td>NaN</td>\n",
       "      <td>NaN</td>\n",
       "      <td>NaN</td>\n",
       "      <td>NaN</td>\n",
       "      <td>NaN</td>\n",
       "      <td>NaN</td>\n",
       "    </tr>\n",
       "    <tr>\n",
       "      <th>106171</th>\n",
       "      <td>NaN</td>\n",
       "      <td>NaN</td>\n",
       "      <td>NaN</td>\n",
       "      <td>NaN</td>\n",
       "      <td>NaN</td>\n",
       "      <td>NaN</td>\n",
       "      <td>NaN</td>\n",
       "      <td>NaN</td>\n",
       "      <td>NaN</td>\n",
       "      <td>NaN</td>\n",
       "      <td>NaN</td>\n",
       "      <td>NaN</td>\n",
       "      <td>NaN</td>\n",
       "      <td>NaN</td>\n",
       "      <td>NaN</td>\n",
       "      <td>NaN</td>\n",
       "      <td>NaN</td>\n",
       "      <td>NaN</td>\n",
       "      <td>NaN</td>\n",
       "      <td>NaN</td>\n",
       "      <td>NaN</td>\n",
       "      <td>NaN</td>\n",
       "      <td>NaN</td>\n",
       "      <td>NaN</td>\n",
       "      <td>NaN</td>\n",
       "      <td>NaN</td>\n",
       "      <td>NaN</td>\n",
       "      <td>NaN</td>\n",
       "      <td>NaN</td>\n",
       "      <td>NaN</td>\n",
       "      <td>NaN</td>\n",
       "      <td>NaN</td>\n",
       "      <td>NaN</td>\n",
       "      <td>NaN</td>\n",
       "      <td>NaN</td>\n",
       "      <td>NaN</td>\n",
       "      <td>NaN</td>\n",
       "      <td>NaN</td>\n",
       "      <td>NaN</td>\n",
       "      <td>NaN</td>\n",
       "      <td>...</td>\n",
       "      <td>NaN</td>\n",
       "      <td>NaN</td>\n",
       "      <td>NaN</td>\n",
       "      <td>NaN</td>\n",
       "      <td>NaN</td>\n",
       "      <td>NaN</td>\n",
       "      <td>NaN</td>\n",
       "      <td>NaN</td>\n",
       "      <td>NaN</td>\n",
       "      <td>NaN</td>\n",
       "      <td>NaN</td>\n",
       "      <td>NaN</td>\n",
       "      <td>NaN</td>\n",
       "      <td>NaN</td>\n",
       "      <td>NaN</td>\n",
       "      <td>NaN</td>\n",
       "      <td>NaN</td>\n",
       "      <td>NaN</td>\n",
       "      <td>NaN</td>\n",
       "      <td>NaN</td>\n",
       "      <td>NaN</td>\n",
       "      <td>NaN</td>\n",
       "      <td>NaN</td>\n",
       "      <td>NaN</td>\n",
       "      <td>NaN</td>\n",
       "      <td>NaN</td>\n",
       "      <td>NaN</td>\n",
       "      <td>NaN</td>\n",
       "      <td>NaN</td>\n",
       "      <td>NaN</td>\n",
       "      <td>NaN</td>\n",
       "      <td>NaN</td>\n",
       "      <td>NaN</td>\n",
       "      <td>NaN</td>\n",
       "      <td>NaN</td>\n",
       "      <td>NaN</td>\n",
       "      <td>NaN</td>\n",
       "      <td>NaN</td>\n",
       "      <td>NaN</td>\n",
       "      <td>NaN</td>\n",
       "    </tr>\n",
       "  </tbody>\n",
       "</table>\n",
       "<p>5 rows × 2280 columns</p>\n",
       "</div>"
      ],
      "text/plain": [
       "productId   3     4     5     6     8     ...  2816  2817  2819  2823  2828\n",
       "customerId                                ...                              \n",
       "86430        NaN   NaN   NaN   NaN   NaN  ...   NaN   NaN   NaN   NaN   NaN\n",
       "69337        NaN   NaN   NaN   NaN   NaN  ...   NaN   NaN   NaN   NaN   NaN\n",
       "34887        NaN   NaN   NaN   NaN   NaN  ...   NaN   NaN   NaN   NaN   NaN\n",
       "71945        NaN   NaN   NaN   NaN   NaN  ...   NaN   NaN   NaN   NaN   NaN\n",
       "106171       NaN   NaN   NaN   NaN   NaN  ...   NaN   NaN   NaN   NaN   NaN\n",
       "\n",
       "[5 rows x 2280 columns]"
      ]
     },
     "execution_count": 9,
     "metadata": {
      "tags": []
     },
     "output_type": "execute_result"
    }
   ],
   "source": [
    "# Para hacer esto, normalizamos la frecuencia de compra de cada artículo entre los usuarios creando primero un artículo\n",
    "# de usuario matriz de la siguiente manera\n",
    "df_matrix = pd.pivot_table(data, values='purchase_count', index='customerId', columns='productId')\n",
    "print(df_matrix.shape)\n",
    "df_matrix.sample(5)"
   ]
  },
  {
   "cell_type": "code",
   "execution_count": 10,
   "metadata": {
    "colab": {
     "base_uri": "https://localhost:8080/",
     "height": 301
    },
    "colab_type": "code",
    "id": "XM7x5w4Blnzw",
    "outputId": "3af143da-3ba5-4ff6-c9b3-15f7534880c2"
   },
   "outputs": [
    {
     "name": "stdout",
     "output_type": "stream",
     "text": [
      "(39037, 2280)\n"
     ]
    },
    {
     "data": {
      "text/html": [
       "<div>\n",
       "<style scoped>\n",
       "    .dataframe tbody tr th:only-of-type {\n",
       "        vertical-align: middle;\n",
       "    }\n",
       "\n",
       "    .dataframe tbody tr th {\n",
       "        vertical-align: top;\n",
       "    }\n",
       "\n",
       "    .dataframe thead th {\n",
       "        text-align: right;\n",
       "    }\n",
       "</style>\n",
       "<table border=\"1\" class=\"dataframe\">\n",
       "  <thead>\n",
       "    <tr style=\"text-align: right;\">\n",
       "      <th>productId</th>\n",
       "      <th>3</th>\n",
       "      <th>4</th>\n",
       "      <th>5</th>\n",
       "      <th>6</th>\n",
       "      <th>8</th>\n",
       "      <th>9</th>\n",
       "      <th>11</th>\n",
       "      <th>17</th>\n",
       "      <th>18</th>\n",
       "      <th>19</th>\n",
       "      <th>22</th>\n",
       "      <th>23</th>\n",
       "      <th>24</th>\n",
       "      <th>26</th>\n",
       "      <th>29</th>\n",
       "      <th>30</th>\n",
       "      <th>32</th>\n",
       "      <th>33</th>\n",
       "      <th>34</th>\n",
       "      <th>36</th>\n",
       "      <th>38</th>\n",
       "      <th>40</th>\n",
       "      <th>41</th>\n",
       "      <th>42</th>\n",
       "      <th>43</th>\n",
       "      <th>44</th>\n",
       "      <th>46</th>\n",
       "      <th>47</th>\n",
       "      <th>49</th>\n",
       "      <th>50</th>\n",
       "      <th>51</th>\n",
       "      <th>52</th>\n",
       "      <th>54</th>\n",
       "      <th>55</th>\n",
       "      <th>56</th>\n",
       "      <th>57</th>\n",
       "      <th>59</th>\n",
       "      <th>61</th>\n",
       "      <th>62</th>\n",
       "      <th>63</th>\n",
       "      <th>...</th>\n",
       "      <th>2766</th>\n",
       "      <th>2767</th>\n",
       "      <th>2769</th>\n",
       "      <th>2770</th>\n",
       "      <th>2772</th>\n",
       "      <th>2777</th>\n",
       "      <th>2778</th>\n",
       "      <th>2779</th>\n",
       "      <th>2780</th>\n",
       "      <th>2781</th>\n",
       "      <th>2782</th>\n",
       "      <th>2783</th>\n",
       "      <th>2784</th>\n",
       "      <th>2785</th>\n",
       "      <th>2790</th>\n",
       "      <th>2791</th>\n",
       "      <th>2793</th>\n",
       "      <th>2794</th>\n",
       "      <th>2795</th>\n",
       "      <th>2796</th>\n",
       "      <th>2797</th>\n",
       "      <th>2799</th>\n",
       "      <th>2800</th>\n",
       "      <th>2802</th>\n",
       "      <th>2803</th>\n",
       "      <th>2804</th>\n",
       "      <th>2805</th>\n",
       "      <th>2806</th>\n",
       "      <th>2807</th>\n",
       "      <th>2808</th>\n",
       "      <th>2810</th>\n",
       "      <th>2811</th>\n",
       "      <th>2812</th>\n",
       "      <th>2813</th>\n",
       "      <th>2814</th>\n",
       "      <th>2816</th>\n",
       "      <th>2817</th>\n",
       "      <th>2819</th>\n",
       "      <th>2823</th>\n",
       "      <th>2828</th>\n",
       "    </tr>\n",
       "    <tr>\n",
       "      <th>customerId</th>\n",
       "      <th></th>\n",
       "      <th></th>\n",
       "      <th></th>\n",
       "      <th></th>\n",
       "      <th></th>\n",
       "      <th></th>\n",
       "      <th></th>\n",
       "      <th></th>\n",
       "      <th></th>\n",
       "      <th></th>\n",
       "      <th></th>\n",
       "      <th></th>\n",
       "      <th></th>\n",
       "      <th></th>\n",
       "      <th></th>\n",
       "      <th></th>\n",
       "      <th></th>\n",
       "      <th></th>\n",
       "      <th></th>\n",
       "      <th></th>\n",
       "      <th></th>\n",
       "      <th></th>\n",
       "      <th></th>\n",
       "      <th></th>\n",
       "      <th></th>\n",
       "      <th></th>\n",
       "      <th></th>\n",
       "      <th></th>\n",
       "      <th></th>\n",
       "      <th></th>\n",
       "      <th></th>\n",
       "      <th></th>\n",
       "      <th></th>\n",
       "      <th></th>\n",
       "      <th></th>\n",
       "      <th></th>\n",
       "      <th></th>\n",
       "      <th></th>\n",
       "      <th></th>\n",
       "      <th></th>\n",
       "      <th></th>\n",
       "      <th></th>\n",
       "      <th></th>\n",
       "      <th></th>\n",
       "      <th></th>\n",
       "      <th></th>\n",
       "      <th></th>\n",
       "      <th></th>\n",
       "      <th></th>\n",
       "      <th></th>\n",
       "      <th></th>\n",
       "      <th></th>\n",
       "      <th></th>\n",
       "      <th></th>\n",
       "      <th></th>\n",
       "      <th></th>\n",
       "      <th></th>\n",
       "      <th></th>\n",
       "      <th></th>\n",
       "      <th></th>\n",
       "      <th></th>\n",
       "      <th></th>\n",
       "      <th></th>\n",
       "      <th></th>\n",
       "      <th></th>\n",
       "      <th></th>\n",
       "      <th></th>\n",
       "      <th></th>\n",
       "      <th></th>\n",
       "      <th></th>\n",
       "      <th></th>\n",
       "      <th></th>\n",
       "      <th></th>\n",
       "      <th></th>\n",
       "      <th></th>\n",
       "      <th></th>\n",
       "      <th></th>\n",
       "      <th></th>\n",
       "      <th></th>\n",
       "      <th></th>\n",
       "      <th></th>\n",
       "    </tr>\n",
       "  </thead>\n",
       "  <tbody>\n",
       "    <tr>\n",
       "      <th>51424</th>\n",
       "      <td>NaN</td>\n",
       "      <td>NaN</td>\n",
       "      <td>NaN</td>\n",
       "      <td>NaN</td>\n",
       "      <td>NaN</td>\n",
       "      <td>NaN</td>\n",
       "      <td>NaN</td>\n",
       "      <td>NaN</td>\n",
       "      <td>NaN</td>\n",
       "      <td>NaN</td>\n",
       "      <td>NaN</td>\n",
       "      <td>NaN</td>\n",
       "      <td>NaN</td>\n",
       "      <td>NaN</td>\n",
       "      <td>NaN</td>\n",
       "      <td>NaN</td>\n",
       "      <td>NaN</td>\n",
       "      <td>NaN</td>\n",
       "      <td>NaN</td>\n",
       "      <td>NaN</td>\n",
       "      <td>NaN</td>\n",
       "      <td>NaN</td>\n",
       "      <td>NaN</td>\n",
       "      <td>NaN</td>\n",
       "      <td>NaN</td>\n",
       "      <td>NaN</td>\n",
       "      <td>NaN</td>\n",
       "      <td>NaN</td>\n",
       "      <td>NaN</td>\n",
       "      <td>NaN</td>\n",
       "      <td>NaN</td>\n",
       "      <td>NaN</td>\n",
       "      <td>NaN</td>\n",
       "      <td>NaN</td>\n",
       "      <td>NaN</td>\n",
       "      <td>NaN</td>\n",
       "      <td>NaN</td>\n",
       "      <td>NaN</td>\n",
       "      <td>NaN</td>\n",
       "      <td>NaN</td>\n",
       "      <td>...</td>\n",
       "      <td>NaN</td>\n",
       "      <td>NaN</td>\n",
       "      <td>NaN</td>\n",
       "      <td>NaN</td>\n",
       "      <td>NaN</td>\n",
       "      <td>NaN</td>\n",
       "      <td>NaN</td>\n",
       "      <td>NaN</td>\n",
       "      <td>NaN</td>\n",
       "      <td>NaN</td>\n",
       "      <td>NaN</td>\n",
       "      <td>NaN</td>\n",
       "      <td>NaN</td>\n",
       "      <td>NaN</td>\n",
       "      <td>NaN</td>\n",
       "      <td>NaN</td>\n",
       "      <td>NaN</td>\n",
       "      <td>NaN</td>\n",
       "      <td>NaN</td>\n",
       "      <td>NaN</td>\n",
       "      <td>NaN</td>\n",
       "      <td>NaN</td>\n",
       "      <td>NaN</td>\n",
       "      <td>NaN</td>\n",
       "      <td>NaN</td>\n",
       "      <td>NaN</td>\n",
       "      <td>NaN</td>\n",
       "      <td>NaN</td>\n",
       "      <td>NaN</td>\n",
       "      <td>NaN</td>\n",
       "      <td>NaN</td>\n",
       "      <td>NaN</td>\n",
       "      <td>NaN</td>\n",
       "      <td>NaN</td>\n",
       "      <td>NaN</td>\n",
       "      <td>NaN</td>\n",
       "      <td>NaN</td>\n",
       "      <td>NaN</td>\n",
       "      <td>NaN</td>\n",
       "      <td>NaN</td>\n",
       "    </tr>\n",
       "    <tr>\n",
       "      <th>168</th>\n",
       "      <td>NaN</td>\n",
       "      <td>NaN</td>\n",
       "      <td>NaN</td>\n",
       "      <td>NaN</td>\n",
       "      <td>NaN</td>\n",
       "      <td>NaN</td>\n",
       "      <td>NaN</td>\n",
       "      <td>NaN</td>\n",
       "      <td>NaN</td>\n",
       "      <td>NaN</td>\n",
       "      <td>NaN</td>\n",
       "      <td>NaN</td>\n",
       "      <td>NaN</td>\n",
       "      <td>NaN</td>\n",
       "      <td>NaN</td>\n",
       "      <td>NaN</td>\n",
       "      <td>NaN</td>\n",
       "      <td>NaN</td>\n",
       "      <td>NaN</td>\n",
       "      <td>NaN</td>\n",
       "      <td>NaN</td>\n",
       "      <td>NaN</td>\n",
       "      <td>NaN</td>\n",
       "      <td>NaN</td>\n",
       "      <td>NaN</td>\n",
       "      <td>NaN</td>\n",
       "      <td>NaN</td>\n",
       "      <td>NaN</td>\n",
       "      <td>NaN</td>\n",
       "      <td>NaN</td>\n",
       "      <td>NaN</td>\n",
       "      <td>NaN</td>\n",
       "      <td>NaN</td>\n",
       "      <td>NaN</td>\n",
       "      <td>NaN</td>\n",
       "      <td>NaN</td>\n",
       "      <td>NaN</td>\n",
       "      <td>NaN</td>\n",
       "      <td>NaN</td>\n",
       "      <td>NaN</td>\n",
       "      <td>...</td>\n",
       "      <td>NaN</td>\n",
       "      <td>NaN</td>\n",
       "      <td>NaN</td>\n",
       "      <td>NaN</td>\n",
       "      <td>NaN</td>\n",
       "      <td>NaN</td>\n",
       "      <td>NaN</td>\n",
       "      <td>NaN</td>\n",
       "      <td>NaN</td>\n",
       "      <td>NaN</td>\n",
       "      <td>NaN</td>\n",
       "      <td>NaN</td>\n",
       "      <td>NaN</td>\n",
       "      <td>NaN</td>\n",
       "      <td>NaN</td>\n",
       "      <td>NaN</td>\n",
       "      <td>NaN</td>\n",
       "      <td>NaN</td>\n",
       "      <td>NaN</td>\n",
       "      <td>NaN</td>\n",
       "      <td>NaN</td>\n",
       "      <td>NaN</td>\n",
       "      <td>NaN</td>\n",
       "      <td>NaN</td>\n",
       "      <td>NaN</td>\n",
       "      <td>NaN</td>\n",
       "      <td>NaN</td>\n",
       "      <td>NaN</td>\n",
       "      <td>NaN</td>\n",
       "      <td>NaN</td>\n",
       "      <td>NaN</td>\n",
       "      <td>NaN</td>\n",
       "      <td>NaN</td>\n",
       "      <td>NaN</td>\n",
       "      <td>NaN</td>\n",
       "      <td>NaN</td>\n",
       "      <td>NaN</td>\n",
       "      <td>NaN</td>\n",
       "      <td>NaN</td>\n",
       "      <td>NaN</td>\n",
       "    </tr>\n",
       "    <tr>\n",
       "      <th>412</th>\n",
       "      <td>NaN</td>\n",
       "      <td>NaN</td>\n",
       "      <td>NaN</td>\n",
       "      <td>NaN</td>\n",
       "      <td>NaN</td>\n",
       "      <td>NaN</td>\n",
       "      <td>NaN</td>\n",
       "      <td>NaN</td>\n",
       "      <td>NaN</td>\n",
       "      <td>NaN</td>\n",
       "      <td>NaN</td>\n",
       "      <td>NaN</td>\n",
       "      <td>NaN</td>\n",
       "      <td>NaN</td>\n",
       "      <td>NaN</td>\n",
       "      <td>NaN</td>\n",
       "      <td>NaN</td>\n",
       "      <td>NaN</td>\n",
       "      <td>NaN</td>\n",
       "      <td>NaN</td>\n",
       "      <td>NaN</td>\n",
       "      <td>NaN</td>\n",
       "      <td>NaN</td>\n",
       "      <td>NaN</td>\n",
       "      <td>NaN</td>\n",
       "      <td>NaN</td>\n",
       "      <td>NaN</td>\n",
       "      <td>NaN</td>\n",
       "      <td>NaN</td>\n",
       "      <td>NaN</td>\n",
       "      <td>NaN</td>\n",
       "      <td>NaN</td>\n",
       "      <td>NaN</td>\n",
       "      <td>NaN</td>\n",
       "      <td>NaN</td>\n",
       "      <td>NaN</td>\n",
       "      <td>NaN</td>\n",
       "      <td>NaN</td>\n",
       "      <td>NaN</td>\n",
       "      <td>NaN</td>\n",
       "      <td>...</td>\n",
       "      <td>NaN</td>\n",
       "      <td>NaN</td>\n",
       "      <td>NaN</td>\n",
       "      <td>NaN</td>\n",
       "      <td>NaN</td>\n",
       "      <td>NaN</td>\n",
       "      <td>NaN</td>\n",
       "      <td>NaN</td>\n",
       "      <td>NaN</td>\n",
       "      <td>NaN</td>\n",
       "      <td>NaN</td>\n",
       "      <td>NaN</td>\n",
       "      <td>NaN</td>\n",
       "      <td>NaN</td>\n",
       "      <td>NaN</td>\n",
       "      <td>NaN</td>\n",
       "      <td>NaN</td>\n",
       "      <td>NaN</td>\n",
       "      <td>NaN</td>\n",
       "      <td>NaN</td>\n",
       "      <td>NaN</td>\n",
       "      <td>NaN</td>\n",
       "      <td>NaN</td>\n",
       "      <td>NaN</td>\n",
       "      <td>NaN</td>\n",
       "      <td>NaN</td>\n",
       "      <td>NaN</td>\n",
       "      <td>NaN</td>\n",
       "      <td>NaN</td>\n",
       "      <td>NaN</td>\n",
       "      <td>NaN</td>\n",
       "      <td>NaN</td>\n",
       "      <td>NaN</td>\n",
       "      <td>NaN</td>\n",
       "      <td>NaN</td>\n",
       "      <td>NaN</td>\n",
       "      <td>NaN</td>\n",
       "      <td>NaN</td>\n",
       "      <td>NaN</td>\n",
       "      <td>NaN</td>\n",
       "    </tr>\n",
       "    <tr>\n",
       "      <th>66211</th>\n",
       "      <td>NaN</td>\n",
       "      <td>NaN</td>\n",
       "      <td>NaN</td>\n",
       "      <td>NaN</td>\n",
       "      <td>NaN</td>\n",
       "      <td>NaN</td>\n",
       "      <td>NaN</td>\n",
       "      <td>NaN</td>\n",
       "      <td>NaN</td>\n",
       "      <td>NaN</td>\n",
       "      <td>NaN</td>\n",
       "      <td>NaN</td>\n",
       "      <td>NaN</td>\n",
       "      <td>NaN</td>\n",
       "      <td>NaN</td>\n",
       "      <td>NaN</td>\n",
       "      <td>NaN</td>\n",
       "      <td>NaN</td>\n",
       "      <td>NaN</td>\n",
       "      <td>NaN</td>\n",
       "      <td>NaN</td>\n",
       "      <td>NaN</td>\n",
       "      <td>NaN</td>\n",
       "      <td>NaN</td>\n",
       "      <td>NaN</td>\n",
       "      <td>NaN</td>\n",
       "      <td>NaN</td>\n",
       "      <td>NaN</td>\n",
       "      <td>NaN</td>\n",
       "      <td>NaN</td>\n",
       "      <td>NaN</td>\n",
       "      <td>NaN</td>\n",
       "      <td>NaN</td>\n",
       "      <td>NaN</td>\n",
       "      <td>NaN</td>\n",
       "      <td>NaN</td>\n",
       "      <td>NaN</td>\n",
       "      <td>NaN</td>\n",
       "      <td>NaN</td>\n",
       "      <td>NaN</td>\n",
       "      <td>...</td>\n",
       "      <td>NaN</td>\n",
       "      <td>NaN</td>\n",
       "      <td>NaN</td>\n",
       "      <td>NaN</td>\n",
       "      <td>NaN</td>\n",
       "      <td>NaN</td>\n",
       "      <td>NaN</td>\n",
       "      <td>NaN</td>\n",
       "      <td>NaN</td>\n",
       "      <td>NaN</td>\n",
       "      <td>NaN</td>\n",
       "      <td>NaN</td>\n",
       "      <td>NaN</td>\n",
       "      <td>NaN</td>\n",
       "      <td>NaN</td>\n",
       "      <td>NaN</td>\n",
       "      <td>NaN</td>\n",
       "      <td>NaN</td>\n",
       "      <td>NaN</td>\n",
       "      <td>NaN</td>\n",
       "      <td>NaN</td>\n",
       "      <td>NaN</td>\n",
       "      <td>NaN</td>\n",
       "      <td>NaN</td>\n",
       "      <td>NaN</td>\n",
       "      <td>NaN</td>\n",
       "      <td>NaN</td>\n",
       "      <td>NaN</td>\n",
       "      <td>NaN</td>\n",
       "      <td>NaN</td>\n",
       "      <td>NaN</td>\n",
       "      <td>NaN</td>\n",
       "      <td>NaN</td>\n",
       "      <td>NaN</td>\n",
       "      <td>NaN</td>\n",
       "      <td>NaN</td>\n",
       "      <td>NaN</td>\n",
       "      <td>NaN</td>\n",
       "      <td>NaN</td>\n",
       "      <td>NaN</td>\n",
       "    </tr>\n",
       "    <tr>\n",
       "      <th>103261</th>\n",
       "      <td>NaN</td>\n",
       "      <td>NaN</td>\n",
       "      <td>NaN</td>\n",
       "      <td>NaN</td>\n",
       "      <td>NaN</td>\n",
       "      <td>NaN</td>\n",
       "      <td>NaN</td>\n",
       "      <td>NaN</td>\n",
       "      <td>NaN</td>\n",
       "      <td>NaN</td>\n",
       "      <td>NaN</td>\n",
       "      <td>NaN</td>\n",
       "      <td>NaN</td>\n",
       "      <td>NaN</td>\n",
       "      <td>NaN</td>\n",
       "      <td>NaN</td>\n",
       "      <td>NaN</td>\n",
       "      <td>NaN</td>\n",
       "      <td>NaN</td>\n",
       "      <td>NaN</td>\n",
       "      <td>NaN</td>\n",
       "      <td>NaN</td>\n",
       "      <td>NaN</td>\n",
       "      <td>NaN</td>\n",
       "      <td>NaN</td>\n",
       "      <td>NaN</td>\n",
       "      <td>NaN</td>\n",
       "      <td>NaN</td>\n",
       "      <td>NaN</td>\n",
       "      <td>NaN</td>\n",
       "      <td>NaN</td>\n",
       "      <td>NaN</td>\n",
       "      <td>NaN</td>\n",
       "      <td>NaN</td>\n",
       "      <td>NaN</td>\n",
       "      <td>NaN</td>\n",
       "      <td>NaN</td>\n",
       "      <td>NaN</td>\n",
       "      <td>NaN</td>\n",
       "      <td>NaN</td>\n",
       "      <td>...</td>\n",
       "      <td>NaN</td>\n",
       "      <td>NaN</td>\n",
       "      <td>NaN</td>\n",
       "      <td>NaN</td>\n",
       "      <td>NaN</td>\n",
       "      <td>NaN</td>\n",
       "      <td>NaN</td>\n",
       "      <td>NaN</td>\n",
       "      <td>NaN</td>\n",
       "      <td>NaN</td>\n",
       "      <td>NaN</td>\n",
       "      <td>NaN</td>\n",
       "      <td>NaN</td>\n",
       "      <td>NaN</td>\n",
       "      <td>NaN</td>\n",
       "      <td>NaN</td>\n",
       "      <td>NaN</td>\n",
       "      <td>NaN</td>\n",
       "      <td>NaN</td>\n",
       "      <td>NaN</td>\n",
       "      <td>NaN</td>\n",
       "      <td>NaN</td>\n",
       "      <td>NaN</td>\n",
       "      <td>NaN</td>\n",
       "      <td>NaN</td>\n",
       "      <td>NaN</td>\n",
       "      <td>NaN</td>\n",
       "      <td>NaN</td>\n",
       "      <td>NaN</td>\n",
       "      <td>NaN</td>\n",
       "      <td>NaN</td>\n",
       "      <td>NaN</td>\n",
       "      <td>NaN</td>\n",
       "      <td>NaN</td>\n",
       "      <td>NaN</td>\n",
       "      <td>NaN</td>\n",
       "      <td>NaN</td>\n",
       "      <td>NaN</td>\n",
       "      <td>NaN</td>\n",
       "      <td>NaN</td>\n",
       "    </tr>\n",
       "  </tbody>\n",
       "</table>\n",
       "<p>5 rows × 2280 columns</p>\n",
       "</div>"
      ],
      "text/plain": [
       "productId   3     4     5     6     8     ...  2816  2817  2819  2823  2828\n",
       "customerId                                ...                              \n",
       "51424        NaN   NaN   NaN   NaN   NaN  ...   NaN   NaN   NaN   NaN   NaN\n",
       "168          NaN   NaN   NaN   NaN   NaN  ...   NaN   NaN   NaN   NaN   NaN\n",
       "412          NaN   NaN   NaN   NaN   NaN  ...   NaN   NaN   NaN   NaN   NaN\n",
       "66211        NaN   NaN   NaN   NaN   NaN  ...   NaN   NaN   NaN   NaN   NaN\n",
       "103261       NaN   NaN   NaN   NaN   NaN  ...   NaN   NaN   NaN   NaN   NaN\n",
       "\n",
       "[5 rows x 2280 columns]"
      ]
     },
     "execution_count": 10,
     "metadata": {
      "tags": []
     },
     "output_type": "execute_result"
    }
   ],
   "source": [
    "df_matrix_norm = (df_matrix-df_matrix.min())/(df_matrix.max()-df_matrix.min())\n",
    "print(df_matrix_norm.shape)\n",
    "df_matrix_norm.sample(5)"
   ]
  },
  {
   "cell_type": "code",
   "execution_count": 11,
   "metadata": {
    "colab": {
     "base_uri": "https://localhost:8080/",
     "height": 221
    },
    "colab_type": "code",
    "id": "h3ZM3gqfln0C",
    "outputId": "ed929a7c-d500-447e-97b4-71c72e50e256"
   },
   "outputs": [
    {
     "name": "stdout",
     "output_type": "stream",
     "text": [
      "(202870, 3)\n"
     ]
    },
    {
     "data": {
      "text/html": [
       "<div>\n",
       "<style scoped>\n",
       "    .dataframe tbody tr th:only-of-type {\n",
       "        vertical-align: middle;\n",
       "    }\n",
       "\n",
       "    .dataframe tbody tr th {\n",
       "        vertical-align: top;\n",
       "    }\n",
       "\n",
       "    .dataframe thead th {\n",
       "        text-align: right;\n",
       "    }\n",
       "</style>\n",
       "<table border=\"1\" class=\"dataframe\">\n",
       "  <thead>\n",
       "    <tr style=\"text-align: right;\">\n",
       "      <th></th>\n",
       "      <th>customerId</th>\n",
       "      <th>productId</th>\n",
       "      <th>scaled_purchase_freq</th>\n",
       "    </tr>\n",
       "  </thead>\n",
       "  <tbody>\n",
       "    <tr>\n",
       "      <th>36</th>\n",
       "      <td>112</td>\n",
       "      <td>3</td>\n",
       "      <td>0.0</td>\n",
       "    </tr>\n",
       "    <tr>\n",
       "      <th>213</th>\n",
       "      <td>547</td>\n",
       "      <td>3</td>\n",
       "      <td>0.0</td>\n",
       "    </tr>\n",
       "    <tr>\n",
       "      <th>227</th>\n",
       "      <td>575</td>\n",
       "      <td>3</td>\n",
       "      <td>0.0</td>\n",
       "    </tr>\n",
       "    <tr>\n",
       "      <th>347</th>\n",
       "      <td>868</td>\n",
       "      <td>3</td>\n",
       "      <td>0.0</td>\n",
       "    </tr>\n",
       "    <tr>\n",
       "      <th>1094</th>\n",
       "      <td>2737</td>\n",
       "      <td>3</td>\n",
       "      <td>0.0</td>\n",
       "    </tr>\n",
       "  </tbody>\n",
       "</table>\n",
       "</div>"
      ],
      "text/plain": [
       "      customerId productId  scaled_purchase_freq\n",
       "36           112         3                   0.0\n",
       "213          547         3                   0.0\n",
       "227          575         3                   0.0\n",
       "347          868         3                   0.0\n",
       "1094        2737         3                   0.0"
      ]
     },
     "execution_count": 11,
     "metadata": {
      "tags": []
     },
     "output_type": "execute_result"
    }
   ],
   "source": [
    "# crear una tabla para ingresar al modelado  \n",
    "d = df_matrix_norm.reset_index() \n",
    "d.index.names = ['scaled_purchase_freq'] \n",
    "data_norm = pd.melt(d, id_vars=['customerId'], value_name='scaled_purchase_freq').dropna()\n",
    "print(data_norm.shape)\n",
    "data_norm.head()"
   ]
  },
  {
   "cell_type": "code",
   "execution_count": 0,
   "metadata": {
    "colab": {},
    "colab_type": "code",
    "id": "XCskIN-uln0R"
   },
   "outputs": [],
   "source": [
    "# Los pasos anteriores se pueden combinar con una función definida a continuación:\n",
    "def normalize_data(data):\n",
    "    df_matrix = pd.pivot_table(data, values='purchase_count', index='customerId', columns='productId')\n",
    "    df_matrix_norm = (df_matrix-df_matrix.min())/(df_matrix.max()-df_matrix.min())\n",
    "    d = df_matrix_norm.reset_index()\n",
    "    d.index.names = ['scaled_purchase_freq']\n",
    "    return pd.melt(d, id_vars=['customerId'], value_name='scaled_purchase_freq').dropna()\n",
    "# En este paso, hemos normalizado su historial de compras, de 0 a 1 (donde 1 es la mayor cantidad de compras para \n",
    "# un artículo y 0 es 0 recuento de compras para ese artículo)."
   ]
  },
  {
   "cell_type": "markdown",
   "metadata": {
    "colab_type": "text",
    "id": "xBAVGY0Kln0c"
   },
   "source": [
    "## 4. Split train and test set\n",
    "\n",
    "Dividir los datos en conjuntos de entrenamiento y prueba es una parte importante de la evaluación del modelado predictivo, en este caso un modelo de filtrado colaborativo. Por lo general, utilizamos una porción más grande de los datos para capacitación y una porción más pequeña para pruebas.\n",
    "Utilizamos la proporción 80:20 para nuestro tamaño de conjunto de prueba de entrenamiento.\n"
   ]
  },
  {
   "cell_type": "code",
   "execution_count": 13,
   "metadata": {
    "colab": {
     "base_uri": "https://localhost:8080/",
     "height": 34
    },
    "colab_type": "code",
    "id": "RF759csiln0g",
    "outputId": "ea5bc982-e853-45b2-bb68-cf469b7df3c9"
   },
   "outputs": [
    {
     "name": "stdout",
     "output_type": "stream",
     "text": [
      "(197486, 3) (49372, 3)\n"
     ]
    }
   ],
   "source": [
    "train, test = train_test_split(data, test_size = .2)\n",
    "print(train.shape, test.shape)"
   ]
  },
  {
   "cell_type": "code",
   "execution_count": 0,
   "metadata": {
    "colab": {},
    "colab_type": "code",
    "id": "RbWmv0LWln0t"
   },
   "outputs": [],
   "source": [
    "def split_data(data):\n",
    "    '''\n",
    "    Divide el conjunto de datos en el conjunto de entrenamiento y prueba..\n",
    "    \n",
    "    Args:\n",
    "        data (pandas.DataFrame)\n",
    "        \n",
    "    Returns\n",
    "        train_data (tc.SFrame)\n",
    "        test_data (tc.SFrame)\n",
    "    '''\n",
    "    train, test = train_test_split(data, test_size = .2)\n",
    "    train_data = tc.SFrame(train)\n",
    "    test_data = tc.SFrame(test)\n",
    "    return train_data, test_data"
   ]
  },
  {
   "cell_type": "code",
   "execution_count": 0,
   "metadata": {
    "colab": {},
    "colab_type": "code",
    "id": "e1IDeaVUln08"
   },
   "outputs": [],
   "source": [
    "# Ahora que tenemos tres conjuntos de datos con recuentos de compras, ficticios de compra y recuentos de compras\n",
    "# a escala, nos gustaría dividir cada uno para modelar.\n",
    "train_data, test_data = split_data(data)\n",
    "train_data_dummy, test_data_dummy = split_data(data_dummy)\n",
    "train_data_norm, test_data_norm = split_data(data_norm)"
   ]
  },
  {
   "cell_type": "markdown",
   "metadata": {
    "colab_type": "text",
    "id": "qIIkfTpIln1Z"
   },
   "source": [
    "## 5. Definir modelos usando la biblioteca Turicreate\n",
    "\n",
    "Antes de ejecutar un enfoque más complicado, como el filtrado colaborativo, debemos ejecutar un modelo de referencia para comparar y evaluar modelos. Dado que la línea de base generalmente usa un enfoque muy simple, las técnicas utilizadas más allá de este enfoque deben elegirse si muestran una precisión y complejidad relativamente mejores. En este caso, utilizaremos el modelo de popularidad."
   ]
  },
  {
   "cell_type": "code",
   "execution_count": 0,
   "metadata": {
    "colab": {},
    "colab_type": "code",
    "id": "cUZi71sIln1d"
   },
   "outputs": [],
   "source": [
    "# variables constantes para definir nombres de campo incluyen:\n",
    "user_id = 'customerId'\n",
    "item_id = 'productId'\n",
    "users_to_recommend = list(data.customerId.unique())\n",
    "n_rec = 10 # número de artículos para recomendar\n",
    "n_display = 30 # para mostrar las primeras filas en un conjunto de datos de salida"
   ]
  },
  {
   "cell_type": "code",
   "execution_count": 0,
   "metadata": {
    "colab": {},
    "colab_type": "code",
    "id": "hsy7M7dmln1o"
   },
   "outputs": [],
   "source": [
    "def model(train_data, name, user_id, item_id, target, users_to_recommend, n_rec, n_display):\n",
    "    if name == 'popularity':\n",
    "        model = tc.popularity_recommender.create(train_data, \n",
    "                                                    user_id=user_id, \n",
    "                                                    item_id=item_id, \n",
    "                                                    target=target)\n",
    "    elif name == 'cosine':\n",
    "        model = tc.item_similarity_recommender.create(train_data, \n",
    "                                                    user_id=user_id, \n",
    "                                                    item_id=item_id, \n",
    "                                                    target=target, \n",
    "                                                    similarity_type='cosine')\n",
    "    elif name == 'pearson':\n",
    "        model = tc.item_similarity_recommender.create(train_data, \n",
    "                                                    user_id=user_id, \n",
    "                                                    item_id=item_id, \n",
    "                                                    target=target, \n",
    "                                                    similarity_type='pearson')\n",
    "    recom = model.recommend(users=users_to_recommend, k=n_rec)\n",
    "    recom.print_rows(n_display)\n",
    "    return model"
   ]
  },
  {
   "cell_type": "markdown",
   "metadata": {
    "colab_type": "text",
    "id": "jNomxf34ln1-"
   },
   "source": [
    "## 6. Modelo de popularidad como línea de base\n",
    "\n",
    "El modelo de popularidad toma los artículos más populares como recomendación. Estos artículos son productos con el mayor número de ventas entre clientes."
   ]
  },
  {
   "cell_type": "code",
   "execution_count": 18,
   "metadata": {
    "colab": {
     "base_uri": "https://localhost:8080/",
     "height": 1000
    },
    "colab_type": "code",
    "id": "egtec227ln2G",
    "outputId": "b8e0f75e-84fb-437b-ed0c-df112799d9f5"
   },
   "outputs": [
    {
     "data": {
      "text/html": [
       "<pre>Preparing data set.</pre>"
      ],
      "text/plain": [
       "Preparing data set."
      ]
     },
     "metadata": {
      "tags": []
     },
     "output_type": "display_data"
    },
    {
     "data": {
      "text/html": [
       "<pre>    Data has 197486 observations with 39019 users and 2257 items.</pre>"
      ],
      "text/plain": [
       "    Data has 197486 observations with 39019 users and 2257 items."
      ]
     },
     "metadata": {
      "tags": []
     },
     "output_type": "display_data"
    },
    {
     "data": {
      "text/html": [
       "<pre>    Data prepared in: 0.236935s</pre>"
      ],
      "text/plain": [
       "    Data prepared in: 0.236935s"
      ]
     },
     "metadata": {
      "tags": []
     },
     "output_type": "display_data"
    },
    {
     "data": {
      "text/html": [
       "<pre>197486 observations to process; with 2257 unique items.</pre>"
      ],
      "text/plain": [
       "197486 observations to process; with 2257 unique items."
      ]
     },
     "metadata": {
      "tags": []
     },
     "output_type": "display_data"
    },
    {
     "data": {
      "text/html": [
       "<pre>recommendations finished on 1000/39037 queries. users per second: 41658</pre>"
      ],
      "text/plain": [
       "recommendations finished on 1000/39037 queries. users per second: 41658"
      ]
     },
     "metadata": {
      "tags": []
     },
     "output_type": "display_data"
    },
    {
     "data": {
      "text/html": [
       "<pre>recommendations finished on 2000/39037 queries. users per second: 46766.1</pre>"
      ],
      "text/plain": [
       "recommendations finished on 2000/39037 queries. users per second: 46766.1"
      ]
     },
     "metadata": {
      "tags": []
     },
     "output_type": "display_data"
    },
    {
     "data": {
      "text/html": [
       "<pre>recommendations finished on 3000/39037 queries. users per second: 49541.7</pre>"
      ],
      "text/plain": [
       "recommendations finished on 3000/39037 queries. users per second: 49541.7"
      ]
     },
     "metadata": {
      "tags": []
     },
     "output_type": "display_data"
    },
    {
     "data": {
      "text/html": [
       "<pre>recommendations finished on 4000/39037 queries. users per second: 50021.9</pre>"
      ],
      "text/plain": [
       "recommendations finished on 4000/39037 queries. users per second: 50021.9"
      ]
     },
     "metadata": {
      "tags": []
     },
     "output_type": "display_data"
    },
    {
     "data": {
      "text/html": [
       "<pre>recommendations finished on 5000/39037 queries. users per second: 50660.1</pre>"
      ],
      "text/plain": [
       "recommendations finished on 5000/39037 queries. users per second: 50660.1"
      ]
     },
     "metadata": {
      "tags": []
     },
     "output_type": "display_data"
    },
    {
     "data": {
      "text/html": [
       "<pre>recommendations finished on 6000/39037 queries. users per second: 51164</pre>"
      ],
      "text/plain": [
       "recommendations finished on 6000/39037 queries. users per second: 51164"
      ]
     },
     "metadata": {
      "tags": []
     },
     "output_type": "display_data"
    },
    {
     "data": {
      "text/html": [
       "<pre>recommendations finished on 7000/39037 queries. users per second: 51294.5</pre>"
      ],
      "text/plain": [
       "recommendations finished on 7000/39037 queries. users per second: 51294.5"
      ]
     },
     "metadata": {
      "tags": []
     },
     "output_type": "display_data"
    },
    {
     "data": {
      "text/html": [
       "<pre>recommendations finished on 8000/39037 queries. users per second: 51609.6</pre>"
      ],
      "text/plain": [
       "recommendations finished on 8000/39037 queries. users per second: 51609.6"
      ]
     },
     "metadata": {
      "tags": []
     },
     "output_type": "display_data"
    },
    {
     "data": {
      "text/html": [
       "<pre>recommendations finished on 9000/39037 queries. users per second: 51443.9</pre>"
      ],
      "text/plain": [
       "recommendations finished on 9000/39037 queries. users per second: 51443.9"
      ]
     },
     "metadata": {
      "tags": []
     },
     "output_type": "display_data"
    },
    {
     "data": {
      "text/html": [
       "<pre>recommendations finished on 10000/39037 queries. users per second: 51768.7</pre>"
      ],
      "text/plain": [
       "recommendations finished on 10000/39037 queries. users per second: 51768.7"
      ]
     },
     "metadata": {
      "tags": []
     },
     "output_type": "display_data"
    },
    {
     "data": {
      "text/html": [
       "<pre>recommendations finished on 11000/39037 queries. users per second: 52212.9</pre>"
      ],
      "text/plain": [
       "recommendations finished on 11000/39037 queries. users per second: 52212.9"
      ]
     },
     "metadata": {
      "tags": []
     },
     "output_type": "display_data"
    },
    {
     "data": {
      "text/html": [
       "<pre>recommendations finished on 12000/39037 queries. users per second: 52333.4</pre>"
      ],
      "text/plain": [
       "recommendations finished on 12000/39037 queries. users per second: 52333.4"
      ]
     },
     "metadata": {
      "tags": []
     },
     "output_type": "display_data"
    },
    {
     "data": {
      "text/html": [
       "<pre>recommendations finished on 13000/39037 queries. users per second: 52352.9</pre>"
      ],
      "text/plain": [
       "recommendations finished on 13000/39037 queries. users per second: 52352.9"
      ]
     },
     "metadata": {
      "tags": []
     },
     "output_type": "display_data"
    },
    {
     "data": {
      "text/html": [
       "<pre>recommendations finished on 14000/39037 queries. users per second: 52112.8</pre>"
      ],
      "text/plain": [
       "recommendations finished on 14000/39037 queries. users per second: 52112.8"
      ]
     },
     "metadata": {
      "tags": []
     },
     "output_type": "display_data"
    },
    {
     "data": {
      "text/html": [
       "<pre>recommendations finished on 15000/39037 queries. users per second: 52423.2</pre>"
      ],
      "text/plain": [
       "recommendations finished on 15000/39037 queries. users per second: 52423.2"
      ]
     },
     "metadata": {
      "tags": []
     },
     "output_type": "display_data"
    },
    {
     "data": {
      "text/html": [
       "<pre>recommendations finished on 16000/39037 queries. users per second: 52309.1</pre>"
      ],
      "text/plain": [
       "recommendations finished on 16000/39037 queries. users per second: 52309.1"
      ]
     },
     "metadata": {
      "tags": []
     },
     "output_type": "display_data"
    },
    {
     "data": {
      "text/html": [
       "<pre>recommendations finished on 17000/39037 queries. users per second: 52374.7</pre>"
      ],
      "text/plain": [
       "recommendations finished on 17000/39037 queries. users per second: 52374.7"
      ]
     },
     "metadata": {
      "tags": []
     },
     "output_type": "display_data"
    },
    {
     "data": {
      "text/html": [
       "<pre>recommendations finished on 18000/39037 queries. users per second: 52530.1</pre>"
      ],
      "text/plain": [
       "recommendations finished on 18000/39037 queries. users per second: 52530.1"
      ]
     },
     "metadata": {
      "tags": []
     },
     "output_type": "display_data"
    },
    {
     "data": {
      "text/html": [
       "<pre>recommendations finished on 19000/39037 queries. users per second: 52683.4</pre>"
      ],
      "text/plain": [
       "recommendations finished on 19000/39037 queries. users per second: 52683.4"
      ]
     },
     "metadata": {
      "tags": []
     },
     "output_type": "display_data"
    },
    {
     "data": {
      "text/html": [
       "<pre>recommendations finished on 20000/39037 queries. users per second: 52682.5</pre>"
      ],
      "text/plain": [
       "recommendations finished on 20000/39037 queries. users per second: 52682.5"
      ]
     },
     "metadata": {
      "tags": []
     },
     "output_type": "display_data"
    },
    {
     "data": {
      "text/html": [
       "<pre>recommendations finished on 21000/39037 queries. users per second: 52816.1</pre>"
      ],
      "text/plain": [
       "recommendations finished on 21000/39037 queries. users per second: 52816.1"
      ]
     },
     "metadata": {
      "tags": []
     },
     "output_type": "display_data"
    },
    {
     "data": {
      "text/html": [
       "<pre>recommendations finished on 22000/39037 queries. users per second: 52696.4</pre>"
      ],
      "text/plain": [
       "recommendations finished on 22000/39037 queries. users per second: 52696.4"
      ]
     },
     "metadata": {
      "tags": []
     },
     "output_type": "display_data"
    },
    {
     "data": {
      "text/html": [
       "<pre>recommendations finished on 23000/39037 queries. users per second: 52878.1</pre>"
      ],
      "text/plain": [
       "recommendations finished on 23000/39037 queries. users per second: 52878.1"
      ]
     },
     "metadata": {
      "tags": []
     },
     "output_type": "display_data"
    },
    {
     "data": {
      "text/html": [
       "<pre>recommendations finished on 24000/39037 queries. users per second: 52931.6</pre>"
      ],
      "text/plain": [
       "recommendations finished on 24000/39037 queries. users per second: 52931.6"
      ]
     },
     "metadata": {
      "tags": []
     },
     "output_type": "display_data"
    },
    {
     "data": {
      "text/html": [
       "<pre>recommendations finished on 25000/39037 queries. users per second: 52926.6</pre>"
      ],
      "text/plain": [
       "recommendations finished on 25000/39037 queries. users per second: 52926.6"
      ]
     },
     "metadata": {
      "tags": []
     },
     "output_type": "display_data"
    },
    {
     "data": {
      "text/html": [
       "<pre>recommendations finished on 26000/39037 queries. users per second: 52884.5</pre>"
      ],
      "text/plain": [
       "recommendations finished on 26000/39037 queries. users per second: 52884.5"
      ]
     },
     "metadata": {
      "tags": []
     },
     "output_type": "display_data"
    },
    {
     "data": {
      "text/html": [
       "<pre>recommendations finished on 27000/39037 queries. users per second: 53014.7</pre>"
      ],
      "text/plain": [
       "recommendations finished on 27000/39037 queries. users per second: 53014.7"
      ]
     },
     "metadata": {
      "tags": []
     },
     "output_type": "display_data"
    },
    {
     "data": {
      "text/html": [
       "<pre>recommendations finished on 28000/39037 queries. users per second: 52505.9</pre>"
      ],
      "text/plain": [
       "recommendations finished on 28000/39037 queries. users per second: 52505.9"
      ]
     },
     "metadata": {
      "tags": []
     },
     "output_type": "display_data"
    },
    {
     "data": {
      "text/html": [
       "<pre>recommendations finished on 29000/39037 queries. users per second: 52586.2</pre>"
      ],
      "text/plain": [
       "recommendations finished on 29000/39037 queries. users per second: 52586.2"
      ]
     },
     "metadata": {
      "tags": []
     },
     "output_type": "display_data"
    },
    {
     "data": {
      "text/html": [
       "<pre>recommendations finished on 30000/39037 queries. users per second: 52648.3</pre>"
      ],
      "text/plain": [
       "recommendations finished on 30000/39037 queries. users per second: 52648.3"
      ]
     },
     "metadata": {
      "tags": []
     },
     "output_type": "display_data"
    },
    {
     "data": {
      "text/html": [
       "<pre>recommendations finished on 31000/39037 queries. users per second: 52657.3</pre>"
      ],
      "text/plain": [
       "recommendations finished on 31000/39037 queries. users per second: 52657.3"
      ]
     },
     "metadata": {
      "tags": []
     },
     "output_type": "display_data"
    },
    {
     "data": {
      "text/html": [
       "<pre>recommendations finished on 32000/39037 queries. users per second: 52690.1</pre>"
      ],
      "text/plain": [
       "recommendations finished on 32000/39037 queries. users per second: 52690.1"
      ]
     },
     "metadata": {
      "tags": []
     },
     "output_type": "display_data"
    },
    {
     "data": {
      "text/html": [
       "<pre>recommendations finished on 33000/39037 queries. users per second: 52739.4</pre>"
      ],
      "text/plain": [
       "recommendations finished on 33000/39037 queries. users per second: 52739.4"
      ]
     },
     "metadata": {
      "tags": []
     },
     "output_type": "display_data"
    },
    {
     "data": {
      "text/html": [
       "<pre>recommendations finished on 34000/39037 queries. users per second: 52803.7</pre>"
      ],
      "text/plain": [
       "recommendations finished on 34000/39037 queries. users per second: 52803.7"
      ]
     },
     "metadata": {
      "tags": []
     },
     "output_type": "display_data"
    },
    {
     "data": {
      "text/html": [
       "<pre>recommendations finished on 35000/39037 queries. users per second: 52911.3</pre>"
      ],
      "text/plain": [
       "recommendations finished on 35000/39037 queries. users per second: 52911.3"
      ]
     },
     "metadata": {
      "tags": []
     },
     "output_type": "display_data"
    },
    {
     "data": {
      "text/html": [
       "<pre>recommendations finished on 36000/39037 queries. users per second: 52936.2</pre>"
      ],
      "text/plain": [
       "recommendations finished on 36000/39037 queries. users per second: 52936.2"
      ]
     },
     "metadata": {
      "tags": []
     },
     "output_type": "display_data"
    },
    {
     "data": {
      "text/html": [
       "<pre>recommendations finished on 37000/39037 queries. users per second: 52993.6</pre>"
      ],
      "text/plain": [
       "recommendations finished on 37000/39037 queries. users per second: 52993.6"
      ]
     },
     "metadata": {
      "tags": []
     },
     "output_type": "display_data"
    },
    {
     "data": {
      "text/html": [
       "<pre>recommendations finished on 38000/39037 queries. users per second: 53030.2</pre>"
      ],
      "text/plain": [
       "recommendations finished on 38000/39037 queries. users per second: 53030.2"
      ]
     },
     "metadata": {
      "tags": []
     },
     "output_type": "display_data"
    },
    {
     "data": {
      "text/html": [
       "<pre>recommendations finished on 39000/39037 queries. users per second: 52941.4</pre>"
      ],
      "text/plain": [
       "recommendations finished on 39000/39037 queries. users per second: 52941.4"
      ]
     },
     "metadata": {
      "tags": []
     },
     "output_type": "display_data"
    },
    {
     "name": "stdout",
     "output_type": "stream",
     "text": [
      "+------------+-----------+-------------------+------+\n",
      "| customerId | productId |       score       | rank |\n",
      "+------------+-----------+-------------------+------+\n",
      "|     0      |    1160   | 7.333333333333333 |  1   |\n",
      "|     0      |    585    |        6.0        |  2   |\n",
      "|     0      |    2292   |        6.0        |  3   |\n",
      "|     0      |    588    | 4.666666666666667 |  4   |\n",
      "|     0      |    607    | 4.428571428571429 |  5   |\n",
      "|     0      |    596    |        4.0        |  6   |\n",
      "|     0      |    1005   |        4.0        |  7   |\n",
      "|     0      |    1109   |        4.0        |  8   |\n",
      "|     0      |    1108   |        4.0        |  9   |\n",
      "|     0      |    593    | 3.642857142857143 |  10  |\n",
      "|     2      |    1160   | 7.333333333333333 |  1   |\n",
      "|     2      |    585    |        6.0        |  2   |\n",
      "|     2      |    2292   |        6.0        |  3   |\n",
      "|     2      |    588    | 4.666666666666667 |  4   |\n",
      "|     2      |    607    | 4.428571428571429 |  5   |\n",
      "|     2      |    596    |        4.0        |  6   |\n",
      "|     2      |    1005   |        4.0        |  7   |\n",
      "|     2      |    1109   |        4.0        |  8   |\n",
      "|     2      |    1108   |        4.0        |  9   |\n",
      "|     2      |    593    | 3.642857142857143 |  10  |\n",
      "|     5      |    1160   | 7.333333333333333 |  1   |\n",
      "|     5      |    585    |        6.0        |  2   |\n",
      "|     5      |    2292   |        6.0        |  3   |\n",
      "|     5      |    588    | 4.666666666666667 |  4   |\n",
      "|     5      |    607    | 4.428571428571429 |  5   |\n",
      "|     5      |    596    |        4.0        |  6   |\n",
      "|     5      |    1005   |        4.0        |  7   |\n",
      "|     5      |    1109   |        4.0        |  8   |\n",
      "|     5      |    1108   |        4.0        |  9   |\n",
      "|     5      |    593    | 3.642857142857143 |  10  |\n",
      "+------------+-----------+-------------------+------+\n",
      "[390370 rows x 4 columns]\n",
      "\n"
     ]
    },
    {
     "data": {
      "text/plain": [
       "Class                            : PopularityRecommender\n",
       "\n",
       "Schema\n",
       "------\n",
       "User ID                          : customerId\n",
       "Item ID                          : productId\n",
       "Target                           : purchase_count\n",
       "Additional observation features  : 0\n",
       "User side features               : []\n",
       "Item side features               : []\n",
       "\n",
       "Statistics\n",
       "----------\n",
       "Number of observations           : 197486\n",
       "Number of users                  : 39019\n",
       "Number of items                  : 2257\n",
       "\n",
       "Training summary\n",
       "----------------\n",
       "Training time                    : 0.0375\n",
       "\n",
       "Model Parameters\n",
       "----------------\n",
       "Model class                      : PopularityRecommender"
      ]
     },
     "execution_count": 18,
     "metadata": {
      "tags": []
     },
     "output_type": "execute_result"
    }
   ],
   "source": [
    "# i. Usando el conteo de compras\n",
    "name = 'popularity'\n",
    "target = 'purchase_count'\n",
    "popularity = model(train_data, name, user_id, item_id, target, users_to_recommend, n_rec, n_display)\n",
    "popularity"
   ]
  },
  {
   "cell_type": "code",
   "execution_count": 19,
   "metadata": {
    "colab": {
     "base_uri": "https://localhost:8080/",
     "height": 1000
    },
    "colab_type": "code",
    "id": "Z8g0SO-Cln2T",
    "outputId": "e08696ed-5ecb-40df-93a1-5571bf55b6b0"
   },
   "outputs": [
    {
     "data": {
      "text/html": [
       "<pre>Warning: Ignoring columns purchase_count;</pre>"
      ],
      "text/plain": [
       "Warning: Ignoring columns purchase_count;"
      ]
     },
     "metadata": {
      "tags": []
     },
     "output_type": "display_data"
    },
    {
     "data": {
      "text/html": [
       "<pre>    To use these columns in scoring predictions, use a model that allows the use of additional features.</pre>"
      ],
      "text/plain": [
       "    To use these columns in scoring predictions, use a model that allows the use of additional features."
      ]
     },
     "metadata": {
      "tags": []
     },
     "output_type": "display_data"
    },
    {
     "data": {
      "text/html": [
       "<pre>Preparing data set.</pre>"
      ],
      "text/plain": [
       "Preparing data set."
      ]
     },
     "metadata": {
      "tags": []
     },
     "output_type": "display_data"
    },
    {
     "data": {
      "text/html": [
       "<pre>    Data has 197486 observations with 39015 users and 2256 items.</pre>"
      ],
      "text/plain": [
       "    Data has 197486 observations with 39015 users and 2256 items."
      ]
     },
     "metadata": {
      "tags": []
     },
     "output_type": "display_data"
    },
    {
     "data": {
      "text/html": [
       "<pre>    Data prepared in: 0.226926s</pre>"
      ],
      "text/plain": [
       "    Data prepared in: 0.226926s"
      ]
     },
     "metadata": {
      "tags": []
     },
     "output_type": "display_data"
    },
    {
     "data": {
      "text/html": [
       "<pre>197486 observations to process; with 2256 unique items.</pre>"
      ],
      "text/plain": [
       "197486 observations to process; with 2256 unique items."
      ]
     },
     "metadata": {
      "tags": []
     },
     "output_type": "display_data"
    },
    {
     "data": {
      "text/html": [
       "<pre>recommendations finished on 1000/39037 queries. users per second: 46057.5</pre>"
      ],
      "text/plain": [
       "recommendations finished on 1000/39037 queries. users per second: 46057.5"
      ]
     },
     "metadata": {
      "tags": []
     },
     "output_type": "display_data"
    },
    {
     "data": {
      "text/html": [
       "<pre>recommendations finished on 2000/39037 queries. users per second: 50289.2</pre>"
      ],
      "text/plain": [
       "recommendations finished on 2000/39037 queries. users per second: 50289.2"
      ]
     },
     "metadata": {
      "tags": []
     },
     "output_type": "display_data"
    },
    {
     "data": {
      "text/html": [
       "<pre>recommendations finished on 3000/39037 queries. users per second: 52238.4</pre>"
      ],
      "text/plain": [
       "recommendations finished on 3000/39037 queries. users per second: 52238.4"
      ]
     },
     "metadata": {
      "tags": []
     },
     "output_type": "display_data"
    },
    {
     "data": {
      "text/html": [
       "<pre>recommendations finished on 4000/39037 queries. users per second: 52747.5</pre>"
      ],
      "text/plain": [
       "recommendations finished on 4000/39037 queries. users per second: 52747.5"
      ]
     },
     "metadata": {
      "tags": []
     },
     "output_type": "display_data"
    },
    {
     "data": {
      "text/html": [
       "<pre>recommendations finished on 5000/39037 queries. users per second: 53506.3</pre>"
      ],
      "text/plain": [
       "recommendations finished on 5000/39037 queries. users per second: 53506.3"
      ]
     },
     "metadata": {
      "tags": []
     },
     "output_type": "display_data"
    },
    {
     "data": {
      "text/html": [
       "<pre>recommendations finished on 6000/39037 queries. users per second: 53830.5</pre>"
      ],
      "text/plain": [
       "recommendations finished on 6000/39037 queries. users per second: 53830.5"
      ]
     },
     "metadata": {
      "tags": []
     },
     "output_type": "display_data"
    },
    {
     "data": {
      "text/html": [
       "<pre>recommendations finished on 7000/39037 queries. users per second: 53930.8</pre>"
      ],
      "text/plain": [
       "recommendations finished on 7000/39037 queries. users per second: 53930.8"
      ]
     },
     "metadata": {
      "tags": []
     },
     "output_type": "display_data"
    },
    {
     "data": {
      "text/html": [
       "<pre>recommendations finished on 8000/39037 queries. users per second: 53920.7</pre>"
      ],
      "text/plain": [
       "recommendations finished on 8000/39037 queries. users per second: 53920.7"
      ]
     },
     "metadata": {
      "tags": []
     },
     "output_type": "display_data"
    },
    {
     "data": {
      "text/html": [
       "<pre>recommendations finished on 9000/39037 queries. users per second: 54212.6</pre>"
      ],
      "text/plain": [
       "recommendations finished on 9000/39037 queries. users per second: 54212.6"
      ]
     },
     "metadata": {
      "tags": []
     },
     "output_type": "display_data"
    },
    {
     "data": {
      "text/html": [
       "<pre>recommendations finished on 10000/39037 queries. users per second: 54451.1</pre>"
      ],
      "text/plain": [
       "recommendations finished on 10000/39037 queries. users per second: 54451.1"
      ]
     },
     "metadata": {
      "tags": []
     },
     "output_type": "display_data"
    },
    {
     "data": {
      "text/html": [
       "<pre>recommendations finished on 11000/39037 queries. users per second: 54631.5</pre>"
      ],
      "text/plain": [
       "recommendations finished on 11000/39037 queries. users per second: 54631.5"
      ]
     },
     "metadata": {
      "tags": []
     },
     "output_type": "display_data"
    },
    {
     "data": {
      "text/html": [
       "<pre>recommendations finished on 12000/39037 queries. users per second: 54815.8</pre>"
      ],
      "text/plain": [
       "recommendations finished on 12000/39037 queries. users per second: 54815.8"
      ]
     },
     "metadata": {
      "tags": []
     },
     "output_type": "display_data"
    },
    {
     "data": {
      "text/html": [
       "<pre>recommendations finished on 13000/39037 queries. users per second: 54602.8</pre>"
      ],
      "text/plain": [
       "recommendations finished on 13000/39037 queries. users per second: 54602.8"
      ]
     },
     "metadata": {
      "tags": []
     },
     "output_type": "display_data"
    },
    {
     "data": {
      "text/html": [
       "<pre>recommendations finished on 14000/39037 queries. users per second: 54371.9</pre>"
      ],
      "text/plain": [
       "recommendations finished on 14000/39037 queries. users per second: 54371.9"
      ]
     },
     "metadata": {
      "tags": []
     },
     "output_type": "display_data"
    },
    {
     "data": {
      "text/html": [
       "<pre>recommendations finished on 15000/39037 queries. users per second: 54514.5</pre>"
      ],
      "text/plain": [
       "recommendations finished on 15000/39037 queries. users per second: 54514.5"
      ]
     },
     "metadata": {
      "tags": []
     },
     "output_type": "display_data"
    },
    {
     "data": {
      "text/html": [
       "<pre>recommendations finished on 16000/39037 queries. users per second: 54755</pre>"
      ],
      "text/plain": [
       "recommendations finished on 16000/39037 queries. users per second: 54755"
      ]
     },
     "metadata": {
      "tags": []
     },
     "output_type": "display_data"
    },
    {
     "data": {
      "text/html": [
       "<pre>recommendations finished on 17000/39037 queries. users per second: 54751.3</pre>"
      ],
      "text/plain": [
       "recommendations finished on 17000/39037 queries. users per second: 54751.3"
      ]
     },
     "metadata": {
      "tags": []
     },
     "output_type": "display_data"
    },
    {
     "data": {
      "text/html": [
       "<pre>recommendations finished on 18000/39037 queries. users per second: 54848.3</pre>"
      ],
      "text/plain": [
       "recommendations finished on 18000/39037 queries. users per second: 54848.3"
      ]
     },
     "metadata": {
      "tags": []
     },
     "output_type": "display_data"
    },
    {
     "data": {
      "text/html": [
       "<pre>recommendations finished on 19000/39037 queries. users per second: 54707.9</pre>"
      ],
      "text/plain": [
       "recommendations finished on 19000/39037 queries. users per second: 54707.9"
      ]
     },
     "metadata": {
      "tags": []
     },
     "output_type": "display_data"
    },
    {
     "data": {
      "text/html": [
       "<pre>recommendations finished on 20000/39037 queries. users per second: 54767.8</pre>"
      ],
      "text/plain": [
       "recommendations finished on 20000/39037 queries. users per second: 54767.8"
      ]
     },
     "metadata": {
      "tags": []
     },
     "output_type": "display_data"
    },
    {
     "data": {
      "text/html": [
       "<pre>recommendations finished on 21000/39037 queries. users per second: 54784.7</pre>"
      ],
      "text/plain": [
       "recommendations finished on 21000/39037 queries. users per second: 54784.7"
      ]
     },
     "metadata": {
      "tags": []
     },
     "output_type": "display_data"
    },
    {
     "data": {
      "text/html": [
       "<pre>recommendations finished on 22000/39037 queries. users per second: 54847.4</pre>"
      ],
      "text/plain": [
       "recommendations finished on 22000/39037 queries. users per second: 54847.4"
      ]
     },
     "metadata": {
      "tags": []
     },
     "output_type": "display_data"
    },
    {
     "data": {
      "text/html": [
       "<pre>recommendations finished on 23000/39037 queries. users per second: 54896.3</pre>"
      ],
      "text/plain": [
       "recommendations finished on 23000/39037 queries. users per second: 54896.3"
      ]
     },
     "metadata": {
      "tags": []
     },
     "output_type": "display_data"
    },
    {
     "data": {
      "text/html": [
       "<pre>recommendations finished on 24000/39037 queries. users per second: 55061.2</pre>"
      ],
      "text/plain": [
       "recommendations finished on 24000/39037 queries. users per second: 55061.2"
      ]
     },
     "metadata": {
      "tags": []
     },
     "output_type": "display_data"
    },
    {
     "data": {
      "text/html": [
       "<pre>recommendations finished on 25000/39037 queries. users per second: 55075.5</pre>"
      ],
      "text/plain": [
       "recommendations finished on 25000/39037 queries. users per second: 55075.5"
      ]
     },
     "metadata": {
      "tags": []
     },
     "output_type": "display_data"
    },
    {
     "data": {
      "text/html": [
       "<pre>recommendations finished on 26000/39037 queries. users per second: 55033.1</pre>"
      ],
      "text/plain": [
       "recommendations finished on 26000/39037 queries. users per second: 55033.1"
      ]
     },
     "metadata": {
      "tags": []
     },
     "output_type": "display_data"
    },
    {
     "data": {
      "text/html": [
       "<pre>recommendations finished on 27000/39037 queries. users per second: 54712.4</pre>"
      ],
      "text/plain": [
       "recommendations finished on 27000/39037 queries. users per second: 54712.4"
      ]
     },
     "metadata": {
      "tags": []
     },
     "output_type": "display_data"
    },
    {
     "data": {
      "text/html": [
       "<pre>recommendations finished on 28000/39037 queries. users per second: 54734.5</pre>"
      ],
      "text/plain": [
       "recommendations finished on 28000/39037 queries. users per second: 54734.5"
      ]
     },
     "metadata": {
      "tags": []
     },
     "output_type": "display_data"
    },
    {
     "data": {
      "text/html": [
       "<pre>recommendations finished on 29000/39037 queries. users per second: 54779.9</pre>"
      ],
      "text/plain": [
       "recommendations finished on 29000/39037 queries. users per second: 54779.9"
      ]
     },
     "metadata": {
      "tags": []
     },
     "output_type": "display_data"
    },
    {
     "data": {
      "text/html": [
       "<pre>recommendations finished on 30000/39037 queries. users per second: 54834.4</pre>"
      ],
      "text/plain": [
       "recommendations finished on 30000/39037 queries. users per second: 54834.4"
      ]
     },
     "metadata": {
      "tags": []
     },
     "output_type": "display_data"
    },
    {
     "data": {
      "text/html": [
       "<pre>recommendations finished on 31000/39037 queries. users per second: 54869.2</pre>"
      ],
      "text/plain": [
       "recommendations finished on 31000/39037 queries. users per second: 54869.2"
      ]
     },
     "metadata": {
      "tags": []
     },
     "output_type": "display_data"
    },
    {
     "data": {
      "text/html": [
       "<pre>recommendations finished on 32000/39037 queries. users per second: 54875.1</pre>"
      ],
      "text/plain": [
       "recommendations finished on 32000/39037 queries. users per second: 54875.1"
      ]
     },
     "metadata": {
      "tags": []
     },
     "output_type": "display_data"
    },
    {
     "data": {
      "text/html": [
       "<pre>recommendations finished on 33000/39037 queries. users per second: 54897.3</pre>"
      ],
      "text/plain": [
       "recommendations finished on 33000/39037 queries. users per second: 54897.3"
      ]
     },
     "metadata": {
      "tags": []
     },
     "output_type": "display_data"
    },
    {
     "data": {
      "text/html": [
       "<pre>recommendations finished on 34000/39037 queries. users per second: 54937</pre>"
      ],
      "text/plain": [
       "recommendations finished on 34000/39037 queries. users per second: 54937"
      ]
     },
     "metadata": {
      "tags": []
     },
     "output_type": "display_data"
    },
    {
     "data": {
      "text/html": [
       "<pre>recommendations finished on 35000/39037 queries. users per second: 54991.1</pre>"
      ],
      "text/plain": [
       "recommendations finished on 35000/39037 queries. users per second: 54991.1"
      ]
     },
     "metadata": {
      "tags": []
     },
     "output_type": "display_data"
    },
    {
     "data": {
      "text/html": [
       "<pre>recommendations finished on 36000/39037 queries. users per second: 55039.5</pre>"
      ],
      "text/plain": [
       "recommendations finished on 36000/39037 queries. users per second: 55039.5"
      ]
     },
     "metadata": {
      "tags": []
     },
     "output_type": "display_data"
    },
    {
     "data": {
      "text/html": [
       "<pre>recommendations finished on 37000/39037 queries. users per second: 54873.3</pre>"
      ],
      "text/plain": [
       "recommendations finished on 37000/39037 queries. users per second: 54873.3"
      ]
     },
     "metadata": {
      "tags": []
     },
     "output_type": "display_data"
    },
    {
     "data": {
      "text/html": [
       "<pre>recommendations finished on 38000/39037 queries. users per second: 54973.6</pre>"
      ],
      "text/plain": [
       "recommendations finished on 38000/39037 queries. users per second: 54973.6"
      ]
     },
     "metadata": {
      "tags": []
     },
     "output_type": "display_data"
    },
    {
     "data": {
      "text/html": [
       "<pre>recommendations finished on 39000/39037 queries. users per second: 54917</pre>"
      ],
      "text/plain": [
       "recommendations finished on 39000/39037 queries. users per second: 54917"
      ]
     },
     "metadata": {
      "tags": []
     },
     "output_type": "display_data"
    },
    {
     "name": "stdout",
     "output_type": "stream",
     "text": [
      "+------------+-----------+-------+------+\n",
      "| customerId | productId | score | rank |\n",
      "+------------+-----------+-------+------+\n",
      "|     0      |    2215   |  1.0  |  1   |\n",
      "|     0      |    1492   |  1.0  |  2   |\n",
      "|     0      |    2415   |  1.0  |  3   |\n",
      "|     0      |    462    |  1.0  |  4   |\n",
      "|     0      |    1475   |  1.0  |  5   |\n",
      "|     0      |    601    |  1.0  |  6   |\n",
      "|     0      |    1817   |  1.0  |  7   |\n",
      "|     0      |    474    |  1.0  |  8   |\n",
      "|     0      |    2037   |  1.0  |  9   |\n",
      "|     0      |    926    |  1.0  |  10  |\n",
      "|     2      |    2215   |  1.0  |  1   |\n",
      "|     2      |    1492   |  1.0  |  2   |\n",
      "|     2      |    2415   |  1.0  |  3   |\n",
      "|     2      |    462    |  1.0  |  4   |\n",
      "|     2      |    1475   |  1.0  |  5   |\n",
      "|     2      |    601    |  1.0  |  6   |\n",
      "|     2      |    1817   |  1.0  |  7   |\n",
      "|     2      |    474    |  1.0  |  8   |\n",
      "|     2      |    2037   |  1.0  |  9   |\n",
      "|     2      |    926    |  1.0  |  10  |\n",
      "|     5      |     90    |  1.0  |  1   |\n",
      "|     5      |    1821   |  1.0  |  2   |\n",
      "|     5      |    1492   |  1.0  |  3   |\n",
      "|     5      |    462    |  1.0  |  4   |\n",
      "|     5      |    1475   |  1.0  |  5   |\n",
      "|     5      |    601    |  1.0  |  6   |\n",
      "|     5      |    1817   |  1.0  |  7   |\n",
      "|     5      |    474    |  1.0  |  8   |\n",
      "|     5      |    2037   |  1.0  |  9   |\n",
      "|     5      |    926    |  1.0  |  10  |\n",
      "+------------+-----------+-------+------+\n",
      "[390370 rows x 4 columns]\n",
      "\n"
     ]
    },
    {
     "data": {
      "text/plain": [
       "Class                            : PopularityRecommender\n",
       "\n",
       "Schema\n",
       "------\n",
       "User ID                          : customerId\n",
       "Item ID                          : productId\n",
       "Target                           : purchase_dummy\n",
       "Additional observation features  : 0\n",
       "User side features               : []\n",
       "Item side features               : []\n",
       "\n",
       "Statistics\n",
       "----------\n",
       "Number of observations           : 197486\n",
       "Number of users                  : 39015\n",
       "Number of items                  : 2256\n",
       "\n",
       "Training summary\n",
       "----------------\n",
       "Training time                    : 0.0168\n",
       "\n",
       "Model Parameters\n",
       "----------------\n",
       "Model class                      : PopularityRecommender"
      ]
     },
     "execution_count": 19,
     "metadata": {
      "tags": []
     },
     "output_type": "execute_result"
    }
   ],
   "source": [
    "# ii. Usando el dummy de compras\n",
    "name = 'popularity'\n",
    "target = 'purchase_dummy'\n",
    "pop_dummy = model(train_data_dummy, name, user_id, item_id, target, users_to_recommend, n_rec, n_display)\n",
    "pop_dummy"
   ]
  },
  {
   "cell_type": "code",
   "execution_count": 20,
   "metadata": {
    "colab": {
     "base_uri": "https://localhost:8080/",
     "height": 1000
    },
    "colab_type": "code",
    "id": "YDGrO5z3ln3F",
    "outputId": "c32e3e30-023d-43a3-91ae-639542ab285b"
   },
   "outputs": [
    {
     "data": {
      "text/html": [
       "<pre>Preparing data set.</pre>"
      ],
      "text/plain": [
       "Preparing data set."
      ]
     },
     "metadata": {
      "tags": []
     },
     "output_type": "display_data"
    },
    {
     "data": {
      "text/html": [
       "<pre>    Data has 162296 observations with 38802 users and 1619 items.</pre>"
      ],
      "text/plain": [
       "    Data has 162296 observations with 38802 users and 1619 items."
      ]
     },
     "metadata": {
      "tags": []
     },
     "output_type": "display_data"
    },
    {
     "data": {
      "text/html": [
       "<pre>    Data prepared in: 0.187248s</pre>"
      ],
      "text/plain": [
       "    Data prepared in: 0.187248s"
      ]
     },
     "metadata": {
      "tags": []
     },
     "output_type": "display_data"
    },
    {
     "data": {
      "text/html": [
       "<pre>162296 observations to process; with 1619 unique items.</pre>"
      ],
      "text/plain": [
       "162296 observations to process; with 1619 unique items."
      ]
     },
     "metadata": {
      "tags": []
     },
     "output_type": "display_data"
    },
    {
     "data": {
      "text/html": [
       "<pre>recommendations finished on 1000/39037 queries. users per second: 45649.6</pre>"
      ],
      "text/plain": [
       "recommendations finished on 1000/39037 queries. users per second: 45649.6"
      ]
     },
     "metadata": {
      "tags": []
     },
     "output_type": "display_data"
    },
    {
     "data": {
      "text/html": [
       "<pre>recommendations finished on 2000/39037 queries. users per second: 54355.2</pre>"
      ],
      "text/plain": [
       "recommendations finished on 2000/39037 queries. users per second: 54355.2"
      ]
     },
     "metadata": {
      "tags": []
     },
     "output_type": "display_data"
    },
    {
     "data": {
      "text/html": [
       "<pre>recommendations finished on 3000/39037 queries. users per second: 57855.9</pre>"
      ],
      "text/plain": [
       "recommendations finished on 3000/39037 queries. users per second: 57855.9"
      ]
     },
     "metadata": {
      "tags": []
     },
     "output_type": "display_data"
    },
    {
     "data": {
      "text/html": [
       "<pre>recommendations finished on 4000/39037 queries. users per second: 59899.1</pre>"
      ],
      "text/plain": [
       "recommendations finished on 4000/39037 queries. users per second: 59899.1"
      ]
     },
     "metadata": {
      "tags": []
     },
     "output_type": "display_data"
    },
    {
     "data": {
      "text/html": [
       "<pre>recommendations finished on 5000/39037 queries. users per second: 61103.8</pre>"
      ],
      "text/plain": [
       "recommendations finished on 5000/39037 queries. users per second: 61103.8"
      ]
     },
     "metadata": {
      "tags": []
     },
     "output_type": "display_data"
    },
    {
     "data": {
      "text/html": [
       "<pre>recommendations finished on 6000/39037 queries. users per second: 61730.9</pre>"
      ],
      "text/plain": [
       "recommendations finished on 6000/39037 queries. users per second: 61730.9"
      ]
     },
     "metadata": {
      "tags": []
     },
     "output_type": "display_data"
    },
    {
     "data": {
      "text/html": [
       "<pre>recommendations finished on 7000/39037 queries. users per second: 62199</pre>"
      ],
      "text/plain": [
       "recommendations finished on 7000/39037 queries. users per second: 62199"
      ]
     },
     "metadata": {
      "tags": []
     },
     "output_type": "display_data"
    },
    {
     "data": {
      "text/html": [
       "<pre>recommendations finished on 8000/39037 queries. users per second: 61521</pre>"
      ],
      "text/plain": [
       "recommendations finished on 8000/39037 queries. users per second: 61521"
      ]
     },
     "metadata": {
      "tags": []
     },
     "output_type": "display_data"
    },
    {
     "data": {
      "text/html": [
       "<pre>recommendations finished on 9000/39037 queries. users per second: 61960.9</pre>"
      ],
      "text/plain": [
       "recommendations finished on 9000/39037 queries. users per second: 61960.9"
      ]
     },
     "metadata": {
      "tags": []
     },
     "output_type": "display_data"
    },
    {
     "data": {
      "text/html": [
       "<pre>recommendations finished on 10000/39037 queries. users per second: 62587.6</pre>"
      ],
      "text/plain": [
       "recommendations finished on 10000/39037 queries. users per second: 62587.6"
      ]
     },
     "metadata": {
      "tags": []
     },
     "output_type": "display_data"
    },
    {
     "data": {
      "text/html": [
       "<pre>recommendations finished on 11000/39037 queries. users per second: 63088.2</pre>"
      ],
      "text/plain": [
       "recommendations finished on 11000/39037 queries. users per second: 63088.2"
      ]
     },
     "metadata": {
      "tags": []
     },
     "output_type": "display_data"
    },
    {
     "data": {
      "text/html": [
       "<pre>recommendations finished on 12000/39037 queries. users per second: 63431</pre>"
      ],
      "text/plain": [
       "recommendations finished on 12000/39037 queries. users per second: 63431"
      ]
     },
     "metadata": {
      "tags": []
     },
     "output_type": "display_data"
    },
    {
     "data": {
      "text/html": [
       "<pre>recommendations finished on 13000/39037 queries. users per second: 63566.6</pre>"
      ],
      "text/plain": [
       "recommendations finished on 13000/39037 queries. users per second: 63566.6"
      ]
     },
     "metadata": {
      "tags": []
     },
     "output_type": "display_data"
    },
    {
     "data": {
      "text/html": [
       "<pre>recommendations finished on 14000/39037 queries. users per second: 63765.9</pre>"
      ],
      "text/plain": [
       "recommendations finished on 14000/39037 queries. users per second: 63765.9"
      ]
     },
     "metadata": {
      "tags": []
     },
     "output_type": "display_data"
    },
    {
     "data": {
      "text/html": [
       "<pre>recommendations finished on 15000/39037 queries. users per second: 63515.7</pre>"
      ],
      "text/plain": [
       "recommendations finished on 15000/39037 queries. users per second: 63515.7"
      ]
     },
     "metadata": {
      "tags": []
     },
     "output_type": "display_data"
    },
    {
     "data": {
      "text/html": [
       "<pre>recommendations finished on 16000/39037 queries. users per second: 61906.6</pre>"
      ],
      "text/plain": [
       "recommendations finished on 16000/39037 queries. users per second: 61906.6"
      ]
     },
     "metadata": {
      "tags": []
     },
     "output_type": "display_data"
    },
    {
     "data": {
      "text/html": [
       "<pre>recommendations finished on 17000/39037 queries. users per second: 62248</pre>"
      ],
      "text/plain": [
       "recommendations finished on 17000/39037 queries. users per second: 62248"
      ]
     },
     "metadata": {
      "tags": []
     },
     "output_type": "display_data"
    },
    {
     "data": {
      "text/html": [
       "<pre>recommendations finished on 18000/39037 queries. users per second: 62598.5</pre>"
      ],
      "text/plain": [
       "recommendations finished on 18000/39037 queries. users per second: 62598.5"
      ]
     },
     "metadata": {
      "tags": []
     },
     "output_type": "display_data"
    },
    {
     "data": {
      "text/html": [
       "<pre>recommendations finished on 19000/39037 queries. users per second: 62572</pre>"
      ],
      "text/plain": [
       "recommendations finished on 19000/39037 queries. users per second: 62572"
      ]
     },
     "metadata": {
      "tags": []
     },
     "output_type": "display_data"
    },
    {
     "data": {
      "text/html": [
       "<pre>recommendations finished on 20000/39037 queries. users per second: 62994.9</pre>"
      ],
      "text/plain": [
       "recommendations finished on 20000/39037 queries. users per second: 62994.9"
      ]
     },
     "metadata": {
      "tags": []
     },
     "output_type": "display_data"
    },
    {
     "data": {
      "text/html": [
       "<pre>recommendations finished on 21000/39037 queries. users per second: 63199.3</pre>"
      ],
      "text/plain": [
       "recommendations finished on 21000/39037 queries. users per second: 63199.3"
      ]
     },
     "metadata": {
      "tags": []
     },
     "output_type": "display_data"
    },
    {
     "data": {
      "text/html": [
       "<pre>recommendations finished on 22000/39037 queries. users per second: 63557</pre>"
      ],
      "text/plain": [
       "recommendations finished on 22000/39037 queries. users per second: 63557"
      ]
     },
     "metadata": {
      "tags": []
     },
     "output_type": "display_data"
    },
    {
     "data": {
      "text/html": [
       "<pre>recommendations finished on 23000/39037 queries. users per second: 63725.5</pre>"
      ],
      "text/plain": [
       "recommendations finished on 23000/39037 queries. users per second: 63725.5"
      ]
     },
     "metadata": {
      "tags": []
     },
     "output_type": "display_data"
    },
    {
     "data": {
      "text/html": [
       "<pre>recommendations finished on 24000/39037 queries. users per second: 64070.2</pre>"
      ],
      "text/plain": [
       "recommendations finished on 24000/39037 queries. users per second: 64070.2"
      ]
     },
     "metadata": {
      "tags": []
     },
     "output_type": "display_data"
    },
    {
     "data": {
      "text/html": [
       "<pre>recommendations finished on 25000/39037 queries. users per second: 64228.4</pre>"
      ],
      "text/plain": [
       "recommendations finished on 25000/39037 queries. users per second: 64228.4"
      ]
     },
     "metadata": {
      "tags": []
     },
     "output_type": "display_data"
    },
    {
     "data": {
      "text/html": [
       "<pre>recommendations finished on 26000/39037 queries. users per second: 64506.4</pre>"
      ],
      "text/plain": [
       "recommendations finished on 26000/39037 queries. users per second: 64506.4"
      ]
     },
     "metadata": {
      "tags": []
     },
     "output_type": "display_data"
    },
    {
     "data": {
      "text/html": [
       "<pre>recommendations finished on 27000/39037 queries. users per second: 64618.2</pre>"
      ],
      "text/plain": [
       "recommendations finished on 27000/39037 queries. users per second: 64618.2"
      ]
     },
     "metadata": {
      "tags": []
     },
     "output_type": "display_data"
    },
    {
     "data": {
      "text/html": [
       "<pre>recommendations finished on 28000/39037 queries. users per second: 64174.1</pre>"
      ],
      "text/plain": [
       "recommendations finished on 28000/39037 queries. users per second: 64174.1"
      ]
     },
     "metadata": {
      "tags": []
     },
     "output_type": "display_data"
    },
    {
     "data": {
      "text/html": [
       "<pre>recommendations finished on 29000/39037 queries. users per second: 64076.4</pre>"
      ],
      "text/plain": [
       "recommendations finished on 29000/39037 queries. users per second: 64076.4"
      ]
     },
     "metadata": {
      "tags": []
     },
     "output_type": "display_data"
    },
    {
     "data": {
      "text/html": [
       "<pre>recommendations finished on 30000/39037 queries. users per second: 64331.7</pre>"
      ],
      "text/plain": [
       "recommendations finished on 30000/39037 queries. users per second: 64331.7"
      ]
     },
     "metadata": {
      "tags": []
     },
     "output_type": "display_data"
    },
    {
     "data": {
      "text/html": [
       "<pre>recommendations finished on 31000/39037 queries. users per second: 64348.6</pre>"
      ],
      "text/plain": [
       "recommendations finished on 31000/39037 queries. users per second: 64348.6"
      ]
     },
     "metadata": {
      "tags": []
     },
     "output_type": "display_data"
    },
    {
     "data": {
      "text/html": [
       "<pre>recommendations finished on 32000/39037 queries. users per second: 64575</pre>"
      ],
      "text/plain": [
       "recommendations finished on 32000/39037 queries. users per second: 64575"
      ]
     },
     "metadata": {
      "tags": []
     },
     "output_type": "display_data"
    },
    {
     "data": {
      "text/html": [
       "<pre>recommendations finished on 33000/39037 queries. users per second: 64651.4</pre>"
      ],
      "text/plain": [
       "recommendations finished on 33000/39037 queries. users per second: 64651.4"
      ]
     },
     "metadata": {
      "tags": []
     },
     "output_type": "display_data"
    },
    {
     "data": {
      "text/html": [
       "<pre>recommendations finished on 34000/39037 queries. users per second: 64847.8</pre>"
      ],
      "text/plain": [
       "recommendations finished on 34000/39037 queries. users per second: 64847.8"
      ]
     },
     "metadata": {
      "tags": []
     },
     "output_type": "display_data"
    },
    {
     "data": {
      "text/html": [
       "<pre>recommendations finished on 35000/39037 queries. users per second: 64932.9</pre>"
      ],
      "text/plain": [
       "recommendations finished on 35000/39037 queries. users per second: 64932.9"
      ]
     },
     "metadata": {
      "tags": []
     },
     "output_type": "display_data"
    },
    {
     "data": {
      "text/html": [
       "<pre>recommendations finished on 36000/39037 queries. users per second: 65115.4</pre>"
      ],
      "text/plain": [
       "recommendations finished on 36000/39037 queries. users per second: 65115.4"
      ]
     },
     "metadata": {
      "tags": []
     },
     "output_type": "display_data"
    },
    {
     "data": {
      "text/html": [
       "<pre>recommendations finished on 37000/39037 queries. users per second: 65185.4</pre>"
      ],
      "text/plain": [
       "recommendations finished on 37000/39037 queries. users per second: 65185.4"
      ]
     },
     "metadata": {
      "tags": []
     },
     "output_type": "display_data"
    },
    {
     "data": {
      "text/html": [
       "<pre>recommendations finished on 38000/39037 queries. users per second: 65307.4</pre>"
      ],
      "text/plain": [
       "recommendations finished on 38000/39037 queries. users per second: 65307.4"
      ]
     },
     "metadata": {
      "tags": []
     },
     "output_type": "display_data"
    },
    {
     "data": {
      "text/html": [
       "<pre>recommendations finished on 39000/39037 queries. users per second: 65139.4</pre>"
      ],
      "text/plain": [
       "recommendations finished on 39000/39037 queries. users per second: 65139.4"
      ]
     },
     "metadata": {
      "tags": []
     },
     "output_type": "display_data"
    },
    {
     "name": "stdout",
     "output_type": "stream",
     "text": [
      "+------------+-----------+--------------------+------+\n",
      "| customerId | productId |       score        | rank |\n",
      "+------------+-----------+--------------------+------+\n",
      "|     0      |    2705   |        1.0         |  1   |\n",
      "|     0      |    2766   |        1.0         |  2   |\n",
      "|     0      |    2505   |        1.0         |  3   |\n",
      "|     0      |    2710   |        1.0         |  4   |\n",
      "|     0      |    1316   |        1.0         |  5   |\n",
      "|     0      |    923    | 0.9444444444444444 |  6   |\n",
      "|     0      |    1500   |        0.8         |  7   |\n",
      "|     0      |    1324   | 0.7631578947368421 |  8   |\n",
      "|     0      |    1317   |        0.75        |  9   |\n",
      "|     0      |    2250   |        0.75        |  10  |\n",
      "|     2      |    2705   |        1.0         |  1   |\n",
      "|     2      |    2766   |        1.0         |  2   |\n",
      "|     2      |    2505   |        1.0         |  3   |\n",
      "|     2      |    2710   |        1.0         |  4   |\n",
      "|     2      |    1316   |        1.0         |  5   |\n",
      "|     2      |    923    | 0.9444444444444444 |  6   |\n",
      "|     2      |    1500   |        0.8         |  7   |\n",
      "|     2      |    1324   | 0.7631578947368421 |  8   |\n",
      "|     2      |    1317   |        0.75        |  9   |\n",
      "|     2      |    2250   |        0.75        |  10  |\n",
      "|     5      |    2705   |        1.0         |  1   |\n",
      "|     5      |    2766   |        1.0         |  2   |\n",
      "|     5      |    2505   |        1.0         |  3   |\n",
      "|     5      |    2710   |        1.0         |  4   |\n",
      "|     5      |    1316   |        1.0         |  5   |\n",
      "|     5      |    923    | 0.9444444444444444 |  6   |\n",
      "|     5      |    1500   |        0.8         |  7   |\n",
      "|     5      |    1324   | 0.7631578947368421 |  8   |\n",
      "|     5      |    1317   |        0.75        |  9   |\n",
      "|     5      |    2250   |        0.75        |  10  |\n",
      "+------------+-----------+--------------------+------+\n",
      "[390370 rows x 4 columns]\n",
      "\n"
     ]
    },
    {
     "data": {
      "text/plain": [
       "Class                            : PopularityRecommender\n",
       "\n",
       "Schema\n",
       "------\n",
       "User ID                          : customerId\n",
       "Item ID                          : productId\n",
       "Target                           : scaled_purchase_freq\n",
       "Additional observation features  : 0\n",
       "User side features               : []\n",
       "Item side features               : []\n",
       "\n",
       "Statistics\n",
       "----------\n",
       "Number of observations           : 162296\n",
       "Number of users                  : 38802\n",
       "Number of items                  : 1619\n",
       "\n",
       "Training summary\n",
       "----------------\n",
       "Training time                    : 0.016\n",
       "\n",
       "Model Parameters\n",
       "----------------\n",
       "Model class                      : PopularityRecommender"
      ]
     },
     "execution_count": 20,
     "metadata": {
      "tags": []
     },
     "output_type": "execute_result"
    }
   ],
   "source": [
    "# iii. Uso del recuento de compras escalado\n",
    "name = 'popularity'\n",
    "target = 'scaled_purchase_freq'\n",
    "pop_norm = model(train_data_norm, name, user_id, item_id, target, users_to_recommend, n_rec, n_display)\n",
    "pop_norm"
   ]
  },
  {
   "cell_type": "markdown",
   "metadata": {
    "colab_type": "text",
    "id": "l2FYvHO8ln3W"
   },
   "source": [
    "### 6.1. Resumen de referencia\n",
    "\n",
    "Una vez que creamos el modelo, predijimos los ítems de recomendación usando puntajes por popularidad. Como puede ver para los resultados de cada modelo anteriores, las filas muestran los primeros 30 registros de 1000 usuarios con 10 recomendaciones. Estos 30 registros incluyen 3 usuarios y sus elementos recomendados, junto con puntaje y rangos descendentes.\n",
    "En el resultado, aunque diferentes modelos tienen diferentes listas de recomendaciones, a cada usuario se le recomienda la misma lista de 10 elementos. Esto se debe a que la popularidad se calcula tomando los elementos más populares entre todos los usuarios.\n"
   ]
  },
  {
   "cell_type": "code",
   "execution_count": 21,
   "metadata": {
    "colab": {
     "base_uri": "https://localhost:8080/",
     "height": 0
    },
    "colab_type": "code",
    "id": "brLmO9I3ln3Y",
    "outputId": "0d409f1f-0b07-4768-fc2b-3a7b3281616f"
   },
   "outputs": [
    {
     "data": {
      "text/plain": [
       "productId\n",
       "1160    10.500000\n",
       "2292     6.000000\n",
       "588      4.666667\n",
       "1108     4.166667\n",
       "1109     4.000000\n",
       "1005     4.000000\n",
       "607      3.857143\n",
       "1769     3.789474\n",
       "1770     3.777778\n",
       "593      3.581395\n",
       "1767     3.571429\n",
       "1699     3.538462\n",
       "1772     3.534091\n",
       "1617     3.500000\n",
       "1765     3.433962\n",
       "1773     3.413534\n",
       "1777     3.333333\n",
       "1766     3.250000\n",
       "1431     3.229885\n",
       "606      3.223404\n",
       "Name: purchase_count, dtype: float64"
      ]
     },
     "execution_count": 21,
     "metadata": {
      "tags": []
     },
     "output_type": "execute_result"
    }
   ],
   "source": [
    "train.groupby('productId')['purchase_count'].mean().sort_values(ascending=False).head(20)"
   ]
  },
  {
   "cell_type": "markdown",
   "metadata": {
    "colab_type": "text",
    "id": "jAgvqrGIln3k"
   },
   "source": [
    "## 7. Modelo de filtrado colaborativo\n",
    "\n",
    "En el filtrado colaborativo, recomendamos artículos basados en cómo usuarios similares compran artículos. Por ejemplo, si el cliente 1 y el cliente 2 compraron artículos similares, p. 1 compró X, Y, Z y 2 compró X, Y, recomendaríamos un artículo Z al cliente 2.\n",
    "\n",
    "### 7.1. Metodología\n",
    "\n",
    "\n",
    "Para definir la similitud entre los usuarios, utilizamos los siguientes pasos:\n",
    "1. Cree una matriz de elementos de usuario, donde los valores de índice representan ID de clientes únicos y los valores de columna representan ID de productos únicos\n",
    "2. Cree una matriz de similitud de artículo a artículo. La idea es calcular qué tan similar es un producto a otro producto. Hay varias formas de calcular esto. En los pasos 7.2 y 7.3, utilizamos la medida de similitud de coseno o de Pearson, respectivamente.\n",
    "Para calcular la similitud entre los productos X e Y, observe a todos los clientes que han calificado estos dos artículos. Por ejemplo, tanto X como Y han sido calificadas por los clientes 1 y 2.\n",
    "Luego creamos dos ítems-vectores, v1 para el ítem X y v2 para el ítem Y, en el espacio de usuario de (1, 2) y luego encontramos el coseno o el ángulo / distancia de Pearson entre estos vectores. Un ángulo cero o vectores superpuestos con un valor de coseno de 1 significa similitud total (o por usuario, en todos los elementos, hay la misma calificación) y un ángulo de 90 grados significaría un coseno de 0 o ninguna similitud.\n",
    "3. Para cada cliente, predecimos su probabilidad de comprar un producto (o su compra cuenta) para productos que no había comprado.\n",
    "Para nuestro ejemplo, calcularemos la calificación para el usuario 2 en el caso del elemento Z (elemento objetivo). Para calcular esto, sopesamos la medida de similitud calculada entre el artículo objetivo y otros artículos que el cliente ya ha comprado. El factor de ponderación es el recuento de compras otorgado por el usuario a los artículos que ya compró.\n",
    "Luego escalamos esta suma ponderada con la suma de las medidas de similitud para que la calificación calculada permanezca dentro de límites predefinidos. Por lo tanto, la calificación prevista para el elemento Z para el usuario 2 se calcularía utilizando medidas de similitud.\n"
   ]
  },
  {
   "attachments": {
    "image.png": {
     "image/png": "[encoded data removed]"
    }
   },
   "cell_type": "markdown",
   "metadata": {
    "colab_type": "text",
    "id": "_2j4sbfZln3n"
   },
   "source": [
    "### 7.2. Similitud de coseno\n",
    "\n",
    "La similitud es el coseno del ángulo entre los 2 vectores de los vectores ítems de A y B\n",
    "Se define por la siguiente fórmul\n",
    "![image.png](attachment:image.png)\n",
    "\n",
    "Más cerca de los vectores, más pequeño será el ángulo y más grande el coseno\n"
   ]
  },
  {
   "cell_type": "code",
   "execution_count": 22,
   "metadata": {
    "colab": {
     "base_uri": "https://localhost:8080/",
     "height": 0
    },
    "colab_type": "code",
    "id": "4itjYLblln3r",
    "outputId": "418cb109-f640-4319-876f-0cc4fe649f82"
   },
   "outputs": [
    {
     "data": {
      "text/html": [
       "<pre>Preparing data set.</pre>"
      ],
      "text/plain": [
       "Preparing data set."
      ]
     },
     "metadata": {
      "tags": []
     },
     "output_type": "display_data"
    },
    {
     "data": {
      "text/html": [
       "<pre>    Data has 197486 observations with 39019 users and 2257 items.</pre>"
      ],
      "text/plain": [
       "    Data has 197486 observations with 39019 users and 2257 items."
      ]
     },
     "metadata": {
      "tags": []
     },
     "output_type": "display_data"
    },
    {
     "data": {
      "text/html": [
       "<pre>    Data prepared in: 0.214396s</pre>"
      ],
      "text/plain": [
       "    Data prepared in: 0.214396s"
      ]
     },
     "metadata": {
      "tags": []
     },
     "output_type": "display_data"
    },
    {
     "data": {
      "text/html": [
       "<pre>Training model from provided data.</pre>"
      ],
      "text/plain": [
       "Training model from provided data."
      ]
     },
     "metadata": {
      "tags": []
     },
     "output_type": "display_data"
    },
    {
     "data": {
      "text/html": [
       "<pre>Gathering per-item and per-user statistics.</pre>"
      ],
      "text/plain": [
       "Gathering per-item and per-user statistics."
      ]
     },
     "metadata": {
      "tags": []
     },
     "output_type": "display_data"
    },
    {
     "data": {
      "text/html": [
       "<pre>+--------------------------------+------------+</pre>"
      ],
      "text/plain": [
       "+--------------------------------+------------+"
      ]
     },
     "metadata": {
      "tags": []
     },
     "output_type": "display_data"
    },
    {
     "data": {
      "text/html": [
       "<pre>| Elapsed Time (Item Statistics) | % Complete |</pre>"
      ],
      "text/plain": [
       "| Elapsed Time (Item Statistics) | % Complete |"
      ]
     },
     "metadata": {
      "tags": []
     },
     "output_type": "display_data"
    },
    {
     "data": {
      "text/html": [
       "<pre>+--------------------------------+------------+</pre>"
      ],
      "text/plain": [
       "+--------------------------------+------------+"
      ]
     },
     "metadata": {
      "tags": []
     },
     "output_type": "display_data"
    },
    {
     "data": {
      "text/html": [
       "<pre>| 1.659ms                        | 2.5        |</pre>"
      ],
      "text/plain": [
       "| 1.659ms                        | 2.5        |"
      ]
     },
     "metadata": {
      "tags": []
     },
     "output_type": "display_data"
    },
    {
     "data": {
      "text/html": [
       "<pre>| 12.365ms                       | 100        |</pre>"
      ],
      "text/plain": [
       "| 12.365ms                       | 100        |"
      ]
     },
     "metadata": {
      "tags": []
     },
     "output_type": "display_data"
    },
    {
     "data": {
      "text/html": [
       "<pre>+--------------------------------+------------+</pre>"
      ],
      "text/plain": [
       "+--------------------------------+------------+"
      ]
     },
     "metadata": {
      "tags": []
     },
     "output_type": "display_data"
    },
    {
     "data": {
      "text/html": [
       "<pre>Setting up lookup tables.</pre>"
      ],
      "text/plain": [
       "Setting up lookup tables."
      ]
     },
     "metadata": {
      "tags": []
     },
     "output_type": "display_data"
    },
    {
     "data": {
      "text/html": [
       "<pre>Processing data in one pass using dense lookup tables.</pre>"
      ],
      "text/plain": [
       "Processing data in one pass using dense lookup tables."
      ]
     },
     "metadata": {
      "tags": []
     },
     "output_type": "display_data"
    },
    {
     "data": {
      "text/html": [
       "<pre>+-------------------------------------+------------------+-----------------+</pre>"
      ],
      "text/plain": [
       "+-------------------------------------+------------------+-----------------+"
      ]
     },
     "metadata": {
      "tags": []
     },
     "output_type": "display_data"
    },
    {
     "data": {
      "text/html": [
       "<pre>| Elapsed Time (Constructing Lookups) | Total % Complete | Items Processed |</pre>"
      ],
      "text/plain": [
       "| Elapsed Time (Constructing Lookups) | Total % Complete | Items Processed |"
      ]
     },
     "metadata": {
      "tags": []
     },
     "output_type": "display_data"
    },
    {
     "data": {
      "text/html": [
       "<pre>+-------------------------------------+------------------+-----------------+</pre>"
      ],
      "text/plain": [
       "+-------------------------------------+------------------+-----------------+"
      ]
     },
     "metadata": {
      "tags": []
     },
     "output_type": "display_data"
    },
    {
     "data": {
      "text/html": [
       "<pre>| 22.398ms                            | 0                | 0               |</pre>"
      ],
      "text/plain": [
       "| 22.398ms                            | 0                | 0               |"
      ]
     },
     "metadata": {
      "tags": []
     },
     "output_type": "display_data"
    },
    {
     "data": {
      "text/html": [
       "<pre>| 135.696ms                           | 100              | 2257            |</pre>"
      ],
      "text/plain": [
       "| 135.696ms                           | 100              | 2257            |"
      ]
     },
     "metadata": {
      "tags": []
     },
     "output_type": "display_data"
    },
    {
     "data": {
      "text/html": [
       "<pre>+-------------------------------------+------------------+-----------------+</pre>"
      ],
      "text/plain": [
       "+-------------------------------------+------------------+-----------------+"
      ]
     },
     "metadata": {
      "tags": []
     },
     "output_type": "display_data"
    },
    {
     "data": {
      "text/html": [
       "<pre>Finalizing lookup tables.</pre>"
      ],
      "text/plain": [
       "Finalizing lookup tables."
      ]
     },
     "metadata": {
      "tags": []
     },
     "output_type": "display_data"
    },
    {
     "data": {
      "text/html": [
       "<pre>Generating candidate set for working with new users.</pre>"
      ],
      "text/plain": [
       "Generating candidate set for working with new users."
      ]
     },
     "metadata": {
      "tags": []
     },
     "output_type": "display_data"
    },
    {
     "data": {
      "text/html": [
       "<pre>Finished training in 1.16762s</pre>"
      ],
      "text/plain": [
       "Finished training in 1.16762s"
      ]
     },
     "metadata": {
      "tags": []
     },
     "output_type": "display_data"
    },
    {
     "data": {
      "text/html": [
       "<pre>recommendations finished on 1000/39037 queries. users per second: 33970.9</pre>"
      ],
      "text/plain": [
       "recommendations finished on 1000/39037 queries. users per second: 33970.9"
      ]
     },
     "metadata": {
      "tags": []
     },
     "output_type": "display_data"
    },
    {
     "data": {
      "text/html": [
       "<pre>recommendations finished on 2000/39037 queries. users per second: 36531</pre>"
      ],
      "text/plain": [
       "recommendations finished on 2000/39037 queries. users per second: 36531"
      ]
     },
     "metadata": {
      "tags": []
     },
     "output_type": "display_data"
    },
    {
     "data": {
      "text/html": [
       "<pre>recommendations finished on 3000/39037 queries. users per second: 37642.6</pre>"
      ],
      "text/plain": [
       "recommendations finished on 3000/39037 queries. users per second: 37642.6"
      ]
     },
     "metadata": {
      "tags": []
     },
     "output_type": "display_data"
    },
    {
     "data": {
      "text/html": [
       "<pre>recommendations finished on 4000/39037 queries. users per second: 38086.9</pre>"
      ],
      "text/plain": [
       "recommendations finished on 4000/39037 queries. users per second: 38086.9"
      ]
     },
     "metadata": {
      "tags": []
     },
     "output_type": "display_data"
    },
    {
     "data": {
      "text/html": [
       "<pre>recommendations finished on 5000/39037 queries. users per second: 38408.7</pre>"
      ],
      "text/plain": [
       "recommendations finished on 5000/39037 queries. users per second: 38408.7"
      ]
     },
     "metadata": {
      "tags": []
     },
     "output_type": "display_data"
    },
    {
     "data": {
      "text/html": [
       "<pre>recommendations finished on 6000/39037 queries. users per second: 38554</pre>"
      ],
      "text/plain": [
       "recommendations finished on 6000/39037 queries. users per second: 38554"
      ]
     },
     "metadata": {
      "tags": []
     },
     "output_type": "display_data"
    },
    {
     "data": {
      "text/html": [
       "<pre>recommendations finished on 7000/39037 queries. users per second: 38638.2</pre>"
      ],
      "text/plain": [
       "recommendations finished on 7000/39037 queries. users per second: 38638.2"
      ]
     },
     "metadata": {
      "tags": []
     },
     "output_type": "display_data"
    },
    {
     "data": {
      "text/html": [
       "<pre>recommendations finished on 8000/39037 queries. users per second: 38693.7</pre>"
      ],
      "text/plain": [
       "recommendations finished on 8000/39037 queries. users per second: 38693.7"
      ]
     },
     "metadata": {
      "tags": []
     },
     "output_type": "display_data"
    },
    {
     "data": {
      "text/html": [
       "<pre>recommendations finished on 9000/39037 queries. users per second: 38790.3</pre>"
      ],
      "text/plain": [
       "recommendations finished on 9000/39037 queries. users per second: 38790.3"
      ]
     },
     "metadata": {
      "tags": []
     },
     "output_type": "display_data"
    },
    {
     "data": {
      "text/html": [
       "<pre>recommendations finished on 10000/39037 queries. users per second: 38912.3</pre>"
      ],
      "text/plain": [
       "recommendations finished on 10000/39037 queries. users per second: 38912.3"
      ]
     },
     "metadata": {
      "tags": []
     },
     "output_type": "display_data"
    },
    {
     "data": {
      "text/html": [
       "<pre>recommendations finished on 11000/39037 queries. users per second: 38916.3</pre>"
      ],
      "text/plain": [
       "recommendations finished on 11000/39037 queries. users per second: 38916.3"
      ]
     },
     "metadata": {
      "tags": []
     },
     "output_type": "display_data"
    },
    {
     "data": {
      "text/html": [
       "<pre>recommendations finished on 12000/39037 queries. users per second: 38817.1</pre>"
      ],
      "text/plain": [
       "recommendations finished on 12000/39037 queries. users per second: 38817.1"
      ]
     },
     "metadata": {
      "tags": []
     },
     "output_type": "display_data"
    },
    {
     "data": {
      "text/html": [
       "<pre>recommendations finished on 13000/39037 queries. users per second: 38786.5</pre>"
      ],
      "text/plain": [
       "recommendations finished on 13000/39037 queries. users per second: 38786.5"
      ]
     },
     "metadata": {
      "tags": []
     },
     "output_type": "display_data"
    },
    {
     "data": {
      "text/html": [
       "<pre>recommendations finished on 14000/39037 queries. users per second: 38828.8</pre>"
      ],
      "text/plain": [
       "recommendations finished on 14000/39037 queries. users per second: 38828.8"
      ]
     },
     "metadata": {
      "tags": []
     },
     "output_type": "display_data"
    },
    {
     "data": {
      "text/html": [
       "<pre>recommendations finished on 15000/39037 queries. users per second: 38770.2</pre>"
      ],
      "text/plain": [
       "recommendations finished on 15000/39037 queries. users per second: 38770.2"
      ]
     },
     "metadata": {
      "tags": []
     },
     "output_type": "display_data"
    },
    {
     "data": {
      "text/html": [
       "<pre>recommendations finished on 16000/39037 queries. users per second: 38769.8</pre>"
      ],
      "text/plain": [
       "recommendations finished on 16000/39037 queries. users per second: 38769.8"
      ]
     },
     "metadata": {
      "tags": []
     },
     "output_type": "display_data"
    },
    {
     "data": {
      "text/html": [
       "<pre>recommendations finished on 17000/39037 queries. users per second: 38941.1</pre>"
      ],
      "text/plain": [
       "recommendations finished on 17000/39037 queries. users per second: 38941.1"
      ]
     },
     "metadata": {
      "tags": []
     },
     "output_type": "display_data"
    },
    {
     "data": {
      "text/html": [
       "<pre>recommendations finished on 18000/39037 queries. users per second: 38954.3</pre>"
      ],
      "text/plain": [
       "recommendations finished on 18000/39037 queries. users per second: 38954.3"
      ]
     },
     "metadata": {
      "tags": []
     },
     "output_type": "display_data"
    },
    {
     "data": {
      "text/html": [
       "<pre>recommendations finished on 19000/39037 queries. users per second: 38935.3</pre>"
      ],
      "text/plain": [
       "recommendations finished on 19000/39037 queries. users per second: 38935.3"
      ]
     },
     "metadata": {
      "tags": []
     },
     "output_type": "display_data"
    },
    {
     "data": {
      "text/html": [
       "<pre>recommendations finished on 20000/39037 queries. users per second: 38992.4</pre>"
      ],
      "text/plain": [
       "recommendations finished on 20000/39037 queries. users per second: 38992.4"
      ]
     },
     "metadata": {
      "tags": []
     },
     "output_type": "display_data"
    },
    {
     "data": {
      "text/html": [
       "<pre>recommendations finished on 21000/39037 queries. users per second: 39049.9</pre>"
      ],
      "text/plain": [
       "recommendations finished on 21000/39037 queries. users per second: 39049.9"
      ]
     },
     "metadata": {
      "tags": []
     },
     "output_type": "display_data"
    },
    {
     "data": {
      "text/html": [
       "<pre>recommendations finished on 22000/39037 queries. users per second: 38768.9</pre>"
      ],
      "text/plain": [
       "recommendations finished on 22000/39037 queries. users per second: 38768.9"
      ]
     },
     "metadata": {
      "tags": []
     },
     "output_type": "display_data"
    },
    {
     "data": {
      "text/html": [
       "<pre>recommendations finished on 23000/39037 queries. users per second: 38766.4</pre>"
      ],
      "text/plain": [
       "recommendations finished on 23000/39037 queries. users per second: 38766.4"
      ]
     },
     "metadata": {
      "tags": []
     },
     "output_type": "display_data"
    },
    {
     "data": {
      "text/html": [
       "<pre>recommendations finished on 24000/39037 queries. users per second: 38776.5</pre>"
      ],
      "text/plain": [
       "recommendations finished on 24000/39037 queries. users per second: 38776.5"
      ]
     },
     "metadata": {
      "tags": []
     },
     "output_type": "display_data"
    },
    {
     "data": {
      "text/html": [
       "<pre>recommendations finished on 25000/39037 queries. users per second: 38819.5</pre>"
      ],
      "text/plain": [
       "recommendations finished on 25000/39037 queries. users per second: 38819.5"
      ]
     },
     "metadata": {
      "tags": []
     },
     "output_type": "display_data"
    },
    {
     "data": {
      "text/html": [
       "<pre>recommendations finished on 26000/39037 queries. users per second: 38772.1</pre>"
      ],
      "text/plain": [
       "recommendations finished on 26000/39037 queries. users per second: 38772.1"
      ]
     },
     "metadata": {
      "tags": []
     },
     "output_type": "display_data"
    },
    {
     "data": {
      "text/html": [
       "<pre>recommendations finished on 27000/39037 queries. users per second: 38674.1</pre>"
      ],
      "text/plain": [
       "recommendations finished on 27000/39037 queries. users per second: 38674.1"
      ]
     },
     "metadata": {
      "tags": []
     },
     "output_type": "display_data"
    },
    {
     "data": {
      "text/html": [
       "<pre>recommendations finished on 28000/39037 queries. users per second: 38791.2</pre>"
      ],
      "text/plain": [
       "recommendations finished on 28000/39037 queries. users per second: 38791.2"
      ]
     },
     "metadata": {
      "tags": []
     },
     "output_type": "display_data"
    },
    {
     "data": {
      "text/html": [
       "<pre>recommendations finished on 29000/39037 queries. users per second: 38715.4</pre>"
      ],
      "text/plain": [
       "recommendations finished on 29000/39037 queries. users per second: 38715.4"
      ]
     },
     "metadata": {
      "tags": []
     },
     "output_type": "display_data"
    },
    {
     "data": {
      "text/html": [
       "<pre>recommendations finished on 30000/39037 queries. users per second: 38738.5</pre>"
      ],
      "text/plain": [
       "recommendations finished on 30000/39037 queries. users per second: 38738.5"
      ]
     },
     "metadata": {
      "tags": []
     },
     "output_type": "display_data"
    },
    {
     "data": {
      "text/html": [
       "<pre>recommendations finished on 31000/39037 queries. users per second: 38814.1</pre>"
      ],
      "text/plain": [
       "recommendations finished on 31000/39037 queries. users per second: 38814.1"
      ]
     },
     "metadata": {
      "tags": []
     },
     "output_type": "display_data"
    },
    {
     "data": {
      "text/html": [
       "<pre>recommendations finished on 32000/39037 queries. users per second: 38828.8</pre>"
      ],
      "text/plain": [
       "recommendations finished on 32000/39037 queries. users per second: 38828.8"
      ]
     },
     "metadata": {
      "tags": []
     },
     "output_type": "display_data"
    },
    {
     "data": {
      "text/html": [
       "<pre>recommendations finished on 33000/39037 queries. users per second: 38910.2</pre>"
      ],
      "text/plain": [
       "recommendations finished on 33000/39037 queries. users per second: 38910.2"
      ]
     },
     "metadata": {
      "tags": []
     },
     "output_type": "display_data"
    },
    {
     "data": {
      "text/html": [
       "<pre>recommendations finished on 34000/39037 queries. users per second: 38928.3</pre>"
      ],
      "text/plain": [
       "recommendations finished on 34000/39037 queries. users per second: 38928.3"
      ]
     },
     "metadata": {
      "tags": []
     },
     "output_type": "display_data"
    },
    {
     "data": {
      "text/html": [
       "<pre>recommendations finished on 35000/39037 queries. users per second: 38964.9</pre>"
      ],
      "text/plain": [
       "recommendations finished on 35000/39037 queries. users per second: 38964.9"
      ]
     },
     "metadata": {
      "tags": []
     },
     "output_type": "display_data"
    },
    {
     "data": {
      "text/html": [
       "<pre>recommendations finished on 36000/39037 queries. users per second: 38973.6</pre>"
      ],
      "text/plain": [
       "recommendations finished on 36000/39037 queries. users per second: 38973.6"
      ]
     },
     "metadata": {
      "tags": []
     },
     "output_type": "display_data"
    },
    {
     "data": {
      "text/html": [
       "<pre>recommendations finished on 37000/39037 queries. users per second: 38686.6</pre>"
      ],
      "text/plain": [
       "recommendations finished on 37000/39037 queries. users per second: 38686.6"
      ]
     },
     "metadata": {
      "tags": []
     },
     "output_type": "display_data"
    },
    {
     "data": {
      "text/html": [
       "<pre>recommendations finished on 38000/39037 queries. users per second: 38518.3</pre>"
      ],
      "text/plain": [
       "recommendations finished on 38000/39037 queries. users per second: 38518.3"
      ]
     },
     "metadata": {
      "tags": []
     },
     "output_type": "display_data"
    },
    {
     "data": {
      "text/html": [
       "<pre>recommendations finished on 39000/39037 queries. users per second: 38402.9</pre>"
      ],
      "text/plain": [
       "recommendations finished on 39000/39037 queries. users per second: 38402.9"
      ]
     },
     "metadata": {
      "tags": []
     },
     "output_type": "display_data"
    },
    {
     "name": "stdout",
     "output_type": "stream",
     "text": [
      "+------------+-----------+----------------------+------+\n",
      "| customerId | productId |        score         | rank |\n",
      "+------------+-----------+----------------------+------+\n",
      "|     0      |    1485   | 0.09834958612918854  |  1   |\n",
      "|     0      |    1488   | 0.07510887086391449  |  2   |\n",
      "|     0      |    1483   | 0.06732180714607239  |  3   |\n",
      "|     0      |    2613   | 0.06428401172161102  |  4   |\n",
      "|     0      |    449    | 0.05813249945640564  |  5   |\n",
      "|     0      |    1482   | 0.05463084578514099  |  6   |\n",
      "|     0      |    1487   | 0.04139558970928192  |  7   |\n",
      "|     0      |    2494   | 0.04111619293689728  |  8   |\n",
      "|     0      |    1484   | 0.03186045587062836  |  9   |\n",
      "|     0      |    2519   | 0.030281350016593933 |  10  |\n",
      "|     2      |    1102   | 0.17433321475982666  |  1   |\n",
      "|     2      |    447    | 0.12682161728541055  |  2   |\n",
      "|     2      |    462    | 0.11564582586288452  |  3   |\n",
      "|     2      |    813    | 0.10048749049504598  |  4   |\n",
      "|     2      |    1101   | 0.09366186459859212  |  5   |\n",
      "|     2      |    615    | 0.08953577280044556  |  6   |\n",
      "|     2      |    1196   | 0.08424522479375203  |  7   |\n",
      "|     2      |    474    | 0.08078203598658244  |  8   |\n",
      "|     2      |    842    | 0.07118862867355347  |  9   |\n",
      "|     2      |    460    | 0.06827837228775024  |  10  |\n",
      "|     5      |    2216   | 0.09691581130027771  |  1   |\n",
      "|     5      |    2214   |  0.0747988373041153  |  2   |\n",
      "|     5      |    2357   | 0.05219453573226929  |  3   |\n",
      "|     5      |    2354   | 0.04582354426383972  |  4   |\n",
      "|     5      |    2362   | 0.038991525769233704 |  5   |\n",
      "|     5      |    2356   | 0.03826363384723663  |  6   |\n",
      "|     5      |    2689   |  0.0381980836391449  |  7   |\n",
      "|     5      |    2418   |  0.0379127562046051  |  8   |\n",
      "|     5      |    2036   | 0.03581523895263672  |  9   |\n",
      "|     5      |    2355   | 0.03514312207698822  |  10  |\n",
      "+------------+-----------+----------------------+------+\n",
      "[390370 rows x 4 columns]\n",
      "\n"
     ]
    },
    {
     "data": {
      "text/plain": [
       "Class                            : ItemSimilarityRecommender\n",
       "\n",
       "Schema\n",
       "------\n",
       "User ID                          : customerId\n",
       "Item ID                          : productId\n",
       "Target                           : purchase_count\n",
       "Additional observation features  : 0\n",
       "User side features               : []\n",
       "Item side features               : []\n",
       "\n",
       "Statistics\n",
       "----------\n",
       "Number of observations           : 197486\n",
       "Number of users                  : 39019\n",
       "Number of items                  : 2257\n",
       "\n",
       "Training summary\n",
       "----------------\n",
       "Training time                    : 1.1677\n",
       "\n",
       "Model Parameters\n",
       "----------------\n",
       "Model class                      : ItemSimilarityRecommender\n",
       "threshold                        : 0.001\n",
       "similarity_type                  : cosine\n",
       "training_method                  : auto\n",
       "\n",
       "Other Settings\n",
       "--------------\n",
       "degree_approximation_threshold   : 4096\n",
       "max_data_passes                  : 4096\n",
       "max_item_neighborhood_size       : 64\n",
       "nearest_neighbors_interaction_proportion_threshold : 0.05\n",
       "seed_item_set_size               : 50\n",
       "sparse_density_estimation_sample_size : 4096\n",
       "target_memory_usage              : 8589934592"
      ]
     },
     "execution_count": 22,
     "metadata": {
      "tags": []
     },
     "output_type": "execute_result"
    }
   ],
   "source": [
    "# i. Usando el conteo de compras\n",
    "name = 'cosine'\n",
    "target = 'purchase_count'\n",
    "cos = model(train_data, name, user_id, item_id, target, users_to_recommend, n_rec, n_display)\n",
    "cos"
   ]
  },
  {
   "cell_type": "code",
   "execution_count": 23,
   "metadata": {
    "colab": {
     "base_uri": "https://localhost:8080/",
     "height": 0
    },
    "colab_type": "code",
    "id": "4_ErTOBjln32",
    "outputId": "fa88fc10-ef9a-46a5-fd03-dfbfd07a43b3"
   },
   "outputs": [
    {
     "data": {
      "text/html": [
       "<pre>Warning: Ignoring columns purchase_count;</pre>"
      ],
      "text/plain": [
       "Warning: Ignoring columns purchase_count;"
      ]
     },
     "metadata": {
      "tags": []
     },
     "output_type": "display_data"
    },
    {
     "data": {
      "text/html": [
       "<pre>    To use these columns in scoring predictions, use a model that allows the use of additional features.</pre>"
      ],
      "text/plain": [
       "    To use these columns in scoring predictions, use a model that allows the use of additional features."
      ]
     },
     "metadata": {
      "tags": []
     },
     "output_type": "display_data"
    },
    {
     "data": {
      "text/html": [
       "<pre>Preparing data set.</pre>"
      ],
      "text/plain": [
       "Preparing data set."
      ]
     },
     "metadata": {
      "tags": []
     },
     "output_type": "display_data"
    },
    {
     "data": {
      "text/html": [
       "<pre>    Data has 197486 observations with 39015 users and 2256 items.</pre>"
      ],
      "text/plain": [
       "    Data has 197486 observations with 39015 users and 2256 items."
      ]
     },
     "metadata": {
      "tags": []
     },
     "output_type": "display_data"
    },
    {
     "data": {
      "text/html": [
       "<pre>    Data prepared in: 0.216453s</pre>"
      ],
      "text/plain": [
       "    Data prepared in: 0.216453s"
      ]
     },
     "metadata": {
      "tags": []
     },
     "output_type": "display_data"
    },
    {
     "data": {
      "text/html": [
       "<pre>Training model from provided data.</pre>"
      ],
      "text/plain": [
       "Training model from provided data."
      ]
     },
     "metadata": {
      "tags": []
     },
     "output_type": "display_data"
    },
    {
     "data": {
      "text/html": [
       "<pre>Gathering per-item and per-user statistics.</pre>"
      ],
      "text/plain": [
       "Gathering per-item and per-user statistics."
      ]
     },
     "metadata": {
      "tags": []
     },
     "output_type": "display_data"
    },
    {
     "data": {
      "text/html": [
       "<pre>+--------------------------------+------------+</pre>"
      ],
      "text/plain": [
       "+--------------------------------+------------+"
      ]
     },
     "metadata": {
      "tags": []
     },
     "output_type": "display_data"
    },
    {
     "data": {
      "text/html": [
       "<pre>| Elapsed Time (Item Statistics) | % Complete |</pre>"
      ],
      "text/plain": [
       "| Elapsed Time (Item Statistics) | % Complete |"
      ]
     },
     "metadata": {
      "tags": []
     },
     "output_type": "display_data"
    },
    {
     "data": {
      "text/html": [
       "<pre>+--------------------------------+------------+</pre>"
      ],
      "text/plain": [
       "+--------------------------------+------------+"
      ]
     },
     "metadata": {
      "tags": []
     },
     "output_type": "display_data"
    },
    {
     "data": {
      "text/html": [
       "<pre>| 780us                          | 2.5        |</pre>"
      ],
      "text/plain": [
       "| 780us                          | 2.5        |"
      ]
     },
     "metadata": {
      "tags": []
     },
     "output_type": "display_data"
    },
    {
     "data": {
      "text/html": [
       "<pre>| 20.705ms                       | 100        |</pre>"
      ],
      "text/plain": [
       "| 20.705ms                       | 100        |"
      ]
     },
     "metadata": {
      "tags": []
     },
     "output_type": "display_data"
    },
    {
     "data": {
      "text/html": [
       "<pre>+--------------------------------+------------+</pre>"
      ],
      "text/plain": [
       "+--------------------------------+------------+"
      ]
     },
     "metadata": {
      "tags": []
     },
     "output_type": "display_data"
    },
    {
     "data": {
      "text/html": [
       "<pre>Setting up lookup tables.</pre>"
      ],
      "text/plain": [
       "Setting up lookup tables."
      ]
     },
     "metadata": {
      "tags": []
     },
     "output_type": "display_data"
    },
    {
     "data": {
      "text/html": [
       "<pre>Processing data in one pass using dense lookup tables.</pre>"
      ],
      "text/plain": [
       "Processing data in one pass using dense lookup tables."
      ]
     },
     "metadata": {
      "tags": []
     },
     "output_type": "display_data"
    },
    {
     "data": {
      "text/html": [
       "<pre>+-------------------------------------+------------------+-----------------+</pre>"
      ],
      "text/plain": [
       "+-------------------------------------+------------------+-----------------+"
      ]
     },
     "metadata": {
      "tags": []
     },
     "output_type": "display_data"
    },
    {
     "data": {
      "text/html": [
       "<pre>| Elapsed Time (Constructing Lookups) | Total % Complete | Items Processed |</pre>"
      ],
      "text/plain": [
       "| Elapsed Time (Constructing Lookups) | Total % Complete | Items Processed |"
      ]
     },
     "metadata": {
      "tags": []
     },
     "output_type": "display_data"
    },
    {
     "data": {
      "text/html": [
       "<pre>+-------------------------------------+------------------+-----------------+</pre>"
      ],
      "text/plain": [
       "+-------------------------------------+------------------+-----------------+"
      ]
     },
     "metadata": {
      "tags": []
     },
     "output_type": "display_data"
    },
    {
     "data": {
      "text/html": [
       "<pre>| 34.523ms                            | 0                | 0               |</pre>"
      ],
      "text/plain": [
       "| 34.523ms                            | 0                | 0               |"
      ]
     },
     "metadata": {
      "tags": []
     },
     "output_type": "display_data"
    },
    {
     "data": {
      "text/html": [
       "<pre>| 142.69ms                            | 100              | 2256            |</pre>"
      ],
      "text/plain": [
       "| 142.69ms                            | 100              | 2256            |"
      ]
     },
     "metadata": {
      "tags": []
     },
     "output_type": "display_data"
    },
    {
     "data": {
      "text/html": [
       "<pre>+-------------------------------------+------------------+-----------------+</pre>"
      ],
      "text/plain": [
       "+-------------------------------------+------------------+-----------------+"
      ]
     },
     "metadata": {
      "tags": []
     },
     "output_type": "display_data"
    },
    {
     "data": {
      "text/html": [
       "<pre>Finalizing lookup tables.</pre>"
      ],
      "text/plain": [
       "Finalizing lookup tables."
      ]
     },
     "metadata": {
      "tags": []
     },
     "output_type": "display_data"
    },
    {
     "data": {
      "text/html": [
       "<pre>Generating candidate set for working with new users.</pre>"
      ],
      "text/plain": [
       "Generating candidate set for working with new users."
      ]
     },
     "metadata": {
      "tags": []
     },
     "output_type": "display_data"
    },
    {
     "data": {
      "text/html": [
       "<pre>Finished training in 0.170323s</pre>"
      ],
      "text/plain": [
       "Finished training in 0.170323s"
      ]
     },
     "metadata": {
      "tags": []
     },
     "output_type": "display_data"
    },
    {
     "data": {
      "text/html": [
       "<pre>recommendations finished on 1000/39037 queries. users per second: 34468.5</pre>"
      ],
      "text/plain": [
       "recommendations finished on 1000/39037 queries. users per second: 34468.5"
      ]
     },
     "metadata": {
      "tags": []
     },
     "output_type": "display_data"
    },
    {
     "data": {
      "text/html": [
       "<pre>recommendations finished on 2000/39037 queries. users per second: 34626</pre>"
      ],
      "text/plain": [
       "recommendations finished on 2000/39037 queries. users per second: 34626"
      ]
     },
     "metadata": {
      "tags": []
     },
     "output_type": "display_data"
    },
    {
     "data": {
      "text/html": [
       "<pre>recommendations finished on 3000/39037 queries. users per second: 36075.9</pre>"
      ],
      "text/plain": [
       "recommendations finished on 3000/39037 queries. users per second: 36075.9"
      ]
     },
     "metadata": {
      "tags": []
     },
     "output_type": "display_data"
    },
    {
     "data": {
      "text/html": [
       "<pre>recommendations finished on 4000/39037 queries. users per second: 36843.3</pre>"
      ],
      "text/plain": [
       "recommendations finished on 4000/39037 queries. users per second: 36843.3"
      ]
     },
     "metadata": {
      "tags": []
     },
     "output_type": "display_data"
    },
    {
     "data": {
      "text/html": [
       "<pre>recommendations finished on 5000/39037 queries. users per second: 37548</pre>"
      ],
      "text/plain": [
       "recommendations finished on 5000/39037 queries. users per second: 37548"
      ]
     },
     "metadata": {
      "tags": []
     },
     "output_type": "display_data"
    },
    {
     "data": {
      "text/html": [
       "<pre>recommendations finished on 6000/39037 queries. users per second: 37152.6</pre>"
      ],
      "text/plain": [
       "recommendations finished on 6000/39037 queries. users per second: 37152.6"
      ]
     },
     "metadata": {
      "tags": []
     },
     "output_type": "display_data"
    },
    {
     "data": {
      "text/html": [
       "<pre>recommendations finished on 7000/39037 queries. users per second: 37127</pre>"
      ],
      "text/plain": [
       "recommendations finished on 7000/39037 queries. users per second: 37127"
      ]
     },
     "metadata": {
      "tags": []
     },
     "output_type": "display_data"
    },
    {
     "data": {
      "text/html": [
       "<pre>recommendations finished on 8000/39037 queries. users per second: 37468.1</pre>"
      ],
      "text/plain": [
       "recommendations finished on 8000/39037 queries. users per second: 37468.1"
      ]
     },
     "metadata": {
      "tags": []
     },
     "output_type": "display_data"
    },
    {
     "data": {
      "text/html": [
       "<pre>recommendations finished on 9000/39037 queries. users per second: 37638.3</pre>"
      ],
      "text/plain": [
       "recommendations finished on 9000/39037 queries. users per second: 37638.3"
      ]
     },
     "metadata": {
      "tags": []
     },
     "output_type": "display_data"
    },
    {
     "data": {
      "text/html": [
       "<pre>recommendations finished on 10000/39037 queries. users per second: 37911.4</pre>"
      ],
      "text/plain": [
       "recommendations finished on 10000/39037 queries. users per second: 37911.4"
      ]
     },
     "metadata": {
      "tags": []
     },
     "output_type": "display_data"
    },
    {
     "data": {
      "text/html": [
       "<pre>recommendations finished on 11000/39037 queries. users per second: 38048.7</pre>"
      ],
      "text/plain": [
       "recommendations finished on 11000/39037 queries. users per second: 38048.7"
      ]
     },
     "metadata": {
      "tags": []
     },
     "output_type": "display_data"
    },
    {
     "data": {
      "text/html": [
       "<pre>recommendations finished on 12000/39037 queries. users per second: 38272.1</pre>"
      ],
      "text/plain": [
       "recommendations finished on 12000/39037 queries. users per second: 38272.1"
      ]
     },
     "metadata": {
      "tags": []
     },
     "output_type": "display_data"
    },
    {
     "data": {
      "text/html": [
       "<pre>recommendations finished on 13000/39037 queries. users per second: 38200.6</pre>"
      ],
      "text/plain": [
       "recommendations finished on 13000/39037 queries. users per second: 38200.6"
      ]
     },
     "metadata": {
      "tags": []
     },
     "output_type": "display_data"
    },
    {
     "data": {
      "text/html": [
       "<pre>recommendations finished on 14000/39037 queries. users per second: 38078.7</pre>"
      ],
      "text/plain": [
       "recommendations finished on 14000/39037 queries. users per second: 38078.7"
      ]
     },
     "metadata": {
      "tags": []
     },
     "output_type": "display_data"
    },
    {
     "data": {
      "text/html": [
       "<pre>recommendations finished on 15000/39037 queries. users per second: 38010</pre>"
      ],
      "text/plain": [
       "recommendations finished on 15000/39037 queries. users per second: 38010"
      ]
     },
     "metadata": {
      "tags": []
     },
     "output_type": "display_data"
    },
    {
     "data": {
      "text/html": [
       "<pre>recommendations finished on 16000/39037 queries. users per second: 38081.5</pre>"
      ],
      "text/plain": [
       "recommendations finished on 16000/39037 queries. users per second: 38081.5"
      ]
     },
     "metadata": {
      "tags": []
     },
     "output_type": "display_data"
    },
    {
     "data": {
      "text/html": [
       "<pre>recommendations finished on 17000/39037 queries. users per second: 38182.4</pre>"
      ],
      "text/plain": [
       "recommendations finished on 17000/39037 queries. users per second: 38182.4"
      ]
     },
     "metadata": {
      "tags": []
     },
     "output_type": "display_data"
    },
    {
     "data": {
      "text/html": [
       "<pre>recommendations finished on 18000/39037 queries. users per second: 38285.5</pre>"
      ],
      "text/plain": [
       "recommendations finished on 18000/39037 queries. users per second: 38285.5"
      ]
     },
     "metadata": {
      "tags": []
     },
     "output_type": "display_data"
    },
    {
     "data": {
      "text/html": [
       "<pre>recommendations finished on 19000/39037 queries. users per second: 38337.1</pre>"
      ],
      "text/plain": [
       "recommendations finished on 19000/39037 queries. users per second: 38337.1"
      ]
     },
     "metadata": {
      "tags": []
     },
     "output_type": "display_data"
    },
    {
     "data": {
      "text/html": [
       "<pre>recommendations finished on 20000/39037 queries. users per second: 38413.2</pre>"
      ],
      "text/plain": [
       "recommendations finished on 20000/39037 queries. users per second: 38413.2"
      ]
     },
     "metadata": {
      "tags": []
     },
     "output_type": "display_data"
    },
    {
     "data": {
      "text/html": [
       "<pre>recommendations finished on 21000/39037 queries. users per second: 38473.2</pre>"
      ],
      "text/plain": [
       "recommendations finished on 21000/39037 queries. users per second: 38473.2"
      ]
     },
     "metadata": {
      "tags": []
     },
     "output_type": "display_data"
    },
    {
     "data": {
      "text/html": [
       "<pre>recommendations finished on 22000/39037 queries. users per second: 38587.1</pre>"
      ],
      "text/plain": [
       "recommendations finished on 22000/39037 queries. users per second: 38587.1"
      ]
     },
     "metadata": {
      "tags": []
     },
     "output_type": "display_data"
    },
    {
     "data": {
      "text/html": [
       "<pre>recommendations finished on 23000/39037 queries. users per second: 38659.6</pre>"
      ],
      "text/plain": [
       "recommendations finished on 23000/39037 queries. users per second: 38659.6"
      ]
     },
     "metadata": {
      "tags": []
     },
     "output_type": "display_data"
    },
    {
     "data": {
      "text/html": [
       "<pre>recommendations finished on 24000/39037 queries. users per second: 38719.9</pre>"
      ],
      "text/plain": [
       "recommendations finished on 24000/39037 queries. users per second: 38719.9"
      ]
     },
     "metadata": {
      "tags": []
     },
     "output_type": "display_data"
    },
    {
     "data": {
      "text/html": [
       "<pre>recommendations finished on 25000/39037 queries. users per second: 38812.5</pre>"
      ],
      "text/plain": [
       "recommendations finished on 25000/39037 queries. users per second: 38812.5"
      ]
     },
     "metadata": {
      "tags": []
     },
     "output_type": "display_data"
    },
    {
     "data": {
      "text/html": [
       "<pre>recommendations finished on 26000/39037 queries. users per second: 38839</pre>"
      ],
      "text/plain": [
       "recommendations finished on 26000/39037 queries. users per second: 38839"
      ]
     },
     "metadata": {
      "tags": []
     },
     "output_type": "display_data"
    },
    {
     "data": {
      "text/html": [
       "<pre>recommendations finished on 27000/39037 queries. users per second: 38781.2</pre>"
      ],
      "text/plain": [
       "recommendations finished on 27000/39037 queries. users per second: 38781.2"
      ]
     },
     "metadata": {
      "tags": []
     },
     "output_type": "display_data"
    },
    {
     "data": {
      "text/html": [
       "<pre>recommendations finished on 28000/39037 queries. users per second: 38847.4</pre>"
      ],
      "text/plain": [
       "recommendations finished on 28000/39037 queries. users per second: 38847.4"
      ]
     },
     "metadata": {
      "tags": []
     },
     "output_type": "display_data"
    },
    {
     "data": {
      "text/html": [
       "<pre>recommendations finished on 29000/39037 queries. users per second: 38883.5</pre>"
      ],
      "text/plain": [
       "recommendations finished on 29000/39037 queries. users per second: 38883.5"
      ]
     },
     "metadata": {
      "tags": []
     },
     "output_type": "display_data"
    },
    {
     "data": {
      "text/html": [
       "<pre>recommendations finished on 30000/39037 queries. users per second: 38829.2</pre>"
      ],
      "text/plain": [
       "recommendations finished on 30000/39037 queries. users per second: 38829.2"
      ]
     },
     "metadata": {
      "tags": []
     },
     "output_type": "display_data"
    },
    {
     "data": {
      "text/html": [
       "<pre>recommendations finished on 31000/39037 queries. users per second: 38808.3</pre>"
      ],
      "text/plain": [
       "recommendations finished on 31000/39037 queries. users per second: 38808.3"
      ]
     },
     "metadata": {
      "tags": []
     },
     "output_type": "display_data"
    },
    {
     "data": {
      "text/html": [
       "<pre>recommendations finished on 32000/39037 queries. users per second: 38839.5</pre>"
      ],
      "text/plain": [
       "recommendations finished on 32000/39037 queries. users per second: 38839.5"
      ]
     },
     "metadata": {
      "tags": []
     },
     "output_type": "display_data"
    },
    {
     "data": {
      "text/html": [
       "<pre>recommendations finished on 33000/39037 queries. users per second: 38898.9</pre>"
      ],
      "text/plain": [
       "recommendations finished on 33000/39037 queries. users per second: 38898.9"
      ]
     },
     "metadata": {
      "tags": []
     },
     "output_type": "display_data"
    },
    {
     "data": {
      "text/html": [
       "<pre>recommendations finished on 34000/39037 queries. users per second: 38942.1</pre>"
      ],
      "text/plain": [
       "recommendations finished on 34000/39037 queries. users per second: 38942.1"
      ]
     },
     "metadata": {
      "tags": []
     },
     "output_type": "display_data"
    },
    {
     "data": {
      "text/html": [
       "<pre>recommendations finished on 35000/39037 queries. users per second: 38972.1</pre>"
      ],
      "text/plain": [
       "recommendations finished on 35000/39037 queries. users per second: 38972.1"
      ]
     },
     "metadata": {
      "tags": []
     },
     "output_type": "display_data"
    },
    {
     "data": {
      "text/html": [
       "<pre>recommendations finished on 36000/39037 queries. users per second: 39051.6</pre>"
      ],
      "text/plain": [
       "recommendations finished on 36000/39037 queries. users per second: 39051.6"
      ]
     },
     "metadata": {
      "tags": []
     },
     "output_type": "display_data"
    },
    {
     "data": {
      "text/html": [
       "<pre>recommendations finished on 37000/39037 queries. users per second: 39099.4</pre>"
      ],
      "text/plain": [
       "recommendations finished on 37000/39037 queries. users per second: 39099.4"
      ]
     },
     "metadata": {
      "tags": []
     },
     "output_type": "display_data"
    },
    {
     "data": {
      "text/html": [
       "<pre>recommendations finished on 38000/39037 queries. users per second: 39134.5</pre>"
      ],
      "text/plain": [
       "recommendations finished on 38000/39037 queries. users per second: 39134.5"
      ]
     },
     "metadata": {
      "tags": []
     },
     "output_type": "display_data"
    },
    {
     "data": {
      "text/html": [
       "<pre>recommendations finished on 39000/39037 queries. users per second: 39098.7</pre>"
      ],
      "text/plain": [
       "recommendations finished on 39000/39037 queries. users per second: 39098.7"
      ]
     },
     "metadata": {
      "tags": []
     },
     "output_type": "display_data"
    },
    {
     "name": "stdout",
     "output_type": "stream",
     "text": [
      "+------------+-----------+----------------------+------+\n",
      "| customerId | productId |        score         | rank |\n",
      "+------------+-----------+----------------------+------+\n",
      "|     0      |    449    | 0.06875088214874267  |  1   |\n",
      "|     0      |    1481   |  0.0593183159828186  |  2   |\n",
      "|     0      |    1485   | 0.05345419645309448  |  3   |\n",
      "|     0      |    2470   | 0.04444639682769776  |  4   |\n",
      "|     0      |    2494   | 0.04078186750411987  |  5   |\n",
      "|     0      |    1488   | 0.03972734212875366  |  6   |\n",
      "|     0      |    1482   | 0.038307344913482665 |  7   |\n",
      "|     0      |    615    | 0.03579730987548828  |  8   |\n",
      "|     0      |    1483   | 0.034350454807281494 |  9   |\n",
      "|     0      |    842    | 0.032827889919281004 |  10  |\n",
      "|     2      |    447    | 0.11021105448404948  |  1   |\n",
      "|     2      |    1102   | 0.09561467170715332  |  2   |\n",
      "|     2      |    615    | 0.06772643327713013  |  3   |\n",
      "|     2      |    813    | 0.06710286935170491  |  4   |\n",
      "|     2      |    474    | 0.05990753571192423  |  5   |\n",
      "|     2      |    1101   | 0.05722977717717489  |  6   |\n",
      "|     2      |    461    | 0.055498222510019936 |  7   |\n",
      "|     2      |    462    | 0.04997736215591431  |  8   |\n",
      "|     2      |    467    | 0.04217753807703654  |  9   |\n",
      "|     2      |    460    | 0.04088811079661051  |  10  |\n",
      "|     5      |    2214   | 0.07232489188512166  |  1   |\n",
      "|     5      |    2356   |  0.0298139750957489  |  2   |\n",
      "|     5      |    2419   | 0.029477665821711223 |  3   |\n",
      "|     5      |    2355   | 0.029091765483220417 |  4   |\n",
      "|     5      |    2422   | 0.02883550524711609  |  5   |\n",
      "|     5      |    2037   | 0.02651113271713257  |  6   |\n",
      "|     5      |    2354   | 0.02610396345456441  |  7   |\n",
      "|     5      |    2219   | 0.02512847383817037  |  8   |\n",
      "|     5      |    2359   | 0.024599343538284302 |  9   |\n",
      "|     5      |    2036   | 0.024318734804789226 |  10  |\n",
      "+------------+-----------+----------------------+------+\n",
      "[390370 rows x 4 columns]\n",
      "\n"
     ]
    },
    {
     "data": {
      "text/plain": [
       "Class                            : ItemSimilarityRecommender\n",
       "\n",
       "Schema\n",
       "------\n",
       "User ID                          : customerId\n",
       "Item ID                          : productId\n",
       "Target                           : purchase_dummy\n",
       "Additional observation features  : 0\n",
       "User side features               : []\n",
       "Item side features               : []\n",
       "\n",
       "Statistics\n",
       "----------\n",
       "Number of observations           : 197486\n",
       "Number of users                  : 39015\n",
       "Number of items                  : 2256\n",
       "\n",
       "Training summary\n",
       "----------------\n",
       "Training time                    : 0.1704\n",
       "\n",
       "Model Parameters\n",
       "----------------\n",
       "Model class                      : ItemSimilarityRecommender\n",
       "threshold                        : 0.001\n",
       "similarity_type                  : cosine\n",
       "training_method                  : auto\n",
       "\n",
       "Other Settings\n",
       "--------------\n",
       "degree_approximation_threshold   : 4096\n",
       "max_data_passes                  : 4096\n",
       "max_item_neighborhood_size       : 64\n",
       "nearest_neighbors_interaction_proportion_threshold : 0.05\n",
       "seed_item_set_size               : 50\n",
       "sparse_density_estimation_sample_size : 4096\n",
       "target_memory_usage              : 8589934592"
      ]
     },
     "execution_count": 23,
     "metadata": {
      "tags": []
     },
     "output_type": "execute_result"
    }
   ],
   "source": [
    "# ii. Usando el dummy de compras\n",
    "name = 'cosine'\n",
    "target = 'purchase_dummy'\n",
    "cos_dummy = model(train_data_dummy, name, user_id, item_id, target, users_to_recommend, n_rec, n_display)\n",
    "cos_dummy"
   ]
  },
  {
   "cell_type": "code",
   "execution_count": 24,
   "metadata": {
    "colab": {
     "base_uri": "https://localhost:8080/",
     "height": 0
    },
    "colab_type": "code",
    "id": "j1KVmSEYln4B",
    "outputId": "cee06274-7085-43ac-cd6d-48151b53e5ba"
   },
   "outputs": [
    {
     "data": {
      "text/html": [
       "<pre>Preparing data set.</pre>"
      ],
      "text/plain": [
       "Preparing data set."
      ]
     },
     "metadata": {
      "tags": []
     },
     "output_type": "display_data"
    },
    {
     "data": {
      "text/html": [
       "<pre>    Data has 162296 observations with 38802 users and 1619 items.</pre>"
      ],
      "text/plain": [
       "    Data has 162296 observations with 38802 users and 1619 items."
      ]
     },
     "metadata": {
      "tags": []
     },
     "output_type": "display_data"
    },
    {
     "data": {
      "text/html": [
       "<pre>    Data prepared in: 0.188261s</pre>"
      ],
      "text/plain": [
       "    Data prepared in: 0.188261s"
      ]
     },
     "metadata": {
      "tags": []
     },
     "output_type": "display_data"
    },
    {
     "data": {
      "text/html": [
       "<pre>Training model from provided data.</pre>"
      ],
      "text/plain": [
       "Training model from provided data."
      ]
     },
     "metadata": {
      "tags": []
     },
     "output_type": "display_data"
    },
    {
     "data": {
      "text/html": [
       "<pre>Gathering per-item and per-user statistics.</pre>"
      ],
      "text/plain": [
       "Gathering per-item and per-user statistics."
      ]
     },
     "metadata": {
      "tags": []
     },
     "output_type": "display_data"
    },
    {
     "data": {
      "text/html": [
       "<pre>+--------------------------------+------------+</pre>"
      ],
      "text/plain": [
       "+--------------------------------+------------+"
      ]
     },
     "metadata": {
      "tags": []
     },
     "output_type": "display_data"
    },
    {
     "data": {
      "text/html": [
       "<pre>| Elapsed Time (Item Statistics) | % Complete |</pre>"
      ],
      "text/plain": [
       "| Elapsed Time (Item Statistics) | % Complete |"
      ]
     },
     "metadata": {
      "tags": []
     },
     "output_type": "display_data"
    },
    {
     "data": {
      "text/html": [
       "<pre>+--------------------------------+------------+</pre>"
      ],
      "text/plain": [
       "+--------------------------------+------------+"
      ]
     },
     "metadata": {
      "tags": []
     },
     "output_type": "display_data"
    },
    {
     "data": {
      "text/html": [
       "<pre>| 801us                          | 2.5        |</pre>"
      ],
      "text/plain": [
       "| 801us                          | 2.5        |"
      ]
     },
     "metadata": {
      "tags": []
     },
     "output_type": "display_data"
    },
    {
     "data": {
      "text/html": [
       "<pre>| 19.226ms                       | 100        |</pre>"
      ],
      "text/plain": [
       "| 19.226ms                       | 100        |"
      ]
     },
     "metadata": {
      "tags": []
     },
     "output_type": "display_data"
    },
    {
     "data": {
      "text/html": [
       "<pre>+--------------------------------+------------+</pre>"
      ],
      "text/plain": [
       "+--------------------------------+------------+"
      ]
     },
     "metadata": {
      "tags": []
     },
     "output_type": "display_data"
    },
    {
     "data": {
      "text/html": [
       "<pre>Setting up lookup tables.</pre>"
      ],
      "text/plain": [
       "Setting up lookup tables."
      ]
     },
     "metadata": {
      "tags": []
     },
     "output_type": "display_data"
    },
    {
     "data": {
      "text/html": [
       "<pre>Processing data in one pass using dense lookup tables.</pre>"
      ],
      "text/plain": [
       "Processing data in one pass using dense lookup tables."
      ]
     },
     "metadata": {
      "tags": []
     },
     "output_type": "display_data"
    },
    {
     "data": {
      "text/html": [
       "<pre>+-------------------------------------+------------------+-----------------+</pre>"
      ],
      "text/plain": [
       "+-------------------------------------+------------------+-----------------+"
      ]
     },
     "metadata": {
      "tags": []
     },
     "output_type": "display_data"
    },
    {
     "data": {
      "text/html": [
       "<pre>| Elapsed Time (Constructing Lookups) | Total % Complete | Items Processed |</pre>"
      ],
      "text/plain": [
       "| Elapsed Time (Constructing Lookups) | Total % Complete | Items Processed |"
      ]
     },
     "metadata": {
      "tags": []
     },
     "output_type": "display_data"
    },
    {
     "data": {
      "text/html": [
       "<pre>+-------------------------------------+------------------+-----------------+</pre>"
      ],
      "text/plain": [
       "+-------------------------------------+------------------+-----------------+"
      ]
     },
     "metadata": {
      "tags": []
     },
     "output_type": "display_data"
    },
    {
     "data": {
      "text/html": [
       "<pre>| 21.894ms                            | 0                | 0               |</pre>"
      ],
      "text/plain": [
       "| 21.894ms                            | 0                | 0               |"
      ]
     },
     "metadata": {
      "tags": []
     },
     "output_type": "display_data"
    },
    {
     "data": {
      "text/html": [
       "<pre>| 99.213ms                            | 100              | 1619            |</pre>"
      ],
      "text/plain": [
       "| 99.213ms                            | 100              | 1619            |"
      ]
     },
     "metadata": {
      "tags": []
     },
     "output_type": "display_data"
    },
    {
     "data": {
      "text/html": [
       "<pre>+-------------------------------------+------------------+-----------------+</pre>"
      ],
      "text/plain": [
       "+-------------------------------------+------------------+-----------------+"
      ]
     },
     "metadata": {
      "tags": []
     },
     "output_type": "display_data"
    },
    {
     "data": {
      "text/html": [
       "<pre>Finalizing lookup tables.</pre>"
      ],
      "text/plain": [
       "Finalizing lookup tables."
      ]
     },
     "metadata": {
      "tags": []
     },
     "output_type": "display_data"
    },
    {
     "data": {
      "text/html": [
       "<pre>Generating candidate set for working with new users.</pre>"
      ],
      "text/plain": [
       "Generating candidate set for working with new users."
      ]
     },
     "metadata": {
      "tags": []
     },
     "output_type": "display_data"
    },
    {
     "data": {
      "text/html": [
       "<pre>Finished training in 0.12092s</pre>"
      ],
      "text/plain": [
       "Finished training in 0.12092s"
      ]
     },
     "metadata": {
      "tags": []
     },
     "output_type": "display_data"
    },
    {
     "data": {
      "text/html": [
       "<pre>recommendations finished on 1000/39037 queries. users per second: 44551.4</pre>"
      ],
      "text/plain": [
       "recommendations finished on 1000/39037 queries. users per second: 44551.4"
      ]
     },
     "metadata": {
      "tags": []
     },
     "output_type": "display_data"
    },
    {
     "data": {
      "text/html": [
       "<pre>recommendations finished on 2000/39037 queries. users per second: 48719.9</pre>"
      ],
      "text/plain": [
       "recommendations finished on 2000/39037 queries. users per second: 48719.9"
      ]
     },
     "metadata": {
      "tags": []
     },
     "output_type": "display_data"
    },
    {
     "data": {
      "text/html": [
       "<pre>recommendations finished on 3000/39037 queries. users per second: 50660.3</pre>"
      ],
      "text/plain": [
       "recommendations finished on 3000/39037 queries. users per second: 50660.3"
      ]
     },
     "metadata": {
      "tags": []
     },
     "output_type": "display_data"
    },
    {
     "data": {
      "text/html": [
       "<pre>recommendations finished on 4000/39037 queries. users per second: 51435</pre>"
      ],
      "text/plain": [
       "recommendations finished on 4000/39037 queries. users per second: 51435"
      ]
     },
     "metadata": {
      "tags": []
     },
     "output_type": "display_data"
    },
    {
     "data": {
      "text/html": [
       "<pre>recommendations finished on 5000/39037 queries. users per second: 51793.6</pre>"
      ],
      "text/plain": [
       "recommendations finished on 5000/39037 queries. users per second: 51793.6"
      ]
     },
     "metadata": {
      "tags": []
     },
     "output_type": "display_data"
    },
    {
     "data": {
      "text/html": [
       "<pre>recommendations finished on 6000/39037 queries. users per second: 52105</pre>"
      ],
      "text/plain": [
       "recommendations finished on 6000/39037 queries. users per second: 52105"
      ]
     },
     "metadata": {
      "tags": []
     },
     "output_type": "display_data"
    },
    {
     "data": {
      "text/html": [
       "<pre>recommendations finished on 7000/39037 queries. users per second: 51912.6</pre>"
      ],
      "text/plain": [
       "recommendations finished on 7000/39037 queries. users per second: 51912.6"
      ]
     },
     "metadata": {
      "tags": []
     },
     "output_type": "display_data"
    },
    {
     "data": {
      "text/html": [
       "<pre>recommendations finished on 8000/39037 queries. users per second: 52239.4</pre>"
      ],
      "text/plain": [
       "recommendations finished on 8000/39037 queries. users per second: 52239.4"
      ]
     },
     "metadata": {
      "tags": []
     },
     "output_type": "display_data"
    },
    {
     "data": {
      "text/html": [
       "<pre>recommendations finished on 9000/39037 queries. users per second: 52375.5</pre>"
      ],
      "text/plain": [
       "recommendations finished on 9000/39037 queries. users per second: 52375.5"
      ]
     },
     "metadata": {
      "tags": []
     },
     "output_type": "display_data"
    },
    {
     "data": {
      "text/html": [
       "<pre>recommendations finished on 10000/39037 queries. users per second: 52735.1</pre>"
      ],
      "text/plain": [
       "recommendations finished on 10000/39037 queries. users per second: 52735.1"
      ]
     },
     "metadata": {
      "tags": []
     },
     "output_type": "display_data"
    },
    {
     "data": {
      "text/html": [
       "<pre>recommendations finished on 11000/39037 queries. users per second: 52817.1</pre>"
      ],
      "text/plain": [
       "recommendations finished on 11000/39037 queries. users per second: 52817.1"
      ]
     },
     "metadata": {
      "tags": []
     },
     "output_type": "display_data"
    },
    {
     "data": {
      "text/html": [
       "<pre>recommendations finished on 12000/39037 queries. users per second: 52964.7</pre>"
      ],
      "text/plain": [
       "recommendations finished on 12000/39037 queries. users per second: 52964.7"
      ]
     },
     "metadata": {
      "tags": []
     },
     "output_type": "display_data"
    },
    {
     "data": {
      "text/html": [
       "<pre>recommendations finished on 13000/39037 queries. users per second: 52663.1</pre>"
      ],
      "text/plain": [
       "recommendations finished on 13000/39037 queries. users per second: 52663.1"
      ]
     },
     "metadata": {
      "tags": []
     },
     "output_type": "display_data"
    },
    {
     "data": {
      "text/html": [
       "<pre>recommendations finished on 14000/39037 queries. users per second: 52577</pre>"
      ],
      "text/plain": [
       "recommendations finished on 14000/39037 queries. users per second: 52577"
      ]
     },
     "metadata": {
      "tags": []
     },
     "output_type": "display_data"
    },
    {
     "data": {
      "text/html": [
       "<pre>recommendations finished on 15000/39037 queries. users per second: 52439.7</pre>"
      ],
      "text/plain": [
       "recommendations finished on 15000/39037 queries. users per second: 52439.7"
      ]
     },
     "metadata": {
      "tags": []
     },
     "output_type": "display_data"
    },
    {
     "data": {
      "text/html": [
       "<pre>recommendations finished on 16000/39037 queries. users per second: 52526.4</pre>"
      ],
      "text/plain": [
       "recommendations finished on 16000/39037 queries. users per second: 52526.4"
      ]
     },
     "metadata": {
      "tags": []
     },
     "output_type": "display_data"
    },
    {
     "data": {
      "text/html": [
       "<pre>recommendations finished on 17000/39037 queries. users per second: 52589.7</pre>"
      ],
      "text/plain": [
       "recommendations finished on 17000/39037 queries. users per second: 52589.7"
      ]
     },
     "metadata": {
      "tags": []
     },
     "output_type": "display_data"
    },
    {
     "data": {
      "text/html": [
       "<pre>recommendations finished on 18000/39037 queries. users per second: 52797.4</pre>"
      ],
      "text/plain": [
       "recommendations finished on 18000/39037 queries. users per second: 52797.4"
      ]
     },
     "metadata": {
      "tags": []
     },
     "output_type": "display_data"
    },
    {
     "data": {
      "text/html": [
       "<pre>recommendations finished on 19000/39037 queries. users per second: 52504</pre>"
      ],
      "text/plain": [
       "recommendations finished on 19000/39037 queries. users per second: 52504"
      ]
     },
     "metadata": {
      "tags": []
     },
     "output_type": "display_data"
    },
    {
     "data": {
      "text/html": [
       "<pre>recommendations finished on 20000/39037 queries. users per second: 52463.3</pre>"
      ],
      "text/plain": [
       "recommendations finished on 20000/39037 queries. users per second: 52463.3"
      ]
     },
     "metadata": {
      "tags": []
     },
     "output_type": "display_data"
    },
    {
     "data": {
      "text/html": [
       "<pre>recommendations finished on 21000/39037 queries. users per second: 52271.6</pre>"
      ],
      "text/plain": [
       "recommendations finished on 21000/39037 queries. users per second: 52271.6"
      ]
     },
     "metadata": {
      "tags": []
     },
     "output_type": "display_data"
    },
    {
     "data": {
      "text/html": [
       "<pre>recommendations finished on 22000/39037 queries. users per second: 52276.5</pre>"
      ],
      "text/plain": [
       "recommendations finished on 22000/39037 queries. users per second: 52276.5"
      ]
     },
     "metadata": {
      "tags": []
     },
     "output_type": "display_data"
    },
    {
     "data": {
      "text/html": [
       "<pre>recommendations finished on 23000/39037 queries. users per second: 51944.6</pre>"
      ],
      "text/plain": [
       "recommendations finished on 23000/39037 queries. users per second: 51944.6"
      ]
     },
     "metadata": {
      "tags": []
     },
     "output_type": "display_data"
    },
    {
     "data": {
      "text/html": [
       "<pre>recommendations finished on 24000/39037 queries. users per second: 51898.1</pre>"
      ],
      "text/plain": [
       "recommendations finished on 24000/39037 queries. users per second: 51898.1"
      ]
     },
     "metadata": {
      "tags": []
     },
     "output_type": "display_data"
    },
    {
     "data": {
      "text/html": [
       "<pre>recommendations finished on 25000/39037 queries. users per second: 51903.7</pre>"
      ],
      "text/plain": [
       "recommendations finished on 25000/39037 queries. users per second: 51903.7"
      ]
     },
     "metadata": {
      "tags": []
     },
     "output_type": "display_data"
    },
    {
     "data": {
      "text/html": [
       "<pre>recommendations finished on 26000/39037 queries. users per second: 51906.2</pre>"
      ],
      "text/plain": [
       "recommendations finished on 26000/39037 queries. users per second: 51906.2"
      ]
     },
     "metadata": {
      "tags": []
     },
     "output_type": "display_data"
    },
    {
     "data": {
      "text/html": [
       "<pre>recommendations finished on 27000/39037 queries. users per second: 52019.5</pre>"
      ],
      "text/plain": [
       "recommendations finished on 27000/39037 queries. users per second: 52019.5"
      ]
     },
     "metadata": {
      "tags": []
     },
     "output_type": "display_data"
    },
    {
     "data": {
      "text/html": [
       "<pre>recommendations finished on 28000/39037 queries. users per second: 51966.2</pre>"
      ],
      "text/plain": [
       "recommendations finished on 28000/39037 queries. users per second: 51966.2"
      ]
     },
     "metadata": {
      "tags": []
     },
     "output_type": "display_data"
    },
    {
     "data": {
      "text/html": [
       "<pre>recommendations finished on 29000/39037 queries. users per second: 52033.2</pre>"
      ],
      "text/plain": [
       "recommendations finished on 29000/39037 queries. users per second: 52033.2"
      ]
     },
     "metadata": {
      "tags": []
     },
     "output_type": "display_data"
    },
    {
     "data": {
      "text/html": [
       "<pre>recommendations finished on 30000/39037 queries. users per second: 52109.8</pre>"
      ],
      "text/plain": [
       "recommendations finished on 30000/39037 queries. users per second: 52109.8"
      ]
     },
     "metadata": {
      "tags": []
     },
     "output_type": "display_data"
    },
    {
     "data": {
      "text/html": [
       "<pre>recommendations finished on 31000/39037 queries. users per second: 52130.6</pre>"
      ],
      "text/plain": [
       "recommendations finished on 31000/39037 queries. users per second: 52130.6"
      ]
     },
     "metadata": {
      "tags": []
     },
     "output_type": "display_data"
    },
    {
     "data": {
      "text/html": [
       "<pre>recommendations finished on 32000/39037 queries. users per second: 52225.2</pre>"
      ],
      "text/plain": [
       "recommendations finished on 32000/39037 queries. users per second: 52225.2"
      ]
     },
     "metadata": {
      "tags": []
     },
     "output_type": "display_data"
    },
    {
     "data": {
      "text/html": [
       "<pre>recommendations finished on 33000/39037 queries. users per second: 52289.7</pre>"
      ],
      "text/plain": [
       "recommendations finished on 33000/39037 queries. users per second: 52289.7"
      ]
     },
     "metadata": {
      "tags": []
     },
     "output_type": "display_data"
    },
    {
     "data": {
      "text/html": [
       "<pre>recommendations finished on 34000/39037 queries. users per second: 52356.3</pre>"
      ],
      "text/plain": [
       "recommendations finished on 34000/39037 queries. users per second: 52356.3"
      ]
     },
     "metadata": {
      "tags": []
     },
     "output_type": "display_data"
    },
    {
     "data": {
      "text/html": [
       "<pre>recommendations finished on 35000/39037 queries. users per second: 52439.1</pre>"
      ],
      "text/plain": [
       "recommendations finished on 35000/39037 queries. users per second: 52439.1"
      ]
     },
     "metadata": {
      "tags": []
     },
     "output_type": "display_data"
    },
    {
     "data": {
      "text/html": [
       "<pre>recommendations finished on 36000/39037 queries. users per second: 52547.2</pre>"
      ],
      "text/plain": [
       "recommendations finished on 36000/39037 queries. users per second: 52547.2"
      ]
     },
     "metadata": {
      "tags": []
     },
     "output_type": "display_data"
    },
    {
     "data": {
      "text/html": [
       "<pre>recommendations finished on 37000/39037 queries. users per second: 52505.2</pre>"
      ],
      "text/plain": [
       "recommendations finished on 37000/39037 queries. users per second: 52505.2"
      ]
     },
     "metadata": {
      "tags": []
     },
     "output_type": "display_data"
    },
    {
     "data": {
      "text/html": [
       "<pre>recommendations finished on 38000/39037 queries. users per second: 52272</pre>"
      ],
      "text/plain": [
       "recommendations finished on 38000/39037 queries. users per second: 52272"
      ]
     },
     "metadata": {
      "tags": []
     },
     "output_type": "display_data"
    },
    {
     "data": {
      "text/html": [
       "<pre>recommendations finished on 39000/39037 queries. users per second: 52164.4</pre>"
      ],
      "text/plain": [
       "recommendations finished on 39000/39037 queries. users per second: 52164.4"
      ]
     },
     "metadata": {
      "tags": []
     },
     "output_type": "display_data"
    },
    {
     "name": "stdout",
     "output_type": "stream",
     "text": [
      "+------------+-----------+----------------------+------+\n",
      "| customerId | productId |        score         | rank |\n",
      "+------------+-----------+----------------------+------+\n",
      "|     0      |    2646   |         0.0          |  1   |\n",
      "|     0      |    1588   |         0.0          |  2   |\n",
      "|     0      |    2216   |         0.0          |  3   |\n",
      "|     0      |    2035   |         0.0          |  4   |\n",
      "|     0      |    214    |         0.0          |  5   |\n",
      "|     0      |     42    |         0.0          |  6   |\n",
      "|     0      |    916    |         0.0          |  7   |\n",
      "|     0      |    1477   |         0.0          |  8   |\n",
      "|     0      |    1029   |         0.0          |  9   |\n",
      "|     0      |    144    |         0.0          |  10  |\n",
      "|     2      |    1102   | 0.017420679330825806 |  1   |\n",
      "|     2      |    1196   | 0.011894673109054565 |  2   |\n",
      "|     2      |    1244   | 0.011443018913269043 |  3   |\n",
      "|     2      |    462    | 0.010324537754058838 |  4   |\n",
      "|     2      |    1574   | 0.010005652904510498 |  5   |\n",
      "|     2      |    2265   | 0.010005652904510498 |  6   |\n",
      "|     2      |    960    | 0.009338617324829102 |  7   |\n",
      "|     2      |    2170   | 0.008087486028671265 |  8   |\n",
      "|     2      |    2797   | 0.007075071334838867 |  9   |\n",
      "|     2      |    460    | 0.006228208541870117 |  10  |\n",
      "|     5      |    214    | 0.035347972597394674 |  1   |\n",
      "|     5      |    1488   | 0.01825361592429025  |  2   |\n",
      "|     5      |     56    | 0.017673986298697337 |  3   |\n",
      "|     5      |    1482   | 0.010204085281917028 |  4   |\n",
      "|     5      |    197    | 0.007676422595977783 |  5   |\n",
      "|     5      |    1197   | 0.007661376680646624 |  6   |\n",
      "|     5      |    772    | 0.007297686168125698 |  7   |\n",
      "|     5      |    1129   |         0.0          |  8   |\n",
      "|     5      |    2646   |         0.0          |  9   |\n",
      "|     5      |    1588   |         0.0          |  10  |\n",
      "+------------+-----------+----------------------+------+\n",
      "[390370 rows x 4 columns]\n",
      "\n"
     ]
    },
    {
     "data": {
      "text/plain": [
       "Class                            : ItemSimilarityRecommender\n",
       "\n",
       "Schema\n",
       "------\n",
       "User ID                          : customerId\n",
       "Item ID                          : productId\n",
       "Target                           : scaled_purchase_freq\n",
       "Additional observation features  : 0\n",
       "User side features               : []\n",
       "Item side features               : []\n",
       "\n",
       "Statistics\n",
       "----------\n",
       "Number of observations           : 162296\n",
       "Number of users                  : 38802\n",
       "Number of items                  : 1619\n",
       "\n",
       "Training summary\n",
       "----------------\n",
       "Training time                    : 0.121\n",
       "\n",
       "Model Parameters\n",
       "----------------\n",
       "Model class                      : ItemSimilarityRecommender\n",
       "threshold                        : 0.001\n",
       "similarity_type                  : cosine\n",
       "training_method                  : auto\n",
       "\n",
       "Other Settings\n",
       "--------------\n",
       "degree_approximation_threshold   : 4096\n",
       "max_data_passes                  : 4096\n",
       "max_item_neighborhood_size       : 64\n",
       "nearest_neighbors_interaction_proportion_threshold : 0.05\n",
       "seed_item_set_size               : 50\n",
       "sparse_density_estimation_sample_size : 4096\n",
       "target_memory_usage              : 8589934592"
      ]
     },
     "execution_count": 24,
     "metadata": {
      "tags": []
     },
     "output_type": "execute_result"
    }
   ],
   "source": [
    "# iii. Uso del recuento de compras escalado\n",
    "name = 'cosine' \n",
    "target = 'scaled_purchase_freq' \n",
    "cos_norm = model(train_data_norm, name, user_id, item_id, target, users_to_recommend, n_rec, n_display)\n",
    "cos_norm"
   ]
  },
  {
   "attachments": {
    "image.png": {
     "image/png": "[encoded data removed]"
    }
   },
   "cell_type": "markdown",
   "metadata": {
    "colab_type": "text",
    "id": "8isrvFWaln4K"
   },
   "source": [
    "### 7.3. Pearson similarity\n",
    "\n",
    "La similitud es el coeficiente de Pearson entre los dos vectores.\n",
    "Se define por la siguiente fórmula\n",
    "![image.png](attachment:image.png)"
   ]
  },
  {
   "cell_type": "code",
   "execution_count": 25,
   "metadata": {
    "colab": {
     "base_uri": "https://localhost:8080/",
     "height": 0
    },
    "colab_type": "code",
    "id": "KJvNkhXsln4N",
    "outputId": "e4481e56-1a0b-4a29-f002-07e7915d8ef0"
   },
   "outputs": [
    {
     "data": {
      "text/html": [
       "<pre>Preparing data set.</pre>"
      ],
      "text/plain": [
       "Preparing data set."
      ]
     },
     "metadata": {
      "tags": []
     },
     "output_type": "display_data"
    },
    {
     "data": {
      "text/html": [
       "<pre>    Data has 197486 observations with 39019 users and 2257 items.</pre>"
      ],
      "text/plain": [
       "    Data has 197486 observations with 39019 users and 2257 items."
      ]
     },
     "metadata": {
      "tags": []
     },
     "output_type": "display_data"
    },
    {
     "data": {
      "text/html": [
       "<pre>    Data prepared in: 0.218347s</pre>"
      ],
      "text/plain": [
       "    Data prepared in: 0.218347s"
      ]
     },
     "metadata": {
      "tags": []
     },
     "output_type": "display_data"
    },
    {
     "data": {
      "text/html": [
       "<pre>Training model from provided data.</pre>"
      ],
      "text/plain": [
       "Training model from provided data."
      ]
     },
     "metadata": {
      "tags": []
     },
     "output_type": "display_data"
    },
    {
     "data": {
      "text/html": [
       "<pre>Gathering per-item and per-user statistics.</pre>"
      ],
      "text/plain": [
       "Gathering per-item and per-user statistics."
      ]
     },
     "metadata": {
      "tags": []
     },
     "output_type": "display_data"
    },
    {
     "data": {
      "text/html": [
       "<pre>+--------------------------------+------------+</pre>"
      ],
      "text/plain": [
       "+--------------------------------+------------+"
      ]
     },
     "metadata": {
      "tags": []
     },
     "output_type": "display_data"
    },
    {
     "data": {
      "text/html": [
       "<pre>| Elapsed Time (Item Statistics) | % Complete |</pre>"
      ],
      "text/plain": [
       "| Elapsed Time (Item Statistics) | % Complete |"
      ]
     },
     "metadata": {
      "tags": []
     },
     "output_type": "display_data"
    },
    {
     "data": {
      "text/html": [
       "<pre>+--------------------------------+------------+</pre>"
      ],
      "text/plain": [
       "+--------------------------------+------------+"
      ]
     },
     "metadata": {
      "tags": []
     },
     "output_type": "display_data"
    },
    {
     "data": {
      "text/html": [
       "<pre>| 1.106ms                        | 2.5        |</pre>"
      ],
      "text/plain": [
       "| 1.106ms                        | 2.5        |"
      ]
     },
     "metadata": {
      "tags": []
     },
     "output_type": "display_data"
    },
    {
     "data": {
      "text/html": [
       "<pre>| 22.553ms                       | 100        |</pre>"
      ],
      "text/plain": [
       "| 22.553ms                       | 100        |"
      ]
     },
     "metadata": {
      "tags": []
     },
     "output_type": "display_data"
    },
    {
     "data": {
      "text/html": [
       "<pre>+--------------------------------+------------+</pre>"
      ],
      "text/plain": [
       "+--------------------------------+------------+"
      ]
     },
     "metadata": {
      "tags": []
     },
     "output_type": "display_data"
    },
    {
     "data": {
      "text/html": [
       "<pre>Setting up lookup tables.</pre>"
      ],
      "text/plain": [
       "Setting up lookup tables."
      ]
     },
     "metadata": {
      "tags": []
     },
     "output_type": "display_data"
    },
    {
     "data": {
      "text/html": [
       "<pre>Processing data in one pass using dense lookup tables.</pre>"
      ],
      "text/plain": [
       "Processing data in one pass using dense lookup tables."
      ]
     },
     "metadata": {
      "tags": []
     },
     "output_type": "display_data"
    },
    {
     "data": {
      "text/html": [
       "<pre>+-------------------------------------+------------------+-----------------+</pre>"
      ],
      "text/plain": [
       "+-------------------------------------+------------------+-----------------+"
      ]
     },
     "metadata": {
      "tags": []
     },
     "output_type": "display_data"
    },
    {
     "data": {
      "text/html": [
       "<pre>| Elapsed Time (Constructing Lookups) | Total % Complete | Items Processed |</pre>"
      ],
      "text/plain": [
       "| Elapsed Time (Constructing Lookups) | Total % Complete | Items Processed |"
      ]
     },
     "metadata": {
      "tags": []
     },
     "output_type": "display_data"
    },
    {
     "data": {
      "text/html": [
       "<pre>+-------------------------------------+------------------+-----------------+</pre>"
      ],
      "text/plain": [
       "+-------------------------------------+------------------+-----------------+"
      ]
     },
     "metadata": {
      "tags": []
     },
     "output_type": "display_data"
    },
    {
     "data": {
      "text/html": [
       "<pre>| 30.544ms                            | 0                | 0               |</pre>"
      ],
      "text/plain": [
       "| 30.544ms                            | 0                | 0               |"
      ]
     },
     "metadata": {
      "tags": []
     },
     "output_type": "display_data"
    },
    {
     "data": {
      "text/html": [
       "<pre>| 161.378ms                           | 100              | 2257            |</pre>"
      ],
      "text/plain": [
       "| 161.378ms                           | 100              | 2257            |"
      ]
     },
     "metadata": {
      "tags": []
     },
     "output_type": "display_data"
    },
    {
     "data": {
      "text/html": [
       "<pre>+-------------------------------------+------------------+-----------------+</pre>"
      ],
      "text/plain": [
       "+-------------------------------------+------------------+-----------------+"
      ]
     },
     "metadata": {
      "tags": []
     },
     "output_type": "display_data"
    },
    {
     "data": {
      "text/html": [
       "<pre>Finalizing lookup tables.</pre>"
      ],
      "text/plain": [
       "Finalizing lookup tables."
      ]
     },
     "metadata": {
      "tags": []
     },
     "output_type": "display_data"
    },
    {
     "data": {
      "text/html": [
       "<pre>Generating candidate set for working with new users.</pre>"
      ],
      "text/plain": [
       "Generating candidate set for working with new users."
      ]
     },
     "metadata": {
      "tags": []
     },
     "output_type": "display_data"
    },
    {
     "data": {
      "text/html": [
       "<pre>Finished training in 0.197762s</pre>"
      ],
      "text/plain": [
       "Finished training in 0.197762s"
      ]
     },
     "metadata": {
      "tags": []
     },
     "output_type": "display_data"
    },
    {
     "data": {
      "text/html": [
       "<pre>recommendations finished on 1000/39037 queries. users per second: 33835.2</pre>"
      ],
      "text/plain": [
       "recommendations finished on 1000/39037 queries. users per second: 33835.2"
      ]
     },
     "metadata": {
      "tags": []
     },
     "output_type": "display_data"
    },
    {
     "data": {
      "text/html": [
       "<pre>recommendations finished on 2000/39037 queries. users per second: 36286.4</pre>"
      ],
      "text/plain": [
       "recommendations finished on 2000/39037 queries. users per second: 36286.4"
      ]
     },
     "metadata": {
      "tags": []
     },
     "output_type": "display_data"
    },
    {
     "data": {
      "text/html": [
       "<pre>recommendations finished on 3000/39037 queries. users per second: 37072.3</pre>"
      ],
      "text/plain": [
       "recommendations finished on 3000/39037 queries. users per second: 37072.3"
      ]
     },
     "metadata": {
      "tags": []
     },
     "output_type": "display_data"
    },
    {
     "data": {
      "text/html": [
       "<pre>recommendations finished on 4000/39037 queries. users per second: 37302.3</pre>"
      ],
      "text/plain": [
       "recommendations finished on 4000/39037 queries. users per second: 37302.3"
      ]
     },
     "metadata": {
      "tags": []
     },
     "output_type": "display_data"
    },
    {
     "data": {
      "text/html": [
       "<pre>recommendations finished on 5000/39037 queries. users per second: 37812.3</pre>"
      ],
      "text/plain": [
       "recommendations finished on 5000/39037 queries. users per second: 37812.3"
      ]
     },
     "metadata": {
      "tags": []
     },
     "output_type": "display_data"
    },
    {
     "data": {
      "text/html": [
       "<pre>recommendations finished on 6000/39037 queries. users per second: 37908.7</pre>"
      ],
      "text/plain": [
       "recommendations finished on 6000/39037 queries. users per second: 37908.7"
      ]
     },
     "metadata": {
      "tags": []
     },
     "output_type": "display_data"
    },
    {
     "data": {
      "text/html": [
       "<pre>recommendations finished on 7000/39037 queries. users per second: 37849.1</pre>"
      ],
      "text/plain": [
       "recommendations finished on 7000/39037 queries. users per second: 37849.1"
      ]
     },
     "metadata": {
      "tags": []
     },
     "output_type": "display_data"
    },
    {
     "data": {
      "text/html": [
       "<pre>recommendations finished on 8000/39037 queries. users per second: 37352.5</pre>"
      ],
      "text/plain": [
       "recommendations finished on 8000/39037 queries. users per second: 37352.5"
      ]
     },
     "metadata": {
      "tags": []
     },
     "output_type": "display_data"
    },
    {
     "data": {
      "text/html": [
       "<pre>recommendations finished on 9000/39037 queries. users per second: 37146.8</pre>"
      ],
      "text/plain": [
       "recommendations finished on 9000/39037 queries. users per second: 37146.8"
      ]
     },
     "metadata": {
      "tags": []
     },
     "output_type": "display_data"
    },
    {
     "data": {
      "text/html": [
       "<pre>recommendations finished on 10000/39037 queries. users per second: 37405.7</pre>"
      ],
      "text/plain": [
       "recommendations finished on 10000/39037 queries. users per second: 37405.7"
      ]
     },
     "metadata": {
      "tags": []
     },
     "output_type": "display_data"
    },
    {
     "data": {
      "text/html": [
       "<pre>recommendations finished on 11000/39037 queries. users per second: 37557</pre>"
      ],
      "text/plain": [
       "recommendations finished on 11000/39037 queries. users per second: 37557"
      ]
     },
     "metadata": {
      "tags": []
     },
     "output_type": "display_data"
    },
    {
     "data": {
      "text/html": [
       "<pre>recommendations finished on 12000/39037 queries. users per second: 37642.7</pre>"
      ],
      "text/plain": [
       "recommendations finished on 12000/39037 queries. users per second: 37642.7"
      ]
     },
     "metadata": {
      "tags": []
     },
     "output_type": "display_data"
    },
    {
     "data": {
      "text/html": [
       "<pre>recommendations finished on 13000/39037 queries. users per second: 37626.1</pre>"
      ],
      "text/plain": [
       "recommendations finished on 13000/39037 queries. users per second: 37626.1"
      ]
     },
     "metadata": {
      "tags": []
     },
     "output_type": "display_data"
    },
    {
     "data": {
      "text/html": [
       "<pre>recommendations finished on 14000/39037 queries. users per second: 37516.1</pre>"
      ],
      "text/plain": [
       "recommendations finished on 14000/39037 queries. users per second: 37516.1"
      ]
     },
     "metadata": {
      "tags": []
     },
     "output_type": "display_data"
    },
    {
     "data": {
      "text/html": [
       "<pre>recommendations finished on 15000/39037 queries. users per second: 37608.8</pre>"
      ],
      "text/plain": [
       "recommendations finished on 15000/39037 queries. users per second: 37608.8"
      ]
     },
     "metadata": {
      "tags": []
     },
     "output_type": "display_data"
    },
    {
     "data": {
      "text/html": [
       "<pre>recommendations finished on 16000/39037 queries. users per second: 37715.7</pre>"
      ],
      "text/plain": [
       "recommendations finished on 16000/39037 queries. users per second: 37715.7"
      ]
     },
     "metadata": {
      "tags": []
     },
     "output_type": "display_data"
    },
    {
     "data": {
      "text/html": [
       "<pre>recommendations finished on 17000/39037 queries. users per second: 37728</pre>"
      ],
      "text/plain": [
       "recommendations finished on 17000/39037 queries. users per second: 37728"
      ]
     },
     "metadata": {
      "tags": []
     },
     "output_type": "display_data"
    },
    {
     "data": {
      "text/html": [
       "<pre>recommendations finished on 18000/39037 queries. users per second: 37801.1</pre>"
      ],
      "text/plain": [
       "recommendations finished on 18000/39037 queries. users per second: 37801.1"
      ]
     },
     "metadata": {
      "tags": []
     },
     "output_type": "display_data"
    },
    {
     "data": {
      "text/html": [
       "<pre>recommendations finished on 19000/39037 queries. users per second: 37838.7</pre>"
      ],
      "text/plain": [
       "recommendations finished on 19000/39037 queries. users per second: 37838.7"
      ]
     },
     "metadata": {
      "tags": []
     },
     "output_type": "display_data"
    },
    {
     "data": {
      "text/html": [
       "<pre>recommendations finished on 20000/39037 queries. users per second: 37783.4</pre>"
      ],
      "text/plain": [
       "recommendations finished on 20000/39037 queries. users per second: 37783.4"
      ]
     },
     "metadata": {
      "tags": []
     },
     "output_type": "display_data"
    },
    {
     "data": {
      "text/html": [
       "<pre>recommendations finished on 21000/39037 queries. users per second: 37690.3</pre>"
      ],
      "text/plain": [
       "recommendations finished on 21000/39037 queries. users per second: 37690.3"
      ]
     },
     "metadata": {
      "tags": []
     },
     "output_type": "display_data"
    },
    {
     "data": {
      "text/html": [
       "<pre>recommendations finished on 22000/39037 queries. users per second: 37629.4</pre>"
      ],
      "text/plain": [
       "recommendations finished on 22000/39037 queries. users per second: 37629.4"
      ]
     },
     "metadata": {
      "tags": []
     },
     "output_type": "display_data"
    },
    {
     "data": {
      "text/html": [
       "<pre>recommendations finished on 23000/39037 queries. users per second: 37745.6</pre>"
      ],
      "text/plain": [
       "recommendations finished on 23000/39037 queries. users per second: 37745.6"
      ]
     },
     "metadata": {
      "tags": []
     },
     "output_type": "display_data"
    },
    {
     "data": {
      "text/html": [
       "<pre>recommendations finished on 24000/39037 queries. users per second: 37662.2</pre>"
      ],
      "text/plain": [
       "recommendations finished on 24000/39037 queries. users per second: 37662.2"
      ]
     },
     "metadata": {
      "tags": []
     },
     "output_type": "display_data"
    },
    {
     "data": {
      "text/html": [
       "<pre>recommendations finished on 25000/39037 queries. users per second: 37728.6</pre>"
      ],
      "text/plain": [
       "recommendations finished on 25000/39037 queries. users per second: 37728.6"
      ]
     },
     "metadata": {
      "tags": []
     },
     "output_type": "display_data"
    },
    {
     "data": {
      "text/html": [
       "<pre>recommendations finished on 26000/39037 queries. users per second: 37786.4</pre>"
      ],
      "text/plain": [
       "recommendations finished on 26000/39037 queries. users per second: 37786.4"
      ]
     },
     "metadata": {
      "tags": []
     },
     "output_type": "display_data"
    },
    {
     "data": {
      "text/html": [
       "<pre>recommendations finished on 27000/39037 queries. users per second: 37641.5</pre>"
      ],
      "text/plain": [
       "recommendations finished on 27000/39037 queries. users per second: 37641.5"
      ]
     },
     "metadata": {
      "tags": []
     },
     "output_type": "display_data"
    },
    {
     "data": {
      "text/html": [
       "<pre>recommendations finished on 28000/39037 queries. users per second: 37735.1</pre>"
      ],
      "text/plain": [
       "recommendations finished on 28000/39037 queries. users per second: 37735.1"
      ]
     },
     "metadata": {
      "tags": []
     },
     "output_type": "display_data"
    },
    {
     "data": {
      "text/html": [
       "<pre>recommendations finished on 29000/39037 queries. users per second: 37782.9</pre>"
      ],
      "text/plain": [
       "recommendations finished on 29000/39037 queries. users per second: 37782.9"
      ]
     },
     "metadata": {
      "tags": []
     },
     "output_type": "display_data"
    },
    {
     "data": {
      "text/html": [
       "<pre>recommendations finished on 30000/39037 queries. users per second: 37840.4</pre>"
      ],
      "text/plain": [
       "recommendations finished on 30000/39037 queries. users per second: 37840.4"
      ]
     },
     "metadata": {
      "tags": []
     },
     "output_type": "display_data"
    },
    {
     "data": {
      "text/html": [
       "<pre>recommendations finished on 31000/39037 queries. users per second: 37893.7</pre>"
      ],
      "text/plain": [
       "recommendations finished on 31000/39037 queries. users per second: 37893.7"
      ]
     },
     "metadata": {
      "tags": []
     },
     "output_type": "display_data"
    },
    {
     "data": {
      "text/html": [
       "<pre>recommendations finished on 32000/39037 queries. users per second: 37871.4</pre>"
      ],
      "text/plain": [
       "recommendations finished on 32000/39037 queries. users per second: 37871.4"
      ]
     },
     "metadata": {
      "tags": []
     },
     "output_type": "display_data"
    },
    {
     "data": {
      "text/html": [
       "<pre>recommendations finished on 33000/39037 queries. users per second: 37952.3</pre>"
      ],
      "text/plain": [
       "recommendations finished on 33000/39037 queries. users per second: 37952.3"
      ]
     },
     "metadata": {
      "tags": []
     },
     "output_type": "display_data"
    },
    {
     "data": {
      "text/html": [
       "<pre>recommendations finished on 34000/39037 queries. users per second: 37986</pre>"
      ],
      "text/plain": [
       "recommendations finished on 34000/39037 queries. users per second: 37986"
      ]
     },
     "metadata": {
      "tags": []
     },
     "output_type": "display_data"
    },
    {
     "data": {
      "text/html": [
       "<pre>recommendations finished on 35000/39037 queries. users per second: 38030.9</pre>"
      ],
      "text/plain": [
       "recommendations finished on 35000/39037 queries. users per second: 38030.9"
      ]
     },
     "metadata": {
      "tags": []
     },
     "output_type": "display_data"
    },
    {
     "data": {
      "text/html": [
       "<pre>recommendations finished on 36000/39037 queries. users per second: 38047</pre>"
      ],
      "text/plain": [
       "recommendations finished on 36000/39037 queries. users per second: 38047"
      ]
     },
     "metadata": {
      "tags": []
     },
     "output_type": "display_data"
    },
    {
     "data": {
      "text/html": [
       "<pre>recommendations finished on 37000/39037 queries. users per second: 38076.1</pre>"
      ],
      "text/plain": [
       "recommendations finished on 37000/39037 queries. users per second: 38076.1"
      ]
     },
     "metadata": {
      "tags": []
     },
     "output_type": "display_data"
    },
    {
     "data": {
      "text/html": [
       "<pre>recommendations finished on 38000/39037 queries. users per second: 38113</pre>"
      ],
      "text/plain": [
       "recommendations finished on 38000/39037 queries. users per second: 38113"
      ]
     },
     "metadata": {
      "tags": []
     },
     "output_type": "display_data"
    },
    {
     "data": {
      "text/html": [
       "<pre>recommendations finished on 39000/39037 queries. users per second: 37999.8</pre>"
      ],
      "text/plain": [
       "recommendations finished on 39000/39037 queries. users per second: 37999.8"
      ]
     },
     "metadata": {
      "tags": []
     },
     "output_type": "display_data"
    },
    {
     "name": "stdout",
     "output_type": "stream",
     "text": [
      "+------------+-----------+--------------------+------+\n",
      "| customerId | productId |       score        | rank |\n",
      "+------------+-----------+--------------------+------+\n",
      "|     0      |    1160   | 7.333333333333334  |  1   |\n",
      "|     0      |    585    |        6.0         |  2   |\n",
      "|     0      |    2292   |        6.0         |  3   |\n",
      "|     0      |    588    | 4.666666666666667  |  4   |\n",
      "|     0      |    607    | 4.428571428571429  |  5   |\n",
      "|     0      |    596    |        4.0         |  6   |\n",
      "|     0      |    1005   |        4.0         |  7   |\n",
      "|     0      |    1109   |        4.0         |  8   |\n",
      "|     0      |    1108   |        4.0         |  9   |\n",
      "|     0      |    1769   | 3.7333333333333334 |  10  |\n",
      "|     2      |    1160   | 7.333333333333334  |  1   |\n",
      "|     2      |    585    |        6.0         |  2   |\n",
      "|     2      |    2292   |        6.0         |  3   |\n",
      "|     2      |    588    | 4.666666666666667  |  4   |\n",
      "|     2      |    607    | 4.428571428571429  |  5   |\n",
      "|     2      |    596    |        4.0         |  6   |\n",
      "|     2      |    1005   |        4.0         |  7   |\n",
      "|     2      |    1109   |        4.0         |  8   |\n",
      "|     2      |    1108   |        4.0         |  9   |\n",
      "|     2      |    1769   | 3.7333333333333334 |  10  |\n",
      "|     5      |    1160   | 7.333333333333334  |  1   |\n",
      "|     5      |    585    |        6.0         |  2   |\n",
      "|     5      |    2292   |        6.0         |  3   |\n",
      "|     5      |    588    | 4.666666666666667  |  4   |\n",
      "|     5      |    607    | 4.428571428571429  |  5   |\n",
      "|     5      |    596    |        4.0         |  6   |\n",
      "|     5      |    1005   |        4.0         |  7   |\n",
      "|     5      |    1109   |        4.0         |  8   |\n",
      "|     5      |    1108   |        4.0         |  9   |\n",
      "|     5      |    1769   | 3.7333333333333334 |  10  |\n",
      "+------------+-----------+--------------------+------+\n",
      "[390370 rows x 4 columns]\n",
      "\n"
     ]
    },
    {
     "data": {
      "text/plain": [
       "Class                            : ItemSimilarityRecommender\n",
       "\n",
       "Schema\n",
       "------\n",
       "User ID                          : customerId\n",
       "Item ID                          : productId\n",
       "Target                           : purchase_count\n",
       "Additional observation features  : 0\n",
       "User side features               : []\n",
       "Item side features               : []\n",
       "\n",
       "Statistics\n",
       "----------\n",
       "Number of observations           : 197486\n",
       "Number of users                  : 39019\n",
       "Number of items                  : 2257\n",
       "\n",
       "Training summary\n",
       "----------------\n",
       "Training time                    : 0.1978\n",
       "\n",
       "Model Parameters\n",
       "----------------\n",
       "Model class                      : ItemSimilarityRecommender\n",
       "threshold                        : 0.001\n",
       "similarity_type                  : pearson\n",
       "training_method                  : auto\n",
       "\n",
       "Other Settings\n",
       "--------------\n",
       "degree_approximation_threshold   : 4096\n",
       "max_data_passes                  : 4096\n",
       "max_item_neighborhood_size       : 64\n",
       "nearest_neighbors_interaction_proportion_threshold : 0.05\n",
       "seed_item_set_size               : 50\n",
       "sparse_density_estimation_sample_size : 4096\n",
       "target_memory_usage              : 8589934592"
      ]
     },
     "execution_count": 25,
     "metadata": {
      "tags": []
     },
     "output_type": "execute_result"
    }
   ],
   "source": [
    "# i. Usando el conteo de compras\n",
    "name = 'pearson'\n",
    "target = 'purchase_count'\n",
    "pear = model(train_data, name, user_id, item_id, target, users_to_recommend, n_rec, n_display)\n",
    "pear"
   ]
  },
  {
   "cell_type": "code",
   "execution_count": 26,
   "metadata": {
    "colab": {
     "base_uri": "https://localhost:8080/",
     "height": 0
    },
    "colab_type": "code",
    "id": "fqyyPF8pln4a",
    "outputId": "7fcd6ce4-8eb6-4228-b3f3-8167374229f9"
   },
   "outputs": [
    {
     "data": {
      "text/html": [
       "<pre>Warning: Ignoring columns purchase_count;</pre>"
      ],
      "text/plain": [
       "Warning: Ignoring columns purchase_count;"
      ]
     },
     "metadata": {
      "tags": []
     },
     "output_type": "display_data"
    },
    {
     "data": {
      "text/html": [
       "<pre>    To use these columns in scoring predictions, use a model that allows the use of additional features.</pre>"
      ],
      "text/plain": [
       "    To use these columns in scoring predictions, use a model that allows the use of additional features."
      ]
     },
     "metadata": {
      "tags": []
     },
     "output_type": "display_data"
    },
    {
     "data": {
      "text/html": [
       "<pre>Preparing data set.</pre>"
      ],
      "text/plain": [
       "Preparing data set."
      ]
     },
     "metadata": {
      "tags": []
     },
     "output_type": "display_data"
    },
    {
     "data": {
      "text/html": [
       "<pre>    Data has 197486 observations with 39015 users and 2256 items.</pre>"
      ],
      "text/plain": [
       "    Data has 197486 observations with 39015 users and 2256 items."
      ]
     },
     "metadata": {
      "tags": []
     },
     "output_type": "display_data"
    },
    {
     "data": {
      "text/html": [
       "<pre>    Data prepared in: 0.220467s</pre>"
      ],
      "text/plain": [
       "    Data prepared in: 0.220467s"
      ]
     },
     "metadata": {
      "tags": []
     },
     "output_type": "display_data"
    },
    {
     "data": {
      "text/html": [
       "<pre>Training model from provided data.</pre>"
      ],
      "text/plain": [
       "Training model from provided data."
      ]
     },
     "metadata": {
      "tags": []
     },
     "output_type": "display_data"
    },
    {
     "data": {
      "text/html": [
       "<pre>Gathering per-item and per-user statistics.</pre>"
      ],
      "text/plain": [
       "Gathering per-item and per-user statistics."
      ]
     },
     "metadata": {
      "tags": []
     },
     "output_type": "display_data"
    },
    {
     "data": {
      "text/html": [
       "<pre>+--------------------------------+------------+</pre>"
      ],
      "text/plain": [
       "+--------------------------------+------------+"
      ]
     },
     "metadata": {
      "tags": []
     },
     "output_type": "display_data"
    },
    {
     "data": {
      "text/html": [
       "<pre>| Elapsed Time (Item Statistics) | % Complete |</pre>"
      ],
      "text/plain": [
       "| Elapsed Time (Item Statistics) | % Complete |"
      ]
     },
     "metadata": {
      "tags": []
     },
     "output_type": "display_data"
    },
    {
     "data": {
      "text/html": [
       "<pre>+--------------------------------+------------+</pre>"
      ],
      "text/plain": [
       "+--------------------------------+------------+"
      ]
     },
     "metadata": {
      "tags": []
     },
     "output_type": "display_data"
    },
    {
     "data": {
      "text/html": [
       "<pre>| 1.753ms                        | 2.5        |</pre>"
      ],
      "text/plain": [
       "| 1.753ms                        | 2.5        |"
      ]
     },
     "metadata": {
      "tags": []
     },
     "output_type": "display_data"
    },
    {
     "data": {
      "text/html": [
       "<pre>| 25.555ms                       | 100        |</pre>"
      ],
      "text/plain": [
       "| 25.555ms                       | 100        |"
      ]
     },
     "metadata": {
      "tags": []
     },
     "output_type": "display_data"
    },
    {
     "data": {
      "text/html": [
       "<pre>+--------------------------------+------------+</pre>"
      ],
      "text/plain": [
       "+--------------------------------+------------+"
      ]
     },
     "metadata": {
      "tags": []
     },
     "output_type": "display_data"
    },
    {
     "data": {
      "text/html": [
       "<pre>Setting up lookup tables.</pre>"
      ],
      "text/plain": [
       "Setting up lookup tables."
      ]
     },
     "metadata": {
      "tags": []
     },
     "output_type": "display_data"
    },
    {
     "data": {
      "text/html": [
       "<pre>Processing data in one pass using dense lookup tables.</pre>"
      ],
      "text/plain": [
       "Processing data in one pass using dense lookup tables."
      ]
     },
     "metadata": {
      "tags": []
     },
     "output_type": "display_data"
    },
    {
     "data": {
      "text/html": [
       "<pre>+-------------------------------------+------------------+-----------------+</pre>"
      ],
      "text/plain": [
       "+-------------------------------------+------------------+-----------------+"
      ]
     },
     "metadata": {
      "tags": []
     },
     "output_type": "display_data"
    },
    {
     "data": {
      "text/html": [
       "<pre>| Elapsed Time (Constructing Lookups) | Total % Complete | Items Processed |</pre>"
      ],
      "text/plain": [
       "| Elapsed Time (Constructing Lookups) | Total % Complete | Items Processed |"
      ]
     },
     "metadata": {
      "tags": []
     },
     "output_type": "display_data"
    },
    {
     "data": {
      "text/html": [
       "<pre>+-------------------------------------+------------------+-----------------+</pre>"
      ],
      "text/plain": [
       "+-------------------------------------+------------------+-----------------+"
      ]
     },
     "metadata": {
      "tags": []
     },
     "output_type": "display_data"
    },
    {
     "data": {
      "text/html": [
       "<pre>| 30.472ms                            | 0                | 0               |</pre>"
      ],
      "text/plain": [
       "| 30.472ms                            | 0                | 0               |"
      ]
     },
     "metadata": {
      "tags": []
     },
     "output_type": "display_data"
    },
    {
     "data": {
      "text/html": [
       "<pre>| 131.574ms                           | 100              | 2256            |</pre>"
      ],
      "text/plain": [
       "| 131.574ms                           | 100              | 2256            |"
      ]
     },
     "metadata": {
      "tags": []
     },
     "output_type": "display_data"
    },
    {
     "data": {
      "text/html": [
       "<pre>+-------------------------------------+------------------+-----------------+</pre>"
      ],
      "text/plain": [
       "+-------------------------------------+------------------+-----------------+"
      ]
     },
     "metadata": {
      "tags": []
     },
     "output_type": "display_data"
    },
    {
     "data": {
      "text/html": [
       "<pre>Finalizing lookup tables.</pre>"
      ],
      "text/plain": [
       "Finalizing lookup tables."
      ]
     },
     "metadata": {
      "tags": []
     },
     "output_type": "display_data"
    },
    {
     "data": {
      "text/html": [
       "<pre>Generating candidate set for working with new users.</pre>"
      ],
      "text/plain": [
       "Generating candidate set for working with new users."
      ]
     },
     "metadata": {
      "tags": []
     },
     "output_type": "display_data"
    },
    {
     "data": {
      "text/html": [
       "<pre>Finished training in 0.155351s</pre>"
      ],
      "text/plain": [
       "Finished training in 0.155351s"
      ]
     },
     "metadata": {
      "tags": []
     },
     "output_type": "display_data"
    },
    {
     "data": {
      "text/html": [
       "<pre>recommendations finished on 1000/39037 queries. users per second: 27626.6</pre>"
      ],
      "text/plain": [
       "recommendations finished on 1000/39037 queries. users per second: 27626.6"
      ]
     },
     "metadata": {
      "tags": []
     },
     "output_type": "display_data"
    },
    {
     "data": {
      "text/html": [
       "<pre>recommendations finished on 2000/39037 queries. users per second: 29052</pre>"
      ],
      "text/plain": [
       "recommendations finished on 2000/39037 queries. users per second: 29052"
      ]
     },
     "metadata": {
      "tags": []
     },
     "output_type": "display_data"
    },
    {
     "data": {
      "text/html": [
       "<pre>recommendations finished on 3000/39037 queries. users per second: 29668.3</pre>"
      ],
      "text/plain": [
       "recommendations finished on 3000/39037 queries. users per second: 29668.3"
      ]
     },
     "metadata": {
      "tags": []
     },
     "output_type": "display_data"
    },
    {
     "data": {
      "text/html": [
       "<pre>recommendations finished on 4000/39037 queries. users per second: 28965.8</pre>"
      ],
      "text/plain": [
       "recommendations finished on 4000/39037 queries. users per second: 28965.8"
      ]
     },
     "metadata": {
      "tags": []
     },
     "output_type": "display_data"
    },
    {
     "data": {
      "text/html": [
       "<pre>recommendations finished on 5000/39037 queries. users per second: 29315.5</pre>"
      ],
      "text/plain": [
       "recommendations finished on 5000/39037 queries. users per second: 29315.5"
      ]
     },
     "metadata": {
      "tags": []
     },
     "output_type": "display_data"
    },
    {
     "data": {
      "text/html": [
       "<pre>recommendations finished on 6000/39037 queries. users per second: 29524.1</pre>"
      ],
      "text/plain": [
       "recommendations finished on 6000/39037 queries. users per second: 29524.1"
      ]
     },
     "metadata": {
      "tags": []
     },
     "output_type": "display_data"
    },
    {
     "data": {
      "text/html": [
       "<pre>recommendations finished on 7000/39037 queries. users per second: 29408.8</pre>"
      ],
      "text/plain": [
       "recommendations finished on 7000/39037 queries. users per second: 29408.8"
      ]
     },
     "metadata": {
      "tags": []
     },
     "output_type": "display_data"
    },
    {
     "data": {
      "text/html": [
       "<pre>recommendations finished on 8000/39037 queries. users per second: 29562.6</pre>"
      ],
      "text/plain": [
       "recommendations finished on 8000/39037 queries. users per second: 29562.6"
      ]
     },
     "metadata": {
      "tags": []
     },
     "output_type": "display_data"
    },
    {
     "data": {
      "text/html": [
       "<pre>recommendations finished on 9000/39037 queries. users per second: 29250.2</pre>"
      ],
      "text/plain": [
       "recommendations finished on 9000/39037 queries. users per second: 29250.2"
      ]
     },
     "metadata": {
      "tags": []
     },
     "output_type": "display_data"
    },
    {
     "data": {
      "text/html": [
       "<pre>recommendations finished on 10000/39037 queries. users per second: 29213.7</pre>"
      ],
      "text/plain": [
       "recommendations finished on 10000/39037 queries. users per second: 29213.7"
      ]
     },
     "metadata": {
      "tags": []
     },
     "output_type": "display_data"
    },
    {
     "data": {
      "text/html": [
       "<pre>recommendations finished on 11000/39037 queries. users per second: 29329.7</pre>"
      ],
      "text/plain": [
       "recommendations finished on 11000/39037 queries. users per second: 29329.7"
      ]
     },
     "metadata": {
      "tags": []
     },
     "output_type": "display_data"
    },
    {
     "data": {
      "text/html": [
       "<pre>recommendations finished on 12000/39037 queries. users per second: 29453.1</pre>"
      ],
      "text/plain": [
       "recommendations finished on 12000/39037 queries. users per second: 29453.1"
      ]
     },
     "metadata": {
      "tags": []
     },
     "output_type": "display_data"
    },
    {
     "data": {
      "text/html": [
       "<pre>recommendations finished on 13000/39037 queries. users per second: 29530.5</pre>"
      ],
      "text/plain": [
       "recommendations finished on 13000/39037 queries. users per second: 29530.5"
      ]
     },
     "metadata": {
      "tags": []
     },
     "output_type": "display_data"
    },
    {
     "data": {
      "text/html": [
       "<pre>recommendations finished on 14000/39037 queries. users per second: 29454</pre>"
      ],
      "text/plain": [
       "recommendations finished on 14000/39037 queries. users per second: 29454"
      ]
     },
     "metadata": {
      "tags": []
     },
     "output_type": "display_data"
    },
    {
     "data": {
      "text/html": [
       "<pre>recommendations finished on 15000/39037 queries. users per second: 29569.2</pre>"
      ],
      "text/plain": [
       "recommendations finished on 15000/39037 queries. users per second: 29569.2"
      ]
     },
     "metadata": {
      "tags": []
     },
     "output_type": "display_data"
    },
    {
     "data": {
      "text/html": [
       "<pre>recommendations finished on 16000/39037 queries. users per second: 29509.2</pre>"
      ],
      "text/plain": [
       "recommendations finished on 16000/39037 queries. users per second: 29509.2"
      ]
     },
     "metadata": {
      "tags": []
     },
     "output_type": "display_data"
    },
    {
     "data": {
      "text/html": [
       "<pre>recommendations finished on 17000/39037 queries. users per second: 29557.9</pre>"
      ],
      "text/plain": [
       "recommendations finished on 17000/39037 queries. users per second: 29557.9"
      ]
     },
     "metadata": {
      "tags": []
     },
     "output_type": "display_data"
    },
    {
     "data": {
      "text/html": [
       "<pre>recommendations finished on 18000/39037 queries. users per second: 29620.3</pre>"
      ],
      "text/plain": [
       "recommendations finished on 18000/39037 queries. users per second: 29620.3"
      ]
     },
     "metadata": {
      "tags": []
     },
     "output_type": "display_data"
    },
    {
     "data": {
      "text/html": [
       "<pre>recommendations finished on 19000/39037 queries. users per second: 29660.9</pre>"
      ],
      "text/plain": [
       "recommendations finished on 19000/39037 queries. users per second: 29660.9"
      ]
     },
     "metadata": {
      "tags": []
     },
     "output_type": "display_data"
    },
    {
     "data": {
      "text/html": [
       "<pre>recommendations finished on 20000/39037 queries. users per second: 29658</pre>"
      ],
      "text/plain": [
       "recommendations finished on 20000/39037 queries. users per second: 29658"
      ]
     },
     "metadata": {
      "tags": []
     },
     "output_type": "display_data"
    },
    {
     "data": {
      "text/html": [
       "<pre>recommendations finished on 21000/39037 queries. users per second: 29749.1</pre>"
      ],
      "text/plain": [
       "recommendations finished on 21000/39037 queries. users per second: 29749.1"
      ]
     },
     "metadata": {
      "tags": []
     },
     "output_type": "display_data"
    },
    {
     "data": {
      "text/html": [
       "<pre>recommendations finished on 22000/39037 queries. users per second: 29785.1</pre>"
      ],
      "text/plain": [
       "recommendations finished on 22000/39037 queries. users per second: 29785.1"
      ]
     },
     "metadata": {
      "tags": []
     },
     "output_type": "display_data"
    },
    {
     "data": {
      "text/html": [
       "<pre>recommendations finished on 23000/39037 queries. users per second: 29832.7</pre>"
      ],
      "text/plain": [
       "recommendations finished on 23000/39037 queries. users per second: 29832.7"
      ]
     },
     "metadata": {
      "tags": []
     },
     "output_type": "display_data"
    },
    {
     "data": {
      "text/html": [
       "<pre>recommendations finished on 24000/39037 queries. users per second: 29871.4</pre>"
      ],
      "text/plain": [
       "recommendations finished on 24000/39037 queries. users per second: 29871.4"
      ]
     },
     "metadata": {
      "tags": []
     },
     "output_type": "display_data"
    },
    {
     "data": {
      "text/html": [
       "<pre>recommendations finished on 25000/39037 queries. users per second: 29910.1</pre>"
      ],
      "text/plain": [
       "recommendations finished on 25000/39037 queries. users per second: 29910.1"
      ]
     },
     "metadata": {
      "tags": []
     },
     "output_type": "display_data"
    },
    {
     "data": {
      "text/html": [
       "<pre>recommendations finished on 26000/39037 queries. users per second: 29935.2</pre>"
      ],
      "text/plain": [
       "recommendations finished on 26000/39037 queries. users per second: 29935.2"
      ]
     },
     "metadata": {
      "tags": []
     },
     "output_type": "display_data"
    },
    {
     "data": {
      "text/html": [
       "<pre>recommendations finished on 27000/39037 queries. users per second: 29842</pre>"
      ],
      "text/plain": [
       "recommendations finished on 27000/39037 queries. users per second: 29842"
      ]
     },
     "metadata": {
      "tags": []
     },
     "output_type": "display_data"
    },
    {
     "data": {
      "text/html": [
       "<pre>recommendations finished on 28000/39037 queries. users per second: 29885.5</pre>"
      ],
      "text/plain": [
       "recommendations finished on 28000/39037 queries. users per second: 29885.5"
      ]
     },
     "metadata": {
      "tags": []
     },
     "output_type": "display_data"
    },
    {
     "data": {
      "text/html": [
       "<pre>recommendations finished on 29000/39037 queries. users per second: 29919.3</pre>"
      ],
      "text/plain": [
       "recommendations finished on 29000/39037 queries. users per second: 29919.3"
      ]
     },
     "metadata": {
      "tags": []
     },
     "output_type": "display_data"
    },
    {
     "data": {
      "text/html": [
       "<pre>recommendations finished on 30000/39037 queries. users per second: 29950.5</pre>"
      ],
      "text/plain": [
       "recommendations finished on 30000/39037 queries. users per second: 29950.5"
      ]
     },
     "metadata": {
      "tags": []
     },
     "output_type": "display_data"
    },
    {
     "data": {
      "text/html": [
       "<pre>recommendations finished on 31000/39037 queries. users per second: 29975.6</pre>"
      ],
      "text/plain": [
       "recommendations finished on 31000/39037 queries. users per second: 29975.6"
      ]
     },
     "metadata": {
      "tags": []
     },
     "output_type": "display_data"
    },
    {
     "data": {
      "text/html": [
       "<pre>recommendations finished on 32000/39037 queries. users per second: 29979.8</pre>"
      ],
      "text/plain": [
       "recommendations finished on 32000/39037 queries. users per second: 29979.8"
      ]
     },
     "metadata": {
      "tags": []
     },
     "output_type": "display_data"
    },
    {
     "data": {
      "text/html": [
       "<pre>recommendations finished on 33000/39037 queries. users per second: 30010</pre>"
      ],
      "text/plain": [
       "recommendations finished on 33000/39037 queries. users per second: 30010"
      ]
     },
     "metadata": {
      "tags": []
     },
     "output_type": "display_data"
    },
    {
     "data": {
      "text/html": [
       "<pre>recommendations finished on 34000/39037 queries. users per second: 30060.5</pre>"
      ],
      "text/plain": [
       "recommendations finished on 34000/39037 queries. users per second: 30060.5"
      ]
     },
     "metadata": {
      "tags": []
     },
     "output_type": "display_data"
    },
    {
     "data": {
      "text/html": [
       "<pre>recommendations finished on 35000/39037 queries. users per second: 30088.3</pre>"
      ],
      "text/plain": [
       "recommendations finished on 35000/39037 queries. users per second: 30088.3"
      ]
     },
     "metadata": {
      "tags": []
     },
     "output_type": "display_data"
    },
    {
     "data": {
      "text/html": [
       "<pre>recommendations finished on 36000/39037 queries. users per second: 30108.5</pre>"
      ],
      "text/plain": [
       "recommendations finished on 36000/39037 queries. users per second: 30108.5"
      ]
     },
     "metadata": {
      "tags": []
     },
     "output_type": "display_data"
    },
    {
     "data": {
      "text/html": [
       "<pre>recommendations finished on 37000/39037 queries. users per second: 30039.6</pre>"
      ],
      "text/plain": [
       "recommendations finished on 37000/39037 queries. users per second: 30039.6"
      ]
     },
     "metadata": {
      "tags": []
     },
     "output_type": "display_data"
    },
    {
     "data": {
      "text/html": [
       "<pre>recommendations finished on 38000/39037 queries. users per second: 30058</pre>"
      ],
      "text/plain": [
       "recommendations finished on 38000/39037 queries. users per second: 30058"
      ]
     },
     "metadata": {
      "tags": []
     },
     "output_type": "display_data"
    },
    {
     "data": {
      "text/html": [
       "<pre>recommendations finished on 39000/39037 queries. users per second: 30018.4</pre>"
      ],
      "text/plain": [
       "recommendations finished on 39000/39037 queries. users per second: 30018.4"
      ]
     },
     "metadata": {
      "tags": []
     },
     "output_type": "display_data"
    },
    {
     "name": "stdout",
     "output_type": "stream",
     "text": [
      "+------------+-----------+-------+------+\n",
      "| customerId | productId | score | rank |\n",
      "+------------+-----------+-------+------+\n",
      "|     0      |    2215   |  0.0  |  1   |\n",
      "|     0      |    1492   |  0.0  |  2   |\n",
      "|     0      |    2415   |  0.0  |  3   |\n",
      "|     0      |    462    |  0.0  |  4   |\n",
      "|     0      |    1475   |  0.0  |  5   |\n",
      "|     0      |    601    |  0.0  |  6   |\n",
      "|     0      |    1817   |  0.0  |  7   |\n",
      "|     0      |    474    |  0.0  |  8   |\n",
      "|     0      |    2037   |  0.0  |  9   |\n",
      "|     0      |    926    |  0.0  |  10  |\n",
      "|     2      |    2215   |  0.0  |  1   |\n",
      "|     2      |    1492   |  0.0  |  2   |\n",
      "|     2      |    2415   |  0.0  |  3   |\n",
      "|     2      |    462    |  0.0  |  4   |\n",
      "|     2      |    1475   |  0.0  |  5   |\n",
      "|     2      |    601    |  0.0  |  6   |\n",
      "|     2      |    1817   |  0.0  |  7   |\n",
      "|     2      |    474    |  0.0  |  8   |\n",
      "|     2      |    2037   |  0.0  |  9   |\n",
      "|     2      |    926    |  0.0  |  10  |\n",
      "|     5      |     90    |  0.0  |  1   |\n",
      "|     5      |    1821   |  0.0  |  2   |\n",
      "|     5      |    1492   |  0.0  |  3   |\n",
      "|     5      |    462    |  0.0  |  4   |\n",
      "|     5      |    1475   |  0.0  |  5   |\n",
      "|     5      |    601    |  0.0  |  6   |\n",
      "|     5      |    1817   |  0.0  |  7   |\n",
      "|     5      |    474    |  0.0  |  8   |\n",
      "|     5      |    2037   |  0.0  |  9   |\n",
      "|     5      |    926    |  0.0  |  10  |\n",
      "+------------+-----------+-------+------+\n",
      "[390370 rows x 4 columns]\n",
      "\n"
     ]
    },
    {
     "data": {
      "text/plain": [
       "Class                            : ItemSimilarityRecommender\n",
       "\n",
       "Schema\n",
       "------\n",
       "User ID                          : customerId\n",
       "Item ID                          : productId\n",
       "Target                           : purchase_dummy\n",
       "Additional observation features  : 0\n",
       "User side features               : []\n",
       "Item side features               : []\n",
       "\n",
       "Statistics\n",
       "----------\n",
       "Number of observations           : 197486\n",
       "Number of users                  : 39015\n",
       "Number of items                  : 2256\n",
       "\n",
       "Training summary\n",
       "----------------\n",
       "Training time                    : 0.1554\n",
       "\n",
       "Model Parameters\n",
       "----------------\n",
       "Model class                      : ItemSimilarityRecommender\n",
       "threshold                        : 0.001\n",
       "similarity_type                  : pearson\n",
       "training_method                  : auto\n",
       "\n",
       "Other Settings\n",
       "--------------\n",
       "degree_approximation_threshold   : 4096\n",
       "max_data_passes                  : 4096\n",
       "max_item_neighborhood_size       : 64\n",
       "nearest_neighbors_interaction_proportion_threshold : 0.05\n",
       "seed_item_set_size               : 50\n",
       "sparse_density_estimation_sample_size : 4096\n",
       "target_memory_usage              : 8589934592"
      ]
     },
     "execution_count": 26,
     "metadata": {
      "tags": []
     },
     "output_type": "execute_result"
    }
   ],
   "source": [
    "# ii. Usando el dummy de compras\n",
    "name = 'pearson'\n",
    "target = 'purchase_dummy'\n",
    "pear_dummy = model(train_data_dummy, name, user_id, item_id, target, users_to_recommend, n_rec, n_display)\n",
    "pear_dummy"
   ]
  },
  {
   "cell_type": "code",
   "execution_count": 27,
   "metadata": {
    "colab": {
     "base_uri": "https://localhost:8080/",
     "height": 0
    },
    "colab_type": "code",
    "id": "TJUQUaTbln4o",
    "outputId": "753678a1-6d03-4945-bd0d-37213e18e435"
   },
   "outputs": [
    {
     "data": {
      "text/html": [
       "<pre>Preparing data set.</pre>"
      ],
      "text/plain": [
       "Preparing data set."
      ]
     },
     "metadata": {
      "tags": []
     },
     "output_type": "display_data"
    },
    {
     "data": {
      "text/html": [
       "<pre>    Data has 162296 observations with 38802 users and 1619 items.</pre>"
      ],
      "text/plain": [
       "    Data has 162296 observations with 38802 users and 1619 items."
      ]
     },
     "metadata": {
      "tags": []
     },
     "output_type": "display_data"
    },
    {
     "data": {
      "text/html": [
       "<pre>    Data prepared in: 0.192961s</pre>"
      ],
      "text/plain": [
       "    Data prepared in: 0.192961s"
      ]
     },
     "metadata": {
      "tags": []
     },
     "output_type": "display_data"
    },
    {
     "data": {
      "text/html": [
       "<pre>Training model from provided data.</pre>"
      ],
      "text/plain": [
       "Training model from provided data."
      ]
     },
     "metadata": {
      "tags": []
     },
     "output_type": "display_data"
    },
    {
     "data": {
      "text/html": [
       "<pre>Gathering per-item and per-user statistics.</pre>"
      ],
      "text/plain": [
       "Gathering per-item and per-user statistics."
      ]
     },
     "metadata": {
      "tags": []
     },
     "output_type": "display_data"
    },
    {
     "data": {
      "text/html": [
       "<pre>+--------------------------------+------------+</pre>"
      ],
      "text/plain": [
       "+--------------------------------+------------+"
      ]
     },
     "metadata": {
      "tags": []
     },
     "output_type": "display_data"
    },
    {
     "data": {
      "text/html": [
       "<pre>| Elapsed Time (Item Statistics) | % Complete |</pre>"
      ],
      "text/plain": [
       "| Elapsed Time (Item Statistics) | % Complete |"
      ]
     },
     "metadata": {
      "tags": []
     },
     "output_type": "display_data"
    },
    {
     "data": {
      "text/html": [
       "<pre>+--------------------------------+------------+</pre>"
      ],
      "text/plain": [
       "+--------------------------------+------------+"
      ]
     },
     "metadata": {
      "tags": []
     },
     "output_type": "display_data"
    },
    {
     "data": {
      "text/html": [
       "<pre>| 1.019ms                        | 2.5        |</pre>"
      ],
      "text/plain": [
       "| 1.019ms                        | 2.5        |"
      ]
     },
     "metadata": {
      "tags": []
     },
     "output_type": "display_data"
    },
    {
     "data": {
      "text/html": [
       "<pre>| 30.603ms                       | 100        |</pre>"
      ],
      "text/plain": [
       "| 30.603ms                       | 100        |"
      ]
     },
     "metadata": {
      "tags": []
     },
     "output_type": "display_data"
    },
    {
     "data": {
      "text/html": [
       "<pre>+--------------------------------+------------+</pre>"
      ],
      "text/plain": [
       "+--------------------------------+------------+"
      ]
     },
     "metadata": {
      "tags": []
     },
     "output_type": "display_data"
    },
    {
     "data": {
      "text/html": [
       "<pre>Setting up lookup tables.</pre>"
      ],
      "text/plain": [
       "Setting up lookup tables."
      ]
     },
     "metadata": {
      "tags": []
     },
     "output_type": "display_data"
    },
    {
     "data": {
      "text/html": [
       "<pre>Processing data in one pass using dense lookup tables.</pre>"
      ],
      "text/plain": [
       "Processing data in one pass using dense lookup tables."
      ]
     },
     "metadata": {
      "tags": []
     },
     "output_type": "display_data"
    },
    {
     "data": {
      "text/html": [
       "<pre>+-------------------------------------+------------------+-----------------+</pre>"
      ],
      "text/plain": [
       "+-------------------------------------+------------------+-----------------+"
      ]
     },
     "metadata": {
      "tags": []
     },
     "output_type": "display_data"
    },
    {
     "data": {
      "text/html": [
       "<pre>| Elapsed Time (Constructing Lookups) | Total % Complete | Items Processed |</pre>"
      ],
      "text/plain": [
       "| Elapsed Time (Constructing Lookups) | Total % Complete | Items Processed |"
      ]
     },
     "metadata": {
      "tags": []
     },
     "output_type": "display_data"
    },
    {
     "data": {
      "text/html": [
       "<pre>+-------------------------------------+------------------+-----------------+</pre>"
      ],
      "text/plain": [
       "+-------------------------------------+------------------+-----------------+"
      ]
     },
     "metadata": {
      "tags": []
     },
     "output_type": "display_data"
    },
    {
     "data": {
      "text/html": [
       "<pre>| 38.429ms                            | 0                | 0               |</pre>"
      ],
      "text/plain": [
       "| 38.429ms                            | 0                | 0               |"
      ]
     },
     "metadata": {
      "tags": []
     },
     "output_type": "display_data"
    },
    {
     "data": {
      "text/html": [
       "<pre>| 138.067ms                           | 100              | 1619            |</pre>"
      ],
      "text/plain": [
       "| 138.067ms                           | 100              | 1619            |"
      ]
     },
     "metadata": {
      "tags": []
     },
     "output_type": "display_data"
    },
    {
     "data": {
      "text/html": [
       "<pre>+-------------------------------------+------------------+-----------------+</pre>"
      ],
      "text/plain": [
       "+-------------------------------------+------------------+-----------------+"
      ]
     },
     "metadata": {
      "tags": []
     },
     "output_type": "display_data"
    },
    {
     "data": {
      "text/html": [
       "<pre>Finalizing lookup tables.</pre>"
      ],
      "text/plain": [
       "Finalizing lookup tables."
      ]
     },
     "metadata": {
      "tags": []
     },
     "output_type": "display_data"
    },
    {
     "data": {
      "text/html": [
       "<pre>Generating candidate set for working with new users.</pre>"
      ],
      "text/plain": [
       "Generating candidate set for working with new users."
      ]
     },
     "metadata": {
      "tags": []
     },
     "output_type": "display_data"
    },
    {
     "data": {
      "text/html": [
       "<pre>Finished training in 0.163751s</pre>"
      ],
      "text/plain": [
       "Finished training in 0.163751s"
      ]
     },
     "metadata": {
      "tags": []
     },
     "output_type": "display_data"
    },
    {
     "data": {
      "text/html": [
       "<pre>recommendations finished on 1000/39037 queries. users per second: 40480.9</pre>"
      ],
      "text/plain": [
       "recommendations finished on 1000/39037 queries. users per second: 40480.9"
      ]
     },
     "metadata": {
      "tags": []
     },
     "output_type": "display_data"
    },
    {
     "data": {
      "text/html": [
       "<pre>recommendations finished on 2000/39037 queries. users per second: 43795.3</pre>"
      ],
      "text/plain": [
       "recommendations finished on 2000/39037 queries. users per second: 43795.3"
      ]
     },
     "metadata": {
      "tags": []
     },
     "output_type": "display_data"
    },
    {
     "data": {
      "text/html": [
       "<pre>recommendations finished on 3000/39037 queries. users per second: 45216.1</pre>"
      ],
      "text/plain": [
       "recommendations finished on 3000/39037 queries. users per second: 45216.1"
      ]
     },
     "metadata": {
      "tags": []
     },
     "output_type": "display_data"
    },
    {
     "data": {
      "text/html": [
       "<pre>recommendations finished on 4000/39037 queries. users per second: 45923.2</pre>"
      ],
      "text/plain": [
       "recommendations finished on 4000/39037 queries. users per second: 45923.2"
      ]
     },
     "metadata": {
      "tags": []
     },
     "output_type": "display_data"
    },
    {
     "data": {
      "text/html": [
       "<pre>recommendations finished on 5000/39037 queries. users per second: 46258.6</pre>"
      ],
      "text/plain": [
       "recommendations finished on 5000/39037 queries. users per second: 46258.6"
      ]
     },
     "metadata": {
      "tags": []
     },
     "output_type": "display_data"
    },
    {
     "data": {
      "text/html": [
       "<pre>recommendations finished on 6000/39037 queries. users per second: 46434.6</pre>"
      ],
      "text/plain": [
       "recommendations finished on 6000/39037 queries. users per second: 46434.6"
      ]
     },
     "metadata": {
      "tags": []
     },
     "output_type": "display_data"
    },
    {
     "data": {
      "text/html": [
       "<pre>recommendations finished on 7000/39037 queries. users per second: 46369.3</pre>"
      ],
      "text/plain": [
       "recommendations finished on 7000/39037 queries. users per second: 46369.3"
      ]
     },
     "metadata": {
      "tags": []
     },
     "output_type": "display_data"
    },
    {
     "data": {
      "text/html": [
       "<pre>recommendations finished on 8000/39037 queries. users per second: 46579.9</pre>"
      ],
      "text/plain": [
       "recommendations finished on 8000/39037 queries. users per second: 46579.9"
      ]
     },
     "metadata": {
      "tags": []
     },
     "output_type": "display_data"
    },
    {
     "data": {
      "text/html": [
       "<pre>recommendations finished on 9000/39037 queries. users per second: 46979.2</pre>"
      ],
      "text/plain": [
       "recommendations finished on 9000/39037 queries. users per second: 46979.2"
      ]
     },
     "metadata": {
      "tags": []
     },
     "output_type": "display_data"
    },
    {
     "data": {
      "text/html": [
       "<pre>recommendations finished on 10000/39037 queries. users per second: 47077.4</pre>"
      ],
      "text/plain": [
       "recommendations finished on 10000/39037 queries. users per second: 47077.4"
      ]
     },
     "metadata": {
      "tags": []
     },
     "output_type": "display_data"
    },
    {
     "data": {
      "text/html": [
       "<pre>recommendations finished on 11000/39037 queries. users per second: 47156.1</pre>"
      ],
      "text/plain": [
       "recommendations finished on 11000/39037 queries. users per second: 47156.1"
      ]
     },
     "metadata": {
      "tags": []
     },
     "output_type": "display_data"
    },
    {
     "data": {
      "text/html": [
       "<pre>recommendations finished on 12000/39037 queries. users per second: 47300.1</pre>"
      ],
      "text/plain": [
       "recommendations finished on 12000/39037 queries. users per second: 47300.1"
      ]
     },
     "metadata": {
      "tags": []
     },
     "output_type": "display_data"
    },
    {
     "data": {
      "text/html": [
       "<pre>recommendations finished on 13000/39037 queries. users per second: 47123.5</pre>"
      ],
      "text/plain": [
       "recommendations finished on 13000/39037 queries. users per second: 47123.5"
      ]
     },
     "metadata": {
      "tags": []
     },
     "output_type": "display_data"
    },
    {
     "data": {
      "text/html": [
       "<pre>recommendations finished on 14000/39037 queries. users per second: 47004.8</pre>"
      ],
      "text/plain": [
       "recommendations finished on 14000/39037 queries. users per second: 47004.8"
      ]
     },
     "metadata": {
      "tags": []
     },
     "output_type": "display_data"
    },
    {
     "data": {
      "text/html": [
       "<pre>recommendations finished on 15000/39037 queries. users per second: 47136.9</pre>"
      ],
      "text/plain": [
       "recommendations finished on 15000/39037 queries. users per second: 47136.9"
      ]
     },
     "metadata": {
      "tags": []
     },
     "output_type": "display_data"
    },
    {
     "data": {
      "text/html": [
       "<pre>recommendations finished on 16000/39037 queries. users per second: 47107.5</pre>"
      ],
      "text/plain": [
       "recommendations finished on 16000/39037 queries. users per second: 47107.5"
      ]
     },
     "metadata": {
      "tags": []
     },
     "output_type": "display_data"
    },
    {
     "data": {
      "text/html": [
       "<pre>recommendations finished on 17000/39037 queries. users per second: 47142.7</pre>"
      ],
      "text/plain": [
       "recommendations finished on 17000/39037 queries. users per second: 47142.7"
      ]
     },
     "metadata": {
      "tags": []
     },
     "output_type": "display_data"
    },
    {
     "data": {
      "text/html": [
       "<pre>recommendations finished on 18000/39037 queries. users per second: 47229.1</pre>"
      ],
      "text/plain": [
       "recommendations finished on 18000/39037 queries. users per second: 47229.1"
      ]
     },
     "metadata": {
      "tags": []
     },
     "output_type": "display_data"
    },
    {
     "data": {
      "text/html": [
       "<pre>recommendations finished on 19000/39037 queries. users per second: 47324.7</pre>"
      ],
      "text/plain": [
       "recommendations finished on 19000/39037 queries. users per second: 47324.7"
      ]
     },
     "metadata": {
      "tags": []
     },
     "output_type": "display_data"
    },
    {
     "data": {
      "text/html": [
       "<pre>recommendations finished on 20000/39037 queries. users per second: 47319.9</pre>"
      ],
      "text/plain": [
       "recommendations finished on 20000/39037 queries. users per second: 47319.9"
      ]
     },
     "metadata": {
      "tags": []
     },
     "output_type": "display_data"
    },
    {
     "data": {
      "text/html": [
       "<pre>recommendations finished on 21000/39037 queries. users per second: 47357.7</pre>"
      ],
      "text/plain": [
       "recommendations finished on 21000/39037 queries. users per second: 47357.7"
      ]
     },
     "metadata": {
      "tags": []
     },
     "output_type": "display_data"
    },
    {
     "data": {
      "text/html": [
       "<pre>recommendations finished on 22000/39037 queries. users per second: 47417.7</pre>"
      ],
      "text/plain": [
       "recommendations finished on 22000/39037 queries. users per second: 47417.7"
      ]
     },
     "metadata": {
      "tags": []
     },
     "output_type": "display_data"
    },
    {
     "data": {
      "text/html": [
       "<pre>recommendations finished on 23000/39037 queries. users per second: 47473.7</pre>"
      ],
      "text/plain": [
       "recommendations finished on 23000/39037 queries. users per second: 47473.7"
      ]
     },
     "metadata": {
      "tags": []
     },
     "output_type": "display_data"
    },
    {
     "data": {
      "text/html": [
       "<pre>recommendations finished on 24000/39037 queries. users per second: 47582.3</pre>"
      ],
      "text/plain": [
       "recommendations finished on 24000/39037 queries. users per second: 47582.3"
      ]
     },
     "metadata": {
      "tags": []
     },
     "output_type": "display_data"
    },
    {
     "data": {
      "text/html": [
       "<pre>recommendations finished on 25000/39037 queries. users per second: 47601</pre>"
      ],
      "text/plain": [
       "recommendations finished on 25000/39037 queries. users per second: 47601"
      ]
     },
     "metadata": {
      "tags": []
     },
     "output_type": "display_data"
    },
    {
     "data": {
      "text/html": [
       "<pre>recommendations finished on 26000/39037 queries. users per second: 47501</pre>"
      ],
      "text/plain": [
       "recommendations finished on 26000/39037 queries. users per second: 47501"
      ]
     },
     "metadata": {
      "tags": []
     },
     "output_type": "display_data"
    },
    {
     "data": {
      "text/html": [
       "<pre>recommendations finished on 27000/39037 queries. users per second: 47525.4</pre>"
      ],
      "text/plain": [
       "recommendations finished on 27000/39037 queries. users per second: 47525.4"
      ]
     },
     "metadata": {
      "tags": []
     },
     "output_type": "display_data"
    },
    {
     "data": {
      "text/html": [
       "<pre>recommendations finished on 28000/39037 queries. users per second: 47172.6</pre>"
      ],
      "text/plain": [
       "recommendations finished on 28000/39037 queries. users per second: 47172.6"
      ]
     },
     "metadata": {
      "tags": []
     },
     "output_type": "display_data"
    },
    {
     "data": {
      "text/html": [
       "<pre>recommendations finished on 29000/39037 queries. users per second: 47265.8</pre>"
      ],
      "text/plain": [
       "recommendations finished on 29000/39037 queries. users per second: 47265.8"
      ]
     },
     "metadata": {
      "tags": []
     },
     "output_type": "display_data"
    },
    {
     "data": {
      "text/html": [
       "<pre>recommendations finished on 30000/39037 queries. users per second: 47298.8</pre>"
      ],
      "text/plain": [
       "recommendations finished on 30000/39037 queries. users per second: 47298.8"
      ]
     },
     "metadata": {
      "tags": []
     },
     "output_type": "display_data"
    },
    {
     "data": {
      "text/html": [
       "<pre>recommendations finished on 31000/39037 queries. users per second: 47147.1</pre>"
      ],
      "text/plain": [
       "recommendations finished on 31000/39037 queries. users per second: 47147.1"
      ]
     },
     "metadata": {
      "tags": []
     },
     "output_type": "display_data"
    },
    {
     "data": {
      "text/html": [
       "<pre>recommendations finished on 32000/39037 queries. users per second: 47153.3</pre>"
      ],
      "text/plain": [
       "recommendations finished on 32000/39037 queries. users per second: 47153.3"
      ]
     },
     "metadata": {
      "tags": []
     },
     "output_type": "display_data"
    },
    {
     "data": {
      "text/html": [
       "<pre>recommendations finished on 33000/39037 queries. users per second: 47244.2</pre>"
      ],
      "text/plain": [
       "recommendations finished on 33000/39037 queries. users per second: 47244.2"
      ]
     },
     "metadata": {
      "tags": []
     },
     "output_type": "display_data"
    },
    {
     "data": {
      "text/html": [
       "<pre>recommendations finished on 34000/39037 queries. users per second: 47296.1</pre>"
      ],
      "text/plain": [
       "recommendations finished on 34000/39037 queries. users per second: 47296.1"
      ]
     },
     "metadata": {
      "tags": []
     },
     "output_type": "display_data"
    },
    {
     "data": {
      "text/html": [
       "<pre>recommendations finished on 35000/39037 queries. users per second: 47337</pre>"
      ],
      "text/plain": [
       "recommendations finished on 35000/39037 queries. users per second: 47337"
      ]
     },
     "metadata": {
      "tags": []
     },
     "output_type": "display_data"
    },
    {
     "data": {
      "text/html": [
       "<pre>recommendations finished on 36000/39037 queries. users per second: 47382.1</pre>"
      ],
      "text/plain": [
       "recommendations finished on 36000/39037 queries. users per second: 47382.1"
      ]
     },
     "metadata": {
      "tags": []
     },
     "output_type": "display_data"
    },
    {
     "data": {
      "text/html": [
       "<pre>recommendations finished on 37000/39037 queries. users per second: 47429.6</pre>"
      ],
      "text/plain": [
       "recommendations finished on 37000/39037 queries. users per second: 47429.6"
      ]
     },
     "metadata": {
      "tags": []
     },
     "output_type": "display_data"
    },
    {
     "data": {
      "text/html": [
       "<pre>recommendations finished on 38000/39037 queries. users per second: 47336</pre>"
      ],
      "text/plain": [
       "recommendations finished on 38000/39037 queries. users per second: 47336"
      ]
     },
     "metadata": {
      "tags": []
     },
     "output_type": "display_data"
    },
    {
     "data": {
      "text/html": [
       "<pre>recommendations finished on 39000/39037 queries. users per second: 47138.1</pre>"
      ],
      "text/plain": [
       "recommendations finished on 39000/39037 queries. users per second: 47138.1"
      ]
     },
     "metadata": {
      "tags": []
     },
     "output_type": "display_data"
    },
    {
     "name": "stdout",
     "output_type": "stream",
     "text": [
      "+------------+-----------+--------------------+------+\n",
      "| customerId | productId |       score        | rank |\n",
      "+------------+-----------+--------------------+------+\n",
      "|     0      |    2705   |        1.0         |  1   |\n",
      "|     0      |    2766   |        1.0         |  2   |\n",
      "|     0      |    2505   |        1.0         |  3   |\n",
      "|     0      |    2710   |        1.0         |  4   |\n",
      "|     0      |    1316   |        1.0         |  5   |\n",
      "|     0      |    923    | 0.9444444444444444 |  6   |\n",
      "|     0      |    1500   | 0.7999468525250754 |  7   |\n",
      "|     0      |    1324   | 0.7631566430393019 |  8   |\n",
      "|     0      |    2250   |        0.75        |  9   |\n",
      "|     0      |    1507   |        0.75        |  10  |\n",
      "|     2      |    2705   |        1.0         |  1   |\n",
      "|     2      |    2766   |        1.0         |  2   |\n",
      "|     2      |    2505   |        1.0         |  3   |\n",
      "|     2      |    2710   |        1.0         |  4   |\n",
      "|     2      |    1316   |        1.0         |  5   |\n",
      "|     2      |    923    | 0.9444444444444444 |  6   |\n",
      "|     2      |    1500   |        0.8         |  7   |\n",
      "|     2      |    1324   | 0.7631578947368421 |  8   |\n",
      "|     2      |    1317   |        0.75        |  9   |\n",
      "|     2      |    2250   |        0.75        |  10  |\n",
      "|     5      |    2705   |        1.0         |  1   |\n",
      "|     5      |    2766   |        1.0         |  2   |\n",
      "|     5      |    2505   |        1.0         |  3   |\n",
      "|     5      |    2710   |        1.0         |  4   |\n",
      "|     5      |    1316   |        1.0         |  5   |\n",
      "|     5      |    923    | 0.9444444444444444 |  6   |\n",
      "|     5      |    1500   |        0.8         |  7   |\n",
      "|     5      |    1324   | 0.7631578947368421 |  8   |\n",
      "|     5      |    1317   |        0.75        |  9   |\n",
      "|     5      |    2250   |        0.75        |  10  |\n",
      "+------------+-----------+--------------------+------+\n",
      "[390370 rows x 4 columns]\n",
      "\n"
     ]
    },
    {
     "data": {
      "text/plain": [
       "Class                            : ItemSimilarityRecommender\n",
       "\n",
       "Schema\n",
       "------\n",
       "User ID                          : customerId\n",
       "Item ID                          : productId\n",
       "Target                           : scaled_purchase_freq\n",
       "Additional observation features  : 0\n",
       "User side features               : []\n",
       "Item side features               : []\n",
       "\n",
       "Statistics\n",
       "----------\n",
       "Number of observations           : 162296\n",
       "Number of users                  : 38802\n",
       "Number of items                  : 1619\n",
       "\n",
       "Training summary\n",
       "----------------\n",
       "Training time                    : 0.1638\n",
       "\n",
       "Model Parameters\n",
       "----------------\n",
       "Model class                      : ItemSimilarityRecommender\n",
       "threshold                        : 0.001\n",
       "similarity_type                  : pearson\n",
       "training_method                  : auto\n",
       "\n",
       "Other Settings\n",
       "--------------\n",
       "degree_approximation_threshold   : 4096\n",
       "max_data_passes                  : 4096\n",
       "max_item_neighborhood_size       : 64\n",
       "nearest_neighbors_interaction_proportion_threshold : 0.05\n",
       "seed_item_set_size               : 50\n",
       "sparse_density_estimation_sample_size : 4096\n",
       "target_memory_usage              : 8589934592"
      ]
     },
     "execution_count": 27,
     "metadata": {
      "tags": []
     },
     "output_type": "execute_result"
    }
   ],
   "source": [
    "# iii. Uso del recuento de compras escalado\n",
    "name = 'pearson'\n",
    "target = 'scaled_purchase_freq'\n",
    "pear_norm = model(train_data_norm, name, user_id, item_id, target, users_to_recommend, n_rec, n_display)\n",
    "pear_norm"
   ]
  },
  {
   "cell_type": "markdown",
   "metadata": {
    "colab_type": "text",
    "id": "2l3Xv__jln46"
   },
   "source": [
    "## 8. Evaluación del modelo\n",
    "\n",
    "Para evaluar los motores de recomendación, podemos usar el concepto de RMSE y la recuperación de precisión.\n",
    "\n",
    "1. RMSE (errores cuadráticos medios de raíz)\n",
    "Mide el error de los valores pronosticados.\n",
    "Menor el valor RMSE, mejores las recomendaciones.\n",
    "\n",
    "2. Recordar\n",
    " ¿Qué porcentaje de productos que compra un usuario se recomiendan realmente?\n",
    "Si un cliente compra 5 productos y la recomendación decidió mostrar 3 de ellos, entonces el retiro es 0.6\n",
    "\n",
    "3. Precisión\n",
    "De todos los elementos recomendados, ¿cuántos le gustaron realmente al usuario?\n",
    "Si se recomendaron al cliente 5 productos de los cuales compra 4, entonces la precisión es 0.8\n",
    "¿Por qué son importantes tanto el recuerdo como la precisión?\n",
    "Considere un caso en el que recomendamos todos los productos, por lo que nuestros clientes seguramente cubrirán los artículos que les gustaron y compraron. ¡En este caso, tenemos un 100% de retiro! ¿Esto significa que nuestro modelo es bueno?\n",
    "Tenemos que considerar la precisión. Si recomendamos 300 artículos pero al usuario le gusta y compra solo 3 de ellos, ¡la precisión es del 0.1%! Esta precisión muy baja indica que el modelo no es excelente, a pesar de su excelente recuperación.\n",
    "Por lo tanto, nuestro objetivo debe ser optimizar tanto el recuerdo como la precisión (para estar lo más cerca posible de 1)."
   ]
  },
  {
   "cell_type": "code",
   "execution_count": 0,
   "metadata": {
    "colab": {},
    "colab_type": "code",
    "id": "I5WsYwimln4-"
   },
   "outputs": [],
   "source": [
    "# Primero creemos variables invocables iniciales para la evaluación del modelo:\n",
    "models_w_counts = [popularity, cos, pear]\n",
    "models_w_dummy = [pop_dummy, cos_dummy, pear_dummy]\n",
    "models_w_norm = [pop_norm, cos_norm, pear_norm]\n",
    "\n",
    "names_w_counts = ['Popularity Model on Purchase Counts', 'Cosine Similarity on Purchase Counts',\\\n",
    "                  'Pearson Similarity on Purchase Counts']\n",
    "names_w_dummy = ['Popularity Model on Purchase Dummy', 'Cosine Similarity on Purchase Dummy',\\\n",
    "                 'Pearson Similarity on Purchase Dummy']\n",
    "names_w_norm = ['Popularity Model on Scaled Purchase Counts', 'Cosine Similarity on Scaled Purchase Counts',\\\n",
    "                'Pearson Similarity on Scaled Purchase Counts']"
   ]
  },
  {
   "cell_type": "markdown",
   "metadata": {
    "colab_type": "text",
    "id": "1nXIXGvMln5e"
   },
   "source": [
    "## 8.1. Resultado de evaluación"
   ]
  },
  {
   "cell_type": "code",
   "execution_count": 0,
   "metadata": {
    "colab": {},
    "colab_type": "code",
    "id": "u8Vmg_Ktln5O"
   },
   "outputs": [],
   "source": [
    "#### Comparemos todos los modelos que hemos construido basados en RMSE y características de recuperación de precisión:"
   ]
  },
  {
   "cell_type": "code",
   "execution_count": 30,
   "metadata": {
    "colab": {
     "base_uri": "https://localhost:8080/",
     "height": 1000
    },
    "colab_type": "code",
    "id": "jibehMApxo1t",
    "outputId": "3cd79215-77cc-45b5-8c5c-3c1078c5755d"
   },
   "outputs": [
    {
     "name": "stdout",
     "output_type": "stream",
     "text": [
      "PROGRESS: Evaluate model Popularity Model on Purchase Counts\n"
     ]
    },
    {
     "data": {
      "text/html": [
       "<pre>recommendations finished on 1000/27710 queries. users per second: 24750</pre>"
      ],
      "text/plain": [
       "recommendations finished on 1000/27710 queries. users per second: 24750"
      ]
     },
     "metadata": {
      "tags": []
     },
     "output_type": "display_data"
    },
    {
     "data": {
      "text/html": [
       "<pre>recommendations finished on 2000/27710 queries. users per second: 25067.7</pre>"
      ],
      "text/plain": [
       "recommendations finished on 2000/27710 queries. users per second: 25067.7"
      ]
     },
     "metadata": {
      "tags": []
     },
     "output_type": "display_data"
    },
    {
     "data": {
      "text/html": [
       "<pre>recommendations finished on 3000/27710 queries. users per second: 25423.7</pre>"
      ],
      "text/plain": [
       "recommendations finished on 3000/27710 queries. users per second: 25423.7"
      ]
     },
     "metadata": {
      "tags": []
     },
     "output_type": "display_data"
    },
    {
     "data": {
      "text/html": [
       "<pre>recommendations finished on 4000/27710 queries. users per second: 25940.2</pre>"
      ],
      "text/plain": [
       "recommendations finished on 4000/27710 queries. users per second: 25940.2"
      ]
     },
     "metadata": {
      "tags": []
     },
     "output_type": "display_data"
    },
    {
     "data": {
      "text/html": [
       "<pre>recommendations finished on 5000/27710 queries. users per second: 26315</pre>"
      ],
      "text/plain": [
       "recommendations finished on 5000/27710 queries. users per second: 26315"
      ]
     },
     "metadata": {
      "tags": []
     },
     "output_type": "display_data"
    },
    {
     "data": {
      "text/html": [
       "<pre>recommendations finished on 6000/27710 queries. users per second: 25948</pre>"
      ],
      "text/plain": [
       "recommendations finished on 6000/27710 queries. users per second: 25948"
      ]
     },
     "metadata": {
      "tags": []
     },
     "output_type": "display_data"
    },
    {
     "data": {
      "text/html": [
       "<pre>recommendations finished on 7000/27710 queries. users per second: 25819.9</pre>"
      ],
      "text/plain": [
       "recommendations finished on 7000/27710 queries. users per second: 25819.9"
      ]
     },
     "metadata": {
      "tags": []
     },
     "output_type": "display_data"
    },
    {
     "data": {
      "text/html": [
       "<pre>recommendations finished on 8000/27710 queries. users per second: 26091.4</pre>"
      ],
      "text/plain": [
       "recommendations finished on 8000/27710 queries. users per second: 26091.4"
      ]
     },
     "metadata": {
      "tags": []
     },
     "output_type": "display_data"
    },
    {
     "data": {
      "text/html": [
       "<pre>recommendations finished on 9000/27710 queries. users per second: 26048.1</pre>"
      ],
      "text/plain": [
       "recommendations finished on 9000/27710 queries. users per second: 26048.1"
      ]
     },
     "metadata": {
      "tags": []
     },
     "output_type": "display_data"
    },
    {
     "data": {
      "text/html": [
       "<pre>recommendations finished on 10000/27710 queries. users per second: 26100.3</pre>"
      ],
      "text/plain": [
       "recommendations finished on 10000/27710 queries. users per second: 26100.3"
      ]
     },
     "metadata": {
      "tags": []
     },
     "output_type": "display_data"
    },
    {
     "data": {
      "text/html": [
       "<pre>recommendations finished on 11000/27710 queries. users per second: 25990</pre>"
      ],
      "text/plain": [
       "recommendations finished on 11000/27710 queries. users per second: 25990"
      ]
     },
     "metadata": {
      "tags": []
     },
     "output_type": "display_data"
    },
    {
     "data": {
      "text/html": [
       "<pre>recommendations finished on 12000/27710 queries. users per second: 25752.7</pre>"
      ],
      "text/plain": [
       "recommendations finished on 12000/27710 queries. users per second: 25752.7"
      ]
     },
     "metadata": {
      "tags": []
     },
     "output_type": "display_data"
    },
    {
     "data": {
      "text/html": [
       "<pre>recommendations finished on 13000/27710 queries. users per second: 25709.1</pre>"
      ],
      "text/plain": [
       "recommendations finished on 13000/27710 queries. users per second: 25709.1"
      ]
     },
     "metadata": {
      "tags": []
     },
     "output_type": "display_data"
    },
    {
     "data": {
      "text/html": [
       "<pre>recommendations finished on 14000/27710 queries. users per second: 25865.1</pre>"
      ],
      "text/plain": [
       "recommendations finished on 14000/27710 queries. users per second: 25865.1"
      ]
     },
     "metadata": {
      "tags": []
     },
     "output_type": "display_data"
    },
    {
     "data": {
      "text/html": [
       "<pre>recommendations finished on 15000/27710 queries. users per second: 25998.9</pre>"
      ],
      "text/plain": [
       "recommendations finished on 15000/27710 queries. users per second: 25998.9"
      ]
     },
     "metadata": {
      "tags": []
     },
     "output_type": "display_data"
    },
    {
     "data": {
      "text/html": [
       "<pre>recommendations finished on 16000/27710 queries. users per second: 26113.6</pre>"
      ],
      "text/plain": [
       "recommendations finished on 16000/27710 queries. users per second: 26113.6"
      ]
     },
     "metadata": {
      "tags": []
     },
     "output_type": "display_data"
    },
    {
     "data": {
      "text/html": [
       "<pre>recommendations finished on 17000/27710 queries. users per second: 26224</pre>"
      ],
      "text/plain": [
       "recommendations finished on 17000/27710 queries. users per second: 26224"
      ]
     },
     "metadata": {
      "tags": []
     },
     "output_type": "display_data"
    },
    {
     "data": {
      "text/html": [
       "<pre>recommendations finished on 18000/27710 queries. users per second: 26167.5</pre>"
      ],
      "text/plain": [
       "recommendations finished on 18000/27710 queries. users per second: 26167.5"
      ]
     },
     "metadata": {
      "tags": []
     },
     "output_type": "display_data"
    },
    {
     "data": {
      "text/html": [
       "<pre>recommendations finished on 19000/27710 queries. users per second: 26152.5</pre>"
      ],
      "text/plain": [
       "recommendations finished on 19000/27710 queries. users per second: 26152.5"
      ]
     },
     "metadata": {
      "tags": []
     },
     "output_type": "display_data"
    },
    {
     "data": {
      "text/html": [
       "<pre>recommendations finished on 20000/27710 queries. users per second: 26217.9</pre>"
      ],
      "text/plain": [
       "recommendations finished on 20000/27710 queries. users per second: 26217.9"
      ]
     },
     "metadata": {
      "tags": []
     },
     "output_type": "display_data"
    },
    {
     "data": {
      "text/html": [
       "<pre>recommendations finished on 21000/27710 queries. users per second: 26303.5</pre>"
      ],
      "text/plain": [
       "recommendations finished on 21000/27710 queries. users per second: 26303.5"
      ]
     },
     "metadata": {
      "tags": []
     },
     "output_type": "display_data"
    },
    {
     "data": {
      "text/html": [
       "<pre>recommendations finished on 22000/27710 queries. users per second: 26381.1</pre>"
      ],
      "text/plain": [
       "recommendations finished on 22000/27710 queries. users per second: 26381.1"
      ]
     },
     "metadata": {
      "tags": []
     },
     "output_type": "display_data"
    },
    {
     "data": {
      "text/html": [
       "<pre>recommendations finished on 23000/27710 queries. users per second: 26266.9</pre>"
      ],
      "text/plain": [
       "recommendations finished on 23000/27710 queries. users per second: 26266.9"
      ]
     },
     "metadata": {
      "tags": []
     },
     "output_type": "display_data"
    },
    {
     "data": {
      "text/html": [
       "<pre>recommendations finished on 24000/27710 queries. users per second: 26109.7</pre>"
      ],
      "text/plain": [
       "recommendations finished on 24000/27710 queries. users per second: 26109.7"
      ]
     },
     "metadata": {
      "tags": []
     },
     "output_type": "display_data"
    },
    {
     "data": {
      "text/html": [
       "<pre>recommendations finished on 25000/27710 queries. users per second: 26145.6</pre>"
      ],
      "text/plain": [
       "recommendations finished on 25000/27710 queries. users per second: 26145.6"
      ]
     },
     "metadata": {
      "tags": []
     },
     "output_type": "display_data"
    },
    {
     "data": {
      "text/html": [
       "<pre>recommendations finished on 26000/27710 queries. users per second: 26206.7</pre>"
      ],
      "text/plain": [
       "recommendations finished on 26000/27710 queries. users per second: 26206.7"
      ]
     },
     "metadata": {
      "tags": []
     },
     "output_type": "display_data"
    },
    {
     "data": {
      "text/html": [
       "<pre>recommendations finished on 27000/27710 queries. users per second: 26238.5</pre>"
      ],
      "text/plain": [
       "recommendations finished on 27000/27710 queries. users per second: 26238.5"
      ]
     },
     "metadata": {
      "tags": []
     },
     "output_type": "display_data"
    },
    {
     "name": "stdout",
     "output_type": "stream",
     "text": [
      "\n",
      "Precision and recall summary statistics by cutoff\n",
      "+--------+------------------------+------------------------+\n",
      "| cutoff |     mean_precision     |      mean_recall       |\n",
      "+--------+------------------------+------------------------+\n",
      "|   1    |          0.0           |          0.0           |\n",
      "|   2    |          0.0           |          0.0           |\n",
      "|   3    | 1.202935161794771e-05  | 1.804402742692161e-05  |\n",
      "|   4    | 1.8044027426921644e-05 | 2.7066041140382474e-05 |\n",
      "|   5    | 2.8870443883074587e-05 | 4.009783872649303e-05  |\n",
      "|   6    | 3.007337904486936e-05  | 5.814186615341492e-05  |\n",
      "|   7    | 2.5777182038459882e-05 | 5.814186615341492e-05  |\n",
      "|   8    | 2.7066041140382453e-05 | 7.618589358033522e-05  |\n",
      "|   9    | 2.4058703235895398e-05 | 7.618589358033522e-05  |\n",
      "|   10   | 4.691447130999609e-05  | 0.00020850876137776226 |\n",
      "+--------+------------------------+------------------------+\n",
      "[10 rows x 3 columns]\n",
      "\n",
      "\n",
      "Overall RMSE: 0.5092568920853667\n",
      "\n",
      "Per User RMSE (best)\n",
      "+------------+------+-------+\n",
      "| customerId | rmse | count |\n",
      "+------------+------+-------+\n",
      "|   86681    | 0.0  |   1   |\n",
      "+------------+------+-------+\n",
      "[1 rows x 3 columns]\n",
      "\n",
      "\n",
      "Per User RMSE (worst)\n",
      "+------------+-------------------+-------+\n",
      "| customerId |        rmse       | count |\n",
      "+------------+-------------------+-------+\n",
      "|   15956    | 8.757668711656441 |   1   |\n",
      "+------------+-------------------+-------+\n",
      "[1 rows x 3 columns]\n",
      "\n",
      "\n",
      "Per Item RMSE (best)\n",
      "+-----------+------+-------+\n",
      "| productId | rmse | count |\n",
      "+-----------+------+-------+\n",
      "|    756    | 0.0  |   5   |\n",
      "+-----------+------+-------+\n",
      "[1 rows x 3 columns]\n",
      "\n",
      "\n",
      "Per Item RMSE (worst)\n",
      "+-----------+-------------------+-------+\n",
      "| productId |        rmse       | count |\n",
      "+-----------+-------------------+-------+\n",
      "|    1954   | 4.743416490252569 |   2   |\n",
      "+-----------+-------------------+-------+\n",
      "[1 rows x 3 columns]\n",
      "\n",
      "PROGRESS: Evaluate model Cosine Similarity on Purchase Counts\n"
     ]
    },
    {
     "data": {
      "text/html": [
       "<pre>recommendations finished on 1000/27710 queries. users per second: 24959.4</pre>"
      ],
      "text/plain": [
       "recommendations finished on 1000/27710 queries. users per second: 24959.4"
      ]
     },
     "metadata": {
      "tags": []
     },
     "output_type": "display_data"
    },
    {
     "data": {
      "text/html": [
       "<pre>recommendations finished on 2000/27710 queries. users per second: 24231</pre>"
      ],
      "text/plain": [
       "recommendations finished on 2000/27710 queries. users per second: 24231"
      ]
     },
     "metadata": {
      "tags": []
     },
     "output_type": "display_data"
    },
    {
     "data": {
      "text/html": [
       "<pre>recommendations finished on 3000/27710 queries. users per second: 24113.8</pre>"
      ],
      "text/plain": [
       "recommendations finished on 3000/27710 queries. users per second: 24113.8"
      ]
     },
     "metadata": {
      "tags": []
     },
     "output_type": "display_data"
    },
    {
     "data": {
      "text/html": [
       "<pre>recommendations finished on 4000/27710 queries. users per second: 24693.8</pre>"
      ],
      "text/plain": [
       "recommendations finished on 4000/27710 queries. users per second: 24693.8"
      ]
     },
     "metadata": {
      "tags": []
     },
     "output_type": "display_data"
    },
    {
     "data": {
      "text/html": [
       "<pre>recommendations finished on 5000/27710 queries. users per second: 24970</pre>"
      ],
      "text/plain": [
       "recommendations finished on 5000/27710 queries. users per second: 24970"
      ]
     },
     "metadata": {
      "tags": []
     },
     "output_type": "display_data"
    },
    {
     "data": {
      "text/html": [
       "<pre>recommendations finished on 6000/27710 queries. users per second: 24755.9</pre>"
      ],
      "text/plain": [
       "recommendations finished on 6000/27710 queries. users per second: 24755.9"
      ]
     },
     "metadata": {
      "tags": []
     },
     "output_type": "display_data"
    },
    {
     "data": {
      "text/html": [
       "<pre>recommendations finished on 7000/27710 queries. users per second: 24650.4</pre>"
      ],
      "text/plain": [
       "recommendations finished on 7000/27710 queries. users per second: 24650.4"
      ]
     },
     "metadata": {
      "tags": []
     },
     "output_type": "display_data"
    },
    {
     "data": {
      "text/html": [
       "<pre>recommendations finished on 8000/27710 queries. users per second: 24873.6</pre>"
      ],
      "text/plain": [
       "recommendations finished on 8000/27710 queries. users per second: 24873.6"
      ]
     },
     "metadata": {
      "tags": []
     },
     "output_type": "display_data"
    },
    {
     "data": {
      "text/html": [
       "<pre>recommendations finished on 9000/27710 queries. users per second: 24938.8</pre>"
      ],
      "text/plain": [
       "recommendations finished on 9000/27710 queries. users per second: 24938.8"
      ]
     },
     "metadata": {
      "tags": []
     },
     "output_type": "display_data"
    },
    {
     "data": {
      "text/html": [
       "<pre>recommendations finished on 10000/27710 queries. users per second: 25110.4</pre>"
      ],
      "text/plain": [
       "recommendations finished on 10000/27710 queries. users per second: 25110.4"
      ]
     },
     "metadata": {
      "tags": []
     },
     "output_type": "display_data"
    },
    {
     "data": {
      "text/html": [
       "<pre>recommendations finished on 11000/27710 queries. users per second: 25246.1</pre>"
      ],
      "text/plain": [
       "recommendations finished on 11000/27710 queries. users per second: 25246.1"
      ]
     },
     "metadata": {
      "tags": []
     },
     "output_type": "display_data"
    },
    {
     "data": {
      "text/html": [
       "<pre>recommendations finished on 12000/27710 queries. users per second: 25169</pre>"
      ],
      "text/plain": [
       "recommendations finished on 12000/27710 queries. users per second: 25169"
      ]
     },
     "metadata": {
      "tags": []
     },
     "output_type": "display_data"
    },
    {
     "data": {
      "text/html": [
       "<pre>recommendations finished on 13000/27710 queries. users per second: 25264.3</pre>"
      ],
      "text/plain": [
       "recommendations finished on 13000/27710 queries. users per second: 25264.3"
      ]
     },
     "metadata": {
      "tags": []
     },
     "output_type": "display_data"
    },
    {
     "data": {
      "text/html": [
       "<pre>recommendations finished on 14000/27710 queries. users per second: 25339.2</pre>"
      ],
      "text/plain": [
       "recommendations finished on 14000/27710 queries. users per second: 25339.2"
      ]
     },
     "metadata": {
      "tags": []
     },
     "output_type": "display_data"
    },
    {
     "data": {
      "text/html": [
       "<pre>recommendations finished on 15000/27710 queries. users per second: 25433.3</pre>"
      ],
      "text/plain": [
       "recommendations finished on 15000/27710 queries. users per second: 25433.3"
      ]
     },
     "metadata": {
      "tags": []
     },
     "output_type": "display_data"
    },
    {
     "data": {
      "text/html": [
       "<pre>recommendations finished on 16000/27710 queries. users per second: 25456.1</pre>"
      ],
      "text/plain": [
       "recommendations finished on 16000/27710 queries. users per second: 25456.1"
      ]
     },
     "metadata": {
      "tags": []
     },
     "output_type": "display_data"
    },
    {
     "data": {
      "text/html": [
       "<pre>recommendations finished on 17000/27710 queries. users per second: 25461.9</pre>"
      ],
      "text/plain": [
       "recommendations finished on 17000/27710 queries. users per second: 25461.9"
      ]
     },
     "metadata": {
      "tags": []
     },
     "output_type": "display_data"
    },
    {
     "data": {
      "text/html": [
       "<pre>recommendations finished on 18000/27710 queries. users per second: 25540.8</pre>"
      ],
      "text/plain": [
       "recommendations finished on 18000/27710 queries. users per second: 25540.8"
      ]
     },
     "metadata": {
      "tags": []
     },
     "output_type": "display_data"
    },
    {
     "data": {
      "text/html": [
       "<pre>recommendations finished on 19000/27710 queries. users per second: 25403.7</pre>"
      ],
      "text/plain": [
       "recommendations finished on 19000/27710 queries. users per second: 25403.7"
      ]
     },
     "metadata": {
      "tags": []
     },
     "output_type": "display_data"
    },
    {
     "data": {
      "text/html": [
       "<pre>recommendations finished on 20000/27710 queries. users per second: 25454.9</pre>"
      ],
      "text/plain": [
       "recommendations finished on 20000/27710 queries. users per second: 25454.9"
      ]
     },
     "metadata": {
      "tags": []
     },
     "output_type": "display_data"
    },
    {
     "data": {
      "text/html": [
       "<pre>recommendations finished on 21000/27710 queries. users per second: 25274.9</pre>"
      ],
      "text/plain": [
       "recommendations finished on 21000/27710 queries. users per second: 25274.9"
      ]
     },
     "metadata": {
      "tags": []
     },
     "output_type": "display_data"
    },
    {
     "data": {
      "text/html": [
       "<pre>recommendations finished on 22000/27710 queries. users per second: 25317</pre>"
      ],
      "text/plain": [
       "recommendations finished on 22000/27710 queries. users per second: 25317"
      ]
     },
     "metadata": {
      "tags": []
     },
     "output_type": "display_data"
    },
    {
     "data": {
      "text/html": [
       "<pre>recommendations finished on 23000/27710 queries. users per second: 25369.8</pre>"
      ],
      "text/plain": [
       "recommendations finished on 23000/27710 queries. users per second: 25369.8"
      ]
     },
     "metadata": {
      "tags": []
     },
     "output_type": "display_data"
    },
    {
     "data": {
      "text/html": [
       "<pre>recommendations finished on 24000/27710 queries. users per second: 25360.9</pre>"
      ],
      "text/plain": [
       "recommendations finished on 24000/27710 queries. users per second: 25360.9"
      ]
     },
     "metadata": {
      "tags": []
     },
     "output_type": "display_data"
    },
    {
     "data": {
      "text/html": [
       "<pre>recommendations finished on 25000/27710 queries. users per second: 25388.6</pre>"
      ],
      "text/plain": [
       "recommendations finished on 25000/27710 queries. users per second: 25388.6"
      ]
     },
     "metadata": {
      "tags": []
     },
     "output_type": "display_data"
    },
    {
     "data": {
      "text/html": [
       "<pre>recommendations finished on 26000/27710 queries. users per second: 25323.8</pre>"
      ],
      "text/plain": [
       "recommendations finished on 26000/27710 queries. users per second: 25323.8"
      ]
     },
     "metadata": {
      "tags": []
     },
     "output_type": "display_data"
    },
    {
     "data": {
      "text/html": [
       "<pre>recommendations finished on 27000/27710 queries. users per second: 25365.7</pre>"
      ],
      "text/plain": [
       "recommendations finished on 27000/27710 queries. users per second: 25365.7"
      ]
     },
     "metadata": {
      "tags": []
     },
     "output_type": "display_data"
    },
    {
     "name": "stdout",
     "output_type": "stream",
     "text": [
      "\n",
      "Precision and recall summary statistics by cutoff\n",
      "+--------+----------------------+----------------------+\n",
      "| cutoff |    mean_precision    |     mean_recall      |\n",
      "+--------+----------------------+----------------------+\n",
      "|   1    | 0.06257668711656425  | 0.038870990671784726 |\n",
      "|   2    | 0.049494767232046065 | 0.060777057058182676 |\n",
      "|   3    | 0.04198243714663773  | 0.07752174266248603  |\n",
      "|   4    | 0.037224828581739484 |  0.0921056286429798  |\n",
      "|   5    | 0.03380007217610957  | 0.10439181726447429  |\n",
      "|   6    | 0.03113797666305804  | 0.11540935974002142  |\n",
      "|   7    | 0.028901376501520883 | 0.12478565999055492  |\n",
      "|   8    | 0.027106640202093003 |  0.1337125272609809  |\n",
      "|   9    | 0.025558362404266472 |  0.141131804322986   |\n",
      "|   10   | 0.02421147600144354  | 0.14817249920290812  |\n",
      "+--------+----------------------+----------------------+\n",
      "[10 rows x 3 columns]\n",
      "\n",
      "\n",
      "Overall RMSE: 1.3099848081726708\n",
      "\n",
      "Per User RMSE (best)\n",
      "+------------+--------------------+-------+\n",
      "| customerId |        rmse        | count |\n",
      "+------------+--------------------+-------+\n",
      "|   112982   | 0.2088175813357035 |   1   |\n",
      "+------------+--------------------+-------+\n",
      "[1 rows x 3 columns]\n",
      "\n",
      "\n",
      "Per User RMSE (worst)\n",
      "+------------+------+-------+\n",
      "| customerId | rmse | count |\n",
      "+------------+------+-------+\n",
      "|    9236    | 10.0 |   1   |\n",
      "+------------+------+-------+\n",
      "[1 rows x 3 columns]\n",
      "\n",
      "\n",
      "Per Item RMSE (best)\n",
      "+-----------+--------------------+-------+\n",
      "| productId |        rmse        | count |\n",
      "+-----------+--------------------+-------+\n",
      "|    1360   | 0.6837722063064575 |   1   |\n",
      "+-----------+--------------------+-------+\n",
      "[1 rows x 3 columns]\n",
      "\n",
      "\n",
      "Per Item RMSE (worst)\n",
      "+-----------+-------------------+-------+\n",
      "| productId |        rmse       | count |\n",
      "+-----------+-------------------+-------+\n",
      "|    1954   | 6.670832032063167 |   2   |\n",
      "+-----------+-------------------+-------+\n",
      "[1 rows x 3 columns]\n",
      "\n",
      "PROGRESS: Evaluate model Pearson Similarity on Purchase Counts\n"
     ]
    },
    {
     "data": {
      "text/html": [
       "<pre>recommendations finished on 1000/27710 queries. users per second: 20287.3</pre>"
      ],
      "text/plain": [
       "recommendations finished on 1000/27710 queries. users per second: 20287.3"
      ]
     },
     "metadata": {
      "tags": []
     },
     "output_type": "display_data"
    },
    {
     "data": {
      "text/html": [
       "<pre>recommendations finished on 2000/27710 queries. users per second: 20161.3</pre>"
      ],
      "text/plain": [
       "recommendations finished on 2000/27710 queries. users per second: 20161.3"
      ]
     },
     "metadata": {
      "tags": []
     },
     "output_type": "display_data"
    },
    {
     "data": {
      "text/html": [
       "<pre>recommendations finished on 3000/27710 queries. users per second: 20398.3</pre>"
      ],
      "text/plain": [
       "recommendations finished on 3000/27710 queries. users per second: 20398.3"
      ]
     },
     "metadata": {
      "tags": []
     },
     "output_type": "display_data"
    },
    {
     "data": {
      "text/html": [
       "<pre>recommendations finished on 4000/27710 queries. users per second: 20832.2</pre>"
      ],
      "text/plain": [
       "recommendations finished on 4000/27710 queries. users per second: 20832.2"
      ]
     },
     "metadata": {
      "tags": []
     },
     "output_type": "display_data"
    },
    {
     "data": {
      "text/html": [
       "<pre>recommendations finished on 5000/27710 queries. users per second: 21032.9</pre>"
      ],
      "text/plain": [
       "recommendations finished on 5000/27710 queries. users per second: 21032.9"
      ]
     },
     "metadata": {
      "tags": []
     },
     "output_type": "display_data"
    },
    {
     "data": {
      "text/html": [
       "<pre>recommendations finished on 6000/27710 queries. users per second: 20791.2</pre>"
      ],
      "text/plain": [
       "recommendations finished on 6000/27710 queries. users per second: 20791.2"
      ]
     },
     "metadata": {
      "tags": []
     },
     "output_type": "display_data"
    },
    {
     "data": {
      "text/html": [
       "<pre>recommendations finished on 7000/27710 queries. users per second: 20721.3</pre>"
      ],
      "text/plain": [
       "recommendations finished on 7000/27710 queries. users per second: 20721.3"
      ]
     },
     "metadata": {
      "tags": []
     },
     "output_type": "display_data"
    },
    {
     "data": {
      "text/html": [
       "<pre>recommendations finished on 8000/27710 queries. users per second: 20956</pre>"
      ],
      "text/plain": [
       "recommendations finished on 8000/27710 queries. users per second: 20956"
      ]
     },
     "metadata": {
      "tags": []
     },
     "output_type": "display_data"
    },
    {
     "data": {
      "text/html": [
       "<pre>recommendations finished on 9000/27710 queries. users per second: 21011</pre>"
      ],
      "text/plain": [
       "recommendations finished on 9000/27710 queries. users per second: 21011"
      ]
     },
     "metadata": {
      "tags": []
     },
     "output_type": "display_data"
    },
    {
     "data": {
      "text/html": [
       "<pre>recommendations finished on 10000/27710 queries. users per second: 20959.5</pre>"
      ],
      "text/plain": [
       "recommendations finished on 10000/27710 queries. users per second: 20959.5"
      ]
     },
     "metadata": {
      "tags": []
     },
     "output_type": "display_data"
    },
    {
     "data": {
      "text/html": [
       "<pre>recommendations finished on 11000/27710 queries. users per second: 20988.2</pre>"
      ],
      "text/plain": [
       "recommendations finished on 11000/27710 queries. users per second: 20988.2"
      ]
     },
     "metadata": {
      "tags": []
     },
     "output_type": "display_data"
    },
    {
     "data": {
      "text/html": [
       "<pre>recommendations finished on 12000/27710 queries. users per second: 20897.3</pre>"
      ],
      "text/plain": [
       "recommendations finished on 12000/27710 queries. users per second: 20897.3"
      ]
     },
     "metadata": {
      "tags": []
     },
     "output_type": "display_data"
    },
    {
     "data": {
      "text/html": [
       "<pre>recommendations finished on 13000/27710 queries. users per second: 20998.3</pre>"
      ],
      "text/plain": [
       "recommendations finished on 13000/27710 queries. users per second: 20998.3"
      ]
     },
     "metadata": {
      "tags": []
     },
     "output_type": "display_data"
    },
    {
     "data": {
      "text/html": [
       "<pre>recommendations finished on 14000/27710 queries. users per second: 21062.4</pre>"
      ],
      "text/plain": [
       "recommendations finished on 14000/27710 queries. users per second: 21062.4"
      ]
     },
     "metadata": {
      "tags": []
     },
     "output_type": "display_data"
    },
    {
     "data": {
      "text/html": [
       "<pre>recommendations finished on 15000/27710 queries. users per second: 21070.3</pre>"
      ],
      "text/plain": [
       "recommendations finished on 15000/27710 queries. users per second: 21070.3"
      ]
     },
     "metadata": {
      "tags": []
     },
     "output_type": "display_data"
    },
    {
     "data": {
      "text/html": [
       "<pre>recommendations finished on 16000/27710 queries. users per second: 21097.5</pre>"
      ],
      "text/plain": [
       "recommendations finished on 16000/27710 queries. users per second: 21097.5"
      ]
     },
     "metadata": {
      "tags": []
     },
     "output_type": "display_data"
    },
    {
     "data": {
      "text/html": [
       "<pre>recommendations finished on 17000/27710 queries. users per second: 21161.8</pre>"
      ],
      "text/plain": [
       "recommendations finished on 17000/27710 queries. users per second: 21161.8"
      ]
     },
     "metadata": {
      "tags": []
     },
     "output_type": "display_data"
    },
    {
     "data": {
      "text/html": [
       "<pre>recommendations finished on 18000/27710 queries. users per second: 21126.4</pre>"
      ],
      "text/plain": [
       "recommendations finished on 18000/27710 queries. users per second: 21126.4"
      ]
     },
     "metadata": {
      "tags": []
     },
     "output_type": "display_data"
    },
    {
     "data": {
      "text/html": [
       "<pre>recommendations finished on 19000/27710 queries. users per second: 21179.9</pre>"
      ],
      "text/plain": [
       "recommendations finished on 19000/27710 queries. users per second: 21179.9"
      ]
     },
     "metadata": {
      "tags": []
     },
     "output_type": "display_data"
    },
    {
     "data": {
      "text/html": [
       "<pre>recommendations finished on 20000/27710 queries. users per second: 21165.2</pre>"
      ],
      "text/plain": [
       "recommendations finished on 20000/27710 queries. users per second: 21165.2"
      ]
     },
     "metadata": {
      "tags": []
     },
     "output_type": "display_data"
    },
    {
     "data": {
      "text/html": [
       "<pre>recommendations finished on 21000/27710 queries. users per second: 21212.2</pre>"
      ],
      "text/plain": [
       "recommendations finished on 21000/27710 queries. users per second: 21212.2"
      ]
     },
     "metadata": {
      "tags": []
     },
     "output_type": "display_data"
    },
    {
     "data": {
      "text/html": [
       "<pre>recommendations finished on 22000/27710 queries. users per second: 21245</pre>"
      ],
      "text/plain": [
       "recommendations finished on 22000/27710 queries. users per second: 21245"
      ]
     },
     "metadata": {
      "tags": []
     },
     "output_type": "display_data"
    },
    {
     "data": {
      "text/html": [
       "<pre>recommendations finished on 23000/27710 queries. users per second: 21235.8</pre>"
      ],
      "text/plain": [
       "recommendations finished on 23000/27710 queries. users per second: 21235.8"
      ]
     },
     "metadata": {
      "tags": []
     },
     "output_type": "display_data"
    },
    {
     "data": {
      "text/html": [
       "<pre>recommendations finished on 24000/27710 queries. users per second: 21216.4</pre>"
      ],
      "text/plain": [
       "recommendations finished on 24000/27710 queries. users per second: 21216.4"
      ]
     },
     "metadata": {
      "tags": []
     },
     "output_type": "display_data"
    },
    {
     "data": {
      "text/html": [
       "<pre>recommendations finished on 25000/27710 queries. users per second: 21253.8</pre>"
      ],
      "text/plain": [
       "recommendations finished on 25000/27710 queries. users per second: 21253.8"
      ]
     },
     "metadata": {
      "tags": []
     },
     "output_type": "display_data"
    },
    {
     "data": {
      "text/html": [
       "<pre>recommendations finished on 26000/27710 queries. users per second: 21294.5</pre>"
      ],
      "text/plain": [
       "recommendations finished on 26000/27710 queries. users per second: 21294.5"
      ]
     },
     "metadata": {
      "tags": []
     },
     "output_type": "display_data"
    },
    {
     "data": {
      "text/html": [
       "<pre>recommendations finished on 27000/27710 queries. users per second: 21328.1</pre>"
      ],
      "text/plain": [
       "recommendations finished on 27000/27710 queries. users per second: 21328.1"
      ]
     },
     "metadata": {
      "tags": []
     },
     "output_type": "display_data"
    },
    {
     "name": "stdout",
     "output_type": "stream",
     "text": [
      "\n",
      "Precision and recall summary statistics by cutoff\n",
      "+--------+------------------------+------------------------+\n",
      "| cutoff |     mean_precision     |      mean_recall       |\n",
      "+--------+------------------------+------------------------+\n",
      "|   1    |          0.0           |          0.0           |\n",
      "|   2    | 1.8044027426921623e-05 | 1.8044027426921623e-05 |\n",
      "|   3    | 1.2029351617947708e-05 | 1.8044027426921623e-05 |\n",
      "|   4    | 1.8044027426921644e-05 | 2.7066041140382504e-05 |\n",
      "|   5    | 2.8870443883074587e-05 | 4.009783872649303e-05  |\n",
      "|   6    | 3.007337904486936e-05  | 5.814186615341492e-05  |\n",
      "|   7    | 3.0932618446151706e-05 |  7.61858935803352e-05  |\n",
      "|   8    | 2.7066041140382453e-05 |  7.61858935803352e-05  |\n",
      "|   9    | 2.4058703235895405e-05 |  7.61858935803352e-05  |\n",
      "|   10   | 3.969686033922788e-05  | 0.00021151609928224874 |\n",
      "+--------+------------------------+------------------------+\n",
      "[10 rows x 3 columns]\n",
      "\n",
      "\n",
      "Overall RMSE: 0.5073068055253008\n",
      "\n",
      "Per User RMSE (best)\n",
      "+------------+------+-------+\n",
      "| customerId | rmse | count |\n",
      "+------------+------+-------+\n",
      "|   86681    | 0.0  |   1   |\n",
      "+------------+------+-------+\n",
      "[1 rows x 3 columns]\n",
      "\n",
      "\n",
      "Per User RMSE (worst)\n",
      "+------------+-------------------+-------+\n",
      "| customerId |        rmse       | count |\n",
      "+------------+-------------------+-------+\n",
      "|   15956    | 8.468487482442768 |   1   |\n",
      "+------------+-------------------+-------+\n",
      "[1 rows x 3 columns]\n",
      "\n",
      "\n",
      "Per Item RMSE (best)\n",
      "+-----------+------+-------+\n",
      "| productId | rmse | count |\n",
      "+-----------+------+-------+\n",
      "|    756    | 0.0  |   5   |\n",
      "+-----------+------+-------+\n",
      "[1 rows x 3 columns]\n",
      "\n",
      "\n",
      "Per Item RMSE (worst)\n",
      "+-----------+-------------------+-------+\n",
      "| productId |        rmse       | count |\n",
      "+-----------+-------------------+-------+\n",
      "|    1954   | 4.916240584796812 |   2   |\n",
      "+-----------+-------------------+-------+\n",
      "[1 rows x 3 columns]\n",
      "\n"
     ]
    }
   ],
   "source": [
    "eval_counts = tc.recommender.util.compare_models(test_data, models_w_counts, model_names=names_w_counts)"
   ]
  },
  {
   "cell_type": "code",
   "execution_count": 31,
   "metadata": {
    "colab": {
     "base_uri": "https://localhost:8080/",
     "height": 1000
    },
    "colab_type": "code",
    "id": "zxu1Kd7kxo10",
    "outputId": "976565e6-4e01-4bc5-ced2-d1cb5d98ce89"
   },
   "outputs": [
    {
     "name": "stdout",
     "output_type": "stream",
     "text": [
      "PROGRESS: Evaluate model Popularity Model on Purchase Dummy\n"
     ]
    },
    {
     "data": {
      "text/html": [
       "<pre>recommendations finished on 1000/27766 queries. users per second: 34040.2</pre>"
      ],
      "text/plain": [
       "recommendations finished on 1000/27766 queries. users per second: 34040.2"
      ]
     },
     "metadata": {
      "tags": []
     },
     "output_type": "display_data"
    },
    {
     "data": {
      "text/html": [
       "<pre>recommendations finished on 2000/27766 queries. users per second: 35244.2</pre>"
      ],
      "text/plain": [
       "recommendations finished on 2000/27766 queries. users per second: 35244.2"
      ]
     },
     "metadata": {
      "tags": []
     },
     "output_type": "display_data"
    },
    {
     "data": {
      "text/html": [
       "<pre>recommendations finished on 3000/27766 queries. users per second: 35884.7</pre>"
      ],
      "text/plain": [
       "recommendations finished on 3000/27766 queries. users per second: 35884.7"
      ]
     },
     "metadata": {
      "tags": []
     },
     "output_type": "display_data"
    },
    {
     "data": {
      "text/html": [
       "<pre>recommendations finished on 4000/27766 queries. users per second: 37376.9</pre>"
      ],
      "text/plain": [
       "recommendations finished on 4000/27766 queries. users per second: 37376.9"
      ]
     },
     "metadata": {
      "tags": []
     },
     "output_type": "display_data"
    },
    {
     "data": {
      "text/html": [
       "<pre>recommendations finished on 5000/27766 queries. users per second: 38227.8</pre>"
      ],
      "text/plain": [
       "recommendations finished on 5000/27766 queries. users per second: 38227.8"
      ]
     },
     "metadata": {
      "tags": []
     },
     "output_type": "display_data"
    },
    {
     "data": {
      "text/html": [
       "<pre>recommendations finished on 6000/27766 queries. users per second: 37204.7</pre>"
      ],
      "text/plain": [
       "recommendations finished on 6000/27766 queries. users per second: 37204.7"
      ]
     },
     "metadata": {
      "tags": []
     },
     "output_type": "display_data"
    },
    {
     "data": {
      "text/html": [
       "<pre>recommendations finished on 7000/27766 queries. users per second: 37709.6</pre>"
      ],
      "text/plain": [
       "recommendations finished on 7000/27766 queries. users per second: 37709.6"
      ]
     },
     "metadata": {
      "tags": []
     },
     "output_type": "display_data"
    },
    {
     "data": {
      "text/html": [
       "<pre>recommendations finished on 8000/27766 queries. users per second: 37359.6</pre>"
      ],
      "text/plain": [
       "recommendations finished on 8000/27766 queries. users per second: 37359.6"
      ]
     },
     "metadata": {
      "tags": []
     },
     "output_type": "display_data"
    },
    {
     "data": {
      "text/html": [
       "<pre>recommendations finished on 9000/27766 queries. users per second: 37868.4</pre>"
      ],
      "text/plain": [
       "recommendations finished on 9000/27766 queries. users per second: 37868.4"
      ]
     },
     "metadata": {
      "tags": []
     },
     "output_type": "display_data"
    },
    {
     "data": {
      "text/html": [
       "<pre>recommendations finished on 10000/27766 queries. users per second: 38304.5</pre>"
      ],
      "text/plain": [
       "recommendations finished on 10000/27766 queries. users per second: 38304.5"
      ]
     },
     "metadata": {
      "tags": []
     },
     "output_type": "display_data"
    },
    {
     "data": {
      "text/html": [
       "<pre>recommendations finished on 11000/27766 queries. users per second: 38656.9</pre>"
      ],
      "text/plain": [
       "recommendations finished on 11000/27766 queries. users per second: 38656.9"
      ]
     },
     "metadata": {
      "tags": []
     },
     "output_type": "display_data"
    },
    {
     "data": {
      "text/html": [
       "<pre>recommendations finished on 12000/27766 queries. users per second: 37879.7</pre>"
      ],
      "text/plain": [
       "recommendations finished on 12000/27766 queries. users per second: 37879.7"
      ]
     },
     "metadata": {
      "tags": []
     },
     "output_type": "display_data"
    },
    {
     "data": {
      "text/html": [
       "<pre>recommendations finished on 13000/27766 queries. users per second: 37842.1</pre>"
      ],
      "text/plain": [
       "recommendations finished on 13000/27766 queries. users per second: 37842.1"
      ]
     },
     "metadata": {
      "tags": []
     },
     "output_type": "display_data"
    },
    {
     "data": {
      "text/html": [
       "<pre>recommendations finished on 14000/27766 queries. users per second: 38003.3</pre>"
      ],
      "text/plain": [
       "recommendations finished on 14000/27766 queries. users per second: 38003.3"
      ]
     },
     "metadata": {
      "tags": []
     },
     "output_type": "display_data"
    },
    {
     "data": {
      "text/html": [
       "<pre>recommendations finished on 15000/27766 queries. users per second: 38214.4</pre>"
      ],
      "text/plain": [
       "recommendations finished on 15000/27766 queries. users per second: 38214.4"
      ]
     },
     "metadata": {
      "tags": []
     },
     "output_type": "display_data"
    },
    {
     "data": {
      "text/html": [
       "<pre>recommendations finished on 16000/27766 queries. users per second: 38414.3</pre>"
      ],
      "text/plain": [
       "recommendations finished on 16000/27766 queries. users per second: 38414.3"
      ]
     },
     "metadata": {
      "tags": []
     },
     "output_type": "display_data"
    },
    {
     "data": {
      "text/html": [
       "<pre>recommendations finished on 17000/27766 queries. users per second: 38639.3</pre>"
      ],
      "text/plain": [
       "recommendations finished on 17000/27766 queries. users per second: 38639.3"
      ]
     },
     "metadata": {
      "tags": []
     },
     "output_type": "display_data"
    },
    {
     "data": {
      "text/html": [
       "<pre>recommendations finished on 18000/27766 queries. users per second: 38704.1</pre>"
      ],
      "text/plain": [
       "recommendations finished on 18000/27766 queries. users per second: 38704.1"
      ]
     },
     "metadata": {
      "tags": []
     },
     "output_type": "display_data"
    },
    {
     "data": {
      "text/html": [
       "<pre>recommendations finished on 19000/27766 queries. users per second: 38134.4</pre>"
      ],
      "text/plain": [
       "recommendations finished on 19000/27766 queries. users per second: 38134.4"
      ]
     },
     "metadata": {
      "tags": []
     },
     "output_type": "display_data"
    },
    {
     "data": {
      "text/html": [
       "<pre>recommendations finished on 20000/27766 queries. users per second: 38000.6</pre>"
      ],
      "text/plain": [
       "recommendations finished on 20000/27766 queries. users per second: 38000.6"
      ]
     },
     "metadata": {
      "tags": []
     },
     "output_type": "display_data"
    },
    {
     "data": {
      "text/html": [
       "<pre>recommendations finished on 21000/27766 queries. users per second: 37984.6</pre>"
      ],
      "text/plain": [
       "recommendations finished on 21000/27766 queries. users per second: 37984.6"
      ]
     },
     "metadata": {
      "tags": []
     },
     "output_type": "display_data"
    },
    {
     "data": {
      "text/html": [
       "<pre>recommendations finished on 22000/27766 queries. users per second: 37205.3</pre>"
      ],
      "text/plain": [
       "recommendations finished on 22000/27766 queries. users per second: 37205.3"
      ]
     },
     "metadata": {
      "tags": []
     },
     "output_type": "display_data"
    },
    {
     "data": {
      "text/html": [
       "<pre>recommendations finished on 23000/27766 queries. users per second: 37293.1</pre>"
      ],
      "text/plain": [
       "recommendations finished on 23000/27766 queries. users per second: 37293.1"
      ]
     },
     "metadata": {
      "tags": []
     },
     "output_type": "display_data"
    },
    {
     "data": {
      "text/html": [
       "<pre>recommendations finished on 24000/27766 queries. users per second: 36926.7</pre>"
      ],
      "text/plain": [
       "recommendations finished on 24000/27766 queries. users per second: 36926.7"
      ]
     },
     "metadata": {
      "tags": []
     },
     "output_type": "display_data"
    },
    {
     "data": {
      "text/html": [
       "<pre>recommendations finished on 25000/27766 queries. users per second: 37086.6</pre>"
      ],
      "text/plain": [
       "recommendations finished on 25000/27766 queries. users per second: 37086.6"
      ]
     },
     "metadata": {
      "tags": []
     },
     "output_type": "display_data"
    },
    {
     "data": {
      "text/html": [
       "<pre>recommendations finished on 26000/27766 queries. users per second: 37121.5</pre>"
      ],
      "text/plain": [
       "recommendations finished on 26000/27766 queries. users per second: 37121.5"
      ]
     },
     "metadata": {
      "tags": []
     },
     "output_type": "display_data"
    },
    {
     "data": {
      "text/html": [
       "<pre>recommendations finished on 27000/27766 queries. users per second: 37216.3</pre>"
      ],
      "text/plain": [
       "recommendations finished on 27000/27766 queries. users per second: 37216.3"
      ]
     },
     "metadata": {
      "tags": []
     },
     "output_type": "display_data"
    },
    {
     "name": "stdout",
     "output_type": "stream",
     "text": [
      "\n",
      "Precision and recall summary statistics by cutoff\n",
      "+--------+------------------------+------------------------+\n",
      "| cutoff |     mean_precision     |      mean_recall       |\n",
      "+--------+------------------------+------------------------+\n",
      "|   1    | 0.00018007635237340545 | 0.0001320559917404977  |\n",
      "|   2    | 0.0001620687171360665  | 0.00019208144253163404 |\n",
      "|   3    | 0.00018007635237340548 | 0.0003631539772863697  |\n",
      "|   4    | 0.00015306489951739594 | 0.00039916924776104844 |\n",
      "|   5    | 0.00015126413599366104 | 0.0004463321019540855  |\n",
      "|   6    | 0.00014406108189872604 | 0.0004823473724287649  |\n",
      "|   7    | 0.00012862596598100514 | 0.0004913511900474353  |\n",
      "|   8    | 0.00012605344666138496 | 0.0005285669695379425  |\n",
      "|   9    | 0.00013605768845990728 | 0.0006846331415948925  |\n",
      "|   10   | 0.0001368580278037899  |  0.000765667500162926  |\n",
      "+--------+------------------------+------------------------+\n",
      "[10 rows x 3 columns]\n",
      "\n",
      "\n",
      "Overall RMSE: 0.0\n",
      "\n",
      "Per User RMSE (best)\n",
      "+------------+------+-------+\n",
      "| customerId | rmse | count |\n",
      "+------------+------+-------+\n",
      "|   156675   | 0.0  |   1   |\n",
      "+------------+------+-------+\n",
      "[1 rows x 3 columns]\n",
      "\n",
      "\n",
      "Per User RMSE (worst)\n",
      "+------------+------+-------+\n",
      "| customerId | rmse | count |\n",
      "+------------+------+-------+\n",
      "|   51146    | 0.0  |   1   |\n",
      "+------------+------+-------+\n",
      "[1 rows x 3 columns]\n",
      "\n",
      "\n",
      "Per Item RMSE (best)\n",
      "+-----------+------+-------+\n",
      "| productId | rmse | count |\n",
      "+-----------+------+-------+\n",
      "|    871    | 0.0  |   7   |\n",
      "+-----------+------+-------+\n",
      "[1 rows x 3 columns]\n",
      "\n",
      "\n",
      "Per Item RMSE (worst)\n",
      "+-----------+------+-------+\n",
      "| productId | rmse | count |\n",
      "+-----------+------+-------+\n",
      "|    2035   | 0.0  |   19  |\n",
      "+-----------+------+-------+\n",
      "[1 rows x 3 columns]\n",
      "\n",
      "PROGRESS: Evaluate model Cosine Similarity on Purchase Dummy\n"
     ]
    },
    {
     "data": {
      "text/html": [
       "<pre>recommendations finished on 1000/27766 queries. users per second: 23485.2</pre>"
      ],
      "text/plain": [
       "recommendations finished on 1000/27766 queries. users per second: 23485.2"
      ]
     },
     "metadata": {
      "tags": []
     },
     "output_type": "display_data"
    },
    {
     "data": {
      "text/html": [
       "<pre>recommendations finished on 2000/27766 queries. users per second: 23867.8</pre>"
      ],
      "text/plain": [
       "recommendations finished on 2000/27766 queries. users per second: 23867.8"
      ]
     },
     "metadata": {
      "tags": []
     },
     "output_type": "display_data"
    },
    {
     "data": {
      "text/html": [
       "<pre>recommendations finished on 3000/27766 queries. users per second: 24560.2</pre>"
      ],
      "text/plain": [
       "recommendations finished on 3000/27766 queries. users per second: 24560.2"
      ]
     },
     "metadata": {
      "tags": []
     },
     "output_type": "display_data"
    },
    {
     "data": {
      "text/html": [
       "<pre>recommendations finished on 4000/27766 queries. users per second: 24884.4</pre>"
      ],
      "text/plain": [
       "recommendations finished on 4000/27766 queries. users per second: 24884.4"
      ]
     },
     "metadata": {
      "tags": []
     },
     "output_type": "display_data"
    },
    {
     "data": {
      "text/html": [
       "<pre>recommendations finished on 5000/27766 queries. users per second: 25181.9</pre>"
      ],
      "text/plain": [
       "recommendations finished on 5000/27766 queries. users per second: 25181.9"
      ]
     },
     "metadata": {
      "tags": []
     },
     "output_type": "display_data"
    },
    {
     "data": {
      "text/html": [
       "<pre>recommendations finished on 6000/27766 queries. users per second: 25049.6</pre>"
      ],
      "text/plain": [
       "recommendations finished on 6000/27766 queries. users per second: 25049.6"
      ]
     },
     "metadata": {
      "tags": []
     },
     "output_type": "display_data"
    },
    {
     "data": {
      "text/html": [
       "<pre>recommendations finished on 7000/27766 queries. users per second: 25065.5</pre>"
      ],
      "text/plain": [
       "recommendations finished on 7000/27766 queries. users per second: 25065.5"
      ]
     },
     "metadata": {
      "tags": []
     },
     "output_type": "display_data"
    },
    {
     "data": {
      "text/html": [
       "<pre>recommendations finished on 8000/27766 queries. users per second: 25067.8</pre>"
      ],
      "text/plain": [
       "recommendations finished on 8000/27766 queries. users per second: 25067.8"
      ]
     },
     "metadata": {
      "tags": []
     },
     "output_type": "display_data"
    },
    {
     "data": {
      "text/html": [
       "<pre>recommendations finished on 9000/27766 queries. users per second: 25304.1</pre>"
      ],
      "text/plain": [
       "recommendations finished on 9000/27766 queries. users per second: 25304.1"
      ]
     },
     "metadata": {
      "tags": []
     },
     "output_type": "display_data"
    },
    {
     "data": {
      "text/html": [
       "<pre>recommendations finished on 10000/27766 queries. users per second: 25445.9</pre>"
      ],
      "text/plain": [
       "recommendations finished on 10000/27766 queries. users per second: 25445.9"
      ]
     },
     "metadata": {
      "tags": []
     },
     "output_type": "display_data"
    },
    {
     "data": {
      "text/html": [
       "<pre>recommendations finished on 11000/27766 queries. users per second: 25569.3</pre>"
      ],
      "text/plain": [
       "recommendations finished on 11000/27766 queries. users per second: 25569.3"
      ]
     },
     "metadata": {
      "tags": []
     },
     "output_type": "display_data"
    },
    {
     "data": {
      "text/html": [
       "<pre>recommendations finished on 12000/27766 queries. users per second: 25699</pre>"
      ],
      "text/plain": [
       "recommendations finished on 12000/27766 queries. users per second: 25699"
      ]
     },
     "metadata": {
      "tags": []
     },
     "output_type": "display_data"
    },
    {
     "data": {
      "text/html": [
       "<pre>recommendations finished on 13000/27766 queries. users per second: 25533.3</pre>"
      ],
      "text/plain": [
       "recommendations finished on 13000/27766 queries. users per second: 25533.3"
      ]
     },
     "metadata": {
      "tags": []
     },
     "output_type": "display_data"
    },
    {
     "data": {
      "text/html": [
       "<pre>recommendations finished on 14000/27766 queries. users per second: 25456.4</pre>"
      ],
      "text/plain": [
       "recommendations finished on 14000/27766 queries. users per second: 25456.4"
      ]
     },
     "metadata": {
      "tags": []
     },
     "output_type": "display_data"
    },
    {
     "data": {
      "text/html": [
       "<pre>recommendations finished on 15000/27766 queries. users per second: 25454.6</pre>"
      ],
      "text/plain": [
       "recommendations finished on 15000/27766 queries. users per second: 25454.6"
      ]
     },
     "metadata": {
      "tags": []
     },
     "output_type": "display_data"
    },
    {
     "data": {
      "text/html": [
       "<pre>recommendations finished on 16000/27766 queries. users per second: 25530.8</pre>"
      ],
      "text/plain": [
       "recommendations finished on 16000/27766 queries. users per second: 25530.8"
      ]
     },
     "metadata": {
      "tags": []
     },
     "output_type": "display_data"
    },
    {
     "data": {
      "text/html": [
       "<pre>recommendations finished on 17000/27766 queries. users per second: 25612.5</pre>"
      ],
      "text/plain": [
       "recommendations finished on 17000/27766 queries. users per second: 25612.5"
      ]
     },
     "metadata": {
      "tags": []
     },
     "output_type": "display_data"
    },
    {
     "data": {
      "text/html": [
       "<pre>recommendations finished on 18000/27766 queries. users per second: 25622</pre>"
      ],
      "text/plain": [
       "recommendations finished on 18000/27766 queries. users per second: 25622"
      ]
     },
     "metadata": {
      "tags": []
     },
     "output_type": "display_data"
    },
    {
     "data": {
      "text/html": [
       "<pre>recommendations finished on 19000/27766 queries. users per second: 25585.4</pre>"
      ],
      "text/plain": [
       "recommendations finished on 19000/27766 queries. users per second: 25585.4"
      ]
     },
     "metadata": {
      "tags": []
     },
     "output_type": "display_data"
    },
    {
     "data": {
      "text/html": [
       "<pre>recommendations finished on 20000/27766 queries. users per second: 25607.4</pre>"
      ],
      "text/plain": [
       "recommendations finished on 20000/27766 queries. users per second: 25607.4"
      ]
     },
     "metadata": {
      "tags": []
     },
     "output_type": "display_data"
    },
    {
     "data": {
      "text/html": [
       "<pre>recommendations finished on 21000/27766 queries. users per second: 25665.7</pre>"
      ],
      "text/plain": [
       "recommendations finished on 21000/27766 queries. users per second: 25665.7"
      ]
     },
     "metadata": {
      "tags": []
     },
     "output_type": "display_data"
    },
    {
     "data": {
      "text/html": [
       "<pre>recommendations finished on 22000/27766 queries. users per second: 25685.9</pre>"
      ],
      "text/plain": [
       "recommendations finished on 22000/27766 queries. users per second: 25685.9"
      ]
     },
     "metadata": {
      "tags": []
     },
     "output_type": "display_data"
    },
    {
     "data": {
      "text/html": [
       "<pre>recommendations finished on 23000/27766 queries. users per second: 25684.7</pre>"
      ],
      "text/plain": [
       "recommendations finished on 23000/27766 queries. users per second: 25684.7"
      ]
     },
     "metadata": {
      "tags": []
     },
     "output_type": "display_data"
    },
    {
     "data": {
      "text/html": [
       "<pre>recommendations finished on 24000/27766 queries. users per second: 25745.4</pre>"
      ],
      "text/plain": [
       "recommendations finished on 24000/27766 queries. users per second: 25745.4"
      ]
     },
     "metadata": {
      "tags": []
     },
     "output_type": "display_data"
    },
    {
     "data": {
      "text/html": [
       "<pre>recommendations finished on 25000/27766 queries. users per second: 25662.1</pre>"
      ],
      "text/plain": [
       "recommendations finished on 25000/27766 queries. users per second: 25662.1"
      ]
     },
     "metadata": {
      "tags": []
     },
     "output_type": "display_data"
    },
    {
     "data": {
      "text/html": [
       "<pre>recommendations finished on 26000/27766 queries. users per second: 25696</pre>"
      ],
      "text/plain": [
       "recommendations finished on 26000/27766 queries. users per second: 25696"
      ]
     },
     "metadata": {
      "tags": []
     },
     "output_type": "display_data"
    },
    {
     "data": {
      "text/html": [
       "<pre>recommendations finished on 27000/27766 queries. users per second: 25484.8</pre>"
      ],
      "text/plain": [
       "recommendations finished on 27000/27766 queries. users per second: 25484.8"
      ]
     },
     "metadata": {
      "tags": []
     },
     "output_type": "display_data"
    },
    {
     "name": "stdout",
     "output_type": "stream",
     "text": [
      "\n",
      "Precision and recall summary statistics by cutoff\n",
      "+--------+----------------------+----------------------+\n",
      "| cutoff |    mean_precision    |     mean_recall      |\n",
      "+--------+----------------------+----------------------+\n",
      "|   1    |  0.0747677015054382  | 0.046768611059920424 |\n",
      "|   2    | 0.059929410069869744 | 0.07471108854050264  |\n",
      "|   3    | 0.05124972988547161  | 0.09564545945061086  |\n",
      "|   4    | 0.04536123316286117  | 0.11209824971939862  |\n",
      "|   5    | 0.04097097169199697  | 0.12580529137519114  |\n",
      "|   6    | 0.03767797546159581  |  0.1391488633354173  |\n",
      "|   7    |  0.0346106749261685  | 0.14900650011626712  |\n",
      "|   8    |  0.0322831880717423  |  0.1585900778389377  |\n",
      "|   9    | 0.03033286113312051  | 0.16701680791534534  |\n",
      "|   10   | 0.02863574155441901  | 0.17510206463562572  |\n",
      "+--------+----------------------+----------------------+\n",
      "[10 rows x 3 columns]\n",
      "\n",
      "\n",
      "Overall RMSE: 0.9849732205561309\n",
      "\n",
      "Per User RMSE (best)\n",
      "+------------+---------------------+-------+\n",
      "| customerId |         rmse        | count |\n",
      "+------------+---------------------+-------+\n",
      "|   95629    | 0.47184421618779504 |   1   |\n",
      "+------------+---------------------+-------+\n",
      "[1 rows x 3 columns]\n",
      "\n",
      "\n",
      "Per User RMSE (worst)\n",
      "+------------+------+-------+\n",
      "| customerId | rmse | count |\n",
      "+------------+------+-------+\n",
      "|   30459    | 1.0  |   1   |\n",
      "+------------+------+-------+\n",
      "[1 rows x 3 columns]\n",
      "\n",
      "\n",
      "Per Item RMSE (best)\n",
      "+-----------+--------------------+-------+\n",
      "| productId |        rmse        | count |\n",
      "+-----------+--------------------+-------+\n",
      "|    2672   | 0.7250791635485299 |   2   |\n",
      "+-----------+--------------------+-------+\n",
      "[1 rows x 3 columns]\n",
      "\n",
      "\n",
      "Per Item RMSE (worst)\n",
      "+-----------+------+-------+\n",
      "| productId | rmse | count |\n",
      "+-----------+------+-------+\n",
      "|    1611   | 1.0  |   2   |\n",
      "+-----------+------+-------+\n",
      "[1 rows x 3 columns]\n",
      "\n",
      "PROGRESS: Evaluate model Pearson Similarity on Purchase Dummy\n"
     ]
    },
    {
     "data": {
      "text/html": [
       "<pre>recommendations finished on 1000/27766 queries. users per second: 23002.3</pre>"
      ],
      "text/plain": [
       "recommendations finished on 1000/27766 queries. users per second: 23002.3"
      ]
     },
     "metadata": {
      "tags": []
     },
     "output_type": "display_data"
    },
    {
     "data": {
      "text/html": [
       "<pre>recommendations finished on 2000/27766 queries. users per second: 22305.7</pre>"
      ],
      "text/plain": [
       "recommendations finished on 2000/27766 queries. users per second: 22305.7"
      ]
     },
     "metadata": {
      "tags": []
     },
     "output_type": "display_data"
    },
    {
     "data": {
      "text/html": [
       "<pre>recommendations finished on 3000/27766 queries. users per second: 23181.2</pre>"
      ],
      "text/plain": [
       "recommendations finished on 3000/27766 queries. users per second: 23181.2"
      ]
     },
     "metadata": {
      "tags": []
     },
     "output_type": "display_data"
    },
    {
     "data": {
      "text/html": [
       "<pre>recommendations finished on 4000/27766 queries. users per second: 23553</pre>"
      ],
      "text/plain": [
       "recommendations finished on 4000/27766 queries. users per second: 23553"
      ]
     },
     "metadata": {
      "tags": []
     },
     "output_type": "display_data"
    },
    {
     "data": {
      "text/html": [
       "<pre>recommendations finished on 5000/27766 queries. users per second: 24036.7</pre>"
      ],
      "text/plain": [
       "recommendations finished on 5000/27766 queries. users per second: 24036.7"
      ]
     },
     "metadata": {
      "tags": []
     },
     "output_type": "display_data"
    },
    {
     "data": {
      "text/html": [
       "<pre>recommendations finished on 6000/27766 queries. users per second: 24094.5</pre>"
      ],
      "text/plain": [
       "recommendations finished on 6000/27766 queries. users per second: 24094.5"
      ]
     },
     "metadata": {
      "tags": []
     },
     "output_type": "display_data"
    },
    {
     "data": {
      "text/html": [
       "<pre>recommendations finished on 7000/27766 queries. users per second: 23906.8</pre>"
      ],
      "text/plain": [
       "recommendations finished on 7000/27766 queries. users per second: 23906.8"
      ]
     },
     "metadata": {
      "tags": []
     },
     "output_type": "display_data"
    },
    {
     "data": {
      "text/html": [
       "<pre>recommendations finished on 8000/27766 queries. users per second: 23815.8</pre>"
      ],
      "text/plain": [
       "recommendations finished on 8000/27766 queries. users per second: 23815.8"
      ]
     },
     "metadata": {
      "tags": []
     },
     "output_type": "display_data"
    },
    {
     "data": {
      "text/html": [
       "<pre>recommendations finished on 9000/27766 queries. users per second: 23993.4</pre>"
      ],
      "text/plain": [
       "recommendations finished on 9000/27766 queries. users per second: 23993.4"
      ]
     },
     "metadata": {
      "tags": []
     },
     "output_type": "display_data"
    },
    {
     "data": {
      "text/html": [
       "<pre>recommendations finished on 10000/27766 queries. users per second: 24197.4</pre>"
      ],
      "text/plain": [
       "recommendations finished on 10000/27766 queries. users per second: 24197.4"
      ]
     },
     "metadata": {
      "tags": []
     },
     "output_type": "display_data"
    },
    {
     "data": {
      "text/html": [
       "<pre>recommendations finished on 11000/27766 queries. users per second: 24356.4</pre>"
      ],
      "text/plain": [
       "recommendations finished on 11000/27766 queries. users per second: 24356.4"
      ]
     },
     "metadata": {
      "tags": []
     },
     "output_type": "display_data"
    },
    {
     "data": {
      "text/html": [
       "<pre>recommendations finished on 12000/27766 queries. users per second: 24414.4</pre>"
      ],
      "text/plain": [
       "recommendations finished on 12000/27766 queries. users per second: 24414.4"
      ]
     },
     "metadata": {
      "tags": []
     },
     "output_type": "display_data"
    },
    {
     "data": {
      "text/html": [
       "<pre>recommendations finished on 13000/27766 queries. users per second: 24079.1</pre>"
      ],
      "text/plain": [
       "recommendations finished on 13000/27766 queries. users per second: 24079.1"
      ]
     },
     "metadata": {
      "tags": []
     },
     "output_type": "display_data"
    },
    {
     "data": {
      "text/html": [
       "<pre>recommendations finished on 14000/27766 queries. users per second: 24215.1</pre>"
      ],
      "text/plain": [
       "recommendations finished on 14000/27766 queries. users per second: 24215.1"
      ]
     },
     "metadata": {
      "tags": []
     },
     "output_type": "display_data"
    },
    {
     "data": {
      "text/html": [
       "<pre>recommendations finished on 15000/27766 queries. users per second: 24348.2</pre>"
      ],
      "text/plain": [
       "recommendations finished on 15000/27766 queries. users per second: 24348.2"
      ]
     },
     "metadata": {
      "tags": []
     },
     "output_type": "display_data"
    },
    {
     "data": {
      "text/html": [
       "<pre>recommendations finished on 16000/27766 queries. users per second: 24357</pre>"
      ],
      "text/plain": [
       "recommendations finished on 16000/27766 queries. users per second: 24357"
      ]
     },
     "metadata": {
      "tags": []
     },
     "output_type": "display_data"
    },
    {
     "data": {
      "text/html": [
       "<pre>recommendations finished on 17000/27766 queries. users per second: 24398.8</pre>"
      ],
      "text/plain": [
       "recommendations finished on 17000/27766 queries. users per second: 24398.8"
      ]
     },
     "metadata": {
      "tags": []
     },
     "output_type": "display_data"
    },
    {
     "data": {
      "text/html": [
       "<pre>recommendations finished on 18000/27766 queries. users per second: 24442.9</pre>"
      ],
      "text/plain": [
       "recommendations finished on 18000/27766 queries. users per second: 24442.9"
      ]
     },
     "metadata": {
      "tags": []
     },
     "output_type": "display_data"
    },
    {
     "data": {
      "text/html": [
       "<pre>recommendations finished on 19000/27766 queries. users per second: 24333</pre>"
      ],
      "text/plain": [
       "recommendations finished on 19000/27766 queries. users per second: 24333"
      ]
     },
     "metadata": {
      "tags": []
     },
     "output_type": "display_data"
    },
    {
     "data": {
      "text/html": [
       "<pre>recommendations finished on 20000/27766 queries. users per second: 24423.5</pre>"
      ],
      "text/plain": [
       "recommendations finished on 20000/27766 queries. users per second: 24423.5"
      ]
     },
     "metadata": {
      "tags": []
     },
     "output_type": "display_data"
    },
    {
     "data": {
      "text/html": [
       "<pre>recommendations finished on 21000/27766 queries. users per second: 24506.4</pre>"
      ],
      "text/plain": [
       "recommendations finished on 21000/27766 queries. users per second: 24506.4"
      ]
     },
     "metadata": {
      "tags": []
     },
     "output_type": "display_data"
    },
    {
     "data": {
      "text/html": [
       "<pre>recommendations finished on 22000/27766 queries. users per second: 24579.2</pre>"
      ],
      "text/plain": [
       "recommendations finished on 22000/27766 queries. users per second: 24579.2"
      ]
     },
     "metadata": {
      "tags": []
     },
     "output_type": "display_data"
    },
    {
     "data": {
      "text/html": [
       "<pre>recommendations finished on 23000/27766 queries. users per second: 24481.6</pre>"
      ],
      "text/plain": [
       "recommendations finished on 23000/27766 queries. users per second: 24481.6"
      ]
     },
     "metadata": {
      "tags": []
     },
     "output_type": "display_data"
    },
    {
     "data": {
      "text/html": [
       "<pre>recommendations finished on 24000/27766 queries. users per second: 24547.8</pre>"
      ],
      "text/plain": [
       "recommendations finished on 24000/27766 queries. users per second: 24547.8"
      ]
     },
     "metadata": {
      "tags": []
     },
     "output_type": "display_data"
    },
    {
     "data": {
      "text/html": [
       "<pre>recommendations finished on 25000/27766 queries. users per second: 24327.6</pre>"
      ],
      "text/plain": [
       "recommendations finished on 25000/27766 queries. users per second: 24327.6"
      ]
     },
     "metadata": {
      "tags": []
     },
     "output_type": "display_data"
    },
    {
     "data": {
      "text/html": [
       "<pre>recommendations finished on 26000/27766 queries. users per second: 24354.4</pre>"
      ],
      "text/plain": [
       "recommendations finished on 26000/27766 queries. users per second: 24354.4"
      ]
     },
     "metadata": {
      "tags": []
     },
     "output_type": "display_data"
    },
    {
     "data": {
      "text/html": [
       "<pre>recommendations finished on 27000/27766 queries. users per second: 24315.3</pre>"
      ],
      "text/plain": [
       "recommendations finished on 27000/27766 queries. users per second: 24315.3"
      ]
     },
     "metadata": {
      "tags": []
     },
     "output_type": "display_data"
    },
    {
     "name": "stdout",
     "output_type": "stream",
     "text": [
      "\n",
      "Precision and recall summary statistics by cutoff\n",
      "+--------+------------------------+------------------------+\n",
      "| cutoff |     mean_precision     |      mean_recall       |\n",
      "+--------+------------------------+------------------------+\n",
      "|   1    | 0.00018007635237340556 | 0.0001320559917404977  |\n",
      "|   2    | 0.0001620687171360666  | 0.00019208144253163393 |\n",
      "|   3    | 0.00018007635237340537 | 0.0003631539772863691  |\n",
      "|   4    | 0.0001530648995173963  | 0.00039916924776104947 |\n",
      "|   5    | 0.00015126413599366088 | 0.00044633210195408604 |\n",
      "|   6    | 0.00014406108189872618 | 0.00048234737242876534 |\n",
      "|   7    | 0.00012862596598100525 | 0.0004913511900474357  |\n",
      "|   8    | 0.00012605344666138477 |  0.000528566969537943  |\n",
      "|   9    | 0.00013605768845990687 | 0.0006846331415948929  |\n",
      "|   10   | 0.00013685802780379077 | 0.0007656675001629252  |\n",
      "+--------+------------------------+------------------------+\n",
      "[10 rows x 3 columns]\n",
      "\n",
      "\n",
      "Overall RMSE: 1.0\n",
      "\n",
      "Per User RMSE (best)\n",
      "+------------+------+-------+\n",
      "| customerId | rmse | count |\n",
      "+------------+------+-------+\n",
      "|   156675   | 1.0  |   1   |\n",
      "+------------+------+-------+\n",
      "[1 rows x 3 columns]\n",
      "\n",
      "\n",
      "Per User RMSE (worst)\n",
      "+------------+------+-------+\n",
      "| customerId | rmse | count |\n",
      "+------------+------+-------+\n",
      "|   51146    | 1.0  |   1   |\n",
      "+------------+------+-------+\n",
      "[1 rows x 3 columns]\n",
      "\n",
      "\n",
      "Per Item RMSE (best)\n",
      "+-----------+------+-------+\n",
      "| productId | rmse | count |\n",
      "+-----------+------+-------+\n",
      "|    871    | 1.0  |   7   |\n",
      "+-----------+------+-------+\n",
      "[1 rows x 3 columns]\n",
      "\n",
      "\n",
      "Per Item RMSE (worst)\n",
      "+-----------+------+-------+\n",
      "| productId | rmse | count |\n",
      "+-----------+------+-------+\n",
      "|    2035   | 1.0  |   19  |\n",
      "+-----------+------+-------+\n",
      "[1 rows x 3 columns]\n",
      "\n"
     ]
    }
   ],
   "source": [
    "eval_dummy = tc.recommender.util.compare_models(test_data_dummy, models_w_dummy, model_names=names_w_dummy)"
   ]
  },
  {
   "cell_type": "code",
   "execution_count": 32,
   "metadata": {
    "colab": {
     "base_uri": "https://localhost:8080/",
     "height": 1000
    },
    "colab_type": "code",
    "id": "UOdEiyq_xo17",
    "outputId": "a5afc971-8333-4d2b-8251-c5a6acd8d4da"
   },
   "outputs": [
    {
     "name": "stdout",
     "output_type": "stream",
     "text": [
      "PROGRESS: Evaluate model Popularity Model on Scaled Purchase Counts\n"
     ]
    },
    {
     "data": {
      "text/html": [
       "<pre>recommendations finished on 1000/24896 queries. users per second: 30910.9</pre>"
      ],
      "text/plain": [
       "recommendations finished on 1000/24896 queries. users per second: 30910.9"
      ]
     },
     "metadata": {
      "tags": []
     },
     "output_type": "display_data"
    },
    {
     "data": {
      "text/html": [
       "<pre>recommendations finished on 2000/24896 queries. users per second: 31280.3</pre>"
      ],
      "text/plain": [
       "recommendations finished on 2000/24896 queries. users per second: 31280.3"
      ]
     },
     "metadata": {
      "tags": []
     },
     "output_type": "display_data"
    },
    {
     "data": {
      "text/html": [
       "<pre>recommendations finished on 3000/24896 queries. users per second: 32459.1</pre>"
      ],
      "text/plain": [
       "recommendations finished on 3000/24896 queries. users per second: 32459.1"
      ]
     },
     "metadata": {
      "tags": []
     },
     "output_type": "display_data"
    },
    {
     "data": {
      "text/html": [
       "<pre>recommendations finished on 4000/24896 queries. users per second: 32470.7</pre>"
      ],
      "text/plain": [
       "recommendations finished on 4000/24896 queries. users per second: 32470.7"
      ]
     },
     "metadata": {
      "tags": []
     },
     "output_type": "display_data"
    },
    {
     "data": {
      "text/html": [
       "<pre>recommendations finished on 5000/24896 queries. users per second: 33005.9</pre>"
      ],
      "text/plain": [
       "recommendations finished on 5000/24896 queries. users per second: 33005.9"
      ]
     },
     "metadata": {
      "tags": []
     },
     "output_type": "display_data"
    },
    {
     "data": {
      "text/html": [
       "<pre>recommendations finished on 6000/24896 queries. users per second: 33007.7</pre>"
      ],
      "text/plain": [
       "recommendations finished on 6000/24896 queries. users per second: 33007.7"
      ]
     },
     "metadata": {
      "tags": []
     },
     "output_type": "display_data"
    },
    {
     "data": {
      "text/html": [
       "<pre>recommendations finished on 7000/24896 queries. users per second: 32858.5</pre>"
      ],
      "text/plain": [
       "recommendations finished on 7000/24896 queries. users per second: 32858.5"
      ]
     },
     "metadata": {
      "tags": []
     },
     "output_type": "display_data"
    },
    {
     "data": {
      "text/html": [
       "<pre>recommendations finished on 8000/24896 queries. users per second: 31892.5</pre>"
      ],
      "text/plain": [
       "recommendations finished on 8000/24896 queries. users per second: 31892.5"
      ]
     },
     "metadata": {
      "tags": []
     },
     "output_type": "display_data"
    },
    {
     "data": {
      "text/html": [
       "<pre>recommendations finished on 9000/24896 queries. users per second: 32282</pre>"
      ],
      "text/plain": [
       "recommendations finished on 9000/24896 queries. users per second: 32282"
      ]
     },
     "metadata": {
      "tags": []
     },
     "output_type": "display_data"
    },
    {
     "data": {
      "text/html": [
       "<pre>recommendations finished on 10000/24896 queries. users per second: 32626.5</pre>"
      ],
      "text/plain": [
       "recommendations finished on 10000/24896 queries. users per second: 32626.5"
      ]
     },
     "metadata": {
      "tags": []
     },
     "output_type": "display_data"
    },
    {
     "data": {
      "text/html": [
       "<pre>recommendations finished on 11000/24896 queries. users per second: 32512.9</pre>"
      ],
      "text/plain": [
       "recommendations finished on 11000/24896 queries. users per second: 32512.9"
      ]
     },
     "metadata": {
      "tags": []
     },
     "output_type": "display_data"
    },
    {
     "data": {
      "text/html": [
       "<pre>recommendations finished on 12000/24896 queries. users per second: 32723.1</pre>"
      ],
      "text/plain": [
       "recommendations finished on 12000/24896 queries. users per second: 32723.1"
      ]
     },
     "metadata": {
      "tags": []
     },
     "output_type": "display_data"
    },
    {
     "data": {
      "text/html": [
       "<pre>recommendations finished on 13000/24896 queries. users per second: 32494.7</pre>"
      ],
      "text/plain": [
       "recommendations finished on 13000/24896 queries. users per second: 32494.7"
      ]
     },
     "metadata": {
      "tags": []
     },
     "output_type": "display_data"
    },
    {
     "data": {
      "text/html": [
       "<pre>recommendations finished on 14000/24896 queries. users per second: 32579.7</pre>"
      ],
      "text/plain": [
       "recommendations finished on 14000/24896 queries. users per second: 32579.7"
      ]
     },
     "metadata": {
      "tags": []
     },
     "output_type": "display_data"
    },
    {
     "data": {
      "text/html": [
       "<pre>recommendations finished on 15000/24896 queries. users per second: 32859.5</pre>"
      ],
      "text/plain": [
       "recommendations finished on 15000/24896 queries. users per second: 32859.5"
      ]
     },
     "metadata": {
      "tags": []
     },
     "output_type": "display_data"
    },
    {
     "data": {
      "text/html": [
       "<pre>recommendations finished on 16000/24896 queries. users per second: 32983.9</pre>"
      ],
      "text/plain": [
       "recommendations finished on 16000/24896 queries. users per second: 32983.9"
      ]
     },
     "metadata": {
      "tags": []
     },
     "output_type": "display_data"
    },
    {
     "data": {
      "text/html": [
       "<pre>recommendations finished on 17000/24896 queries. users per second: 33016.3</pre>"
      ],
      "text/plain": [
       "recommendations finished on 17000/24896 queries. users per second: 33016.3"
      ]
     },
     "metadata": {
      "tags": []
     },
     "output_type": "display_data"
    },
    {
     "data": {
      "text/html": [
       "<pre>recommendations finished on 18000/24896 queries. users per second: 32864.5</pre>"
      ],
      "text/plain": [
       "recommendations finished on 18000/24896 queries. users per second: 32864.5"
      ]
     },
     "metadata": {
      "tags": []
     },
     "output_type": "display_data"
    },
    {
     "data": {
      "text/html": [
       "<pre>recommendations finished on 19000/24896 queries. users per second: 33035.8</pre>"
      ],
      "text/plain": [
       "recommendations finished on 19000/24896 queries. users per second: 33035.8"
      ]
     },
     "metadata": {
      "tags": []
     },
     "output_type": "display_data"
    },
    {
     "data": {
      "text/html": [
       "<pre>recommendations finished on 20000/24896 queries. users per second: 33152.4</pre>"
      ],
      "text/plain": [
       "recommendations finished on 20000/24896 queries. users per second: 33152.4"
      ]
     },
     "metadata": {
      "tags": []
     },
     "output_type": "display_data"
    },
    {
     "data": {
      "text/html": [
       "<pre>recommendations finished on 21000/24896 queries. users per second: 33296.5</pre>"
      ],
      "text/plain": [
       "recommendations finished on 21000/24896 queries. users per second: 33296.5"
      ]
     },
     "metadata": {
      "tags": []
     },
     "output_type": "display_data"
    },
    {
     "data": {
      "text/html": [
       "<pre>recommendations finished on 22000/24896 queries. users per second: 33243</pre>"
      ],
      "text/plain": [
       "recommendations finished on 22000/24896 queries. users per second: 33243"
      ]
     },
     "metadata": {
      "tags": []
     },
     "output_type": "display_data"
    },
    {
     "data": {
      "text/html": [
       "<pre>recommendations finished on 23000/24896 queries. users per second: 33130</pre>"
      ],
      "text/plain": [
       "recommendations finished on 23000/24896 queries. users per second: 33130"
      ]
     },
     "metadata": {
      "tags": []
     },
     "output_type": "display_data"
    },
    {
     "data": {
      "text/html": [
       "<pre>recommendations finished on 24000/24896 queries. users per second: 32411.8</pre>"
      ],
      "text/plain": [
       "recommendations finished on 24000/24896 queries. users per second: 32411.8"
      ]
     },
     "metadata": {
      "tags": []
     },
     "output_type": "display_data"
    },
    {
     "name": "stdout",
     "output_type": "stream",
     "text": [
      "\n",
      "Precision and recall summary statistics by cutoff\n",
      "+--------+------------------------+------------------------+\n",
      "| cutoff |     mean_precision     |      mean_recall       |\n",
      "+--------+------------------------+------------------------+\n",
      "|   1    | 0.00012050128534704375 | 7.029241645244174e-05  |\n",
      "|   2    | 0.00010041773778920306 |  9.17148671808055e-05  |\n",
      "|   3    | 6.694515852613504e-05  |  9.17148671808055e-05  |\n",
      "|   4    | 5.020886889460153e-05  |  9.17148671808055e-05  |\n",
      "|   5    | 4.820051413881787e-05  | 0.0001318819622964865  |\n",
      "|   6    | 4.686161096829482e-05  | 0.0001363449728648958  |\n",
      "|   7    | 5.164340800587602e-05  | 0.00016981755212796363 |\n",
      "|   8    | 9.539685089974318e-05  | 0.00037371337781042256 |\n",
      "|   9    | 8.479720079977193e-05  | 0.00037371337781042245 |\n",
      "|   10   | 8.033419023136291e-05  | 0.00039379692536826007 |\n",
      "+--------+------------------------+------------------------+\n",
      "[10 rows x 3 columns]\n",
      "\n",
      "\n",
      "Overall RMSE: 0.1683386116177798\n",
      "\n",
      "Per User RMSE (best)\n",
      "+------------+------+-------+\n",
      "| customerId | rmse | count |\n",
      "+------------+------+-------+\n",
      "|   113162   | 0.0  |   1   |\n",
      "+------------+------+-------+\n",
      "[1 rows x 3 columns]\n",
      "\n",
      "\n",
      "Per User RMSE (worst)\n",
      "+------------+------+-------+\n",
      "| customerId | rmse | count |\n",
      "+------------+------+-------+\n",
      "|   101076   | 1.0  |   1   |\n",
      "+------------+------+-------+\n",
      "[1 rows x 3 columns]\n",
      "\n",
      "\n",
      "Per Item RMSE (best)\n",
      "+-----------+------+-------+\n",
      "| productId | rmse | count |\n",
      "+-----------+------+-------+\n",
      "|    2197   | 0.0  |   1   |\n",
      "+-----------+------+-------+\n",
      "[1 rows x 3 columns]\n",
      "\n",
      "\n",
      "Per Item RMSE (worst)\n",
      "+-----------+------+-------+\n",
      "| productId | rmse | count |\n",
      "+-----------+------+-------+\n",
      "|    1789   | 1.0  |   1   |\n",
      "+-----------+------+-------+\n",
      "[1 rows x 3 columns]\n",
      "\n",
      "PROGRESS: Evaluate model Cosine Similarity on Scaled Purchase Counts\n"
     ]
    },
    {
     "data": {
      "text/html": [
       "<pre>recommendations finished on 1000/24896 queries. users per second: 33661</pre>"
      ],
      "text/plain": [
       "recommendations finished on 1000/24896 queries. users per second: 33661"
      ]
     },
     "metadata": {
      "tags": []
     },
     "output_type": "display_data"
    },
    {
     "data": {
      "text/html": [
       "<pre>recommendations finished on 2000/24896 queries. users per second: 33963.4</pre>"
      ],
      "text/plain": [
       "recommendations finished on 2000/24896 queries. users per second: 33963.4"
      ]
     },
     "metadata": {
      "tags": []
     },
     "output_type": "display_data"
    },
    {
     "data": {
      "text/html": [
       "<pre>recommendations finished on 3000/24896 queries. users per second: 34804.8</pre>"
      ],
      "text/plain": [
       "recommendations finished on 3000/24896 queries. users per second: 34804.8"
      ]
     },
     "metadata": {
      "tags": []
     },
     "output_type": "display_data"
    },
    {
     "data": {
      "text/html": [
       "<pre>recommendations finished on 4000/24896 queries. users per second: 35409.2</pre>"
      ],
      "text/plain": [
       "recommendations finished on 4000/24896 queries. users per second: 35409.2"
      ]
     },
     "metadata": {
      "tags": []
     },
     "output_type": "display_data"
    },
    {
     "data": {
      "text/html": [
       "<pre>recommendations finished on 5000/24896 queries. users per second: 35617.1</pre>"
      ],
      "text/plain": [
       "recommendations finished on 5000/24896 queries. users per second: 35617.1"
      ]
     },
     "metadata": {
      "tags": []
     },
     "output_type": "display_data"
    },
    {
     "data": {
      "text/html": [
       "<pre>recommendations finished on 6000/24896 queries. users per second: 35588.7</pre>"
      ],
      "text/plain": [
       "recommendations finished on 6000/24896 queries. users per second: 35588.7"
      ]
     },
     "metadata": {
      "tags": []
     },
     "output_type": "display_data"
    },
    {
     "data": {
      "text/html": [
       "<pre>recommendations finished on 7000/24896 queries. users per second: 35711.4</pre>"
      ],
      "text/plain": [
       "recommendations finished on 7000/24896 queries. users per second: 35711.4"
      ]
     },
     "metadata": {
      "tags": []
     },
     "output_type": "display_data"
    },
    {
     "data": {
      "text/html": [
       "<pre>recommendations finished on 8000/24896 queries. users per second: 35975.4</pre>"
      ],
      "text/plain": [
       "recommendations finished on 8000/24896 queries. users per second: 35975.4"
      ]
     },
     "metadata": {
      "tags": []
     },
     "output_type": "display_data"
    },
    {
     "data": {
      "text/html": [
       "<pre>recommendations finished on 9000/24896 queries. users per second: 36074.9</pre>"
      ],
      "text/plain": [
       "recommendations finished on 9000/24896 queries. users per second: 36074.9"
      ]
     },
     "metadata": {
      "tags": []
     },
     "output_type": "display_data"
    },
    {
     "data": {
      "text/html": [
       "<pre>recommendations finished on 10000/24896 queries. users per second: 36317</pre>"
      ],
      "text/plain": [
       "recommendations finished on 10000/24896 queries. users per second: 36317"
      ]
     },
     "metadata": {
      "tags": []
     },
     "output_type": "display_data"
    },
    {
     "data": {
      "text/html": [
       "<pre>recommendations finished on 11000/24896 queries. users per second: 36474.6</pre>"
      ],
      "text/plain": [
       "recommendations finished on 11000/24896 queries. users per second: 36474.6"
      ]
     },
     "metadata": {
      "tags": []
     },
     "output_type": "display_data"
    },
    {
     "data": {
      "text/html": [
       "<pre>recommendations finished on 12000/24896 queries. users per second: 36223.8</pre>"
      ],
      "text/plain": [
       "recommendations finished on 12000/24896 queries. users per second: 36223.8"
      ]
     },
     "metadata": {
      "tags": []
     },
     "output_type": "display_data"
    },
    {
     "data": {
      "text/html": [
       "<pre>recommendations finished on 13000/24896 queries. users per second: 36434.4</pre>"
      ],
      "text/plain": [
       "recommendations finished on 13000/24896 queries. users per second: 36434.4"
      ]
     },
     "metadata": {
      "tags": []
     },
     "output_type": "display_data"
    },
    {
     "data": {
      "text/html": [
       "<pre>recommendations finished on 14000/24896 queries. users per second: 36677.3</pre>"
      ],
      "text/plain": [
       "recommendations finished on 14000/24896 queries. users per second: 36677.3"
      ]
     },
     "metadata": {
      "tags": []
     },
     "output_type": "display_data"
    },
    {
     "data": {
      "text/html": [
       "<pre>recommendations finished on 15000/24896 queries. users per second: 36666.3</pre>"
      ],
      "text/plain": [
       "recommendations finished on 15000/24896 queries. users per second: 36666.3"
      ]
     },
     "metadata": {
      "tags": []
     },
     "output_type": "display_data"
    },
    {
     "data": {
      "text/html": [
       "<pre>recommendations finished on 16000/24896 queries. users per second: 36816.2</pre>"
      ],
      "text/plain": [
       "recommendations finished on 16000/24896 queries. users per second: 36816.2"
      ]
     },
     "metadata": {
      "tags": []
     },
     "output_type": "display_data"
    },
    {
     "data": {
      "text/html": [
       "<pre>recommendations finished on 17000/24896 queries. users per second: 36903.7</pre>"
      ],
      "text/plain": [
       "recommendations finished on 17000/24896 queries. users per second: 36903.7"
      ]
     },
     "metadata": {
      "tags": []
     },
     "output_type": "display_data"
    },
    {
     "data": {
      "text/html": [
       "<pre>recommendations finished on 18000/24896 queries. users per second: 37071</pre>"
      ],
      "text/plain": [
       "recommendations finished on 18000/24896 queries. users per second: 37071"
      ]
     },
     "metadata": {
      "tags": []
     },
     "output_type": "display_data"
    },
    {
     "data": {
      "text/html": [
       "<pre>recommendations finished on 19000/24896 queries. users per second: 37046.8</pre>"
      ],
      "text/plain": [
       "recommendations finished on 19000/24896 queries. users per second: 37046.8"
      ]
     },
     "metadata": {
      "tags": []
     },
     "output_type": "display_data"
    },
    {
     "data": {
      "text/html": [
       "<pre>recommendations finished on 20000/24896 queries. users per second: 36928.9</pre>"
      ],
      "text/plain": [
       "recommendations finished on 20000/24896 queries. users per second: 36928.9"
      ]
     },
     "metadata": {
      "tags": []
     },
     "output_type": "display_data"
    },
    {
     "data": {
      "text/html": [
       "<pre>recommendations finished on 21000/24896 queries. users per second: 37111.3</pre>"
      ],
      "text/plain": [
       "recommendations finished on 21000/24896 queries. users per second: 37111.3"
      ]
     },
     "metadata": {
      "tags": []
     },
     "output_type": "display_data"
    },
    {
     "data": {
      "text/html": [
       "<pre>recommendations finished on 22000/24896 queries. users per second: 37142.2</pre>"
      ],
      "text/plain": [
       "recommendations finished on 22000/24896 queries. users per second: 37142.2"
      ]
     },
     "metadata": {
      "tags": []
     },
     "output_type": "display_data"
    },
    {
     "data": {
      "text/html": [
       "<pre>recommendations finished on 23000/24896 queries. users per second: 37059.8</pre>"
      ],
      "text/plain": [
       "recommendations finished on 23000/24896 queries. users per second: 37059.8"
      ]
     },
     "metadata": {
      "tags": []
     },
     "output_type": "display_data"
    },
    {
     "data": {
      "text/html": [
       "<pre>recommendations finished on 24000/24896 queries. users per second: 37123.6</pre>"
      ],
      "text/plain": [
       "recommendations finished on 24000/24896 queries. users per second: 37123.6"
      ]
     },
     "metadata": {
      "tags": []
     },
     "output_type": "display_data"
    },
    {
     "name": "stdout",
     "output_type": "stream",
     "text": [
      "\n",
      "Precision and recall summary statistics by cutoff\n",
      "+--------+-----------------------+----------------------+\n",
      "| cutoff |     mean_precision    |     mean_recall      |\n",
      "+--------+-----------------------+----------------------+\n",
      "|   1    |  0.007149742930591267 | 0.004853858718937477 |\n",
      "|   2    |  0.005281973007712073 | 0.006965420594115968 |\n",
      "|   3    |  0.004739717223650379 | 0.009345320979720049 |\n",
      "|   4    |  0.004368171593830319 | 0.011436353006283916 |\n",
      "|   5    |  0.004233611825192829 | 0.013751364406088082 |\n",
      "|   6    |  0.004043487574978601 |  0.0156596839678459  |\n",
      "|   7    | 0.0039134226955563805 | 0.017618276155792128 |\n",
      "|   8    |  0.003916291773778928 | 0.020051445760394825 |\n",
      "|   9    | 0.0037712439303056447 | 0.02178934207573339  |\n",
      "|   10   |  0.003703406169665816 | 0.023647404950626425 |\n",
      "+--------+-----------------------+----------------------+\n",
      "[10 rows x 3 columns]\n",
      "\n",
      "\n",
      "Overall RMSE: 0.18943607062753104\n",
      "\n",
      "Per User RMSE (best)\n",
      "+------------+------+-------+\n",
      "| customerId | rmse | count |\n",
      "+------------+------+-------+\n",
      "|   156675   | 0.0  |   1   |\n",
      "+------------+------+-------+\n",
      "[1 rows x 3 columns]\n",
      "\n",
      "\n",
      "Per User RMSE (worst)\n",
      "+------------+------+-------+\n",
      "| customerId | rmse | count |\n",
      "+------------+------+-------+\n",
      "|   101076   | 1.0  |   1   |\n",
      "+------------+------+-------+\n",
      "[1 rows x 3 columns]\n",
      "\n",
      "\n",
      "Per Item RMSE (best)\n",
      "+-----------+------+-------+\n",
      "| productId | rmse | count |\n",
      "+-----------+------+-------+\n",
      "|    2603   | 0.0  |   2   |\n",
      "+-----------+------+-------+\n",
      "[1 rows x 3 columns]\n",
      "\n",
      "\n",
      "Per Item RMSE (worst)\n",
      "+-----------+------+-------+\n",
      "| productId | rmse | count |\n",
      "+-----------+------+-------+\n",
      "|    1789   | 1.0  |   1   |\n",
      "+-----------+------+-------+\n",
      "[1 rows x 3 columns]\n",
      "\n",
      "PROGRESS: Evaluate model Pearson Similarity on Scaled Purchase Counts\n"
     ]
    },
    {
     "data": {
      "text/html": [
       "<pre>recommendations finished on 1000/24896 queries. users per second: 25659.4</pre>"
      ],
      "text/plain": [
       "recommendations finished on 1000/24896 queries. users per second: 25659.4"
      ]
     },
     "metadata": {
      "tags": []
     },
     "output_type": "display_data"
    },
    {
     "data": {
      "text/html": [
       "<pre>recommendations finished on 2000/24896 queries. users per second: 25205.4</pre>"
      ],
      "text/plain": [
       "recommendations finished on 2000/24896 queries. users per second: 25205.4"
      ]
     },
     "metadata": {
      "tags": []
     },
     "output_type": "display_data"
    },
    {
     "data": {
      "text/html": [
       "<pre>recommendations finished on 3000/24896 queries. users per second: 25692.2</pre>"
      ],
      "text/plain": [
       "recommendations finished on 3000/24896 queries. users per second: 25692.2"
      ]
     },
     "metadata": {
      "tags": []
     },
     "output_type": "display_data"
    },
    {
     "data": {
      "text/html": [
       "<pre>recommendations finished on 4000/24896 queries. users per second: 26276.5</pre>"
      ],
      "text/plain": [
       "recommendations finished on 4000/24896 queries. users per second: 26276.5"
      ]
     },
     "metadata": {
      "tags": []
     },
     "output_type": "display_data"
    },
    {
     "data": {
      "text/html": [
       "<pre>recommendations finished on 5000/24896 queries. users per second: 26742.5</pre>"
      ],
      "text/plain": [
       "recommendations finished on 5000/24896 queries. users per second: 26742.5"
      ]
     },
     "metadata": {
      "tags": []
     },
     "output_type": "display_data"
    },
    {
     "data": {
      "text/html": [
       "<pre>recommendations finished on 6000/24896 queries. users per second: 26530.8</pre>"
      ],
      "text/plain": [
       "recommendations finished on 6000/24896 queries. users per second: 26530.8"
      ]
     },
     "metadata": {
      "tags": []
     },
     "output_type": "display_data"
    },
    {
     "data": {
      "text/html": [
       "<pre>recommendations finished on 7000/24896 queries. users per second: 26835.3</pre>"
      ],
      "text/plain": [
       "recommendations finished on 7000/24896 queries. users per second: 26835.3"
      ]
     },
     "metadata": {
      "tags": []
     },
     "output_type": "display_data"
    },
    {
     "data": {
      "text/html": [
       "<pre>recommendations finished on 8000/24896 queries. users per second: 26749.1</pre>"
      ],
      "text/plain": [
       "recommendations finished on 8000/24896 queries. users per second: 26749.1"
      ]
     },
     "metadata": {
      "tags": []
     },
     "output_type": "display_data"
    },
    {
     "data": {
      "text/html": [
       "<pre>recommendations finished on 9000/24896 queries. users per second: 26973.2</pre>"
      ],
      "text/plain": [
       "recommendations finished on 9000/24896 queries. users per second: 26973.2"
      ]
     },
     "metadata": {
      "tags": []
     },
     "output_type": "display_data"
    },
    {
     "data": {
      "text/html": [
       "<pre>recommendations finished on 10000/24896 queries. users per second: 27023.1</pre>"
      ],
      "text/plain": [
       "recommendations finished on 10000/24896 queries. users per second: 27023.1"
      ]
     },
     "metadata": {
      "tags": []
     },
     "output_type": "display_data"
    },
    {
     "data": {
      "text/html": [
       "<pre>recommendations finished on 11000/24896 queries. users per second: 26960</pre>"
      ],
      "text/plain": [
       "recommendations finished on 11000/24896 queries. users per second: 26960"
      ]
     },
     "metadata": {
      "tags": []
     },
     "output_type": "display_data"
    },
    {
     "data": {
      "text/html": [
       "<pre>recommendations finished on 12000/24896 queries. users per second: 26941.4</pre>"
      ],
      "text/plain": [
       "recommendations finished on 12000/24896 queries. users per second: 26941.4"
      ]
     },
     "metadata": {
      "tags": []
     },
     "output_type": "display_data"
    },
    {
     "data": {
      "text/html": [
       "<pre>recommendations finished on 13000/24896 queries. users per second: 27036.4</pre>"
      ],
      "text/plain": [
       "recommendations finished on 13000/24896 queries. users per second: 27036.4"
      ]
     },
     "metadata": {
      "tags": []
     },
     "output_type": "display_data"
    },
    {
     "data": {
      "text/html": [
       "<pre>recommendations finished on 14000/24896 queries. users per second: 27059</pre>"
      ],
      "text/plain": [
       "recommendations finished on 14000/24896 queries. users per second: 27059"
      ]
     },
     "metadata": {
      "tags": []
     },
     "output_type": "display_data"
    },
    {
     "data": {
      "text/html": [
       "<pre>recommendations finished on 15000/24896 queries. users per second: 27177.9</pre>"
      ],
      "text/plain": [
       "recommendations finished on 15000/24896 queries. users per second: 27177.9"
      ]
     },
     "metadata": {
      "tags": []
     },
     "output_type": "display_data"
    },
    {
     "data": {
      "text/html": [
       "<pre>recommendations finished on 16000/24896 queries. users per second: 27281.5</pre>"
      ],
      "text/plain": [
       "recommendations finished on 16000/24896 queries. users per second: 27281.5"
      ]
     },
     "metadata": {
      "tags": []
     },
     "output_type": "display_data"
    },
    {
     "data": {
      "text/html": [
       "<pre>recommendations finished on 17000/24896 queries. users per second: 27359</pre>"
      ],
      "text/plain": [
       "recommendations finished on 17000/24896 queries. users per second: 27359"
      ]
     },
     "metadata": {
      "tags": []
     },
     "output_type": "display_data"
    },
    {
     "data": {
      "text/html": [
       "<pre>recommendations finished on 18000/24896 queries. users per second: 27337.1</pre>"
      ],
      "text/plain": [
       "recommendations finished on 18000/24896 queries. users per second: 27337.1"
      ]
     },
     "metadata": {
      "tags": []
     },
     "output_type": "display_data"
    },
    {
     "data": {
      "text/html": [
       "<pre>recommendations finished on 19000/24896 queries. users per second: 27185.3</pre>"
      ],
      "text/plain": [
       "recommendations finished on 19000/24896 queries. users per second: 27185.3"
      ]
     },
     "metadata": {
      "tags": []
     },
     "output_type": "display_data"
    },
    {
     "data": {
      "text/html": [
       "<pre>recommendations finished on 20000/24896 queries. users per second: 27240.1</pre>"
      ],
      "text/plain": [
       "recommendations finished on 20000/24896 queries. users per second: 27240.1"
      ]
     },
     "metadata": {
      "tags": []
     },
     "output_type": "display_data"
    },
    {
     "data": {
      "text/html": [
       "<pre>recommendations finished on 21000/24896 queries. users per second: 27272.2</pre>"
      ],
      "text/plain": [
       "recommendations finished on 21000/24896 queries. users per second: 27272.2"
      ]
     },
     "metadata": {
      "tags": []
     },
     "output_type": "display_data"
    },
    {
     "data": {
      "text/html": [
       "<pre>recommendations finished on 22000/24896 queries. users per second: 27360.5</pre>"
      ],
      "text/plain": [
       "recommendations finished on 22000/24896 queries. users per second: 27360.5"
      ]
     },
     "metadata": {
      "tags": []
     },
     "output_type": "display_data"
    },
    {
     "data": {
      "text/html": [
       "<pre>recommendations finished on 23000/24896 queries. users per second: 27415.4</pre>"
      ],
      "text/plain": [
       "recommendations finished on 23000/24896 queries. users per second: 27415.4"
      ]
     },
     "metadata": {
      "tags": []
     },
     "output_type": "display_data"
    },
    {
     "data": {
      "text/html": [
       "<pre>recommendations finished on 24000/24896 queries. users per second: 27307.6</pre>"
      ],
      "text/plain": [
       "recommendations finished on 24000/24896 queries. users per second: 27307.6"
      ]
     },
     "metadata": {
      "tags": []
     },
     "output_type": "display_data"
    },
    {
     "name": "stdout",
     "output_type": "stream",
     "text": [
      "\n",
      "Precision and recall summary statistics by cutoff\n",
      "+--------+------------------------+------------------------+\n",
      "| cutoff |     mean_precision     |      mean_recall       |\n",
      "+--------+------------------------+------------------------+\n",
      "|   1    | 8.033419023136253e-05  | 5.0208868894601395e-05 |\n",
      "|   2    | 4.0167095115681265e-05 | 5.0208868894601395e-05 |\n",
      "|   3    | 4.016709511568114e-05  | 9.037596401028229e-05  |\n",
      "|   4    | 3.012532133676094e-05  | 9.037596401028229e-05  |\n",
      "|   5    | 4.820051413881787e-05  | 0.0001318819622964863  |\n",
      "|   6    | 4.6861610968294766e-05 | 0.0001363449728648955  |\n",
      "|   7    | 5.164340800587591e-05  | 0.00016981755212796336 |\n",
      "|   8    |  9.03759640102834e-05  | 0.0003656799587872843  |\n",
      "|   9    | 8.033419023136235e-05  | 0.0003656799587872843  |\n",
      "|   10   | 7.631748071979436e-05  |  0.000385763506345125  |\n",
      "+--------+------------------------+------------------------+\n",
      "[10 rows x 3 columns]\n",
      "\n",
      "\n",
      "Overall RMSE: 0.16788540295623328\n",
      "\n",
      "Per User RMSE (best)\n",
      "+------------+------+-------+\n",
      "| customerId | rmse | count |\n",
      "+------------+------+-------+\n",
      "|   113162   | 0.0  |   1   |\n",
      "+------------+------+-------+\n",
      "[1 rows x 3 columns]\n",
      "\n",
      "\n",
      "Per User RMSE (worst)\n",
      "+------------+------+-------+\n",
      "| customerId | rmse | count |\n",
      "+------------+------+-------+\n",
      "|   101076   | 1.0  |   1   |\n",
      "+------------+------+-------+\n",
      "[1 rows x 3 columns]\n",
      "\n",
      "\n",
      "Per Item RMSE (best)\n",
      "+-----------+------+-------+\n",
      "| productId | rmse | count |\n",
      "+-----------+------+-------+\n",
      "|    2197   | 0.0  |   1   |\n",
      "+-----------+------+-------+\n",
      "[1 rows x 3 columns]\n",
      "\n",
      "\n",
      "Per Item RMSE (worst)\n",
      "+-----------+------+-------+\n",
      "| productId | rmse | count |\n",
      "+-----------+------+-------+\n",
      "|    1789   | 1.0  |   1   |\n",
      "+-----------+------+-------+\n",
      "[1 rows x 3 columns]\n",
      "\n"
     ]
    }
   ],
   "source": [
    "eval_norm = tc.recommender.util.compare_models(test_data_norm, models_w_norm, model_names=names_w_norm)"
   ]
  },
  {
   "cell_type": "markdown",
   "metadata": {
    "colab_type": "text",
    "id": "IGw3t-tjln5h"
   },
   "source": [
    "## 8.2. Resumen de evaluación\n",
    "\n",
    "Basado en precisión, recuperación y RMSE\n",
    "\n",
    "Popularidad vs. Filtrado colaborativo: podemos ver que los algoritmos de filtrado colaborativo funcionan mejor que el modelo de popularidad para los recuentos de compras. De hecho, el modelo de popularidad no ofrece personalizaciones, ya que solo ofrece la misma lista de elementos recomendados para cada usuario.\n",
    "\n",
    "Precisión y recuperación: al observar el resumen anterior, vemos que la precisión y la recuperación son mejores para el uso de dummies. De hecho, el RMSE no es muy diferente entre los modelos dummy y los de los datos normalizados. RMSE: Dado que RMSE es mayor usando la distancia de Pearson que la coseno, elegiríamos modelar los errores cuadrados medios más pequeños, que en este caso serían coseno. Por lo tanto, seleccionamos la similitud de coseno en el método de compra dummy como nuestro modelo final."
   ]
  },
  {
   "cell_type": "markdown",
   "metadata": {
    "colab_type": "text",
    "id": "S703usCkln5m"
   },
   "source": [
    "# 9. Output Final \n",
    "\n",
    "Finalmente, nos gustaría manipular el formato de salida de recomendación a uno que podamos exportar a csv, y también una función que devolverá la lista de recomendaciones dada una ID de cliente.\n",
    "Primero tenemos que volver a ejecutar el modelo usando todo el conjunto de datos, ya que llegamos a un modelo final usando datos del tren y evaluado con el conjunto de prueba.\n"
   ]
  },
  {
   "cell_type": "code",
   "execution_count": 33,
   "metadata": {
    "colab": {
     "base_uri": "https://localhost:8080/",
     "height": 1000
    },
    "colab_type": "code",
    "id": "1ImxGwSUln5p",
    "outputId": "ee62b396-886a-4d3a-ae8b-5f78b6d64867"
   },
   "outputs": [
    {
     "data": {
      "text/html": [
       "<pre>Warning: Ignoring columns purchase_count;</pre>"
      ],
      "text/plain": [
       "Warning: Ignoring columns purchase_count;"
      ]
     },
     "metadata": {
      "tags": []
     },
     "output_type": "display_data"
    },
    {
     "data": {
      "text/html": [
       "<pre>    To use these columns in scoring predictions, use a model that allows the use of additional features.</pre>"
      ],
      "text/plain": [
       "    To use these columns in scoring predictions, use a model that allows the use of additional features."
      ]
     },
     "metadata": {
      "tags": []
     },
     "output_type": "display_data"
    },
    {
     "data": {
      "text/html": [
       "<pre>Preparing data set.</pre>"
      ],
      "text/plain": [
       "Preparing data set."
      ]
     },
     "metadata": {
      "tags": []
     },
     "output_type": "display_data"
    },
    {
     "data": {
      "text/html": [
       "<pre>    Data has 246858 observations with 39037 users and 2280 items.</pre>"
      ],
      "text/plain": [
       "    Data has 246858 observations with 39037 users and 2280 items."
      ]
     },
     "metadata": {
      "tags": []
     },
     "output_type": "display_data"
    },
    {
     "data": {
      "text/html": [
       "<pre>    Data prepared in: 0.216642s</pre>"
      ],
      "text/plain": [
       "    Data prepared in: 0.216642s"
      ]
     },
     "metadata": {
      "tags": []
     },
     "output_type": "display_data"
    },
    {
     "data": {
      "text/html": [
       "<pre>Training model from provided data.</pre>"
      ],
      "text/plain": [
       "Training model from provided data."
      ]
     },
     "metadata": {
      "tags": []
     },
     "output_type": "display_data"
    },
    {
     "data": {
      "text/html": [
       "<pre>Gathering per-item and per-user statistics.</pre>"
      ],
      "text/plain": [
       "Gathering per-item and per-user statistics."
      ]
     },
     "metadata": {
      "tags": []
     },
     "output_type": "display_data"
    },
    {
     "data": {
      "text/html": [
       "<pre>+--------------------------------+------------+</pre>"
      ],
      "text/plain": [
       "+--------------------------------+------------+"
      ]
     },
     "metadata": {
      "tags": []
     },
     "output_type": "display_data"
    },
    {
     "data": {
      "text/html": [
       "<pre>| Elapsed Time (Item Statistics) | % Complete |</pre>"
      ],
      "text/plain": [
       "| Elapsed Time (Item Statistics) | % Complete |"
      ]
     },
     "metadata": {
      "tags": []
     },
     "output_type": "display_data"
    },
    {
     "data": {
      "text/html": [
       "<pre>+--------------------------------+------------+</pre>"
      ],
      "text/plain": [
       "+--------------------------------+------------+"
      ]
     },
     "metadata": {
      "tags": []
     },
     "output_type": "display_data"
    },
    {
     "data": {
      "text/html": [
       "<pre>| 883us                          | 2.5        |</pre>"
      ],
      "text/plain": [
       "| 883us                          | 2.5        |"
      ]
     },
     "metadata": {
      "tags": []
     },
     "output_type": "display_data"
    },
    {
     "data": {
      "text/html": [
       "<pre>| 22.371ms                       | 100        |</pre>"
      ],
      "text/plain": [
       "| 22.371ms                       | 100        |"
      ]
     },
     "metadata": {
      "tags": []
     },
     "output_type": "display_data"
    },
    {
     "data": {
      "text/html": [
       "<pre>+--------------------------------+------------+</pre>"
      ],
      "text/plain": [
       "+--------------------------------+------------+"
      ]
     },
     "metadata": {
      "tags": []
     },
     "output_type": "display_data"
    },
    {
     "data": {
      "text/html": [
       "<pre>Setting up lookup tables.</pre>"
      ],
      "text/plain": [
       "Setting up lookup tables."
      ]
     },
     "metadata": {
      "tags": []
     },
     "output_type": "display_data"
    },
    {
     "data": {
      "text/html": [
       "<pre>Processing data in one pass using dense lookup tables.</pre>"
      ],
      "text/plain": [
       "Processing data in one pass using dense lookup tables."
      ]
     },
     "metadata": {
      "tags": []
     },
     "output_type": "display_data"
    },
    {
     "data": {
      "text/html": [
       "<pre>+-------------------------------------+------------------+-----------------+</pre>"
      ],
      "text/plain": [
       "+-------------------------------------+------------------+-----------------+"
      ]
     },
     "metadata": {
      "tags": []
     },
     "output_type": "display_data"
    },
    {
     "data": {
      "text/html": [
       "<pre>| Elapsed Time (Constructing Lookups) | Total % Complete | Items Processed |</pre>"
      ],
      "text/plain": [
       "| Elapsed Time (Constructing Lookups) | Total % Complete | Items Processed |"
      ]
     },
     "metadata": {
      "tags": []
     },
     "output_type": "display_data"
    },
    {
     "data": {
      "text/html": [
       "<pre>+-------------------------------------+------------------+-----------------+</pre>"
      ],
      "text/plain": [
       "+-------------------------------------+------------------+-----------------+"
      ]
     },
     "metadata": {
      "tags": []
     },
     "output_type": "display_data"
    },
    {
     "data": {
      "text/html": [
       "<pre>| 28.185ms                            | 0                | 0               |</pre>"
      ],
      "text/plain": [
       "| 28.185ms                            | 0                | 0               |"
      ]
     },
     "metadata": {
      "tags": []
     },
     "output_type": "display_data"
    },
    {
     "data": {
      "text/html": [
       "<pre>| 169.705ms                           | 100              | 2280            |</pre>"
      ],
      "text/plain": [
       "| 169.705ms                           | 100              | 2280            |"
      ]
     },
     "metadata": {
      "tags": []
     },
     "output_type": "display_data"
    },
    {
     "data": {
      "text/html": [
       "<pre>+-------------------------------------+------------------+-----------------+</pre>"
      ],
      "text/plain": [
       "+-------------------------------------+------------------+-----------------+"
      ]
     },
     "metadata": {
      "tags": []
     },
     "output_type": "display_data"
    },
    {
     "data": {
      "text/html": [
       "<pre>Finalizing lookup tables.</pre>"
      ],
      "text/plain": [
       "Finalizing lookup tables."
      ]
     },
     "metadata": {
      "tags": []
     },
     "output_type": "display_data"
    },
    {
     "data": {
      "text/html": [
       "<pre>Generating candidate set for working with new users.</pre>"
      ],
      "text/plain": [
       "Generating candidate set for working with new users."
      ]
     },
     "metadata": {
      "tags": []
     },
     "output_type": "display_data"
    },
    {
     "data": {
      "text/html": [
       "<pre>Finished training in 0.201586s</pre>"
      ],
      "text/plain": [
       "Finished training in 0.201586s"
      ]
     },
     "metadata": {
      "tags": []
     },
     "output_type": "display_data"
    },
    {
     "data": {
      "text/html": [
       "<pre>recommendations finished on 1000/39037 queries. users per second: 42964.6</pre>"
      ],
      "text/plain": [
       "recommendations finished on 1000/39037 queries. users per second: 42964.6"
      ]
     },
     "metadata": {
      "tags": []
     },
     "output_type": "display_data"
    },
    {
     "data": {
      "text/html": [
       "<pre>recommendations finished on 2000/39037 queries. users per second: 40086.6</pre>"
      ],
      "text/plain": [
       "recommendations finished on 2000/39037 queries. users per second: 40086.6"
      ]
     },
     "metadata": {
      "tags": []
     },
     "output_type": "display_data"
    },
    {
     "data": {
      "text/html": [
       "<pre>recommendations finished on 3000/39037 queries. users per second: 39469</pre>"
      ],
      "text/plain": [
       "recommendations finished on 3000/39037 queries. users per second: 39469"
      ]
     },
     "metadata": {
      "tags": []
     },
     "output_type": "display_data"
    },
    {
     "data": {
      "text/html": [
       "<pre>recommendations finished on 4000/39037 queries. users per second: 39246.1</pre>"
      ],
      "text/plain": [
       "recommendations finished on 4000/39037 queries. users per second: 39246.1"
      ]
     },
     "metadata": {
      "tags": []
     },
     "output_type": "display_data"
    },
    {
     "data": {
      "text/html": [
       "<pre>recommendations finished on 5000/39037 queries. users per second: 38043.1</pre>"
      ],
      "text/plain": [
       "recommendations finished on 5000/39037 queries. users per second: 38043.1"
      ]
     },
     "metadata": {
      "tags": []
     },
     "output_type": "display_data"
    },
    {
     "data": {
      "text/html": [
       "<pre>recommendations finished on 6000/39037 queries. users per second: 37838.9</pre>"
      ],
      "text/plain": [
       "recommendations finished on 6000/39037 queries. users per second: 37838.9"
      ]
     },
     "metadata": {
      "tags": []
     },
     "output_type": "display_data"
    },
    {
     "data": {
      "text/html": [
       "<pre>recommendations finished on 7000/39037 queries. users per second: 37861.2</pre>"
      ],
      "text/plain": [
       "recommendations finished on 7000/39037 queries. users per second: 37861.2"
      ]
     },
     "metadata": {
      "tags": []
     },
     "output_type": "display_data"
    },
    {
     "data": {
      "text/html": [
       "<pre>recommendations finished on 8000/39037 queries. users per second: 37890.6</pre>"
      ],
      "text/plain": [
       "recommendations finished on 8000/39037 queries. users per second: 37890.6"
      ]
     },
     "metadata": {
      "tags": []
     },
     "output_type": "display_data"
    },
    {
     "data": {
      "text/html": [
       "<pre>recommendations finished on 9000/39037 queries. users per second: 37916.1</pre>"
      ],
      "text/plain": [
       "recommendations finished on 9000/39037 queries. users per second: 37916.1"
      ]
     },
     "metadata": {
      "tags": []
     },
     "output_type": "display_data"
    },
    {
     "data": {
      "text/html": [
       "<pre>recommendations finished on 10000/39037 queries. users per second: 38026.7</pre>"
      ],
      "text/plain": [
       "recommendations finished on 10000/39037 queries. users per second: 38026.7"
      ]
     },
     "metadata": {
      "tags": []
     },
     "output_type": "display_data"
    },
    {
     "data": {
      "text/html": [
       "<pre>recommendations finished on 11000/39037 queries. users per second: 38038.7</pre>"
      ],
      "text/plain": [
       "recommendations finished on 11000/39037 queries. users per second: 38038.7"
      ]
     },
     "metadata": {
      "tags": []
     },
     "output_type": "display_data"
    },
    {
     "data": {
      "text/html": [
       "<pre>recommendations finished on 12000/39037 queries. users per second: 38143.1</pre>"
      ],
      "text/plain": [
       "recommendations finished on 12000/39037 queries. users per second: 38143.1"
      ]
     },
     "metadata": {
      "tags": []
     },
     "output_type": "display_data"
    },
    {
     "data": {
      "text/html": [
       "<pre>recommendations finished on 13000/39037 queries. users per second: 38119.8</pre>"
      ],
      "text/plain": [
       "recommendations finished on 13000/39037 queries. users per second: 38119.8"
      ]
     },
     "metadata": {
      "tags": []
     },
     "output_type": "display_data"
    },
    {
     "data": {
      "text/html": [
       "<pre>recommendations finished on 14000/39037 queries. users per second: 38125.3</pre>"
      ],
      "text/plain": [
       "recommendations finished on 14000/39037 queries. users per second: 38125.3"
      ]
     },
     "metadata": {
      "tags": []
     },
     "output_type": "display_data"
    },
    {
     "data": {
      "text/html": [
       "<pre>recommendations finished on 15000/39037 queries. users per second: 38177.6</pre>"
      ],
      "text/plain": [
       "recommendations finished on 15000/39037 queries. users per second: 38177.6"
      ]
     },
     "metadata": {
      "tags": []
     },
     "output_type": "display_data"
    },
    {
     "data": {
      "text/html": [
       "<pre>recommendations finished on 16000/39037 queries. users per second: 38177.5</pre>"
      ],
      "text/plain": [
       "recommendations finished on 16000/39037 queries. users per second: 38177.5"
      ]
     },
     "metadata": {
      "tags": []
     },
     "output_type": "display_data"
    },
    {
     "data": {
      "text/html": [
       "<pre>recommendations finished on 17000/39037 queries. users per second: 38217.4</pre>"
      ],
      "text/plain": [
       "recommendations finished on 17000/39037 queries. users per second: 38217.4"
      ]
     },
     "metadata": {
      "tags": []
     },
     "output_type": "display_data"
    },
    {
     "data": {
      "text/html": [
       "<pre>recommendations finished on 18000/39037 queries. users per second: 38174</pre>"
      ],
      "text/plain": [
       "recommendations finished on 18000/39037 queries. users per second: 38174"
      ]
     },
     "metadata": {
      "tags": []
     },
     "output_type": "display_data"
    },
    {
     "data": {
      "text/html": [
       "<pre>recommendations finished on 19000/39037 queries. users per second: 38076.4</pre>"
      ],
      "text/plain": [
       "recommendations finished on 19000/39037 queries. users per second: 38076.4"
      ]
     },
     "metadata": {
      "tags": []
     },
     "output_type": "display_data"
    },
    {
     "data": {
      "text/html": [
       "<pre>recommendations finished on 20000/39037 queries. users per second: 38174.9</pre>"
      ],
      "text/plain": [
       "recommendations finished on 20000/39037 queries. users per second: 38174.9"
      ]
     },
     "metadata": {
      "tags": []
     },
     "output_type": "display_data"
    },
    {
     "data": {
      "text/html": [
       "<pre>recommendations finished on 21000/39037 queries. users per second: 38007.5</pre>"
      ],
      "text/plain": [
       "recommendations finished on 21000/39037 queries. users per second: 38007.5"
      ]
     },
     "metadata": {
      "tags": []
     },
     "output_type": "display_data"
    },
    {
     "data": {
      "text/html": [
       "<pre>recommendations finished on 22000/39037 queries. users per second: 38073</pre>"
      ],
      "text/plain": [
       "recommendations finished on 22000/39037 queries. users per second: 38073"
      ]
     },
     "metadata": {
      "tags": []
     },
     "output_type": "display_data"
    },
    {
     "data": {
      "text/html": [
       "<pre>recommendations finished on 23000/39037 queries. users per second: 38121.2</pre>"
      ],
      "text/plain": [
       "recommendations finished on 23000/39037 queries. users per second: 38121.2"
      ]
     },
     "metadata": {
      "tags": []
     },
     "output_type": "display_data"
    },
    {
     "data": {
      "text/html": [
       "<pre>recommendations finished on 24000/39037 queries. users per second: 38104.6</pre>"
      ],
      "text/plain": [
       "recommendations finished on 24000/39037 queries. users per second: 38104.6"
      ]
     },
     "metadata": {
      "tags": []
     },
     "output_type": "display_data"
    },
    {
     "data": {
      "text/html": [
       "<pre>recommendations finished on 25000/39037 queries. users per second: 38051.5</pre>"
      ],
      "text/plain": [
       "recommendations finished on 25000/39037 queries. users per second: 38051.5"
      ]
     },
     "metadata": {
      "tags": []
     },
     "output_type": "display_data"
    },
    {
     "data": {
      "text/html": [
       "<pre>recommendations finished on 26000/39037 queries. users per second: 38112.9</pre>"
      ],
      "text/plain": [
       "recommendations finished on 26000/39037 queries. users per second: 38112.9"
      ]
     },
     "metadata": {
      "tags": []
     },
     "output_type": "display_data"
    },
    {
     "data": {
      "text/html": [
       "<pre>recommendations finished on 27000/39037 queries. users per second: 38173.4</pre>"
      ],
      "text/plain": [
       "recommendations finished on 27000/39037 queries. users per second: 38173.4"
      ]
     },
     "metadata": {
      "tags": []
     },
     "output_type": "display_data"
    },
    {
     "data": {
      "text/html": [
       "<pre>recommendations finished on 28000/39037 queries. users per second: 38037.3</pre>"
      ],
      "text/plain": [
       "recommendations finished on 28000/39037 queries. users per second: 38037.3"
      ]
     },
     "metadata": {
      "tags": []
     },
     "output_type": "display_data"
    },
    {
     "data": {
      "text/html": [
       "<pre>recommendations finished on 29000/39037 queries. users per second: 38026.6</pre>"
      ],
      "text/plain": [
       "recommendations finished on 29000/39037 queries. users per second: 38026.6"
      ]
     },
     "metadata": {
      "tags": []
     },
     "output_type": "display_data"
    },
    {
     "data": {
      "text/html": [
       "<pre>recommendations finished on 30000/39037 queries. users per second: 38040.6</pre>"
      ],
      "text/plain": [
       "recommendations finished on 30000/39037 queries. users per second: 38040.6"
      ]
     },
     "metadata": {
      "tags": []
     },
     "output_type": "display_data"
    },
    {
     "data": {
      "text/html": [
       "<pre>recommendations finished on 31000/39037 queries. users per second: 38021</pre>"
      ],
      "text/plain": [
       "recommendations finished on 31000/39037 queries. users per second: 38021"
      ]
     },
     "metadata": {
      "tags": []
     },
     "output_type": "display_data"
    },
    {
     "data": {
      "text/html": [
       "<pre>recommendations finished on 32000/39037 queries. users per second: 38083.6</pre>"
      ],
      "text/plain": [
       "recommendations finished on 32000/39037 queries. users per second: 38083.6"
      ]
     },
     "metadata": {
      "tags": []
     },
     "output_type": "display_data"
    },
    {
     "data": {
      "text/html": [
       "<pre>recommendations finished on 33000/39037 queries. users per second: 38083.8</pre>"
      ],
      "text/plain": [
       "recommendations finished on 33000/39037 queries. users per second: 38083.8"
      ]
     },
     "metadata": {
      "tags": []
     },
     "output_type": "display_data"
    },
    {
     "data": {
      "text/html": [
       "<pre>recommendations finished on 34000/39037 queries. users per second: 38100.4</pre>"
      ],
      "text/plain": [
       "recommendations finished on 34000/39037 queries. users per second: 38100.4"
      ]
     },
     "metadata": {
      "tags": []
     },
     "output_type": "display_data"
    },
    {
     "data": {
      "text/html": [
       "<pre>recommendations finished on 35000/39037 queries. users per second: 38117.8</pre>"
      ],
      "text/plain": [
       "recommendations finished on 35000/39037 queries. users per second: 38117.8"
      ]
     },
     "metadata": {
      "tags": []
     },
     "output_type": "display_data"
    },
    {
     "data": {
      "text/html": [
       "<pre>recommendations finished on 36000/39037 queries. users per second: 38174.3</pre>"
      ],
      "text/plain": [
       "recommendations finished on 36000/39037 queries. users per second: 38174.3"
      ]
     },
     "metadata": {
      "tags": []
     },
     "output_type": "display_data"
    },
    {
     "data": {
      "text/html": [
       "<pre>recommendations finished on 37000/39037 queries. users per second: 38187.4</pre>"
      ],
      "text/plain": [
       "recommendations finished on 37000/39037 queries. users per second: 38187.4"
      ]
     },
     "metadata": {
      "tags": []
     },
     "output_type": "display_data"
    },
    {
     "data": {
      "text/html": [
       "<pre>recommendations finished on 38000/39037 queries. users per second: 37954.6</pre>"
      ],
      "text/plain": [
       "recommendations finished on 38000/39037 queries. users per second: 37954.6"
      ]
     },
     "metadata": {
      "tags": []
     },
     "output_type": "display_data"
    },
    {
     "data": {
      "text/html": [
       "<pre>recommendations finished on 39000/39037 queries. users per second: 37826</pre>"
      ],
      "text/plain": [
       "recommendations finished on 39000/39037 queries. users per second: 37826"
      ]
     },
     "metadata": {
      "tags": []
     },
     "output_type": "display_data"
    },
    {
     "name": "stdout",
     "output_type": "stream",
     "text": [
      "+------------+-----------+----------------------+------+\n",
      "| customerId | productId |        score         | rank |\n",
      "+------------+-----------+----------------------+------+\n",
      "|     0      |    1485   | 0.08583279450734456  |  1   |\n",
      "|     0      |    449    | 0.07797364393870036  |  2   |\n",
      "|     0      |    1488   | 0.07060692707697551  |  3   |\n",
      "|     0      |    1482   | 0.05586062868436178  |  4   |\n",
      "|     0      |    1483   | 0.053239633639653526 |  5   |\n",
      "|     0      |    2470   | 0.04967816670735677  |  6   |\n",
      "|     0      |    2494   | 0.04459953308105469  |  7   |\n",
      "|     0      |    1487   | 0.042245298624038696 |  8   |\n",
      "|     0      |    2613   |  0.0421900749206543  |  9   |\n",
      "|     0      |    1484   | 0.04127179582913717  |  10  |\n",
      "|     2      |    447    | 0.13119147221247354  |  1   |\n",
      "|     2      |    1102   | 0.10631694396336873  |  2   |\n",
      "|     2      |    813    | 0.08165814479192098  |  3   |\n",
      "|     2      |    462    | 0.08100934823354085  |  4   |\n",
      "|     2      |    615    | 0.07857338587443034  |  5   |\n",
      "|     2      |    474    | 0.06957326332728068  |  6   |\n",
      "|     2      |    842    | 0.06839601198832194  |  7   |\n",
      "|     2      |    1101   | 0.06702953577041626  |  8   |\n",
      "|     2      |    461    | 0.06375956535339355  |  9   |\n",
      "|     2      |    1930   | 0.062111894289652504 |  10  |\n",
      "|     5      |    2356   | 0.05535695382526943  |  1   |\n",
      "|     5      |    2355   | 0.051249946866716654 |  2   |\n",
      "|     5      |    2419   | 0.045017404215676446 |  3   |\n",
      "|     5      |    2422   | 0.04446926287242344  |  4   |\n",
      "|     5      |    2354   | 0.04315630878720965  |  5   |\n",
      "|     5      |    2357   | 0.04203022377831595  |  6   |\n",
      "|     5      |    2359   | 0.03854086569377354  |  7   |\n",
      "|     5      |    2421   | 0.038078095231737406 |  8   |\n",
      "|     5      |    2418   | 0.038059626306806295 |  9   |\n",
      "|     5      |    2362   |  0.0376542295728411  |  10  |\n",
      "+------------+-----------+----------------------+------+\n",
      "[390370 rows x 4 columns]\n",
      "\n"
     ]
    }
   ],
   "source": [
    "#users_to_recommend = list(customers[user_id])\n",
    "users_to_recommend = list(data.customerId.unique())\n",
    "\n",
    "final_model = tc.item_similarity_recommender.create(tc.SFrame(data_dummy), \n",
    "                                            user_id=user_id, \n",
    "                                            item_id=item_id, \n",
    "                                            target='purchase_dummy', similarity_type='cosine')\n",
    "recom = final_model.recommend(users=users_to_recommend, k=n_rec)\n",
    "recom.print_rows(n_display)"
   ]
  },
  {
   "cell_type": "markdown",
   "metadata": {
    "colab_type": "text",
    "id": "24IMyzHfln5x"
   },
   "source": [
    "## 9.1. CSV output file"
   ]
  },
  {
   "cell_type": "code",
   "execution_count": 34,
   "metadata": {
    "colab": {
     "base_uri": "https://localhost:8080/",
     "height": 221
    },
    "colab_type": "code",
    "id": "RCo_HDD0ln52",
    "outputId": "c8cbf3a3-6c6a-489f-f5a6-7569207907de"
   },
   "outputs": [
    {
     "name": "stdout",
     "output_type": "stream",
     "text": [
      "(390370, 4)\n"
     ]
    },
    {
     "data": {
      "text/html": [
       "<div>\n",
       "<style scoped>\n",
       "    .dataframe tbody tr th:only-of-type {\n",
       "        vertical-align: middle;\n",
       "    }\n",
       "\n",
       "    .dataframe tbody tr th {\n",
       "        vertical-align: top;\n",
       "    }\n",
       "\n",
       "    .dataframe thead th {\n",
       "        text-align: right;\n",
       "    }\n",
       "</style>\n",
       "<table border=\"1\" class=\"dataframe\">\n",
       "  <thead>\n",
       "    <tr style=\"text-align: right;\">\n",
       "      <th></th>\n",
       "      <th>customerId</th>\n",
       "      <th>productId</th>\n",
       "      <th>score</th>\n",
       "      <th>rank</th>\n",
       "    </tr>\n",
       "  </thead>\n",
       "  <tbody>\n",
       "    <tr>\n",
       "      <th>0</th>\n",
       "      <td>0</td>\n",
       "      <td>1485</td>\n",
       "      <td>0.085833</td>\n",
       "      <td>1</td>\n",
       "    </tr>\n",
       "    <tr>\n",
       "      <th>1</th>\n",
       "      <td>0</td>\n",
       "      <td>449</td>\n",
       "      <td>0.077974</td>\n",
       "      <td>2</td>\n",
       "    </tr>\n",
       "    <tr>\n",
       "      <th>2</th>\n",
       "      <td>0</td>\n",
       "      <td>1488</td>\n",
       "      <td>0.070607</td>\n",
       "      <td>3</td>\n",
       "    </tr>\n",
       "    <tr>\n",
       "      <th>3</th>\n",
       "      <td>0</td>\n",
       "      <td>1482</td>\n",
       "      <td>0.055861</td>\n",
       "      <td>4</td>\n",
       "    </tr>\n",
       "    <tr>\n",
       "      <th>4</th>\n",
       "      <td>0</td>\n",
       "      <td>1483</td>\n",
       "      <td>0.053240</td>\n",
       "      <td>5</td>\n",
       "    </tr>\n",
       "  </tbody>\n",
       "</table>\n",
       "</div>"
      ],
      "text/plain": [
       "   customerId  productId     score  rank\n",
       "0           0       1485  0.085833     1\n",
       "1           0        449  0.077974     2\n",
       "2           0       1488  0.070607     3\n",
       "3           0       1482  0.055861     4\n",
       "4           0       1483  0.053240     5"
      ]
     },
     "execution_count": 34,
     "metadata": {
      "tags": []
     },
     "output_type": "execute_result"
    }
   ],
   "source": [
    "# Aquí queremos manipular nuestro resultado a una salida csv. Veamos que tenemos\n",
    "df_rec = recom.to_dataframe()\n",
    "print(df_rec.shape)\n",
    "df_rec.head()"
   ]
  },
  {
   "cell_type": "code",
   "execution_count": 0,
   "metadata": {
    "colab": {},
    "colab_type": "code",
    "id": "FTLNhj76xo2c"
   },
   "outputs": [],
   "source": [
    "#df_rec['recommendedProducts'] = df_rec.groupby([user_id])[item_id].transform(lambda x: '|'.join(x.astype(str)))\n",
    "#df_output = df_rec[['customerId', 'recommendedProducts']].drop_duplicates().sort_values('customerId').set_index('customerId')"
   ]
  },
  {
   "cell_type": "code",
   "execution_count": 0,
   "metadata": {
    "colab": {},
    "colab_type": "code",
    "id": "rgMenx3uln6D"
   },
   "outputs": [],
   "source": [
    "# Definamos una función para crear una salida deseada:\n",
    "def create_output(model, users_to_recommend, n_rec, print_csv=True):\n",
    "    recomendation = model.recommend(users=users_to_recommend, k=n_rec)\n",
    "    df_rec = recomendation.to_dataframe()\n",
    "    df_rec['recommendedProducts'] = df_rec.groupby([user_id])[item_id] \\\n",
    "        .transform(lambda x: '|'.join(x.astype(str)))\n",
    "    df_output = df_rec[['customerId', 'recommendedProducts']].drop_duplicates() \\\n",
    "        .sort_values('customerId').set_index('customerId')\n",
    "    if print_csv:\n",
    "        df_output.to_csv('ID_recommendation.csv')\n",
    "        print(\"An output file can be found in 'output' folder with name 'ID_recommendation.csv'\")\n",
    "    return df_output"
   ]
  },
  {
   "cell_type": "code",
   "execution_count": 37,
   "metadata": {
    "colab": {
     "base_uri": "https://localhost:8080/",
     "height": 932
    },
    "colab_type": "code",
    "id": "nZXeRtKXln6M",
    "outputId": "c199bd54-886e-4902-eb24-1d905227163a"
   },
   "outputs": [
    {
     "data": {
      "text/html": [
       "<pre>recommendations finished on 1000/39037 queries. users per second: 38875.7</pre>"
      ],
      "text/plain": [
       "recommendations finished on 1000/39037 queries. users per second: 38875.7"
      ]
     },
     "metadata": {
      "tags": []
     },
     "output_type": "display_data"
    },
    {
     "data": {
      "text/html": [
       "<pre>recommendations finished on 2000/39037 queries. users per second: 41565.4</pre>"
      ],
      "text/plain": [
       "recommendations finished on 2000/39037 queries. users per second: 41565.4"
      ]
     },
     "metadata": {
      "tags": []
     },
     "output_type": "display_data"
    },
    {
     "data": {
      "text/html": [
       "<pre>recommendations finished on 3000/39037 queries. users per second: 43728.6</pre>"
      ],
      "text/plain": [
       "recommendations finished on 3000/39037 queries. users per second: 43728.6"
      ]
     },
     "metadata": {
      "tags": []
     },
     "output_type": "display_data"
    },
    {
     "data": {
      "text/html": [
       "<pre>recommendations finished on 4000/39037 queries. users per second: 44347.4</pre>"
      ],
      "text/plain": [
       "recommendations finished on 4000/39037 queries. users per second: 44347.4"
      ]
     },
     "metadata": {
      "tags": []
     },
     "output_type": "display_data"
    },
    {
     "data": {
      "text/html": [
       "<pre>recommendations finished on 5000/39037 queries. users per second: 45321.1</pre>"
      ],
      "text/plain": [
       "recommendations finished on 5000/39037 queries. users per second: 45321.1"
      ]
     },
     "metadata": {
      "tags": []
     },
     "output_type": "display_data"
    },
    {
     "data": {
      "text/html": [
       "<pre>recommendations finished on 6000/39037 queries. users per second: 45265.3</pre>"
      ],
      "text/plain": [
       "recommendations finished on 6000/39037 queries. users per second: 45265.3"
      ]
     },
     "metadata": {
      "tags": []
     },
     "output_type": "display_data"
    },
    {
     "data": {
      "text/html": [
       "<pre>recommendations finished on 7000/39037 queries. users per second: 45542.7</pre>"
      ],
      "text/plain": [
       "recommendations finished on 7000/39037 queries. users per second: 45542.7"
      ]
     },
     "metadata": {
      "tags": []
     },
     "output_type": "display_data"
    },
    {
     "data": {
      "text/html": [
       "<pre>recommendations finished on 8000/39037 queries. users per second: 45698.4</pre>"
      ],
      "text/plain": [
       "recommendations finished on 8000/39037 queries. users per second: 45698.4"
      ]
     },
     "metadata": {
      "tags": []
     },
     "output_type": "display_data"
    },
    {
     "data": {
      "text/html": [
       "<pre>recommendations finished on 9000/39037 queries. users per second: 45914.4</pre>"
      ],
      "text/plain": [
       "recommendations finished on 9000/39037 queries. users per second: 45914.4"
      ]
     },
     "metadata": {
      "tags": []
     },
     "output_type": "display_data"
    },
    {
     "data": {
      "text/html": [
       "<pre>recommendations finished on 10000/39037 queries. users per second: 46330.4</pre>"
      ],
      "text/plain": [
       "recommendations finished on 10000/39037 queries. users per second: 46330.4"
      ]
     },
     "metadata": {
      "tags": []
     },
     "output_type": "display_data"
    },
    {
     "data": {
      "text/html": [
       "<pre>recommendations finished on 11000/39037 queries. users per second: 46404.3</pre>"
      ],
      "text/plain": [
       "recommendations finished on 11000/39037 queries. users per second: 46404.3"
      ]
     },
     "metadata": {
      "tags": []
     },
     "output_type": "display_data"
    },
    {
     "data": {
      "text/html": [
       "<pre>recommendations finished on 12000/39037 queries. users per second: 46533.8</pre>"
      ],
      "text/plain": [
       "recommendations finished on 12000/39037 queries. users per second: 46533.8"
      ]
     },
     "metadata": {
      "tags": []
     },
     "output_type": "display_data"
    },
    {
     "data": {
      "text/html": [
       "<pre>recommendations finished on 13000/39037 queries. users per second: 46624.9</pre>"
      ],
      "text/plain": [
       "recommendations finished on 13000/39037 queries. users per second: 46624.9"
      ]
     },
     "metadata": {
      "tags": []
     },
     "output_type": "display_data"
    },
    {
     "data": {
      "text/html": [
       "<pre>recommendations finished on 14000/39037 queries. users per second: 46832.8</pre>"
      ],
      "text/plain": [
       "recommendations finished on 14000/39037 queries. users per second: 46832.8"
      ]
     },
     "metadata": {
      "tags": []
     },
     "output_type": "display_data"
    },
    {
     "data": {
      "text/html": [
       "<pre>recommendations finished on 15000/39037 queries. users per second: 45706.1</pre>"
      ],
      "text/plain": [
       "recommendations finished on 15000/39037 queries. users per second: 45706.1"
      ]
     },
     "metadata": {
      "tags": []
     },
     "output_type": "display_data"
    },
    {
     "data": {
      "text/html": [
       "<pre>recommendations finished on 16000/39037 queries. users per second: 45869.1</pre>"
      ],
      "text/plain": [
       "recommendations finished on 16000/39037 queries. users per second: 45869.1"
      ]
     },
     "metadata": {
      "tags": []
     },
     "output_type": "display_data"
    },
    {
     "data": {
      "text/html": [
       "<pre>recommendations finished on 17000/39037 queries. users per second: 45997</pre>"
      ],
      "text/plain": [
       "recommendations finished on 17000/39037 queries. users per second: 45997"
      ]
     },
     "metadata": {
      "tags": []
     },
     "output_type": "display_data"
    },
    {
     "data": {
      "text/html": [
       "<pre>recommendations finished on 18000/39037 queries. users per second: 46172.9</pre>"
      ],
      "text/plain": [
       "recommendations finished on 18000/39037 queries. users per second: 46172.9"
      ]
     },
     "metadata": {
      "tags": []
     },
     "output_type": "display_data"
    },
    {
     "data": {
      "text/html": [
       "<pre>recommendations finished on 19000/39037 queries. users per second: 46181.7</pre>"
      ],
      "text/plain": [
       "recommendations finished on 19000/39037 queries. users per second: 46181.7"
      ]
     },
     "metadata": {
      "tags": []
     },
     "output_type": "display_data"
    },
    {
     "data": {
      "text/html": [
       "<pre>recommendations finished on 20000/39037 queries. users per second: 46278.5</pre>"
      ],
      "text/plain": [
       "recommendations finished on 20000/39037 queries. users per second: 46278.5"
      ]
     },
     "metadata": {
      "tags": []
     },
     "output_type": "display_data"
    },
    {
     "data": {
      "text/html": [
       "<pre>recommendations finished on 21000/39037 queries. users per second: 46448.2</pre>"
      ],
      "text/plain": [
       "recommendations finished on 21000/39037 queries. users per second: 46448.2"
      ]
     },
     "metadata": {
      "tags": []
     },
     "output_type": "display_data"
    },
    {
     "data": {
      "text/html": [
       "<pre>recommendations finished on 22000/39037 queries. users per second: 46424.1</pre>"
      ],
      "text/plain": [
       "recommendations finished on 22000/39037 queries. users per second: 46424.1"
      ]
     },
     "metadata": {
      "tags": []
     },
     "output_type": "display_data"
    },
    {
     "data": {
      "text/html": [
       "<pre>recommendations finished on 23000/39037 queries. users per second: 46478.6</pre>"
      ],
      "text/plain": [
       "recommendations finished on 23000/39037 queries. users per second: 46478.6"
      ]
     },
     "metadata": {
      "tags": []
     },
     "output_type": "display_data"
    },
    {
     "data": {
      "text/html": [
       "<pre>recommendations finished on 24000/39037 queries. users per second: 46481.4</pre>"
      ],
      "text/plain": [
       "recommendations finished on 24000/39037 queries. users per second: 46481.4"
      ]
     },
     "metadata": {
      "tags": []
     },
     "output_type": "display_data"
    },
    {
     "data": {
      "text/html": [
       "<pre>recommendations finished on 25000/39037 queries. users per second: 46238.1</pre>"
      ],
      "text/plain": [
       "recommendations finished on 25000/39037 queries. users per second: 46238.1"
      ]
     },
     "metadata": {
      "tags": []
     },
     "output_type": "display_data"
    },
    {
     "data": {
      "text/html": [
       "<pre>recommendations finished on 26000/39037 queries. users per second: 46332.6</pre>"
      ],
      "text/plain": [
       "recommendations finished on 26000/39037 queries. users per second: 46332.6"
      ]
     },
     "metadata": {
      "tags": []
     },
     "output_type": "display_data"
    },
    {
     "data": {
      "text/html": [
       "<pre>recommendations finished on 27000/39037 queries. users per second: 46461.2</pre>"
      ],
      "text/plain": [
       "recommendations finished on 27000/39037 queries. users per second: 46461.2"
      ]
     },
     "metadata": {
      "tags": []
     },
     "output_type": "display_data"
    },
    {
     "data": {
      "text/html": [
       "<pre>recommendations finished on 28000/39037 queries. users per second: 46501</pre>"
      ],
      "text/plain": [
       "recommendations finished on 28000/39037 queries. users per second: 46501"
      ]
     },
     "metadata": {
      "tags": []
     },
     "output_type": "display_data"
    },
    {
     "data": {
      "text/html": [
       "<pre>recommendations finished on 29000/39037 queries. users per second: 46416.8</pre>"
      ],
      "text/plain": [
       "recommendations finished on 29000/39037 queries. users per second: 46416.8"
      ]
     },
     "metadata": {
      "tags": []
     },
     "output_type": "display_data"
    },
    {
     "data": {
      "text/html": [
       "<pre>recommendations finished on 30000/39037 queries. users per second: 46225.7</pre>"
      ],
      "text/plain": [
       "recommendations finished on 30000/39037 queries. users per second: 46225.7"
      ]
     },
     "metadata": {
      "tags": []
     },
     "output_type": "display_data"
    },
    {
     "data": {
      "text/html": [
       "<pre>recommendations finished on 31000/39037 queries. users per second: 46358.7</pre>"
      ],
      "text/plain": [
       "recommendations finished on 31000/39037 queries. users per second: 46358.7"
      ]
     },
     "metadata": {
      "tags": []
     },
     "output_type": "display_data"
    },
    {
     "data": {
      "text/html": [
       "<pre>recommendations finished on 32000/39037 queries. users per second: 46407.7</pre>"
      ],
      "text/plain": [
       "recommendations finished on 32000/39037 queries. users per second: 46407.7"
      ]
     },
     "metadata": {
      "tags": []
     },
     "output_type": "display_data"
    },
    {
     "data": {
      "text/html": [
       "<pre>recommendations finished on 33000/39037 queries. users per second: 46446.8</pre>"
      ],
      "text/plain": [
       "recommendations finished on 33000/39037 queries. users per second: 46446.8"
      ]
     },
     "metadata": {
      "tags": []
     },
     "output_type": "display_data"
    },
    {
     "data": {
      "text/html": [
       "<pre>recommendations finished on 34000/39037 queries. users per second: 46185</pre>"
      ],
      "text/plain": [
       "recommendations finished on 34000/39037 queries. users per second: 46185"
      ]
     },
     "metadata": {
      "tags": []
     },
     "output_type": "display_data"
    },
    {
     "data": {
      "text/html": [
       "<pre>recommendations finished on 35000/39037 queries. users per second: 46252.4</pre>"
      ],
      "text/plain": [
       "recommendations finished on 35000/39037 queries. users per second: 46252.4"
      ]
     },
     "metadata": {
      "tags": []
     },
     "output_type": "display_data"
    },
    {
     "data": {
      "text/html": [
       "<pre>recommendations finished on 36000/39037 queries. users per second: 46120.8</pre>"
      ],
      "text/plain": [
       "recommendations finished on 36000/39037 queries. users per second: 46120.8"
      ]
     },
     "metadata": {
      "tags": []
     },
     "output_type": "display_data"
    },
    {
     "data": {
      "text/html": [
       "<pre>recommendations finished on 37000/39037 queries. users per second: 45974.8</pre>"
      ],
      "text/plain": [
       "recommendations finished on 37000/39037 queries. users per second: 45974.8"
      ]
     },
     "metadata": {
      "tags": []
     },
     "output_type": "display_data"
    },
    {
     "data": {
      "text/html": [
       "<pre>recommendations finished on 38000/39037 queries. users per second: 45817.1</pre>"
      ],
      "text/plain": [
       "recommendations finished on 38000/39037 queries. users per second: 45817.1"
      ]
     },
     "metadata": {
      "tags": []
     },
     "output_type": "display_data"
    },
    {
     "data": {
      "text/html": [
       "<pre>recommendations finished on 39000/39037 queries. users per second: 45743.5</pre>"
      ],
      "text/plain": [
       "recommendations finished on 39000/39037 queries. users per second: 45743.5"
      ]
     },
     "metadata": {
      "tags": []
     },
     "output_type": "display_data"
    },
    {
     "name": "stdout",
     "output_type": "stream",
     "text": [
      "An output file can be found in 'output' folder with name 'ID_recommendation.csv'\n",
      "(39037, 1)\n"
     ]
    },
    {
     "data": {
      "text/html": [
       "<div>\n",
       "<style scoped>\n",
       "    .dataframe tbody tr th:only-of-type {\n",
       "        vertical-align: middle;\n",
       "    }\n",
       "\n",
       "    .dataframe tbody tr th {\n",
       "        vertical-align: top;\n",
       "    }\n",
       "\n",
       "    .dataframe thead th {\n",
       "        text-align: right;\n",
       "    }\n",
       "</style>\n",
       "<table border=\"1\" class=\"dataframe\">\n",
       "  <thead>\n",
       "    <tr style=\"text-align: right;\">\n",
       "      <th></th>\n",
       "      <th>recommendedProducts</th>\n",
       "    </tr>\n",
       "    <tr>\n",
       "      <th>customerId</th>\n",
       "      <th></th>\n",
       "    </tr>\n",
       "  </thead>\n",
       "  <tbody>\n",
       "    <tr>\n",
       "      <th>0</th>\n",
       "      <td>2705|2766|2505|2710|1316|923|1500|1324|2250|1507</td>\n",
       "    </tr>\n",
       "    <tr>\n",
       "      <th>2</th>\n",
       "      <td>2705|2766|2505|2710|1316|923|1500|1324|1317|2250</td>\n",
       "    </tr>\n",
       "    <tr>\n",
       "      <th>5</th>\n",
       "      <td>2705|2766|2505|2710|1316|923|1500|1324|1317|2250</td>\n",
       "    </tr>\n",
       "    <tr>\n",
       "      <th>6</th>\n",
       "      <td>2705|2766|2505|2710|1316|923|1500|1324|1317|2250</td>\n",
       "    </tr>\n",
       "    <tr>\n",
       "      <th>7</th>\n",
       "      <td>2705|2766|2505|2710|1316|923|1500|1324|2250|1507</td>\n",
       "    </tr>\n",
       "  </tbody>\n",
       "</table>\n",
       "</div>"
      ],
      "text/plain": [
       "                                         recommendedProducts\n",
       "customerId                                                  \n",
       "0           2705|2766|2505|2710|1316|923|1500|1324|2250|1507\n",
       "2           2705|2766|2505|2710|1316|923|1500|1324|1317|2250\n",
       "5           2705|2766|2505|2710|1316|923|1500|1324|1317|2250\n",
       "6           2705|2766|2505|2710|1316|923|1500|1324|1317|2250\n",
       "7           2705|2766|2505|2710|1316|923|1500|1324|2250|1507"
      ]
     },
     "execution_count": 37,
     "metadata": {
      "tags": []
     },
     "output_type": "execute_result"
    }
   ],
   "source": [
    "# Vamos a imprimir el resultado a continuación y setprint_csv a verdadero, de esta manera podríamos literalmente imprimir\n",
    "# nuestro archivo de salida en csv, que también puede encontrar aquí.\n",
    "df_output = create_output(pear_norm, users_to_recommend, n_rec, print_csv=True)\n",
    "print(df_output.shape)\n",
    "df_output.head()"
   ]
  },
  {
   "cell_type": "markdown",
   "metadata": {
    "colab_type": "text",
    "id": "VIyBF0dOln6W"
   },
   "source": [
    "## 9.2. Función de recomendación del cliente"
   ]
  },
  {
   "cell_type": "code",
   "execution_count": 0,
   "metadata": {
    "colab": {},
    "colab_type": "code",
    "id": "kfstQg1hln6Z"
   },
   "outputs": [],
   "source": [
    "# Definamos una función que devolverá la lista de recomendaciones con un ID de cliente:\n",
    "def customer_recomendation(user_id):\n",
    "    if user_id not in df_output.index:\n",
    "        print('Customer not found.')\n",
    "        return user_id\n",
    "    return df_output.loc[user_id]"
   ]
  },
  {
   "cell_type": "code",
   "execution_count": 39,
   "metadata": {
    "colab": {
     "base_uri": "https://localhost:8080/",
     "height": 51
    },
    "colab_type": "code",
    "id": "89hVie42ln6h",
    "outputId": "5975eab4-1a79-4a77-d154-4b6a0063261d"
   },
   "outputs": [
    {
     "data": {
      "text/plain": [
       "recommendedProducts    2705|2766|2505|2710|1316|923|1500|1324|1317|2250\n",
       "Name: 2, dtype: object"
      ]
     },
     "execution_count": 39,
     "metadata": {
      "tags": []
     },
     "output_type": "execute_result"
    }
   ],
   "source": [
    "# a modo de ejemplo:\n",
    "customer_recomendation(2)"
   ]
  },
  {
   "cell_type": "code",
   "execution_count": 40,
   "metadata": {
    "colab": {
     "base_uri": "https://localhost:8080/",
     "height": 51
    },
    "colab_type": "code",
    "id": "3wcpyp72ln6p",
    "outputId": "7d18cd86-20a0-4198-b31b-266a5af74053"
   },
   "outputs": [
    {
     "data": {
      "text/plain": [
       "recommendedProducts    2705|2766|2505|2710|1316|923|1500|1324|1317|2250\n",
       "Name: 534, dtype: object"
      ]
     },
     "execution_count": 40,
     "metadata": {
      "tags": []
     },
     "output_type": "execute_result"
    }
   ],
   "source": [
    "customer_recomendation(534)"
   ]
  },
  {
   "cell_type": "code",
   "execution_count": 41,
   "metadata": {
    "colab": {
     "base_uri": "https://localhost:8080/",
     "height": 51
    },
    "colab_type": "code",
    "id": "A4zxSMekxo3R",
    "outputId": "cfa4e8af-234d-4518-e22f-2aa1497985df"
   },
   "outputs": [
    {
     "data": {
      "text/plain": [
       "recommendedProducts    2705|2766|2505|2710|1316|923|1500|1324|2250|1507\n",
       "Name: 0, dtype: object"
      ]
     },
     "execution_count": 41,
     "metadata": {
      "tags": []
     },
     "output_type": "execute_result"
    }
   ],
   "source": [
    "customer_recomendation(0)"
   ]
  },
  {
   "cell_type": "code",
   "execution_count": 42,
   "metadata": {
    "colab": {
     "base_uri": "https://localhost:8080/",
     "height": 51
    },
    "colab_type": "code",
    "id": "p2DbsKadxo3Y",
    "outputId": "5e04468c-c937-4d6b-82be-9ad6faad1e3f"
   },
   "outputs": [
    {
     "data": {
      "text/plain": [
       "recommendedProducts    2705|2766|2505|2710|1316|923|1500|1324|1317|2250\n",
       "Name: 2737, dtype: object"
      ]
     },
     "execution_count": 42,
     "metadata": {
      "tags": []
     },
     "output_type": "execute_result"
    }
   ],
   "source": [
    "customer_recomendation(2737)"
   ]
  },
  {
   "cell_type": "code",
   "execution_count": 43,
   "metadata": {
    "colab": {
     "base_uri": "https://localhost:8080/",
     "height": 51
    },
    "colab_type": "code",
    "id": "ON0e4ArCxo3l",
    "outputId": "a63a2191-34b7-4e2b-d439-91d482ed2663"
   },
   "outputs": [
    {
     "data": {
      "text/plain": [
       "recommendedProducts    2705|2766|2505|2710|1316|923|1500|1324|1317|2250\n",
       "Name: 53870, dtype: object"
      ]
     },
     "execution_count": 43,
     "metadata": {
      "tags": []
     },
     "output_type": "execute_result"
    }
   ],
   "source": [
    "customer_recomendation(53870)"
   ]
  }
 ],
 "metadata": {
  "colab": {
   "name": "Turicreate_Recomendaciones_para_Tienda_Pippo_ID.ipynb",
   "provenance": [],
   "toc_visible": true,
   "version": "0.3.2"
  },
  "kernelspec": {
   "display_name": "Python 3",
   "language": "python",
   "name": "python3"
  },
  "language_info": {
   "codemirror_mode": {
    "name": "ipython",
    "version": 3
   },
   "file_extension": ".py",
   "mimetype": "text/x-python",
   "name": "python",
   "nbconvert_exporter": "python",
   "pygments_lexer": "ipython3",
   "version": "3.7.4"
  }
 },
 "nbformat": 4,
 "nbformat_minor": 1
}
